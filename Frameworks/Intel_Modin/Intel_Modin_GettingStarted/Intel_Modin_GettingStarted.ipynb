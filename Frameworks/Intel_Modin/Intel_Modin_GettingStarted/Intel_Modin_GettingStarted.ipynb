{
 "cells": [
  {
   "cell_type": "code",
   "execution_count": 1,
   "metadata": {},
   "outputs": [],
   "source": [
    "# =============================================================\n",
    "# Copyright © 2020 Intel Corporation\n",
    "# \n",
    "# SPDX-License-Identifier: MIT\n",
    "# ============================================================="
   ]
  },
  {
   "cell_type": "markdown",
   "metadata": {},
   "source": [
    "# Modin Getting Started Example for Distributed Pandas"
   ]
  },
  {
   "cell_type": "markdown",
   "metadata": {},
   "source": [
    "## Importing and Organizing Data"
   ]
  },
  {
   "cell_type": "markdown",
   "metadata": {},
   "source": [
    "In this example we will be generating a **synthetic dataset** and **demonstrating stock Pandas operations running with Modin**.\n",
    "\n",
    "Let's start by **importing** all the necessary packages and modules"
   ]
  },
  {
   "cell_type": "code",
   "execution_count": 2,
   "metadata": {},
   "outputs": [],
   "source": [
    "import numpy as np\n",
    "import matplotlib.pyplot as plt\n",
    "import time"
   ]
  },
  {
   "cell_type": "markdown",
   "metadata": {},
   "source": [
    "## How to Use Modin"
   ]
  },
  {
   "cell_type": "markdown",
   "metadata": {},
   "source": [
    "We will also be importing **stock Pandas as pd** and **Modin as mpd to show differentiation**. You can see importing Modin is simple and **does not require any additional steps.**"
   ]
  },
  {
   "cell_type": "code",
   "execution_count": 3,
   "metadata": {},
   "outputs": [],
   "source": [
    "import pandas"
   ]
  },
  {
   "cell_type": "code",
   "execution_count": 4,
   "metadata": {},
   "outputs": [],
   "source": [
    "import modin.pandas as pd"
   ]
  },
  {
   "cell_type": "markdown",
   "metadata": {},
   "source": [
    "We will now **generate a synthetic dataset** using NumPy to use with Modin and save it to a CSV."
   ]
  },
  {
   "cell_type": "code",
   "execution_count": 5,
   "metadata": {},
   "outputs": [],
   "source": [
    "array=np.random.randint(low=100,high=10000,size=(2**18,2**8))\n",
    "#array\n",
    "np.savetxt(\"foo.csv\", array, delimiter=\",\") #how to generate array"
   ]
  },
  {
   "cell_type": "markdown",
   "metadata": {},
   "source": [
    "Now we will convert the ndarray into a Pandas dataframe and display the first five rows.\n",
    "For **stock pandas, the dataframe is being stored as `pandas_df`** and for **Modin, the same dataframe is being stored as `modin_df`**.\n",
    "Let's try running the following cell with Pandas first."
   ]
  },
  {
   "cell_type": "code",
   "execution_count": 6,
   "metadata": {},
   "outputs": [
    {
     "name": "stdout",
     "output_type": "stream",
     "text": [
      "CPU times: user 20.8 s, sys: 2.37 s, total: 23.1 s\n",
      "Wall time: 41.3 s\n"
     ]
    },
    {
     "data": {
      "text/html": [
       "<div>\n",
       "<style scoped>\n",
       "    .dataframe tbody tr th:only-of-type {\n",
       "        vertical-align: middle;\n",
       "    }\n",
       "\n",
       "    .dataframe tbody tr th {\n",
       "        vertical-align: top;\n",
       "    }\n",
       "\n",
       "    .dataframe thead th {\n",
       "        text-align: right;\n",
       "    }\n",
       "</style>\n",
       "<table border=\"1\" class=\"dataframe\">\n",
       "  <thead>\n",
       "    <tr style=\"text-align: right;\">\n",
       "      <th></th>\n",
       "      <th>col0</th>\n",
       "      <th>col1</th>\n",
       "      <th>col2</th>\n",
       "      <th>col3</th>\n",
       "      <th>col4</th>\n",
       "      <th>col5</th>\n",
       "      <th>col6</th>\n",
       "      <th>col7</th>\n",
       "      <th>col8</th>\n",
       "      <th>col9</th>\n",
       "      <th>...</th>\n",
       "      <th>col246</th>\n",
       "      <th>col247</th>\n",
       "      <th>col248</th>\n",
       "      <th>col249</th>\n",
       "      <th>col250</th>\n",
       "      <th>col251</th>\n",
       "      <th>col252</th>\n",
       "      <th>col253</th>\n",
       "      <th>col254</th>\n",
       "      <th>col255</th>\n",
       "    </tr>\n",
       "  </thead>\n",
       "  <tbody>\n",
       "    <tr>\n",
       "      <th>0</th>\n",
       "      <td>6345.0</td>\n",
       "      <td>2081.0</td>\n",
       "      <td>7921.0</td>\n",
       "      <td>9496.0</td>\n",
       "      <td>6608.0</td>\n",
       "      <td>559.0</td>\n",
       "      <td>4217.0</td>\n",
       "      <td>5153.0</td>\n",
       "      <td>1586.0</td>\n",
       "      <td>4832.0</td>\n",
       "      <td>...</td>\n",
       "      <td>9964.0</td>\n",
       "      <td>7510.0</td>\n",
       "      <td>2537.0</td>\n",
       "      <td>3299.0</td>\n",
       "      <td>3707.0</td>\n",
       "      <td>8463.0</td>\n",
       "      <td>1804.0</td>\n",
       "      <td>6827.0</td>\n",
       "      <td>4438.0</td>\n",
       "      <td>5561.0</td>\n",
       "    </tr>\n",
       "    <tr>\n",
       "      <th>1</th>\n",
       "      <td>5096.0</td>\n",
       "      <td>6083.0</td>\n",
       "      <td>4583.0</td>\n",
       "      <td>5166.0</td>\n",
       "      <td>9979.0</td>\n",
       "      <td>1764.0</td>\n",
       "      <td>3488.0</td>\n",
       "      <td>6638.0</td>\n",
       "      <td>7839.0</td>\n",
       "      <td>1835.0</td>\n",
       "      <td>...</td>\n",
       "      <td>9282.0</td>\n",
       "      <td>3421.0</td>\n",
       "      <td>1357.0</td>\n",
       "      <td>5794.0</td>\n",
       "      <td>9747.0</td>\n",
       "      <td>7943.0</td>\n",
       "      <td>5627.0</td>\n",
       "      <td>7367.0</td>\n",
       "      <td>4484.0</td>\n",
       "      <td>3229.0</td>\n",
       "    </tr>\n",
       "    <tr>\n",
       "      <th>2</th>\n",
       "      <td>830.0</td>\n",
       "      <td>8249.0</td>\n",
       "      <td>8147.0</td>\n",
       "      <td>4841.0</td>\n",
       "      <td>3653.0</td>\n",
       "      <td>8775.0</td>\n",
       "      <td>8487.0</td>\n",
       "      <td>1520.0</td>\n",
       "      <td>3859.0</td>\n",
       "      <td>6732.0</td>\n",
       "      <td>...</td>\n",
       "      <td>5292.0</td>\n",
       "      <td>6504.0</td>\n",
       "      <td>9121.0</td>\n",
       "      <td>486.0</td>\n",
       "      <td>3346.0</td>\n",
       "      <td>1295.0</td>\n",
       "      <td>2356.0</td>\n",
       "      <td>2050.0</td>\n",
       "      <td>5128.0</td>\n",
       "      <td>7205.0</td>\n",
       "    </tr>\n",
       "    <tr>\n",
       "      <th>3</th>\n",
       "      <td>1664.0</td>\n",
       "      <td>8191.0</td>\n",
       "      <td>4497.0</td>\n",
       "      <td>1681.0</td>\n",
       "      <td>2603.0</td>\n",
       "      <td>5248.0</td>\n",
       "      <td>3423.0</td>\n",
       "      <td>2455.0</td>\n",
       "      <td>627.0</td>\n",
       "      <td>4653.0</td>\n",
       "      <td>...</td>\n",
       "      <td>4429.0</td>\n",
       "      <td>9200.0</td>\n",
       "      <td>6623.0</td>\n",
       "      <td>3711.0</td>\n",
       "      <td>9459.0</td>\n",
       "      <td>6626.0</td>\n",
       "      <td>8430.0</td>\n",
       "      <td>1501.0</td>\n",
       "      <td>5156.0</td>\n",
       "      <td>2010.0</td>\n",
       "    </tr>\n",
       "    <tr>\n",
       "      <th>4</th>\n",
       "      <td>9123.0</td>\n",
       "      <td>7135.0</td>\n",
       "      <td>7103.0</td>\n",
       "      <td>6864.0</td>\n",
       "      <td>6241.0</td>\n",
       "      <td>1218.0</td>\n",
       "      <td>5124.0</td>\n",
       "      <td>3380.0</td>\n",
       "      <td>8765.0</td>\n",
       "      <td>8670.0</td>\n",
       "      <td>...</td>\n",
       "      <td>8698.0</td>\n",
       "      <td>2234.0</td>\n",
       "      <td>3907.0</td>\n",
       "      <td>6643.0</td>\n",
       "      <td>7001.0</td>\n",
       "      <td>3130.0</td>\n",
       "      <td>2898.0</td>\n",
       "      <td>5262.0</td>\n",
       "      <td>6068.0</td>\n",
       "      <td>1108.0</td>\n",
       "    </tr>\n",
       "  </tbody>\n",
       "</table>\n",
       "<p>5 rows × 256 columns</p>\n",
       "</div>"
      ],
      "text/plain": [
       "     col0    col1    col2    col3    col4    col5    col6    col7    col8  \\\n",
       "0  6345.0  2081.0  7921.0  9496.0  6608.0   559.0  4217.0  5153.0  1586.0   \n",
       "1  5096.0  6083.0  4583.0  5166.0  9979.0  1764.0  3488.0  6638.0  7839.0   \n",
       "2   830.0  8249.0  8147.0  4841.0  3653.0  8775.0  8487.0  1520.0  3859.0   \n",
       "3  1664.0  8191.0  4497.0  1681.0  2603.0  5248.0  3423.0  2455.0   627.0   \n",
       "4  9123.0  7135.0  7103.0  6864.0  6241.0  1218.0  5124.0  3380.0  8765.0   \n",
       "\n",
       "     col9  ...  col246  col247  col248  col249  col250  col251  col252  \\\n",
       "0  4832.0  ...  9964.0  7510.0  2537.0  3299.0  3707.0  8463.0  1804.0   \n",
       "1  1835.0  ...  9282.0  3421.0  1357.0  5794.0  9747.0  7943.0  5627.0   \n",
       "2  6732.0  ...  5292.0  6504.0  9121.0   486.0  3346.0  1295.0  2356.0   \n",
       "3  4653.0  ...  4429.0  9200.0  6623.0  3711.0  9459.0  6626.0  8430.0   \n",
       "4  8670.0  ...  8698.0  2234.0  3907.0  6643.0  7001.0  3130.0  2898.0   \n",
       "\n",
       "   col253  col254  col255  \n",
       "0  6827.0  4438.0  5561.0  \n",
       "1  7367.0  4484.0  3229.0  \n",
       "2  2050.0  5128.0  7205.0  \n",
       "3  1501.0  5156.0  2010.0  \n",
       "4  5262.0  6068.0  1108.0  \n",
       "\n",
       "[5 rows x 256 columns]"
      ]
     },
     "execution_count": 6,
     "metadata": {},
     "output_type": "execute_result"
    }
   ],
   "source": [
    "%%time\n",
    "pandas_df = pandas.read_csv(\"foo.csv\", names=[\"col{}\".format(i) for i in range(256)])\n",
    "pandas_df.head()"
   ]
  },
  {
   "cell_type": "markdown",
   "metadata": {},
   "source": [
    "Now let's run the same code, but use **Modin instead of stock Pandas.**\n",
    "\n",
    "**Note the speedup!**"
   ]
  },
  {
   "cell_type": "code",
   "execution_count": 7,
   "metadata": {},
   "outputs": [
    {
     "name": "stdout",
     "output_type": "stream",
     "text": [
      "CPU times: user 1.18 s, sys: 561 ms, total: 1.74 s\n",
      "Wall time: 1.7 s\n"
     ]
    },
    {
     "data": {
      "text/html": [
       "<div>\n",
       "<style scoped>\n",
       "    .dataframe tbody tr th:only-of-type {\n",
       "        vertical-align: middle;\n",
       "    }\n",
       "\n",
       "    .dataframe tbody tr th {\n",
       "        vertical-align: top;\n",
       "    }\n",
       "\n",
       "    .dataframe thead th {\n",
       "        text-align: right;\n",
       "    }\n",
       "</style>\n",
       "<table border=\"1\" class=\"dataframe\">\n",
       "  <thead>\n",
       "    <tr style=\"text-align: right;\">\n",
       "      <th></th>\n",
       "      <th>col0</th>\n",
       "      <th>col1</th>\n",
       "      <th>col2</th>\n",
       "      <th>col3</th>\n",
       "      <th>col4</th>\n",
       "      <th>col5</th>\n",
       "      <th>col6</th>\n",
       "      <th>col7</th>\n",
       "      <th>col8</th>\n",
       "      <th>col9</th>\n",
       "      <th>...</th>\n",
       "      <th>col246</th>\n",
       "      <th>col247</th>\n",
       "      <th>col248</th>\n",
       "      <th>col249</th>\n",
       "      <th>col250</th>\n",
       "      <th>col251</th>\n",
       "      <th>col252</th>\n",
       "      <th>col253</th>\n",
       "      <th>col254</th>\n",
       "      <th>col255</th>\n",
       "    </tr>\n",
       "  </thead>\n",
       "  <tbody>\n",
       "    <tr>\n",
       "      <th>0</th>\n",
       "      <td>6345.0</td>\n",
       "      <td>2081.0</td>\n",
       "      <td>7921.0</td>\n",
       "      <td>9496.0</td>\n",
       "      <td>6608.0</td>\n",
       "      <td>559.0</td>\n",
       "      <td>4217.0</td>\n",
       "      <td>5153.0</td>\n",
       "      <td>1586.0</td>\n",
       "      <td>4832.0</td>\n",
       "      <td>...</td>\n",
       "      <td>9964.0</td>\n",
       "      <td>7510.0</td>\n",
       "      <td>2537.0</td>\n",
       "      <td>3299.0</td>\n",
       "      <td>3707.0</td>\n",
       "      <td>8463.0</td>\n",
       "      <td>1804.0</td>\n",
       "      <td>6827.0</td>\n",
       "      <td>4438.0</td>\n",
       "      <td>5561.0</td>\n",
       "    </tr>\n",
       "    <tr>\n",
       "      <th>1</th>\n",
       "      <td>5096.0</td>\n",
       "      <td>6083.0</td>\n",
       "      <td>4583.0</td>\n",
       "      <td>5166.0</td>\n",
       "      <td>9979.0</td>\n",
       "      <td>1764.0</td>\n",
       "      <td>3488.0</td>\n",
       "      <td>6638.0</td>\n",
       "      <td>7839.0</td>\n",
       "      <td>1835.0</td>\n",
       "      <td>...</td>\n",
       "      <td>9282.0</td>\n",
       "      <td>3421.0</td>\n",
       "      <td>1357.0</td>\n",
       "      <td>5794.0</td>\n",
       "      <td>9747.0</td>\n",
       "      <td>7943.0</td>\n",
       "      <td>5627.0</td>\n",
       "      <td>7367.0</td>\n",
       "      <td>4484.0</td>\n",
       "      <td>3229.0</td>\n",
       "    </tr>\n",
       "    <tr>\n",
       "      <th>2</th>\n",
       "      <td>830.0</td>\n",
       "      <td>8249.0</td>\n",
       "      <td>8147.0</td>\n",
       "      <td>4841.0</td>\n",
       "      <td>3653.0</td>\n",
       "      <td>8775.0</td>\n",
       "      <td>8487.0</td>\n",
       "      <td>1520.0</td>\n",
       "      <td>3859.0</td>\n",
       "      <td>6732.0</td>\n",
       "      <td>...</td>\n",
       "      <td>5292.0</td>\n",
       "      <td>6504.0</td>\n",
       "      <td>9121.0</td>\n",
       "      <td>486.0</td>\n",
       "      <td>3346.0</td>\n",
       "      <td>1295.0</td>\n",
       "      <td>2356.0</td>\n",
       "      <td>2050.0</td>\n",
       "      <td>5128.0</td>\n",
       "      <td>7205.0</td>\n",
       "    </tr>\n",
       "    <tr>\n",
       "      <th>3</th>\n",
       "      <td>1664.0</td>\n",
       "      <td>8191.0</td>\n",
       "      <td>4497.0</td>\n",
       "      <td>1681.0</td>\n",
       "      <td>2603.0</td>\n",
       "      <td>5248.0</td>\n",
       "      <td>3423.0</td>\n",
       "      <td>2455.0</td>\n",
       "      <td>627.0</td>\n",
       "      <td>4653.0</td>\n",
       "      <td>...</td>\n",
       "      <td>4429.0</td>\n",
       "      <td>9200.0</td>\n",
       "      <td>6623.0</td>\n",
       "      <td>3711.0</td>\n",
       "      <td>9459.0</td>\n",
       "      <td>6626.0</td>\n",
       "      <td>8430.0</td>\n",
       "      <td>1501.0</td>\n",
       "      <td>5156.0</td>\n",
       "      <td>2010.0</td>\n",
       "    </tr>\n",
       "    <tr>\n",
       "      <th>4</th>\n",
       "      <td>9123.0</td>\n",
       "      <td>7135.0</td>\n",
       "      <td>7103.0</td>\n",
       "      <td>6864.0</td>\n",
       "      <td>6241.0</td>\n",
       "      <td>1218.0</td>\n",
       "      <td>5124.0</td>\n",
       "      <td>3380.0</td>\n",
       "      <td>8765.0</td>\n",
       "      <td>8670.0</td>\n",
       "      <td>...</td>\n",
       "      <td>8698.0</td>\n",
       "      <td>2234.0</td>\n",
       "      <td>3907.0</td>\n",
       "      <td>6643.0</td>\n",
       "      <td>7001.0</td>\n",
       "      <td>3130.0</td>\n",
       "      <td>2898.0</td>\n",
       "      <td>5262.0</td>\n",
       "      <td>6068.0</td>\n",
       "      <td>1108.0</td>\n",
       "    </tr>\n",
       "  </tbody>\n",
       "</table>\n",
       "<p>5 rows x 256 columns</p>\n",
       "</div>"
      ],
      "text/plain": [
       "     col0    col1    col2    col3    col4    col5    col6    col7    col8  \\\n",
       "0  6345.0  2081.0  7921.0  9496.0  6608.0   559.0  4217.0  5153.0  1586.0   \n",
       "1  5096.0  6083.0  4583.0  5166.0  9979.0  1764.0  3488.0  6638.0  7839.0   \n",
       "2   830.0  8249.0  8147.0  4841.0  3653.0  8775.0  8487.0  1520.0  3859.0   \n",
       "3  1664.0  8191.0  4497.0  1681.0  2603.0  5248.0  3423.0  2455.0   627.0   \n",
       "4  9123.0  7135.0  7103.0  6864.0  6241.0  1218.0  5124.0  3380.0  8765.0   \n",
       "\n",
       "     col9  ...  col246  col247  col248  col249  col250  col251  col252  \\\n",
       "0  4832.0  ...  9964.0  7510.0  2537.0  3299.0  3707.0  8463.0  1804.0   \n",
       "1  1835.0  ...  9282.0  3421.0  1357.0  5794.0  9747.0  7943.0  5627.0   \n",
       "2  6732.0  ...  5292.0  6504.0  9121.0   486.0  3346.0  1295.0  2356.0   \n",
       "3  4653.0  ...  4429.0  9200.0  6623.0  3711.0  9459.0  6626.0  8430.0   \n",
       "4  8670.0  ...  8698.0  2234.0  3907.0  6643.0  7001.0  3130.0  2898.0   \n",
       "\n",
       "   col253  col254  col255  \n",
       "0  6827.0  4438.0  5561.0  \n",
       "1  7367.0  4484.0  3229.0  \n",
       "2  2050.0  5128.0  7205.0  \n",
       "3  1501.0  5156.0  2010.0  \n",
       "4  5262.0  6068.0  1108.0  \n",
       "\n",
       "[5 rows x 256 columns]"
      ]
     },
     "execution_count": 7,
     "metadata": {},
     "output_type": "execute_result"
    }
   ],
   "source": [
    "%%time\n",
    "modin_df=pd.read_csv(\"foo.csv\", names=[\"col{}\".format(i) for i in range(256)])\n",
    "modin_df.head()"
   ]
  },
  {
   "cell_type": "markdown",
   "metadata": {},
   "source": [
    "Let's now **visualize** this speedup from Modin with a plot!"
   ]
  },
  {
   "cell_type": "code",
   "execution_count": 8,
   "metadata": {},
   "outputs": [],
   "source": [
    "def plotter(outputdict):\n",
    "    fig = plt.figure(figsize = (10, 5)) \n",
    "    plt.bar(outputdict.keys(),outputdict.values(),color='blue',width=0.4)\n",
    "    plt.xlabel(\"Python Package\")\n",
    "    plt.ylabel(\"Runtime(seconds)\")\n",
    "    plt.show()"
   ]
  },
  {
   "cell_type": "code",
   "execution_count": 9,
   "metadata": {
    "scrolled": true
   },
   "outputs": [
    {
     "name": "stdout",
     "output_type": "stream",
     "text": [
      "Pandas Time(seconds): 14.217443943023682 \n",
      "Modin Time(seconds): 1.6227927207946777\n"
     ]
    },
    {
     "data": {
      "image/png": "[encoded data removed]",
      "text/plain": [
       "<Figure size 720x360 with 1 Axes>"
      ]
     },
     "metadata": {
      "needs_background": "light"
     },
     "output_type": "display_data"
    }
   ],
   "source": [
    "t0 = time.time()\n",
    "pandas_df = pandas.read_csv(\"foo.csv\", names=[\"col{}\".format(i) for i in range(256)])\n",
    "pandas_time = time.time()- t0\n",
    "\n",
    "t1 = time.time()\n",
    "modin_df = pd.read_csv(\"foo.csv\", names=[\"col{}\".format(i) for i in range(256)])\n",
    "modin_time = time.time() - t1\n",
    "\n",
    "print(\"Pandas Time(seconds):\",pandas_time,\"\\nModin Time(seconds):\",modin_time)\n",
    "outputDict={\"Pandas\":pandas_time,\"Modin\":modin_time}\n",
    "plotter(outputDict)"
   ]
  },
  {
   "cell_type": "markdown",
   "metadata": {},
   "source": [
    "## Other DataFrame Function Performance Example\n",
    "We will now show the speedup in performance from Modin compared to stock Pandas with a few common functions.\n",
    "\n",
    "Like before, **`pandas_df` is for  stock Pandas**, **`modin_df` is for Modin**."
   ]
  },
  {
   "cell_type": "markdown",
   "metadata": {},
   "source": [
    "### `df.mean()`"
   ]
  },
  {
   "cell_type": "code",
   "execution_count": 10,
   "metadata": {},
   "outputs": [
    {
     "name": "stdout",
     "output_type": "stream",
     "text": [
      " stock Pandas wall time for completion in seconds: 0.9837145805358887\n"
     ]
    }
   ],
   "source": [
    "# Mean\n",
    "t2 = time.time()\n",
    "pandas_df.mean(axis=0)\n",
    "pandas_time=time.time()- t2\n",
    "print(\" stock Pandas wall time for completion in seconds:\",pandas_time)"
   ]
  },
  {
   "cell_type": "code",
   "execution_count": 11,
   "metadata": {
    "scrolled": true
   },
   "outputs": [
    {
     "name": "stdout",
     "output_type": "stream",
     "text": [
      "Modin wall time for completion in seconds: 0.7385618686676025\n"
     ]
    }
   ],
   "source": [
    "# Mean\n",
    "t3 = time.time()\n",
    "modin_df.mean(axis=0)\n",
    "modin_time=time.time()- t3\n",
    "print(\"Modin wall time for completion in seconds:\",modin_time)"
   ]
  },
  {
   "cell_type": "code",
   "execution_count": 12,
   "metadata": {
    "scrolled": true
   },
   "outputs": [
    {
     "name": "stdout",
     "output_type": "stream",
     "text": [
      "Modin was 1.33X faster than stock Pandas!\n"
     ]
    }
   ],
   "source": [
    "print(\"Modin was {}X faster than stock Pandas!\".format(round(pandas_time/modin_time, 2)))"
   ]
  },
  {
   "cell_type": "markdown",
   "metadata": {},
   "source": [
    "### `df.applymap`"
   ]
  },
  {
   "cell_type": "code",
   "execution_count": 13,
   "metadata": {
    "scrolled": true
   },
   "outputs": [
    {
     "name": "stdout",
     "output_type": "stream",
     "text": [
      "          col0    col1    col2    col3    col4    col5    col6    col7  \\\n",
      "0       6346.0  2082.0  7922.0  9497.0  6609.0   560.0  4218.0  5154.0   \n",
      "1       5097.0  6084.0  4584.0  5167.0  9980.0  1765.0  3489.0  6639.0   \n",
      "2        831.0  8250.0  8148.0  4842.0  3654.0  8776.0  8488.0  1521.0   \n",
      "3       1665.0  8192.0  4498.0  1682.0  2604.0  5249.0  3424.0  2456.0   \n",
      "4       9124.0  7136.0  7104.0  6865.0  6242.0  1219.0  5125.0  3381.0   \n",
      "...        ...     ...     ...     ...     ...     ...     ...     ...   \n",
      "262139  3860.0  8483.0  1058.0  4600.0  6865.0  4951.0  7001.0  2277.0   \n",
      "262140  4713.0  1984.0  8267.0  9303.0  2713.0  5600.0  3888.0   602.0   \n",
      "262141  9180.0  5590.0  6343.0  2092.0  3558.0  1236.0  9933.0  9230.0   \n",
      "262142  4932.0  5320.0  9927.0  1281.0  5204.0  7580.0   733.0  4530.0   \n",
      "262143  5765.0  8673.0  4102.0  2393.0  7379.0  9827.0  3356.0  4600.0   \n",
      "\n",
      "          col8    col9  ...  col246  col247  col248  col249  col250  col251  \\\n",
      "0       1587.0  4833.0  ...  9965.0  7511.0  2538.0  3300.0  3708.0  8464.0   \n",
      "1       7840.0  1836.0  ...  9283.0  3422.0  1358.0  5795.0  9748.0  7944.0   \n",
      "2       3860.0  6733.0  ...  5293.0  6505.0  9122.0   487.0  3347.0  1296.0   \n",
      "3        628.0  4654.0  ...  4430.0  9201.0  6624.0  3712.0  9460.0  6627.0   \n",
      "4       8766.0  8671.0  ...  8699.0  2235.0  3908.0  6644.0  7002.0  3131.0   \n",
      "...        ...     ...  ...     ...     ...     ...     ...     ...     ...   \n",
      "262139  7168.0  4863.0  ...  3534.0  9672.0  9567.0  1859.0   592.0  7289.0   \n",
      "262140  5588.0  2821.0  ...  9478.0  7706.0  5968.0  8306.0  6158.0  3263.0   \n",
      "262141  2257.0  8523.0  ...  7761.0  4368.0  4701.0  5385.0  4098.0  4075.0   \n",
      "262142  1897.0  8778.0  ...  5015.0  3038.0  2563.0  2032.0  5153.0  3384.0   \n",
      "262143  5592.0  5706.0  ...  1178.0  3669.0  1656.0  8357.0  3889.0  6745.0   \n",
      "\n",
      "        col252  col253  col254  col255  \n",
      "0       1805.0  6828.0  4439.0  5562.0  \n",
      "1       5628.0  7368.0  4485.0  3230.0  \n",
      "2       2357.0  2051.0  5129.0  7206.0  \n",
      "3       8431.0  1502.0  5157.0  2011.0  \n",
      "4       2899.0  5263.0  6069.0  1109.0  \n",
      "...        ...     ...     ...     ...  \n",
      "262139  3977.0  5220.0  9302.0  2482.0  \n",
      "262140  7721.0  2897.0  5386.0  1903.0  \n",
      "262141  4310.0  8759.0  3982.0  8722.0  \n",
      "262142  3983.0  9119.0  9299.0   999.0  \n",
      "262143  4234.0  6968.0  5995.0  3935.0  \n",
      "\n",
      "[262144 rows x 256 columns]\n",
      " stock Pandas wall time for completion in seconds: 14.109868049621582\n"
     ]
    }
   ],
   "source": [
    "# Long apply function\n",
    "t6 = time.time()\n",
    "print(pandas_df.applymap(lambda x: x + 1))\n",
    "pandas_time = time.time() - t6\n",
    "print(\" stock Pandas wall time for completion in seconds:\",pandas_time)"
   ]
  },
  {
   "cell_type": "code",
   "execution_count": 14,
   "metadata": {
    "scrolled": true
   },
   "outputs": [
    {
     "name": "stderr",
     "output_type": "stream",
     "text": [
      "UserWarning: User-defined function verification is still under development in Modin. The function provided is not verified.\n"
     ]
    },
    {
     "name": "stdout",
     "output_type": "stream",
     "text": [
      "          col0    col1    col2    col3    col4    col5    col6    col7  \\\n",
      "0       6346.0  2082.0  7922.0  9497.0  6609.0   560.0  4218.0  5154.0   \n",
      "1       5097.0  6084.0  4584.0  5167.0  9980.0  1765.0  3489.0  6639.0   \n",
      "2        831.0  8250.0  8148.0  4842.0  3654.0  8776.0  8488.0  1521.0   \n",
      "3       1665.0  8192.0  4498.0  1682.0  2604.0  5249.0  3424.0  2456.0   \n",
      "4       9124.0  7136.0  7104.0  6865.0  6242.0  1219.0  5125.0  3381.0   \n",
      "...        ...     ...     ...     ...     ...     ...     ...     ...   \n",
      "262139  3860.0  8483.0  1058.0  4600.0  6865.0  4951.0  7001.0  2277.0   \n",
      "262140  4713.0  1984.0  8267.0  9303.0  2713.0  5600.0  3888.0   602.0   \n",
      "262141  9180.0  5590.0  6343.0  2092.0  3558.0  1236.0  9933.0  9230.0   \n",
      "262142  4932.0  5320.0  9927.0  1281.0  5204.0  7580.0   733.0  4530.0   \n",
      "262143  5765.0  8673.0  4102.0  2393.0  7379.0  9827.0  3356.0  4600.0   \n",
      "\n",
      "          col8    col9  ...  col246  col247  col248  col249  col250  col251  \\\n",
      "0       1587.0  4833.0  ...  9965.0  7511.0  2538.0  3300.0  3708.0  8464.0   \n",
      "1       7840.0  1836.0  ...  9283.0  3422.0  1358.0  5795.0  9748.0  7944.0   \n",
      "2       3860.0  6733.0  ...  5293.0  6505.0  9122.0   487.0  3347.0  1296.0   \n",
      "3        628.0  4654.0  ...  4430.0  9201.0  6624.0  3712.0  9460.0  6627.0   \n",
      "4       8766.0  8671.0  ...  8699.0  2235.0  3908.0  6644.0  7002.0  3131.0   \n",
      "...        ...     ...  ...     ...     ...     ...     ...     ...     ...   \n",
      "262139  7168.0  4863.0  ...  3534.0  9672.0  9567.0  1859.0   592.0  7289.0   \n",
      "262140  5588.0  2821.0  ...  9478.0  7706.0  5968.0  8306.0  6158.0  3263.0   \n",
      "262141  2257.0  8523.0  ...  7761.0  4368.0  4701.0  5385.0  4098.0  4075.0   \n",
      "262142  1897.0  8778.0  ...  5015.0  3038.0  2563.0  2032.0  5153.0  3384.0   \n",
      "262143  5592.0  5706.0  ...  1178.0  3669.0  1656.0  8357.0  3889.0  6745.0   \n",
      "\n",
      "        col252  col253  col254  col255  \n",
      "0       1805.0  6828.0  4439.0  5562.0  \n",
      "1       5628.0  7368.0  4485.0  3230.0  \n",
      "2       2357.0  2051.0  5129.0  7206.0  \n",
      "3       8431.0  1502.0  5157.0  2011.0  \n",
      "4       2899.0  5263.0  6069.0  1109.0  \n",
      "...        ...     ...     ...     ...  \n",
      "262139  3977.0  5220.0  9302.0  2482.0  \n",
      "262140  7721.0  2897.0  5386.0  1903.0  \n",
      "262141  4310.0  8759.0  3982.0  8722.0  \n",
      "262142  3983.0  9119.0  9299.0   999.0  \n",
      "262143  4234.0  6968.0  5995.0  3935.0  \n",
      "\n",
      "[262144 rows x 256 columns]\n",
      "Modin wall time for completion in seconds: 2.004300355911255\n"
     ]
    }
   ],
   "source": [
    "# Long apply function\n",
    "t7 = time.time()\n",
    "print(modin_df.applymap(lambda x: x + 1))\n",
    "modin_time = time.time() - t7\n",
    "print(\"Modin wall time for completion in seconds:\",modin_time)"
   ]
  },
  {
   "cell_type": "code",
   "execution_count": 15,
   "metadata": {
    "scrolled": true
   },
   "outputs": [
    {
     "name": "stdout",
     "output_type": "stream",
     "text": [
      "Modin was 7.04X faster than stock Pandas!\n"
     ]
    }
   ],
   "source": [
    "print(\"Modin was {}X faster than stock Pandas!\".format(round(pandas_time/modin_time, 2)))"
   ]
  },
  {
   "cell_type": "markdown",
   "metadata": {},
   "source": [
    "### `pd.concat([df, df])`"
   ]
  },
  {
   "cell_type": "code",
   "execution_count": 16,
   "metadata": {},
   "outputs": [
    {
     "name": "stdout",
     "output_type": "stream",
     "text": [
      "          col0    col1    col2    col3    col4    col5    col6    col7  \\\n",
      "0       6345.0  2081.0  7921.0  9496.0  6608.0   559.0  4217.0  5153.0   \n",
      "1       5096.0  6083.0  4583.0  5166.0  9979.0  1764.0  3488.0  6638.0   \n",
      "2        830.0  8249.0  8147.0  4841.0  3653.0  8775.0  8487.0  1520.0   \n",
      "3       1664.0  8191.0  4497.0  1681.0  2603.0  5248.0  3423.0  2455.0   \n",
      "4       9123.0  7135.0  7103.0  6864.0  6241.0  1218.0  5124.0  3380.0   \n",
      "...        ...     ...     ...     ...     ...     ...     ...     ...   \n",
      "262139  3859.0  8482.0  1057.0  4599.0  6864.0  4950.0  7000.0  2276.0   \n",
      "262140  4712.0  1983.0  8266.0  9302.0  2712.0  5599.0  3887.0   601.0   \n",
      "262141  9179.0  5589.0  6342.0  2091.0  3557.0  1235.0  9932.0  9229.0   \n",
      "262142  4931.0  5319.0  9926.0  1280.0  5203.0  7579.0   732.0  4529.0   \n",
      "262143  5764.0  8672.0  4101.0  2392.0  7378.0  9826.0  3355.0  4599.0   \n",
      "\n",
      "          col8    col9  ...  col246  col247  col248  col249  col250  col251  \\\n",
      "0       1586.0  4832.0  ...  9964.0  7510.0  2537.0  3299.0  3707.0  8463.0   \n",
      "1       7839.0  1835.0  ...  9282.0  3421.0  1357.0  5794.0  9747.0  7943.0   \n",
      "2       3859.0  6732.0  ...  5292.0  6504.0  9121.0   486.0  3346.0  1295.0   \n",
      "3        627.0  4653.0  ...  4429.0  9200.0  6623.0  3711.0  9459.0  6626.0   \n",
      "4       8765.0  8670.0  ...  8698.0  2234.0  3907.0  6643.0  7001.0  3130.0   \n",
      "...        ...     ...  ...     ...     ...     ...     ...     ...     ...   \n",
      "262139  7167.0  4862.0  ...  3533.0  9671.0  9566.0  1858.0   591.0  7288.0   \n",
      "262140  5587.0  2820.0  ...  9477.0  7705.0  5967.0  8305.0  6157.0  3262.0   \n",
      "262141  2256.0  8522.0  ...  7760.0  4367.0  4700.0  5384.0  4097.0  4074.0   \n",
      "262142  1896.0  8777.0  ...  5014.0  3037.0  2562.0  2031.0  5152.0  3383.0   \n",
      "262143  5591.0  5705.0  ...  1177.0  3668.0  1655.0  8356.0  3888.0  6744.0   \n",
      "\n",
      "        col252  col253  col254  col255  \n",
      "0       1804.0  6827.0  4438.0  5561.0  \n",
      "1       5627.0  7367.0  4484.0  3229.0  \n",
      "2       2356.0  2050.0  5128.0  7205.0  \n",
      "3       8430.0  1501.0  5156.0  2010.0  \n",
      "4       2898.0  5262.0  6068.0  1108.0  \n",
      "...        ...     ...     ...     ...  \n",
      "262139  3976.0  5219.0  9301.0  2481.0  \n",
      "262140  7720.0  2896.0  5385.0  1902.0  \n",
      "262141  4309.0  8758.0  3981.0  8721.0  \n",
      "262142  3982.0  9118.0  9298.0   998.0  \n",
      "262143  4233.0  6967.0  5994.0  3934.0  \n",
      "\n",
      "[524288 rows x 256 columns]\n",
      "stock Pandas wall time for completion in seconds: 0.469102144241333\n"
     ]
    }
   ],
   "source": [
    "# Concat\n",
    "t8 = time.time()\n",
    "print(pandas.concat([pandas_df, pandas_df], axis=0))\n",
    "pandas_time = time.time() - t8\n",
    "print(\"stock Pandas wall time for completion in seconds:\",pandas_time)"
   ]
  },
  {
   "cell_type": "code",
   "execution_count": 17,
   "metadata": {},
   "outputs": [
    {
     "name": "stdout",
     "output_type": "stream",
     "text": [
      "          col0    col1    col2    col3    col4    col5    col6    col7  \\\n",
      "0       6345.0  2081.0  7921.0  9496.0  6608.0   559.0  4217.0  5153.0   \n",
      "1       5096.0  6083.0  4583.0  5166.0  9979.0  1764.0  3488.0  6638.0   \n",
      "2        830.0  8249.0  8147.0  4841.0  3653.0  8775.0  8487.0  1520.0   \n",
      "3       1664.0  8191.0  4497.0  1681.0  2603.0  5248.0  3423.0  2455.0   \n",
      "4       9123.0  7135.0  7103.0  6864.0  6241.0  1218.0  5124.0  3380.0   \n",
      "...        ...     ...     ...     ...     ...     ...     ...     ...   \n",
      "262139  3859.0  8482.0  1057.0  4599.0  6864.0  4950.0  7000.0  2276.0   \n",
      "262140  4712.0  1983.0  8266.0  9302.0  2712.0  5599.0  3887.0   601.0   \n",
      "262141  9179.0  5589.0  6342.0  2091.0  3557.0  1235.0  9932.0  9229.0   \n",
      "262142  4931.0  5319.0  9926.0  1280.0  5203.0  7579.0   732.0  4529.0   \n",
      "262143  5764.0  8672.0  4101.0  2392.0  7378.0  9826.0  3355.0  4599.0   \n",
      "\n",
      "          col8    col9  ...  col246  col247  col248  col249  col250  col251  \\\n",
      "0       1586.0  4832.0  ...  9964.0  7510.0  2537.0  3299.0  3707.0  8463.0   \n",
      "1       7839.0  1835.0  ...  9282.0  3421.0  1357.0  5794.0  9747.0  7943.0   \n",
      "2       3859.0  6732.0  ...  5292.0  6504.0  9121.0   486.0  3346.0  1295.0   \n",
      "3        627.0  4653.0  ...  4429.0  9200.0  6623.0  3711.0  9459.0  6626.0   \n",
      "4       8765.0  8670.0  ...  8698.0  2234.0  3907.0  6643.0  7001.0  3130.0   \n",
      "...        ...     ...  ...     ...     ...     ...     ...     ...     ...   \n",
      "262139  7167.0  4862.0  ...  3533.0  9671.0  9566.0  1858.0   591.0  7288.0   \n",
      "262140  5587.0  2820.0  ...  9477.0  7705.0  5967.0  8305.0  6157.0  3262.0   \n",
      "262141  2256.0  8522.0  ...  7760.0  4367.0  4700.0  5384.0  4097.0  4074.0   \n",
      "262142  1896.0  8777.0  ...  5014.0  3037.0  2562.0  2031.0  5152.0  3383.0   \n",
      "262143  5591.0  5705.0  ...  1177.0  3668.0  1655.0  8356.0  3888.0  6744.0   \n",
      "\n",
      "        col252  col253  col254  col255  \n",
      "0       1804.0  6827.0  4438.0  5561.0  \n",
      "1       5627.0  7367.0  4484.0  3229.0  \n",
      "2       2356.0  2050.0  5128.0  7205.0  \n",
      "3       8430.0  1501.0  5156.0  2010.0  \n",
      "4       2898.0  5262.0  6068.0  1108.0  \n",
      "...        ...     ...     ...     ...  \n",
      "262139  3976.0  5219.0  9301.0  2481.0  \n",
      "262140  7720.0  2896.0  5385.0  1902.0  \n",
      "262141  4309.0  8758.0  3981.0  8721.0  \n",
      "262142  3982.0  9118.0  9298.0   998.0  \n",
      "262143  4233.0  6967.0  5994.0  3934.0  \n",
      "\n",
      "[524288 rows x 256 columns]\n",
      "Modin wall time for completion in seconds: 0.07525348663330078\n"
     ]
    }
   ],
   "source": [
    "# Concat\n",
    "t9 = time.time()\n",
    "print(pd.concat([modin_df, modin_df], axis=0))\n",
    "modin_time = time.time() - t9\n",
    "print(\"Modin wall time for completion in seconds:\",modin_time)"
   ]
  },
  {
   "cell_type": "code",
   "execution_count": 18,
   "metadata": {
    "scrolled": false
   },
   "outputs": [
    {
     "name": "stdout",
     "output_type": "stream",
     "text": [
      "Modin was 6.23X faster than stock Pandas!\n"
     ]
    }
   ],
   "source": [
    "print(\"Modin was {}X faster than stock Pandas!\".format(round(pandas_time/modin_time, 2)))"
   ]
  },
  {
   "cell_type": "markdown",
   "metadata": {},
   "source": [
    "## Modin Coverage Examples \n",
    "The Modin package supports a large variety of Pandas functions.\n",
    "Here are some examples:"
   ]
  },
  {
   "cell_type": "markdown",
   "metadata": {},
   "source": [
    "### Count"
   ]
  },
  {
   "cell_type": "code",
   "execution_count": 19,
   "metadata": {},
   "outputs": [
    {
     "data": {
      "text/plain": [
       "col0      262144\n",
       "col1      262144\n",
       "col2      262144\n",
       "col3      262144\n",
       "col4      262144\n",
       "           ...  \n",
       "col251    262144\n",
       "col252    262144\n",
       "col253    262144\n",
       "col254    262144\n",
       "col255    262144\n",
       "Length: 256, dtype: int64"
      ]
     },
     "execution_count": 19,
     "metadata": {},
     "output_type": "execute_result"
    }
   ],
   "source": [
    "modin_df.count()"
   ]
  },
  {
   "cell_type": "markdown",
   "metadata": {},
   "source": [
    "### Filter"
   ]
  },
  {
   "cell_type": "code",
   "execution_count": 20,
   "metadata": {},
   "outputs": [
    {
     "data": {
      "text/html": [
       "<div>\n",
       "<style scoped>\n",
       "    .dataframe tbody tr th:only-of-type {\n",
       "        vertical-align: middle;\n",
       "    }\n",
       "\n",
       "    .dataframe tbody tr th {\n",
       "        vertical-align: top;\n",
       "    }\n",
       "\n",
       "    .dataframe thead th {\n",
       "        text-align: right;\n",
       "    }\n",
       "</style>\n",
       "<table border=\"1\" class=\"dataframe\">\n",
       "  <thead>\n",
       "    <tr style=\"text-align: right;\">\n",
       "      <th></th>\n",
       "      <th>col0</th>\n",
       "      <th>col10</th>\n",
       "      <th>col20</th>\n",
       "      <th>col30</th>\n",
       "      <th>col40</th>\n",
       "      <th>col50</th>\n",
       "      <th>col60</th>\n",
       "      <th>col70</th>\n",
       "      <th>col80</th>\n",
       "      <th>col90</th>\n",
       "      <th>...</th>\n",
       "      <th>col160</th>\n",
       "      <th>col170</th>\n",
       "      <th>col180</th>\n",
       "      <th>col190</th>\n",
       "      <th>col200</th>\n",
       "      <th>col210</th>\n",
       "      <th>col220</th>\n",
       "      <th>col230</th>\n",
       "      <th>col240</th>\n",
       "      <th>col250</th>\n",
       "    </tr>\n",
       "  </thead>\n",
       "  <tbody>\n",
       "    <tr>\n",
       "      <th>0</th>\n",
       "      <td>6345.0</td>\n",
       "      <td>286.0</td>\n",
       "      <td>1493.0</td>\n",
       "      <td>6986.0</td>\n",
       "      <td>4580.0</td>\n",
       "      <td>734.0</td>\n",
       "      <td>6619.0</td>\n",
       "      <td>7964.0</td>\n",
       "      <td>1824.0</td>\n",
       "      <td>1250.0</td>\n",
       "      <td>...</td>\n",
       "      <td>7122.0</td>\n",
       "      <td>5886.0</td>\n",
       "      <td>4054.0</td>\n",
       "      <td>5507.0</td>\n",
       "      <td>3053.0</td>\n",
       "      <td>4773.0</td>\n",
       "      <td>4246.0</td>\n",
       "      <td>9478.0</td>\n",
       "      <td>7245.0</td>\n",
       "      <td>3707.0</td>\n",
       "    </tr>\n",
       "    <tr>\n",
       "      <th>1</th>\n",
       "      <td>5096.0</td>\n",
       "      <td>2352.0</td>\n",
       "      <td>9894.0</td>\n",
       "      <td>6507.0</td>\n",
       "      <td>8849.0</td>\n",
       "      <td>4522.0</td>\n",
       "      <td>2432.0</td>\n",
       "      <td>8412.0</td>\n",
       "      <td>9796.0</td>\n",
       "      <td>568.0</td>\n",
       "      <td>...</td>\n",
       "      <td>582.0</td>\n",
       "      <td>9429.0</td>\n",
       "      <td>8460.0</td>\n",
       "      <td>3679.0</td>\n",
       "      <td>1739.0</td>\n",
       "      <td>2352.0</td>\n",
       "      <td>7968.0</td>\n",
       "      <td>4017.0</td>\n",
       "      <td>2419.0</td>\n",
       "      <td>9747.0</td>\n",
       "    </tr>\n",
       "    <tr>\n",
       "      <th>2</th>\n",
       "      <td>830.0</td>\n",
       "      <td>1354.0</td>\n",
       "      <td>7592.0</td>\n",
       "      <td>6253.0</td>\n",
       "      <td>105.0</td>\n",
       "      <td>2593.0</td>\n",
       "      <td>7495.0</td>\n",
       "      <td>511.0</td>\n",
       "      <td>9733.0</td>\n",
       "      <td>5618.0</td>\n",
       "      <td>...</td>\n",
       "      <td>4022.0</td>\n",
       "      <td>9047.0</td>\n",
       "      <td>612.0</td>\n",
       "      <td>8941.0</td>\n",
       "      <td>8065.0</td>\n",
       "      <td>4535.0</td>\n",
       "      <td>6304.0</td>\n",
       "      <td>4003.0</td>\n",
       "      <td>8345.0</td>\n",
       "      <td>3346.0</td>\n",
       "    </tr>\n",
       "    <tr>\n",
       "      <th>3</th>\n",
       "      <td>1664.0</td>\n",
       "      <td>9940.0</td>\n",
       "      <td>4394.0</td>\n",
       "      <td>8826.0</td>\n",
       "      <td>8244.0</td>\n",
       "      <td>7933.0</td>\n",
       "      <td>280.0</td>\n",
       "      <td>7272.0</td>\n",
       "      <td>9322.0</td>\n",
       "      <td>1085.0</td>\n",
       "      <td>...</td>\n",
       "      <td>3254.0</td>\n",
       "      <td>4255.0</td>\n",
       "      <td>9267.0</td>\n",
       "      <td>6334.0</td>\n",
       "      <td>2688.0</td>\n",
       "      <td>1990.0</td>\n",
       "      <td>985.0</td>\n",
       "      <td>4882.0</td>\n",
       "      <td>3814.0</td>\n",
       "      <td>9459.0</td>\n",
       "    </tr>\n",
       "    <tr>\n",
       "      <th>4</th>\n",
       "      <td>9123.0</td>\n",
       "      <td>6120.0</td>\n",
       "      <td>9942.0</td>\n",
       "      <td>5088.0</td>\n",
       "      <td>5395.0</td>\n",
       "      <td>7489.0</td>\n",
       "      <td>9291.0</td>\n",
       "      <td>1057.0</td>\n",
       "      <td>3037.0</td>\n",
       "      <td>474.0</td>\n",
       "      <td>...</td>\n",
       "      <td>4983.0</td>\n",
       "      <td>8882.0</td>\n",
       "      <td>6405.0</td>\n",
       "      <td>1257.0</td>\n",
       "      <td>2396.0</td>\n",
       "      <td>5760.0</td>\n",
       "      <td>9736.0</td>\n",
       "      <td>6131.0</td>\n",
       "      <td>5044.0</td>\n",
       "      <td>7001.0</td>\n",
       "    </tr>\n",
       "    <tr>\n",
       "      <th>...</th>\n",
       "      <td>...</td>\n",
       "      <td>...</td>\n",
       "      <td>...</td>\n",
       "      <td>...</td>\n",
       "      <td>...</td>\n",
       "      <td>...</td>\n",
       "      <td>...</td>\n",
       "      <td>...</td>\n",
       "      <td>...</td>\n",
       "      <td>...</td>\n",
       "      <td>...</td>\n",
       "      <td>...</td>\n",
       "      <td>...</td>\n",
       "      <td>...</td>\n",
       "      <td>...</td>\n",
       "      <td>...</td>\n",
       "      <td>...</td>\n",
       "      <td>...</td>\n",
       "      <td>...</td>\n",
       "      <td>...</td>\n",
       "      <td>...</td>\n",
       "    </tr>\n",
       "    <tr>\n",
       "      <th>262139</th>\n",
       "      <td>3859.0</td>\n",
       "      <td>9485.0</td>\n",
       "      <td>9796.0</td>\n",
       "      <td>1815.0</td>\n",
       "      <td>2169.0</td>\n",
       "      <td>9267.0</td>\n",
       "      <td>3499.0</td>\n",
       "      <td>1303.0</td>\n",
       "      <td>4196.0</td>\n",
       "      <td>8549.0</td>\n",
       "      <td>...</td>\n",
       "      <td>851.0</td>\n",
       "      <td>6952.0</td>\n",
       "      <td>8912.0</td>\n",
       "      <td>9244.0</td>\n",
       "      <td>5857.0</td>\n",
       "      <td>587.0</td>\n",
       "      <td>6875.0</td>\n",
       "      <td>6576.0</td>\n",
       "      <td>6606.0</td>\n",
       "      <td>591.0</td>\n",
       "    </tr>\n",
       "    <tr>\n",
       "      <th>262140</th>\n",
       "      <td>4712.0</td>\n",
       "      <td>4106.0</td>\n",
       "      <td>9898.0</td>\n",
       "      <td>4047.0</td>\n",
       "      <td>2967.0</td>\n",
       "      <td>7558.0</td>\n",
       "      <td>5543.0</td>\n",
       "      <td>100.0</td>\n",
       "      <td>2927.0</td>\n",
       "      <td>3586.0</td>\n",
       "      <td>...</td>\n",
       "      <td>5624.0</td>\n",
       "      <td>4916.0</td>\n",
       "      <td>2909.0</td>\n",
       "      <td>2889.0</td>\n",
       "      <td>6739.0</td>\n",
       "      <td>5288.0</td>\n",
       "      <td>2252.0</td>\n",
       "      <td>2408.0</td>\n",
       "      <td>8249.0</td>\n",
       "      <td>6157.0</td>\n",
       "    </tr>\n",
       "    <tr>\n",
       "      <th>262141</th>\n",
       "      <td>9179.0</td>\n",
       "      <td>842.0</td>\n",
       "      <td>2631.0</td>\n",
       "      <td>857.0</td>\n",
       "      <td>2607.0</td>\n",
       "      <td>2466.0</td>\n",
       "      <td>8240.0</td>\n",
       "      <td>8494.0</td>\n",
       "      <td>9493.0</td>\n",
       "      <td>1989.0</td>\n",
       "      <td>...</td>\n",
       "      <td>7102.0</td>\n",
       "      <td>6900.0</td>\n",
       "      <td>4167.0</td>\n",
       "      <td>1885.0</td>\n",
       "      <td>1866.0</td>\n",
       "      <td>1142.0</td>\n",
       "      <td>3215.0</td>\n",
       "      <td>3379.0</td>\n",
       "      <td>9319.0</td>\n",
       "      <td>4097.0</td>\n",
       "    </tr>\n",
       "    <tr>\n",
       "      <th>262142</th>\n",
       "      <td>4931.0</td>\n",
       "      <td>4134.0</td>\n",
       "      <td>6140.0</td>\n",
       "      <td>2902.0</td>\n",
       "      <td>7761.0</td>\n",
       "      <td>4194.0</td>\n",
       "      <td>1022.0</td>\n",
       "      <td>8984.0</td>\n",
       "      <td>7636.0</td>\n",
       "      <td>5967.0</td>\n",
       "      <td>...</td>\n",
       "      <td>4994.0</td>\n",
       "      <td>4574.0</td>\n",
       "      <td>8812.0</td>\n",
       "      <td>3448.0</td>\n",
       "      <td>9196.0</td>\n",
       "      <td>2757.0</td>\n",
       "      <td>3995.0</td>\n",
       "      <td>5733.0</td>\n",
       "      <td>5525.0</td>\n",
       "      <td>5152.0</td>\n",
       "    </tr>\n",
       "    <tr>\n",
       "      <th>262143</th>\n",
       "      <td>5764.0</td>\n",
       "      <td>9145.0</td>\n",
       "      <td>2392.0</td>\n",
       "      <td>419.0</td>\n",
       "      <td>1592.0</td>\n",
       "      <td>3952.0</td>\n",
       "      <td>9509.0</td>\n",
       "      <td>7636.0</td>\n",
       "      <td>1948.0</td>\n",
       "      <td>5806.0</td>\n",
       "      <td>...</td>\n",
       "      <td>8433.0</td>\n",
       "      <td>5950.0</td>\n",
       "      <td>6533.0</td>\n",
       "      <td>2235.0</td>\n",
       "      <td>8626.0</td>\n",
       "      <td>6971.0</td>\n",
       "      <td>2716.0</td>\n",
       "      <td>9227.0</td>\n",
       "      <td>6909.0</td>\n",
       "      <td>3888.0</td>\n",
       "    </tr>\n",
       "  </tbody>\n",
       "</table>\n",
       "<p>262144 rows x 26 columns</p>\n",
       "</div>"
      ],
      "text/plain": [
       "          col0   col10   col20   col30   col40   col50   col60   col70  \\\n",
       "0       6345.0   286.0  1493.0  6986.0  4580.0   734.0  6619.0  7964.0   \n",
       "1       5096.0  2352.0  9894.0  6507.0  8849.0  4522.0  2432.0  8412.0   \n",
       "2        830.0  1354.0  7592.0  6253.0   105.0  2593.0  7495.0   511.0   \n",
       "3       1664.0  9940.0  4394.0  8826.0  8244.0  7933.0   280.0  7272.0   \n",
       "4       9123.0  6120.0  9942.0  5088.0  5395.0  7489.0  9291.0  1057.0   \n",
       "...        ...     ...     ...     ...     ...     ...     ...     ...   \n",
       "262139  3859.0  9485.0  9796.0  1815.0  2169.0  9267.0  3499.0  1303.0   \n",
       "262140  4712.0  4106.0  9898.0  4047.0  2967.0  7558.0  5543.0   100.0   \n",
       "262141  9179.0   842.0  2631.0   857.0  2607.0  2466.0  8240.0  8494.0   \n",
       "262142  4931.0  4134.0  6140.0  2902.0  7761.0  4194.0  1022.0  8984.0   \n",
       "262143  5764.0  9145.0  2392.0   419.0  1592.0  3952.0  9509.0  7636.0   \n",
       "\n",
       "         col80   col90  ...  col160  col170  col180  col190  col200  col210  \\\n",
       "0       1824.0  1250.0  ...  7122.0  5886.0  4054.0  5507.0  3053.0  4773.0   \n",
       "1       9796.0   568.0  ...   582.0  9429.0  8460.0  3679.0  1739.0  2352.0   \n",
       "2       9733.0  5618.0  ...  4022.0  9047.0   612.0  8941.0  8065.0  4535.0   \n",
       "3       9322.0  1085.0  ...  3254.0  4255.0  9267.0  6334.0  2688.0  1990.0   \n",
       "4       3037.0   474.0  ...  4983.0  8882.0  6405.0  1257.0  2396.0  5760.0   \n",
       "...        ...     ...  ...     ...     ...     ...     ...     ...     ...   \n",
       "262139  4196.0  8549.0  ...   851.0  6952.0  8912.0  9244.0  5857.0   587.0   \n",
       "262140  2927.0  3586.0  ...  5624.0  4916.0  2909.0  2889.0  6739.0  5288.0   \n",
       "262141  9493.0  1989.0  ...  7102.0  6900.0  4167.0  1885.0  1866.0  1142.0   \n",
       "262142  7636.0  5967.0  ...  4994.0  4574.0  8812.0  3448.0  9196.0  2757.0   \n",
       "262143  1948.0  5806.0  ...  8433.0  5950.0  6533.0  2235.0  8626.0  6971.0   \n",
       "\n",
       "        col220  col230  col240  col250  \n",
       "0       4246.0  9478.0  7245.0  3707.0  \n",
       "1       7968.0  4017.0  2419.0  9747.0  \n",
       "2       6304.0  4003.0  8345.0  3346.0  \n",
       "3        985.0  4882.0  3814.0  9459.0  \n",
       "4       9736.0  6131.0  5044.0  7001.0  \n",
       "...        ...     ...     ...     ...  \n",
       "262139  6875.0  6576.0  6606.0   591.0  \n",
       "262140  2252.0  2408.0  8249.0  6157.0  \n",
       "262141  3215.0  3379.0  9319.0  4097.0  \n",
       "262142  3995.0  5733.0  5525.0  5152.0  \n",
       "262143  2716.0  9227.0  6909.0  3888.0  \n",
       "\n",
       "[262144 rows x 26 columns]"
      ]
     },
     "execution_count": 20,
     "metadata": {},
     "output_type": "execute_result"
    }
   ],
   "source": [
    "modin_df.filter(regex='0$', axis=1)"
   ]
  },
  {
   "cell_type": "markdown",
   "metadata": {},
   "source": [
    "### iloc"
   ]
  },
  {
   "cell_type": "code",
   "execution_count": 21,
   "metadata": {},
   "outputs": [
    {
     "data": {
      "text/plain": [
       "0         5561.0\n",
       "1         3229.0\n",
       "2         7205.0\n",
       "3         2010.0\n",
       "4         1108.0\n",
       "           ...  \n",
       "262139    2481.0\n",
       "262140    1902.0\n",
       "262141    8721.0\n",
       "262142     998.0\n",
       "262143    3934.0\n",
       "Name: col255, Length: 262144, dtype: float64"
      ]
     },
     "execution_count": 21,
     "metadata": {},
     "output_type": "execute_result"
    }
   ],
   "source": [
    "modin_df.iloc[0]\n",
    "modin_df.iloc[-1]\n",
    "modin_df.iloc[:,0]\n",
    "modin_df.iloc[:,-1]"
   ]
  },
  {
   "cell_type": "markdown",
   "metadata": {},
   "source": [
    "## Series"
   ]
  },
  {
   "cell_type": "code",
   "execution_count": 22,
   "metadata": {},
   "outputs": [
    {
     "name": "stderr",
     "output_type": "stream",
     "text": [
      "UserWarning: Distributing <class 'numpy.ndarray'> object. This may take some time.\n"
     ]
    }
   ],
   "source": [
    "s = pd.Series(np.random.randn(5), index=['a', 'b', 'c', 'd', 'e'])"
   ]
  },
  {
   "cell_type": "markdown",
   "metadata": {},
   "source": [
    "### DataFrame to NumPy Array"
   ]
  },
  {
   "cell_type": "code",
   "execution_count": 23,
   "metadata": {},
   "outputs": [
    {
     "data": {
      "text/plain": [
       "array([[6345., 2081., 7921., ..., 6827., 4438., 5561.],\n",
       "       [5096., 6083., 4583., ..., 7367., 4484., 3229.],\n",
       "       [ 830., 8249., 8147., ..., 2050., 5128., 7205.],\n",
       "       ...,\n",
       "       [9179., 5589., 6342., ..., 8758., 3981., 8721.],\n",
       "       [4931., 5319., 9926., ..., 9118., 9298.,  998.],\n",
       "       [5764., 8672., 4101., ..., 6967., 5994., 3934.]])"
      ]
     },
     "execution_count": 23,
     "metadata": {},
     "output_type": "execute_result"
    }
   ],
   "source": [
    "modin_df.to_numpy()"
   ]
  },
  {
   "cell_type": "markdown",
   "metadata": {},
   "source": [
    "### Series to NumPy Array"
   ]
  },
  {
   "cell_type": "code",
   "execution_count": 24,
   "metadata": {},
   "outputs": [
    {
     "name": "stderr",
     "output_type": "stream",
     "text": [
      "UserWarning: Distributing <class 'pandas.core.indexes.datetimes.DatetimeIndex'> object. This may take some time.\n"
     ]
    },
    {
     "data": {
      "text/plain": [
       "array(['1999-12-31T23:00:00.000000000', '2000-01-01T23:00:00.000000000'],\n",
       "      dtype='datetime64[ns]')"
      ]
     },
     "execution_count": 24,
     "metadata": {},
     "output_type": "execute_result"
    }
   ],
   "source": [
    "ser = pd.Series(pd.date_range('2000', periods=2, tz=\"CET\"))\n",
    "ser.to_numpy(dtype=object)\n",
    "ser.to_numpy(dtype=\"datetime64[ns]\")"
   ]
  },
  {
   "cell_type": "markdown",
   "metadata": {},
   "source": [
    "### Set Options"
   ]
  },
  {
   "cell_type": "code",
   "execution_count": 25,
   "metadata": {},
   "outputs": [],
   "source": [
    "pd.set_option('compute.use_bottleneck', False)\n",
    "pd.set_option('compute.use_numexpr', False)"
   ]
  },
  {
   "cell_type": "markdown",
   "metadata": {},
   "source": [
    "### Unique Function for Series"
   ]
  },
  {
   "cell_type": "code",
   "execution_count": 26,
   "metadata": {},
   "outputs": [
    {
     "name": "stderr",
     "output_type": "stream",
     "text": [
      "UserWarning: Distributing <class 'list'> object. This may take some time.\n"
     ]
    },
    {
     "data": {
      "text/plain": [
       "array([2, 1, 3])"
      ]
     },
     "execution_count": 26,
     "metadata": {},
     "output_type": "execute_result"
    }
   ],
   "source": [
    "pd.unique(pd.Series([2, 1, 3, 3]))"
   ]
  },
  {
   "cell_type": "code",
   "execution_count": 27,
   "metadata": {},
   "outputs": [
    {
     "name": "stdout",
     "output_type": "stream",
     "text": [
      "[CODE_SAMPLE_COMPLETED_SUCCESFULLY]\n"
     ]
    }
   ],
   "source": [
    "print(\"[CODE_SAMPLE_COMPLETED_SUCCESFULLY]\")"
   ]
  }
 ],
 "metadata": {
  "kernelspec": {
   "display_name": "Python 3",
   "language": "python",
   "name": "python3"
  },
  "language_info": {
   "codemirror_mode": {
    "name": "ipython",
    "version": 3
   },
   "file_extension": ".py",
   "mimetype": "text/x-python",
   "name": "python",
   "nbconvert_exporter": "python",
   "pygments_lexer": "ipython3",
   "version": "3.7.9"
  }
 },
 "nbformat": 4,
 "nbformat_minor": 4
}
