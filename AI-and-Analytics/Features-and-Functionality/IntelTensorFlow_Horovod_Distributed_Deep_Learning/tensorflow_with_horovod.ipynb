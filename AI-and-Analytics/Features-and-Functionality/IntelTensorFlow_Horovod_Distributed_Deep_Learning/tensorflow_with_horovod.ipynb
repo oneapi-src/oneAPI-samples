{
 "cells": [
  {
   "cell_type": "markdown",
   "id": "84bfa7b1",
   "metadata": {},
   "source": [
    "# Getting started with Intel Optimization for Horovod\n",
    "\n",
    "This code sample will serve as a getting started sample to perform distributed deep learning workloads using Intel optimization for Horovod on Intel GPUs. In this sample we will be running multi-card inference benchmarks as well as a training example from Horovod. By the end of this sample, users should be able to get started with multi-card distributed deep learning using Intel optimization for Horovd and Tensorflow."
   ]
  },
  {
   "cell_type": "code",
   "execution_count": null,
   "id": "1cec22b2",
   "metadata": {},
   "outputs": [],
   "source": [
    "import os\n",
    "initial_cwd = os.getcwd()"
   ]
  },
  {
   "cell_type": "markdown",
   "id": "6447a055",
   "metadata": {},
   "source": [
    "### Find number of devices (GPUs)"
   ]
  },
  {
   "cell_type": "markdown",
   "id": "d1955d30",
   "metadata": {},
   "source": [
    "Run `sycl-ls` to print the list of all available devices in the system. We can utilize this tool to check how many GPUs we can use to distribute our deep learning workloads among different cards. "
   ]
  },
  {
   "cell_type": "code",
   "execution_count": null,
   "id": "f3efd066",
   "metadata": {
    "scrolled": true
   },
   "outputs": [],
   "source": [
    "!sycl-ls"
   ]
  },
  {
   "cell_type": "markdown",
   "id": "8cba0bbb",
   "metadata": {},
   "source": [
    "Based on the output from `sycl-ls`, set the number_devices below to align with the number of GPUs available in the system."
   ]
  },
  {
   "cell_type": "code",
   "execution_count": null,
   "id": "9c5289f2",
   "metadata": {},
   "outputs": [],
   "source": [
    "number_devices = 2"
   ]
  },
  {
   "cell_type": "markdown",
   "id": "2cb64a28",
   "metadata": {},
   "source": [
    "## Inference with Horovod \n",
    "In this section we will be downloading and running an inference benchmarking script from Intel-optimization-for-Horovod repository, with the benchmarking script we can run inference with different configurations such as model, batch size and number of iterations. "
   ]
  },
  {
   "cell_type": "markdown",
   "id": "24405ca0",
   "metadata": {},
   "source": [
    "Download the `tensorflow2_keras_synthetic_benchmark.py` inference example from the [Intel-optimization-for-horovod](https://github.com/intel/intel-optimization-for-horovod) open-source repository. This example has already been modified for Intel GPU support, and will run on Intel GPU without any code modifications. "
   ]
  },
  {
   "cell_type": "code",
   "execution_count": null,
   "id": "91a0a45e",
   "metadata": {},
   "outputs": [],
   "source": [
    "if not os.path.exists(os.path.join(os.getcwd(), \"tensorflow2_keras_synthetic_benchmark.py\")):\n",
    "    !wget https://raw.githubusercontent.com/intel/intel-optimization-for-horovod/main/examples/tensorflow2/tensorflow2_keras_synthetic_benchmark.py\n",
    "else:\n",
    "    print(\"Example already in current directory\")"
   ]
  },
  {
   "cell_type": "markdown",
   "id": "c3bc3aba",
   "metadata": {},
   "source": [
    "Run the ResNet50 benchmark example with the following paramaters:"
   ]
  },
  {
   "cell_type": "code",
   "execution_count": null,
   "id": "87d7bf5d",
   "metadata": {},
   "outputs": [],
   "source": [
    "!horovodrun --num-proc $number_devices \\\n",
    "    python tensorflow2_keras_synthetic_benchmark.py \\\n",
    "    --fp16-allreduce \\\n",
    "    --model ResNet50 \\\n",
    "    --batch-size 32 \\\n",
    "    --num-batches-per-iter 10 \\\n",
    "    --num-iters 10"
   ]
  },
  {
   "cell_type": "markdown",
   "id": "ccca672f",
   "metadata": {},
   "source": [
    "Upon completion, the example will output to screen benchmarking results for the inference run. Users can compare single GPU images per second to multi-card imges/second. Users can also rerun the workload with different parameters such as `batch size`, `batches per iteration` and `model`."
   ]
  },
  {
   "cell_type": "markdown",
   "id": "c2830bfc",
   "metadata": {},
   "source": [
    "Below is another inference benchmarking example running `MobileNet` model instead of `ResNet50` and a batch size of `64`:"
   ]
  },
  {
   "cell_type": "code",
   "execution_count": null,
   "id": "93473674",
   "metadata": {},
   "outputs": [],
   "source": [
    "!horovodrun --num-proc $number_devices \\\n",
    "    python tensorflow2_keras_synthetic_benchmark.py \\\n",
    "    --fp16-allreduce \\\n",
    "    --model MobileNet \\\n",
    "    --batch-size 64 \\\n",
    "    --num-batches-per-iter 10 \\\n",
    "    --num-iters 10"
   ]
  },
  {
   "cell_type": "markdown",
   "id": "7f471067",
   "metadata": {},
   "source": [
    "## Training with Horovod\n",
    "In this section, we will be running a training workload from horovod public repository with MINST dataset. We will be using a training workload from Horovod repository which will require code modifications to run on Intel GPUs. "
   ]
  },
  {
   "cell_type": "markdown",
   "id": "0a949460",
   "metadata": {},
   "source": [
    "Clone the horovod repository and cd into the _tensorflow2/examples_ directory:"
   ]
  },
  {
   "cell_type": "code",
   "execution_count": null,
   "id": "5e4ea09a",
   "metadata": {},
   "outputs": [],
   "source": [
    "!git clone https://github.com/horovod/horovod.git\n",
    "%cd horovod/examples/tensorflow2"
   ]
  },
  {
   "cell_type": "markdown",
   "id": "d8690051",
   "metadata": {},
   "source": [
    "Unlike the inference example, this training example requires a patch to run on Intel GPUs. The patch will make the neccessery changes to run the Horovod training workload on Intel GPUs.\n",
    "Download the patch from the [Intel-extension-for-tensorflow](https://github.com/intel/intel-extension-for-tensorflow) repository to current directory:"
   ]
  },
  {
   "cell_type": "code",
   "execution_count": null,
   "id": "5400bdb3",
   "metadata": {},
   "outputs": [],
   "source": [
    "if not os.path.exists(os.path.join(os.getcwd(), \"tensorflow2_keras_mnist.patch\")):\n",
    "    !wget https://github.com/intel/intel-extension-for-tensorflow/raw/main/examples/train_horovod/mnist/tensorflow2_keras_mnist.patch\n",
    "else:\n",
    "    print(\"Patch already in current directory\")"
   ]
  },
  {
   "cell_type": "markdown",
   "id": "dd24ddd6",
   "metadata": {},
   "source": [
    "Lets take a look at the patch file to see the required modifications to run on Intel GPU with Intel Optimization for Horovod."
   ]
  },
  {
   "cell_type": "code",
   "execution_count": null,
   "id": "8004ef2e",
   "metadata": {},
   "outputs": [],
   "source": [
    "%cat tensorflow2_keras_mnist.patch"
   ]
  },
  {
   "cell_type": "markdown",
   "id": "d599c51e",
   "metadata": {},
   "source": [
    "**Note: Users can follow the [offical guild](https://github.com/horovod/horovod/blob/master/docs/tensorflow.rst)\n",
    " from Horovod to enable distrubiuted deep learning workloads in Tensorflow v2.x. The only modification needed to run on Intel GPUs is to replace device name from `GPU` to `XPU` while pinning each XPU to a single process.**"
   ]
  },
  {
   "cell_type": "markdown",
   "id": "fd55ee0c",
   "metadata": {},
   "source": [
    "Apply the patch to enable Intel GPUs for training example."
   ]
  },
  {
   "cell_type": "code",
   "execution_count": null,
   "id": "74482513",
   "metadata": {},
   "outputs": [],
   "source": [
    "!git apply tensorflow2_keras_mnist.patch"
   ]
  },
  {
   "cell_type": "markdown",
   "id": "0421c4f5",
   "metadata": {},
   "source": [
    "We can now run the minst training workload on multiple devices with the patched python file."
   ]
  },
  {
   "cell_type": "code",
   "execution_count": null,
   "id": "668a3132",
   "metadata": {},
   "outputs": [],
   "source": [
    "!horovodrun --num-proc $number_devices \\\n",
    "    python ./tensorflow2_keras_mnist.py"
   ]
  },
  {
   "cell_type": "markdown",
   "id": "c98652cd",
   "metadata": {},
   "source": [
    "The output (both stdout and stderr) is displayed on the command line console."
   ]
  },
  {
   "cell_type": "code",
   "execution_count": null,
   "id": "a55cb3ee",
   "metadata": {},
   "outputs": [],
   "source": [
    "os.chdir(initial_cwd)\n",
    "print('[CODE_SAMPLE_COMPLETED_SUCCESFULLY]')"
   ]
  }
 ],
 "metadata": {
  "kernelspec": {
   "display_name": "tensorflow_horovod",
   "language": "python",
   "name": "tensorflow_horovod"
  },
  "language_info": {
   "codemirror_mode": {
    "name": "ipython",
    "version": 3
   },
   "file_extension": ".py",
   "mimetype": "text/x-python",
   "name": "python",
   "nbconvert_exporter": "python",
   "pygments_lexer": "ipython3",
   "version": "3.9.16"
  }
 },
 "nbformat": 4,
 "nbformat_minor": 5
}
