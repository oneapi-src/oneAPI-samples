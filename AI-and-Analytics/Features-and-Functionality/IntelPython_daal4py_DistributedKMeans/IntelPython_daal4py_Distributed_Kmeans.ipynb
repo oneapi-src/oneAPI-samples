{
 "cells": [
  {
   "cell_type": "code",
   "execution_count": 1,
   "metadata": {},
   "outputs": [],
   "source": [
    "# =============================================================\n",
    "# Copyright © 2020 Intel Corporation\n",
    "# \n",
    "# SPDX-License-Identifier: MIT\n",
    "# ============================================================="
   ]
  },
  {
   "cell_type": "markdown",
   "metadata": {},
   "source": [
    "# Daal4py K-Means Clustering Example for Distributed Memory Systems [SPMD mode]"
   ]
  },
  {
   "cell_type": "markdown",
   "metadata": {},
   "source": [
    "## IMPORTANT NOTICE"
   ]
  },
  {
   "cell_type": "markdown",
   "metadata": {},
   "source": [
    "When using daal4py for distributed memory systems, the command needed to execute the program should be **executed \n",
    "in a bash shell**. In order to run this example, please download it as a .py file then run the following command (**the number 4 means that it will run on 4 processes**):"
   ]
  },
  {
   "cell_type": "markdown",
   "metadata": {},
   "source": [
    "mpirun -n 4 python ./daal4py_Distributed_Kmeans.py"
   ]
  },
  {
   "cell_type": "markdown",
   "metadata": {},
   "source": [
    "## Importing and Organizing Data"
   ]
  },
  {
   "cell_type": "markdown",
   "metadata": {},
   "source": [
    "In this example we will be using K-Means clustering to **initialize centroids** and then **use them to cluster the synthetic dataset.**\n",
    "\n",
    "Let's start by **importing** all necessary data and packages."
   ]
  },
  {
   "cell_type": "code",
   "execution_count": 2,
   "metadata": {},
   "outputs": [],
   "source": [
    "##### daal4py K-Means Clustering example for Distributed Memory Systems [SPMD Mode] #####\n",
    "import daal4py as d4p\n",
    "import pickle\n",
    "import pandas as pd\n",
    "import numpy as np"
   ]
  },
  {
   "cell_type": "markdown",
   "metadata": {},
   "source": [
    "Now let's **load** in the dataset and **organize** it as necessary to work with our model. For distributed, every file has a unique ID.\n",
    "\n",
    "We will also **initialize the distribution engine**."
   ]
  },
  {
   "cell_type": "code",
   "execution_count": 3,
   "metadata": {},
   "outputs": [],
   "source": [
    "d4p.daalinit() #initializes the distribution engine\n",
    "\n",
    "# organizing variables used in the model for prediction\n",
    "# each process gets its own data\n",
    "infile = \"./data/distributed_data/daal4py_Distributed_Kmeans_\" + str(d4p.my_procid()+1) + \".csv\"\n",
    "\n",
    "# read data\n",
    "X = pd.read_csv(infile)"
   ]
  },
  {
   "cell_type": "markdown",
   "metadata": {},
   "source": [
    "## Computing and Saving Initial Centroids"
   ]
  },
  {
   "cell_type": "markdown",
   "metadata": {},
   "source": [
    "Time to **initialize our centroids!**"
   ]
  },
  {
   "cell_type": "code",
   "execution_count": 4,
   "metadata": {},
   "outputs": [],
   "source": [
    "# computing inital centroids\n",
    "init_result = d4p.kmeans_init(nClusters = 3, method = \"plusPlusDense\").compute(X)"
   ]
  },
  {
   "cell_type": "markdown",
   "metadata": {},
   "source": [
    "To **get initial centroid information and save it** to a file:"
   ]
  },
  {
   "cell_type": "code",
   "execution_count": 5,
   "metadata": {},
   "outputs": [
    {
     "name": "stdout",
     "output_type": "stream",
     "text": [
      "Hers is our centroids:\n",
      "\n",
      "\n",
      " [[ 5.46000000e+02 -4.95417384e-01  8.83354904e+00]\n",
      " [ 1.80000000e+01 -4.12886224e+00 -7.35426095e+00]\n",
      " [ 4.11000000e+02 -3.27940151e+00 -6.22280477e+00]] \n",
      "\n"
     ]
    }
   ],
   "source": [
    "# retrieving and printing inital centroids\n",
    "centroids = init_result.centroids\n",
    "print(\"Here's our centroids:\\n\\n\\n\", centroids, \"\\n\")\n",
    "\n",
    "centroids_filename = './models/kmeans_clustering_initcentroids_'+  str(d4p.my_procid()+1) + '.csv'\n",
    "\n",
    "# saving centroids to a file\n",
    "pickle.dump(centroids, open(centroids_filename, \"wb\"))"
   ]
  },
  {
   "cell_type": "markdown",
   "metadata": {},
   "source": [
    "Now let's **load up the centroids** and look at them."
   ]
  },
  {
   "cell_type": "code",
   "execution_count": 6,
   "metadata": {},
   "outputs": [
    {
     "name": "stdout",
     "output_type": "stream",
     "text": [
      "Here is our centroids loaded from file:\n",
      "\n",
      " [[ 5.46000000e+02 -4.95417384e-01  8.83354904e+00]\n",
      " [ 1.80000000e+01 -4.12886224e+00 -7.35426095e+00]\n",
      " [ 4.11000000e+02 -3.27940151e+00 -6.22280477e+00]]\n"
     ]
    }
   ],
   "source": [
    "# loading the initial centroids from a file\n",
    "loaded_centroids = pickle.load(open(centroids_filename, \"rb\"))\n",
    "print(\"Here is our centroids loaded from file:\\n\\n\",loaded_centroids)"
   ]
  },
  {
   "cell_type": "markdown",
   "metadata": {},
   "source": [
    "# Assign The Data to Clusters and Save The Results"
   ]
  },
  {
   "cell_type": "markdown",
   "metadata": {},
   "source": [
    "Let's **assign the data** to clusters."
   ]
  },
  {
   "cell_type": "code",
   "execution_count": 7,
   "metadata": {},
   "outputs": [],
   "source": [
    "# compute the clusters/centroids\n",
    "kmeans_result = d4p.kmeans(nClusters = 3, maxIterations = 5, assignFlag = True).compute(X, init_result.centroids)"
   ]
  },
  {
   "cell_type": "markdown",
   "metadata": {},
   "source": [
    "To **get Kmeans result objects** (assignments, centroids, goalFunction [deprecated], nIterations, and objectiveFunction):"
   ]
  },
  {
   "cell_type": "code",
   "execution_count": null,
   "metadata": {},
   "outputs": [],
   "source": [
    "# retrieving and printing cluster assignments\n",
    "assignments = kmeans_result.assignments\n",
    "print(\"Here is our cluster assignments for first 5 datapoints: \\n\\n\", assignments[:5])"
   ]
  }
 ],
 "metadata": {
  "kernelspec": {
   "display_name": "Python 3",
   "language": "python",
   "name": "python3"
  },
  "language_info": {
   "codemirror_mode": {
    "name": "ipython",
    "version": 3
   },
   "file_extension": ".py",
   "mimetype": "text/x-python",
   "name": "python",
   "nbconvert_exporter": "python",
   "pygments_lexer": "ipython3",
   "version": "3.7.6"
  }
 },
 "nbformat": 4,
 "nbformat_minor": 2
}
