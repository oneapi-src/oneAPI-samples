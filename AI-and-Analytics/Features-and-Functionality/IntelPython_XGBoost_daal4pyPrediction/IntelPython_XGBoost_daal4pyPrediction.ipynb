{
 "cells": [
  {
   "cell_type": "code",
   "execution_count": 1,
   "id": "cleared-spare",
   "metadata": {},
   "outputs": [],
   "source": [
    "#===============================================================================\n",
    "# Copyright 2014-2021 Intel Corporation\n",
    "#\n",
    "# Licensed under the Apache License, Version 2.0 (the \"License\");\n",
    "# you may not use this file except in compliance with the License.\n",
    "# You may obtain a copy of the License at\n",
    "#\n",
    "#     http://www.apache.org/licenses/LICENSE-2.0\n",
    "#\n",
    "# Unless required by applicable law or agreed to in writing, software\n",
    "# distributed under the License is distributed on an \"AS IS\" BASIS,\n",
    "# WITHOUT WARRANTIES OR CONDITIONS OF ANY KIND, either express or implied.\n",
    "# See the License for the specific language governing permissions and\n",
    "# limitations under the License.\n",
    "#==============================================================================="
   ]
  },
  {
   "cell_type": "markdown",
   "id": "palestinian-waters",
   "metadata": {},
   "source": [
    "#  XGBoost Classification Model Using daal4py prediction"
   ]
  },
  {
   "cell_type": "markdown",
   "id": "right-renewal",
   "metadata": {},
   "source": [
    "In this example we will train a XGBoost model and predict using the daal4py prediction method for increased performance. Intel optimized XGBoost and daal4py shipped as a part of the oneAPI AI Analytics Toolkit.\n",
    "\n",
    "This example is a Jupyter Notebook version of this XGBoost daal4py prediction example: https://github.com/IntelPython/daal4py/blob/master/examples/gbt_cls_model_create_from_xgboost_batch.py"
   ]
  },
  {
   "cell_type": "markdown",
   "id": "incoming-malaysia",
   "metadata": {},
   "source": [
    "## Example Environment Creation"
   ]
  },
  {
   "cell_type": "markdown",
   "id": "convinced-judge",
   "metadata": {},
   "source": [
    "The environment for this example is the latest [Intel® oneAPI AI Analytics Toolkit](https://software.intel.com/content/www/us/en/develop/tools/oneapi/ai-analytics-toolkit.html) intel-aikit-modin environment, which includes data analytics and machine learning workflows such as daal4py, and Intel optimizations for XGboost."
   ]
  },
  {
   "cell_type": "markdown",
   "id": "victorian-budget",
   "metadata": {},
   "source": [
    "## Importing and Organizing Data"
   ]
  },
  {
   "cell_type": "markdown",
   "id": "trying-startup",
   "metadata": {},
   "source": [
    "Let's start by **importing** all necessary data and packages.\n"
   ]
  },
  {
   "cell_type": "code",
   "execution_count": 2,
   "id": "downtown-barrel",
   "metadata": {},
   "outputs": [
    {
     "name": "stderr",
     "output_type": "stream",
     "text": [
      "Intel(R) Extension for Scikit-learn* enabled (https://github.com/intel/scikit-learn-intelex)\n"
     ]
    }
   ],
   "source": [
    "import daal4py as d4p\n",
    "import xgboost as xgb\n",
    "import numpy as np\n",
    "import pandas as pd\n",
    "import time\n",
    "import matplotlib.pyplot as plt "
   ]
  },
  {
   "cell_type": "markdown",
   "id": "premier-interpretation",
   "metadata": {},
   "source": [
    "Now let's **load** in the dataset and **organize** it as necessary to work with our model."
   ]
  },
  {
   "cell_type": "code",
   "execution_count": 3,
   "id": "municipal-affiliate",
   "metadata": {},
   "outputs": [],
   "source": [
    "def pd_read_csv(f, c=None, t=np.float64):\n",
    "    return pd.read_csv(f, usecols=c, delimiter=',', header=None, dtype=t)"
   ]
  },
  {
   "cell_type": "code",
   "execution_count": 4,
   "id": "dimensional-george",
   "metadata": {},
   "outputs": [],
   "source": [
    "readcsv=pd_read_csv\n",
    "# Path to data\n",
    "train_file = \"./data/batch/df_classification_train.csv\"\n",
    "test_file = \"./data/batch/df_classification_test.csv\"\n",
    "\n",
    "# Data reading\n",
    "X_train = readcsv(train_file, range(3), t=np.float32)\n",
    "y_train = readcsv(train_file, range(3, 4), t=np.float32)\n",
    "X_test = readcsv(test_file, range(3), t=np.float32)\n",
    "y_test = readcsv(test_file, range(3, 4), t=np.float32)\n",
    "\n",
    "# Datasets creation\n",
    "xgb_train = xgb.DMatrix(X_train, label=np.array(y_train))\n",
    "xgb_test = xgb.DMatrix(X_test, label=np.array(y_test))"
   ]
  },
  {
   "cell_type": "markdown",
   "id": "unnecessary-librarian",
   "metadata": {},
   "source": [
    "## Training the Model"
   ]
  },
  {
   "cell_type": "markdown",
   "id": "indoor-allocation",
   "metadata": {},
   "source": [
    "**Fitting and training the model** using the training dataset."
   ]
  },
  {
   "cell_type": "code",
   "execution_count": 5,
   "id": "sufficient-google",
   "metadata": {},
   "outputs": [],
   "source": [
    "# training parameters setting\n",
    "params = {\n",
    "    'max_bin': 256,\n",
    "    'scale_pos_weight': 2,\n",
    "    'lambda_l2': 1,\n",
    "    'alpha': 0.9,\n",
    "    'max_depth': 8,\n",
    "    'num_leaves': 2**8,\n",
    "    'verbosity': 0,\n",
    "    'objective': 'multi:softmax',\n",
    "    'learning_rate': 0.3,\n",
    "    'num_class': 5,\n",
    "}\n",
    "\n",
    "# Training\n",
    "xgb_model = xgb.train(params, xgb_train, num_boost_round=100)"
   ]
  },
  {
   "cell_type": "markdown",
   "id": "several-darkness",
   "metadata": {},
   "source": [
    "## Using daal4py for Prediction"
   ]
  },
  {
   "cell_type": "markdown",
   "id": "clear-gilbert",
   "metadata": {},
   "source": [
    "### XGBoost Prediction"
   ]
  },
  {
   "cell_type": "markdown",
   "id": "molecular-indicator",
   "metadata": {},
   "source": [
    "We will also make a prediction using XGBoost for accuracy/performance comparison."
   ]
  },
  {
   "cell_type": "code",
   "execution_count": 6,
   "id": "worldwide-inspiration",
   "metadata": {},
   "outputs": [],
   "source": [
    "# XGBoost prediction (for accuracy comparison)\n",
    "t0 = time.time()\n",
    "xgb_prediction = xgb_model.predict(xgb_test)\n",
    "t1 = time.time()\n",
    "xgb_errors_count = np.count_nonzero(xgb_prediction - np.ravel(y_test))\n",
    "\n",
    "xgb_total = t1-t0"
   ]
  },
  {
   "cell_type": "markdown",
   "id": "separated-connection",
   "metadata": {},
   "source": [
    "### daal4py Prediction"
   ]
  },
  {
   "cell_type": "markdown",
   "id": "bottom-recipe",
   "metadata": {},
   "source": [
    "Now let's make a prediction using daal4py for increased performance."
   ]
  },
  {
   "cell_type": "code",
   "execution_count": 7,
   "id": "graphic-finish",
   "metadata": {},
   "outputs": [],
   "source": [
    "# Conversion to daal4py\n",
    "daal_model = d4p.get_gbt_model_from_xgboost(xgb_model)\n",
    "\n",
    "# daal4py prediction\n",
    "daal_predict_algo = d4p.gbt_classification_prediction(\n",
    "    nClasses=params[\"num_class\"],\n",
    "    resultsToEvaluate=\"computeClassLabels\",\n",
    "    fptype='float'\n",
    ")\n",
    "t0 = time.time()\n",
    "daal_prediction = daal_predict_algo.compute(X_test, daal_model)\n",
    "t1 = time.time()\n",
    "daal_errors_count = np.count_nonzero(daal_prediction.prediction -  y_test)\n",
    "\n",
    "d4p_total = t1-t0"
   ]
  },
  {
   "cell_type": "code",
   "execution_count": 8,
   "id": "declared-deviation",
   "metadata": {},
   "outputs": [],
   "source": [
    "assert np.absolute(xgb_errors_count - daal_errors_count) == 0\n",
    "y_test = np.ravel(y_test)\n",
    "daal_prediction = np.ravel(daal_prediction.prediction)\n"
   ]
  },
  {
   "cell_type": "markdown",
   "id": "representative-desperate",
   "metadata": {},
   "source": [
    "## Accuracy & Performance Comparison: XGBoots Prediction vs. Daal4py Prediction\n",
    "### No accuracy loss!"
   ]
  },
  {
   "cell_type": "code",
   "execution_count": 9,
   "id": "annual-victor",
   "metadata": {},
   "outputs": [
    {
     "name": "stdout",
     "output_type": "stream",
     "text": [
      "\n",
      "XGBoost prediction results (first 10 rows):\n",
      " [4. 2. 2. 2. 3. 1. 3. 4. 3. 4.]\n",
      "\n",
      "daal4py prediction results (first 10 rows):\n",
      " [4. 2. 2. 2. 3. 1. 3. 4. 3. 4.]\n",
      "\n",
      "Ground truth (first 10 rows):\n",
      " [4. 2. 2. 2. 3. 1. 3. 4. 3. 4.]\n",
      "XGBoost errors count: 10\n",
      "XGBoost accuracy score: 0.99\n",
      "\n",
      "daal4py errors count: 10\n",
      "daal4py accuracy score: 0.99\n",
      "\n",
      " XGBoost Prediction Time: 0.010839700698852539\n",
      "\n",
      " daal4py Prediction Time: 0.03711390495300293\n",
      "\n",
      "All looks good!\n"
     ]
    }
   ],
   "source": [
    "print(\"\\nXGBoost prediction results (first 10 rows):\\n\", xgb_prediction[0:10])\n",
    "print(\"\\ndaal4py prediction results (first 10 rows):\\n\", daal_prediction[0:10])\n",
    "print(\"\\nGround truth (first 10 rows):\\n\", y_test[0:10])\n",
    "\n",
    "print(\"XGBoost errors count:\", xgb_errors_count)\n",
    "print(\"XGBoost accuracy score:\", 1 - xgb_errors_count / xgb_prediction.shape[0])\n",
    "\n",
    "print(\"\\ndaal4py errors count:\", daal_errors_count)\n",
    "print(\"daal4py accuracy score:\", 1 - daal_errors_count / daal_prediction.shape[0])\n",
    "\n",
    "print(\"\\n XGBoost Prediction Time:\", xgb_total)\n",
    "print(\"\\n daal4py Prediction Time:\", d4p_total)\n",
    "print(\"\\nAll looks good!\")"
   ]
  },
  {
   "cell_type": "markdown",
   "id": "progressive-switch",
   "metadata": {},
   "source": [
    "### Visualizations"
   ]
  },
  {
   "cell_type": "markdown",
   "id": "skilled-cache",
   "metadata": {},
   "source": [
    "#### Performance"
   ]
  },
  {
   "cell_type": "code",
   "execution_count": 10,
   "id": "appreciated-abuse",
   "metadata": {},
   "outputs": [
    {
     "data": {
      "image/png": "[encoded data removed]",
      "text/plain": [
       "<Figure size 432x288 with 1 Axes>"
      ]
     },
     "metadata": {
      "needs_background": "light"
     },
     "output_type": "display_data"
    },
    {
     "name": "stdout",
     "output_type": "stream",
     "text": [
      "speedup: 0.2920657557478464\n"
     ]
    }
   ],
   "source": [
    "left = [1,2]\n",
    "pred_times = [xgb_total, d4p_total]\n",
    "tick_label = ['XGBoost Prediction', 'daal4py Prediction']\n",
    "plt.bar(left, pred_times, tick_label = tick_label, width = 0.5, color = ['red', 'blue'])\n",
    "plt.xlabel('Prediction Method'); plt.ylabel('time,s'); plt.title('Prediction time,s')\n",
    "plt.show()\n",
    "print(\"speedup:\",xgb_total/d4p_total)"
   ]
  },
  {
   "cell_type": "markdown",
   "id": "comprehensive-column",
   "metadata": {},
   "source": [
    "#### Accuracy"
   ]
  },
  {
   "cell_type": "code",
   "execution_count": 11,
   "id": "iraqi-journal",
   "metadata": {},
   "outputs": [
    {
     "data": {
      "image/png": "[encoded data removed]",
      "text/plain": [
       "<Figure size 432x288 with 1 Axes>"
      ]
     },
     "metadata": {
      "needs_background": "light"
     },
     "output_type": "display_data"
    },
    {
     "name": "stdout",
     "output_type": "stream",
     "text": [
      "Accuracy Difference 0.0\n"
     ]
    }
   ],
   "source": [
    "left = [1,2]\n",
    "xgb_acc = 1 - xgb_errors_count / xgb_prediction.shape[0]\n",
    "d4p_acc = 1 - daal_errors_count / daal_prediction.shape[0]\n",
    "pred_acc = [xgb_acc, d4p_acc]\n",
    "tick_label = ['XGBoost Prediction', 'daal4py Prediction']\n",
    "plt.bar(left, pred_acc, tick_label = tick_label, width = 0.5, color = ['red', 'blue'])\n",
    "plt.xlabel('Prediction Method'); plt.ylabel('accuracy, %'); plt.title('Prediction Accuracy, %')\n",
    "plt.show()\n",
    "print(\"Accuracy Difference\",xgb_acc-d4p_acc)"
   ]
  },
  {
   "cell_type": "code",
   "execution_count": 12,
   "id": "scheduled-sitting",
   "metadata": {},
   "outputs": [
    {
     "name": "stdout",
     "output_type": "stream",
     "text": [
      "[CODE_SAMPLE_COMPLETED_SUCCESFULLY]\n"
     ]
    }
   ],
   "source": [
    "print(\"[CODE_SAMPLE_COMPLETED_SUCCESFULLY]\")"
   ]
  },
  {
   "cell_type": "code",
   "execution_count": null,
   "id": "ed89e59b-09ea-4f44-a506-d0b6d4219844",
   "metadata": {},
   "outputs": [],
   "source": []
  }
 ],
 "metadata": {
  "kernelspec": {
   "display_name": "Python 3.7 (Intel® oneAPI)",
   "language": "python",
   "name": "c009-intel_distribution_of_python_3_oneapi-beta05-python"
  },
  "language_info": {
   "codemirror_mode": {
    "name": "ipython",
    "version": 3
   },
   "file_extension": ".py",
   "mimetype": "text/x-python",
   "name": "python",
   "nbconvert_exporter": "python",
   "pygments_lexer": "ipython3",
   "version": "3.9.7"
  }
 },
 "nbformat": 4,
 "nbformat_minor": 5
}
