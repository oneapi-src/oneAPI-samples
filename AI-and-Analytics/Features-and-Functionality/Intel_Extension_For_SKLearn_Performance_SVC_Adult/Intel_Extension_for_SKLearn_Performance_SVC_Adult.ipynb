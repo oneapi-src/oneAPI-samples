{
 "cells": [
  {
   "cell_type": "markdown",
   "id": "f5c4abc0",
   "metadata": {},
   "source": [
    "# Intel® Extension for Scikit-learn Performance Sample: SVC for [Adult dataset](https://www.openml.org/d/1430)\n",
    "\n",
    "## Loading dataset"
   ]
  },
  {
   "cell_type": "code",
   "execution_count": 12,
   "id": "23512089",
   "metadata": {},
   "outputs": [],
   "source": [
    "from time import time\n",
    "from sklearn import metrics\n",
    "from sklearn.model_selection import train_test_split"
   ]
  },
  {
   "cell_type": "code",
   "execution_count": 13,
   "id": "27b99b44",
   "metadata": {},
   "outputs": [],
   "source": [
    "from sklearn.datasets import fetch_openml\n",
    "x, y = fetch_openml(name='a9a', return_X_y=True)"
   ]
  },
  {
   "cell_type": "code",
   "execution_count": 14,
   "id": "96e14dd7",
   "metadata": {},
   "outputs": [],
   "source": [
    "x_train, x_test, y_train, y_test = train_test_split(x, y, test_size=0.2, random_state=42)"
   ]
  },
  {
   "cell_type": "markdown",
   "id": "0341cac9",
   "metadata": {},
   "source": [
    "## Using Intel(R) Extension for Scikit-learn\n",
    "\n",
    "Intel(R) Extension for Scikit-learn (previously known as daal4py) contains drop-in replacement functionality for the stock scikit-learn package. You can take advantage of the performance optimizations of Intel(R) Extension for Scikit-learn by adding just two lines of code before the usual scikit-learn imports:"
   ]
  },
  {
   "cell_type": "code",
   "execution_count": 15,
   "id": "244c5bc9",
   "metadata": {},
   "outputs": [
    {
     "name": "stderr",
     "output_type": "stream",
     "text": [
      "Intel(R) Extension for Scikit-learn* enabled (https://github.com/intel/scikit-learn-intelex)\n"
     ]
    }
   ],
   "source": [
    "from sklearnex import patch_sklearn\n",
    "patch_sklearn()"
   ]
  },
  {
   "cell_type": "markdown",
   "id": "6bb14ac8",
   "metadata": {},
   "source": [
    "Intel(R) Extension for Scikit-learn patching affects performance of specific Scikit-learn functionality. Refer to the [list of supported algorithms and parameters](https://intel.github.io/scikit-learn-intelex/algorithms.html) for details. In cases when unsupported parameters are used, the package fallbacks into original Scikit-learn. If the patching does not cover your scenarios, [submit an issue on GitHub](https://github.com/intel/scikit-learn-intelex/issues)."
   ]
  },
  {
   "cell_type": "code",
   "execution_count": 16,
   "id": "41c13dd3",
   "metadata": {},
   "outputs": [],
   "source": [
    "params = {\n",
    "    'C': 100.0,\n",
    "    'kernel': 'rbf',\n",
    "    'gamma': 'scale'\n",
    "}"
   ]
  },
  {
   "cell_type": "markdown",
   "id": "693b4e26",
   "metadata": {},
   "source": [
    "Train SVC algorithm with Intel(R) Extension for Scikit-learn on Adult dataset:"
   ]
  },
  {
   "cell_type": "code",
   "execution_count": 17,
   "id": "e9b8f06b",
   "metadata": {},
   "outputs": [
    {
     "data": {
      "text/plain": [
       "'Execution time with Intel(R) Extension for Scikit-learn: 58.39 s'"
      ]
     },
     "execution_count": 17,
     "metadata": {},
     "output_type": "execute_result"
    }
   ],
   "source": [
    "start_opt = time()\n",
    "from sklearn.svm import SVC\n",
    "classifier = SVC(**params).fit(x_train, y_train)\n",
    "finish_opt = time()\n",
    "f\"Execution time with Intel(R) Extension for Scikit-learn: {(finish_opt - start_opt):.2f} s\""
   ]
  },
  {
   "cell_type": "markdown",
   "id": "d01cdabc",
   "metadata": {},
   "source": [
    "Make predictions with SVC classifier and print a report of the main classification metrics:"
   ]
  },
  {
   "cell_type": "code",
   "execution_count": 18,
   "id": "9ead2a44",
   "metadata": {
    "scrolled": true
   },
   "outputs": [
    {
     "name": "stdout",
     "output_type": "stream",
     "text": [
      "Classification report for SVC trained with Intel(R) extension for Scikit-learn:\n",
      "              precision    recall  f1-score   support\n",
      "\n",
      "        -1.0       0.87      0.90      0.88      7414\n",
      "         1.0       0.64      0.58      0.61      2355\n",
      "\n",
      "    accuracy                           0.82      9769\n",
      "   macro avg       0.76      0.74      0.75      9769\n",
      "weighted avg       0.82      0.82      0.82      9769\n",
      "\n",
      "\n"
     ]
    }
   ],
   "source": [
    "predicted = classifier.predict(x_test)\n",
    "acc_opt = metrics.accuracy_score(y_test, predicted)\n",
    "report_opt = metrics.classification_report(y_test, predicted)\n",
    "print(f\"Classification report for SVC trained with Intel(R) extension for Scikit-learn:\\n{report_opt}\\n\")"
   ]
  },
  {
   "cell_type": "markdown",
   "id": "bd8e7b0b",
   "metadata": {},
   "source": [
    "*The first column of the classification report above contains class labels.*  \n",
    "\n",
    "## Using original Scikit-learn\n",
    "\n",
    "To cancel optimizations, use `unpatch_sklearn` and reimport the SVC class."
   ]
  },
  {
   "cell_type": "code",
   "execution_count": 19,
   "id": "5bb884d5",
   "metadata": {},
   "outputs": [],
   "source": [
    "from sklearnex import unpatch_sklearn\n",
    "unpatch_sklearn()"
   ]
  },
  {
   "cell_type": "markdown",
   "id": "8cfa0dba",
   "metadata": {},
   "source": [
    "Train SVC algorithm with original scikit-learn library on Adult dataset:"
   ]
  },
  {
   "cell_type": "code",
   "execution_count": 20,
   "id": "ae421d8e",
   "metadata": {},
   "outputs": [
    {
     "data": {
      "text/plain": [
       "'Execution time with the original Scikit-learn: 731.59 s'"
      ]
     },
     "execution_count": 20,
     "metadata": {},
     "output_type": "execute_result"
    }
   ],
   "source": [
    "start_unopt = time()\n",
    "from sklearn.svm import SVC\n",
    "classifier = SVC(**params).fit(x_train, y_train)\n",
    "finish_unopt = time()\n",
    "f\"Execution time with the original Scikit-learn: {(finish_unopt - start_unopt):.2f} s\""
   ]
  },
  {
   "cell_type": "markdown",
   "id": "c0a7a747",
   "metadata": {},
   "source": [
    "Predict and get a result of the SVC algorithm with original Scikit-learn."
   ]
  },
  {
   "cell_type": "code",
   "execution_count": 21,
   "id": "7644999d",
   "metadata": {},
   "outputs": [
    {
     "name": "stdout",
     "output_type": "stream",
     "text": [
      "Classification report for SVC trained with the original scikit-learn:\n",
      "              precision    recall  f1-score   support\n",
      "\n",
      "        -1.0       0.87      0.90      0.88      7414\n",
      "         1.0       0.64      0.58      0.61      2355\n",
      "\n",
      "    accuracy                           0.82      9769\n",
      "   macro avg       0.76      0.74      0.75      9769\n",
      "weighted avg       0.82      0.82      0.82      9769\n",
      "\n",
      "\n"
     ]
    }
   ],
   "source": [
    "predicted = classifier.predict(x_test)\n",
    "acc_unopt = metrics.accuracy_score(y_test, predicted)\n",
    "report_unopt = metrics.classification_report(y_test, predicted)\n",
    "print(f\"Classification report for SVC trained with the original scikit-learn:\\n{report_unopt}\\n\")"
   ]
  },
  {
   "cell_type": "markdown",
   "id": "8efca43d-e50e-478e-ac85-151380e3951b",
   "metadata": {
    "tags": []
   },
   "source": [
    "## Visualizations"
   ]
  },
  {
   "cell_type": "markdown",
   "id": "2be9ec76-8041-4f29-8dd0-e4c396161f57",
   "metadata": {},
   "source": [
    "### Performance"
   ]
  },
  {
   "cell_type": "code",
   "execution_count": 22,
   "id": "9f952e7a-93c7-432d-9809-9240d47bae66",
   "metadata": {},
   "outputs": [
    {
     "data": {
      "image/png": "[encoded data removed]",
      "text/plain": [
       "<Figure size 432x288 with 1 Axes>"
      ]
     },
     "metadata": {
      "needs_background": "light"
     },
     "output_type": "display_data"
    },
    {
     "name": "stdout",
     "output_type": "stream",
     "text": [
      "Performance Speedup:  12.529641264857615\n"
     ]
    }
   ],
   "source": [
    "import matplotlib.pyplot as plt\n",
    "left = [1,2]\n",
    "pred_times = [finish_opt - start_opt, finish_unopt - start_unopt]\n",
    "tick_label = ['Intel Extension for SKLearn', 'Unoptimized SKLearn']\n",
    "plt.bar(left, pred_times, tick_label = tick_label, width = 0.5, color = ['blue', 'red'])\n",
    "plt.xlabel('Training Method'); plt.ylabel('time,s'); plt.title('SVC Training Time,s')\n",
    "plt.show()\n",
    "print(\"Performance Speedup: \",(finish_unopt - start_unopt)/(finish_opt - start_opt))"
   ]
  },
  {
   "cell_type": "markdown",
   "id": "ddaa91e3-ed8f-4042-9d5c-f25cd7e74aaa",
   "metadata": {},
   "source": [
    "### Accuracy"
   ]
  },
  {
   "cell_type": "code",
   "execution_count": 23,
   "id": "625b6fd5-c252-4971-95d1-36835fb44053",
   "metadata": {},
   "outputs": [
    {
     "data": {
      "image/png": "[encoded data removed]",
      "text/plain": [
       "<Figure size 432x288 with 1 Axes>"
      ]
     },
     "metadata": {
      "needs_background": "light"
     },
     "output_type": "display_data"
    },
    {
     "name": "stdout",
     "output_type": "stream",
     "text": [
      "Accuracy Difference:  0.0\n"
     ]
    }
   ],
   "source": [
    "left = [1,2]\n",
    "pred_acc = [acc_opt, acc_unopt]\n",
    "tick_label = ['Intel Extension for SKLearn', 'Unoptimized SKLearn']\n",
    "plt.bar(left, pred_acc, tick_label = tick_label, width = 0.5, color = ['blue', 'red'])\n",
    "plt.xlabel('Training Method'); plt.ylabel('accuracy, %'); plt.title('SVC Training Time, %')\n",
    "plt.show()\n",
    "print(\"Accuracy Difference: \",acc_opt - acc_unopt)"
   ]
  },
  {
   "cell_type": "markdown",
   "id": "b49fc33c-b4bc-4ccb-a3f5-5a67d64c231b",
   "metadata": {
    "tags": []
   },
   "source": [
    "## Conclusions \n",
    "\n",
    "With Intel(R) Extension for Scikit-learn you can:\n",
    "\n",
    "- Use your existing scikit-learn code for training and prediction;\n",
    "- Add a couple of lines to execute your code up to be significantly faster than stock scikit-learn;\n",
    "- Get models of the same quality."
   ]
  }
 ],
 "metadata": {
  "kernelspec": {
   "display_name": "Python 3.7 (Intel® oneAPI)",
   "language": "python",
   "name": "c009-intel_distribution_of_python_3_oneapi-beta05-python"
  },
  "language_info": {
   "codemirror_mode": {
    "name": "ipython",
    "version": 3
   },
   "file_extension": ".py",
   "mimetype": "text/x-python",
   "name": "python",
   "nbconvert_exporter": "python",
   "pygments_lexer": "ipython3",
   "version": "3.9.7"
  }
 },
 "nbformat": 4,
 "nbformat_minor": 5
}
