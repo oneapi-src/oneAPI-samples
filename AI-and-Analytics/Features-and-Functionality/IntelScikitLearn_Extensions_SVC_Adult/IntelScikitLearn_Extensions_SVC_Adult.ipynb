{
 "cells": [
  {
   "cell_type": "markdown",
   "id": "f5c4abc0",
   "metadata": {},
   "source": [
    "# Intel® Extension for Scikit-learn: SVC for [Adult dataset](https://www.openml.org/d/1430)\n",
    "\n",
    "## Loading dataset"
   ]
  },
  {
   "cell_type": "code",
   "execution_count": 1,
   "id": "23512089",
   "metadata": {},
   "outputs": [],
   "source": [
    "from time import time\n",
    "from sklearn import metrics\n",
    "from sklearn.model_selection import train_test_split"
   ]
  },
  {
   "cell_type": "code",
   "execution_count": 2,
   "id": "27b99b44",
   "metadata": {},
   "outputs": [],
   "source": [
    "from sklearn.datasets import fetch_openml\n",
    "x, y = fetch_openml(name='a9a', return_X_y=True)"
   ]
  },
  {
   "cell_type": "code",
   "execution_count": 3,
   "id": "96e14dd7",
   "metadata": {},
   "outputs": [],
   "source": [
    "x_train, x_test, y_train, y_test = train_test_split(x, y, test_size=0.2, random_state=42)"
   ]
  },
  {
   "cell_type": "markdown",
   "id": "0341cac9",
   "metadata": {},
   "source": [
    "## Using Intel(R) Extension for Scikit-learn\n",
    "\n",
    "Intel(R) Extension for Scikit-learn (previously known as daal4py) contains drop-in replacement functionality for the stock scikit-learn package. You can take advantage of the performance optimizations of Intel(R) Extension for Scikit-learn by adding just two lines of code before the usual scikit-learn imports:"
   ]
  },
  {
   "cell_type": "code",
   "execution_count": 4,
   "id": "244c5bc9",
   "metadata": {},
   "outputs": [
    {
     "name": "stderr",
     "output_type": "stream",
     "text": [
      "Intel(R) Extension for Scikit-learn* enabled (https://github.com/intel/scikit-learn-intelex)\n"
     ]
    }
   ],
   "source": [
    "from sklearnex import patch_sklearn\n",
    "patch_sklearn()"
   ]
  },
  {
   "cell_type": "markdown",
   "id": "6bb14ac8",
   "metadata": {},
   "source": [
    "Intel(R) Extension for Scikit-learn patching affects performance of specific Scikit-learn functionality. Refer to the [list of supported algorithms and parameters](https://intel.github.io/scikit-learn-intelex/algorithms.html) for details. In cases when unsupported parameters are used, the package fallbacks into original Scikit-learn. If the patching does not cover your scenarios, [submit an issue on GitHub](https://github.com/intel/scikit-learn-intelex/issues)."
   ]
  },
  {
   "cell_type": "code",
   "execution_count": 5,
   "id": "41c13dd3",
   "metadata": {},
   "outputs": [],
   "source": [
    "params = {\n",
    "    'C': 100.0,\n",
    "    'kernel': 'rbf',\n",
    "    'gamma': 'scale'\n",
    "}"
   ]
  },
  {
   "cell_type": "markdown",
   "id": "693b4e26",
   "metadata": {},
   "source": [
    "Train SVC algorithm with Intel(R) Extension for Scikit-learn on Adult dataset:"
   ]
  },
  {
   "cell_type": "code",
   "execution_count": 6,
   "id": "e9b8f06b",
   "metadata": {},
   "outputs": [
    {
     "data": {
      "text/plain": [
       "'Execution time with Intel(R) extension for Scikit-learn: 14.28 s'"
      ]
     },
     "execution_count": 6,
     "metadata": {},
     "output_type": "execute_result"
    }
   ],
   "source": [
    "start = time()\n",
    "from sklearn.svm import SVC\n",
    "classifier = SVC(**params).fit(x_train, y_train)\n",
    "f\"Execution time with Intel(R) Extension for Scikit-learn: {(time() - start):.2f} s\""
   ]
  },
  {
   "cell_type": "markdown",
   "id": "d01cdabc",
   "metadata": {},
   "source": [
    "Make predictions with SVC classifier and print a report of the main classification metrics:"
   ]
  },
  {
   "cell_type": "code",
   "execution_count": 7,
   "id": "9ead2a44",
   "metadata": {
    "scrolled": true
   },
   "outputs": [
    {
     "name": "stdout",
     "output_type": "stream",
     "text": [
      "Classification report for SVC trained with Intel(R) extension for Scikit-learn:\n",
      "              precision    recall  f1-score   support\n",
      "\n",
      "        -1.0       0.87      0.90      0.88      7414\n",
      "         1.0       0.64      0.58      0.61      2355\n",
      "\n",
      "    accuracy                           0.82      9769\n",
      "   macro avg       0.76      0.74      0.75      9769\n",
      "weighted avg       0.82      0.82      0.82      9769\n",
      "\n",
      "\n"
     ]
    }
   ],
   "source": [
    "predicted = classifier.predict(x_test)\n",
    "report = metrics.classification_report(y_test, predicted)\n",
    "print(f\"Classification report for SVC trained with Intel(R) extension for Scikit-learn:\\n{report}\\n\")"
   ]
  },
  {
   "cell_type": "markdown",
   "id": "bd8e7b0b",
   "metadata": {},
   "source": [
    "*The first column of the classification report above contains class labels.*  \n",
    "\n",
    "## Using original Scikit-learn\n",
    "\n",
    "To cancel optimizations, use `unpatch_sklearn` and reimport the SVC class."
   ]
  },
  {
   "cell_type": "code",
   "execution_count": 8,
   "id": "5bb884d5",
   "metadata": {},
   "outputs": [],
   "source": [
    "from sklearnex import unpatch_sklearn\n",
    "unpatch_sklearn()"
   ]
  },
  {
   "cell_type": "markdown",
   "id": "8cfa0dba",
   "metadata": {},
   "source": [
    "Train SVC algorithm with original scikit-learn library on Adult dataset:"
   ]
  },
  {
   "cell_type": "code",
   "execution_count": 9,
   "id": "ae421d8e",
   "metadata": {},
   "outputs": [
    {
     "data": {
      "text/plain": [
       "'Execution time with the original Scikit-learn: 1031.92 s'"
      ]
     },
     "execution_count": 9,
     "metadata": {},
     "output_type": "execute_result"
    }
   ],
   "source": [
    "start = time()\n",
    "from sklearn.svm import SVC\n",
    "classifier = SVC(**params).fit(x_train, y_train)\n",
    "f\"Execution time with the original Scikit-learn: {(time() - start):.2f} s\""
   ]
  },
  {
   "cell_type": "markdown",
   "id": "c0a7a747",
   "metadata": {},
   "source": [
    "Predict and get a result of the SVC algorithm with original Scikit-learn."
   ]
  },
  {
   "cell_type": "code",
   "execution_count": 10,
   "id": "7644999d",
   "metadata": {},
   "outputs": [
    {
     "name": "stdout",
     "output_type": "stream",
     "text": [
      "Classification report for SVC trained with the original scikit-learn:\n",
      "              precision    recall  f1-score   support\n",
      "\n",
      "        -1.0       0.87      0.90      0.88      7414\n",
      "         1.0       0.64      0.58      0.61      2355\n",
      "\n",
      "    accuracy                           0.82      9769\n",
      "   macro avg       0.76      0.74      0.75      9769\n",
      "weighted avg       0.82      0.82      0.82      9769\n",
      "\n",
      "\n"
     ]
    }
   ],
   "source": [
    "predicted = classifier.predict(x_test)\n",
    "report = metrics.classification_report(y_test, predicted)\n",
    "print(f\"Classification report for SVC trained with the original scikit-learn:\\n{report}\\n\")"
   ]
  },
  {
   "cell_type": "markdown",
   "id": "eb299d22",
   "metadata": {},
   "source": [
    "## Conclusions \n",
    "\n",
    "With Intel(R) Extension for Scikit-learn you can:\n",
    "\n",
    "- Use your existing scikit-learn code for training and prediction;\n",
    "- Add a couple of lines to execute your code up to **72** times faster;\n",
    "- Get models of the same quality."
   ]
  }
 ],
 "metadata": {
  "kernelspec": {
   "display_name": "Python 3",
   "language": "python",
   "name": "python3"
  },
  "language_info": {
   "codemirror_mode": {
    "name": "ipython",
    "version": 3
   },
   "file_extension": ".py",
   "mimetype": "text/x-python",
   "name": "python",
   "nbconvert_exporter": "python",
   "pygments_lexer": "ipython3",
   "version": "3.8.10"
  }
 },
 "nbformat": 4,
 "nbformat_minor": 5
}
