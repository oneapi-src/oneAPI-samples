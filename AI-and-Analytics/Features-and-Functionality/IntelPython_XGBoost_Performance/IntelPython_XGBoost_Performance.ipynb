{
 "cells": [
  {
   "cell_type": "markdown",
   "id": "9555a2b5",
   "metadata": {},
   "source": [
    "# XGBoost Performance Comparison "
   ]
  },
  {
   "cell_type": "markdown",
   "id": "b42cc6eb",
   "metadata": {},
   "source": [
    "In this example we will train a XGBoost model and predict the results to show off Intel's optimizations for XGBoost used for increased performance. Intel optimized XGBoost is shipped as a part of the Intel® oneAPI AI Analytics Toolkit.\n",
    "\n",
    "This example is a Jupyter Notebook version of a XGBoost example seen in this Medium blog using the popular Higgs dataset: \n",
    "https://medium.com/intel-analytics-software/new-optimizations-for-cpu-in-xgboost-1-1-81144ea21115"
   ]
  },
  {
   "cell_type": "markdown",
   "id": "5f952181",
   "metadata": {},
   "source": [
    "In this example, we will use a dataset with particle features and functions of those features **to distinguish between a signal process which produces Higgs bosons (1) and a background process which does not (0)**. The Higgs boson is a basic particle in the standard model produced by the quantum excitation of the Higgs field, named after physicist Peter Higgs."
   ]
  },
  {
   "cell_type": "markdown",
   "id": "f9f1866a",
   "metadata": {},
   "source": [
    "## Example Environment Creation"
   ]
  },
  {
   "cell_type": "markdown",
   "id": "028a3491",
   "metadata": {},
   "source": [
    "This example is executed in two Anaconda environments. \n",
    "\n",
    "The first environment is the latest [Intel® oneAPI AI Analytics Toolkit](https://software.intel.com/content/www/us/en/develop/tools/oneapi/ai-analytics-toolkit.html) base environment, which includes data analytics and machine learning workflows and Intel optimizations for XGboost. See [here](https://software.intel.com/content/www/us/en/develop/articles/installing-ai-kit-with-conda.html) for more installation information."
   ]
  },
  {
   "cell_type": "markdown",
   "id": "9791c87f",
   "metadata": {},
   "source": [
    "The second environment is a clone of the first environment using commands:"
   ]
  },
  {
   "cell_type": "markdown",
   "id": "eac540c1",
   "metadata": {},
   "source": [
    "`conda create --name xgb0.81 --clone aikit-base-env-name`"
   ]
  },
  {
   "cell_type": "markdown",
   "id": "6ef59d0b",
   "metadata": {},
   "source": [
    "`conda activate xgb0.81`"
   ]
  },
  {
   "cell_type": "markdown",
   "id": "7f8795a9",
   "metadata": {},
   "source": [
    "`conda remove xgboost`"
   ]
  },
  {
   "cell_type": "markdown",
   "id": "1893649c",
   "metadata": {},
   "source": [
    "`pip install xgboost==0.81`"
   ]
  },
  {
   "cell_type": "markdown",
   "id": "7cd44506-87cf-4b91-b512-1d9f4bdf3064",
   "metadata": {},
   "source": [
    "To convert the second environment to a Jupyter Notebook kernel, use the command:"
   ]
  },
  {
   "cell_type": "markdown",
   "id": "c7dd718d-71c3-4900-9665-f8db27574e2f",
   "metadata": {},
   "source": [
    "`python -m ipykernel install --user --name=xgb0.81`"
   ]
  },
  {
   "cell_type": "markdown",
   "id": "7689bfc7",
   "metadata": {},
   "source": [
    "Run this performance demo in both environments, **saving the visualization cell until after both runs as instructed later in this demo.**"
   ]
  },
  {
   "cell_type": "markdown",
   "id": "ff270355",
   "metadata": {},
   "source": [
    "## Importing and Organizing Data"
   ]
  },
  {
   "cell_type": "markdown",
   "id": "ce296556",
   "metadata": {},
   "source": [
    "Let's start by **importing** all necessary data and packages.\n"
   ]
  },
  {
   "cell_type": "code",
   "execution_count": 1,
   "id": "a63cd0f6",
   "metadata": {},
   "outputs": [
    {
     "name": "stderr",
     "output_type": "stream",
     "text": [
      "Intel(R) Extension for Scikit-learn* enabled (https://github.com/intel/scikit-learn-intelex)\n"
     ]
    }
   ],
   "source": [
    "import numpy as np\n",
    "import os\n",
    "import matplotlib.pyplot as plt\n",
    "import requests\n",
    "import pandas as pd\n",
    "import sys\n",
    "import xgboost as xgb\n",
    "import time"
   ]
  },
  {
   "cell_type": "markdown",
   "id": "52c43a7f",
   "metadata": {},
   "source": [
    "Now let's **load** in the Higgs dataset and **organize** it as necessary to work with our model. You can opt to remove this cell and add your own data as you see fit."
   ]
  },
  {
   "cell_type": "code",
   "execution_count": 2,
   "id": "774da77e",
   "metadata": {},
   "outputs": [],
   "source": [
    "def load_higgs(nrows_train, nrows_test, dtype=np.float32):\n",
    "    if not os.path.isfile(\"./HIGGS.csv.gz\"):\n",
    "        print(\"Loading data set...\")\n",
    "        url = \"https://archive.ics.uci.edu/ml/machine-learning-databases/00280/HIGGS.csv.gz\"\n",
    "        myfile = requests.get(url)\n",
    "        with open('./HIGGS.csv.gz', 'wb') as f:\n",
    "            f.write(myfile.content)\n",
    "    print(\"Reading data set...\")\n",
    "    data = pd.read_csv(\"./HIGGS.csv.gz\", delimiter=\",\", header=None, compression=\"gzip\", dtype=dtype, nrows=nrows_train+nrows_test)\n",
    "    print(\"Pre-processing data set...\")\n",
    "    data = data[list(data.columns[1:])+list(data.columns[0:1])]\n",
    "    n_features = data.shape[1]-1\n",
    "    train_data = np.ascontiguousarray(data.values[:nrows_train,:n_features])\n",
    "    train_label = np.ascontiguousarray(data.values[:nrows_train,n_features])\n",
    "    test_data = np.ascontiguousarray(data.values[nrows_train:nrows_train+nrows_test,:n_features])\n",
    "    test_label = np.ascontiguousarray(data.values[nrows_train:nrows_train+nrows_test,n_features])\n",
    "    n_classes = len(np.unique(train_label))\n",
    "    print(sys.getsizeof(train_data))\n",
    "    return train_data, train_label, test_data, test_label, n_classes, n_features "
   ]
  },
  {
   "cell_type": "markdown",
   "id": "d4efa83b",
   "metadata": {},
   "source": [
    "We will run this model and prediction using 10,000 rows of the Higgs dataset."
   ]
  },
  {
   "cell_type": "code",
   "execution_count": 3,
   "id": "3ca0480c",
   "metadata": {},
   "outputs": [
    {
     "name": "stdout",
     "output_type": "stream",
     "text": [
      "Reading data set...\n",
      "Pre-processing data set...\n",
      "1120120\n"
     ]
    }
   ],
   "source": [
    "train_data, train_label, test_data, test_label, n_classes, n_features = load_higgs(10000, 10000)"
   ]
  },
  {
   "cell_type": "markdown",
   "id": "58f40326",
   "metadata": {},
   "source": [
    "## Training the Model"
   ]
  },
  {
   "cell_type": "markdown",
   "id": "b16b4a6d",
   "metadata": {},
   "source": [
    "**Fitting and training the model** using the training dataset, which consists of particle features and functions of those features to help discern between a signal process that produces Higgs bosons and background process."
   ]
  },
  {
   "cell_type": "code",
   "execution_count": 4,
   "id": "4811e96a",
   "metadata": {},
   "outputs": [
    {
     "name": "stderr",
     "output_type": "stream",
     "text": [
      "/opt/intel/inteloneapi/intelpython/latest/lib/python3.9/site-packages/xgboost/sklearn.py:1146: UserWarning: The use of label encoder in XGBClassifier is deprecated and will be removed in a future release. To remove this warning, do the following: 1) Pass option use_label_encoder=False when constructing XGBClassifier object; and 2) Encode your labels (y) as integers starting with 0, i.e. 0, 1, 2, ..., [num_class - 1].\n",
      "  warnings.warn(label_encoder_deprecation_msg, UserWarning)\n"
     ]
    }
   ],
   "source": [
    "# Set XGBoost parameters\n",
    "xgb_params = {\n",
    "    'verbosity':                    0,\n",
    "    'alpha':                        0.9,\n",
    "    'max_bin':                      256,\n",
    "    'scale_pos_weight':             2,\n",
    "    'learning_rate':                0.1,\n",
    "    'subsample':                    1,\n",
    "    'reg_lambda':                   1,\n",
    "    \"min_child_weight\":             0,\n",
    "    'max_depth':                    8,\n",
    "    'max_leaves':                   2**8,\n",
    "    'objective':                    'binary:logistic',\n",
    "    'predictor':                    'cpu_predictor',\n",
    "    'tree_method':                  'hist',\n",
    "    'n_estimators':                1000\n",
    "}\n",
    "\n",
    "# Train the model\n",
    "t0 = time.time() #begin timer\n",
    "model_xgb= xgb.XGBClassifier(**xgb_params)\n",
    "model_xgb.fit(train_data, train_label)\n",
    "t1 = time.time() #end timer"
   ]
  },
  {
   "cell_type": "markdown",
   "id": "61e06242",
   "metadata": {},
   "source": [
    "## Making A Prediction"
   ]
  },
  {
   "cell_type": "markdown",
   "id": "2d95cd35",
   "metadata": {},
   "source": [
    "Now let's **make a prediction,** using Intel optimized XGBoost*, for increased performance and to determine whether the particles in the dataset have a signal process which produces Higgs bosons or a background process which does not produce them."
   ]
  },
  {
   "cell_type": "code",
   "execution_count": 5,
   "id": "61f48762",
   "metadata": {},
   "outputs": [],
   "source": [
    "#predict label using test data\n",
    "result_predict_xgb_test = model_xgb.predict(test_data)"
   ]
  },
  {
   "cell_type": "markdown",
   "id": "6805dea9",
   "metadata": {},
   "source": [
    "## Accuracy"
   ]
  },
  {
   "cell_type": "markdown",
   "id": "a4495286",
   "metadata": {},
   "source": [
    "Now let's **check the accuracy** of our model by comparing our prediction to the correct classification of the particles."
   ]
  },
  {
   "cell_type": "code",
   "execution_count": 6,
   "id": "96bc5e60",
   "metadata": {},
   "outputs": [
    {
     "name": "stdout",
     "output_type": "stream",
     "text": [
      "0.6922\n"
     ]
    }
   ],
   "source": [
    "# Check model accuracy\n",
    "acc = np.mean(test_label == result_predict_xgb_test)\n",
    "print(acc)"
   ]
  },
  {
   "cell_type": "markdown",
   "id": "0734936a",
   "metadata": {},
   "source": [
    "## Calculate Training Time"
   ]
  },
  {
   "cell_type": "code",
   "execution_count": 7,
   "id": "159165ca",
   "metadata": {},
   "outputs": [],
   "source": [
    "xgb_total = t1-t0"
   ]
  },
  {
   "cell_type": "markdown",
   "id": "3ac6292b",
   "metadata": {},
   "source": [
    "### Visualization"
   ]
  },
  {
   "cell_type": "markdown",
   "id": "ff467aa6",
   "metadata": {},
   "source": [
    "**Directions:** \n",
    "\n",
    "If ./perf_numbers.csv is already created from a previous comparison of the two environment runs (aikit-base and XGBoost 0.81), remove it.\n",
    "\n",
    "Run the following cell in both environments to generate the dataframe that will be used for visualization (run demo in one environment, then switch to the other environment and run it again.)."
   ]
  },
  {
   "cell_type": "code",
   "execution_count": 8,
   "id": "71b67ee7",
   "metadata": {},
   "outputs": [],
   "source": [
    "filename = \"./perf_numbers.csv\"\n",
    "\n",
    "xgb_ver= xgb.__version__\n",
    "\n",
    "if not os.path.isfile(filename):\n",
    "    df = pd.DataFrame([[xgb_ver,xgb_total]], columns = [\"XGBoost Version\",  \"Time in Sec\"])\n",
    "    df.to_csv(filename, index=False) \n",
    "else:\n",
    "    df = pd.read_csv(filename)\n",
    "    if not df.shape[0]==2:\n",
    "        df2 = pd.DataFrame([[xgb_ver,xgb_total]], columns = [\"XGBoost Version\",  \"Time in Sec\"])\n",
    "        df = df.append(df2, ignore_index=True)"
   ]
  },
  {
   "cell_type": "markdown",
   "id": "83001d8d",
   "metadata": {},
   "source": [
    "**Only run the following cells after running the demo in both environments.** This will generate the performance visualization."
   ]
  },
  {
   "cell_type": "code",
   "execution_count": 9,
   "id": "cc2c9e6a",
   "metadata": {},
   "outputs": [
    {
     "data": {
      "image/png": "[encoded data removed]",
      "text/plain": [
       "<Figure size 432x288 with 1 Axes>"
      ]
     },
     "metadata": {
      "needs_background": "light"
     },
     "output_type": "display_data"
    }
   ],
   "source": [
    "if ((os.path.isfile(filename)) and (df.shape[0]==2)):\n",
    "    left = [1,2]\n",
    "    df.plot(x='XGBoost Version', y='Time in Sec', kind='bar',width = 0.5)\n",
    "    plt.xlabel('XGBoost Version'); plt.ylabel('Time in Sec'); plt.title('XGBoost Performance Comparison')\n",
    "    plt.show()"
   ]
  },
  {
   "cell_type": "code",
   "execution_count": 10,
   "id": "318b218b",
   "metadata": {},
   "outputs": [
    {
     "data": {
      "text/html": [
       "<div>\n",
       "<style scoped>\n",
       "    .dataframe tbody tr th:only-of-type {\n",
       "        vertical-align: middle;\n",
       "    }\n",
       "\n",
       "    .dataframe tbody tr th {\n",
       "        vertical-align: top;\n",
       "    }\n",
       "\n",
       "    .dataframe thead th {\n",
       "        text-align: right;\n",
       "    }\n",
       "</style>\n",
       "<table border=\"1\" class=\"dataframe\">\n",
       "  <thead>\n",
       "    <tr style=\"text-align: right;\">\n",
       "      <th></th>\n",
       "      <th>XGBoost Version</th>\n",
       "      <th>Time in Sec</th>\n",
       "    </tr>\n",
       "  </thead>\n",
       "  <tbody>\n",
       "    <tr>\n",
       "      <th>0</th>\n",
       "      <td>0.81</td>\n",
       "      <td>49.345025</td>\n",
       "    </tr>\n",
       "    <tr>\n",
       "      <th>1</th>\n",
       "      <td>1.4.2</td>\n",
       "      <td>4.818247</td>\n",
       "    </tr>\n",
       "  </tbody>\n",
       "</table>\n",
       "</div>"
      ],
      "text/plain": [
       "  XGBoost Version  Time in Sec\n",
       "0            0.81    49.345025\n",
       "1           1.4.2     4.818247"
      ]
     },
     "execution_count": 10,
     "metadata": {},
     "output_type": "execute_result"
    }
   ],
   "source": [
    "df"
   ]
  },
  {
   "cell_type": "code",
   "execution_count": 11,
   "id": "b6544f22",
   "metadata": {},
   "outputs": [
    {
     "name": "stdout",
     "output_type": "stream",
     "text": [
      "[CODE_SAMPLE_COMPLETED_SUCCESFULLY]\n"
     ]
    }
   ],
   "source": [
    "print(\"[CODE_SAMPLE_COMPLETED_SUCCESFULLY]\")"
   ]
  },
  {
   "cell_type": "code",
   "execution_count": null,
   "id": "bf5d78db",
   "metadata": {},
   "outputs": [],
   "source": []
  }
 ],
 "metadata": {
  "kernelspec": {
   "display_name": "Python 3.7 (Intel® oneAPI)",
   "language": "python",
   "name": "c009-intel_distribution_of_python_3_oneapi-beta05-python"
  },
  "language_info": {
   "codemirror_mode": {
    "name": "ipython",
    "version": 3
   },
   "file_extension": ".py",
   "mimetype": "text/x-python",
   "name": "python",
   "nbconvert_exporter": "python",
   "pygments_lexer": "ipython3",
   "version": "3.9.7"
  }
 },
 "nbformat": 4,
 "nbformat_minor": 5
}
