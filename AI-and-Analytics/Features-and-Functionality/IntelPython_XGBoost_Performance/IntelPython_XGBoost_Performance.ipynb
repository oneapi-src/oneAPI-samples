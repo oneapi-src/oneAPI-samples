{
 "cells": [
  {
   "cell_type": "markdown",
   "metadata": {},
   "source": [
    "# XGBoost Performance Comparison "
   ]
  },
  {
   "cell_type": "markdown",
   "metadata": {},
   "source": [
    "In this example we will train a XGBoost model and predict the results to show off Intel's optimizations for XGBoost used for increased performance. Intel optimized XGBoost is shipped as a part of the Intel® oneAPI AI Analytics Toolkit.\n",
    "\n",
    "This example is a Jupyter Notebook version of a XGBoost example seen in this Medium blog using the popular Higgs dataset: \n",
    "https://medium.com/intel-analytics-software/new-optimizations-for-cpu-in-xgboost-1-1-81144ea21115"
   ]
  },
  {
   "cell_type": "markdown",
   "metadata": {},
   "source": [
    "In this example, we will use a dataset with particle features and functions of those features **to distinguish between a signal process which produces Higgs bosons (1) and a background process which does not (0)**. The Higgs boson is a basic particle in the standard model produced by the quantum excitation of the Higgs field, named after physicist Peter Higgs."
   ]
  },
  {
   "cell_type": "markdown",
   "metadata": {},
   "source": [
    "## Example Environment Creation"
   ]
  },
  {
   "cell_type": "markdown",
   "metadata": {},
   "source": [
    "This example is executed in two Anaconda environments. \n",
    "\n",
    "The first environment is the latest [Intel® oneAPI AI Analytics Toolkit](https://software.intel.com/content/www/us/en/develop/tools/oneapi/ai-analytics-toolkit.html) base environment, which includes data analytics and machine learning workflows and Intel optimizations for XGboost. See [here](https://software.intel.com/content/www/us/en/develop/articles/installing-ai-kit-with-conda.html) for more installation information."
   ]
  },
  {
   "cell_type": "markdown",
   "metadata": {},
   "source": [
    "The second environment is a clone of the first environment using commands:"
   ]
  },
  {
   "cell_type": "markdown",
   "metadata": {},
   "source": [
    "`conda clone --name xgb0.81 --clone aikit-base-env-name`"
   ]
  },
  {
   "cell_type": "markdown",
   "metadata": {},
   "source": [
    "`conda activate xgb0.81`"
   ]
  },
  {
   "cell_type": "markdown",
   "metadata": {},
   "source": [
    "`conda remove xgboost`"
   ]
  },
  {
   "cell_type": "markdown",
   "metadata": {},
   "source": [
    "`pip install xgboost==0.81`"
   ]
  },
  {
   "cell_type": "markdown",
   "metadata": {},
   "source": [
    "Run this performance demo in both environments, **saving the visualization cell until after both runs as instructed later in this demo.**"
   ]
  },
  {
   "cell_type": "markdown",
   "metadata": {},
   "source": [
    "## Importing and Organizing Data"
   ]
  },
  {
   "cell_type": "markdown",
   "metadata": {},
   "source": [
    "Let's start by **importing** all necessary data and packages.\n"
   ]
  },
  {
   "cell_type": "code",
   "execution_count": 1,
   "metadata": {},
   "outputs": [],
   "source": [
    "import numpy as np\n",
    "import os\n",
    "import matplotlib.pyplot as plt\n",
    "import requests\n",
    "import pandas as pd\n",
    "import sys\n",
    "import xgboost as xgb\n",
    "import time"
   ]
  },
  {
   "cell_type": "markdown",
   "metadata": {},
   "source": [
    "Now let's **load** in the Higgs dataset and **organize** it as necessary to work with our model. You can opt to remove this cell and add your own data as you see fit."
   ]
  },
  {
   "cell_type": "code",
   "execution_count": 2,
   "metadata": {},
   "outputs": [],
   "source": [
    "def load_higgs(nrows_train, nrows_test, dtype=np.float32):\n",
    "    if not os.path.isfile(\"./data/batch/HIGGS.csv.gz\"):\n",
    "        print(\"Loading data set...\")\n",
    "        url = \"https://archive.ics.uci.edu/ml/machine-learning-databases/00280/HIGGS.csv.gz\"\n",
    "        myfile = requests.get(url)\n",
    "        open('./data/batch/HIGGS.csv.gz', 'wb').write(myfile.content)\n",
    "    print(\"Reading data set...\")\n",
    "    data = pd.read_csv(\"./data/batch/HIGGS.csv.gz\", delimiter=\",\", header=None, compression=\"gzip\", dtype=dtype, nrows=nrows_train+nrows_test)\n",
    "    print(\"Pre-processing data set...\")\n",
    "    data = data[list(data.columns[1:])+list(data.columns[0:1])]\n",
    "    n_features = data.shape[1]-1\n",
    "    train_data = np.ascontiguousarray(data.values[:nrows_train,:n_features])\n",
    "    train_label = np.ascontiguousarray(data.values[:nrows_train,n_features])\n",
    "    test_data = np.ascontiguousarray(data.values[nrows_train:nrows_train+nrows_test,:n_features])\n",
    "    test_label = np.ascontiguousarray(data.values[nrows_train:nrows_train+nrows_test,n_features])\n",
    "    n_classes = len(np.unique(train_label))\n",
    "    print(sys.getsizeof(train_data))\n",
    "    return train_data, train_label, test_data, test_label, n_classes, n_features "
   ]
  },
  {
   "cell_type": "markdown",
   "metadata": {},
   "source": [
    "We will run this model and prediction using 10,000 rows of the Higgs dataset."
   ]
  },
  {
   "cell_type": "code",
   "execution_count": 3,
   "metadata": {},
   "outputs": [
    {
     "name": "stdout",
     "output_type": "stream",
     "text": [
      "Reading data set...\n",
      "Pre-processing data set...\n",
      "1120112\n"
     ]
    }
   ],
   "source": [
    "train_data, train_label, test_data, test_label, n_classes, n_features = load_higgs(10000, 10000)"
   ]
  },
  {
   "cell_type": "markdown",
   "metadata": {},
   "source": [
    "## Training the Model"
   ]
  },
  {
   "cell_type": "markdown",
   "metadata": {},
   "source": [
    "**Fitting and training the model** using the training dataset, which consists of particle features and functions of those features to help discern between a signal process that produces Higgs bosons and background process."
   ]
  },
  {
   "cell_type": "code",
   "execution_count": 4,
   "metadata": {},
   "outputs": [
    {
     "name": "stdout",
     "output_type": "stream",
     "text": [
      "[10:15:17] Tree method is selected to be 'hist', which uses a single updater grow_fast_histmaker.\n"
     ]
    },
    {
     "data": {
      "text/plain": [
       "XGBClassifier(alpha=0.9, max_bin=256, max_depth=8, max_leaves=256,\n",
       "              min_child_weight=0, n_estimators=1000, predictor='cpu_predictor',\n",
       "              scale_pos_weight=2, tree_method='hist', verbosity=0)"
      ]
     },
     "execution_count": 4,
     "metadata": {},
     "output_type": "execute_result"
    }
   ],
   "source": [
    "# Set XGBoost parameters\n",
    "xgb_params = {\n",
    "    'verbosity':                    0,\n",
    "    'alpha':                        0.9,\n",
    "    'max_bin':                      256,\n",
    "    'scale_pos_weight':             2,\n",
    "    'learning_rate':                0.1,\n",
    "    'subsample':                    1,\n",
    "    'reg_lambda':                   1,\n",
    "    \"min_child_weight\":             0,\n",
    "    'max_depth':                    8,\n",
    "    'max_leaves':                   2**8,\n",
    "    'objective':                    'binary:logistic',\n",
    "    'predictor':                    'cpu_predictor',\n",
    "    'tree_method':                  'hist',\n",
    "    'n_estimators':                1000\n",
    "}\n",
    "\n",
    "# Train the model\n",
    "t0 = time.time() #begin timer\n",
    "model_xgb= xgb.XGBClassifier(**xgb_params)\n",
    "model_xgb.fit(train_data, train_label)"
   ]
  },
  {
   "cell_type": "markdown",
   "metadata": {},
   "source": [
    "## Making A Prediction"
   ]
  },
  {
   "cell_type": "markdown",
   "metadata": {},
   "source": [
    "Now let's **make a prediction,** using Intel optimized XGBoost*, for increased performance. whether the particles in the dataset have a signal process which produces Higgs bosons or a background process which does not produce them."
   ]
  },
  {
   "cell_type": "code",
   "execution_count": 5,
   "metadata": {},
   "outputs": [],
   "source": [
    "#predict label using test data\n",
    "result_predict_xgb_test = model_xgb.predict(test_data)\n",
    "t1 = time.time() #end timer"
   ]
  },
  {
   "cell_type": "markdown",
   "metadata": {},
   "source": [
    "## Accuracy"
   ]
  },
  {
   "cell_type": "markdown",
   "metadata": {},
   "source": [
    "Now let's **check the accuracy** of our model by comparing our prediction to the correct classification of the particles."
   ]
  },
  {
   "cell_type": "code",
   "execution_count": 6,
   "metadata": {},
   "outputs": [
    {
     "name": "stdout",
     "output_type": "stream",
     "text": [
      "0.6937\n"
     ]
    }
   ],
   "source": [
    "# Check model accuracy\n",
    "acc = np.mean(test_label == result_predict_xgb_test)\n",
    "print(acc)"
   ]
  },
  {
   "cell_type": "markdown",
   "metadata": {},
   "source": [
    "## Training + Prediction Time"
   ]
  },
  {
   "cell_type": "code",
   "execution_count": 7,
   "metadata": {},
   "outputs": [],
   "source": [
    "xgb_total = t1-t0"
   ]
  },
  {
   "cell_type": "markdown",
   "metadata": {},
   "source": [
    "### Visualization"
   ]
  },
  {
   "cell_type": "markdown",
   "metadata": {},
   "source": [
    "**Directions:** \n",
    "\n",
    "If ./perf_numbers.csv is already created from a previous comparison of the two environment runs (aikit-base and XGBoost 0.81), remove it.\n",
    "\n",
    "Run the following cell in both environments to generate the dataframe that will be used for visualization (run demo in one environment, then switch to the other environment and run it again.)."
   ]
  },
  {
   "cell_type": "code",
   "execution_count": 8,
   "metadata": {},
   "outputs": [],
   "source": [
    "filename = \"./perf_numbers.csv\"\n",
    "\n",
    "xgb_ver= xgb.__version__\n",
    "\n",
    "if not os.path.isfile(filename):\n",
    "    df = pd.DataFrame([[xgb_ver,xgb_total]], columns = [\"XGBoost Version\",  \"Time in Sec\"])\n",
    "    df.to_csv(filename, index=False) \n",
    "else:\n",
    "    df = pd.read_csv(filename)\n",
    "    if not df.shape[0]==2:\n",
    "        df2 = pd.DataFrame([[xgb_ver,xgb_total]], columns = [\"XGBoost Version\",  \"Time in Sec\"])\n",
    "        df = df.append(df2, ignore_index=True)"
   ]
  },
  {
   "cell_type": "markdown",
   "metadata": {},
   "source": [
    "**Only run the following cells after running the demo in both environments.** This will generate the performance visualization."
   ]
  },
  {
   "cell_type": "code",
   "execution_count": 9,
   "metadata": {},
   "outputs": [
    {
     "data": {
      "image/png": "[encoded data removed]",
      "text/plain": [
       "<Figure size 432x288 with 1 Axes>"
      ]
     },
     "metadata": {
      "needs_background": "light"
     },
     "output_type": "display_data"
    }
   ],
   "source": [
    "if ((os.path.isfile(filename)) and (df.shape[0]==2)):\n",
    "    left = [1,2]\n",
    "    df.plot(x='XGBoost Version', y='Time in Sec', kind='bar',width = 0.5)\n",
    "    plt.xlabel('XGBoost Version'); plt.ylabel('Time in Sec'); plt.title('XGBoost Performance Comparison')\n",
    "    plt.show()"
   ]
  },
  {
   "cell_type": "code",
   "execution_count": 10,
   "metadata": {},
   "outputs": [
    {
     "data": {
      "text/html": [
       "<div>\n",
       "<style scoped>\n",
       "    .dataframe tbody tr th:only-of-type {\n",
       "        vertical-align: middle;\n",
       "    }\n",
       "\n",
       "    .dataframe tbody tr th {\n",
       "        vertical-align: top;\n",
       "    }\n",
       "\n",
       "    .dataframe thead th {\n",
       "        text-align: right;\n",
       "    }\n",
       "</style>\n",
       "<table border=\"1\" class=\"dataframe\">\n",
       "  <thead>\n",
       "    <tr style=\"text-align: right;\">\n",
       "      <th></th>\n",
       "      <th>XGBoost Version</th>\n",
       "      <th>Time in Sec</th>\n",
       "    </tr>\n",
       "  </thead>\n",
       "  <tbody>\n",
       "    <tr>\n",
       "      <th>0</th>\n",
       "      <td>1.3.3</td>\n",
       "      <td>4.102728</td>\n",
       "    </tr>\n",
       "    <tr>\n",
       "      <th>1</th>\n",
       "      <td>0.81</td>\n",
       "      <td>50.546151</td>\n",
       "    </tr>\n",
       "  </tbody>\n",
       "</table>\n",
       "</div>"
      ],
      "text/plain": [
       "  XGBoost Version  Time in Sec\n",
       "0           1.3.3     4.102728\n",
       "1            0.81    50.546151"
      ]
     },
     "execution_count": 10,
     "metadata": {},
     "output_type": "execute_result"
    }
   ],
   "source": [
    "df"
   ]
  },
  {
   "cell_type": "code",
   "execution_count": 11,
   "metadata": {},
   "outputs": [
    {
     "name": "stdout",
     "output_type": "stream",
     "text": [
      "[CODE_SAMPLE_COMPLETED_SUCCESFULLY]\n"
     ]
    }
   ],
   "source": [
    "print(\"[CODE_SAMPLE_COMPLETED_SUCCESFULLY]\")"
   ]
  },
  {
   "cell_type": "code",
   "execution_count": null,
   "metadata": {},
   "outputs": [],
   "source": []
  }
 ],
 "metadata": {
  "kernelspec": {
   "display_name": "XGBoost 0.81",
   "language": "python",
   "name": "usr_xgb81"
  },
  "language_info": {
   "codemirror_mode": {
    "name": "ipython",
    "version": 3
   },
   "file_extension": ".py",
   "mimetype": "text/x-python",
   "name": "python",
   "nbconvert_exporter": "python",
   "pygments_lexer": "ipython3",
   "version": "3.7.9"
  }
 },
 "nbformat": 4,
 "nbformat_minor": 5
}
