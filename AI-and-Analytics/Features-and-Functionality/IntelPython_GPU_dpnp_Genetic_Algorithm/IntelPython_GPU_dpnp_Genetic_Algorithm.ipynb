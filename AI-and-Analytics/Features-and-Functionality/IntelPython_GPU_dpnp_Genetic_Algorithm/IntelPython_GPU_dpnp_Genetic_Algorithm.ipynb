{
 "cells": [
  {
   "cell_type": "code",
   "execution_count": null,
   "metadata": {},
   "outputs": [],
   "source": [
    "# =============================================================\n",
    "# Copyright © 2024 Intel Corporation\n",
    "# \n",
    "# SPDX-License-Identifier: MIT\n",
    "# ============================================================="
   ]
  },
  {
   "cell_type": "markdown",
   "metadata": {},
   "source": [
    "# Genetic Algorithms on GPU using Intel Distribution of Python \n",
    "\n",
    "This code sample shows how to implement a basic genetic algorithm with Data Parallel Python using Data Parallel Extension of NumPy.\n",
    "\n",
    "## Genetic algorithms\n",
    "\n",
    "Let's start with the question **What is a genetic algorithm?**. It is an algorithm, search heuristic inspired by the process of natural selection. It is usually applied to various optimization problems, NP-hard problems for which finding a solution by standard methods is very time and resource consuming. This algorithm makes it possible to obtain a satisfying high quality result based on biology-inspired operations, such as:\n",
    " \n",
    "* selection - is the process of selecting parents who mate and recombine to create offspring for the next generation. Parent selection is very crucial to the convergence rate of the GA as good parents drive individuals to better and fitter solutions.\n",
    "* crossover - is a process similar to biological crossover. In this, more than one parent is selected and one or more offspring are produced using the genetic material of the parents.\n",
    "* mutation - small random tweak in the chromosome, to get a new solution. It is used to maintain and introduce diversity in the genetic population and is usually applied with a low probability. \n",
    "\n",
    "To apply the genetic algorithm to a specific problem, it is important to define the representation of the chromosome, as well as how the three operations should look like. \n",
    "\n",
    "In this example, we will show, first, the general implementation of the genetic algorithm, and then the adaptation of this function to the Traveling Salesman Problem."
   ]
  },
  {
   "cell_type": "markdown",
   "metadata": {},
   "source": [
    "Let us start with import of the libraries used in this code sample."
   ]
  },
  {
   "cell_type": "code",
   "execution_count": null,
   "metadata": {
    "id": "e1_EZhbElabH"
   },
   "outputs": [],
   "source": [
    "import numpy as np\n",
    "import time\n",
    "import random\n",
    "import math"
   ]
  },
  {
   "cell_type": "markdown",
   "metadata": {},
   "source": [
    "## Initialize population\n",
    "\n",
    "Then, we can initialize the population. In this code sample, we have a population of size 5000, a chromosome size is 10, and there will be 5 generations. \n",
    "Each chromosome will contain 10 random floats between 0 and 1.\n",
    "\n",
    "We also are setting a seed to be able to reproduce the results later."
   ]
  },
  {
   "cell_type": "code",
   "execution_count": null,
   "metadata": {
    "id": "7tIa-I5KlxfB"
   },
   "outputs": [],
   "source": [
    "random.seed(1111)\n",
    "\n",
    "pop_size = 5000\n",
    "chrom_size = 10\n",
    "num_generations = 5\n",
    "\n",
    "fitnesses = np.zeros(pop_size, dtype=np.float32)\n",
    "chromosomes = np.zeros(shape=(pop_size, chrom_size), dtype = np.float32)\n",
    "for i in range(pop_size):\n",
    "  for j in range(chrom_size):\n",
    "    chromosomes[i][j] = random.uniform(0,1) #random float between 0.0 and 1.0"
   ]
  },
  {
   "cell_type": "markdown",
   "metadata": {},
   "source": [
    "## Genetic Algorithm implementation\n",
    "\n",
    "The next step is to create a general purpose genetic algorithm, which means calculating the fitness value for all the chromosomes, selection of chromosomes, crossover and mutation functions.\n",
    "\n",
    "### Simple evaluation method\n",
    "\n",
    "We are starting with a simple genome evaluation function. This will be our baseline and comparison for dpnp.\n",
    "In this example, the fitness of an individual is computed by an arbitrary set of algebraic operations on the chromosome."
   ]
  },
  {
   "cell_type": "code",
   "execution_count": null,
   "metadata": {
    "id": "aqLAygUEloco"
   },
   "outputs": [],
   "source": [
    "def eval_genomes_plain(chromosomes, fitnesses):\n",
    "  for i in range(len(chromosomes)):\n",
    "    num_loops = 3000\n",
    "    for j in range(num_loops):\n",
    "      fitnesses[i] += chromosomes[i][1]\n",
    "    for j in range(num_loops):\n",
    "      fitnesses[i] -= chromosomes[i][2]\n",
    "    for j in range(num_loops):\n",
    "      fitnesses[i] += chromosomes[i][3]\n",
    "\n",
    "    if (fitnesses[i] < 0):\n",
    "      fitnesses[i] = 0"
   ]
  },
  {
   "cell_type": "markdown",
   "metadata": {},
   "source": [
    "### Crossover\n",
    "\n",
    "The crossover operation creates children's genomes from selected parent chromosomes. As shown in the figure below, in this sample, the one-point crossover is made and one children's genome is created.\n",
    "\n",
    "The first part of the child's genome comes from the first parent, and the second half, from the second parent.\n",
    "\n",
    "<img src=\"./assets/crossover.png\" alt=\"image\" width=\"auto\" height=\"400\">\n"
   ]
  },
  {
   "cell_type": "code",
   "execution_count": null,
   "metadata": {},
   "outputs": [],
   "source": [
    "def crossover(first, second):\n",
    "  index = random.randint(0, len(first) - 1)\n",
    "  index2 = random.randint(0, len(second) - 1)\n",
    "\n",
    "  child_sequence = []\n",
    "\n",
    "  for y in range(math.floor(len(first) / 2)):\n",
    "      child_sequence.append( first[ (index + y) % len(first) ] )\n",
    "\n",
    "  for y in range(math.floor(len(second)/ 2)):\n",
    "      child_sequence.append( second[ (index2 + y) % len(second) ] )\n",
    "      \n",
    "  return child_sequence"
   ]
  },
  {
   "cell_type": "markdown",
   "metadata": {},
   "source": [
    "### Mutation\n",
    "\n",
    "The mutation operation can change the chromosome, as shown in the figure. In this code sample, there is a 1% chance of a random mutation.\n",
    "\n",
    "<img src=\"./assets/mutation.png\" alt=\"image\" width=\"auto\" height=\"300\">\n"
   ]
  },
  {
   "cell_type": "code",
   "execution_count": null,
   "metadata": {},
   "outputs": [],
   "source": [
    "def mutation(child_sequence, chance=0.01):\n",
    "  child_genome = np.zeros(len(child_sequence), dtype=np.float32)\n",
    "\n",
    "  # Mutation\n",
    "  for a in range(len(child_sequence)):\n",
    "    if random.uniform(0,1) < chance:\n",
    "      child_genome[a] = random.uniform(0,1)\n",
    "    else:\n",
    "      child_genome[a] = child_sequence[a]\n",
    "\n",
    "  return child_genome"
   ]
  },
  {
   "cell_type": "markdown",
   "metadata": {},
   "source": [
    "## Create the next generation\n",
    "\n",
    "Now, let's create a function to compute the next generation in the Genetic Algorithm (next_generation function). It performs selection, then already implemented crossover and mutation. As a result of this function, there is a new population created.\n",
    "\n",
    "### Selection\n",
    "Selection is a process when based on the calculated fitness function value, chromosomes to crossover are chosen. \n",
    "\n",
    "<img src=\"./assets/selection.png\" alt=\"image\" width=\"auto\" height=\"400\">\n",
    "\n",
    "In this example, there is a roulette week created relative to fitness value. \n",
    "It allows fitness proportional selection - the bigger the fitness value, the bigger the chance that a given chromosome will be selected.\n",
    "\n",
    "The result of all the operations is returned as chromosomes."
   ]
  },
  {
   "cell_type": "code",
   "execution_count": null,
   "metadata": {
    "id": "2R2JG2SLlrOK"
   },
   "outputs": [],
   "source": [
    "def next_generation(chromosomes, fitnesses):\n",
    "  fitness_pairs = []\n",
    "  fitnessTotal = 0.0\n",
    "  for i in range(len(chromosomes)):\n",
    "    fitness_pairs.append( [chromosomes[i], fitnesses[i]] )\n",
    "    fitnessTotal += fitnesses[i]\n",
    "\n",
    "  # Sort fitness in descending order\n",
    "  fitnesses = list(reversed(sorted(fitnesses)))\n",
    "  sorted_pairs = list(reversed(sorted(fitness_pairs, key=lambda x: x[1])))\n",
    "\n",
    "  new_chromosomes = np.zeros(shape=(pop_size, chrom_size), dtype = np.float32)\n",
    "\n",
    "  # Roulette wheel\n",
    "  rouletteWheel = []\n",
    "  fitnessProportions = []\n",
    "  for i in range(len(chromosomes)):\n",
    "      fitnessProportions.append( float( fitnesses[i]/fitnessTotal ) )\n",
    "      if(i == 0):\n",
    "          rouletteWheel.append(fitnessProportions[i])\n",
    "      else:\n",
    "          rouletteWheel.append(rouletteWheel[i - 1] + fitnessProportions[i])\n",
    "\n",
    "  # New population\n",
    "  for i in range(len(chromosomes)):\n",
    "\n",
    "      # Selection\n",
    "      spin1 = random.uniform(0, 1)\n",
    "      spin2 = random.uniform(0, 1)\n",
    "\n",
    "      j = 0\n",
    "      while( rouletteWheel[j] <= spin1 ):\n",
    "          j += 1\n",
    "\n",
    "      k = 0\n",
    "      while( rouletteWheel[k] <= spin2 ):\n",
    "          k += 1\n",
    "\n",
    "      parentFirst = sorted_pairs[j][0]\n",
    "      parentSecond = sorted_pairs[k][0]\n",
    "\n",
    "      # Crossover    \n",
    "      child_sequence = crossover(parentFirst, parentSecond)\n",
    "\n",
    "      # Mutation\n",
    "      child_genome = mutation(child_sequence)\n",
    "      \n",
    "      # Add new chromosome to next population\n",
    "      new_chromosomes[i] = child_genome\n",
    "\n",
    "  return new_chromosomes"
   ]
  },
  {
   "cell_type": "markdown",
   "metadata": {},
   "source": [
    "## Run the algorithm\n",
    "\n",
    "Now, we can run the implemented algorithm and measure the time of the selected number of generations (set before as a 5). \n",
    "\n",
    "As a first population is already initialized, each generation contains the following steps:\n",
    "\n",
    "* evaluation of the current population using eval_genomes_plain function\n",
    "* generating next generation using eval_genomes_plain function\n",
    "* wipe fitnesses values, as there is already a new generation created\n",
    "\n",
    "The time for those operations is measured and printed after the computations. There is also the first chromosome printed to show computations were the same between both tests."
   ]
  },
  {
   "cell_type": "code",
   "execution_count": null,
   "metadata": {
    "colab": {
     "base_uri": "https://localhost:8080/"
    },
    "id": "QVMNDir4l1KH",
    "outputId": "e1dfdf37-bc62-401b-d001-62de65ace1ba"
   },
   "outputs": [],
   "source": [
    "print(\"CPU:\")\n",
    "start = time.time()\n",
    "\n",
    "# Genetic Algorithm on CPU\n",
    "for i in range(num_generations):\n",
    "  print(\"Gen \" + str(i+1) + \"/\" + str(num_generations))\n",
    "  eval_genomes_plain(chromosomes, fitnesses)\n",
    "  chromosomes = next_generation(chromosomes, fitnesses) \n",
    "  fitnesses = np.zeros(pop_size, dtype=np.float32)\n",
    "end = time.time()\n",
    "\n",
    "time_cpu = end-start\n",
    "print(\"time elapsed: \" + str((time_cpu)))\n",
    "print(\"First chromosome: \" + str(chromosomes[0]))"
   ]
  },
  {
   "cell_type": "markdown",
   "metadata": {},
   "source": [
    "## GPU execution using dpnp\n",
    "\n",
    "We need to start with new population initialization, as we want to perform the same operations but now on GPU using dpnpx implementation.\n",
    "\n",
    "We are setting random seed the same as before to reproduce the results. "
   ]
  },
  {
   "cell_type": "code",
   "execution_count": null,
   "metadata": {
    "id": "_fzA5qM5l6xD"
   },
   "outputs": [],
   "source": [
    "random.seed(1111)\n",
    "fitnesses = np.zeros(pop_size, dtype=np.float32)\n",
    "chromosomes = np.zeros(shape=(pop_size, chrom_size), dtype = np.float32)\n",
    "for i in range(pop_size):\n",
    "  for j in range(chrom_size):\n",
    "    chromosomes[i][j] = random.uniform(0,1)"
   ]
  },
  {
   "cell_type": "markdown",
   "metadata": {},
   "source": [
    "### Evaluation function using Data Parallel Extension for NumPy\n",
    "\n",
    "The only part that differs form the standard implementation is the evaluation function.\n",
    "\n",
    "In this implementation we are taking benefit from vectorized operations. DPNP will automatically vectorize addition, substraction, multiplication operations, making them efficient and suitable for GPU acceleration."
   ]
  },
  {
   "cell_type": "code",
   "execution_count": null,
   "metadata": {
    "colab": {
     "base_uri": "https://localhost:8080/",
     "height": 529
    },
    "id": "_2E6iOuCrO2_",
    "outputId": "c9dc7784-a875-40a4-865c-674f40a61cfe"
   },
   "outputs": [],
   "source": [
    "import dpnp as dpnp\n",
    "\n",
    "def eval_genomes_dpnp(chromosomes_list, fitnesses):\n",
    "  num_loops = 3000\n",
    "\n",
    "  # Calculate fitnesses using vectorized operations\n",
    "  fitnesses += chromosomes_list[:, 1] * num_loops\n",
    "  fitnesses -= chromosomes_list[:, 2] * num_loops\n",
    "  fitnesses += chromosomes_list[:, 3] * num_loops\n",
    "\n",
    "  # Clip negative fitness values to zero\n",
    "  fitnesses = np.where(fitnesses < 0, 0, fitnesses)\n",
    "  return fitnesses"
   ]
  },
  {
   "cell_type": "markdown",
   "metadata": {},
   "source": [
    "Now, we can measure the time to perform some generations of the Genetic Algorithm with Data Parallel Python Extension for NumPy. \n",
    "\n",
    "Similarly like before, the time of the evaluation, creation of new generation and fitness wipe are measured for GPU execution. But first, we need to send all the chromosomes and fitnesses container to the chosen device - GPU. "
   ]
  },
  {
   "cell_type": "code",
   "execution_count": null,
   "metadata": {
    "id": "YV32siyotc3H"
   },
   "outputs": [],
   "source": [
    "print(\"SYCL:\")\n",
    "start = time.time()\n",
    "\n",
    "# Genetic Algorithm on GPU\n",
    "for i in range(num_generations):\n",
    "  print(\"Gen \" + str(i+1) + \"/\" + str(num_generations))\n",
    "  chromosomes_dpctl = chromosomes\n",
    "  fitnesses_dpctl = fitnesses\n",
    "  try:\n",
    "    chromosomes_dpctl = dpnp.asarray(chromosomes, device=\"gpu\")\n",
    "    fitnesses_dpctl = dpnp.asarray(fitnesses, device=\"gpu\")\n",
    "  except Exception:\n",
    "    print(\"GPU device is not available\")\n",
    "  \n",
    "  fitnesses = eval_genomes_dpnp(chromosomes, fitnesses)\n",
    "  \n",
    "  fitnesses = dpnp.asnumpy(fitnesses_dpctl)\n",
    "  chromosomes = next_generation(chromosomes, fitnesses)\n",
    "  fitnesses = np.zeros(pop_size, dtype=np.float32)\n",
    "\n",
    "end = time.time()\n",
    "time_sycl = end-start\n",
    "print(\"time elapsed: \" + str((time_sycl)))\n",
    "print(\"First chromosome: \" + str(chromosomes[0]))"
   ]
  },
  {
   "cell_type": "markdown",
   "metadata": {},
   "source": [
    "Now, let's print execution times for both CPU and GPU."
   ]
  },
  {
   "cell_type": "code",
   "execution_count": null,
   "metadata": {},
   "outputs": [],
   "source": [
    "print(\"SYCL: \", time_sycl, \" CPU: \", time_cpu)"
   ]
  },
  {
   "cell_type": "markdown",
   "metadata": {},
   "source": [
    "The time comparison is also shown in the diagram."
   ]
  },
  {
   "cell_type": "code",
   "execution_count": null,
   "metadata": {},
   "outputs": [],
   "source": [
    "from matplotlib import pyplot as plt\n",
    "\n",
    "plt.figure()\n",
    "plt.title(\"Time comparison\")\n",
    "plt.bar([\"DPNP\", \"without optimization\"], [time_sycl, time_cpu])\n",
    "\n",
    "plt.show()"
   ]
  },
  {
   "cell_type": "markdown",
   "metadata": {},
   "source": [
    "# Traveling Salesman Problem\n",
    "\n",
    "Now, let's use the knowledge about genetic algorithms to a specific problem in this code sample the Traveling Salesman Problem. There are given the cities and the distances between them. The salesman needs to visit all the cities, using possibly the shortest path. \n",
    "\n",
    "This problem is NP-hard and in our case, the number of possible combinations equals len(cities)! e.g. if there are 6 cities we have 720 combinations but when we have 10 cities we have over 3.000.000 combinations.\n",
    "\n",
    "In our example we have defined:\n",
    "\n",
    "* starting city as a 0\n",
    "* 10 cities to visit from 1 to 10\n",
    "\n",
    "We generate distances between cities randomly in the range of defined min (100km) and max value (400km). The matrix of the distances between cities is printed after generation."
   ]
  },
  {
   "cell_type": "code",
   "execution_count": null,
   "metadata": {},
   "outputs": [],
   "source": [
    "# generate distances matrix for the cities\n",
    "# min length is 10 km and max length is 400km\n",
    "\n",
    "start_city = '0'\n",
    "min = 100\n",
    "max = 400\n",
    "cities = ['1', '2', '3', '4', '5', '6', '7', '8', '9', '10']\n",
    "\n",
    "distances = np.zeros(shape=(len(cities)+1, len(cities)+1), dtype=int)\n",
    "\n",
    "for i in range(len(cities)+1):\n",
    "  for j in range(len(cities)+1):\n",
    "    if i != j:\n",
    "      distances[i][j] = random.randint(min-1, max+1)\n",
    "    else:\n",
    "      distances[i][j] = 0\n",
    "  print(distances[i])"
   ]
  },
  {
   "cell_type": "markdown",
   "metadata": {},
   "source": [
    "## Initialize population\n",
    "\n",
    "Now, we need to initialize the population. As a chromosome, we define possible paths from city 0 to city 0 visiting all other cities.\n",
    "\n",
    "The population size is set to 1000, but you can easily change those parameters and experiment yourself - see if the size of the population will impact the best find result. Remember, as the genetic algorithm is a heuristic it can generate different results every run."
   ]
  },
  {
   "cell_type": "code",
   "execution_count": null,
   "metadata": {},
   "outputs": [],
   "source": [
    "pop_size = 1000\n",
    "chrom_size = len(cities) # number of cities to visit without city the salesman is staring in\n",
    "num_generations = 5\n",
    "\n",
    "fitnesses = np.zeros(pop_size, dtype=float)\n",
    "chromosomes = np.zeros(shape=(pop_size, chrom_size + 2), dtype=int)\n",
    "for i in range(pop_size):\n",
    "  chromosomes[i][0] = start_city # city we are starting\n",
    "  to_choose = cities.copy()\n",
    "  for j in range(chrom_size):\n",
    "    element = random.choice(list(to_choose))\n",
    "    chromosomes[i][j + 1] = element\n",
    "    to_choose.remove(element) # To avoid visiting the same city twice\n",
    "  chromosomes[i][chrom_size + 1] = start_city # city we are ending"
   ]
  },
  {
   "cell_type": "markdown",
   "metadata": {},
   "source": [
    "### Evaluation function\n",
    "\n",
    "The evaluate created generation we are calculating the full distance of the given path (chromosome). In this example, the lower the fitness value is, the better the chromosome. That's different from the general GA that we implemented.\n",
    "\n",
    "As in the previous example dpnp will vectorize basic mathematical operations to take benefit from optimizations."
   ]
  },
  {
   "cell_type": "code",
   "execution_count": null,
   "metadata": {},
   "outputs": [],
   "source": [
    "def eval_genomes_plain_TSP_SYCL(chromosomes, fitnesses, distances, pop_length):\n",
    "  for pos in range(pop_length):\n",
    "    for j in range(chromosomes.shape[1]-1):\n",
    "      fitnesses[pos] += distances[int(chromosomes[pos, j]), int(chromosomes[pos, j+1])]\n",
    "  return fitnesses\n"
   ]
  },
  {
   "cell_type": "markdown",
   "metadata": {},
   "source": [
    "### Crossover\n",
    "\n",
    "For TSP crossover is defined in a very specific way. The first half of the child's chromosome is taken from the first parent, but the second part is in the order of the second parent. This way we can avoid broken chromosomes that don't generate any solution."
   ]
  },
  {
   "cell_type": "code",
   "execution_count": null,
   "metadata": {},
   "outputs": [],
   "source": [
    "def crossover(parentFirst, parentSecond):\n",
    "  child_sequence = []\n",
    "  child_sequence.append(0)\n",
    "\n",
    "  parent = parentFirst.copy()\n",
    "  parent = list(filter(lambda a: a != 0, parent))\n",
    "  help = parentSecond.copy()\n",
    "  help = list(filter(lambda a: a != 0, help))\n",
    "\n",
    "  for i in range(math.floor(len(parent)/2)):\n",
    "    child_sequence.append(parent[i])\n",
    "    help.remove(parent[i])\n",
    "\n",
    "  child_sequence.extend(help)\n",
    "  child_sequence.append(0)\n",
    "\n",
    "  return child_sequence"
   ]
  },
  {
   "cell_type": "markdown",
   "metadata": {},
   "source": [
    "### Mutation\n",
    "\n",
    "For TSP the mutation we defined as a random switch of the order between 2 cities. The same as in the case of general use GA the chance of the mutation is set to 0.01. "
   ]
  },
  {
   "cell_type": "code",
   "execution_count": null,
   "metadata": {},
   "outputs": [],
   "source": [
    "def mutation(chromosome, chance=0.01):\n",
    "  child_genome = chromosome.copy()\n",
    "  if random.uniform(0,1) < chance: # 1% chance of a random mutation\n",
    "    index1 = random.randint(1, len(chromosome)-1)\n",
    "    index2 = random.randint(1, len(chromosome)-1)\n",
    "    if index1 != index2:\n",
    "      child_genome[index1] = chromosome[index2]\n",
    "      child_genome[index2] = chromosome[index1]\n",
    "  return child_genome"
   ]
  },
  {
   "cell_type": "markdown",
   "metadata": {},
   "source": [
    "### Next generation\n",
    "\n",
    "The algorithm for generating a new population for this problem is the same - we are using a roulette wheel, but this time we need to order chromosomes in incrementing order accordingly to fitnesses. "
   ]
  },
  {
   "cell_type": "code",
   "execution_count": null,
   "metadata": {},
   "outputs": [],
   "source": [
    "def next_generation_TSP(chromosomes, fitnesses):\n",
    "  fitness_pairs = []\n",
    "  fitnessTotal = 0.0\n",
    "  for i in range(len(chromosomes)):\n",
    "    fitness_pairs.append([chromosomes[i], fitnesses[i]])\n",
    "    fitnessTotal += float(fitnesses[i])\n",
    "\n",
    "  fitnesses = list(sorted(fitnesses)) #fitnesses now in order\n",
    "  sorted_pairs = list(sorted(fitness_pairs, key=lambda x: x[1]))\n",
    "\n",
    "  new_chromosomes = np.zeros(shape=(pop_size, chrom_size+2), dtype = int)\n",
    "\n",
    "  # Create roulette wheel \n",
    "  rouletteWheel = []\n",
    "  fitnessProportions = []\n",
    "  for i in range(len(chromosomes)):\n",
    "      fitnessProportions.append( float( fitnesses[i]/fitnessTotal ) )\n",
    "      if(i == 0):\n",
    "          rouletteWheel.append(fitnessProportions[i])\n",
    "      else:\n",
    "          rouletteWheel.append(rouletteWheel[i - 1] + fitnessProportions[i])\n",
    "\n",
    "  # Generate new population with children of selected chromosomes\n",
    "  for i in range(len(chromosomes)):\n",
    "\n",
    "      #Fitness Proportional Selection\n",
    "      spin1 = random.uniform(0, 1)\n",
    "      spin2 = random.uniform(0, 1)\n",
    "\n",
    "      j = 0\n",
    "      while( rouletteWheel[j] <= spin1 ):\n",
    "          j += 1\n",
    "\n",
    "      k = 0\n",
    "      while( rouletteWheel[k] <= spin2 ):\n",
    "          k += 1\n",
    "\n",
    "      parentFirst = sorted_pairs[j][0]\n",
    "      parentSecond = sorted_pairs[k][0]\n",
    "\n",
    "      child_sequence = crossover(parentFirst, parentSecond)\n",
    "      child_genome = mutation(child_sequence)\n",
    "\n",
    "      new_chromosomes[i] = child_genome\n",
    "  return new_chromosomes"
   ]
  },
  {
   "cell_type": "markdown",
   "metadata": {},
   "source": [
    "## Algorithm execution\n",
    "\n",
    "The execution of the algorithm looks the same, but now, we are just using the methods prepared for the Traveling Salesman Problem. \n",
    "\n",
    "In the end, there is the best and the worst chromosome from the last population shown together with the path distance. "
   ]
  },
  {
   "cell_type": "code",
   "execution_count": null,
   "metadata": {},
   "outputs": [],
   "source": [
    "print(\"Traveling Salesman Problem:\")\n",
    "\n",
    "distances_dpnp = distances\n",
    "try:\n",
    "  distances_dpnp = dpnp.asarray(distances, device=\"gpu\")\n",
    "except Exception:\n",
    "  print(\"GPU device is not available\")\n",
    "\n",
    "# Genetic Algorithm on GPU\n",
    "for i in range(num_generations):\n",
    "  print(\"Gen \" + str(i+1) + \"/\" + str(num_generations))\n",
    "\n",
    "  chromosomes_dpnp = chromosomes\n",
    "  try:\n",
    "    chromosomes_dpnp = dpnp.asarray(chromosomes, device=\"gpu\")\n",
    "  except Exception:\n",
    "    print(\"GPU device is not available\")\n",
    "\n",
    "  fitnesses = np.zeros(pop_size, dtype=np.float32)\n",
    "\n",
    "  fitnesses = eval_genomes_plain_TSP_SYCL(chromosomes_dpnp, fitnesses, distances_dpnp, pop_size)\n",
    "  chromosomes = next_generation_TSP(chromosomes, fitnesses)\n",
    "\n",
    "fitness_pairs = []\n",
    "\n",
    "for i in range(len(chromosomes)):\n",
    "  fitness_pairs.append([chromosomes[i], fitnesses[i]])\n",
    "\n",
    "fitnesses = list(sorted(fitnesses))\n",
    "sorted_pairs = list(sorted(fitness_pairs, key=lambda x: x[1]))\n",
    "\n",
    "print(\"Best path: \", sorted_pairs[0][0], \" distance: \", sorted_pairs[0][1])\n",
    "print(\"Worst path: \", sorted_pairs[-1][0], \" distance: \", sorted_pairs[-1][1])"
   ]
  },
  {
   "cell_type": "markdown",
   "metadata": {},
   "source": [
    "In this code sample, there was a general purpose Genetic Algorithm created and optimized using dpnp to run on GPU. Then the same approach was applied to the Traveling Salesman Problem."
   ]
  },
  {
   "cell_type": "code",
   "execution_count": null,
   "metadata": {},
   "outputs": [],
   "source": [
    "print(\"[CODE_SAMPLE_COMPLETED_SUCCESSFULLY]\")"
   ]
  }
 ],
 "metadata": {
  "accelerator": "GPU",
  "colab": {
   "gpuType": "T4",
   "provenance": []
  },
  "kernelspec": {
   "display_name": "Base",
   "language": "python",
   "name": "base"
  },
  "language_info": {
   "codemirror_mode": {
    "name": "ipython",
    "version": 3
   },
   "file_extension": ".py",
   "mimetype": "text/x-python",
   "name": "python",
   "nbconvert_exporter": "python",
   "pygments_lexer": "ipython3",
   "version": "3.9.19"
  }
 },
 "nbformat": 4,
 "nbformat_minor": 4
}
