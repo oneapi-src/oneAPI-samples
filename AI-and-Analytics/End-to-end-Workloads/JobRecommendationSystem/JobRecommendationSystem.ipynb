{
 "cells": [
  {
   "attachments": {},
   "cell_type": "markdown",
   "metadata": {
    "id": "muD_5mFUYB-x"
   },
   "source": [
    "# Job recommendation system\n",
    "\n",
    "The code sample contains the following parts:\n",
    "\n",
    "1.   Data exploration and visualization\n",
    "2.   Data cleaning/pre-processing\n",
    "3.   Fake job postings identification and removal\n",
    "4.   Job recommendation by showing the most similar job postings\n",
    "\n",
    "The scenario is that someone wants to find the best posting for themselves. They have collected the data, but he is not sure if all the data is real. Therefore, based on a trained model, as in this sample, they identify with a high degree of accuracy which postings are real, and it is among them that they choose the best ad for themselves.\n",
    "\n",
    "For simplicity, only one dataset will be used within this code, but the process using one dataset is not significantly different from the one described earlier.\n"
   ]
  },
  {
   "cell_type": "markdown",
   "metadata": {
    "id": "GTu2WLQmZU-L"
   },
   "source": [
    "## Data exploration and visualization\n",
    "\n",
    "For the purpose of this code sample we will use Real or Fake: Fake Job Postings dataset available over HuggingFace API. In this first part we will focus on data exploration and visualization. In standard end-to-end workload it is the first step. Engineer needs to first know the data to be able to work on it and prepare solution that will utilize dataset the best.\n",
    "\n",
    "Lest start with loading the dataset. We are using datasets library to do that."
   ]
  },
  {
   "cell_type": "code",
   "execution_count": null,
   "metadata": {
    "colab": {
     "base_uri": "https://localhost:8080/"
    },
    "id": "saMOoStVs0-s",
    "outputId": "ba4623b9-0533-4062-b6b0-01e96bd4de39"
   },
   "outputs": [],
   "source": [
    "from datasets import load_dataset\n",
    "\n",
    "dataset = load_dataset(\"victor/real-or-fake-fake-jobposting-prediction\")\n",
    "dataset = dataset['train']"
   ]
  },
  {
   "cell_type": "markdown",
   "metadata": {},
   "source": [
    "To better analyze and understand the data we are transferring it to pandas DataFrame, so we are able to take benefit from all pandas data transformations. Pandas library provides multiple useful functions for data manipulation so it is usual choice at this stage of machine learning or deep learning project.\n"
   ]
  },
  {
   "cell_type": "code",
   "execution_count": null,
   "metadata": {
    "id": "rRkolJQKtAzt"
   },
   "outputs": [],
   "source": [
    "import pandas as pd\n",
    "df = dataset.to_pandas()"
   ]
  },
  {
   "cell_type": "markdown",
   "metadata": {},
   "source": [
    "Let's see 5 first and 5 last rows in the dataset we are working on."
   ]
  },
  {
   "cell_type": "code",
   "execution_count": null,
   "metadata": {},
   "outputs": [],
   "source": [
    "df.head()"
   ]
  },
  {
   "cell_type": "code",
   "execution_count": null,
   "metadata": {
    "colab": {
     "base_uri": "https://localhost:8080/",
     "height": 556
    },
    "id": "WYGIRBUJSl3N",
    "outputId": "ccd4abaf-1b4d-4fbd-85c8-54408c4f9f8a"
   },
   "outputs": [],
   "source": [
    "df.tail()"
   ]
  },
  {
   "cell_type": "markdown",
   "metadata": {},
   "source": [
    "Now, lets print a concise summary of the dataset. This way we will see all the column names, know the number of rows and types in every of the column. It is a great overview on the features of the dataset."
   ]
  },
  {
   "cell_type": "code",
   "execution_count": null,
   "metadata": {
    "colab": {
     "base_uri": "https://localhost:8080/"
    },
    "id": "UtxA6fmaSrQ8",
    "outputId": "e8a1ce15-88e8-487c-d05e-74c024aca994"
   },
   "outputs": [],
   "source": [
    "df.info()"
   ]
  },
  {
   "cell_type": "markdown",
   "metadata": {},
   "source": [
    "At this point it is a good idea to make sure our dataset doen't contain any data duplication that could impact the results of our future system. To do that we firs need to remove `job_id` column. It contains unique number for each job posting so even if the rest of the data is the same between 2 postings it makes it different."
   ]
  },
  {
   "cell_type": "code",
   "execution_count": null,
   "metadata": {
    "colab": {
     "base_uri": "https://localhost:8080/",
     "height": 556
    },
    "id": "f4LJCdKHStca",
    "outputId": "b1db61e1-a909-463b-d369-b38c2349cba6"
   },
   "outputs": [],
   "source": [
    "# Drop the 'job_id' column\n",
    "df = df.drop(columns=['job_id'])\n",
    "df.head()"
   ]
  },
  {
   "cell_type": "markdown",
   "metadata": {},
   "source": [
    "And now, the actual duplicates removal. We first pring the number of duplicates that are in our dataset, than using `drop_duplicated` method we are removing them and after this operation printing the number of the duplicates. If everything works as expected after duplicates removal we should print `0` as current number of duplicates in the dataset."
   ]
  },
  {
   "cell_type": "code",
   "execution_count": null,
   "metadata": {
    "colab": {
     "base_uri": "https://localhost:8080/"
    },
    "id": "Ow8SgJg2vJkB",
    "outputId": "9a6050bf-f4bf-4b17-85a1-8d2980cd77ee"
   },
   "outputs": [],
   "source": [
    "# let's make sure that there are no duplicated jobs\n",
    "\n",
    "print(df.duplicated().sum())\n",
    "df = df.drop_duplicates()\n",
    "print(df.duplicated().sum())"
   ]
  },
  {
   "cell_type": "markdown",
   "metadata": {
    "id": "tcpcjR8UUQCJ"
   },
   "source": [
    "Now we can visualize the data from the dataset. First let's visualize data as it is all real, and later, for the purposes of the fake data detection, we will also visualize it spreading fake and real data.\n",
    "\n",
    "When working with text data it can be challenging to visualize it. Thankfully, there is a `wordcloud` library that shows common words in the analyzed texts. The bigger word is, more often the word is in the text. Wordclouds allow us to quickly identify the most important topic and themes in a large text dataset and also explore patterns and trends in textural data.\n",
    "\n",
    "In our example, we will create wordcloud for job titles, to have high-level overview of job postings we are working with."
   ]
  },
  {
   "cell_type": "code",
   "execution_count": null,
   "metadata": {
    "colab": {
     "base_uri": "https://localhost:8080/",
     "height": 544
    },
    "id": "c0jsAvejvzQ5",
    "outputId": "7622e54f-6814-47e1-d9c6-4ee13173b4f4"
   },
   "outputs": [],
   "source": [
    "from wordcloud import WordCloud # module to print word cloud\n",
    "from matplotlib import pyplot as plt\n",
    "import seaborn as sns\n",
    "\n",
    "# On the basis of Job Titles form word cloud\n",
    "job_titles_text = ' '.join(df['title'])\n",
    "wordcloud = WordCloud(width=800, height=400, background_color='white').generate(job_titles_text)\n",
    "\n",
    "# Plotting Word Cloud\n",
    "plt.figure(figsize=(10, 6))\n",
    "plt.imshow(wordcloud, interpolation='bilinear')\n",
    "plt.title('Job Titles')\n",
    "plt.axis('off')\n",
    "plt.tight_layout()\n",
    "plt.show()"
   ]
  },
  {
   "cell_type": "markdown",
   "metadata": {},
   "source": [
    "Different possibility to get some information from this type of dataset is by showing top-n most common values in given column or distribution of the values int his column.\n",
    "Let's show top 10 most common job titles and compare this result with previously showed wordcould."
   ]
  },
  {
   "cell_type": "code",
   "execution_count": null,
   "metadata": {
    "colab": {
     "base_uri": "https://localhost:8080/",
     "height": 564
    },
    "id": "0Ut0qo0ywv3_",
    "outputId": "705fbbf0-4dc0-4ee1-d821-edccaff78a85"
   },
   "outputs": [],
   "source": [
    "# Get Count of job title\n",
    "job_title_counts = df['title'].value_counts()\n",
    "\n",
    "# Plotting a bar chart for the top 10 most common job titles\n",
    "top_job_titles = job_title_counts.head(10)\n",
    "plt.figure(figsize=(10, 6))\n",
    "top_job_titles.sort_values().plot(kind='barh')\n",
    "plt.title('Top 10 Most Common Job Titles')\n",
    "plt.xlabel('Frequency')\n",
    "plt.ylabel('Job Titles')\n",
    "plt.show()"
   ]
  },
  {
   "cell_type": "markdown",
   "metadata": {},
   "source": [
    "Now we can do the same for different columns, as `employment_type`, `required_experience`, `telecommuting`, `has_company_logo` and `has_questions`. These should give us reale good overview of different parts of our dataset."
   ]
  },
  {
   "cell_type": "code",
   "execution_count": null,
   "metadata": {
    "colab": {
     "base_uri": "https://localhost:8080/",
     "height": 564
    },
    "id": "OaBkEWNLxkqK",
    "outputId": "efbd9955-5630-4fdb-a6dd-f4ffe4b0a7d8"
   },
   "outputs": [],
   "source": [
    "# Count the occurrences of each work type\n",
    "work_type_counts = df['employment_type'].value_counts()\n",
    "\n",
    "# Plotting the distribution of work types\n",
    "plt.figure(figsize=(8, 6))\n",
    "work_type_counts.sort_values().plot(kind='barh')\n",
    "plt.title('Distribution of Work Types Offered by Jobs')\n",
    "plt.xlabel('Frequency')\n",
    "plt.ylabel('Work Types')\n",
    "plt.show()"
   ]
  },
  {
   "cell_type": "code",
   "execution_count": null,
   "metadata": {
    "colab": {
     "base_uri": "https://localhost:8080/",
     "height": 564
    },
    "id": "5uTBPGXgyZEV",
    "outputId": "d6c76b5f-25ce-4730-f849-f881315ca883"
   },
   "outputs": [],
   "source": [
    "# Count the occurrences of required experience types\n",
    "work_type_counts = df['required_experience'].value_counts()\n",
    "\n",
    "# Plotting the distribution of work types\n",
    "plt.figure(figsize=(8, 6))\n",
    "work_type_counts.sort_values().plot(kind='barh')\n",
    "plt.title('Distribution of Required Experience by Jobs')\n",
    "plt.xlabel('Frequency')\n",
    "plt.ylabel('Required Experience')\n",
    "plt.show()"
   ]
  },
  {
   "cell_type": "markdown",
   "metadata": {},
   "source": [
    "For employment_type and required_experience we also created matrix to see if there is any corelation between those two. To visualize it we created heatmap. If you think that some of the parameters can be related, creating similar heatmap can be a good idea."
   ]
  },
  {
   "cell_type": "code",
   "execution_count": null,
   "metadata": {
    "colab": {
     "base_uri": "https://localhost:8080/",
     "height": 696
    },
    "id": "nonO2cHR1I-t",
    "outputId": "3101b8b2-cf0a-413b-b0aa-eb2a3a96a582"
   },
   "outputs": [],
   "source": [
    "from matplotlib import pyplot as plt\n",
    "import seaborn as sns\n",
    "import pandas as pd\n",
    "\n",
    "plt.subplots(figsize=(8, 8))\n",
    "df_2dhist = pd.DataFrame({\n",
    "    x_label: grp['required_experience'].value_counts()\n",
    "    for x_label, grp in df.groupby('employment_type')\n",
    "})\n",
    "sns.heatmap(df_2dhist, cmap='viridis')\n",
    "plt.xlabel('employment_type')\n",
    "_ = plt.ylabel('required_experience')"
   ]
  },
  {
   "cell_type": "code",
   "execution_count": null,
   "metadata": {
    "colab": {
     "base_uri": "https://localhost:8080/",
     "height": 564
    },
    "id": "mXdpeQFJ1VMu",
    "outputId": "eb9a893f-5087-4dad-ceca-48a1dfeb0b02"
   },
   "outputs": [],
   "source": [
    "# Count the occurrences of unique values in the 'telecommuting' column\n",
    "telecommuting_counts = df['telecommuting'].value_counts()\n",
    "\n",
    "plt.figure(figsize=(8, 6))\n",
    "telecommuting_counts.sort_values().plot(kind='barh')\n",
    "plt.title('Counts of telecommuting vs Non-telecommuting')\n",
    "plt.xlabel('count')\n",
    "plt.ylabel('telecommuting')\n",
    "plt.show()"
   ]
  },
  {
   "cell_type": "code",
   "execution_count": null,
   "metadata": {
    "colab": {
     "base_uri": "https://localhost:8080/",
     "height": 564
    },
    "id": "8kEu4IKcVmSV",
    "outputId": "94ae873f-9178-4c63-e855-d677f135e552"
   },
   "outputs": [],
   "source": [
    "has_company_logo_counts = df['has_company_logo'].value_counts()\n",
    "\n",
    "plt.figure(figsize=(8, 6))\n",
    "has_company_logo_counts.sort_values().plot(kind='barh')\n",
    "plt.ylabel('has_company_logo')\n",
    "plt.xlabel('Count')\n",
    "plt.title('Counts of With_Logo vs Without_Logo')\n",
    "plt.show()"
   ]
  },
  {
   "cell_type": "code",
   "execution_count": null,
   "metadata": {
    "colab": {
     "base_uri": "https://localhost:8080/",
     "height": 564
    },
    "id": "Esv8b51EVvxx",
    "outputId": "40355e3f-fc6b-4b16-d459-922cfede2f71"
   },
   "outputs": [],
   "source": [
    "has_questions_counts = df['has_questions'].value_counts()\n",
    "\n",
    "# Plot the counts\n",
    "plt.figure(figsize=(8, 6))\n",
    "has_questions_counts.sort_values().plot(kind='barh')\n",
    "plt.ylabel('has_questions')\n",
    "plt.xlabel('Count')\n",
    "plt.title('Counts Questions vs NO_Questions')\n",
    "plt.show()"
   ]
  },
  {
   "cell_type": "markdown",
   "metadata": {},
   "source": [
    "From the job recommendations point of view the salary and location can be really important parameters to take into consideration. In given dataset we have salary ranges available so there is no need for additional data processing rather than removal of empty ranges but if the dataset you're working on has specific values, consider organizing it into appropriate ranges and only then displaying the result."
   ]
  },
  {
   "cell_type": "code",
   "execution_count": null,
   "metadata": {
    "colab": {
     "base_uri": "https://localhost:8080/",
     "height": 564
    },
    "id": "6SQO5PVLy8vt",
    "outputId": "f0dbdf21-af94-4e56-cd82-938b7258c26f"
   },
   "outputs": [],
   "source": [
    "# Splitting benefits by comma and creating a list of benefits\n",
    "benefits_list = df['salary_range'].str.split(',').explode()\n",
    "benefits_list = benefits_list[benefits_list != 'None']\n",
    "benefits_list = benefits_list[benefits_list != '0-0']\n",
    "\n",
    "\n",
    "# Counting the occurrences of each skill\n",
    "benefits_count = benefits_list.str.strip().value_counts()\n",
    "\n",
    "# Plotting the top 10 most common benefits\n",
    "top_benefits = benefits_count.head(10)\n",
    "plt.figure(figsize=(10, 6))\n",
    "top_benefits.sort_values().plot(kind='barh')\n",
    "plt.title('Top 10 Salaries Range Offered by Companies')\n",
    "plt.xlabel('Frequency')\n",
    "plt.ylabel('Salary Range')\n",
    "plt.show()"
   ]
  },
  {
   "cell_type": "markdown",
   "metadata": {},
   "source": [
    "For the location we have both county, state and city specified, so we need to split it into individual columns, and then show top 10 counties and cities."
   ]
  },
  {
   "cell_type": "code",
   "execution_count": null,
   "metadata": {
    "id": "_242StA_UZTF"
   },
   "outputs": [],
   "source": [
    "# Split the 'location' column into separate columns for country, state, and city\n",
    "location_split = df['location'].str.split(', ', expand=True)\n",
    "df['Country'] = location_split[0]\n",
    "df['State'] = location_split[1]\n",
    "df['City'] = location_split[2]"
   ]
  },
  {
   "cell_type": "code",
   "execution_count": null,
   "metadata": {
    "colab": {
     "base_uri": "https://localhost:8080/",
     "height": 959
    },
    "id": "HS9SH6p9UaJU",
    "outputId": "6562e31f-6719-448b-c290-1a9610eb50c2"
   },
   "outputs": [],
   "source": [
    "# Count the occurrences of unique values in the 'Country' column\n",
    "Country_counts = df['Country'].value_counts()\n",
    "\n",
    "# Select the top 10 most frequent occurrences\n",
    "top_10_Country = Country_counts.head(10)\n",
    "\n",
    "# Plot the top 10 most frequent occurrences as horizontal bar plot with rotated labels\n",
    "plt.figure(figsize=(14, 10))\n",
    "sns.barplot(y=top_10_Country.index, x=top_10_Country.values)\n",
    "plt.ylabel('Country')\n",
    "plt.xlabel('Count')\n",
    "plt.title('Top 10 Most Frequent Country')\n",
    "plt.show()"
   ]
  },
  {
   "cell_type": "code",
   "execution_count": null,
   "metadata": {
    "colab": {
     "base_uri": "https://localhost:8080/",
     "height": 959
    },
    "id": "j_cPJl8pUcWT",
    "outputId": "bb87ec2d-750d-45b0-f64f-ae4b84b00544"
   },
   "outputs": [],
   "source": [
    "# Count the occurrences of unique values in the 'City' column\n",
    "City_counts = df['City'].value_counts()\n",
    "\n",
    "# Select the top 10 most frequent occurrences\n",
    "top_10_City = City_counts.head(10)\n",
    "\n",
    "# Plot the top 10 most frequent occurrences as horizontal bar plot with rotated labels\n",
    "plt.figure(figsize=(14, 10))\n",
    "sns.barplot(y=top_10_City.index, x=top_10_City.values)\n",
    "plt.ylabel('City')\n",
    "plt.xlabel('Count')\n",
    "plt.title('Top 10 Most Frequent City')\n",
    "plt.show()"
   ]
  },
  {
   "cell_type": "markdown",
   "metadata": {
    "id": "-R8hkAIjVF_s"
   },
   "source": [
    "### Fake job postings data visualization \n",
    "\n",
    "What about fraudulent class? Let see how many of the jobs in the dataset are fake. Whether there are equally true and false offers, or whether there is a significant disproportion between the two. "
   ]
  },
  {
   "cell_type": "code",
   "execution_count": null,
   "metadata": {
    "colab": {
     "base_uri": "https://localhost:8080/",
     "height": 651
    },
    "id": "KJ5Aq2IizZ4r",
    "outputId": "e1c10006-9f5a-4321-d90a-28915e02f8c3"
   },
   "outputs": [],
   "source": [
    "## fake job visualization\n",
    "# Count the occurrences of unique values in the 'fraudulent' column\n",
    "fraudulent_counts = df['fraudulent'].value_counts()\n",
    "\n",
    "# Plot the counts using a rainbow color palette\n",
    "plt.figure(figsize=(8, 6))\n",
    "sns.barplot(x=fraudulent_counts.index, y=fraudulent_counts.values)\n",
    "plt.xlabel('Fraudulent')\n",
    "plt.ylabel('Count')\n",
    "plt.title('Counts of Fraudulent vs Non-Fraudulent')\n",
    "plt.show()"
   ]
  },
  {
   "cell_type": "code",
   "execution_count": null,
   "metadata": {
    "colab": {
     "base_uri": "https://localhost:8080/",
     "height": 564
    },
    "id": "oyeB2MFRVIWi",
    "outputId": "9236f907-4c16-49f7-c14b-883d21ae6c2c"
   },
   "outputs": [],
   "source": [
    "plt.figure(figsize=(10, 6))\n",
    "sns.countplot(data=df, x='employment_type', hue='fraudulent')\n",
    "plt.title('Count of Fraudulent Cases by Employment Type')\n",
    "plt.xlabel('Employment Type')\n",
    "plt.ylabel('Count')\n",
    "plt.legend(title='Fraudulent')\n",
    "plt.show()"
   ]
  },
  {
   "cell_type": "code",
   "execution_count": null,
   "metadata": {
    "colab": {
     "base_uri": "https://localhost:8080/",
     "height": 564
    },
    "id": "ORGFxjVVVJBi",
    "outputId": "084304de-5618-436a-8958-6f36abd72be7"
   },
   "outputs": [],
   "source": [
    "plt.figure(figsize=(10, 6))\n",
    "sns.countplot(data=df, x='required_experience', hue='fraudulent')\n",
    "plt.title('Count of Fraudulent Cases by Required Experience')\n",
    "plt.xlabel('Required Experience')\n",
    "plt.ylabel('Count')\n",
    "plt.legend(title='Fraudulent')\n",
    "plt.show()"
   ]
  },
  {
   "cell_type": "code",
   "execution_count": null,
   "metadata": {
    "colab": {
     "base_uri": "https://localhost:8080/",
     "height": 1000
    },
    "id": "GnRPXpBWVL7O",
    "outputId": "8d347181-83d8-44ae-9c57-88d98825694d"
   },
   "outputs": [],
   "source": [
    "plt.figure(figsize=(30, 18))\n",
    "sns.countplot(data=df, x='required_education', hue='fraudulent')\n",
    "plt.title('Count of Fraudulent Cases by Required Education')\n",
    "plt.xlabel('Required Education')\n",
    "plt.ylabel('Count')\n",
    "plt.legend(title='Fraudulent')\n",
    "plt.show()"
   ]
  },
  {
   "cell_type": "markdown",
   "metadata": {
    "id": "8qKuYrkvVPlO"
   },
   "source": [
    "We can see that there is no connection between those parameters and fake job postings. This way in the future processing we can remove them."
   ]
  },
  {
   "cell_type": "markdown",
   "metadata": {
    "id": "BbOwzXmdaJTw"
   },
   "source": [
    "## Data cleaning/pre-processing\n",
    "\n",
    "One of the really important step related to any type of data processing is data cleaning. For texts it usually includes removal of stop words, special characters, numbers or any additional noise like hyperlinks. \n",
    "\n",
    "In our case, to prepare data for Fake Job Postings recognition we will first, combine all relevant columns into single new record and then clean the data to work on it."
   ]
  },
  {
   "cell_type": "code",
   "execution_count": null,
   "metadata": {
    "id": "jYLwp2wSaMdi"
   },
   "outputs": [],
   "source": [
    "# List of columns to concatenate\n",
    "columns_to_concat = ['title', 'location', 'department', 'salary_range', 'company_profile',\n",
    "                     'description', 'requirements', 'benefits', 'employment_type',\n",
    "                     'required_experience', 'required_education', 'industry', 'function']\n",
    "\n",
    "# Concatenate the values of specified columns into a new column 'job_posting'\n",
    "df['job_posting'] = df[columns_to_concat].apply(lambda x: ' '.join(x.dropna().astype(str)), axis=1)\n",
    "\n",
    "# Create a new DataFrame with columns 'job_posting' and 'fraudulent'\n",
    "new_df = df[['job_posting', 'fraudulent']].copy()"
   ]
  },
  {
   "cell_type": "code",
   "execution_count": null,
   "metadata": {
    "colab": {
     "base_uri": "https://localhost:8080/",
     "height": 206
    },
    "id": "FulR3zMiaMgI",
    "outputId": "995058f3-f5f7-4aec-e1e0-94d42aad468f"
   },
   "outputs": [],
   "source": [
    "new_df.head()"
   ]
  },
  {
   "cell_type": "code",
   "execution_count": null,
   "metadata": {
    "colab": {
     "base_uri": "https://localhost:8080/"
    },
    "id": "0TpoEx1-YgCs",
    "outputId": "8eaaf021-ae66-477a-f07b-fd8a353d17eb",
    "scrolled": true
   },
   "outputs": [],
   "source": [
    "# import spacy\n",
    "import re\n",
    "import nltk\n",
    "from nltk.corpus import stopwords\n",
    "\n",
    "nltk.download('stopwords')\n",
    "\n",
    "def preprocess_text(text):\n",
    "    # Remove newlines, carriage returns, and tabs\n",
    "    text = re.sub('\\n','', text)\n",
    "    text = re.sub('\\r','', text)\n",
    "    text = re.sub('\\t','', text)\n",
    "    # Remove URLs\n",
    "    text = re.sub(r\"http\\S+|www\\S+|https\\S+\", \"\", text, flags=re.MULTILINE)\n",
    "\n",
    "    # Remove special characters\n",
    "    text = re.sub(r\"[^a-zA-Z0-9\\s]\", \"\", text)\n",
    "\n",
    "    # Remove punctuation\n",
    "    text = re.sub(r'[^\\w\\s]', '', text)\n",
    "\n",
    "    # Remove digits\n",
    "    text = re.sub(r'\\d', '', text)\n",
    "\n",
    "    # Convert to lowercase\n",
    "    text = text.lower()\n",
    "\n",
    "    # Remove stop words\n",
    "    stop_words = set(stopwords.words('english'))\n",
    "    words = [word for word in text.split() if word.lower() not in stop_words]\n",
    "    text = ' '.join(words)\n",
    "\n",
    "    return text\n",
    "\n"
   ]
  },
  {
   "cell_type": "code",
   "execution_count": null,
   "metadata": {
    "id": "p9NHS6Vx2BE8"
   },
   "outputs": [],
   "source": [
    "new_df['job_posting'] = new_df['job_posting'].apply(preprocess_text)\n",
    "\n",
    "new_df.head()"
   ]
  },
  {
   "cell_type": "markdown",
   "metadata": {},
   "source": [
    "The next step in the pre-processing is lemmatization. It is a process to reduce a word to its root form, called a lemma. For example the verb 'planning' would be changed to 'plan' world."
   ]
  },
  {
   "cell_type": "code",
   "execution_count": null,
   "metadata": {
    "id": "kZnHODi-ZK33"
   },
   "outputs": [],
   "source": [
    "# Lemmatization\n",
    "import en_core_web_sm\n",
    "\n",
    "nlp = en_core_web_sm.load()\n",
    "\n",
    "def lemmatize_text(text):\n",
    "    doc = nlp(text)\n",
    "    return \" \".join([token.lemma_ for token in doc])"
   ]
  },
  {
   "cell_type": "code",
   "execution_count": null,
   "metadata": {
    "id": "uQauVQdw2LWa"
   },
   "outputs": [],
   "source": [
    "new_df['job_posting'] = new_df['job_posting'].apply(lemmatize_text)\n",
    "\n",
    "new_df.head()"
   ]
  },
  {
   "cell_type": "markdown",
   "metadata": {
    "id": "dQDR6_SpZW0B"
   },
   "source": [
    "At this stage we can also visualize the data with wordcloud by having special text column. We can show it for both fake and real dataset."
   ]
  },
  {
   "cell_type": "code",
   "execution_count": null,
   "metadata": {
    "colab": {
     "base_uri": "https://localhost:8080/",
     "height": 411
    },
    "id": "fdR9GAG6ZnPh",
    "outputId": "57e9b5ae-87b4-4523-d0ae-8c8fd56cd9bc"
   },
   "outputs": [],
   "source": [
    "from wordcloud import WordCloud\n",
    "\n",
    "non_fraudulent_text = ' '.join(text for text in new_df[new_df['fraudulent'] == 0]['job_posting'])\n",
    "fraudulent_text = ' '.join(text for text in new_df[new_df['fraudulent'] == 1]['job_posting'])\n",
    "\n",
    "wordcloud_non_fraudulent = WordCloud(width=800, height=400, background_color='white').generate(non_fraudulent_text)\n",
    "\n",
    "wordcloud_fraudulent = WordCloud(width=800, height=400, background_color='white').generate(fraudulent_text)\n",
    "\n",
    "fig, (ax1, ax2) = plt.subplots(1, 2, figsize=(20, 10))\n",
    "\n",
    "ax1.imshow(wordcloud_non_fraudulent, interpolation='bilinear')\n",
    "ax1.axis('off')\n",
    "ax1.set_title('Non-Fraudulent Job Postings')\n",
    "\n",
    "ax2.imshow(wordcloud_fraudulent, interpolation='bilinear')\n",
    "ax2.axis('off')\n",
    "ax2.set_title('Fraudulent Job Postings')\n",
    "\n",
    "plt.show()"
   ]
  },
  {
   "cell_type": "markdown",
   "metadata": {
    "id": "ihtfhOr7aNMa"
   },
   "source": [
    "## Fake job postings identification and removal\n",
    "\n",
    "Nowadays, it is unfortunate that not all the job offers that are posted on papular portals are genuine. Some of them are created only to collect personal data. Therefore, just detecting fake job postings can be very essential. \n",
    "\n",
    "We will create bidirectional LSTM model with one hot encoding. Let's start with all necessary imports."
   ]
  },
  {
   "cell_type": "code",
   "execution_count": null,
   "metadata": {
    "id": "VNdX-xcjtVS2"
   },
   "outputs": [],
   "source": [
    "from tensorflow.keras.layers import Embedding\n",
    "from tensorflow.keras.preprocessing.sequence import pad_sequences\n",
    "from tensorflow.keras.models import Sequential\n",
    "from tensorflow.keras.preprocessing.text import one_hot\n",
    "from tensorflow.keras.layers import Dense\n",
    "from tensorflow.keras.layers import Bidirectional\n",
    "from tensorflow.keras.layers import Dropout"
   ]
  },
  {
   "cell_type": "markdown",
   "metadata": {},
   "source": [
    "Make sure, you're using Tensorflow version 2.15.0"
   ]
  },
  {
   "cell_type": "code",
   "execution_count": null,
   "metadata": {
    "colab": {
     "base_uri": "https://localhost:8080/",
     "height": 35
    },
    "id": "IxY47-s7tbjU",
    "outputId": "02d68552-ff52-422b-9044-e55e35ef1236"
   },
   "outputs": [],
   "source": [
    "import tensorflow as tf\n",
    "tf.__version__"
   ]
  },
  {
   "cell_type": "markdown",
   "metadata": {},
   "source": [
    "Now, let us import Intel Extension for TensorFlow*. We are using Python API `itex.experimental_ops_override()`. It automatically replace some TensorFlow operators by Custom Operators under `itex.ops` namespace, as well as to be compatible with existing trained parameters."
   ]
  },
  {
   "cell_type": "code",
   "execution_count": null,
   "metadata": {},
   "outputs": [],
   "source": [
    "import intel_extension_for_tensorflow as itex\n",
    "\n",
    "itex.experimental_ops_override()"
   ]
  },
  {
   "cell_type": "markdown",
   "metadata": {},
   "source": [
    "We need to prepare data for the model we will create. First let's assign job_postings to X and fraudulent values to y (expected value)."
   ]
  },
  {
   "cell_type": "code",
   "execution_count": null,
   "metadata": {
    "id": "U-7klPFFtZgo"
   },
   "outputs": [],
   "source": [
    "X = new_df['job_posting']\n",
    "y = new_df['fraudulent']"
   ]
  },
  {
   "cell_type": "markdown",
   "metadata": {},
   "source": [
    "One hot encoding is a technique to represent categorical variables as numerical values. "
   ]
  },
  {
   "cell_type": "code",
   "execution_count": null,
   "metadata": {
    "id": "3FFtUrPbtbmD"
   },
   "outputs": [],
   "source": [
    "voc_size = 5000\n",
    "onehot_repr = [one_hot(words, voc_size) for words in X]"
   ]
  },
  {
   "cell_type": "code",
   "execution_count": null,
   "metadata": {
    "colab": {
     "base_uri": "https://localhost:8080/"
    },
    "id": "ygHx6LSg6ZUr",
    "outputId": "5b152a4f-621b-400c-a65b-5fa19a934aa2"
   },
   "outputs": [],
   "source": [
    "sent_length = 40\n",
    "embedded_docs = pad_sequences(onehot_repr, padding='pre', maxlen=sent_length)\n",
    "print(embedded_docs)"
   ]
  },
  {
   "cell_type": "markdown",
   "metadata": {},
   "source": [
    "### Creating model\n",
    "\n",
    "We are creating Deep Neural Network using Bidirectional LSTM. The architecture is as followed:\n",
    "\n",
    "* Embedding layer\n",
    "* Bidirectiona LSTM Layer\n",
    "* Dropout layer\n",
    "* Dense layer with sigmod function\n",
    "\n",
    "We are using Adam optimizer with binary crossentropy. We are optimism accuracy.\n",
    "\n",
    "If Intel® Extension for TensorFlow* backend is XPU, `tf.keras.layers.LSTM` will be replaced by `itex.ops.ItexLSTM`. "
   ]
  },
  {
   "cell_type": "code",
   "execution_count": null,
   "metadata": {
    "colab": {
     "base_uri": "https://localhost:8080/"
    },
    "id": "Vnhm4huG-Mat",
    "outputId": "dbc59ef1-168a-4e11-f38d-b47674dd4be6"
   },
   "outputs": [],
   "source": [
    "embedding_vector_features = 50\n",
    "model_itex = Sequential()\n",
    "model_itex.add(Embedding(voc_size, embedding_vector_features, input_length=sent_length))\n",
    "model_itex.add(Bidirectional(itex.ops.ItexLSTM(100)))\n",
    "model_itex.add(Dropout(0.3))\n",
    "model_itex.add(Dense(1, activation='sigmoid'))\n",
    "model_itex.compile(loss='binary_crossentropy', optimizer='adam', metrics=['accuracy'])\n",
    "print(model_itex.summary())"
   ]
  },
  {
   "cell_type": "code",
   "execution_count": null,
   "metadata": {
    "id": "1-tz3hyc-PvN"
   },
   "outputs": [],
   "source": [
    "X_final = np.array(embedded_docs)\n",
    "y_final = np.array(y)"
   ]
  },
  {
   "cell_type": "markdown",
   "metadata": {},
   "source": []
  },
  {
   "cell_type": "code",
   "execution_count": null,
   "metadata": {
    "id": "POVN7X60-TnQ"
   },
   "outputs": [],
   "source": [
    "from sklearn.model_selection import train_test_split\n",
    "X_train, X_test, y_train, y_test = train_test_split(X_final, y_final, test_size=0.25, random_state=320)"
   ]
  },
  {
   "cell_type": "markdown",
   "metadata": {},
   "source": [
    "Now, let's train the model. We are using standard `model.fit()` method providing training and testing dataset. You can easily modify number of epochs in this training process but  keep in mind that the model can become overtrained, so that it will have very good results on training data, but poor results on test data."
   ]
  },
  {
   "cell_type": "code",
   "execution_count": null,
   "metadata": {
    "colab": {
     "base_uri": "https://localhost:8080/"
    },
    "id": "U0cGa7ei-Ufh",
    "outputId": "68ce942d-ea51-458f-ac6c-ab619ab1ce74"
   },
   "outputs": [],
   "source": [
    "model_itex.fit(X_train, y_train, validation_data=(X_test, y_test), epochs=1, batch_size=64)"
   ]
  },
  {
   "cell_type": "markdown",
   "metadata": {},
   "source": [
    "The values returned by the model are in the range [0,1] Need to map them to integer values of 0 or 1."
   ]
  },
  {
   "cell_type": "code",
   "execution_count": null,
   "metadata": {
    "colab": {
     "base_uri": "https://localhost:8080/"
    },
    "id": "u4I8Y-R5EcDw",
    "outputId": "be384d88-b27c-49c5-bebb-e9bdba986692"
   },
   "outputs": [],
   "source": [
    "y_pred = (model_itex.predict(X_test) > 0.5).astype(\"int32\")"
   ]
  },
  {
   "cell_type": "markdown",
   "metadata": {},
   "source": [
    "To demonstrate the effectiveness of our models we presented the confusion matrix and classification report available within the `scikit-learn` library."
   ]
  },
  {
   "cell_type": "code",
   "execution_count": null,
   "metadata": {
    "colab": {
     "base_uri": "https://localhost:8080/",
     "height": 675
    },
    "id": "0lB3N6fxtbom",
    "outputId": "97b1713d-b373-44e1-a5b2-15e41aa84016"
   },
   "outputs": [],
   "source": [
    "from sklearn.metrics import ConfusionMatrixDisplay, confusion_matrix, classification_report\n",
    "\n",
    "conf_matrix = confusion_matrix(y_test, y_pred)\n",
    "print(\"Confusion matrix:\")\n",
    "print(conf_matrix)\n",
    "\n",
    "ConfusionMatrixDisplay.from_predictions(y_test, y_pred)\n",
    "\n",
    "class_report = classification_report(y_test, y_pred)\n",
    "print(\"Classification report:\")\n",
    "print(class_report)"
   ]
  },
  {
   "cell_type": "markdown",
   "metadata": {
    "id": "ioa6oZNuaPnJ"
   },
   "source": [
    "## Job recommendation by showing the most similar ones"
   ]
  },
  {
   "cell_type": "markdown",
   "metadata": {
    "id": "ZGReO9ziJyXm"
   },
   "source": [
    "Now, as we are sure that the data we are processing is real, we can get back to the original columns and create our recommendation system.\n",
    "\n",
    "Also use much more simple solution for recommendations. Even, as before we used Deep Learning to check if posting is fake, we can use classical machine learning algorithms to show similar job postings.\n",
    "\n",
    "First, let's filter fake job postings."
   ]
  },
  {
   "cell_type": "code",
   "execution_count": null,
   "metadata": {
    "colab": {
     "base_uri": "https://localhost:8080/",
     "height": 556
    },
    "id": "RsCZLWU0aMqN",
    "outputId": "503c1b4e-26db-46fd-d69f-f8ee17c1519c"
   },
   "outputs": [],
   "source": [
    "real = df[df['fraudulent'] == 0]\n",
    "real.head()"
   ]
  },
  {
   "cell_type": "markdown",
   "metadata": {},
   "source": [
    "After that, we create a common column containing those text parameters that we want to be compared between theses and are relevant to us when making recommendations."
   ]
  },
  {
   "cell_type": "code",
   "execution_count": null,
   "metadata": {
    "colab": {
     "base_uri": "https://localhost:8080/",
     "height": 206
    },
    "id": "NLc-uoYeaMsy",
    "outputId": "452602b0-88e2-4c9c-a6f0-5b069cc34009"
   },
   "outputs": [],
   "source": [
    "cols = ['title', 'description', 'requirements', 'required_experience',  'required_education', 'industry']\n",
    "real = real[cols]\n",
    "real.head()"
   ]
  },
  {
   "cell_type": "code",
   "execution_count": null,
   "metadata": {
    "colab": {
     "base_uri": "https://localhost:8080/",
     "height": 293
    },
    "id": "mX-xc2OetVzx",
    "outputId": "e0f24240-d8dd-4f79-fda6-db15d2f4c54f"
   },
   "outputs": [],
   "source": [
    "real = real.fillna(value='')\n",
    "real['text'] = real['description'] + real['requirements'] + real['required_experience'] + real['required_education'] + real['industry']\n",
    "real.head()"
   ]
  },
  {
   "cell_type": "markdown",
   "metadata": {},
   "source": [
    "Let's see the mechanism that we will use to prepare recommendations - we will use sentence similarity based on prepared `text` column in our dataset. "
   ]
  },
  {
   "cell_type": "code",
   "execution_count": null,
   "metadata": {},
   "outputs": [],
   "source": [
    "from sentence_transformers import SentenceTransformer\n",
    "\n",
    "model = SentenceTransformer('sentence-transformers/all-MiniLM-L6-v2')"
   ]
  },
  {
   "cell_type": "markdown",
   "metadata": {},
   "source": [
    "Let's prepare a few example sentences that cover 4 topics. On these sentences it will be easier to show how the similarities between the texts work than on the whole large dataset we have."
   ]
  },
  {
   "cell_type": "code",
   "execution_count": null,
   "metadata": {},
   "outputs": [],
   "source": [
    "messages = [\n",
    "    # Smartphones\n",
    "    \"I like my phone\",\n",
    "    \"My phone is not good.\",\n",
    "    \"Your cellphone looks great.\",\n",
    "\n",
    "    # Weather\n",
    "    \"Will it snow tomorrow?\",\n",
    "    \"Recently a lot of hurricanes have hit the US\",\n",
    "    \"Global warming is real\",\n",
    "\n",
    "    # Food and health\n",
    "    \"An apple a day, keeps the doctors away\",\n",
    "    \"Eating strawberries is healthy\",\n",
    "    \"Is paleo better than keto?\",\n",
    "\n",
    "    # Asking about age\n",
    "    \"How old are you?\",\n",
    "    \"what is your age?\",\n",
    "]"
   ]
  },
  {
   "cell_type": "markdown",
   "metadata": {},
   "source": [
    "Now, we are preparing functions to show similarities between given sentences in the for of heat map. "
   ]
  },
  {
   "cell_type": "code",
   "execution_count": null,
   "metadata": {},
   "outputs": [],
   "source": [
    "import numpy as np\n",
    "import seaborn as sns\n",
    "\n",
    "def plot_similarity(labels, features, rotation):\n",
    "  corr = np.inner(features, features)\n",
    "  sns.set(font_scale=1.2)\n",
    "  g = sns.heatmap(\n",
    "      corr,\n",
    "      xticklabels=labels,\n",
    "      yticklabels=labels,\n",
    "      vmin=0,\n",
    "      vmax=1,\n",
    "      cmap=\"YlOrRd\")\n",
    "  g.set_xticklabels(labels, rotation=rotation)\n",
    "  g.set_title(\"Semantic Textual Similarity\")\n",
    "\n",
    "def run_and_plot(messages_):\n",
    "  message_embeddings_ = model.encode(messages_)\n",
    "  plot_similarity(messages_, message_embeddings_, 90)"
   ]
  },
  {
   "cell_type": "code",
   "execution_count": null,
   "metadata": {},
   "outputs": [],
   "source": [
    "run_and_plot(messages)"
   ]
  },
  {
   "cell_type": "markdown",
   "metadata": {},
   "source": [
    "Now, let's move back to our job postings dataset. First, we are using sentence encoding model to be able to calculate similarities."
   ]
  },
  {
   "cell_type": "code",
   "execution_count": null,
   "metadata": {},
   "outputs": [],
   "source": [
    "encodings = []\n",
    "for text in real['text']:\n",
    "    encodings.append(model.encode(text))\n",
    "\n",
    "real['encodings'] = encodings"
   ]
  },
  {
   "cell_type": "markdown",
   "metadata": {},
   "source": [
    "Then, we can chose job posting we wan to calculate similarities to. In our case it is first job posting in the dataset, but you can easily change it to any other job posting, by changing value in the `index` variable."
   ]
  },
  {
   "cell_type": "code",
   "execution_count": null,
   "metadata": {},
   "outputs": [],
   "source": [
    "index = 0\n",
    "corr = np.inner(encodings[index], encodings)\n",
    "real['corr_to_first'] = corr"
   ]
  },
  {
   "cell_type": "markdown",
   "metadata": {},
   "source": [
    "And based on the calculated similarities, we can show top most similar job postings, by sorting them according to calculated correlation value."
   ]
  },
  {
   "cell_type": "code",
   "execution_count": null,
   "metadata": {},
   "outputs": [],
   "source": [
    "real.sort_values(by=['corr_to_first'], ascending=False).head()"
   ]
  },
  {
   "cell_type": "markdown",
   "metadata": {},
   "source": [
    "In this code sample we created job recommendation system. First, we explored and analyzed the dataset, then we pre-process the data and create fake job postings detection model. At the end we used sentence similarities to show top 5 recommendations - the most similar job descriptions to the chosen one. "
   ]
  },
  {
   "cell_type": "code",
   "execution_count": null,
   "metadata": {},
   "outputs": [],
   "source": [
    "print(\"[CODE_SAMPLE_COMPLETED_SUCCESSFULLY]\")"
   ]
  }
 ],
 "metadata": {
  "colab": {
   "provenance": []
  },
  "kernelspec": {
   "display_name": "Tensorflow",
   "language": "python",
   "name": "tensorflow"
  },
  "language_info": {
   "codemirror_mode": {
    "name": "ipython",
    "version": 3
   },
   "file_extension": ".py",
   "mimetype": "text/x-python",
   "name": "python",
   "nbconvert_exporter": "python",
   "pygments_lexer": "ipython3",
   "version": "3.9.18"
  }
 },
 "nbformat": 4,
 "nbformat_minor": 4
}
