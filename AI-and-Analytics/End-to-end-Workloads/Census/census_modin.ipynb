{
 "cells": [
  {
   "cell_type": "code",
   "execution_count": null,
   "metadata": {},
   "outputs": [],
   "source": [
    "# =============================================================\n",
    "# Copyright © 2020 Intel Corporation\n",
    "# \n",
    "# SPDX-License-Identifier: MIT\n",
    "# ============================================================="
   ]
  },
  {
   "cell_type": "markdown",
   "metadata": {},
   "source": [
    "# End-to-end Census workload with Intel® Distribution of Modin and Intel® Extension for Scikit-learn"
   ]
  },
  {
   "attachments": {},
   "cell_type": "markdown",
   "metadata": {
    "pycharm": {
     "name": "#%% md\n"
    }
   },
   "source": [
    "In this example we will be running an end-to-end machine learning workload with US census data from 1970 to 2010.\n",
    "It uses Intel® Distribution of Modin with HDK (Heterogeneous Data Kernels) as backend compute engine for ETL, and uses Ridge Regression algorithm from Intel scikit-learn-extension library to train and predict the co-relation between US total income and education levels."
   ]
  },
  {
   "cell_type": "markdown",
   "metadata": {
    "pycharm": {
     "name": "#%% md\n"
    }
   },
   "source": [
    "Let's start by downloading census data to your local disk."
   ]
  },
  {
   "cell_type": "code",
   "execution_count": null,
   "metadata": {},
   "outputs": [],
   "source": [
    "!wget https://storage.googleapis.com/intel-optimized-tensorflow/datasets/ipums_education2income_1970-2010.csv.gz"
   ]
  },
  {
   "cell_type": "markdown",
   "metadata": {},
   "source": [
    "Import basic python modules and disable warnings to avoid output cluttering"
   ]
  },
  {
   "cell_type": "code",
   "execution_count": null,
   "metadata": {},
   "outputs": [],
   "source": [
    "import os\n",
    "import numpy as np\n",
    "import warnings\n",
    "\n",
    "warnings.filterwarnings(\"ignore\")"
   ]
  },
  {
   "attachments": {},
   "cell_type": "markdown",
   "metadata": {
    "pycharm": {
     "name": "#%% md\n"
    }
   },
   "source": [
    "Import Modin and set HDK as the compute engine. This engine provides a set of components for federating analytic queries to an execution backend based on OmniSciDB to obtain high single-node scalability for specific set of dataframe operations. "
   ]
  },
  {
   "cell_type": "code",
   "execution_count": null,
   "metadata": {
    "pycharm": {
     "name": "#%%\n"
    }
   },
   "outputs": [],
   "source": [
    "#import pandas as pd\n",
    "import modin.pandas as pd\n",
    "\n",
    "import modin.config as cfg\n",
    "cfg.StorageFormat.put('hdk')\n"
   ]
  },
  {
   "cell_type": "markdown",
   "metadata": {
    "pycharm": {
     "name": "#%% md\n"
    }
   },
   "source": [
    "Import Intel(R) Extension for Scikit-learn which dynamically patches scikit-learn estimators to use Intel(R) oneAPI Data Analytics Library as the underlying solver, while getting the same solution faster."
   ]
  },
  {
   "cell_type": "code",
   "execution_count": null,
   "metadata": {
    "pycharm": {
     "name": "#%%\n"
    }
   },
   "outputs": [],
   "source": [
    "from sklearnex import patch_sklearn\n",
    "patch_sklearn()\n",
    "\n",
    "from sklearn import config_context\n",
    "from sklearn.metrics import mean_squared_error, r2_score\n",
    "from sklearn.model_selection import train_test_split\n",
    "import sklearn.linear_model as lm"
   ]
  },
  {
   "cell_type": "markdown",
   "metadata": {
    "pycharm": {
     "name": "#%% md\n"
    }
   },
   "source": [
    "Read and load the data into a dataframe from the downloaded archive file"
   ]
  },
  {
   "cell_type": "code",
   "execution_count": null,
   "metadata": {
    "pycharm": {
     "name": "#%%\n"
    }
   },
   "outputs": [],
   "source": [
    "df = pd.read_csv('ipums_education2income_1970-2010.csv.gz')"
   ]
  },
  {
   "cell_type": "markdown",
   "metadata": {
    "pycharm": {
     "name": "#%% md\n"
    }
   },
   "source": [
    "Run ETL operations to prepare and transform the ingested dataset into a form that can be readily consumed by the ridge regression algorithm. Keep columns that are relevant, clean up the samples with invalid income, education and normalize the income to account for yearly inflation"
   ]
  },
  {
   "cell_type": "code",
   "execution_count": null,
   "metadata": {
    "pycharm": {
     "name": "#%%\n"
    }
   },
   "outputs": [],
   "source": [
    "# clean up features\n",
    "keep_cols = [\n",
    "    \"YEAR\", \"DATANUM\", \"SERIAL\", \"CBSERIAL\", \"HHWT\",\n",
    "    \"CPI99\", \"GQ\", \"PERNUM\", \"SEX\", \"AGE\",\n",
    "    \"INCTOT\", \"EDUC\", \"EDUCD\", \"EDUC_HEAD\", \"EDUC_POP\",\n",
    "    \"EDUC_MOM\", \"EDUCD_MOM2\", \"EDUCD_POP2\", \"INCTOT_MOM\", \"INCTOT_POP\",\n",
    "    \"INCTOT_MOM2\", \"INCTOT_POP2\", \"INCTOT_HEAD\", \"SEX_HEAD\",\n",
    "]\n",
    "df = df[keep_cols]\n",
    "\n",
    "# clean up samples with invalid income, education, etc.\n",
    "df = df[df[\"INCTOT\"] != 9999999]\n",
    "df = df[df[\"EDUC\"] != -1]\n",
    "df = df[df[\"EDUCD\"] != -1]\n",
    "\n",
    "# normalize income for inflation\n",
    "df[\"INCTOT\"] = df[\"INCTOT\"] * df[\"CPI99\"]\n",
    "\n",
    "for column in keep_cols:\n",
    "    df[column] = df[column].fillna(-1)\n",
    "    df[column] = df[column].astype(\"float64\")\n",
    "\n",
    "y = df[\"EDUC\"]\n",
    "X = df.drop(columns=[\"EDUC\", \"CPI99\"])"
   ]
  },
  {
   "cell_type": "markdown",
   "metadata": {},
   "source": [
    "Train the model and run prediction. Loop 50 times to remove any bias in splitting the dataset into train & test set, in order to reduce chance of over-fitting from selecting a train set that fits the model too well to the test set"
   ]
  },
  {
   "cell_type": "code",
   "execution_count": null,
   "metadata": {
    "pycharm": {
     "name": "#%%\n"
    }
   },
   "outputs": [],
   "source": [
    "# ML - training and inference\n",
    "clf = lm.Ridge()\n",
    "\n",
    "mse_values, cod_values = [], []\n",
    "N_RUNS = 50\n",
    "TRAIN_SIZE = 0.9\n",
    "random_state = 777\n",
    "\n",
    "X = np.ascontiguousarray(X, dtype=np.float64)\n",
    "y = np.ascontiguousarray(y, dtype=np.float64)\n",
    "\n",
    "# cross validation\n",
    "for i in range(N_RUNS):\n",
    "    X_train, X_test, y_train, y_test = train_test_split(X, y, train_size=TRAIN_SIZE,\n",
    "                                                        random_state=random_state)\n",
    "    random_state += 777\n",
    "\n",
    "    # training\n",
    "    with config_context(assume_finite=True):\n",
    "        model = clf.fit(X_train, y_train)\n",
    "\n",
    "    # inference\n",
    "    y_pred = model.predict(X_test)\n",
    "\n",
    "    mse_values.append(mean_squared_error(y_test, y_pred))\n",
    "    cod_values.append(r2_score(y_test, y_pred))"
   ]
  },
  {
   "cell_type": "markdown",
   "metadata": {},
   "source": [
    "Check the regression results by calculating the accuracy of the prediction using mean squared error and r square score"
   ]
  },
  {
   "cell_type": "code",
   "execution_count": null,
   "metadata": {
    "pycharm": {
     "name": "#%%\n"
    }
   },
   "outputs": [],
   "source": [
    "mean_mse = sum(mse_values)/len(mse_values)\n",
    "mean_cod = sum(cod_values)/len(cod_values)\n",
    "mse_dev = pow(sum([(mse_value - mean_mse)**2 for mse_value in mse_values])/(len(mse_values) - 1), 0.5)\n",
    "cod_dev = pow(sum([(cod_value - mean_cod)**2 for cod_value in cod_values])/(len(cod_values) - 1), 0.5)\n",
    "print(\"mean MSE ± deviation: {:.9f} ± {:.9f}\".format(mean_mse, mse_dev))\n",
    "print(\"mean COD ± deviation: {:.9f} ± {:.9f}\".format(mean_cod, cod_dev))"
   ]
  },
  {
   "cell_type": "markdown",
   "metadata": {},
   "source": [
    "Verify the accuracy:\n",
    "mean MSE ± deviation: 0.032564569 ± 0.000041799\n",
    "mean COD ± deviation: 0.995367533 ± 0.000005869"
   ]
  },
  {
   "cell_type": "code",
   "execution_count": null,
   "metadata": {},
   "outputs": [],
   "source": [
    "# release resources\n",
    "%reset -f"
   ]
  }
 ],
 "metadata": {
  "kernelspec": {
   "display_name": "modin-hdk",
   "language": "python",
   "name": "modin-hdk"
  },
  "language_info": {
   "codemirror_mode": {
    "name": "ipython",
    "version": 3
   },
   "file_extension": ".py",
   "mimetype": "text/x-python",
   "name": "python",
   "nbconvert_exporter": "python",
   "pygments_lexer": "ipython3",
   "version": "3.9.16"
  }
 },
 "nbformat": 4,
 "nbformat_minor": 2
}
