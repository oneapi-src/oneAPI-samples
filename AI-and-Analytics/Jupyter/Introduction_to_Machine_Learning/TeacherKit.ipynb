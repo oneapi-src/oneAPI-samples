{
 "cells": [
  {
   "cell_type": "markdown",
   "id": "16c34bb8-6bc5-44fd-b023-af4e670f66a4",
   "metadata": {
    "tags": []
   },
   "source": [
    "# Introduction to Machine Learning"
   ]
  },
  {
   "cell_type": "markdown",
   "id": "77d49049",
   "metadata": {},
   "source": [
    "\n",
    "This course covers commonly used AI algorithms implemented in Scikit-learn*. It provides the conceptual framework for how and why these algorithms can be used to solve machine learning problems. It also applies acceleration via the Intel Extensions for Scikit-learn. The acceleration is accomplished with two lines of code and provides one to three orders of magnitude speed-ups over the stock Scikit-learn implementations on Intel CPU's.\n",
    "-\tMotivation\n",
    "-\tLearning Objectives\n",
    "-\tTarget Audience\n",
    "-\tPrerequisites\n",
    "-\tCourse Syllabus\n",
    "-\tResources\n"
   ]
  },
  {
   "cell_type": "markdown",
   "id": "c75e3942-ab3c-4a78-9b55-ad0150da0adc",
   "metadata": {},
   "source": [
    "## Motivation\n",
    "\n",
    "Intel Extensions for Scikit-learn:\n",
    "- Enhances the performance of Scikit-learn, which is a widely used AI library with many applications in machine learning.\n",
    "- Provides acceleration on Intel CPU (and Intel GPU) for as much as three orders of magnitude on several dozen commonly used Scikit-learn algorithms.\n",
    "- Leverages a process called patching, which you can apply to commonly used AI algorithms with very minimal code changes (usually two lines of code).\n"
   ]
  },
  {
   "cell_type": "markdown",
   "id": "b1644f30-3574-4b80-b89f-22899186e2ec",
   "metadata": {},
   "source": [
    "## Learning Objectives\n",
    "\n",
    "After completing this course, you will be able to:\n",
    "-\tDescribe the conceptual framework and application of commonly used Scikit-learn algorithms across a variety of problem domains.\n",
    "-\tAccelerate algorithms for clustering, classification, regression, dimensionality reduction and more.\n",
    "-\tApply Intel Extensions for Scikit-learn patching to accelerate commonly used Scikit-learn algorithms.\n",
    "-\tApply Scikit-learn algorithms to solve specified problems described in each notebook.\n",
    "-\tDescribe where to download and install AI Analytics Toolkit.\n",
    "\n",
    "\n"
   ]
  },
  {
   "cell_type": "markdown",
   "id": "51b34834-8bc7-4ea8-a328-2948f3d3dd76",
   "metadata": {},
   "source": [
    "## Target Audience\n",
    "\n",
    "\n",
    "Senior undergrad and graduate students\n",
    "- Computer Science\n",
    "- Engineering\n",
    "- Science and Mathematics\n",
    "- AI / Data Science\n"
   ]
  },
  {
   "cell_type": "markdown",
   "id": "a81d0b88-380f-4561-bac1-696c2d418de1",
   "metadata": {
    "jp-MarkdownHeadingCollapsed": true,
    "tags": []
   },
   "source": [
    "## Prerequisites\n",
    "- Python* Programming\n",
    "- Calculus\n",
    "- Linear algebra\n",
    "- Statistics"
   ]
  },
  {
   "cell_type": "markdown",
   "id": "5b766aff-d5a4-4d1d-abef-b5660b6b5502",
   "metadata": {
    "jp-MarkdownHeadingCollapsed": true,
    "tags": []
   },
   "source": [
    "## Syllabus\n",
    "\n",
    "- 11 Modules (21 hours)\n",
    "- 11 Lab Exercises\n",
    "\n",
    "|Modules|Description|Recommended Video|Duration|\n",
    "|-------- |-------- |---|----|\n",
    "|[Introduction to Machine Learning and Tools](01_Introduction_to_Machine_Learning_and_Tools/Introduction_to_Machine_Learning_and_Toolkit.ipynb)|+ Classify the type of problem to be solved.<br>+ Demonstrate supervised learning algorithms.<br>+ Choose an algorithm, tune parameters, and validate a model.<br>+ Explain key concepts like under- and over-fitting, regularization, and cross-validation.<br>+ Apply Intel Extension for Scikit-learn patching to leverage underlying compute capabilities of hardware.|Introduction to Intel(r) Extension for Scikit-learn|60 min|\n",
    "|[Supervised Learning and K Nearest Neighbors](02-Supervised_Learning_and_K_Nearest_Neighbors/Supervised_Learning_and_K_Nearest_Neighbors_Exercises.ipynb)|+ Explain supervised learning as applied to regression and classification problems.<br>+ Apply K-Nearest Neighbor (KNN) algorithm for classification.<br>+ Apply patching to leverage underlying compute capabilities of hardware.|KNearest Neighbor|120 min|\n",
    "|[Train Test Splits Validation Linear Regression](03-Train_Test_Splits_Validation_Linear_Regression/Train_Test_Splits_Validation_Linear_Regression.ipynb)|+ Explain the difference between over-fitting and under-fitting.<br>+ Describe Bias-variance tradeoffs.<br>+ Find the optimal training and test data set splits.<br>+ Apply cross-validation.<br>+ Apply a linear regression model for supervised learning.<br>+ Apply Intel® Extension for Scikit-learn to leverage underlying compute capabilities of hardware.|Introduction to Intel(r) Extension for Scikit-learn|120 min|\n",
    "|[Regularization and Gradient Descent](04-Regularization_and_Gradient_Descent/Regularization_and_Gradient_Descent_Exercises.ipynb)|+ Explain cost functions, regularization, feature selection, and hyper-parameters.<br>+ Summarize complex statistical optimization algorithms like gradient descent and its application to linear regression.<br>+ Apply patching to leverage underlying compute capabilities of hardware.|N/A|120 min|\n",
    "|[Logistic Regression and Classification Error Metrics](05-Logistic_Regression_and_Classification_Error_Metrics/Logistic_Regression_and_Classification_Error_Metrics_Exercises.ipynb)|+ Describe Logistic regression and how it differs from linear regression.<br>+ Identify metrics for classification errors and scenarios in which they can be used.<br>+ Apply patching to leverage underlying compute capabilities of hardware.|Logistic Regression Walkthrough|120 min|\n",
    "|[SVM and Kernels](06-SVM_and_Kernels/SVM_Kernels_Exercises.ipynb)|+ Apply support vector machines (SVMs) for classification problems.<br>+ Recognize SVM similarity to logistic regression.<br>+ Compute the cost function of SVMs.<br>+ Apply regularization in SVMs and some tips to obtain non-linear classifications with SVMs.<br>+ Apply patching to leverage underlying compute capabilities of hardware.|N/A|120 min|\n",
    "|[Decision Trees](07-Decision_Trees/Decision_Trees_Exercises.ipynb)|+ Recognize Decision trees and apply them for classification problems.<br>+ Recognize how to identify the best split and the factors for splitting.<br>+ Explain strengths and weaknesses of decision trees.<br>+ Explain how regression trees help with classifying continuous values.<br>+ Describe motivation for choosing Random Forest Classifier over Decision Trees.<br>+ Apply patching to Random Forest Classifier.|N/A|120 min|\n",
    "|[Bagging](08-Bagging/Bagging_Exercises.ipynb)|+ Describe bootstrapping and aggregating (aka “bagging”) to reduce variance.<br>+ Reduce the correlation seen in bagging using Random Forest algorithm.<br>+ Apply patching to leverage underlying compute capabilities of hardware.|N/A|120 min|\n",
    "|[Boosting and Stacking](09-Boosting_and_Stacking/Boosting_and_Stacking_Exercises.ipynb)|+ Explain how the boosting algorithm helps reduce variance and bias.<br>+ Apply patching to leverage underlying compute capabilities of hardware.|N/A|120 min|\n",
    "|[Introduction to Unsupervised Learning and Clustering Methods](10-Introduction_to_Unsupervised_Learning_and_Clustering_Methods/Clustering_Methods_Exercises.ipynb)|+ Describe unsupervised learning algorithms their application.<br>+ Apply clustering.<br>+ Apply dimensionality reduction.<br>+ Apply patching to leverage underlying compute capabilities of hardware.|KMeans Walkthrough.<br>Introduction to Intel(r) Extension for Scikit-learn|120 min|\n",
    "|[Dimensionality Reduction and Advanced Topics](11-Dimensionality_Reduction_and_Advanced_Topics/Dimensionality_Reduction_Exercises.ipynb)|+ Explain and Apply Principal Component Analysis (PCA).<br>+ Explain Multidimensional Scaling (MDS).<br>+ Apply patching to leverage underlying compute capabilities of hardware.|PCA Walkthrough|120 min|\n"
   ]
  },
  {
   "cell_type": "markdown",
   "id": "5e0872a2-80ba-49c5-bf7e-b03787b0740f",
   "metadata": {
    "tags": []
   },
   "source": [
    "# Resources\n",
    "- [Github: Introduction to Machine Learning](https://github.com/oneapi-src/oneAPI-samples/tree/master/AI-and-Analytics/Jupyter/)\n",
    "- [Scikit-Learn API Reference](https://scikit-learn.org/stable/modules/classes.html)\n",
    "- [Intel® Extension for Scikit-Learn Getting Started Guide ](https://www.intel.com/content/www/us/en/developer/articles/guide/intel-extension-for-scikit-learn-getting-started.html)\n",
    "- [Intel oneAPI ToolKits Installation Guide](https://www.intel.com/content/www/us/en/developer/articles/guide/installation-guide-for-oneapi-toolkits.html)\n",
    "- [Intel DevCloud Quick Guide for **Intel® oneAPI AI Analytics Toolkit**](https://devcloud.intel.com/oneapi/get_started/)\n",
    "- [Hands-On Machine Learning with Scikit-Learn, Keras, and TensorFlow: Concepts, Tools, and Techniques to Build Intelligent Systems 2nd Edition by Geron](https://www.amazon.com/Hands-Machine-Learning-Scikit-Learn-TensorFlow/dp/1492032646/ref=asc_df_1492032646/?tag=hyprod-20&linkCode=df0&hvadid=385599638286&hvpos=&hvnetw=g&hvrand=3469100630516780578&hvpone=&hvptwo=&hvqmt=&hvdev=c&hvdvcmdl=&hvlocint=&hvlocphy=9030464&hvtargid=pla-523968811896&psc=1&tag=&ref=&adgrpid=79288120515&hvpone=&hvptwo=&hvadid=385599638286&hvpos=&hvnetw=g&hvrand=3469100630516780578&hvqmt=&hvdev=c&hvdvcmdl=&hvlocint=&hvlocphy=9030464&hvtargid=pla-523968811896)\n"
   ]
  },
  {
   "cell_type": "code",
   "execution_count": null,
   "id": "a1ea64f1",
   "metadata": {},
   "outputs": [],
   "source": []
  }
 ],
 "metadata": {
  "kernelspec": {
   "display_name": "Python 3 (Intel® oneAPI 2022.3)",
   "language": "python",
   "name": "c009-intel_distribution_of_python_3_oneapi-beta05-python"
  },
  "language_info": {
   "codemirror_mode": {
    "name": "ipython",
    "version": 3
   },
   "file_extension": ".py",
   "mimetype": "text/x-python",
   "name": "python",
   "nbconvert_exporter": "python",
   "pygments_lexer": "ipython3",
   "version": "3.9.12"
  }
 },
 "nbformat": 4,
 "nbformat_minor": 5
}
