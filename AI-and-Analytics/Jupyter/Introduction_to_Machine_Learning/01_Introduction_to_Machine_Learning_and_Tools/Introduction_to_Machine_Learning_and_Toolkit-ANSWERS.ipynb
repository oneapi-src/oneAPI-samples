{
 "cells": [
  {
   "cell_type": "markdown",
   "metadata": {
    "run_control": {
     "marked": true
    }
   },
   "source": [
    "# Introduction to Machine Learning and Toolkit Exercises "
   ]
  },
  {
   "cell_type": "markdown",
   "metadata": {},
   "source": [
    "# What is Machine Learning?\n",
    "\n",
    "| This | is   |\n",
    "|------|------|\n",
    "|   Machine learning allows computers to learn and infer from data.  | ![robot.png](Assets/robot.png)|\n",
    "\n",
    "\n",
    "\n"
   ]
  },
  {
   "cell_type": "markdown",
   "metadata": {},
   "source": [
    "# Learning Objectives\n",
    "\n",
    "- Demonstrate supervised learning algorithms\n",
    "- Explain key concepts like under- and over-fitting, regularization, and cross-validation\n",
    "- Classify the type of problem to be solved, choose the right algorithm, tune parameters, and validate a model\n",
    "- Apply Intel® Extension for Scikit-learn* to leverage underlying compute capabilities of hardware\n"
   ]
  },
  {
   "cell_type": "markdown",
   "metadata": {},
   "source": [
    "# Overview of Course:\n",
    "\n",
    "### Topics include:\n",
    "\n",
    "- Introduction and exploratory analysis (Week 1)\n",
    "- Supervised machine learning (Weeks 2 – 10)\n",
    "- Unsupervised machine learning (Weeks 11 – 12)\n",
    "\n",
    "### Prerequisites:\n",
    "\n",
    "- Python* programming\n",
    "- Calculus\n",
    "- Linear algebra\n",
    "- Statistics\n",
    "\n",
    "### Lab Preparation:\n",
    "- pip install -r ../requirements.txt\n",
    "\n",
    "### Our Toolset: Intel® oneAPI AI Analytics Toolkit (AI Kit)\n",
    "- Intel® Extension for Scikit-learn*\n",
    "\n",
    "### Intel® oneAPI Toolkits Installation \n",
    "The [following documents](https://software.intel.com/content/www/us/en/develop/articles/installation-guide-for-intel-oneapi-toolkits.html) provide detailed instructions on how to get and install Intel® oneAPI packages using different installer modes and package managers:\n",
    "\n",
    "- [Intel® oneAPI Toolkits Installation Guide for Linux* OS](https://software.intel.com/content/www/us/en/develop/documentation/installation-guide-for-intel-oneapi-toolkits-linux/top.html)\n",
    "- [Intel® oneAPI Toolkits Installation Guide for Windows*](https://software.intel.com/content/www/us/en/develop/documentation/installation-guide-for-intel-oneapi-toolkits-windows/top.html)\n",
    "- [Intel® oneAPI Toolkits Installation Guide for macOS*](https://software.intel.com/content/www/us/en/develop/documentation/installation-guide-for-intel-oneapi-toolkits-macos/top.html)\n"
   ]
  },
  {
   "cell_type": "markdown",
   "metadata": {
    "run_control": {
     "marked": true
    }
   },
   "source": [
    "## Introduction\n",
    "\n",
    "We will be using the iris data set for this tutorial. This is a well-known data set containing iris species and sepal and petal measurements. The data we will use are in a file called `Iris_Data.csv` found in the [data](../../data) directory."
   ]
  },
  {
   "cell_type": "code",
   "execution_count": null,
   "metadata": {
    "ExecuteTime": {
     "end_time": "2021-09-24T19:27:00.149259Z",
     "start_time": "2021-09-24T19:27:00.137236Z"
    }
   },
   "outputs": [],
   "source": [
    "from __future__ import print_function\n",
    "import os\n",
    "data_path = [ 'data']"
   ]
  },
  {
   "cell_type": "markdown",
   "metadata": {},
   "source": [
    "\n",
    "\n",
    "\n",
    "# scikit-learn* \n",
    "\n",
    "Frameworks provide structure that Data Scientists use to build code. Frameworks are more than just libraries, because in addition to callable code, frameworks influence how code is written. \n",
    "\n",
    "A main virtue of using an optimized framework is that code runs faster. Code that runs faster is just generally more convenient but when we begin looking at applied data science and AI models, we can see more material benefits. Here you will see how optimization, particularly hyperparameter optimization can benefit more than just speed. \n",
    "\n",
    "These exercises will demonstrate how to apply **the Intel® Extension for Scikit-learn*,** a seamless way to speed up your Scikit-learn application. The acceleration is achieved through the use of the Intel® oneAPI Data Analytics Library (oneDAL). Patching is the term used to extend scikit-learn with Intel optimizations and makes it a well-suited machine learning framework for dealing with real-life problems. \n",
    "\n",
    "To get optimized versions of many Scikit-learn algorithms using a patch() approach consisting of adding these lines of code Prior to importing sklearn: \n",
    "\n",
    "- **from sklearnex import patch_sklearn**\n",
    "- **patch_sklearn()**\n"
   ]
  },
  {
   "cell_type": "markdown",
   "metadata": {
    "run_control": {
     "marked": true
    }
   },
   "source": [
    "## Question 1\n",
    "\n",
    "Load the data from the file (data/Iris_Data.csv) using the techniques learned today. Examine it.\n",
    "\n",
    "Determine the following:\n",
    "\n",
    "* The number of data points (rows). (*Hint:* check out the dataframe `.shape` attribute.)\n",
    "* The column names. (*Hint:* check out the dataframe `.columns` attribute.)\n",
    "* The data types for each column. (*Hint:* check out the dataframe `.dtypes` attribute.)"
   ]
  },
  {
   "cell_type": "code",
   "execution_count": null,
   "metadata": {
    "ExecuteTime": {
     "end_time": "2021-09-24T19:27:00.528079Z",
     "start_time": "2021-09-24T19:27:00.151260Z"
    },
    "run_control": {
     "marked": true
    }
   },
   "outputs": [],
   "source": [
    "import numpy as np\n",
    "import pandas as pd\n",
    "\n",
    "filepath = os.sep.join(data_path + ['Iris_Data.csv'])\n",
    "data = pd.read_csv(filepath)\n",
    "data.head()"
   ]
  },
  {
   "cell_type": "code",
   "execution_count": null,
   "metadata": {
    "ExecuteTime": {
     "end_time": "2021-09-24T19:27:00.543686Z",
     "start_time": "2021-09-24T19:27:00.530084Z"
    },
    "run_control": {
     "marked": true
    }
   },
   "outputs": [],
   "source": [
    "# Number of rows\n",
    "print(data.shape[0])\n",
    "\n",
    "# Column names\n",
    "print(data.columns.tolist())\n",
    "\n",
    "# Data types\n",
    "print(data.dtypes)"
   ]
  },
  {
   "cell_type": "markdown",
   "metadata": {
    "run_control": {
     "marked": true
    }
   },
   "source": [
    "## Question 2\n",
    "\n",
    "Examine the species names and note that they all begin with 'Iris-'. Remove this portion of the name so the species name is shorter. \n",
    "\n",
    "*Hint:* there are multiple ways to do this, but you could use either the [string processing methods](http://pandas.pydata.org/pandas-docs/stable/text.html) or the [apply method](http://pandas.pydata.org/pandas-docs/stable/generated/pandas.Series.apply.html)."
   ]
  },
  {
   "cell_type": "code",
   "execution_count": null,
   "metadata": {
    "ExecuteTime": {
     "end_time": "2021-09-24T19:27:00.559688Z",
     "start_time": "2021-09-24T19:27:00.545690Z"
    },
    "run_control": {
     "marked": true
    }
   },
   "outputs": [],
   "source": [
    "# The str method maps the following function to each entry as a string\n",
    "data['species'] = data.species.str.replace('Iris-', '')\n",
    "# alternatively\n",
    "# data['species'] = data.species.apply(lambda r: r.replace('Iris-', ''))\n",
    "\n",
    "data.head()"
   ]
  },
  {
   "cell_type": "markdown",
   "metadata": {
    "run_control": {
     "marked": true
    }
   },
   "source": [
    "## Question 3\n",
    "\n",
    "Determine the following:  \n",
    "* The number of each species present. (*Hint:* check out the series `.value_counts` method.)\n",
    "* The mean, median, and quantiles and ranges (max-min) for each petal and sepal measurement.\n",
    "\n",
    "*Hint:* for the last question, the `.describe` method does have median, but it's not called median. It's the *50%* quantile. `.describe` does not have range though, and in order to get the range, you will need to create a new entry in the `.describe` table, which is `max - min`."
   ]
  },
  {
   "cell_type": "code",
   "execution_count": null,
   "metadata": {
    "ExecuteTime": {
     "end_time": "2021-09-24T19:27:00.575686Z",
     "start_time": "2021-09-24T19:27:00.560689Z"
    },
    "run_control": {
     "marked": true
    }
   },
   "outputs": [],
   "source": [
    "# One way to count each species\n",
    "data.species.value_counts()"
   ]
  },
  {
   "cell_type": "code",
   "execution_count": null,
   "metadata": {
    "ExecuteTime": {
     "end_time": "2021-09-24T19:27:00.622720Z",
     "start_time": "2021-09-24T19:27:00.576686Z"
    },
    "run_control": {
     "marked": true
    }
   },
   "outputs": [],
   "source": [
    "# Select just the rows desired from the 'describe' method and add in the 'median'\n",
    "stats_df = data.describe()\n",
    "stats_df = data.describe()\n",
    "stats_df.loc['range'] = stats_df.loc['max'] - stats_df.loc['min']\n",
    "\n",
    "out_fields = ['mean','25%','50%','75%', 'range']\n",
    "stats_df = stats_df.loc[out_fields]\n",
    "stats_df.rename({'50%': 'median'}, inplace=True)\n",
    "stats_df"
   ]
  },
  {
   "cell_type": "markdown",
   "metadata": {
    "run_control": {
     "marked": true
    }
   },
   "source": [
    "## Question 4\n",
    "\n",
    "Calculate the following **for each species** in a separate dataframe:\n",
    "\n",
    "* The mean of each measurement (sepal_length, sepal_width, petal_length, and petal_width).\n",
    "* The median of each of these measurements.\n",
    "\n",
    "*Hint:* you may want to use Pandas [`groupby` method](http://pandas.pydata.org/pandas-docs/stable/generated/pandas.DataFrame.groupby.html) to group by species before calculating the statistic.\n",
    "\n",
    "If you finish both of these, try calculating both statistics (mean and median) in a single table (i.e. with a single groupby call). See the section of the Pandas documentation on [applying multiple functions at once](http://pandas.pydata.org/pandas-docs/stable/groupby.html#applying-multiple-functions-at-once) for a hint."
   ]
  },
  {
   "cell_type": "code",
   "execution_count": null,
   "metadata": {
    "ExecuteTime": {
     "end_time": "2021-09-24T19:27:00.638726Z",
     "start_time": "2021-09-24T19:27:00.623688Z"
    }
   },
   "outputs": [],
   "source": [
    "# The mean calculation\n",
    "data.groupby('species').mean()"
   ]
  },
  {
   "cell_type": "code",
   "execution_count": null,
   "metadata": {
    "ExecuteTime": {
     "end_time": "2021-09-24T19:27:00.654687Z",
     "start_time": "2021-09-24T19:27:00.640686Z"
    }
   },
   "outputs": [],
   "source": [
    "# The median calculation\n",
    "data.groupby('species').median()"
   ]
  },
  {
   "cell_type": "code",
   "execution_count": null,
   "metadata": {
    "ExecuteTime": {
     "end_time": "2021-09-24T19:27:00.686686Z",
     "start_time": "2021-09-24T19:27:00.656688Z"
    }
   },
   "outputs": [],
   "source": [
    "# applying multiple functions at once - 2 methods\n",
    "\n",
    "data.groupby('species').agg(['mean', 'median'])  # passing a list of recognized strings\n",
    "data.groupby('species').agg([np.mean, np.median])  # passing a list of explicit aggregation functions"
   ]
  },
  {
   "cell_type": "code",
   "execution_count": null,
   "metadata": {
    "ExecuteTime": {
     "end_time": "2021-09-24T19:27:00.716881Z",
     "start_time": "2021-09-24T19:27:00.687687Z"
    }
   },
   "outputs": [],
   "source": [
    "# If certain fields need to be aggregated differently, we can do:\n",
    "from pprint import pprint\n",
    "\n",
    "agg_dict = {field: ['mean', 'median'] for field in data.columns if field != 'species'}\n",
    "agg_dict['petal_length'] = 'max'\n",
    "pprint(agg_dict)\n",
    "data.groupby('species').agg(agg_dict)"
   ]
  },
  {
   "cell_type": "markdown",
   "metadata": {},
   "source": [
    "## Question 5\n",
    "\n",
    "Make a scatter plot of `sepal_length` vs `sepal_width` using Matplotlib. Label the axes and give the plot a title."
   ]
  },
  {
   "cell_type": "code",
   "execution_count": null,
   "metadata": {
    "ExecuteTime": {
     "end_time": "2021-09-24T19:27:00.918690Z",
     "start_time": "2021-09-24T19:27:00.718691Z"
    }
   },
   "outputs": [],
   "source": [
    "import matplotlib.pyplot as plt\n",
    "%matplotlib inline"
   ]
  },
  {
   "cell_type": "code",
   "execution_count": null,
   "metadata": {
    "ExecuteTime": {
     "end_time": "2021-09-24T19:27:01.075687Z",
     "start_time": "2021-09-24T19:27:00.919687Z"
    }
   },
   "outputs": [],
   "source": [
    "# A simple scatter plot with Matplotlib\n",
    "ax = plt.axes()\n",
    "\n",
    "ax.scatter(data.sepal_length, data.sepal_width)\n",
    "\n",
    "# Label the axes\n",
    "ax.set(xlabel='Sepal Length (cm)',\n",
    "       ylabel='Sepal Width (cm)',\n",
    "       title='Sepal Length vs Width');"
   ]
  },
  {
   "cell_type": "markdown",
   "metadata": {},
   "source": [
    "## Question 6\n",
    "\n",
    "Make a histogram of any one of the four features. Label axes and title it as appropriate. "
   ]
  },
  {
   "cell_type": "code",
   "execution_count": null,
   "metadata": {
    "ExecuteTime": {
     "end_time": "2021-09-24T19:27:01.231396Z",
     "start_time": "2021-09-24T19:27:01.077689Z"
    }
   },
   "outputs": [],
   "source": [
    "# Using Matplotlib's plotting functionality\n",
    "ax = plt.axes()\n",
    "ax.hist(data.petal_length, bins=25);\n",
    "\n",
    "ax.set(xlabel='Petal Length (cm)', \n",
    "       ylabel='Frequency',\n",
    "       title='Distribution of Petal Lengths');"
   ]
  },
  {
   "cell_type": "code",
   "execution_count": null,
   "metadata": {
    "ExecuteTime": {
     "end_time": "2021-09-24T19:27:01.421401Z",
     "start_time": "2021-09-24T19:27:01.233403Z"
    }
   },
   "outputs": [],
   "source": [
    "# Alternatively using Pandas plotting functionality\n",
    "ax = data.petal_length.plot.hist(bins=25)\n",
    "\n",
    "ax.set(xlabel='Petal Length (cm)', \n",
    "       ylabel='Frequency',\n",
    "       title='Distribution of Petal Lengths');"
   ]
  },
  {
   "cell_type": "markdown",
   "metadata": {},
   "source": [
    "## Question 7\n",
    "\n",
    "Now create a single plot with histograms for each feature (`petal_width`, `petal_length`, `sepal_width`, `sepal_length`) overlayed. If you have time, next try to create four individual histogram plots in a single figure, where each plot contains one feature.\n",
    "\n",
    "For some hints on how to do this with Pandas plotting methods, check out the [visualization guide](http://pandas.pydata.org/pandas-docs/version/0.18.1/visualization.html) for Pandas."
   ]
  },
  {
   "cell_type": "code",
   "execution_count": null,
   "metadata": {
    "ExecuteTime": {
     "end_time": "2021-09-24T19:27:01.731652Z",
     "start_time": "2021-09-24T19:27:01.422403Z"
    }
   },
   "outputs": [],
   "source": [
    "try:\n",
    "    import seaborn as sns\n",
    "\n",
    "except:\n",
    "    print('Seaborn must be installed for this course. Execute the following:')\n",
    "    print('`conda install seaborn`')\n",
    "    print('from a terminal and restart the kernel.')"
   ]
  },
  {
   "cell_type": "code",
   "execution_count": null,
   "metadata": {
    "ExecuteTime": {
     "end_time": "2021-09-24T19:27:02.048470Z",
     "start_time": "2021-09-24T19:27:01.733434Z"
    }
   },
   "outputs": [],
   "source": [
    "sns.set_context('notebook')\n",
    "\n",
    "# This uses the `.plot.hist` method\n",
    "ax = data.plot.hist(bins=25, alpha=0.5)\n",
    "ax.set_xlabel('Size (cm)');"
   ]
  },
  {
   "cell_type": "code",
   "execution_count": null,
   "metadata": {
    "ExecuteTime": {
     "end_time": "2021-09-24T19:27:02.538228Z",
     "start_time": "2021-09-24T19:27:02.049478Z"
    }
   },
   "outputs": [],
   "source": [
    "# To create four separate plots, use Pandas `.hist` method\n",
    "axList = data.hist(bins=25)\n",
    "\n",
    "# Add some x- and y- labels to first column and last row\n",
    "for ax in axList.flatten():\n",
    "    if ax.is_last_row():\n",
    "        ax.set_xlabel('Size (cm)')\n",
    "        \n",
    "    if ax.is_first_col():\n",
    "        ax.set_ylabel('Frequency')"
   ]
  },
  {
   "cell_type": "markdown",
   "metadata": {},
   "source": [
    "## Question 8\n",
    "\n",
    "Using Pandas, make a boxplot of each petal and sepal measurement. Here is the documentation for [Pandas boxplot method](http://pandas.pydata.org/pandas-docs/version/0.18.1/visualization.html#visualization-box)."
   ]
  },
  {
   "cell_type": "code",
   "execution_count": null,
   "metadata": {
    "ExecuteTime": {
     "end_time": "2021-09-24T19:27:03.248707Z",
     "start_time": "2021-09-24T19:27:02.541097Z"
    }
   },
   "outputs": [],
   "source": [
    "# Pandas plotting functionality is pretty awesome!\n",
    "# Here we have four separate plots\n",
    "\n",
    "data.boxplot(by='species');"
   ]
  },
  {
   "cell_type": "markdown",
   "metadata": {},
   "source": [
    "## Question 9\n",
    "\n",
    "Now make a single boxplot where the features are separated in the x-axis and species are colored with different hues. \n",
    "\n",
    "*Hint:* you may want to check the documentation for [Seaborn boxplots](http://seaborn.pydata.org/generated/seaborn.boxplot.html). \n",
    "\n",
    "Also note that Seaborn is very picky about data format--for this plot to work, the input dataframe will need to be manipulated so that each row contains a single data point (a species, a measurement type, and the measurement value). Check out Pandas [stack](http://pandas.pydata.org/pandas-docs/stable/generated/pandas.DataFrame.stack.html) method as a starting place.\n",
    "\n",
    "Here is an example of a data format that will work:\n",
    "\n",
    "|   | species | measurement  | size |\n",
    "| - | ------- | ------------ | ---- |\n",
    "| 0\t| setosa  | sepal_length | 5.1  |\n",
    "| 1\t| setosa  | sepal_width  | 3.5  |"
   ]
  },
  {
   "cell_type": "code",
   "execution_count": null,
   "metadata": {
    "ExecuteTime": {
     "end_time": "2021-09-24T19:27:03.264717Z",
     "start_time": "2021-09-24T19:27:03.249676Z"
    }
   },
   "outputs": [],
   "source": [
    "# First we have to reshape the data so there is \n",
    "# only a single measurement in each column\n",
    "\n",
    "plot_data = (data\n",
    "             .set_index('species')\n",
    "             .stack()\n",
    "             .to_frame()\n",
    "             .reset_index()\n",
    "             .rename(columns={0:'size', 'level_1':'measurement'})\n",
    "            )\n",
    "\n",
    "plot_data.head()"
   ]
  },
  {
   "cell_type": "code",
   "execution_count": null,
   "metadata": {
    "ExecuteTime": {
     "end_time": "2021-09-24T19:27:03.580538Z",
     "start_time": "2021-09-24T19:27:03.265714Z"
    }
   },
   "outputs": [],
   "source": [
    "# Now plot the dataframe from above using Seaborn\n",
    "\n",
    "sns.set_style('white')\n",
    "sns.set_context('notebook')\n",
    "sns.set_palette('dark')\n",
    "\n",
    "f = plt.figure(figsize=(6,4))\n",
    "sns.boxplot(x='measurement', y='size', \n",
    "            hue='species', data=plot_data);"
   ]
  },
  {
   "cell_type": "markdown",
   "metadata": {},
   "source": [
    "## Question 10\n",
    "\n",
    "Make a [pairplot](http://seaborn.pydata.org/generated/seaborn.pairplot.html) with Seaborn to examine the correlation between each of the measurements.\n",
    "\n",
    "*Hint:* this plot may look complicated, but it is actually only a single line of code. This is the power of Seaborn and dataframe-aware plotting! See the lecture notes for reference."
   ]
  },
  {
   "cell_type": "code",
   "execution_count": null,
   "metadata": {
    "ExecuteTime": {
     "end_time": "2021-09-24T19:27:09.029005Z",
     "start_time": "2021-09-24T19:27:03.581548Z"
    }
   },
   "outputs": [],
   "source": [
    "sns.set_context('talk')\n",
    "sns.pairplot(data, hue='species');"
   ]
  }
 ],
 "metadata": {
  "anaconda-cloud": {},
  "kernelspec": {
   "display_name": "Python 3.8 (Intel® oneAPI)",
   "language": "python",
   "name": "c009-intel_distribution_of_python_3_oneapi-beta05-python"
  },
  "language_info": {
   "codemirror_mode": {
    "name": "ipython",
    "version": 3
   },
   "file_extension": ".py",
   "mimetype": "text/x-python",
   "name": "python",
   "nbconvert_exporter": "python",
   "pygments_lexer": "ipython3",
   "version": "3.9.10"
  }
 },
 "nbformat": 4,
 "nbformat_minor": 4
}
