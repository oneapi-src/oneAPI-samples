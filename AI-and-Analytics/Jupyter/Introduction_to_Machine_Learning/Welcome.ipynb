{
 "cells": [
  {
   "cell_type": "markdown",
   "metadata": {},
   "source": [
    "# Introduction to Machine Learning Modules"
   ]
  },
  {
   "cell_type": "markdown",
   "metadata": {
    "tags": []
   },
   "source": [
    "The concepts build on top of each other introducing and reinforcing the concepts of machine learning. This course covers commonly used AI algorithms implemented in Scikit-learn. It provides the conceptual framework for how and why these algorithms can be used to solve machine learning problems. It also applies acceleration via the Intel Extensions for Scikit-learn. The accelerations is accomplished with two lines of code and achieves acceleration of one to three orders of magnitude speed-ups over the stock scikit-learn implementations on Intel CPU's\n",
    "\n",
    "| Modules | Description | Duration |\n",
    "|:--- |:------ |:------ |\n",
    "|[01_Introduction_to_Machine_Learning_and_Tools](01_Introduction_to_Machine_Learning_and_Tools/Introduction_to_Machine_Learning_and_Toolkit.ipynb)| + Demonstrate supervised learning algorithms.<br> + Explain key concepts like under- and over-fitting, regularization, and cross-validation<br>: + Classify the type of problem to be solved <br> + Choose an algorithm, tune parameters, and validate a model <br> + Apply Intel® Extension for Scikit-learn* to leverage underlying compute capabilities of hardware| 60 min |\n",
    "|[02-Introduction_to_Supervised_Learning_and_K_Nearest_Neighbors](02-Introduction_to_Supervised_Learning_and_K_Nearest_Neighbors/Supervised_Learning_and_K_Nearest_Neighbors_Exercises.ipynb)| + Explain supervised learning and how it can be applied to regression and classification problems.<br> + Apply K-Nearest Neighbor (KNN) algorithm for classification <br> + Apply Intel® Extension for Scikit-learn* to leverage underlying compute capabilities of hardware| 120 min |\n",
    "|[03-Train_Test_Splits_Validation_Linear_Regression](03-Train_Test_Splits_Validation_Linear_Regression/Train_Test_Splits_Validation_Linear_Regression.ipynb)| + Explain the difference between over-fitting and under-fitting a model<br> + Describe Bias-variance tradeoffs<br> + Find the optimal training and test data set splits, cross-validation, and model complexity versus error<br> + Apply a linear regression model for supervised learning.<br> + Apply Intel® Extension for Scikit-learn* to leverage underlying compute capabilities of hardware| 120 min |\n",
    "|[04-Regularization_and_Gradient_Descent](04-Regularization_and_Gradient_Descent/Regularization_and_Gradient_Descent_Exercises.ipynb)| + Explain cost functions, regularization, feature selection, and hyper-parameters<br> + Summarize complex statistical optimization algorithms like gradient descent and its application to linear regression<br> + Apply Intel® Extension for Scikit-learn* to leverage underlying compute capabilities of hardware| 120 min |\n",
    "|[05-Logistic_Regression_and_Classification_Error_Metrics](05-Logistic_Regression_and_Classification_Error_Metrics/Logistic_Regression_and_Classification_Error_Metrics_Exercises.ipynb)| + Describe Logistic regression and how it differs from linear regression<br> + Identify metrics for classification errors and scenarios in which they can be used<br> + Apply Intel® Extension for Scikit-learn* to leverage underlying compute capabilities of hardware| 120 min |\n",
    "|[06-SVM_and_Kernels](06-SVM_and_Kernels/SVM_Kernels_Exercises.ipynb)| + Apply support vector machines (SVMs)—a popular algorithm used for classification problems<br> + Recognize SVM similarity to logistic regression<br> + Compute the cost function of SVMs<br> + Apply regularization in SVMs and some tips to obtain non-linear classifications with SVMs<nbr> + Apply Intel® Extension for Scikit-learn* to leverage underlying compute capabilities of hardware | 120 min |\n",
    "|[07-Decision_Trees](07-Decision_Trees/Decision_Trees_Exercises.ipynb)| + Recognize Decision trees and how to use them for classification problems<br> + Recognize how to identify the best split and the factors for splitting<br> + Explain strengths and weaknesses of decision trees<br> + Explain how regression trees help with classifying continuous values<br> + Describe motivation for choosing Random Forest Classifier over Decision Trees<br> + Apply Intel® Extension for Scikit-learn* to leverage underlying compute capabilities of hardware for Random Forest Classifier| 120 min |\n",
    "|[08-Bagging](08-Bagging/Bagging_Exercises.ipynbb)| + Associate concepts of bootstrapping and aggregating (commonly known as “bagging”) to reduce variance<br> + Apply Random Forest algorithm that further reduces the correlation seen in bagging models<br> + Apply Intel® Extension for Scikit-learn* to leverage underlying compute capabilities of hardware| 120 min |\n",
    "|[09-Boosting_and_Stacking](09-Boosting_and_Stacking/Boosting_and_Stacking_Exercises.ipynb)| + Explain how the boosting algorithm helps reduce variance and bias.<br> + Apply Intel® Extension for Scikit-learn* to leverage underlying compute capabilities of hardware| 120 min |\n",
    "|[10-Introduction_to_Unsupervised_Learning_and_Clustering_Methods](10-Introduction_to_Unsupervised_Learning_and_Clustering_Methods/Clustering_Methods_Exercises.ipynb)| + Discuss unsupervised learning algorithms and how they can be applied<br> + Apply clustering<br> + Apply dimensionality reduction<br> + Apply Intel® Extension for Scikit-learn* to leverage underlying compute capabilities of hardware| 120 min |\n",
    "|[11-Dimensionality_Reduction_and_Advanced_Topics](11-Dimensionality_Reduction_and_Advanced_Topics/Dimensionality_Reduction_Exercises.ipynb)| + Explain and Apply Principal Component Analysis (PCA)<br> + Explain Multidimensional Scaling (MDS)<br> + Apply Intel® Extension for Scikit-learn* to leverage underlying compute capabilities of hardware| 120 min |"
   ]
  },
  {
   "cell_type": "code",
   "execution_count": null,
   "metadata": {},
   "outputs": [],
   "source": []
  }
 ],
 "metadata": {
  "kernelspec": {
   "display_name": "Python 3.7 (Intel® oneAPI)",
   "language": "python",
   "name": "c009-intel_distribution_of_python_3_oneapi-beta05-python"
  },
  "language_info": {
   "codemirror_mode": {
    "name": "ipython",
    "version": 3
   },
   "file_extension": ".py",
   "mimetype": "text/x-python",
   "name": "python",
   "nbconvert_exporter": "python",
   "pygments_lexer": "ipython3",
   "version": "3.9.7"
  },
  "toc": {
   "base_numbering": 1,
   "nav_menu": {},
   "number_sections": true,
   "sideBar": true,
   "skip_h1_title": false,
   "title_cell": "Table of Contents",
   "title_sidebar": "Contents",
   "toc_cell": false,
   "toc_position": {
    "height": "calc(100% - 180px)",
    "left": "10px",
    "top": "150px",
    "width": "384.391px"
   },
   "toc_section_display": true,
   "toc_window_display": true
  }
 },
 "nbformat": 4,
 "nbformat_minor": 4
}
