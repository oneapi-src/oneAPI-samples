{
 "cells": [
  {
   "cell_type": "markdown",
   "id": "d63cc5f8-8166-48c3-9456-86f6d8fc988f",
   "metadata": {
    "tags": []
   },
   "source": [
    "# Module 03_02: Pairwise Distance using Intel Extensions for Scikit-learn*\n",
    "\n",
    "![Assets/PairwiseStocks.jpg](Assets/PairwiseStocks.jpg)\n",
    "\n",
    "## Learning Objectives:\n",
    "\n",
    "- Describe and apply the correct surgical patching method to patch pairwise_distance\n",
    "-  recall that \"the **'euclidean'** metric is not optimized by **Intel Extensions for Scikit learn**, but the metrics \"**'cosine'** and **'correlation'**  are\n",
    "- Describe the application of pairwise_distance to the problem of finding all time series  charts  similar to a chosen pattern\n",
    "\n",
    "**References:**\n",
    "for Background on Geometric Brownian Motion more generally see:\n",
    "\n",
    "P. Glasserman, Monte Carlo methods in financial engineering. Vol. 53 (2013), Springer Science & Business Media.\n",
    "\n",
    "\n",
    "## Background:\n",
    "\n",
    "Geometrics Brownian Motion using arrays's of precomputed random numbers is used to synthesize a portfolio of 500 stocks which are saved in data/portfolio.npy. We created minute data for one years worth of trades. The data are random but partialy correlated with randomly generated eigenvectors to simulate stock behavoir.  \n",
    "\n",
    "The goal for the exercise is to find one of several interesting trading patterns and plot the stocks that best match that pattern using **pairwise_distance** powered by oneAPI."
   ]
  },
  {
   "cell_type": "markdown",
   "id": "53c30bf4-8d5c-4034-983a-c892a34d6266",
   "metadata": {
    "tags": []
   },
   "source": [
    "### Intel® Extension for Scikit-learn*\n",
    "\n",
    "Intel® Extension for Scikit-learn* provides data scientists with a way to get a better performance and functionally equivalent library contained patched versions of popular scikit-learn* algorithms. \n",
    "To access these optimized alogirthms which are drop in replaceable with their stock counterparts, you need to:\n",
    "\n",
    "* Download and install the Intel® oneAPI AI Analytics Toolkit\n",
    "* import the library\n",
    "    ```from sklearnex import patch_sklearn```\n",
    "* Call the ```patch_sklearn()``` function\n",
    "* Then import the deisred sklearn library\n",
    "\n",
    "In the below example we can enable the patching for DBSCAN as below.\n",
    "\n",
    "```\n",
    "from sklearnex import patch_sklearn\n",
    "patch_sklearn()\n",
    "from sklearn.cluster import DBSCAN\n",
    "```\n",
    " "
   ]
  },
  {
   "cell_type": "markdown",
   "id": "aeb17e1d-5f13-46df-8ecd-028abc31448b",
   "metadata": {},
   "source": [
    "The following code demonstrates usage of compute follows data. Inspect code; there are no modifications necessary:\n",
    "1. Inspect the following code cell and click Run (▶) to save the code to file.\n",
    "2. Next, run (▶) the cell in the __Build and Run__ section following the code to compile and execute the code."
   ]
  },
  {
   "cell_type": "code",
   "execution_count": null,
   "id": "e6a5ed96-a2ef-4a78-855c-418e5da2be5c",
   "metadata": {},
   "outputs": [],
   "source": [
    "\n",
    "# Copyright 2021 Intel Corporation\n",
    "#\n",
    "# Licensed under the Apache License, Version 2.0 (the \"License\");\n",
    "# you may not use this file except in compliance with the License.\n",
    "# You may obtain a copy of the License at\n",
    "#\n",
    "#      http://www.apache.org/licenses/LICENSE-2.0\n",
    "#\n",
    "# Unless required by applicable law or agreed to in writing, software\n",
    "# distributed under the License is distributed on an \"AS IS\" BASIS,\n",
    "# WITHOUT WARRANTIES OR CONDITIONS OF ANY KIND, either express or implied.\n",
    "# See the License for the specific language governing permissions and\n",
    "# limitations under the License.\n",
    "\n",
    "from sklearnex import patch_sklearn\n",
    "patch_sklearn()\n",
    "\n",
    "import numpy as np\n",
    "from sklearn.cluster import DBSCAN\n",
    "from daal4py.oneapi import sycl_context\n",
    "\n",
    "X = np.array([[1., 2.], [2., 2.], [2., 3.],\n",
    "            [8., 7.], [8., 8.], [25., 80.]], dtype=np.float32)\n",
    "\n",
    "clustering = DBSCAN(eps=3, min_samples=2).fit(X)\n",
    "print(\"DBSCAN components: \", clustering.components_, \"\\nDBSCAN labels: \",clustering.labels_)\n",
    "\n",
    "resultsDict = {}\n",
    "resultsDict['X'] = X\n",
    "resultsDict['labels'] = clustering.labels_\n",
    "resultsDict['components'] = clustering.components_\n",
    "import pickle\n",
    "with open('resultsDict.pkl', 'wb') as handle:\n",
    "    pickle.dump(resultsDict, handle, protocol=pickle.HIGHEST_PROTOCOL) "
   ]
  },
  {
   "cell_type": "markdown",
   "id": "16f09079-13d4-4196-989d-ef5c692c14cd",
   "metadata": {
    "tags": []
   },
   "source": [
    "#### Build and Run\n",
    "Select the cell below and click run ▶ to compile and execute the code:"
   ]
  },
  {
   "cell_type": "code",
   "execution_count": null,
   "id": "711cb475-44cf-4c1e-8516-1b93f2852ebc",
   "metadata": {},
   "outputs": [],
   "source": [
    "! chmod 755 q; chmod 755 run_dbscan.sh; if [ -x \"$(command -v qsub)\" ]; then ./q run_dbscan.sh; else ./run_dbscan.sh; fi"
   ]
  },
  {
   "cell_type": "code",
   "execution_count": null,
   "id": "ee6d4105-0b4b-4035-b0c3-62e0bf1ff345",
   "metadata": {},
   "outputs": [],
   "source": [
    "import pickle\n",
    "def read_results():\n",
    "    f = open('resultsDict.pkl', 'rb')   # 'rb' for reading binary file\n",
    "    resultsDict = pickle.load(f)     \n",
    "    f.close()  \n",
    "    return(resultsDict)\n",
    "\n",
    "resultsDict = read_results()\n",
    "resultsDict"
   ]
  },
  {
   "cell_type": "code",
   "execution_count": null,
   "id": "fc093492-cf27-4c5c-b60f-d2e168f889ad",
   "metadata": {},
   "outputs": [],
   "source": [
    "%matplotlib inline\n",
    "import matplotlib.pyplot as plt\n",
    "import pandas as pd\n",
    "X = resultsDict['X']\n",
    "from matplotlib import pyplot as plt\n",
    "\n",
    "columns = ['x', 'y']\n",
    "df = pd.DataFrame(X, columns = columns)\n",
    "df['color'] = resultsDict['labels']\n",
    "colors = { 0: 'magenta', 1: 'lime', -1: 'b' }\n",
    "\n",
    "df.plot.scatter(x='x', y='y', c=df['color'].apply(lambda x: colors[x]), s=30)\n",
    "plt.title('DBSAN clustering of data')\n",
    "\n",
    "plt.grid()\n",
    "plt.show()"
   ]
  },
  {
   "cell_type": "markdown",
   "id": "c153d305-bc12-4fcf-abb6-b4f8ed216ebb",
   "metadata": {},
   "source": [
    "# Patching Strategies with Intel® Extension for Scikit-learn*\n",
    "\n",
    "There are blunt/coarse methods t0 patch entire python scripts from the command line as well as finer granularity methods ising the patch_sklearn() down to almost surgical granularity methods of specifying which functions you wish to patch or unpatch\n",
    "\n",
    "### patch an entire python script\n",
    "\n",
    "Without editing the code of a scikit-learn application by using the following command line flag:\n",
    "\n",
    "```python -m sklearnex my_application.py```\n",
    "\n",
    "\n",
    "### to patch a Jupyter notebook cell\n",
    "\n",
    "The order of steps is important here:\n",
    "\n",
    "```\n",
    "import the sklearnex library\n",
    "patch_sklearn()\n",
    "```\n",
    "\n",
    "* Import any of the sklearn libraries you wish to use - **AFTER the call to patch_sklearn()** for example:\n",
    "\n",
    "```\n",
    "from sklearnex.neighbors import NearestNeighbors, PCA, Kmeans\n",
    "```\n",
    "\n",
    "\n",
    "### To UNPATCH sklearn to restore the stock behavior do the following:\n",
    "\n",
    "The process is the same as for patching:\n",
    "```\n",
    "unpatch_sklearn()\n",
    "```\n",
    "* Re-import scikit-learn algorithms after the unpatch\n",
    "\n",
    "```\n",
    "from sklearn.cluster import PCA\n",
    "```\n",
    "\n",
    "### You can also specify which algorithms to patch explicitly\n",
    "\n",
    "* Patching only one algorithm:\n",
    "\n",
    "```\n",
    "from sklearnex import patch_sklearn\n",
    "patch_sklearn(\"SVC\")\n",
    "```\n",
    "\n",
    "### To patch several algorithms explicitly\n",
    "\n",
    "```\n",
    "from sklearnex import patch_sklearn\n",
    "patch_sklearn([\"SVC\", \"DBSCAN\"])\n",
    "```\n",
    "\n",
    "### To UNPATCH algorithms explicitly, try one of these methods:\n",
    "\n",
    "```\n",
    "unpatch_sklearn(\"KMeans\")\n",
    "unpatch_sklearn([\"KMeans\",\"SVC\"])\n",
    "```"
   ]
  },
  {
   "cell_type": "code",
   "execution_count": null,
   "id": "f78ac205-bdbf-4edd-b2ad-a88eabb4e38f",
   "metadata": {},
   "outputs": [],
   "source": [
    "## Read the precomputed, synthesized stock portfolio of 500 stocks (minute trades for a year)\n",
    "import numpy as np\n",
    "with open('data/portfolio500.npy', 'rb') as f:\n",
    "    P = np.load(f)"
   ]
  },
  {
   "cell_type": "markdown",
   "id": "23a83bd0-41b9-432a-bf17-290428b86591",
   "metadata": {},
   "source": [
    "## Exercise:\n",
    "\n",
    "- Patch the pairwise_distance cells either individually or by region (first cell in notebook)"
   ]
  },
  {
   "cell_type": "markdown",
   "id": "d5b37ed3-d5fc-4ee2-98b3-73ff2ecc8f42",
   "metadata": {},
   "source": [
    "## Plot the whole portfolio at once to get a feel for the spreadof the data"
   ]
  },
  {
   "cell_type": "code",
   "execution_count": null,
   "id": "80b522f7-93ab-44b2-86e7-43efaf45dee5",
   "metadata": {},
   "outputs": [],
   "source": [
    "%matplotlib inline\n",
    "import matplotlib.pyplot as plt\n",
    "\n",
    "plt.figure(figsize = (16,8))\n",
    "plt.title('Multidimensional Correlated GBM', fontsize = 18)\n",
    "plt.xlabel('Time', fontsize = 18)\n",
    "\n",
    "plt.plot(P)\n",
    "plt.grid()\n",
    "plt.show()"
   ]
  },
  {
   "cell_type": "markdown",
   "id": "4192ea35-8aa8-4949-9281-d1e0a4f28f70",
   "metadata": {},
   "source": [
    "## Plot just a handful to see if they look \"stock like\""
   ]
  },
  {
   "cell_type": "code",
   "execution_count": null,
   "id": "9dd4f451-6799-4eed-b6a9-d51f7b6e0ded",
   "metadata": {},
   "outputs": [],
   "source": [
    "plt.figure(figsize = (16,8))\n",
    "plt.title('Multidimensional Correlated GBM', fontsize = 18)\n",
    "plt.xlabel('Time', fontsize = 18)\n",
    "\n",
    "plt.plot(P[:,:4])\n",
    "plt.grid()"
   ]
  },
  {
   "cell_type": "markdown",
   "id": "03cf069c-4ae5-4a8c-9749-fd60f3054545",
   "metadata": {},
   "source": [
    "# Retreive previous compelling stock shapes\n",
    "\n",
    "Retrieve shapes found during a previous run. These compelling shapes are ones that reflect a decline in the overall price over time (and if we use -1 times this shape plus adjusting a differenr offset for plotting purposes, we get an overall rise in price over time). Other intersting shapes are cyclical over various time periods within the year.\n",
    "\n",
    "Now search for these shape patterns in the 500 generated stocks, to find similarly shaped times series"
   ]
  },
  {
   "cell_type": "code",
   "execution_count": null,
   "id": "820164a7-f9b7-4c4a-ac66-074797255503",
   "metadata": {},
   "outputs": [],
   "source": [
    "import numpy as np\n",
    "import time\n",
    "seed = 2022\n",
    "with open('data/shapes{}.npy'.format(seed), 'rb') as f:\n",
    "    shapes = np.load(f)\n",
    "for i in range(3):\n",
    "    plt.plot(shapes.T[i])"
   ]
  },
  {
   "cell_type": "code",
   "execution_count": null,
   "id": "4560005b-1d86-40f8-b581-caaa7cdea859",
   "metadata": {},
   "outputs": [],
   "source": [
    "shapes.shape, P.shape"
   ]
  },
  {
   "cell_type": "markdown",
   "id": "915cc816-f50b-4a47-8e53-a447311cc950",
   "metadata": {},
   "source": [
    "# Use Pairwise Distance find similar shaped stocks\n",
    "\n",
    "Read shapes2022.pny (or shapesxxxx.pny)\n",
    "\n",
    "This file contains 10 interesting shapes from a previous run\n",
    "\n",
    "Find the four closest matching simulated stocks to the one of several interesting shapes\n",
    "\n",
    "## Apply a surgical patch below\n",
    "\n",
    "Use surgical patch where you specify the pairwise_distance function explicitly\n"
   ]
  },
  {
   "cell_type": "code",
   "execution_count": null,
   "id": "5fd9e54e-4a28-48b2-9fde-009ffae7fd22",
   "metadata": {},
   "outputs": [],
   "source": [
    "# dominant trend - find top 3 stocks which follow the red rend\n",
    "\n",
    "findN = 4\n",
    "\n",
    "from sklearn.metrics.pairwise import pairwise_distances\n",
    "\n",
    "# for stocks, I am treating the time as the components of the vector\n",
    "# so I transpose the X & Y so that time[s] are the columns\n",
    "sim = pairwise_distances(P.T, Y=shapes[:,0].reshape(-1,1).T, metric='cosine') \n",
    "#sim = pairwise_distances(P.T, Y=shapes[:,1].reshape(-1,1).T, metric=\"correlation\")\n",
    "# use np.argpartition to find the 4 closest similar to sorting the array and choosing the first 4 or last 4\n",
    "idxs = np.argpartition(\n",
    "    sim.flatten(), findN)[:findN]\n",
    "\n",
    "plt.figure(figsize = (16,8))\n",
    "plt.title('Pairwise Distance cosine Similar Time Series similar to downward red shape', fontsize = 18)\n",
    "plt.xlabel('Time', fontsize = 18)\n",
    "\n",
    "colors = ['lime','g','r','violet']\n",
    "for i in range(len(colors)):\n",
    "    plt.plot(P[:,idxs[i]], c=colors[i])\n",
    "plt.plot(120*shapes[:,0] + 450, c = 'b')\n",
    "sim[idxs]"
   ]
  },
  {
   "cell_type": "code",
   "execution_count": null,
   "id": "c751c1be-9b2d-47a8-88a5-4b5a0ace2c0d",
   "metadata": {},
   "outputs": [],
   "source": []
  },
  {
   "cell_type": "code",
   "execution_count": null,
   "id": "21be5590-286d-4988-b08b-68855baa712a",
   "metadata": {},
   "outputs": [],
   "source": [
    "# inverse dominant trend - find top 3 stocks - trending down which follow the red trend\n",
    "# Experimenting with using Correlation instead of cosine - Cosine mathces much better\n",
    "sim = pairwise_distances(P.T, Y=shapes[:,1].reshape(-1,1).T, metric='correlation') \n",
    "idxs = np.argpartition(sim.flatten(), findN)[:findN]\n",
    "\n",
    "plt.figure(figsize = (16,8))\n",
    "plt.title('Pairwise Distance Similar Time Series cyclical', fontsize = 18)\n",
    "plt.xlabel('Time', fontsize = 18)\n",
    "\n",
    "colors = ['lime','g','b','violet']\n",
    "for i in range(len(colors)):\n",
    "    plt.plot(P[:,idxs[i]], c=colors[i])\n",
    "plt.plot(120*shapes[:,1] + 700, c = 'orange')\n",
    "sim[idxs]"
   ]
  },
  {
   "cell_type": "code",
   "execution_count": null,
   "id": "e8648903-3f32-4a29-992d-0b755e0ace93",
   "metadata": {},
   "outputs": [],
   "source": []
  },
  {
   "cell_type": "markdown",
   "id": "d0d51e0d-3e2a-4c55-91ea-58111254c588",
   "metadata": {
    "tags": []
   },
   "source": [
    "# Notices & Disclaimers \n",
    "\n",
    "Intel technologies may require enabled hardware, software or service activation.\n",
    "No product or component can be absolutely secure.\n",
    "\n",
    "Your costs and results may vary.\n",
    "\n",
    "© Intel Corporation. Intel, the Intel logo, and other Intel marks are trademarks of Intel Corporation or its subsidiaries. \n",
    "*Other names and brands may be claimed as the property of others."
   ]
  }
 ],
 "metadata": {
  "kernelspec": {
   "display_name": "Python 3.8 (Intel® oneAPI)",
   "language": "python",
   "name": "c009-intel_distribution_of_python_3_oneapi-beta05-python"
  },
  "language_info": {
   "codemirror_mode": {
    "name": "ipython",
    "version": 3
   },
   "file_extension": ".py",
   "mimetype": "text/x-python",
   "name": "python",
   "nbconvert_exporter": "python",
   "pygments_lexer": "ipython3",
   "version": "3.9.10"
  },
  "nbTranslate": {
   "displayLangs": [
    "*"
   ],
   "hotkey": "alt-t",
   "langInMainMenu": true,
   "sourceLang": "en",
   "targetLang": "fr",
   "useGoogleTranslate": true
  },
  "toc": {
   "base_numbering": 1,
   "nav_menu": {},
   "number_sections": true,
   "sideBar": true,
   "skip_h1_title": false,
   "title_cell": "Table of Contents",
   "title_sidebar": "Contents",
   "toc_cell": false,
   "toc_position": {},
   "toc_section_display": true,
   "toc_window_display": false
  }
 },
 "nbformat": 4,
 "nbformat_minor": 5
}
