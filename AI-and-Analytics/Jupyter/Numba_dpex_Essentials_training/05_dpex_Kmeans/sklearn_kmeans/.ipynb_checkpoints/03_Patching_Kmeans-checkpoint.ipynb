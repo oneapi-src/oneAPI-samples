{
 "cells": [
  {
   "cell_type": "markdown",
   "metadata": {},
   "source": [
    "# Module 02_03: Kmeans Algorithm Using Intel® Extension for Scikit-learn*\n",
    "\n",
    "![Assets/Kmeans.jpg](Assets/Kmeans.jpg)"
   ]
  },
  {
   "cell_type": "markdown",
   "metadata": {
    "tags": []
   },
   "source": [
    "<a id='Back-to-Sections'></a>\n",
    "# Sections\n",
    "- _Discussion:_ [Kmeans Algorithm](#Kmeans-Algorithm)\n",
    "- _Code:_ [Implementation of Kmeans targeting CPU using Intel Extension for Scikit-learn for Kmeans interactive](#Implementation-of-Kmeans-in-Batch-mode)\n",
    "\n",
    "You will review, modify and execute code for unsupervised clustering of data using Intel Extension for Scikit-learn for Kmeans on a single CPU\n",
    "\n"
   ]
  },
  {
   "cell_type": "markdown",
   "metadata": {},
   "source": [
    "## Learning Objectives\n",
    "\n",
    "* Describe the value of Intel® Extension for Scikit-learn methodology in extending scikit-learn optimzation capabilites\n",
    "* Name key imports and function calls to use Intel Extension for Scikit-learn to target Kmeans\n",
    "* Build a Sklearn implementation of Kmeans targeting CPU using patching\n",
    "* Apply patching with dynamic versus lexical scope approaches "
   ]
  },
  {
   "cell_type": "markdown",
   "metadata": {
    "tags": []
   },
   "source": [
    "# Intel Extension for Scikit-learn\n",
    "\n",
    "Intel® Extension for Scikit-learn contains drop-in replacement patching functionality for the Scikit-learn machine learning library for Python. The patches were originally available in the daal4py package. All future updates for the patching will be available only in Intel Extension for Scikit-learn. All performance claims obtained using daal4py are applicable for Intel Extension for Scikit-learn.\n",
    "\n",
    "The value of the patch is providing optimized versions of common Scikit-learn machine learning algorithms used for data science. An added value is the ability to invoke these functions on either CPU or GPU.\n",
    "\n",
    "Applying Intel(R) Extension for Scikit-learn will impact the following existing [scikit-learn algorithms:](https://intel.github.io/scikit-learn-intelex/algorithms.html)\n",
    "\n",
    "You can take advantage of the optimizations of Intel Extension for Scikit-learn by adding just two lines of code before the usual Scikit-learn imports:\n",
    "\n",
    " - from sklearnex import patch_sklearn\n",
    " - patch_sklearn()\n",
    " - ...\n",
    " - from sklearn.cluster import KMeans\n",
    " - ... import other sklearn algoritms as needed ...\n",
    "\n",
    "Intel Extension for Scikit-learn uses Intel® oneAPI Data Analytics Library (oneDAL) to achieve its acceleration. The optimizations aim for the efficient use of CPU resources. The library enables all the latest vector instructions, such as Intel® Advanced Vector Extensions (Intel AVX-512). It also uses cache-friendly data blocking, fast Basic Linear Algebra Subprograms (BLAS) operations with Intel OneAPI Math Kernel Library (oneMKL), scalable multi-threading with Intel oneAPI Thread Building Blocks (oneTBB) library, and more."
   ]
  },
  {
   "cell_type": "markdown",
   "metadata": {
    "tags": []
   },
   "source": [
    "# Kmeans Algorithm\n",
    "Kmeans is a clustering algorithm that partitions observations from a dataset into a requested number of geometric clusters of points closest to the cluster’s own center of mass. Using an initial estimate of the centroids, the algorithm iteratively updates the positions of the centroids until a fixed point.\n",
    "\n",
    "\n",
    "Kmeans is a simple and powerful ML algorithm to cluster data into similar groups. Its objective is to split a set of N observations into K clusters. This is achieved by minimizing inertia (i.e., the sum of squared Euclidian distances from observations to the cluster centers, or centroids). The algorithm is iterative, with two steps in each iteration:\n",
    "* For each observation, compute the distance from it to each centroid, and then reassign each observation to the cluster with the nearest centroid.\n",
    "* For each cluster, compute the centroid as the mean of observations assigned to this cluster.\n",
    "\n",
    "Repeat these steps until the number of iterations exceeds a predefined maximum or the algorithm converges (i.e., the difference between two consecutive inertias is less than a predefined threshold).\n",
    "Different methods are used to get initial centroids for the first iteration. The algorithm can select random observations as initial centroids or use more complex methods such as kmeans\n",
    "\n",
    "- [Back to Sections](#Back-to-Sections)\n",
    " \n",
    " ## Exercise:\n",
    " \n",
    " - Apply patching method to ensure that the code uses the optimized kmeans from Intel Extensions for scikit-learn*\n",
    " - Apply paching both within the compute_fit_predict function scope and alternatively: outside the scope of this function. Does patching work in either case? Experiment with lexical versus dynamic extentent of where patch is applied\n",
    " - Ensure one kmeans cell is patched, and the other is unpatched"
   ]
  },
  {
   "cell_type": "code",
   "execution_count": 2,
   "metadata": {},
   "outputs": [
    {
     "name": "stderr",
     "output_type": "stream",
     "text": [
      "Intel(R) Extension for Scikit-learn* enabled (https://github.com/intel/scikit-learn-intelex)\n"
     ]
    },
    {
     "data": {
      "image/png": "[encoded data removed]",
      "text/plain": [
       "<Figure size 432x288 with 1 Axes>"
      ]
     },
     "metadata": {
      "needs_background": "light"
     },
     "output_type": "display_data"
    },
    {
     "name": "stdout",
     "output_type": "stream",
     "text": [
      "CPU times: user 145 ms, sys: 10.8 ms, total: 156 ms\n",
      "Wall time: 134 ms\n"
     ]
    }
   ],
   "source": [
    "%%time\n",
    "# functions of interest kmeans.fit_predict which return ndArray\n",
    "# This cell is running in interactive mode on Jupyter\n",
    "# This allows the leaner to experiment and play\n",
    "\n",
    "import matplotlib.pyplot as plt\n",
    "import pandas as pd\n",
    "from sklearn import datasets\n",
    "from sklearnex import patch_sklearn\n",
    "\n",
    "def compute_fit_predict():\n",
    "    import numpy as np\n",
    "    import os\n",
    "\n",
    "    ### Apply patch here ######\n",
    "    #\n",
    "    patch_sklearn()\n",
    "    #########################################\n",
    "\n",
    "\n",
    "    from sklearn.cluster import KMeans\n",
    "\n",
    "    #infile = os.path.join('data', 'batch', 'kmeans_dense.csv')\n",
    "    nCentroids = 3\n",
    "\n",
    "    iris = datasets.load_iris()\n",
    "    columns = iris.feature_names\n",
    "    data = iris.data    \n",
    "    kmeans = KMeans(nCentroids, init='random', random_state=0)\n",
    "\n",
    "    labels = pd.DataFrame( kmeans.fit_predict(data), columns = ['labels'] )\n",
    "\n",
    "    labels.to_csv('kmeans_Labels.csv', index=False)\n",
    "    cluster_centers = pd.DataFrame(kmeans.cluster_centers_)\n",
    "    cluster_centers.to_csv('kmeans_ClusterCenters.csv', index=False )\n",
    "    \n",
    "compute_fit_predict()\n",
    "cluster_centers = pd.read_csv('kmeans_ClusterCenters.csv')\n",
    "labels = pd.read_csv('kmeans_Labels.csv')\n",
    "\n",
    "iris = datasets.load_iris()\n",
    "data = iris.data\n",
    "plt.title('kmeans Cluster Centers - Fit_Predict')\n",
    "plt.scatter(cluster_centers.iloc[:, 0], cluster_centers.iloc[:, 1], s=100, c=[0,1,2], edgecolor=\"k\")\n",
    "plt.scatter(data[:, 0], data[:, 1], s=10, c=labels['labels'])\n",
    "plt.show()\n"
   ]
  },
  {
   "cell_type": "markdown",
   "metadata": {},
   "source": [
    "## Key learning\n",
    "Patching BEFORE the import implies the dynamic scoping - meaning that the it is applied and a thread of execution encounters the statements\n",
    "\n",
    "So even though, is lexically before the patch (lexically -  as a human would read the code from top to bottom)\n",
    "\n",
    "the patch get applied - because as an execution of code (thread) perspective, the patch is applied, then the function is called and then the import for kmeans occurs\n",
    "\n",
    "\n",
    "def compute_fit_predict():\n",
    "...\n",
    "...from sklearn.cluster import KMeans\n",
    "...\n",
    "path_sklearn()\n",
    "compute_fit_predict()\n"
   ]
  },
  {
   "cell_type": "code",
   "execution_count": null,
   "metadata": {},
   "outputs": [],
   "source": [
    "# functions of interest kmeans.fit_predict which return ndArray\n",
    "# This cell is running in interactive mode on Jupyter\n",
    "# This allows the leaner to experiment and play\n",
    "\n",
    "def compute_fit_then_predict():\n",
    "    import matplotlib.pyplot as plt\n",
    "    import pandas as pd\n",
    "    import numpy as np\n",
    "    import os\n",
    "\n",
    "    from sklearn import datasets\n",
    "    from sklearn.cluster import KMeans\n",
    "\n",
    "    #infile = os.path.join('data', 'batch', 'kmeans_dense.csv')\n",
    "    nCentroids = 3\n",
    "\n",
    "    iris = datasets.load_iris()\n",
    "    columns = iris.feature_names\n",
    "    data = iris.data\n",
    "    kmeans = KMeans(nCentroids, init='random', random_state=0)\n",
    "\n",
    "    km_model = kmeans.fit(data)\n",
    "    labels = pd.DataFrame( km_model.predict(data), columns = ['labels'] )\n",
    "\n",
    "    labels.to_csv('kmeans_Labels.csv', index=False)\n",
    "    cluster_centers = pd.DataFrame(km_model.cluster_centers_)\n",
    "    cluster_centers.to_csv('kmeans_ClusterCenters.csv', index=False )\n",
    "\n",
    "import time\n",
    "start = time.time()\n",
    "\n",
    "############### DO NOT remove these lines - It is a teaching point ###################\n",
    "from sklearnex import patch_sklearn\n",
    "patch_sklearn()\n",
    "unpatch()\n",
    "\n",
    "# Unpatch code - do not remove the above line - just add an unpatch below\n",
    "# this demonstrates how to add or remove patching at any granualr level\n",
    "#######################################################################################\n",
    "\n",
    "\n",
    "\n",
    "\n",
    "\n",
    "\n",
    "### Apply UNpatch here, to undo the above patch ######\n",
    "\n",
    "\n",
    "###########################\n",
    "\n",
    "\n",
    "compute_fit_then_predict()\n",
    "print(\"execution time: \", time.time() - start)\n",
    "cluster_centers = pd.read_csv('kmeans_ClusterCenters.csv')\n",
    "labels = pd.read_csv('kmeans_Labels.csv')\n",
    "plt.figure(figsize = (16,8))\n",
    "plt.title('kmeans Cluster Centers - Fit then Predict', fontsize = 18)\n",
    "plt.scatter(cluster_centers.iloc[:, 0], cluster_centers.iloc[:, 1], s=100, c=[0,1,2], edgecolor=\"k\")\n",
    "plt.scatter(data[:, 0], data[:, 1], s=10, c=labels['labels'])\n",
    "plt.show()"
   ]
  },
  {
   "cell_type": "markdown",
   "metadata": {},
   "source": [
    "## Summary\n",
    "In this module you will have learned the following:\n",
    "* Able to Name key imports and function calls to use Intel Extension for Scikit-learn to target Kmeans for use on CPU"
   ]
  },
  {
   "cell_type": "markdown",
   "metadata": {},
   "source": [
    "# Notices & Disclaimers \n",
    "\n",
    "Intel technologies may require enabled hardware, software or service activation.\n",
    "No product or component can be absolutely secure.\n",
    "\n",
    "Your costs and results may vary.\n",
    "\n",
    "© Intel Corporation. Intel, the Intel logo, and other Intel marks are trademarks of Intel Corporation or its subsidiaries. \n",
    "*Other names and brands may be claimed as the property of others."
   ]
  },
  {
   "cell_type": "code",
   "execution_count": null,
   "metadata": {},
   "outputs": [],
   "source": []
  }
 ],
 "metadata": {
  "kernelspec": {
   "display_name": "Python 3.8 (Intel® oneAPI)",
   "language": "python",
   "name": "c009-intel_distribution_of_python_3_oneapi-beta05-python"
  },
  "language_info": {
   "codemirror_mode": {
    "name": "ipython",
    "version": 3
   },
   "file_extension": ".py",
   "mimetype": "text/x-python",
   "name": "python",
   "nbconvert_exporter": "python",
   "pygments_lexer": "ipython3",
   "version": "3.9.10"
  },
  "nbTranslate": {
   "displayLangs": [
    "*"
   ],
   "hotkey": "alt-t",
   "langInMainMenu": true,
   "sourceLang": "en",
   "targetLang": "fr",
   "useGoogleTranslate": true
  },
  "toc": {
   "base_numbering": 1,
   "nav_menu": {},
   "number_sections": true,
   "sideBar": true,
   "skip_h1_title": false,
   "title_cell": "Table of Contents",
   "title_sidebar": "Contents",
   "toc_cell": false,
   "toc_position": {
    "height": "525.6px",
    "left": "28px",
    "top": "137.8px",
    "width": "301.09px"
   },
   "toc_section_display": true,
   "toc_window_display": true
  },
  "widgets": {
   "application/vnd.jupyter.widget-state+json": {
    "state": {},
    "version_major": 2,
    "version_minor": 0
   }
  }
 },
 "nbformat": 4,
 "nbformat_minor": 4
}
