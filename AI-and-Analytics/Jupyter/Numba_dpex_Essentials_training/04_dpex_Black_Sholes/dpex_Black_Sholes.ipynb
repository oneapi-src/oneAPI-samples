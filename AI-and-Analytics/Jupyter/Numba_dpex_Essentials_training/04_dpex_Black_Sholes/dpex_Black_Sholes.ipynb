{
 "cells": [
  {
   "cell_type": "markdown",
   "metadata": {},
   "source": [
    "# Black-Scholes Algorithm Using Numba-dpex"
   ]
  },
  {
   "cell_type": "markdown",
   "metadata": {},
   "source": [
    "## Sections\n",
    "- [Black Sholes algorithm](#Black-Sholes-algorithm)\n",
    "- _Code:_ [Implementation of Black Scholes targeting CPU using Numba JIT](#Implementation-of-Black-Scholes-targeting-CPU-using-Numba-JIT)\n",
    "- _Code:_ [Implementation of Black Scholes targeting GPU using Kernels](#Implementation-of-Black-Scholes-targeting-GPU-using-Kernels)\n",
    "- _Code:_ [Implementation of Black Scholes targeting GPU using Numpy](#Implementation-of-Black-Scholes-targeting-GPU-using-Numpy)\n",
    "\n"
   ]
  },
  {
   "cell_type": "markdown",
   "metadata": {},
   "source": [
    "## Learning Objectives\n",
    "* Build a Numba implementation of Black Scholes targeting CPU and GPU using Numba Jit\n",
    "* Build a  Numba-Dpex  implementation of Black Scholes on CPU and GPU using Kernel approach\n",
    "* Build a  Numba-Dpex implementation of Black Scholes on GPU using Numpy approach"
   ]
  },
  {
   "cell_type": "markdown",
   "metadata": {},
   "source": [
    "## numba-dpex\n",
    "\n",
    "Numba-dpex is a standalone extension to the Numba JIT compiler that adds SYCL programming capabilities to Numba. Numba-dpex is packaged as part of the IDP that comes with oneAPI base toolkit, and you don’t need to install any specific Conda packages. The support for SYCL is via SYCL runtime and other SYCL compilers are not supported by Numba-dpex.\n",
    "\n"
   ]
  },
  {
   "cell_type": "markdown",
   "metadata": {},
   "source": [
    "## Black Sholes algorithm\n",
    "\n",
    "The Black-Scholes program computes the price of a portfolio of options using partial differential equations. The entire computation performed by Black-Scholes is data-parallel, where each option can be priced independent of other options.\n",
    "\n",
    "The Black-Scholes Model is one of the most important concepts in modern quantitative finance theory. Developed in 1973 by Fisher Black, Robert Merton, and Myron Scholes; it is still widely used today, and regarded as one of the best ways to determine fair prices of financial derivatives."
   ]
  },
  {
   "cell_type": "markdown",
   "metadata": {},
   "source": [
    "## Command Line parameters\n",
    "\n",
    "| Type | Default Value | Description |\n",
    "|:---|:---|:---|\n",
    "| --steps | 10 | Number of workload runs |\n",
    "| --step | 2  | Data growth factor on each iteration |\n",
    "| --size | 2 ** 28 | Initial data size |\n",
    "| --repeat | 1 | Iterations inside measured region |\n",
    "| --json | False | Output json data filename |\n",
    "| -d | 1 | Data Dimension |\n",
    "| --usm | False | Use USM Shared |"
   ]
  },
  {
   "cell_type": "markdown",
   "metadata": {},
   "source": [
    "### Implementation of Black-Scholes Formula\n",
    "\n",
    "The Black-Scholes formula is used widely in almost every aspect of quantitative finance. The Black-Scholes calculation has essentially permeated every quantitative finance library by traders and quantitative analysts alike. \n",
    "\n",
    "Let’s look at a hypothetic situation in which a firm has to calculate European options for millions of financial instruments. For each instrument, it has current price, strike price, and option expiration time. For each set of these data, it makes several thousand Black-Scholes calculations, much like the way options of neighboring stock prices, strike prices, and different option expiration times were calculated.\n"
   ]
  },
  {
   "cell_type": "markdown",
   "metadata": {},
   "source": [
    "# Implementation of Black Scholes targeting CPU using Numba JIT\n",
    "In the following example, we introduce a naive Black-Sholes implementation that targets a CPU using the Numba JIT, where we calculate the Black-Sholes formula as described:\n",
    "\n",
    "This is the decorator-based approach, where we offload data parallel code sections like parallel-for, and certain NumPy function calls. With the decorator method, a programmer needs to simply identify the most time-consuming parts of the program. If those parts can be parallelized, the programmer needs to just annotate those sections using Numba-Dpex, and can expect those code sections to execute on a GPU.\n",
    "\n",
    "1. Inspect the code cell below and click run ▶ to save the code to a file.\n",
    "2. Next run ▶ the cell in the __Build and Run__ section below the code to compile and execute the code."
   ]
  },
  {
   "cell_type": "code",
   "execution_count": 1,
   "metadata": {},
   "outputs": [
    {
     "name": "stdout",
     "output_type": "stream",
     "text": [
      "Overwriting lab/black_sholes_jit_cpu.py\n"
     ]
    }
   ],
   "source": [
    "%%writefile lab/black_sholes_jit_cpu.py\n",
    "# Copyright (C) 2017-2018 Intel Corporation\n",
    "#\n",
    "# SPDX-License-Identifier: MIT\n",
    "\n",
    "import dpctl\n",
    "import base_bs_erf\n",
    "import numba as nb\n",
    "from math import log, sqrt, exp, erf\n",
    "\n",
    "# blackscholes implemented as a parallel loop using numba.prange\n",
    "@nb.njit(parallel=True, fastmath=True)\n",
    "def black_scholes_kernel(nopt, price, strike, t, rate, vol, call, put):\n",
    "    mr = -rate\n",
    "    sig_sig_two = vol * vol * 2\n",
    "\n",
    "    for i in nb.prange(nopt):\n",
    "        P = price[i]\n",
    "        S = strike[i]\n",
    "        T = t[i]\n",
    "\n",
    "        a = log(P / S)\n",
    "        b = T * mr\n",
    "\n",
    "        z = T * sig_sig_two\n",
    "        c = 0.25 * z\n",
    "        y = 1.0 / sqrt(z)\n",
    "\n",
    "        w1 = (a - b + c) * y\n",
    "        w2 = (a - b - c) * y\n",
    "\n",
    "        d1 = 0.5 + 0.5 * erf(w1)\n",
    "        d2 = 0.5 + 0.5 * erf(w2)\n",
    "\n",
    "        Se = exp(b) * S\n",
    "\n",
    "        r = P * d1 - Se * d2\n",
    "        call[i] = r\n",
    "        put[i] = r - P + Se\n",
    "\n",
    "\n",
    "def black_scholes(nopt, price, strike, t, rate, vol, call, put):\n",
    "    # offload blackscholes computation to CPU (toggle level0 or opencl driver).\n",
    "    \n",
    "    black_scholes_kernel(nopt, price, strike, t, rate, vol, call, put)\n",
    "\n",
    "\n",
    "# call the run function to setup input data and performance data infrastructure\n",
    "base_bs_erf.run(\"Numba@jit-loop-par\", black_scholes)"
   ]
  },
  {
   "cell_type": "markdown",
   "metadata": {},
   "source": [
    "### Build and Run\n",
    "Select the cell below and click run ▶ to compile and execute the code:"
   ]
  },
  {
   "cell_type": "code",
   "execution_count": 2,
   "metadata": {},
   "outputs": [
    {
     "name": "stdout",
     "output_type": "stream",
     "text": [
      "Job has been submitted to Intel(R) DevCloud and will execute soon.\n",
      "\n",
      " If you do not see result in 60 seconds, please restart the Jupyter kernel:\n",
      " Kernel -> 'Restart Kernel and Clear All Outputs...' and then try again\n",
      "\n",
      "Job ID                    Name             User            Time Use S Queue\n",
      "------------------------- ---------------- --------------- -------- - -----\n",
      "2311510.v-qsvr-1           ...ub-singleuser u137620         00:00:29 R jupyterhub     \n",
      "2311526.v-qsvr-1           ...matrix_mul.sh u137620                0 R batch          \n",
      "2311527.v-qsvr-1           ...llows_data.sh u137620                0 R batch          \n",
      "2311528.v-qsvr-1           ...es_jit_cpu.sh u137620                0 Q batch          \n",
      "\n",
      "Waiting for Output ███████████████ Done⬇\n",
      "\n",
      "########################################################################\n",
      "#      Date:           Sun 04 Jun 2023 08:05:41 PM PDT\n",
      "#    Job ID:           2311528.v-qsvr-1.aidevcloud\n",
      "#      User:           u137620\n",
      "# Resources:           cput=75:00:00,neednodes=1:gpu:ppn=2,nodes=1:gpu:ppn=2,walltime=06:00:00\n",
      "########################################################################\n",
      "\n",
      "## u137620 is compiling AI numba-dpex essentials Module4 -- Black scholes - 1 of 4 black_sholes_jit_cpu.py\n",
      "ERF: Numba@jit-loop-par: Size: 1024 ERF: Numba@jit-loop-par | Size:       1024 | MOPS:     64071863.91 | TIME:   0.000160\n",
      "ERF: Numba@jit-loop-par: Size: 2048 ERF: Numba@jit-loop-par | Size:       2048 | MOPS:    118699301.28 | TIME:   0.000104\n",
      "ERF: Numba@jit-loop-par: Size: 4096 ERF: Numba@jit-loop-par | Size:       4096 | MOPS:    312095267.61 | TIME:   0.000026\n",
      "ERF: Numba@jit-loop-par: Size: 8192 ERF: Numba@jit-loop-par | Size:       8192 | MOPS:    277295577.76 | TIME:   0.000059\n",
      "ERF: Numba@jit-loop-par: Size: 16384 ERF: Numba@jit-loop-par | Size:      16384 | MOPS:    373134792.13 | TIME:   0.000088\n",
      "\n",
      "########################################################################\n",
      "# End of output for job 2311528.v-qsvr-1.aidevcloud\n",
      "# Date: Sun 04 Jun 2023 08:05:51 PM PDT\n",
      "########################################################################\n",
      "\n",
      "Job Completed in 15 seconds.\n"
     ]
    }
   ],
   "source": [
    "! chmod 755 q; chmod 755 run_black_sholes_jit_cpu.sh; if [ -x \"$(command -v qsub)\" ]; then ./q run_black_sholes_jit_cpu.sh; else ./run_black_sholes_jit_cpu.sh; fi"
   ]
  },
  {
   "cell_type": "markdown",
   "metadata": {},
   "source": [
    "# Implementation of Black Scholes targeting GPU using Numba JIT\n",
    "In the below example we introduce to a Naive Blacksholes implementation that targets a GPU using the Numba Jit where we calculate the blacksholes formula as described above.\n",
    "\n",
    "1. Inspect the code cell below and click run ▶ to save the code to a file.\n",
    "2. Next run ▶ the cell in the __Build and Run__ section below the code to compile and execute the code."
   ]
  },
  {
   "cell_type": "code",
   "execution_count": 3,
   "metadata": {},
   "outputs": [
    {
     "name": "stdout",
     "output_type": "stream",
     "text": [
      "Overwriting lab/black_sholes_jit_gpu.py\n"
     ]
    }
   ],
   "source": [
    "%%writefile lab/black_sholes_jit_gpu.py\n",
    "# Copyright (C) 2017-2018 Intel Corporation\n",
    "#\n",
    "# SPDX-License-Identifier: MIT\n",
    "\n",
    "import dpctl\n",
    "import base_bs_erf_gpu\n",
    "import numba as nb\n",
    "from math import log, sqrt, exp, erf\n",
    "from device_selector import get_device_selector\n",
    "\n",
    "# blackscholes implemented as a parallel loop using numba.prange\n",
    "@nb.njit(parallel=True, fastmath=True)\n",
    "def black_scholes_kernel(nopt, price, strike, t, rate, vol, call, put):\n",
    "    mr = -rate\n",
    "    sig_sig_two = vol * vol * 2\n",
    "\n",
    "    for i in nb.prange(nopt):\n",
    "        P = price[i]\n",
    "        S = strike[i]\n",
    "        T = t[i]\n",
    "\n",
    "        a = log(P / S)\n",
    "        b = T * mr\n",
    "\n",
    "        z = T * sig_sig_two\n",
    "        c = 0.25 * z\n",
    "        y = 1.0 / sqrt(z)\n",
    "\n",
    "        w1 = (a - b + c) * y\n",
    "        w2 = (a - b - c) * y\n",
    "\n",
    "        d1 = 0.5 + 0.5 * erf(w1)\n",
    "        d2 = 0.5 + 0.5 * erf(w2)\n",
    "\n",
    "        Se = exp(b) * S\n",
    "\n",
    "        r = P * d1 - Se * d2\n",
    "        call[i] = r\n",
    "        put[i] = r - P + Se\n",
    "\n",
    "\n",
    "def black_scholes(nopt, price, strike, t, rate, vol, call, put):\n",
    "    # offload blackscholes computation to GPU (toggle level0 or opencl driver).\n",
    "    with dpctl.device_context(get_device_selector(is_gpu=True)):\n",
    "        black_scholes_kernel(nopt, price, strike, t, rate, vol, call, put)\n",
    "\n",
    "\n",
    "# call the run function to setup input data and performance data infrastructure\n",
    "base_bs_erf_gpu.run(\"Numba@jit-loop-par\", black_scholes)"
   ]
  },
  {
   "cell_type": "markdown",
   "metadata": {},
   "source": [
    "### Build and Run\n",
    "Select the cell below and click run ▶ to compile and execute the code:"
   ]
  },
  {
   "cell_type": "code",
   "execution_count": 4,
   "metadata": {},
   "outputs": [
    {
     "name": "stdout",
     "output_type": "stream",
     "text": [
      "Job has been submitted to Intel(R) DevCloud and will execute soon.\n",
      "\n",
      " If you do not see result in 60 seconds, please restart the Jupyter kernel:\n",
      " Kernel -> 'Restart Kernel and Clear All Outputs...' and then try again\n",
      "\n",
      "Job ID                    Name             User            Time Use S Queue\n",
      "------------------------- ---------------- --------------- -------- - -----\n",
      "2311510.v-qsvr-1           ...ub-singleuser u137620         00:00:36 R jupyterhub     \n",
      "2311530.v-qsvr-1           ...es_jit_gpu.sh u137620                0 Q batch          \n",
      "\n",
      "Waiting for Output ███████████████████ Done⬇\n",
      "\n",
      "########################################################################\n",
      "#      Date:           Sun 04 Jun 2023 08:05:57 PM PDT\n",
      "#    Job ID:           2311530.v-qsvr-1.aidevcloud\n",
      "#      User:           u137620\n",
      "# Resources:           cput=75:00:00,neednodes=1:gpu:ppn=2,nodes=1:gpu:ppn=2,walltime=06:00:00\n",
      "########################################################################\n",
      "\n",
      "## u137620 is compiling AI numba-dpex essentials Module4 -- Black scholes- 2 of 4 black_sholes_jit_gpu.py\n",
      "ERF: Numba@jit-loop-par: Size: 1024 ERF: Numba@jit-loop-par | Size:       1024 | MOPS:      5593258.80 | TIME:   0.001831\n",
      "ERF: Numba@jit-loop-par: Size: 2048 ERF: Numba@jit-loop-par | Size:       2048 | MOPS:      3122131.34 | TIME:   0.003936\n",
      "ERF: Numba@jit-loop-par: Size: 4096 ERF: Numba@jit-loop-par | Size:       4096 | MOPS:     38996688.34 | TIME:   0.000210\n",
      "ERF: Numba@jit-loop-par: Size: 8192 ERF: Numba@jit-loop-par | Size:       8192 | MOPS:     76404053.14 | TIME:   0.000214\n",
      "ERF: Numba@jit-loop-par: Size: 16384 ERF: Numba@jit-loop-par | Size:      16384 | MOPS:    146364927.07 | TIME:   0.000224\n",
      "\n",
      "########################################################################\n",
      "# End of output for job 2311530.v-qsvr-1.aidevcloud\n",
      "# Date: Sun 04 Jun 2023 08:06:05 PM PDT\n",
      "########################################################################\n",
      "\n",
      "Job Completed in 19 seconds.\n"
     ]
    }
   ],
   "source": [
    "! chmod 755 q; chmod 755 run_black_sholes_jit_gpu.sh; if [ -x \"$(command -v qsub)\" ]; then ./q run_black_sholes_jit_gpu.sh; else ./run_black_sholes_jit_gpu.sh; fi"
   ]
  },
  {
   "cell_type": "markdown",
   "metadata": {},
   "source": [
    "# Implementation of Black Scholes targeting GPU using Kernels\n",
    "\n",
    "## Writing Explicit Kernels in numba-dpex\n",
    "\n",
    "Writing a SYCL kernel using the `@numba_dpex.kernel` decorator has similar syntax to writing OpenCL kernels. As such, the numba-dpex module provides similar indexing and other functions as OpenCL. The indexing functions supported inside a `numba_dpex.kernel` are:\n",
    "\n",
    "* numba_dpex.get_local_id : Gets the local ID of the item\n",
    "* numba_dpex.get_local_size: Gets the local work group size of the device\n",
    "* numba_dpex.get_group_id : Gets the group ID of the item\n",
    "* numba_dpex.get_num_groups: Gets the number of gropus in a worksgroup\n",
    "\n",
    "Refer https://intelpython.github.io/numba-dpex/latest/user_guides/kernel_programming_guide/index.html for more details.\n",
    "\n",
    "In the following example we use dpex-kernel approach for explicit kernel programming where if the programmer wants to extract further performance from the offloaded code, the programmer can use the explicit kernel programming approach using dpex-kernels and tune the GPU parameterswhere we take advantage of the workgroups and the workitems in a device using the kernel approach"
   ]
  },
  {
   "cell_type": "markdown",
   "metadata": {},
   "source": [
    "1. Inspect the code cell below and click run ▶ to save the code to a file.\n",
    "2. Next run ▶ the cell in the __Build and Run__ section below the code to compile and execute the code."
   ]
  },
  {
   "cell_type": "code",
   "execution_count": 5,
   "metadata": {},
   "outputs": [
    {
     "name": "stdout",
     "output_type": "stream",
     "text": [
      "Overwriting lab/black_sholes_kernel.py\n"
     ]
    }
   ],
   "source": [
    "%%writefile lab/black_sholes_kernel.py\n",
    "# Copyright (C) 2017-2018 Intel Corporation\n",
    "#\n",
    "# SPDX-License-Identifier: MIT\n",
    "\n",
    "import dpctl\n",
    "import base_bs_erf_gpu\n",
    "import numba_dpex\n",
    "from math import log, sqrt, exp, erf\n",
    "from device_selector import get_device_selector\n",
    "\n",
    "# blackscholes implemented using dpex.kernel\n",
    "@numba_dpex.kernel(\n",
    "    access_types={\"read_only\": [\"price\", \"strike\", \"t\"], \"write_only\": [\"call\", \"put\"]}\n",
    ")\n",
    "def black_scholes(nopt, price, strike, t, rate, vol, call, put):\n",
    "    mr = -rate\n",
    "    sig_sig_two = vol * vol * 2\n",
    "\n",
    "    i = numba_dpex.get_global_id(0)\n",
    "\n",
    "    P = price[i]\n",
    "    S = strike[i]\n",
    "    T = t[i]\n",
    "\n",
    "    a = log(P / S)\n",
    "    b = T * mr\n",
    "\n",
    "    z = T * sig_sig_two\n",
    "    c = 0.25 * z\n",
    "    y = 1.0 / sqrt(z)\n",
    "\n",
    "    w1 = (a - b + c) * y\n",
    "    w2 = (a - b - c) * y\n",
    "\n",
    "    d1 = 0.5 + 0.5 * erf(w1)\n",
    "    d2 = 0.5 + 0.5 * erf(w2)\n",
    "\n",
    "    Se = exp(b) * S\n",
    "\n",
    "    r = P * d1 - Se * d2\n",
    "    call[i] = r\n",
    "    put[i] = r - P + Se\n",
    "\n",
    "\n",
    "def black_scholes_driver(nopt, price, strike, t, rate, vol, call, put):\n",
    "    # offload blackscholes computation to GPU (toggle level0 or opencl driver).\n",
    "    with dpctl.device_context(get_device_selector(is_gpu=True)):\n",
    "        black_scholes[nopt, numba_dpex.DEFAULT_LOCAL_SIZE](\n",
    "            nopt, price, strike, t, rate, vol, call, put\n",
    "        )\n",
    "\n",
    "\n",
    "# call the run function to setup input data and performance data infrastructure\n",
    "base_bs_erf_gpu.run(\"Numba@jit-loop-par\", black_scholes_driver)"
   ]
  },
  {
   "cell_type": "markdown",
   "metadata": {},
   "source": [
    "### Build and Run\n",
    "Select the cell below and click run ▶ to compile and execute the code:"
   ]
  },
  {
   "cell_type": "code",
   "execution_count": 6,
   "metadata": {},
   "outputs": [
    {
     "name": "stdout",
     "output_type": "stream",
     "text": [
      "Job has been submitted to Intel(R) DevCloud and will execute soon.\n",
      "\n",
      " If you do not see result in 60 seconds, please restart the Jupyter kernel:\n",
      " Kernel -> 'Restart Kernel and Clear All Outputs...' and then try again\n",
      "\n",
      "Job ID                    Name             User            Time Use S Queue\n",
      "------------------------- ---------------- --------------- -------- - -----\n",
      "2311510.v-qsvr-1           ...ub-singleuser u137620         00:00:36 R jupyterhub     \n",
      "2311531.v-qsvr-1           run_dbscan.sh    u137620                0 R batch          \n",
      "2311532.v-qsvr-1           ...les_kernel.sh u137620                0 Q batch          \n",
      "\n",
      "Waiting for Output ███████████████████ Done⬇\n",
      "\n",
      "########################################################################\n",
      "#      Date:           Sun 04 Jun 2023 08:06:17 PM PDT\n",
      "#    Job ID:           2311532.v-qsvr-1.aidevcloud\n",
      "#      User:           u137620\n",
      "# Resources:           cput=75:00:00,neednodes=1:gpu:ppn=2,nodes=1:gpu:ppn=2,walltime=06:00:00\n",
      "########################################################################\n",
      "\n",
      "## u137620 is compiling AI numba-dpex essentials Module4 -- Black scholes - 3 of 4 black_sholes_kernel.py\n",
      "ERF: Numba@jit-loop-par: Size: 1024 ERF: Numba@jit-loop-par | Size:       1024 | MOPS:       108974.10 | TIME:   0.093967\n",
      "ERF: Numba@jit-loop-par: Size: 2048 ERF: Numba@jit-loop-par | Size:       2048 | MOPS:       223268.74 | TIME:   0.055037\n",
      "ERF: Numba@jit-loop-par: Size: 4096 ERF: Numba@jit-loop-par | Size:       4096 | MOPS:       445698.57 | TIME:   0.018380\n",
      "ERF: Numba@jit-loop-par: Size: 8192 ERF: Numba@jit-loop-par | Size:       8192 | MOPS:       885563.21 | TIME:   0.018501\n",
      "ERF: Numba@jit-loop-par: Size: 16384 ERF: Numba@jit-loop-par | Size:      16384 | MOPS:      1749617.23 | TIME:   0.018729\n",
      "\n",
      "########################################################################\n",
      "# End of output for job 2311532.v-qsvr-1.aidevcloud\n",
      "# Date: Sun 04 Jun 2023 08:06:32 PM PDT\n",
      "########################################################################\n",
      "\n",
      "Job Completed in 19 seconds.\n"
     ]
    }
   ],
   "source": [
    "! chmod 755 q; chmod 755 run_black_sholes_kernel.sh; if [ -x \"$(command -v qsub)\" ]; then ./q run_black_sholes_kernel.sh; else ./run_black_sholes_kernel.sh; fi"
   ]
  },
  {
   "cell_type": "markdown",
   "metadata": {},
   "source": [
    "## Implementation of Black Scholes targeting GPU using Numpy\n",
    "\n",
    "\n",
    "In the following example, we can observe the Black Scholes NumPy implementation and we target the GPU using the NumPy approach.\n",
    "\n",
    "1. Inspect the code cell below and click run ▶ to save the code to a file.\n",
    "2. Next run ▶ the cell in the __Build and Run__ section below the code to compile and execute the code."
   ]
  },
  {
   "cell_type": "code",
   "execution_count": 7,
   "metadata": {},
   "outputs": [
    {
     "name": "stdout",
     "output_type": "stream",
     "text": [
      "Overwriting lab/black_sholes_numpy_graph.py\n"
     ]
    }
   ],
   "source": [
    "%%writefile lab/black_sholes_numpy_graph.py\n",
    "# Copyright (C) 2017-2018 Intel Corporation\n",
    "#\n",
    "# SPDX-License-Identifier: MIT\n",
    "\n",
    "# Copyright (C) 2017-2018 Intel Corporation\n",
    "#\n",
    "# SPDX-License-Identifier: MIT\n",
    "\n",
    "import dpctl\n",
    "import base_bs_erf_graph\n",
    "import numba as nb\n",
    "import numpy as np\n",
    "from numpy import log, exp, sqrt\n",
    "from math import erf\n",
    "from device_selector import get_device_selector\n",
    "\n",
    "# Numba does know erf function from numpy or scipy\n",
    "@nb.vectorize(nopython=True)\n",
    "def nberf(x):\n",
    "    return erf(x)\n",
    "\n",
    "\n",
    "# blackscholes implemented using numpy function calls\n",
    "@nb.jit(nopython=True, parallel=True, fastmath=True)\n",
    "def black_scholes_kernel(nopt, price, strike, t, rate, vol, call, put):\n",
    "    mr = -rate\n",
    "    sig_sig_two = vol * vol * 2\n",
    "\n",
    "    P = price\n",
    "    S = strike\n",
    "    T = t\n",
    "\n",
    "    a = log(P / S)\n",
    "    b = T * mr\n",
    "\n",
    "    z = T * sig_sig_two\n",
    "    c = 0.25 * z\n",
    "    y = 1.0 / sqrt(z)\n",
    "\n",
    "    w1 = (a - b + c) * y\n",
    "    w2 = (a - b - c) * y\n",
    "\n",
    "    d1 = 0.5 + 0.5 * nberf(w1)\n",
    "    d2 = 0.5 + 0.5 * nberf(w2)\n",
    "\n",
    "    Se = exp(b) * S\n",
    "\n",
    "    r = P * d1 - Se * d2\n",
    "    call[:] = r  # temporary `r` is necessary for faster `put` computation\n",
    "    put[:] = r - P + Se\n",
    "\n",
    "\n",
    "def black_scholes(nopt, price, strike, t, rate, vol, call, put):\n",
    "    # offload blackscholes computation to GPU (toggle level0 or opencl driver).\n",
    "    with dpctl.device_context(get_device_selector(is_gpu=True)):\n",
    "        black_scholes_kernel(nopt, price, strike, t, rate, vol, call, put)\n",
    "\n",
    "\n",
    "# call the run function to setup input data and performance data infrastructure\n",
    "base_bs_erf_graph.run(\"Numba@jit-numpy\", black_scholes)"
   ]
  },
  {
   "cell_type": "markdown",
   "metadata": {},
   "source": [
    "### Build and Run\n",
    "Select the cell below and click run ▶ to compile and execute the code:"
   ]
  },
  {
   "cell_type": "code",
   "execution_count": 8,
   "metadata": {},
   "outputs": [
    {
     "name": "stdout",
     "output_type": "stream",
     "text": [
      "Job has been submitted to Intel(R) DevCloud and will execute soon.\n",
      "\n",
      " If you do not see result in 60 seconds, please restart the Jupyter kernel:\n",
      " Kernel -> 'Restart Kernel and Clear All Outputs...' and then try again\n",
      "\n",
      "Job ID                    Name             User            Time Use S Queue\n",
      "------------------------- ---------------- --------------- -------- - -----\n",
      "2311510.v-qsvr-1           ...ub-singleuser u137620         00:00:46 R jupyterhub     \n",
      "2311533.v-qsvr-1           ...umpy_graph.sh u137620                0 Q batch          \n",
      "\n",
      "Waiting for Output ████████████████████ Done⬇\n",
      "\n",
      "########################################################################\n",
      "#      Date:           Sun 04 Jun 2023 08:06:37 PM PDT\n",
      "#    Job ID:           2311533.v-qsvr-1.aidevcloud\n",
      "#      User:           u137620\n",
      "# Resources:           cput=75:00:00,neednodes=1:gpu:ppn=2,nodes=1:gpu:ppn=2,walltime=06:00:00\n",
      "########################################################################\n",
      "\n",
      "## u137620 is compiling AI numba-dpex essentials Module4 -- Black scholess - 4 of 4 black_sholes_numpy.py\n",
      "ERF: Numba@jit-numpy: Size: 1024 ERF: Numba@jit-numpy | Size:       1024 | MOPS:      4835994.14 | TIME:   0.000423\n",
      "ERF: Numba@jit-numpy: Size: 2048 ERF: Numba@jit-numpy | Size:       2048 | MOPS:     17495053.51 | TIME:   0.000234\n",
      "ERF: Numba@jit-numpy: Size: 4096 ERF: Numba@jit-numpy | Size:       4096 | MOPS:     36215201.59 | TIME:   0.000226\n",
      "ERF: Numba@jit-numpy: Size: 8192 ERF: Numba@jit-numpy | Size:       8192 | MOPS:     43151312.64 | TIME:   0.000380\n",
      "ERF: Numba@jit-numpy: Size: 16384 ERF: Numba@jit-numpy | Size:      16384 | MOPS:     61017876.62 | TIME:   0.000537\n",
      "\n",
      "########################################################################\n",
      "# End of output for job 2311533.v-qsvr-1.aidevcloud\n",
      "# Date: Sun 04 Jun 2023 08:06:46 PM PDT\n",
      "########################################################################\n",
      "\n",
      "Job Completed in 20 seconds.\n"
     ]
    }
   ],
   "source": [
    "! chmod 755 q; chmod 755 run_black_sholes_numpy_graph.sh; if [ -x \"$(command -v qsub)\" ]; then ./q run_black_sholes_numpy_graph.sh; else ./run_black_sholes_numpy_graph.sh; fi"
   ]
  },
  {
   "cell_type": "markdown",
   "metadata": {
    "tags": []
   },
   "source": [
    "# Plot GPU Results\n",
    "\n",
    "The algorithm below is detecting Calls and Puts verses Current price for a strike price in range 23 to 25 and plots the results in a graph as shown below. "
   ]
  },
  {
   "cell_type": "markdown",
   "metadata": {
    "tags": []
   },
   "source": [
    "### View the results\n",
    "Select the cell below and click run ▶ to view the graph:"
   ]
  },
  {
   "cell_type": "code",
   "execution_count": 9,
   "metadata": {},
   "outputs": [
    {
     "data": {
      "image/png": "[encoded data removed]",
      "text/plain": [
       "<Figure size 640x480 with 1 Axes>"
      ]
     },
     "metadata": {},
     "output_type": "display_data"
    }
   ],
   "source": [
    "from matplotlib import pyplot as plt \n",
    "import numpy as np \n",
    "\n",
    "def read_dictionary(fn):\n",
    "    import joblib\n",
    "    # Load data (deserialize)\n",
    "    with open(fn, 'rb') as handle:\n",
    "        dictionary = joblib.load(handle)\n",
    "    return dictionary\n",
    "resultsDict = read_dictionary('resultsDict.dat')\n",
    "limit = 10\n",
    "call = resultsDict['call']\n",
    "put = resultsDict['put']\n",
    "price = resultsDict['price']\n",
    "strike = resultsDict['strike']\n",
    "\n",
    "plt.style.use('dark_background')\n",
    "priceRange = [23.0, 23.5]\n",
    "# strikeIndex = np.where((price >= priceRange[0]) & (price < priceRange[1]) )[0]\n",
    "# plt.scatter(strike[strikeIndex], put[strikeIndex], c= 'r', s = 2, alpha = 1, label = 'puts')\n",
    "# plt.scatter(strike[strikeIndex], call[strikeIndex], c= 'b', s = 2, alpha = 1, label = 'calls')\n",
    "# plt.title('Calls and Puts verses Strike for a current price in range {}'.format(priceRange))\n",
    "# plt.ylabel('Option Price [$]')\n",
    "# plt.xlabel('Strike Price [$]')\n",
    "# plt.legend()\n",
    "# plt.grid()\n",
    "\n",
    "strikeRange = [23.0, 23.5]\n",
    "strikeIndex = np.where((strike >= strikeRange[0]) & (strike < strikeRange[1]) )[0]\n",
    "plt.scatter(price[strikeIndex], put[strikeIndex], c= 'r', s = 2, alpha = 1, label = 'puts')\n",
    "plt.scatter(price[strikeIndex], call[strikeIndex], c= 'b', s = 2, alpha = 1, label = 'calls')\n",
    "plt.title('Calls and Puts verses Current price for a strike price in range {}'.format(priceRange))\n",
    "plt.ylabel('Option Price [$]')\n",
    "plt.xlabel('Current Price [$]')\n",
    "plt.legend()\n",
    "plt.grid()\n"
   ]
  },
  {
   "cell_type": "markdown",
   "metadata": {},
   "source": [
    "_If the Jupyter cells are not responsive or if they error out when you compile the code samples, please restart the Jupyter Kernel: \n",
    "\"Kernel->Restart Kernel and Clear All Outputs\" and compile the code samples again__"
   ]
  },
  {
   "cell_type": "markdown",
   "metadata": {
    "tags": []
   },
   "source": [
    "### Advsior Roofline Report\n",
    "\n",
    "A Roofline chart is a visual representation of application performance in relation to hardware limitations, including memory bandwidth and computational peaks.  Intel Advisor includes an automated Roofline tool that measures and plots the chart on its own, so all you need to do is read it.\n",
    "\n",
    "The chart can be used to identify not only where bottlenecks exist, but what’s likely causing them, and which ones will provide the most speedup if optimized.\n",
    "\n",
    "The Survey is usually the first analysis you want to run with Intel® Advisor. The survey is mainly used to time your application as well as the different loops and functions. \n",
    "\n",
    "The second step is to run the trip count analysis. This step uses instrumentation to count how many iterations you are running in each loops. Adding the option -flop will also provide the precise number of operations executed in each of your code sections.\n",
    "\n",
    "Execute the following line to display the roofline results \n"
   ]
  },
  {
   "cell_type": "markdown",
   "metadata": {},
   "source": [
    "* Run the Survey analysis with the --profile-gpu option\n",
    "\n",
    "```\n",
    "advisor --collect=survey --profile-gpu -run-pass-thru=--no-altstack -project-dir=roofline --search-dir src:r=. python lab/black_sholes_kernel.py --steps 1 --size 268435456 --repeat 5 --json result_gpu.json --usm\n",
    "```\n",
    "* Run the Trip Counts and FLOP analysis with --profile-gpu option:\n",
    "\n",
    "```\n",
    "advisor --collect=tripcounts --profile-gpu --project-dir=roofline \"--search-dir src:r=.\" --flop --no-trip-counts python lab/black_sholes_kernel.py --steps 1 --size 268435456 --repeat 5 --json result_gpu.json --usm\n",
    "```\n",
    "* Generate a GPU Roofline report:\n",
    "\n",
    "```\n",
    "advisor --report=roofline --gpu --project-dir=roofline --report-output=roofline/roofline.html\n",
    "```"
   ]
  },
  {
   "cell_type": "markdown",
   "metadata": {
    "tags": []
   },
   "source": [
    "### Advisor Roofline Report\n",
    "\n",
    "Execute the following line to display the roofline results \n"
   ]
  },
  {
   "cell_type": "code",
   "execution_count": 10,
   "metadata": {},
   "outputs": [
    {
     "data": {
      "application/vnd.jupyter.widget-view+json": {
       "model_id": "06531fc4892c499293fe0a25709f2e79",
       "version_major": 2,
       "version_minor": 0
      },
      "text/plain": [
       "Tab(children=(Output(),), selected_index=0, titles=('GPU',))"
      ]
     },
     "metadata": {},
     "output_type": "display_data"
    },
    {
     "data": {
      "text/html": [
       "\n",
       "        <iframe\n",
       "            width=\"1024\"\n",
       "            height=\"768\"\n",
       "            src=\"reports/roofline_227.html\"\n",
       "            frameborder=\"0\"\n",
       "            allowfullscreen\n",
       "            \n",
       "        ></iframe>\n",
       "        "
      ],
      "text/plain": [
       "<IPython.lib.display.IFrame at 0x7f8e3d4bad00>"
      ]
     },
     "metadata": {},
     "output_type": "display_data"
    }
   ],
   "source": [
    "run lab/mm_basic_roofline.py"
   ]
  },
  {
   "cell_type": "markdown",
   "metadata": {},
   "source": [
    "## Genrating the Vtune reports\n",
    "Below exercises we use VTune™  analyzer as a way to see what is going on with each implementation. The information was the high-level hotspot generated from the collection and rendered in an HTML iframe. Depending on the options chosen, many of the VTune analyzer's performance collections can be rendered via HTML pages. The below vtune scripts collect GPU offload and GPU hotspots information.\n",
    "```\n",
    "vtune -run-pass-thru=--no-altstack -collect=gpu-offload -result-dir=vtune_dir python lab/black_sholes_kernel.py --steps 1 --size 268435456 --repeat 5 --json result_gpu.json --usm\n",
    "```\n",
    "\n",
    "```\n",
    "vtune -run-pass-thru=--no-altstack -collect=gpu-hotspots -result-dir=vtune_hotspots_dir_new python lab/black_sholes_kernel.py --steps 1 --size 268435456 --repeat 5 --json result_gpu.json --usm\n",
    "```\n",
    "\n",
    "```\n",
    "vtune -report summary -result-dir vtune_dir -format html -report-output output.html\n",
    "```\n",
    "\n",
    "```\n",
    "vtune -report summary -result-dir vtune_hotspots_dir -format html -report-output output_hotspots.html\n",
    "```"
   ]
  },
  {
   "cell_type": "code",
   "execution_count": 11,
   "metadata": {},
   "outputs": [
    {
     "data": {
      "application/vnd.jupyter.widget-view+json": {
       "model_id": "b4fe3416d6c34532b36e536aeb4d04d2",
       "version_major": 2,
       "version_minor": 0
      },
      "text/plain": [
       "Tab(children=(Output(), Output(), Output(), Output(), Output()), selected_index=0, titles=('CPU', 'GPU USM', '…"
      ]
     },
     "metadata": {},
     "output_type": "display_data"
    },
    {
     "data": {
      "text/html": [
       "\n",
       "        <iframe\n",
       "            width=\"1024\"\n",
       "            height=\"768\"\n",
       "            src=\"reports/bl_cpu.html\"\n",
       "            frameborder=\"0\"\n",
       "            allowfullscreen\n",
       "            \n",
       "        ></iframe>\n",
       "        "
      ],
      "text/plain": [
       "<IPython.lib.display.IFrame at 0x7f8e785128e0>"
      ]
     },
     "metadata": {},
     "output_type": "display_data"
    },
    {
     "data": {
      "text/html": [
       "\n",
       "        <iframe\n",
       "            width=\"1024\"\n",
       "            height=\"768\"\n",
       "            src=\"reports/bl_usm_output.html\"\n",
       "            frameborder=\"0\"\n",
       "            allowfullscreen\n",
       "            \n",
       "        ></iframe>\n",
       "        "
      ],
      "text/plain": [
       "<IPython.lib.display.IFrame at 0x7f8e78511340>"
      ]
     },
     "metadata": {},
     "output_type": "display_data"
    },
    {
     "data": {
      "text/html": [
       "\n",
       "        <iframe\n",
       "            width=\"1024\"\n",
       "            height=\"768\"\n",
       "            src=\"reports/bl_usm_hotspots_output.html\"\n",
       "            frameborder=\"0\"\n",
       "            allowfullscreen\n",
       "            \n",
       "        ></iframe>\n",
       "        "
      ],
      "text/plain": [
       "<IPython.lib.display.IFrame at 0x7f8e785128b0>"
      ]
     },
     "metadata": {},
     "output_type": "display_data"
    },
    {
     "data": {
      "text/html": [
       "\n",
       "        <iframe\n",
       "            width=\"1024\"\n",
       "            height=\"768\"\n",
       "            src=\"reports/output_repeat5.html\"\n",
       "            frameborder=\"0\"\n",
       "            allowfullscreen\n",
       "            \n",
       "        ></iframe>\n",
       "        "
      ],
      "text/plain": [
       "<IPython.lib.display.IFrame at 0x7f8e785128b0>"
      ]
     },
     "metadata": {},
     "output_type": "display_data"
    },
    {
     "data": {
      "text/html": [
       "\n",
       "        <iframe\n",
       "            width=\"1024\"\n",
       "            height=\"768\"\n",
       "            src=\"reports/output_hotspots_repeat5.html\"\n",
       "            frameborder=\"0\"\n",
       "            allowfullscreen\n",
       "            \n",
       "        ></iframe>\n",
       "        "
      ],
      "text/plain": [
       "<IPython.lib.display.IFrame at 0x7f8e785128b0>"
      ]
     },
     "metadata": {},
     "output_type": "display_data"
    }
   ],
   "source": [
    "run lab/mm_basic_vtune.py"
   ]
  },
  {
   "cell_type": "markdown",
   "metadata": {},
   "source": [
    "## Summary\n",
    "In this module you will have learned the following:\n",
    "* Numba implementation of Black Scholes targeting a CPU and GPU using Numba JIT\n",
    "* Numba-dpex  implementation of Black Scholes on a CPU and GPU using the kernel approach\n",
    "* Numba-dpex  implementation of Black Scholes on a GPU using Numpy approach"
   ]
  }
 ],
 "metadata": {
  "kernelspec": {
   "display_name": "Python 3 (Intel® oneAPI 2023.1)",
   "language": "python",
   "name": "c009-intel_distribution_of_python_3_oneapi-beta05-python"
  },
  "language_info": {
   "codemirror_mode": {
    "name": "ipython",
    "version": 3
   },
   "file_extension": ".py",
   "mimetype": "text/x-python",
   "name": "python",
   "nbconvert_exporter": "python",
   "pygments_lexer": "ipython3",
   "version": "3.9.16"
  },
  "toc": {
   "base_numbering": 1,
   "nav_menu": {},
   "number_sections": true,
   "sideBar": true,
   "skip_h1_title": false,
   "title_cell": "Table of Contents",
   "title_sidebar": "Contents",
   "toc_cell": false,
   "toc_position": {
    "height": "525.6px",
    "left": "28px",
    "top": "137.8px",
    "width": "301.09px"
   },
   "toc_section_display": true,
   "toc_window_display": true
  },
  "widgets": {
   "application/vnd.jupyter.widget-state+json": {
    "state": {},
    "version_major": 2,
    "version_minor": 0
   }
  }
 },
 "nbformat": 4,
 "nbformat_minor": 4
}
