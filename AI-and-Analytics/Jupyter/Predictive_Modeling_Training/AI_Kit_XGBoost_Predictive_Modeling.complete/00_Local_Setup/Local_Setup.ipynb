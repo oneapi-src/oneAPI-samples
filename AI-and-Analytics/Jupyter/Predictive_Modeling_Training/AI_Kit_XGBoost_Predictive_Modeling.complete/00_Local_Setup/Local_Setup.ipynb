{
 "cells": [
  {
   "cell_type": "markdown",
   "id": "3f394440-3212-4fbc-951e-0dd20bc128ab",
   "metadata": {},
   "source": [
    "# Bootstrap Your Local Setup\n",
    "\n",
    "There are multiple methods to setup your environment to take advantage of Intel software optimizations.  If you are interested in running these exercises locally pick the method that appeals to your style of development.  Using one of these methods is required to take advantage of Intel software optimizations. \n",
    "\n",
    "* All these install methods assume an environment using Ubuntu >= 20.04.05 LTS.  This can be on bare metal or running on WSL2 on Windows 10/11."
   ]
  },
  {
   "cell_type": "markdown",
   "id": "6bd52b0f-028b-4745-9fcb-2228f45ebbfb",
   "metadata": {},
   "source": [
    "## Anaconda Setup\n",
    "\n",
    "Anaconda and the Intel Distribution of Python are the bare minumim required to install in order to take advantage of Intel optimizations.\n",
    "\n",
    "* [Download and install the latest version of Anaconda](https://www.anaconda.com/products/distribution#Downloads)"
   ]
  },
  {
   "cell_type": "markdown",
   "id": "86534b62-7296-431d-9353-5c25d853c47e",
   "metadata": {},
   "source": [
    "## Intel Distribution of Python\n",
    "\n",
    "* High-Performance Python:  \n",
    "\n",
    "    * Take advantage of the most popular and fastest growing programming language with underlying instruction sets optimized for Intel® architectures.\n",
    "    * Achieve near-native performance through acceleration of core Python numerical and scientific packages that are built using Intel® Performance Libraries.\n",
    "    * Achieve highly efficient multithreading, vectorization, and memory management, and scale scientific computations efficiently across a cluster.\n",
    "    * Core packages include Numba, NumPy, SciPy, and more.\n",
    "    \n",
    "\n",
    "    \n",
    "* __Step 1__: Add the Intel Distribution for python Anaconda channel, this will set the Intel packages over default packages, add the Intel channel as follows:\n",
    "\n",
    "          conda config --add channels intel\n",
    "       \n",
    "* __Step 2__: To install the latest full Intel python distribution enter the following:\n",
    "\n",
    "          conda create -n idp intelpython3_full python=3    \n",
    "        \n",
    "* __Step 3__: Activate your virtual environment with  \n",
    "\n",
    "          conda activate idp  \n",
    "    \n",
    "* __Step 4__: Now, you have the virtual environment with intel-python installed.  Now you have to install jupyter-lab additionally for the new environment with this command (after the activation of the environment with the command above):\n",
    "\n",
    " \n",
    "          conda install -c conda-forge jupyterlab\n",
    "               \n",
    "    \n",
    "    [The latest release notes and links to forums for the Intel Distribution for Python can be found here](https://www.intel.com/content/www/us/en/developer/articles/release-notes/distribution-for-python-release-notes.html)\n",
    "    \n",
    "* __Step 5__: Run Jupyter from your home directory:\n",
    "\n",
    "          jupyterlab"
   ]
  },
  {
   "cell_type": "markdown",
   "id": "0e215fa2-06aa-451d-9434-f63188f311be",
   "metadata": {},
   "source": [
    "## Use APT Package Manager to Install the Intel® AI Analytics Toolkit\n",
    "\n",
    "If you want to use your distributions package manager to keep all of the Intel optimized software up to date, the following method could be of interest.  This provides a bit more software but has the added convenience of just automatically updating along with the rest of your system.\n",
    "\n",
    "## Intel® AI Analytics Toolkit\n",
    "\n",
    "The following additional packages will be installed:\n",
    "\n",
    "  * intel-aikit-getting-started intel-oneapi-model-zoo intel-oneapi-modin intel-oneapi-neural-compressor intel-oneapi-pytorch intel-oneapi-tensorflow (~6500 MB)\n",
    "  \n",
    "   * End-to-End AI and Machine Learning Acceleration\n",
    "\n",
    "        * Intel® Distribution for Python* including highly-optimized scikit-learn and XGBoost libraries\n",
    "        * Intel® Optimization for PyTorch*\n",
    "        * Intel® Optimization for TensorFlow*\n",
    "        * Intel® Optimization of Modin* (available through Anaconda* only)\n",
    "        * Intel® Neural Compressor\n",
    "        * Model Zoo for Intel® architecture"
   ]
  },
  {
   "cell_type": "markdown",
   "id": "32b30c30-8b6d-433e-9e43-f6d99a0a4b97",
   "metadata": {
    "tags": []
   },
   "source": [
    "## Add the Intel repositories to your system keyring\n",
    "\n",
    "__Step 1:__\n",
    "\n",
    "#### Download the key to system keyring\n",
    "wget -O- https://apt.repos.intel.com/intel-gpg-keys/GPG-PUB-KEY-INTEL-SW-PRODUCTS.PUB | gpg --dearmor | sudo tee /usr/share/keyrings/oneapi-archive-keyring.gpg > /dev/null\n",
    "\n",
    "#### Add signed entry to apt sources and configure the APT client to use Intel repository:\n",
    "echo \"deb [signed-by=/usr/share/keyrings/oneapi-archive-keyring.gpg] https://apt.repos.intel.com/oneapi all main\" | sudo tee /etc/apt/sources.list.d/oneAPI.list\n",
    "\n",
    "__Step 2:__  \n",
    "\n",
    "        sudo apt update\n",
    "        sudo apt upgrade\n",
    "        \n",
    "* After the upgrade the Intel oneAPI intel-aikit as well as all the [toolkits](https://www.intel.com/content/www/us/en/develop/documentation/installation-guide-for-intel-oneapi-toolkits-linux/top/installation/install-using-package-managers/apt.html) will be available for install.\n",
    "\n",
    "__Step 3:__\n",
    "\n",
    "        sudo apt install intel-aikit\n",
    "\n",
    "* After the install which will take some time your environment should look similar to the one below:\n",
    "\n",
    "\n",
    "__Step 4:__\n",
    "\n",
    "* Exit the terminal session and restart a new one, it will then be necessary to initialize the environment.\n",
    "\n",
    "        source /opt/intel/oneapi/setvars.sh\n",
    "        \n",
    "        conda env list\n",
    "        \n",
    "* If all went well the below environments should be available.\n",
    "\n",
    "\n",
    "```\n",
    "base                  *  /opt/intel/oneapi/2023.0.1/oneapi/intelpython/latest\n",
    "2023.0.0                 /opt/intel/oneapi/2023.0.1/oneapi/intelpython/latest/envs/2023.0.0\n",
    "modin                    /opt/intel/oneapi/2023.0.1/oneapi/intelpython/latest/envs/modin\n",
    "pytorch                  /opt/intel/oneapi/2023.0.1/oneapi/intelpython/latest/envs/pytorch\n",
    "pytorch-gpu              /opt/intel/oneapi/2023.0.1/oneapi/intelpython/latest/envs/pytorch-gpu\n",
    "tensorflow               /opt/intel/oneapi/2023.0.1/oneapi/intelpython/latest/envs/tensorflow\n",
    "tensorflow-gpu           /opt/intel/oneapi/2023.0.1/oneapi/intelpython/latest/envs/tensorflow-gpu\n",
    "```\n",
    "\n",
    "        \n",
    "__Step 5:__\n",
    "\n",
    "* Pick the environment that you want to use and add jupyter to it or create a new environment.\n",
    "\n",
    "        conda install -c conda-forge jupyterlab\n",
    "    \n",
    "__Step 6:__\n",
    "\n",
    "* If running on a local install of Ubuntu enter the below in the terminal:\n",
    "\n",
    "        jupyter lab\n",
    "        \n",
    "* If running on wsl2 \n",
    "\n",
    "        jupyter lab --no-browser\n",
    "        \n"
   ]
  },
  {
   "cell_type": "markdown",
   "id": "78d5d866-61db-4a59-925a-acf8f8e96a73",
   "metadata": {},
   "source": [
    "# Intel DevCloud"
   ]
  },
  {
   "cell_type": "markdown",
   "id": "df088d89-7351-4278-9e2f-e2002b33075f",
   "metadata": {},
   "source": [
    "If you are in a hurry and just want to get going immediately with zero software install required [Sign up for the Intel DevCloud](https://devcloud.intel.com/oneapi/get_started/).  It takes just a few minutes and all the software and more are installed and preconfigured ready to run.  It's free and all you will need for access is a browser.  After you have your account execute the below cell to populate the datasets and notebooks."
   ]
  },
  {
   "cell_type": "code",
   "execution_count": null,
   "id": "e15ba404-7359-4fa1-a620-168d151f43f7",
   "metadata": {},
   "outputs": [],
   "source": [
    "! rsync -avhP /data/oneapi_workshops/AI_Kit_XGBoost_Predictive_Modeling ~/AI_Kit_XGBoost_Predictive_Modeling"
   ]
  }
 ],
 "metadata": {
  "kernelspec": {
   "display_name": "Python 3 (Intel® oneAPI 2023.0)",
   "language": "python",
   "name": "c009-intel_distribution_of_python_3_oneapi-beta05-python"
  },
  "language_info": {
   "codemirror_mode": {
    "name": "ipython",
    "version": 3
   },
   "file_extension": ".py",
   "mimetype": "text/x-python",
   "name": "python",
   "nbconvert_exporter": "python",
   "pygments_lexer": "ipython3",
   "version": "3.9.15"
  }
 },
 "nbformat": 4,
 "nbformat_minor": 5
}
