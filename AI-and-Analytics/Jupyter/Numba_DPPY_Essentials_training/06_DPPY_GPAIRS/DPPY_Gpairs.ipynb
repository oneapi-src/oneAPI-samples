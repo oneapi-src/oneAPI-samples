{
 "cells": [
  {
   "cell_type": "markdown",
   "metadata": {},
   "source": [
    "# GPAIRS Algorithm using Numba-Dppy"
   ]
  },
  {
   "cell_type": "markdown",
   "metadata": {
    "tags": []
   },
   "source": [
    "\n",
    "## Sections\n",
    "- [Gpairs algorithm](#Gpairs-algorithm)\n",
    "- _Code:_ [Implementation of Gpairs distance targeting CPU using Numba JIT](#Implementation-of-Gpairs-targeting-CPU-using-Numba-JIT)\n",
    "- _Code:_ [Implementation of GPairs targeting GPU using Kernels](#Implementation-of-Gpairs-targeting-GPU-using-Kernel)\n",
    "- _Code:_ [Plot the results for Gpairs on GPU](#Plot-the-results-for-Gpairs-on-GPU)"
   ]
  },
  {
   "cell_type": "markdown",
   "metadata": {},
   "source": [
    "## Learning Objectives\n",
    "* Build a Numba implementation of Gpairs targeting CPU and GPU using Numba Jit\n",
    "* Build a  Numba-DPPY  implementation of Gpairs on CPU and GPU using Kernel approach"
   ]
  },
  {
   "cell_type": "markdown",
   "metadata": {},
   "source": [
    "## numba-dppy\n",
    "\n",
    "Numba-dppy is a standalone extension to the Numba JIT compiler that adds SYCL programming capabilities to Numba. Numba-dppy is packaged as part of the IDP that comes with oneAPI base toolkit, and you don’t need to install any specific Conda packages. The support for SYCL is via DPC++'s SYCL runtime and other SYCL compilers are not supported by Numba-dppy.\n",
    "\n"
   ]
  },
  {
   "cell_type": "markdown",
   "metadata": {},
   "source": [
    "## Gpairs algorithm\n",
    "The Gpairs distance application takes a set of multidimensional points and computes the Euclidean distance between every pair of points. For n observations, a common sub-task of different data analysis algorithms is to compute the symmetric matrix of distances between each pair of observations.\n",
    "\n",
    "The algorithm Naively counts Npairs(<r), the total number of pairs that are separated by a distance less than r, for each r**2 in the input rbins_squared.\n"
   ]
  },
  {
   "cell_type": "markdown",
   "metadata": {},
   "source": [
    "# Implementation of Gpairs targeting CPU using Numba JIT\n",
    "In the following example, we introduce to a Gapirs pairwise distance implementation that targets a CPU using the Numba JIT.\n",
    "\n",
    "This is the decorator-based approach, where we offload data parallel code sections like parallel-for, and certain NumPy function calls. With the decorator method, a programmer needs to simply identify the most time-consuming parts of the program. If those parts can be parallelized, the programmer needs to just annotate those sections using Numba-DPPy, and can expect those code sections to execute on a GPU.\n"
   ]
  },
  {
   "cell_type": "markdown",
   "metadata": {},
   "source": [
    "\n",
    "1. Inspect the code cell below and click run ▶ to save the code to a file.\n",
    "2. Next run ▶ the cell in the __Build and Run__ section below the code to compile and execute the code."
   ]
  },
  {
   "cell_type": "code",
   "execution_count": null,
   "metadata": {},
   "outputs": [],
   "source": [
    "%%writefile lab/gpairs.py\n",
    "\n",
    "# Copyright (C) 2017-2018 Intel Corporation\n",
    "#\n",
    "# SPDX-License-Identifier: MIT\n",
    "\n",
    "import base_gpairs\n",
    "import numpy as np\n",
    "from gaussian_weighted_pair_counts import count_weighted_pairs_3d_cpu\n",
    "\n",
    "def run_gpairs(x1, y1, z1, w1, x2, y2, z2, w2, d_rbins_squared):\n",
    "    x1 = x1.astype(np.float32)\n",
    "    y1 = y1.astype(np.float32)\n",
    "    z1 = z1.astype(np.float32)\n",
    "    w1 = w1.astype(np.float32)\n",
    "    x2 = x2.astype(np.float32)\n",
    "    y2 = y2.astype(np.float32)\n",
    "    z2 = z2.astype(np.float32)\n",
    "    w2 = w2.astype(np.float32)\n",
    "\n",
    "    result = np.zeros_like(d_rbins_squared)[:-1]\n",
    "    result = result.astype(np.float32)\n",
    "    results_test = np.zeros_like(result).astype(np.float64)\n",
    "    count_weighted_pairs_3d_cpu(\n",
    "        x1, y1, z1, w1, x2, y2, z2, w2, d_rbins_squared.astype(np.float32), results_test)\n",
    "\n",
    "base_gpairs.run(\"Gpairs Numba\",run_gpairs) "
   ]
  },
  {
   "cell_type": "markdown",
   "metadata": {},
   "source": [
    "### Build and Run\n",
    "Select the cell below and click run ▶ to compile and execute the code:"
   ]
  },
  {
   "cell_type": "code",
   "execution_count": null,
   "metadata": {},
   "outputs": [],
   "source": [
    "! chmod 755 q; chmod 755 run_gpairs_jit.sh; if [ -x \"$(command -v qsub)\" ]; then ./q run_gpairs_jit.sh; else ./run_gpairs_jit.sh; fi"
   ]
  },
  {
   "cell_type": "markdown",
   "metadata": {},
   "source": [
    "_If the Jupyter cells are not responsive or if they error out when you compile the code samples, please restart the Jupyter Kernel: \n",
    "\"Kernel->Restart Kernel and Clear All Outputs\" and compile the code samples again__"
   ]
  },
  {
   "cell_type": "markdown",
   "metadata": {},
   "source": [
    "# Implementation of Gpairs targeting GPU using Kernel\n",
    "\n",
    "## Writing Explicit Kernels in numba-dppy\n",
    "\n",
    "Writing a SYCL kernel using the `@numba_dppy.kernel` decorator has similar syntax to writing OpenCL kernels. As such, the numba-dppy module provides similar indexing and other functions as OpenCL. The indexing functions supported inside a `numba_dppy.kernel` are:\n",
    "\n",
    "* numba_dppy.get_local_id : Gets the local ID of the item\n",
    "* numba_dppy.get_local_size: Gets the local work group size of the device\n",
    "* numba_dppy.get_group_id : Gets the group ID of the item\n",
    "* numba_dppy.get_num_groups: Gets the number of gropus in a worksgroup\n",
    "\n",
    "Refer https://intelpython.github.io/numba-dppy/latest/user_guides/kernel_programming_guide/index.html for more details.\n",
    "\n",
    "In the following example we use the dppy-kernel approach for explicit kernel programming where, if the programmer wants to extract further performance from the offloaded code, the programmer can use the explicit kernel programming approach using dppy-kernels and tune the GPU parameters, where we take advantage of the workgroups and the work items in a device using the kernel approach."
   ]
  },
  {
   "cell_type": "markdown",
   "metadata": {},
   "source": [
    "\n",
    "1. Inspect the code cell below and click run ▶ to save the code to a file.\n",
    "2. Next run ▶ the cell in the __Build and Run__ section below the code to compile and execute the code."
   ]
  },
  {
   "cell_type": "code",
   "execution_count": null,
   "metadata": {},
   "outputs": [],
   "source": [
    "%%writefile lab/gpairs_gpu.py\n",
    "\n",
    "# Copyright (C) 2017-2018 Intel Corporation\n",
    "#\n",
    "# SPDX-License-Identifier: MIT\n",
    "\n",
    "import base_gpairs_gpu\n",
    "import numpy as np\n",
    "import gaussian_weighted_pair_counts_gpu as gwpc\n",
    "import numba_dppy\n",
    "import dpctl\n",
    "\n",
    "\n",
    "def run_gpairs(\n",
    "    d_x1, d_y1, d_z1, d_w1, d_x2, d_y2, d_z2, d_w2, d_rbins_squared, d_result\n",
    "):\n",
    "    blocks = 512\n",
    "\n",
    "    with dpctl.device_context(base_gpairs_gpu.get_device_selector()):\n",
    "        gwpc.count_weighted_pairs_3d_intel_ver2[\n",
    "            d_x1.shape[0], numba_dppy.DEFAULT_LOCAL_SIZE\n",
    "        ](d_x1, d_y1, d_z1, d_w1, d_x2, d_y2, d_z2, d_w2, d_rbins_squared, d_result)\n",
    "\n",
    "\n",
    "base_gpairs_gpu.run(\"Gpairs Dppy kernel\", run_gpairs)"
   ]
  },
  {
   "cell_type": "markdown",
   "metadata": {},
   "source": [
    "### Build and Run\n",
    "Select the cell below and click run ▶ to compile and execute the code:"
   ]
  },
  {
   "cell_type": "code",
   "execution_count": null,
   "metadata": {},
   "outputs": [],
   "source": [
    "! chmod 755 q; chmod 755 run_gpairs_jit_gpu.sh; if [ -x \"$(command -v qsub)\" ]; then ./q run_gpairs_jit_gpu.sh; else ./run_gpairs_jit_gpu.sh; fi"
   ]
  },
  {
   "cell_type": "markdown",
   "metadata": {},
   "source": [
    "_If the Jupyter cells are not responsive or if they error out when you compile the code samples, please restart the Jupyter Kernel: \n",
    "\"Kernel->Restart Kernel and Clear All Outputs\" and compile the code samples again__"
   ]
  },
  {
   "cell_type": "markdown",
   "metadata": {},
   "source": [
    "## Plot the results for Gpairs on GPU\n",
    "\n",
    "The algorithm Naively counts Npairs(<r), the total number of pairs that are separated by a distance less than r, for each r**2 in the input rbins_squared.\n",
    "\n",
    "In the below graphs you will see a three dimensional view of the points and the second plot you can see the logirthmtic view of the __results__ that are computed based on the distance less than the distance defeined by the RBINS_SQUARED.\n",
    "\n",
    "1. Inspect the code cell below and click run ▶ to save the code to a file.\n",
    "2. Next run ▶ the cell in the __Build and Run__ section below the code to compile and execute the code."
   ]
  },
  {
   "cell_type": "code",
   "execution_count": null,
   "metadata": {},
   "outputs": [],
   "source": [
    "%%writefile lab/gpairs_gpu_graph.py\n",
    "\n",
    "# Copyright (C) 2017-2018 Intel Corporation\n",
    "#\n",
    "# SPDX-License-Identifier: MIT\n",
    "\n",
    "import base_gpairs_gpu_graph\n",
    "import numpy as np\n",
    "import gaussian_weighted_pair_counts_gpu as gwpc\n",
    "import numba_dppy\n",
    "import dpctl\n",
    "\n",
    "\n",
    "def run_gpairs(\n",
    "    d_x1, d_y1, d_z1, d_w1, d_x2, d_y2, d_z2, d_w2, d_rbins_squared, d_result\n",
    "):\n",
    "    blocks = 512\n",
    "\n",
    "    with dpctl.device_context(base_gpairs_gpu_graph.get_device_selector()):\n",
    "        gwpc.count_weighted_pairs_3d_intel_ver2[\n",
    "            d_x1.shape[0], numba_dppy.DEFAULT_LOCAL_SIZE\n",
    "        ](d_x1, d_y1, d_z1, d_w1, d_x2, d_y2, d_z2, d_w2, d_rbins_squared, d_result)\n",
    "\n",
    "\n",
    "base_gpairs_gpu_graph.run(\"Gpairs Dppy kernel\", run_gpairs)"
   ]
  },
  {
   "cell_type": "markdown",
   "metadata": {},
   "source": [
    "### Build and Run\n",
    "Select the cell below and click run ▶ to compile and execute the code:"
   ]
  },
  {
   "cell_type": "code",
   "execution_count": null,
   "metadata": {},
   "outputs": [],
   "source": [
    "! chmod 755 q; chmod 755 run_gpairs_jit_gpu_graph.sh; if [ -x \"$(command -v qsub)\" ]; then ./q run_gpairs_jit_gpu_graph.sh; else ./run_gpairs_jit_gpu_graph.sh; fi"
   ]
  },
  {
   "cell_type": "markdown",
   "metadata": {
    "tags": []
   },
   "source": [
    "### View the results\n",
    "Select the cell below and click run ▶ to view the graph:"
   ]
  },
  {
   "cell_type": "code",
   "execution_count": null,
   "metadata": {},
   "outputs": [],
   "source": [
    "def read_dictionary(fn):\n",
    "    import pickle\n",
    "    # Load data (deserialize)\n",
    "    with open(fn, 'rb') as handle:\n",
    "        dictionary = pickle.load(handle)\n",
    "    return dictionary\n",
    "resultsDict = read_dictionary('resultsDict.pkl')\n",
    "limit = 10\n",
    "#D = resultsDict['D'][:limit,:limit]\n",
    "X1 = resultsDict['X1'][:limit]\n",
    "Y1 = resultsDict['Y1'][:limit]\n",
    "Z1 = resultsDict['Z1'][:limit]\n",
    "X2 = resultsDict['X2'][:limit]\n",
    "Y2 = resultsDict['Y2'][:limit]\n",
    "Z2 = resultsDict['Z2'][:limit]\n",
    "result = resultsDict['result']\n",
    "RBINS_SQAURED = resultsDict['DEFAULT_RBINS_SQUARED']\n",
    "#print(result)\n",
    "from matplotlib import pyplot as plt\n",
    "from mpl_toolkits.mplot3d import Axes3D\n",
    "import numpy as np \n",
    "Radius = .92\n",
    "index = np.where(result < Radius)\n",
    "plt.style.use('dark_background')\n",
    "#plt.gcf().set_size_inches((12, 5))\n",
    "# plt.grid()\n",
    "fig = plt.figure(figsize=(8,8))\n",
    "ax = fig.add_subplot(111, projection='3d')\n",
    "ax.scatter(X1, Y1, Z1, c='blue', s = 40, alpha = .8)\n",
    "ax.scatter(X2, Y2, Z2, c='y', s = 40, alpha = .8)\n",
    "plt.show()"
   ]
  },
  {
   "cell_type": "code",
   "execution_count": null,
   "metadata": {},
   "outputs": [],
   "source": [
    "plt.figure(figsize=(8,8))\n",
    "plt.yscale(\"log\")\n",
    "plt.ylabel(\"magnitude of results\")\n",
    "plt.xlabel(\"index of results\")\n",
    "plt.xticks(np.arange(0, 20, 1.0))\n",
    "nonzero = 1e-4\n",
    "plt.grid()\n",
    "plt.plot(result + nonzero,c = 'y');\n",
    "plt.plot(RBINS_SQAURED + nonzero,c = 'r');"
   ]
  },
  {
   "cell_type": "markdown",
   "metadata": {},
   "source": [
    "## Summary\n",
    "In this module you will have learned the following:\n",
    "* Numba implementation of Gpairs targeting a CPU and GPU using Numba JIT\n",
    "* Numba-DPPY  implementation of Gpairs on a GPU using the kernel approach"
   ]
  }
 ],
 "metadata": {
  "kernelspec": {
   "display_name": "Python 3.7 (Intel® oneAPI)",
   "language": "python",
   "name": "c009-intel_distribution_of_python_3_oneapi-beta05-python"
  },
  "language_info": {
   "codemirror_mode": {
    "name": "ipython",
    "version": 3
   },
   "file_extension": ".py",
   "mimetype": "text/x-python",
   "name": "python",
   "nbconvert_exporter": "python",
   "pygments_lexer": "ipython3",
   "version": "3.7.11"
  },
  "toc": {
   "base_numbering": 1,
   "nav_menu": {},
   "number_sections": true,
   "sideBar": true,
   "skip_h1_title": false,
   "title_cell": "Table of Contents",
   "title_sidebar": "Contents",
   "toc_cell": false,
   "toc_position": {
    "height": "525.6px",
    "left": "28px",
    "top": "137.8px",
    "width": "301.09px"
   },
   "toc_section_display": true,
   "toc_window_display": true
  },
  "widgets": {
   "application/vnd.jupyter.widget-state+json": {
    "state": {},
    "version_major": 2,
    "version_minor": 0
   }
  }
 },
 "nbformat": 4,
 "nbformat_minor": 4
}
