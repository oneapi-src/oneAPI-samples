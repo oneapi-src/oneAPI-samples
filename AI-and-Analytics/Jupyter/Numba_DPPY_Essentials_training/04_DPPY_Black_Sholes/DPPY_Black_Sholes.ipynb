{
 "cells": [
  {
   "cell_type": "markdown",
   "metadata": {},
   "source": [
    "# Black-Scholes Algorithm Using Numba-dppy"
   ]
  },
  {
   "cell_type": "markdown",
   "metadata": {},
   "source": [
    "## Sections\n",
    "- [Black Sholes algorithm](#Black-Sholes-algorithm)\n",
    "- _Code:_ [Implementation of Black Scholes targeting CPU using Numba JIT](#Implementation-of-Black-Scholes-targeting-CPU-using-Numba-JIT)\n",
    "- _Code:_ [Implementation of Black Scholes targeting GPU using Kernels](#Implementation-of-Black-Scholes-targeting-GPU-using-Kernels)\n",
    "- _Code:_ [Implementation of Black Scholes targeting GPU using Numpy](#Implementation-of-Black-Scholes-targeting-GPU-using-Numpy)\n",
    "\n"
   ]
  },
  {
   "cell_type": "markdown",
   "metadata": {},
   "source": [
    "## Learning Objectives\n",
    "* Build a Numba implementation of Black Scholes targeting CPU and GPU using Numba Jit\n",
    "* Build a  Numba-DPPY  implementation of Black Scholes on CPU and GPU using Kernel approach\n",
    "* Build a  Numba-DPPY  implementation of Black Scholes on GPU using Numpy approach"
   ]
  },
  {
   "cell_type": "markdown",
   "metadata": {},
   "source": [
    "## numba-dppy\n",
    "\n",
    "Numba-dppy is a standalone extension to the Numba JIT compiler that adds SYCL programming capabilities to Numba. Numba-dppy is packaged as part of the IDP that comes with oneAPI base toolkit, and you don’t need to install any specific Conda packages. The support for SYCL is via DPC++'s SYCL runtime and other SYCL compilers are not supported by Numba-dppy.\n",
    "\n"
   ]
  },
  {
   "cell_type": "markdown",
   "metadata": {},
   "source": [
    "## Black Sholes algorithm\n",
    "\n",
    "The Black-Scholes program computes the price of a portfolio of options using partial differential equations. The entire computation performed by Black-Scholes is data-parallel, where each option can be priced independent of other options.\n",
    "\n",
    "The Black-Scholes Model is one of the most important concepts in modern quantitative finance theory. Developed in 1973 by Fisher Black, Robert Merton, and Myron Scholes; it is still widely used today, and regarded as one of the best ways to determine fair prices of financial derivatives."
   ]
  },
  {
   "cell_type": "markdown",
   "metadata": {},
   "source": [
    "### Implementation of Black-Scholes Formula\n",
    "\n",
    "The Black-Scholes formula is used widely in almost every aspect of quantitative finance. The Black-Scholes calculation has essentially permeated every quantitative finance library by traders and quantitative analysts alike. \n",
    "\n",
    "Let’s look at a hypothetic situation in which a firm has to calculate European options for millions of financial instruments. For each instrument, it has current price, strike price, and option expiration time. For each set of these data, it makes several thousand Black-Scholes calculations, much like the way options of neighboring stock prices, strike prices, and different option expiration times were calculated.\n"
   ]
  },
  {
   "cell_type": "markdown",
   "metadata": {},
   "source": [
    "# Implementation of Black Scholes targeting CPU using Numba JIT\n",
    "In the following example, we introduce a naive Black-Sholes implementation that targets a CPU using the Numba JIT, where we calculate the Black-Sholes formula as described:\n",
    "\n",
    "This is the decorator-based approach, where we offload data parallel code sections like parallel-for, and certain NumPy function calls. With the decorator method, a programmer needs to simply identify the most time-consuming parts of the program. If those parts can be parallelized, the programmer needs to just annotate those sections using Numba-DPPy, and can expect those code sections to execute on a GPU.\n",
    "\n",
    "1. Inspect the code cell below and click run ▶ to save the code to a file.\n",
    "2. Next run ▶ the cell in the __Build and Run__ section below the code to compile and execute the code."
   ]
  },
  {
   "cell_type": "code",
   "execution_count": null,
   "metadata": {},
   "outputs": [],
   "source": [
    "%%writefile lab/black_sholes_jit_cpu.py\n",
    "# Copyright (C) 2017-2018 Intel Corporation\n",
    "#\n",
    "# SPDX-License-Identifier: MIT\n",
    "\n",
    "import dpctl\n",
    "import base_bs_erf\n",
    "import numba as nb\n",
    "from math import log, sqrt, exp, erf\n",
    "\n",
    "# blackscholes implemented as a parallel loop using numba.prange\n",
    "@nb.njit(parallel=True, fastmath=True)\n",
    "def black_scholes_kernel(nopt, price, strike, t, rate, vol, call, put):\n",
    "    mr = -rate\n",
    "    sig_sig_two = vol * vol * 2\n",
    "\n",
    "    for i in nb.prange(nopt):\n",
    "        P = price[i]\n",
    "        S = strike[i]\n",
    "        T = t[i]\n",
    "\n",
    "        a = log(P / S)\n",
    "        b = T * mr\n",
    "\n",
    "        z = T * sig_sig_two\n",
    "        c = 0.25 * z\n",
    "        y = 1.0 / sqrt(z)\n",
    "\n",
    "        w1 = (a - b + c) * y\n",
    "        w2 = (a - b - c) * y\n",
    "\n",
    "        d1 = 0.5 + 0.5 * erf(w1)\n",
    "        d2 = 0.5 + 0.5 * erf(w2)\n",
    "\n",
    "        Se = exp(b) * S\n",
    "\n",
    "        r = P * d1 - Se * d2\n",
    "        call[i] = r\n",
    "        put[i] = r - P + Se\n",
    "\n",
    "\n",
    "def black_scholes(nopt, price, strike, t, rate, vol, call, put):\n",
    "    # offload blackscholes computation to CPU (toggle level0 or opencl driver).\n",
    "    with dpctl.device_context(base_bs_erf.get_device_selector()):\n",
    "        black_scholes_kernel(nopt, price, strike, t, rate, vol, call, put)\n",
    "\n",
    "\n",
    "# call the run function to setup input data and performance data infrastructure\n",
    "base_bs_erf.run(\"Numba@jit-loop-par\", black_scholes)"
   ]
  },
  {
   "cell_type": "markdown",
   "metadata": {},
   "source": [
    "### Build and Run\n",
    "Select the cell below and click run ▶ to compile and execute the code:"
   ]
  },
  {
   "cell_type": "code",
   "execution_count": null,
   "metadata": {},
   "outputs": [],
   "source": [
    "! chmod 755 q; chmod 755 run_black_sholes_jit_cpu.sh; if [ -x \"$(command -v qsub)\" ]; then ./q run_black_sholes_jit_cpu.sh; else ./run_black_sholes_jit_cpu.sh; fi"
   ]
  },
  {
   "cell_type": "markdown",
   "metadata": {},
   "source": [
    "# Implementation of Black Scholes targeting GPU using Numba JIT\n",
    "In the below example we introduce to a Naive Blacksholes implementation that targets a GPU using the Numba Jit where we calculate the blacksholes formula as described above.\n",
    "\n",
    "1. Inspect the code cell below and click run ▶ to save the code to a file.\n",
    "2. Next run ▶ the cell in the __Build and Run__ section below the code to compile and execute the code."
   ]
  },
  {
   "cell_type": "code",
   "execution_count": null,
   "metadata": {},
   "outputs": [],
   "source": [
    "%%writefile lab/black_sholes_jit_gpu.py\n",
    "# Copyright (C) 2017-2018 Intel Corporation\n",
    "#\n",
    "# SPDX-License-Identifier: MIT\n",
    "\n",
    "import dpctl\n",
    "import base_bs_erf_gpu\n",
    "import numba as nb\n",
    "from math import log, sqrt, exp, erf\n",
    "\n",
    "# blackscholes implemented as a parallel loop using numba.prange\n",
    "@nb.njit(parallel=True, fastmath=True)\n",
    "def black_scholes_kernel(nopt, price, strike, t, rate, vol, call, put):\n",
    "    mr = -rate\n",
    "    sig_sig_two = vol * vol * 2\n",
    "\n",
    "    for i in nb.prange(nopt):\n",
    "        P = price[i]\n",
    "        S = strike[i]\n",
    "        T = t[i]\n",
    "\n",
    "        a = log(P / S)\n",
    "        b = T * mr\n",
    "\n",
    "        z = T * sig_sig_two\n",
    "        c = 0.25 * z\n",
    "        y = 1.0 / sqrt(z)\n",
    "\n",
    "        w1 = (a - b + c) * y\n",
    "        w2 = (a - b - c) * y\n",
    "\n",
    "        d1 = 0.5 + 0.5 * erf(w1)\n",
    "        d2 = 0.5 + 0.5 * erf(w2)\n",
    "\n",
    "        Se = exp(b) * S\n",
    "\n",
    "        r = P * d1 - Se * d2\n",
    "        call[i] = r\n",
    "        put[i] = r - P + Se\n",
    "\n",
    "\n",
    "def black_scholes(nopt, price, strike, t, rate, vol, call, put):\n",
    "    # offload blackscholes computation to GPU (toggle level0 or opencl driver).\n",
    "    with dpctl.device_context(base_bs_erf_gpu.get_device_selector()):\n",
    "        black_scholes_kernel(nopt, price, strike, t, rate, vol, call, put)\n",
    "\n",
    "\n",
    "# call the run function to setup input data and performance data infrastructure\n",
    "base_bs_erf_gpu.run(\"Numba@jit-loop-par\", black_scholes)"
   ]
  },
  {
   "cell_type": "markdown",
   "metadata": {},
   "source": [
    "### Build and Run\n",
    "Select the cell below and click run ▶ to compile and execute the code:"
   ]
  },
  {
   "cell_type": "code",
   "execution_count": null,
   "metadata": {},
   "outputs": [],
   "source": [
    "! chmod 755 q; chmod 755 run_black_sholes_jit_gpu.sh; if [ -x \"$(command -v qsub)\" ]; then ./q run_black_sholes_jit_gpu.sh; else ./run_black_sholes_jit_gpu.sh; fi"
   ]
  },
  {
   "cell_type": "markdown",
   "metadata": {},
   "source": [
    "# Implementation of Black Scholes targeting GPU using Kernels\n",
    "\n",
    "## Writing Explicit Kernels in numba-dppy\n",
    "\n",
    "Writing a SYCL kernel using the `@numba_dppy.kernel` decorator has similar syntax to writing OpenCL kernels. As such, the numba-dppy module provides similar indexing and other functions as OpenCL. The indexing functions supported inside a `numba_dppy.kernel` are:\n",
    "\n",
    "* numba_dppy.get_local_id : Gets the local ID of the item\n",
    "* numba_dppy.get_local_size: Gets the local work group size of the device\n",
    "* numba_dppy.get_group_id : Gets the group ID of the item\n",
    "* numba_dppy.get_num_groups: Gets the number of gropus in a worksgroup\n",
    "\n",
    "Refer https://intelpython.github.io/numba-dppy/latest/user_guides/kernel_programming_guide/index.html for more details.\n",
    "\n",
    "In the following example we use dppy-kernel approach for explicit kernel programming where if the programmer wants to extract further performance from the offloaded code, the programmer can use the explicit kernel programming approach using dppy-kernels and tune the GPU parameterswhere we take advantage of the workgroups and the workitems in a device using the kernel approach"
   ]
  },
  {
   "cell_type": "markdown",
   "metadata": {},
   "source": [
    "1. Inspect the code cell below and click run ▶ to save the code to a file.\n",
    "2. Next run ▶ the cell in the __Build and Run__ section below the code to compile and execute the code."
   ]
  },
  {
   "cell_type": "code",
   "execution_count": null,
   "metadata": {},
   "outputs": [],
   "source": [
    "%%writefile lab/black_sholes_kernel.py\n",
    "# Copyright (C) 2017-2018 Intel Corporation\n",
    "#\n",
    "# SPDX-License-Identifier: MIT\n",
    "\n",
    "import dpctl\n",
    "import base_bs_erf_gpu\n",
    "import numba_dppy\n",
    "from math import log, sqrt, exp, erf\n",
    "\n",
    "# blackscholes implemented using dppy.kernel\n",
    "@numba_dppy.kernel(\n",
    "    access_types={\"read_only\": [\"price\", \"strike\", \"t\"], \"write_only\": [\"call\", \"put\"]}\n",
    ")\n",
    "def black_scholes(nopt, price, strike, t, rate, vol, call, put):\n",
    "    mr = -rate\n",
    "    sig_sig_two = vol * vol * 2\n",
    "\n",
    "    i = numba_dppy.get_global_id(0)\n",
    "\n",
    "    P = price[i]\n",
    "    S = strike[i]\n",
    "    T = t[i]\n",
    "\n",
    "    a = log(P / S)\n",
    "    b = T * mr\n",
    "\n",
    "    z = T * sig_sig_two\n",
    "    c = 0.25 * z\n",
    "    y = 1.0 / sqrt(z)\n",
    "\n",
    "    w1 = (a - b + c) * y\n",
    "    w2 = (a - b - c) * y\n",
    "\n",
    "    d1 = 0.5 + 0.5 * erf(w1)\n",
    "    d2 = 0.5 + 0.5 * erf(w2)\n",
    "\n",
    "    Se = exp(b) * S\n",
    "\n",
    "    r = P * d1 - Se * d2\n",
    "    call[i] = r\n",
    "    put[i] = r - P + Se\n",
    "\n",
    "\n",
    "def black_scholes_driver(nopt, price, strike, t, rate, vol, call, put):\n",
    "    # offload blackscholes computation to GPU (toggle level0 or opencl driver).\n",
    "    with dpctl.device_context(base_bs_erf_gpu.get_device_selector()):\n",
    "        black_scholes[nopt, numba_dppy.DEFAULT_LOCAL_SIZE](\n",
    "            nopt, price, strike, t, rate, vol, call, put\n",
    "        )\n",
    "\n",
    "\n",
    "# call the run function to setup input data and performance data infrastructure\n",
    "base_bs_erf_gpu.run(\"Numba@jit-loop-par\", black_scholes_driver)"
   ]
  },
  {
   "cell_type": "markdown",
   "metadata": {},
   "source": [
    "### Build and Run\n",
    "Select the cell below and click run ▶ to compile and execute the code:"
   ]
  },
  {
   "cell_type": "code",
   "execution_count": null,
   "metadata": {},
   "outputs": [],
   "source": [
    "! chmod 755 q; chmod 755 run_black_sholes_kernel.sh; if [ -x \"$(command -v qsub)\" ]; then ./q run_black_sholes_kernel.sh; else ./run_black_sholes_kernel.sh; fi"
   ]
  },
  {
   "cell_type": "markdown",
   "metadata": {},
   "source": [
    "## Implementation of Black Scholes targeting GPU using Numpy\n",
    "\n",
    "\n",
    "In the following example, we can observe the Black Scholes NumPy implementation and we target the GPU using the NumPy approach.\n",
    "\n",
    "1. Inspect the code cell below and click run ▶ to save the code to a file.\n",
    "2. Next run ▶ the cell in the __Build and Run__ section below the code to compile and execute the code."
   ]
  },
  {
   "cell_type": "code",
   "execution_count": null,
   "metadata": {},
   "outputs": [],
   "source": [
    "%%writefile lab/black_sholes_numpy_graph.py\n",
    "# Copyright (C) 2017-2018 Intel Corporation\n",
    "#\n",
    "# SPDX-License-Identifier: MIT\n",
    "\n",
    "# Copyright (C) 2017-2018 Intel Corporation\n",
    "#\n",
    "# SPDX-License-Identifier: MIT\n",
    "\n",
    "import dpctl\n",
    "import base_bs_erf_graph\n",
    "import numba as nb\n",
    "import numpy as np\n",
    "from numpy import log, exp, sqrt\n",
    "from math import erf\n",
    "\n",
    "# Numba does know erf function from numpy or scipy\n",
    "@nb.vectorize(nopython=True)\n",
    "def nberf(x):\n",
    "    return erf(x)\n",
    "\n",
    "\n",
    "# blackscholes implemented using numpy function calls\n",
    "@nb.jit(nopython=True, parallel=True, fastmath=True)\n",
    "def black_scholes_kernel(nopt, price, strike, t, rate, vol, call, put):\n",
    "    mr = -rate\n",
    "    sig_sig_two = vol * vol * 2\n",
    "\n",
    "    P = price\n",
    "    S = strike\n",
    "    T = t\n",
    "\n",
    "    a = log(P / S)\n",
    "    b = T * mr\n",
    "\n",
    "    z = T * sig_sig_two\n",
    "    c = 0.25 * z\n",
    "    y = 1.0 / sqrt(z)\n",
    "\n",
    "    w1 = (a - b + c) * y\n",
    "    w2 = (a - b - c) * y\n",
    "\n",
    "    d1 = 0.5 + 0.5 * nberf(w1)\n",
    "    d2 = 0.5 + 0.5 * nberf(w2)\n",
    "\n",
    "    Se = exp(b) * S\n",
    "\n",
    "    r = P * d1 - Se * d2\n",
    "    call[:] = r  # temporary `r` is necessary for faster `put` computation\n",
    "    put[:] = r - P + Se\n",
    "\n",
    "\n",
    "def black_scholes(nopt, price, strike, t, rate, vol, call, put):\n",
    "    # offload blackscholes computation to GPU (toggle level0 or opencl driver).\n",
    "    with dpctl.device_context(base_bs_erf_graph.get_device_selector()):\n",
    "        black_scholes_kernel(nopt, price, strike, t, rate, vol, call, put)\n",
    "\n",
    "\n",
    "# call the run function to setup input data and performance data infrastructure\n",
    "base_bs_erf_graph.run(\"Numba@jit-numpy\", black_scholes)"
   ]
  },
  {
   "cell_type": "markdown",
   "metadata": {},
   "source": [
    "### Build and Run\n",
    "Select the cell below and click run ▶ to compile and execute the code:"
   ]
  },
  {
   "cell_type": "code",
   "execution_count": null,
   "metadata": {},
   "outputs": [],
   "source": [
    "! chmod 755 q; chmod 755 run_black_sholes_numpy_graph.sh; if [ -x \"$(command -v qsub)\" ]; then ./q run_black_sholes_numpy_graph.sh; else ./run_black_sholes_numpy_graph.sh; fi"
   ]
  },
  {
   "cell_type": "markdown",
   "metadata": {
    "tags": []
   },
   "source": [
    "# Plot GPU Results\n",
    "\n",
    "The algorithm below is detecting Calls and Puts verses Current price for a strike price in range 23 to 25 and plots the results in a graph as shown below. "
   ]
  },
  {
   "cell_type": "markdown",
   "metadata": {
    "tags": []
   },
   "source": [
    "### View the results\n",
    "Select the cell below and click run ▶ to view the graph:"
   ]
  },
  {
   "cell_type": "code",
   "execution_count": null,
   "metadata": {},
   "outputs": [],
   "source": [
    "from matplotlib import pyplot as plt \n",
    "import numpy as np \n",
    "\n",
    "def read_dictionary(fn):\n",
    "    import pickle\n",
    "    # Load data (deserialize)\n",
    "    with open(fn, 'rb') as handle:\n",
    "        dictionary = pickle.load(handle)\n",
    "    return dictionary\n",
    "resultsDict = read_dictionary('resultsDict.pkl')\n",
    "limit = 10\n",
    "call = resultsDict['call']\n",
    "put = resultsDict['put']\n",
    "price = resultsDict['price']\n",
    "strike = resultsDict['strike']\n",
    "\n",
    "plt.style.use('dark_background')\n",
    "priceRange = [23.0, 23.5]\n",
    "# strikeIndex = np.where((price >= priceRange[0]) & (price < priceRange[1]) )[0]\n",
    "# plt.scatter(strike[strikeIndex], put[strikeIndex], c= 'r', s = 2, alpha = 1, label = 'puts')\n",
    "# plt.scatter(strike[strikeIndex], call[strikeIndex], c= 'b', s = 2, alpha = 1, label = 'calls')\n",
    "# plt.title('Calls and Puts verses Strike for a current price in range {}'.format(priceRange))\n",
    "# plt.ylabel('Option Price [$]')\n",
    "# plt.xlabel('Strike Price [$]')\n",
    "# plt.legend()\n",
    "# plt.grid()\n",
    "\n",
    "strikeRange = [23.0, 23.5]\n",
    "strikeIndex = np.where((strike >= strikeRange[0]) & (strike < strikeRange[1]) )[0]\n",
    "plt.scatter(price[strikeIndex], put[strikeIndex], c= 'r', s = 2, alpha = 1, label = 'puts')\n",
    "plt.scatter(price[strikeIndex], call[strikeIndex], c= 'b', s = 2, alpha = 1, label = 'calls')\n",
    "plt.title('Calls and Puts verses Current price for a strike price in range {}'.format(priceRange))\n",
    "plt.ylabel('Option Price [$]')\n",
    "plt.xlabel('Current Price [$]')\n",
    "plt.legend()\n",
    "plt.grid()\n"
   ]
  },
  {
   "cell_type": "markdown",
   "metadata": {},
   "source": [
    "_If the Jupyter cells are not responsive or if they error out when you compile the code samples, please restart the Jupyter Kernel: \n",
    "\"Kernel->Restart Kernel and Clear All Outputs\" and compile the code samples again__"
   ]
  },
  {
   "cell_type": "markdown",
   "metadata": {},
   "source": [
    "## Summary\n",
    "In this module you will have learned the following:\n",
    "* Numba implementation of Black Scholes targeting a CPU and GPU using Numba JIT\n",
    "* Numba-DPPY  implementation of Black Scholes on a CPU and GPU using the kernel approach\n",
    "* Numba-DPPY  implementation of Black Scholes on a GPU using Numpy approach"
   ]
  }
 ],
 "metadata": {
  "kernelspec": {
   "display_name": "Python 3.7 (Intel® oneAPI)",
   "language": "python",
   "name": "c009-intel_distribution_of_python_3_oneapi-beta05-python"
  },
  "language_info": {
   "codemirror_mode": {
    "name": "ipython",
    "version": 3
   },
   "file_extension": ".py",
   "mimetype": "text/x-python",
   "name": "python",
   "nbconvert_exporter": "python",
   "pygments_lexer": "ipython3",
   "version": "3.7.11"
  },
  "toc": {
   "base_numbering": 1,
   "nav_menu": {},
   "number_sections": true,
   "sideBar": true,
   "skip_h1_title": false,
   "title_cell": "Table of Contents",
   "title_sidebar": "Contents",
   "toc_cell": false,
   "toc_position": {
    "height": "525.6px",
    "left": "28px",
    "top": "137.8px",
    "width": "301.09px"
   },
   "toc_section_display": true,
   "toc_window_display": true
  },
  "widgets": {
   "application/vnd.jupyter.widget-state+json": {
    "state": {},
    "version_major": 2,
    "version_minor": 0
   }
  }
 },
 "nbformat": 4,
 "nbformat_minor": 4
}
