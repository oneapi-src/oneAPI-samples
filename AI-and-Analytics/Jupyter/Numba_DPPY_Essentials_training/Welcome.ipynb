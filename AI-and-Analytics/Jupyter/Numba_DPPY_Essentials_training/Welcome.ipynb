{
 "cells": [
  {
   "cell_type": "markdown",
   "metadata": {},
   "source": [
    "# Data Parallel Python (DPPY) Essentials Modules"
   ]
  },
  {
   "cell_type": "markdown",
   "metadata": {},
   "source": [
    "The concepts build on top of each other introducing and reinforcing the concepts of Data Parallel Python (DPPY)\n",
    "\n",
    "## Module 0 - [Introduction to Jupyter Notebook (Optional) ](00_DPPY_Prerequisites/Setup_Instructions_Numba.ipynb)\n",
    "`Optional` This module explains how to use Jupyter Notebook which is used in all of the modules to edit and run coding excecises, this can be skipped if you are already familiar with using Jupyter Notebooks.\n",
    "\n",
    "## Module 1 - [Introduction to DPPY ](01_DPPY_Intro/DPPY_Intro.ipynb)\n",
    "These initial hands-on exercises introduce you to concepts of Data Parallel Python. In addition, it familiarizes you how to execute on multiple devices using Data Parallel Python (DPPY), utilize Numba and Numba-DPPY to write paralle code on GPU and utitlize DPPY features to synchronize data from device to host\n",
    "\n",
    "## Module 2 - [Introduction to dpCtl](02_dpctl_Intro/DPPY_dpCtl.ipynb)\n",
    "These hands-on exercises present how to use Data parallel Control (dpCtl) to manage different devices, usage of the classes and the functions of dpCtl, how to use dpCtl Memory Python API to manage USM memory  and usage of dpCtl for Memory Management in DPPY\n",
    "\n",
    "## Module 3 - [DPPY Pairwise Distance Algorithm](03_DPPY_Pairwise_Distance/DPPY_Pairwise_Distance.ipynb)\n",
    "These hands-on exercises show how to build a Numba implementation of Pairwise distance algorithm targeting CPU and GPU using Numba Jit approach, Kernel approach and build using Numpy approach\n",
    "\n",
    "## Module 4 - [DPPY Black Scholes Algorithm](04_DPPY_Black_Sholes/DPPY_Black_Sholes.ipynb)\n",
    "These hands-on exercises show how to build a Numba implementation of Black scholes algorithm targeting CPU and GPU using Numba Jit approach, Kernel approach and build using Numpy approach\n",
    "\n",
    "## Module 5 - [DPPY Kmeans](05_DPPY_Kmeans/DPPY_Kmeans.ipynb)\n",
    "These hands-on exercises show how to build a Numba implementation of Kmeans algorithm targeting CPU and GPU using Numba Jit approach, Kernel approach and build using Numpy approach"
   ]
  }
 ],
 "metadata": {
  "kernelspec": {
   "display_name": "Python 3.7 (Intel® oneAPI)",
   "language": "python",
   "name": "c009-intel_distribution_of_python_3_oneapi-beta05-python"
  },
  "language_info": {
   "codemirror_mode": {
    "name": "ipython",
    "version": 3
   },
   "file_extension": ".py",
   "mimetype": "text/x-python",
   "name": "python",
   "nbconvert_exporter": "python",
   "pygments_lexer": "ipython3",
   "version": "3.9.7"
  },
  "toc": {
   "base_numbering": 1,
   "nav_menu": {},
   "number_sections": true,
   "sideBar": true,
   "skip_h1_title": false,
   "title_cell": "Table of Contents",
   "title_sidebar": "Contents",
   "toc_cell": false,
   "toc_position": {
    "height": "calc(100% - 180px)",
    "left": "10px",
    "top": "150px",
    "width": "384.391px"
   },
   "toc_section_display": true,
   "toc_window_display": true
  },
  "widgets": {
   "application/vnd.jupyter.widget-state+json": {
    "state": {},
    "version_major": 2,
    "version_minor": 0
   }
  }
 },
 "nbformat": 4,
 "nbformat_minor": 4
}
