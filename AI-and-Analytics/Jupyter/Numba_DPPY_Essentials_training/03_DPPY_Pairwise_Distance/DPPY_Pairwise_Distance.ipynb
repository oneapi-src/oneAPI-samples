{
 "cells": [
  {
   "cell_type": "markdown",
   "metadata": {},
   "source": [
    "# Pairwise Distance Algorithm using Numba-Dppy"
   ]
  },
  {
   "cell_type": "markdown",
   "metadata": {},
   "source": [
    "\n",
    "## Sections\n",
    "- [Pairwise algorithm](#Pairwise-algorithm)\n",
    "- _Code:_ [Implementation of Pairwise distance targeting CPU using Numba JIT](#Implementation-of-Pairwise-distance-targeting-CPU-using-Numba-JIT)\n",
    "- _Code:_ [Implementation of Pairwise distance targeting GPU using Numba JIT](#Implementation-of-Pairwise-distance-targeting-GPU-using-Numba-JIT)\n",
    "- _Code:_ [Implementation of Pairwise targeting GPU using Kernels](#Implementation-of-Pairwise-targeting-GPU-using-Kernels)\n",
    "- _Code:_ [Implementation of Pairwise targeting GPU using Kernels and dpctl Memory](#Implementation-of-Pairwise-targeting-GPU-using-Kernels-and-dpCtl-Memory)"
   ]
  },
  {
   "cell_type": "markdown",
   "metadata": {},
   "source": [
    "## Learning Objectives\n",
    "* Build a Numba implementation of Pairwise targeting CPU and GPU using Numba Jit\n",
    "* Build a  Numba-DPPY  implementation of Pairwise on CPU and GPU using Kernel approach\n",
    "* Build a  Numba-DPPY  implementation of Pairwise on GPU using Numpy approach"
   ]
  },
  {
   "cell_type": "markdown",
   "metadata": {},
   "source": [
    "## numba-dppy\n",
    "\n",
    "Numba-dppy is a standalone extension to the Numba JIT compiler that adds SYCL programming capabilities to Numba. Numba-dppy is packaged as part of the IDP that comes with oneAPI base toolkit, and you don’t need to install any specific Conda packages. The support for SYCL is via DPC++'s SYCL runtime and other SYCL compilers are not supported by Numba-dppy.\n",
    "\n"
   ]
  },
  {
   "cell_type": "markdown",
   "metadata": {},
   "source": [
    "## Pairwise algorithm\n",
    "The pairwise distance application takes a set of multidimensional points and computes the Euclidean distance between every pair of points. For n observations, a common sub-task of different data analysis algorithms is to compute the symmetric matrix of distances between each pair of observations.\n",
    "\n",
    "Euclidean distance is of great importance in machine learning, astronomy, and so on.\n",
    "The following examples show how to calculate a Euclidean pairwise distance computation implemented using the Numba JIT method and also using a kernel function.\n"
   ]
  },
  {
   "cell_type": "markdown",
   "metadata": {},
   "source": [
    "# Implementation of Pairwise distance targeting CPU using Numba JIT\n",
    "In the following example, we introduce to a naive pairwise distance implementation that targets a CPU using the Numba JIT, where we take an array representing M points in N dimensions, and return the M x M matrix of Euclidean distances.\n",
    "\n",
    "This is the decorator-based approach, where we offload data parallel code sections like parallel-for, and certain NumPy function calls. With the decorator method, a programmer needs to simply identify the most time-consuming parts of the program. If those parts can be parallelized, the programmer needs to just annotate those sections using Numba-DPPy, and can expect those code sections to execute on a GPU.\n"
   ]
  },
  {
   "cell_type": "markdown",
   "metadata": {},
   "source": [
    "\n",
    "1. Inspect the code cell below and click run ▶ to save the code to a file.\n",
    "2. Next run ▶ the cell in the __Build and Run__ section below the code to compile and execute the code."
   ]
  },
  {
   "cell_type": "code",
   "execution_count": null,
   "metadata": {},
   "outputs": [],
   "source": [
    "%%writefile lab/pairwise_distance.py\n",
    "\n",
    "# Copyright (C) 2017-2018 Intel Corporation\n",
    "#\n",
    "# SPDX-License-Identifier: MIT\n",
    "\n",
    "\n",
    "import base_pair_wise\n",
    "import numpy as np\n",
    "import numba\n",
    "\n",
    "@numba.jit(nopython=True,parallel=True,fastmath=True)\n",
    "def pw_distance(X1,X2,D):\n",
    "    M = X1.shape[0]\n",
    "    N = X2.shape[0]\n",
    "    O = X1.shape[1]\n",
    "    for i in numba.prange(M):\n",
    "        for j in range(N):\n",
    "            d = 0.0\n",
    "            for k in range(O):\n",
    "                tmp = X1[i, k] - X2[j, k]\n",
    "                d += tmp * tmp\n",
    "            D[i, j] = np.sqrt(d)\n",
    "\n",
    "base_pair_wise.run(\"Numba par_for\", pw_distance) "
   ]
  },
  {
   "cell_type": "markdown",
   "metadata": {},
   "source": [
    "### Build and Run\n",
    "Select the cell below and click run ▶ to compile and execute the code:"
   ]
  },
  {
   "cell_type": "code",
   "execution_count": null,
   "metadata": {},
   "outputs": [],
   "source": [
    "! chmod 755 q; chmod 755 run_pair_wise_jit.sh; if [ -x \"$(command -v qsub)\" ]; then ./q run_pair_wise_jit.sh; else ./run_pair_wise_jit.sh; fi"
   ]
  },
  {
   "cell_type": "markdown",
   "metadata": {},
   "source": [
    "_If the Jupyter cells are not responsive or if they error out when you compile the code samples, please restart the Jupyter Kernel: \n",
    "\"Kernel->Restart Kernel and Clear All Outputs\" and compile the code samples again__"
   ]
  },
  {
   "cell_type": "markdown",
   "metadata": {},
   "source": [
    "# Implementation of Pairwise distance targeting GPU using Numba JIT\n",
    "\n",
    "In the following example, we introduce a naive pairwise distance implementation that targets a GPU using the Numba JIT, where we take an array representing M points in N dimensions, and return the M x M matrix of Euclidean distances."
   ]
  },
  {
   "cell_type": "markdown",
   "metadata": {},
   "source": [
    "\n",
    "1. Inspect the code cell below and click run ▶ to save the code to a file.\n",
    "2. Next run ▶ the cell in the __Build and Run__ section below the code to compile and execute the code."
   ]
  },
  {
   "cell_type": "code",
   "execution_count": null,
   "metadata": {},
   "outputs": [],
   "source": [
    "%%writefile lab/pairwise_distance_gpu.py\n",
    "\n",
    "# Copyright (C) 2017-2018 Intel Corporation\n",
    "#\n",
    "# SPDX-License-Identifier: MIT\n",
    "\n",
    "import dpctl\n",
    "import base_pair_wise_gpu\n",
    "import numpy as np\n",
    "import numba\n",
    "\n",
    "# Naieve pairwise distance impl - take an array representing M points in N dimensions, and return the M x M matrix of Euclidean distances\n",
    "@numba.njit(parallel=True,fastmath=True)\n",
    "def pw_distance_kernel(X1,X2,D):\n",
    "    # Size of imputs\n",
    "    M = X1.shape[0]\n",
    "    N = X2.shape[0]\n",
    "    O = X1.shape[1]\n",
    "\n",
    "    # Outermost parallel loop over the matrix X1\n",
    "    for i in numba.prange(M):\n",
    "        # Loop over the matrix X2\n",
    "        for j in range(N):\n",
    "            d = 0.0\n",
    "            #Compute exclidean distance\n",
    "            for k in range(O):\n",
    "                tmp = X1[i, k] - X2[j, k]\n",
    "                d += tmp * tmp\n",
    "            # Write computed distance to distance matrix\n",
    "            D[i, j] = np.sqrt(d)\n",
    "\n",
    "def pw_distance(X1,X2,D):\n",
    "    with dpctl.device_context(base_pair_wise_gpu.get_device_selector()):\n",
    "        pw_distance_kernel(X1,X2,D)\n",
    "\n",
    "base_pair_wise_gpu.run(\"Numba par_for\", pw_distance)"
   ]
  },
  {
   "cell_type": "markdown",
   "metadata": {},
   "source": [
    "### Build and Run\n",
    "Select the cell below and click run ▶ to compile and execute the code:"
   ]
  },
  {
   "cell_type": "code",
   "execution_count": null,
   "metadata": {},
   "outputs": [],
   "source": [
    "! chmod 755 q; chmod 755 run_pair_wise_jit_gpu.sh; if [ -x \"$(command -v qsub)\" ]; then ./q run_pair_wise_jit_gpu.sh; else ./run_pair_wise_jit_gpu.sh; fi"
   ]
  },
  {
   "cell_type": "markdown",
   "metadata": {},
   "source": [
    "_If the Jupyter cells are not responsive or if they error out when you compile the code samples, please restart the Jupyter Kernel: \n",
    "\"Kernel->Restart Kernel and Clear All Outputs\" and compile the code samples again__"
   ]
  },
  {
   "cell_type": "markdown",
   "metadata": {},
   "source": [
    "# Implementation of Pairwise targeting GPU using Kernels\n",
    "\n",
    "## Writing Explicit Kernels in numba-dppy\n",
    "\n",
    "Writing a SYCL kernel using the `@numba_dppy.kernel` decorator has similar syntax to writing OpenCL kernels. As such, the numba-dppy module provides similar indexing and other functions as OpenCL. The indexing functions supported inside a `numba_dppy.kernel` are:\n",
    "\n",
    "* numba_dppy.get_local_id : Gets the local ID of the item\n",
    "* numba_dppy.get_local_size: Gets the local work group size of the device\n",
    "* numba_dppy.get_group_id : Gets the group ID of the item\n",
    "* numba_dppy.get_num_groups: Gets the number of gropus in a worksgroup\n",
    "\n",
    "Refer https://intelpython.github.io/numba-dppy/latest/user_guides/kernel_programming_guide/index.html for more details.\n",
    "\n",
    "In the following example we use the dppy-kernel approach for explicit kernel programming where, if the programmer wants to extract further performance from the offloaded code, the programmer can use the explicit kernel programming approach using dppy-kernels and tune the GPU parameters, where we take advantage of the workgroups and the work items in a device using the kernel approach. Here, we take an array representing M points in N dimensions, and return the M x M matrix of Euclidean distances.\n"
   ]
  },
  {
   "cell_type": "markdown",
   "metadata": {},
   "source": [
    "1. Inspect the code cell below and click run ▶ to save the code to a file.\n",
    "2. Next run ▶ the cell in the __Build and Run__ section below the code to compile and execute the code."
   ]
  },
  {
   "cell_type": "code",
   "execution_count": null,
   "metadata": {},
   "outputs": [],
   "source": [
    "%%writefile lab/pair_wise_kernel.py\n",
    "\n",
    "# Copyright (C) 2017-2018 Intel Corporation\n",
    "#\n",
    "# SPDX-License-Identifier: MIT\n",
    "\n",
    "import dpctl\n",
    "import base_pair_wise_gpu\n",
    "import numpy as np\n",
    "import numba_dppy\n",
    "\n",
    "@numba_dppy.kernel\n",
    "def pairwise_python(X1, X2, D):\n",
    "    i = numba_dppy.get_global_id(0)\n",
    "    \n",
    "    N = X2.shape[0]\n",
    "    O = X1.shape[1]\n",
    "    for j in range(N):\n",
    "        d = 0.0\n",
    "        for k in range(O):\n",
    "            tmp = X1[i, k] - X2[j, k]\n",
    "            d += tmp * tmp\n",
    "        D[i, j] = np.sqrt(d)\n",
    "\n",
    "def pw_distance(X1,X2,D):\n",
    "    with dpctl.device_context(base_pair_wise_gpu.get_device_selector()):\n",
    "        #pairwise_python[X1.shape[0],numba_dppy.DEFAULT_LOCAL_SIZE](X1, X2, D)\n",
    "        pairwise_python[X1.shape[0],8](X1, X2, D)\n",
    "\n",
    "base_pair_wise_gpu.run(\"Pairwise Distance Kernel\", pw_distance)\n"
   ]
  },
  {
   "cell_type": "markdown",
   "metadata": {},
   "source": [
    "### Build and Run\n",
    "Select the cell below and click run ▶ to compile and execute the code:"
   ]
  },
  {
   "cell_type": "code",
   "execution_count": null,
   "metadata": {},
   "outputs": [],
   "source": [
    "! chmod 755 q; chmod 755 run_pair_wise_kernel.sh; if [ -x \"$(command -v qsub)\" ]; then ./q run_pair_wise_kernel.sh; else ./run_pair_wise_kernel.sh; fi"
   ]
  },
  {
   "cell_type": "markdown",
   "metadata": {},
   "source": [
    "_If the Jupyter cells are not responsive or if they error out when you compile the code samples, please restart the Jupyter Kernel: \n",
    "\"Kernel->Restart Kernel and Clear All Outputs\" and compile the code samples again__"
   ]
  },
  {
   "cell_type": "markdown",
   "metadata": {},
   "source": [
    "## Implementation of Pairwise targeting GPU using Kernels and dpctl Memory\n",
    "\n",
    "In the following example we can observe the similar numba_dppy.kernel approach, where we take advantage of the workgroups and the work items in a device using the kernel approach. We are also using the dpCtl USM shared memory approach, where we are using the features of memory transfer between the host and the device using this approach. Here we take an array representing M points in N dimensions, and return the M x M matrix of Euclidean distances."
   ]
  },
  {
   "cell_type": "markdown",
   "metadata": {},
   "source": [
    "### Build and Run\n",
    "Select the cell below and click run ▶ to compile and execute the code:\n",
    "1. Inspect the code cell below and click run ▶ to save the code to a file.\n",
    "2. Next run ▶ the cell in the __Build and Run__ section below the code to compile and execute the code."
   ]
  },
  {
   "cell_type": "code",
   "execution_count": null,
   "metadata": {},
   "outputs": [],
   "source": [
    "%%writefile lab/pair_wise_kernel2.py\n",
    "\n",
    "# Copyright 2020, 2021 Intel Corporation\n",
    "#\n",
    "# Licensed under the Apache License, Version 2.0 (the \"License\");\n",
    "# you may not use this file except in compliance with the License.\n",
    "# You may obtain a copy of the License at\n",
    "#\n",
    "#      http://www.apache.org/licenses/LICENSE-2.0\n",
    "#\n",
    "# Unless required by applicable law or agreed to in writing, software\n",
    "# distributed under the License is distributed on an \"AS IS\" BASIS,\n",
    "# WITHOUT WARRANTIES OR CONDITIONS OF ANY KIND, either express or implied.\n",
    "# See the License for the specific language governing permissions and\n",
    "# limitations under the License.\n",
    "\n",
    "from time import time\n",
    "from math import sqrt\n",
    "import numpy as np\n",
    "import argparse\n",
    "import numba_dppy as dppy\n",
    "import dpctl\n",
    "import dpctl.memory as dpctl_mem\n",
    "\n",
    "parser = argparse.ArgumentParser(description=\"Program to compute pairwise distance\")\n",
    "\n",
    "parser.add_argument(\"-n\", type=int, default=10, help=\"Number of points\")\n",
    "parser.add_argument(\"-d\", type=int, default=3, help=\"Dimensions\")\n",
    "parser.add_argument(\"-r\", type=int, default=1, help=\"repeat\")\n",
    "parser.add_argument(\"-l\", type=int, default=1, help=\"local_work_size\")\n",
    "\n",
    "args = parser.parse_args()\n",
    "\n",
    "# Global work size is equal to the number of points\n",
    "global_size = args.n\n",
    "# Local Work size is optional\n",
    "local_size = args.l\n",
    "\n",
    "X = np.random.random((args.n, args.d))\n",
    "D = np.empty((args.n, args.n))\n",
    "\n",
    "\n",
    "@dppy.kernel\n",
    "def pairwise_distance(X, D, xshape0, xshape1):\n",
    "    \"\"\"\n",
    "    An Euclidean pairwise distance computation implemented as\n",
    "    a ``kernel`` function.\n",
    "    \"\"\"\n",
    "    idx = dppy.get_global_id(0)\n",
    "\n",
    "    # for i in range(xshape0):\n",
    "    for j in range(X.shape[0]):\n",
    "        d = 0.0\n",
    "        for k in range(X.shape[1]):\n",
    "            tmp = X[idx, k] - X[j, k]\n",
    "            d += tmp * tmp\n",
    "        D[idx, j] = sqrt(d)\n",
    "\n",
    "\n",
    "def driver():\n",
    "    # measure running time\n",
    "    times = list()\n",
    "\n",
    "    xbuf = dpctl_mem.MemoryUSMShared(X.size * X.dtype.itemsize)\n",
    "    x_ndarray = np.ndarray(X.shape, buffer=xbuf, dtype=X.dtype)\n",
    "    np.copyto(x_ndarray, X)\n",
    "\n",
    "    dbuf = dpctl_mem.MemoryUSMShared(D.size * D.dtype.itemsize)\n",
    "    d_ndarray = np.ndarray(D.shape, buffer=dbuf, dtype=D.dtype)\n",
    "    np.copyto(d_ndarray, D)\n",
    "\n",
    "    for repeat in range(args.r):\n",
    "        start = time()\n",
    "        pairwise_distance[global_size, local_size](\n",
    "            x_ndarray, d_ndarray, X.shape[0], X.shape[1]\n",
    "        )\n",
    "        end = time()\n",
    "\n",
    "        total_time = end - start\n",
    "        times.append(total_time)\n",
    "\n",
    "    np.copyto(X, x_ndarray)\n",
    "    np.copyto(D, d_ndarray)\n",
    "\n",
    "    return times\n",
    "\n",
    "\n",
    "def main():\n",
    "    times = None\n",
    "\n",
    "    # Use the environment variable SYCL_DEVICE_FILTER to change the default device.\n",
    "    # See https://github.com/intel/llvm/blob/sycl/sycl/doc/EnvironmentVariables.md#sycl_device_filter.\n",
    "    #device = dpctl.select_default_device()\n",
    "    #print(\"Using device ...\")\n",
    "    #device.print_device_info()\n",
    "\n",
    "    with dpctl.device_context(\"opencl:gpu\"):\n",
    "        times = driver()\n",
    "\n",
    "    times = np.asarray(times, dtype=np.float32)\n",
    "    print(\"Average time of %d runs is = %fs\" % (args.r, times.mean()))\n",
    "\n",
    "    print(\"Done...\")\n",
    "\n",
    "\n",
    "if __name__ == \"__main__\":\n",
    "    main()"
   ]
  },
  {
   "cell_type": "markdown",
   "metadata": {},
   "source": [
    "### Build and Run\n",
    "Select the cell below and click run ▶ to compile and execute the code:"
   ]
  },
  {
   "cell_type": "code",
   "execution_count": null,
   "metadata": {},
   "outputs": [],
   "source": [
    "! chmod 755 q; chmod 755 run_pair_wise_kernel2.sh; if [ -x \"$(command -v qsub)\" ]; then ./q run_pair_wise_kernel2.sh; else ./run_pair_wise_kernel2.sh; fi"
   ]
  },
  {
   "cell_type": "markdown",
   "metadata": {},
   "source": [
    "_If the Jupyter cells are not responsive or if they error out when you compile the code samples, please restart the Jupyter Kernel: \n",
    "\"Kernel->Restart Kernel and Clear All Outputs\" and compile the code samples again__"
   ]
  },
  {
   "cell_type": "markdown",
   "metadata": {},
   "source": [
    "## Summary\n",
    "In this module you will have learned the following:\n",
    "* Numba implementation of Pairwise targeting a CPU and GPU using Numba JIT\n",
    "* Numba-DPPY  implementation of Pairwise on a CPU and GPU using the kernel approach\n",
    "* Numba-DPPY  implementation of Pairwise on a GPU using kernels and dpctl memory"
   ]
  }
 ],
 "metadata": {
  "kernelspec": {
   "display_name": "Python 3.7 (Intel® oneAPI)",
   "language": "python",
   "name": "c009-intel_distribution_of_python_3_oneapi-beta05-python"
  },
  "language_info": {
   "codemirror_mode": {
    "name": "ipython",
    "version": 3
   },
   "file_extension": ".py",
   "mimetype": "text/x-python",
   "name": "python",
   "nbconvert_exporter": "python",
   "pygments_lexer": "ipython3",
   "version": "3.7.11"
  },
  "toc": {
   "base_numbering": 1,
   "nav_menu": {},
   "number_sections": true,
   "sideBar": true,
   "skip_h1_title": false,
   "title_cell": "Table of Contents",
   "title_sidebar": "Contents",
   "toc_cell": false,
   "toc_position": {
    "height": "525.6px",
    "left": "28px",
    "top": "137.8px",
    "width": "301.09px"
   },
   "toc_section_display": true,
   "toc_window_display": true
  },
  "widgets": {
   "application/vnd.jupyter.widget-state+json": {
    "state": {},
    "version_major": 2,
    "version_minor": 0
   }
  }
 },
 "nbformat": 4,
 "nbformat_minor": 4
}
