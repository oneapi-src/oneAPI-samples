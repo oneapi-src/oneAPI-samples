{
 "cells": [
  {
   "cell_type": "markdown",
   "metadata": {},
   "source": [
    "# Pairwise Distance Algorithm using Numba-Dppy"
   ]
  },
  {
   "cell_type": "markdown",
   "metadata": {
    "tags": []
   },
   "source": [
    "\n",
    "## Sections\n",
    "- [Pairwise algorithm](#Pairwise-algorithm)\n",
    "- _Code:_ [Implementation of Pairwise distance targeting CPU using Numba JIT](#Implementation-of-Pairwise-distance-targeting-CPU-using-Numba-JIT)\n",
    "- _Code:_ [Implementation of Pairwise distance targeting GPU using Numba JIT](#Implementation-of-Pairwise-distance-targeting-GPU-using-Numba-JIT)\n",
    "- _Code:_ [Implementation of Pairwise targeting GPU using Kernels](#Implementation-of-Pairwise-targeting-GPU-using-Kernels)\n",
    "- _Code:_ [Implementation of Pairwise targeting GPU using Numpy](#Implementation-of-Pairwise-targeting-GPU-using-Numpy)"
   ]
  },
  {
   "cell_type": "markdown",
   "metadata": {
    "tags": []
   },
   "source": [
    "## Learning Objectives\n",
    "* Build a Numba implementation of Pairwise targeting CPU and GPU using Numba Jit\n",
    "* Build a  Numba-DPPY  implementation of Pairwise on CPU and GPU using Kernel approach\n",
    "* Build a Numba-DPPY implementation of Pairwise on GPU using Numpy approach"
   ]
  },
  {
   "cell_type": "markdown",
   "metadata": {
    "tags": []
   },
   "source": [
    "## numba-dppy\n",
    "\n",
    "Numba-dppy is a standalone extension to the Numba JIT compiler that adds SYCL programming capabilities to Numba. Numba-dppy is packaged as part of the IDP that comes with oneAPI base toolkit, and you don’t need to install any specific Conda packages. The support for SYCL is via DPC++'s SYCL runtime and other SYCL compilers are not supported by Numba-dppy.\n",
    "\n"
   ]
  },
  {
   "cell_type": "markdown",
   "metadata": {},
   "source": [
    "## Pairwise algorithm\n",
    "The pairwise distance application takes a set of multidimensional points and computes the Euclidean distance between every pair of points. For n observations, a common sub-task of different data analysis algorithms is to compute the symmetric matrix of distances between each pair of observations.\n",
    "\n",
    "Euclidean distance is of great importance in machine learning, astronomy, and so on.\n",
    "The following examples show how to calculate a Euclidean pairwise distance computation implemented using the Numba JIT method and also using a kernel function.\n"
   ]
  },
  {
   "cell_type": "markdown",
   "metadata": {},
   "source": [
    "# Implementation of Pairwise distance targeting CPU using Numba JIT\n",
    "In the following example, we introduce to a naive pairwise distance implementation that targets a CPU using the Numba JIT, where we take an array representing M points in N dimensions, and return the M x M matrix of Euclidean distances.\n",
    "\n",
    "This is the decorator-based approach, where we offload data parallel code sections like parallel-for, and certain NumPy function calls. With the decorator method, a programmer needs to simply identify the most time-consuming parts of the program. If those parts can be parallelized, the programmer needs to just annotate those sections using Numba-DPPy, and can expect those code sections to execute on a GPU.\n"
   ]
  },
  {
   "cell_type": "markdown",
   "metadata": {},
   "source": [
    "\n",
    "1. Inspect the code cell below and click run ▶ to save the code to a file.\n",
    "2. Next run ▶ the cell in the __Build and Run__ section below the code to compile and execute the code."
   ]
  },
  {
   "cell_type": "code",
   "execution_count": null,
   "metadata": {},
   "outputs": [],
   "source": [
    "%%writefile lab/pairwise_distance.py\n",
    "\n",
    "# Copyright (C) 2017-2018 Intel Corporation\n",
    "#\n",
    "# SPDX-License-Identifier: MIT\n",
    "\n",
    "\n",
    "import base_pair_wise\n",
    "import numpy as np\n",
    "import numba\n",
    "\n",
    "\n",
    "@numba.jit(nopython=True, parallel=True, fastmath=True)\n",
    "def pw_distance(X1, X2, D):\n",
    "    M = X1.shape[0]\n",
    "    N = X2.shape[0]\n",
    "    O = X1.shape[1]\n",
    "    for i in numba.prange(M):\n",
    "        for j in range(N):\n",
    "            d = 0.0\n",
    "            for k in range(O):\n",
    "                tmp = X1[i, k] - X2[j, k]\n",
    "                d += tmp * tmp\n",
    "            D[i, j] = np.sqrt(d)\n",
    "\n",
    "\n",
    "base_pair_wise.run(\"Numba par_for\", pw_distance) "
   ]
  },
  {
   "cell_type": "markdown",
   "metadata": {},
   "source": [
    "### Build and Run\n",
    "Select the cell below and click run ▶ to compile and execute the code:"
   ]
  },
  {
   "cell_type": "code",
   "execution_count": null,
   "metadata": {},
   "outputs": [],
   "source": [
    "! chmod 755 q; chmod 755 run_pair_wise_jit.sh; if [ -x \"$(command -v qsub)\" ]; then ./q run_pair_wise_jit.sh; else ./run_pair_wise_jit.sh; fi"
   ]
  },
  {
   "cell_type": "markdown",
   "metadata": {},
   "source": [
    "_If the Jupyter cells are not responsive or if they error out when you compile the code samples, please restart the Jupyter Kernel: \n",
    "\"Kernel->Restart Kernel and Clear All Outputs\" and compile the code samples again__"
   ]
  },
  {
   "cell_type": "markdown",
   "metadata": {},
   "source": [
    "# Implementation of Pairwise distance targeting GPU using Numba JIT\n",
    "\n",
    "In the following example, we introduce a naive pairwise distance implementation that targets a GPU using the Numba JIT, where we take an array representing M points in N dimensions, and return the M x M matrix of Euclidean distances."
   ]
  },
  {
   "cell_type": "markdown",
   "metadata": {},
   "source": [
    "\n",
    "1. Inspect the code cell below and click run ▶ to save the code to a file.\n",
    "2. Next run ▶ the cell in the __Build and Run__ section below the code to compile and execute the code."
   ]
  },
  {
   "cell_type": "code",
   "execution_count": null,
   "metadata": {},
   "outputs": [],
   "source": [
    "%%writefile lab/pairwise_distance_gpu.py\n",
    "\n",
    "# Copyright (C) 2017-2018 Intel Corporation\n",
    "#\n",
    "# SPDX-License-Identifier: MIT\n",
    "\n",
    "import dpctl\n",
    "import base_pair_wise_gpu\n",
    "import numpy as np\n",
    "import numba\n",
    "\n",
    "# Naieve pairwise distance impl - take an array representing M points in N dimensions, and return the M x M matrix of Euclidean distances\n",
    "@numba.njit(parallel=True, fastmath=True)\n",
    "def pw_distance_kernel(X1, X2, D):\n",
    "    # Size of imputs\n",
    "    M = X1.shape[0]\n",
    "    N = X2.shape[0]\n",
    "    O = X1.shape[1]\n",
    "\n",
    "    # Outermost parallel loop over the matrix X1\n",
    "    for i in numba.prange(M):\n",
    "        # Loop over the matrix X2\n",
    "        for j in range(N):\n",
    "            d = 0.0\n",
    "            # Compute exclidean distance\n",
    "            for k in range(O):\n",
    "                tmp = X1[i, k] - X2[j, k]\n",
    "                d += tmp * tmp\n",
    "            # Write computed distance to distance matrix\n",
    "            D[i, j] = np.sqrt(d)\n",
    "\n",
    "\n",
    "def pw_distance(X1, X2, D):\n",
    "    with dpctl.device_context(base_pair_wise_gpu.get_device_selector()):\n",
    "        pw_distance_kernel(X1, X2, D)\n",
    "\n",
    "\n",
    "base_pair_wise_gpu.run(\"Numba par_for\", pw_distance)"
   ]
  },
  {
   "cell_type": "markdown",
   "metadata": {},
   "source": [
    "### Build and Run\n",
    "Select the cell below and click run ▶ to compile and execute the code:"
   ]
  },
  {
   "cell_type": "code",
   "execution_count": null,
   "metadata": {},
   "outputs": [],
   "source": [
    "! chmod 755 q; chmod 755 run_pair_wise_jit_gpu.sh; if [ -x \"$(command -v qsub)\" ]; then ./q run_pair_wise_jit_gpu.sh; else ./run_pair_wise_jit_gpu.sh; fi"
   ]
  },
  {
   "cell_type": "markdown",
   "metadata": {},
   "source": [
    "_If the Jupyter cells are not responsive or if they error out when you compile the code samples, please restart the Jupyter Kernel: \n",
    "\"Kernel->Restart Kernel and Clear All Outputs\" and compile the code samples again__"
   ]
  },
  {
   "cell_type": "markdown",
   "metadata": {},
   "source": [
    "# Implementation of Pairwise targeting GPU using Kernels\n",
    "\n",
    "## Writing Explicit Kernels in numba-dppy\n",
    "\n",
    "Writing a SYCL kernel using the `@numba_dppy.kernel` decorator has similar syntax to writing OpenCL kernels. As such, the numba-dppy module provides similar indexing and other functions as OpenCL. The indexing functions supported inside a `numba_dppy.kernel` are:\n",
    "\n",
    "* numba_dppy.get_local_id : Gets the local ID of the item\n",
    "* numba_dppy.get_local_size: Gets the local work group size of the device\n",
    "* numba_dppy.get_group_id : Gets the group ID of the item\n",
    "* numba_dppy.get_num_groups: Gets the number of gropus in a worksgroup\n",
    "\n",
    "Refer https://intelpython.github.io/numba-dppy/latest/user_guides/kernel_programming_guide/index.html for more details.\n",
    "\n",
    "In the following example we use the dppy-kernel approach for explicit kernel programming where, if the programmer wants to extract further performance from the offloaded code, the programmer can use the explicit kernel programming approach using dppy-kernels and tune the GPU parameters, where we take advantage of the workgroups and the work items in a device using the kernel approach. Here, we take an array representing M points in N dimensions, and return the M x M matrix of Euclidean distances.\n"
   ]
  },
  {
   "cell_type": "markdown",
   "metadata": {},
   "source": [
    "1. Inspect the code cell below and click run ▶ to save the code to a file.\n",
    "2. Next run ▶ the cell in the __Build and Run__ section below the code to compile and execute the code."
   ]
  },
  {
   "cell_type": "code",
   "execution_count": null,
   "metadata": {},
   "outputs": [],
   "source": [
    "%%writefile lab/pair_wise_kernel.py\n",
    "\n",
    "# Copyright (C) 2017-2018 Intel Corporation\n",
    "#\n",
    "# SPDX-License-Identifier: MIT\n",
    "\n",
    "import dpctl\n",
    "import base_pair_wise_gpu\n",
    "import numpy as np\n",
    "import numba_dppy\n",
    "\n",
    "\n",
    "@numba_dppy.kernel\n",
    "def pairwise_python(X1, X2, D):\n",
    "    i = numba_dppy.get_global_id(0)\n",
    "\n",
    "    N = X2.shape[0]\n",
    "    O = X1.shape[1]\n",
    "    for j in range(N):\n",
    "        d = 0.0\n",
    "        for k in range(O):\n",
    "            tmp = X1[i, k] - X2[j, k]\n",
    "            d += tmp * tmp\n",
    "        D[i, j] = np.sqrt(d)\n",
    "\n",
    "\n",
    "def pw_distance(X1, X2, D):\n",
    "    with dpctl.device_context(base_pair_wise_gpu.get_device_selector()):\n",
    "        # pairwise_python[X1.shape[0],numba_dppy.DEFAULT_LOCAL_SIZE](X1, X2, D)\n",
    "        pairwise_python[X1.shape[0], 128](X1, X2, D)\n",
    "\n",
    "\n",
    "base_pair_wise_gpu.run(\"Pairwise Distance Kernel\", pw_distance)\n"
   ]
  },
  {
   "cell_type": "markdown",
   "metadata": {},
   "source": [
    "### Build and Run\n",
    "Select the cell below and click run ▶ to compile and execute the code:"
   ]
  },
  {
   "cell_type": "code",
   "execution_count": null,
   "metadata": {},
   "outputs": [],
   "source": [
    "! chmod 755 q; chmod 755 run_pair_wise_kernel.sh; if [ -x \"$(command -v qsub)\" ]; then ./q run_pair_wise_kernel.sh; else ./run_pair_wise_kernel.sh; fi"
   ]
  },
  {
   "cell_type": "markdown",
   "metadata": {},
   "source": [
    "_If the Jupyter cells are not responsive or if they error out when you compile the code samples, please restart the Jupyter Kernel: \n",
    "\"Kernel->Restart Kernel and Clear All Outputs\" and compile the code samples again__"
   ]
  },
  {
   "cell_type": "markdown",
   "metadata": {},
   "source": [
    "_If the Jupyter cells are not responsive or if they error out when you compile the code samples, please restart the Jupyter Kernel: \n",
    "\"Kernel->Restart Kernel and Clear All Outputs\" and compile the code samples again__"
   ]
  },
  {
   "cell_type": "markdown",
   "metadata": {
    "tags": []
   },
   "source": [
    "# Plot GPU Results\n",
    "\n",
    "This finds nearest point pairs **BETWEEN** two datasets X1, X2.\n",
    "\n",
    "It will not currently find close points **WITHIN** or among a single dataset.\n",
    "The algorithm below is detecting closest point pair matches between the two datasets.\n",
    "This means you may observe on the graph that cyan pairs that are closer to pink pairs are marked with a bigger size. "
   ]
  },
  {
   "cell_type": "code",
   "execution_count": null,
   "metadata": {},
   "outputs": [],
   "source": [
    "%%writefile lab/pair_wise_graph.py\n",
    "\n",
    "# Copyright (C) 2017-2018 Intel Corporation\n",
    "#\n",
    "# SPDX-License-Identifier: MIT\n",
    "\n",
    "import dpctl\n",
    "import base_pair_wise_graph\n",
    "import numpy as np\n",
    "import numba_dppy\n",
    "\n",
    "\n",
    "@numba_dppy.kernel\n",
    "def pairwise_python(X1, X2, D):\n",
    "    i = numba_dppy.get_global_id(0)\n",
    "    \n",
    "    N = X2.shape[0]\n",
    "    O = X1.shape[1]\n",
    "    for j in range(N):\n",
    "        d = 0.0\n",
    "        for k in range(O):\n",
    "            tmp = X1[i, k] - X2[j, k]\n",
    "            d += tmp * tmp\n",
    "        D[i, j] = np.sqrt(d)\n",
    "\n",
    "def pw_distance(X1,X2,D):\n",
    "    with dpctl.device_context(base_pair_wise_graph.get_device_selector()):\n",
    "        #pairwise_python[X1.shape[0],numba_dppy.DEFAULT_LOCAL_SIZE](X1, X2, D)\n",
    "        pairwise_python[X1.shape[0],8](X1, X2, D)\n",
    "\n",
    "base_pair_wise_graph.run(\"Pairwise Distance Kernel\", pw_distance)"
   ]
  },
  {
   "cell_type": "markdown",
   "metadata": {
    "tags": []
   },
   "source": [
    "### Build and Run\n",
    "Select the cell below and click run ▶ to compile and execute the code:"
   ]
  },
  {
   "cell_type": "code",
   "execution_count": null,
   "metadata": {},
   "outputs": [],
   "source": [
    "! chmod 755 q; chmod 755 run_pair_wise_graph.sh; if [ -x \"$(command -v qsub)\" ]; then ./q run_pair_wise_graph.sh; else ./run_pair_wise_graph.sh; fi"
   ]
  },
  {
   "cell_type": "markdown",
   "metadata": {
    "tags": []
   },
   "source": [
    "### View the results\n",
    "Select the cell below and click run ▶ to view the graph:"
   ]
  },
  {
   "cell_type": "code",
   "execution_count": null,
   "metadata": {},
   "outputs": [],
   "source": [
    "def read_dictionary(fn):\n",
    "    import pickle\n",
    "    # Load data (deserialize)\n",
    "    with open(fn, 'rb') as handle:\n",
    "        dictionary = pickle.load(handle)\n",
    "    return dictionary\n",
    "resultsDict = read_dictionary('resultsDict.pkl')\n",
    "limit = 10\n",
    "D = resultsDict['D'][:limit,:limit]\n",
    "X1 = resultsDict['X1'][:limit,:]\n",
    "X2 = resultsDict['X2'][:limit,:]\n",
    "\n",
    "from matplotlib import pyplot as plt \n",
    "import numpy as np \n",
    "Radius = .15\n",
    "index = np.where(D  < Radius)\n",
    "#plt.hist(resultsDict['D']) \n",
    "# plt.title(\"histogram\") \n",
    "# plt.show()\n",
    "x1i, x2i = index\n",
    "plt.style.use('dark_background')\n",
    "plt.gcf().set_size_inches((12, 5))\n",
    "plt.grid()\n",
    "plt.scatter(X1[:,0], X1[:,1], c='cyan',s = 20, alpha = .7)\n",
    "plt.scatter(X2[:,0], X2[:,1], c='magenta', s = 20, alpha = .7)\n",
    "plt.scatter(X1[x1i,0],X1[x1i,1],c='cyan', s = 80, alpha = 1)\n",
    "plt.scatter(X2[x2i,0],X2[x2i,1],c='magenta', s = 80, alpha = 1)\n",
    "plt.title('pl15ot of points within Radius: {} for {} points'.format(Radius, limit))\n",
    "plt.xlabel('x coordinate')\n",
    "plt.ylabel('y coordinate')\n"
   ]
  },
  {
   "cell_type": "markdown",
   "metadata": {},
   "source": [
    "## Implementation of Pairwise targeting GPU using Numpy\n",
    "\n",
    "In the following example, we can observe the pairwise NumPy implementation using the equation (a-b)^2 = a^2 + b^2 - 2ab, and we target the GPU using the NumPy approach.\n",
    "\n",
    "1. Inspect the code cell below and click run ▶ to save the code to a file.\n",
    "2. Next run ▶ the cell in the __Build and Run__ section below the code to compile and execute the code."
   ]
  },
  {
   "cell_type": "code",
   "execution_count": null,
   "metadata": {},
   "outputs": [],
   "source": [
    "%%writefile lab/pair_wise_numpy.py\n",
    "\n",
    "# Copyright (C) 2017-2018 Intel Corporation\n",
    "#\n",
    "# SPDX-License-Identifier: MIT\n",
    "\n",
    "import dpctl\n",
    "import base_pair_wise_gpu\n",
    "import numpy as np\n",
    "import numba\n",
    "\n",
    "\n",
    "# Pairwise Numpy implementation using the equation (a-b)^2 = a^2 + b^2 - 2*a*b\n",
    "@numba.njit(parallel=True, fastmath=True)\n",
    "def pw_distance_kernel(X1, X2, D):\n",
    "    # return np.sqrt((np.square(X1 - X2.reshape((X2.shape[0],1,X2.shape[1])))).sum(axis=2))\n",
    "\n",
    "    # Computing the first two terms (X1^2 and X2^2) of the Euclidean distance equation\n",
    "    x1 = np.sum(np.square(X1), axis=1)\n",
    "    x2 = np.sum(np.square(X2), axis=1)\n",
    "\n",
    "    # Comnpute third term in equation\n",
    "    D = -2 * np.dot(X1, X2.T)\n",
    "    x3 = x1.reshape(x1.size, 1)\n",
    "    D = D + x3  # x1[:,None] Not supported by Numba\n",
    "    D = D + x2\n",
    "\n",
    "    # Compute square root for euclidean distance\n",
    "    D = np.sqrt(D)\n",
    "\n",
    "\n",
    "def pw_distance(X1, X2, D):\n",
    "    with dpctl.device_context(base_pair_wise_gpu.get_device_selector()):\n",
    "        pw_distance_kernel(X1, X2, D)\n",
    "\n",
    "\n",
    "base_pair_wise_gpu.run(\"Numba Numpy\", pw_distance) "
   ]
  },
  {
   "cell_type": "markdown",
   "metadata": {},
   "source": [
    "### Build and Run\n",
    "Select the cell below and click run ▶ to compile and execute the code:"
   ]
  },
  {
   "cell_type": "code",
   "execution_count": null,
   "metadata": {},
   "outputs": [],
   "source": [
    "! chmod 755 q; chmod 755 run_pair_wise_numpy.sh; if [ -x \"$(command -v qsub)\" ]; then ./q run_pair_wise_numpy.sh; else ./run_pair_wise_numpy.sh; fi"
   ]
  },
  {
   "cell_type": "markdown",
   "metadata": {
    "tags": []
   },
   "source": [
    "## Summary\n",
    "In this module you will have learned the following:\n",
    "* Numba implementation of Pairwise targeting a CPU and GPU using Numba JIT\n",
    "* Numba-DPPY  implementation of Pairwise on a CPU and GPU using the kernel approach\n",
    "* Numba-DPPY implementation of Pairwise on a GPU using NumPy"
   ]
  }
 ],
 "metadata": {
  "kernelspec": {
   "display_name": "Python 3.7 (Intel® oneAPI)",
   "language": "python",
   "name": "c009-intel_distribution_of_python_3_oneapi-beta05-python"
  },
  "language_info": {
   "codemirror_mode": {
    "name": "ipython",
    "version": 3
   },
   "file_extension": ".py",
   "mimetype": "text/x-python",
   "name": "python",
   "nbconvert_exporter": "python",
   "pygments_lexer": "ipython3",
   "version": "3.7.11"
  },
  "toc": {
   "base_numbering": 1,
   "nav_menu": {},
   "number_sections": true,
   "sideBar": true,
   "skip_h1_title": false,
   "title_cell": "Table of Contents",
   "title_sidebar": "Contents",
   "toc_cell": false,
   "toc_position": {
    "height": "525.6px",
    "left": "28px",
    "top": "137.8px",
    "width": "301.09px"
   },
   "toc_section_display": true,
   "toc_window_display": true
  },
  "widgets": {
   "application/vnd.jupyter.widget-state+json": {
    "state": {},
    "version_major": 2,
    "version_minor": 0
   }
  }
 },
 "nbformat": 4,
 "nbformat_minor": 4
}
