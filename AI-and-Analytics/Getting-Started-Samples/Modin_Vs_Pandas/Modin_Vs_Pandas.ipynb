{
 "cells": [
  {
   "cell_type": "code",
   "execution_count": null,
   "metadata": {
    "colab": {
     "base_uri": "https://localhost:8080/",
     "height": 1000
    },
    "id": "vCWPPFUMIKiX",
    "outputId": "b3702491-873d-45dc-ae14-406bdb0b4a0e"
   },
   "outputs": [],
   "source": [
    "#Install modin\n",
    "#!pip install modin[all]"
   ]
  },
  {
   "cell_type": "code",
   "execution_count": null,
   "metadata": {
    "id": "ZkRaHc7BpVwS"
   },
   "outputs": [],
   "source": [
    "#Import required libraries\n",
    "import numpy as np\n",
    "import time\n",
    "import pandas as pd\n",
    "import modin.pandas as md"
   ]
  },
  {
   "cell_type": "code",
   "execution_count": null,
   "metadata": {
    "id": "CodfWx36s2w7"
   },
   "outputs": [],
   "source": [
    "#Create an array of random integers\n",
    "arr =np.random.randint(low=10,high=1000,size=(2**15,2**10))\n",
    "#Save it as a csv file\n",
    "np.savetxt(\"data.csv\", arr, delimiter=\",\") "
   ]
  },
  {
   "cell_type": "markdown",
   "metadata": {
    "id": "zf4c00m7vbSg"
   },
   "source": [
    "##Read csv file"
   ]
  },
  {
   "cell_type": "code",
   "execution_count": null,
   "metadata": {
    "colab": {
     "base_uri": "https://localhost:8080/"
    },
    "id": "aTPWptuRtP-q",
    "outputId": "dae2663d-bbab-4f2b-a3d4-07effc1e0893"
   },
   "outputs": [],
   "source": [
    "#Read data.csv file using Pandas\n",
    "%time p_df = pd.read_csv(\"data.csv\")"
   ]
  },
  {
   "cell_type": "code",
   "execution_count": null,
   "metadata": {
    "colab": {
     "base_uri": "https://localhost:8080/"
    },
    "id": "gWeHGdBQtbAq",
    "outputId": "6653886a-636b-41a3-a6e6-1e58a57efdeb"
   },
   "outputs": [],
   "source": [
    "#Read data.csv file using Modin\n",
    "%time m_df = md.read_csv(\"data.csv\")"
   ]
  },
  {
   "cell_type": "markdown",
   "metadata": {
    "id": "1s8fPqyPvlFv"
   },
   "source": [
    "##Mean operation"
   ]
  },
  {
   "cell_type": "code",
   "execution_count": null,
   "metadata": {
    "colab": {
     "base_uri": "https://localhost:8080/"
    },
    "id": "UWN_-t6It6tC",
    "outputId": "123d1d17-35e7-4d2c-c2dc-bac7deb7fc7d"
   },
   "outputs": [],
   "source": [
    "#Compute mean of each numerical column using Pandas\n",
    "%time p_df.mean(axis=0)"
   ]
  },
  {
   "cell_type": "code",
   "execution_count": null,
   "metadata": {
    "colab": {
     "base_uri": "https://localhost:8080/"
    },
    "id": "XD1eg8XeuRnl",
    "outputId": "509f670c-981d-4b7d-dc3d-004eb598aac4"
   },
   "outputs": [],
   "source": [
    "#Compute mean of each numerical column using Modin\n",
    "%time m_df.mean(axis=0)"
   ]
  },
  {
   "cell_type": "markdown",
   "metadata": {
    "id": "CAPFCSPWvqu3"
   },
   "source": [
    "##Concatenation"
   ]
  },
  {
   "cell_type": "code",
   "execution_count": null,
   "metadata": {
    "colab": {
     "base_uri": "https://localhost:8080/",
     "height": 522
    },
    "id": "aRz5j5zku2Qe",
    "outputId": "f824ea41-bb11-4fce-faef-1d53bcda88fd"
   },
   "outputs": [],
   "source": [
    "#Concatenate the DataFrame with itself using Pandas\n",
    "%time pd.concat([p_df, p_df], axis=0)"
   ]
  },
  {
   "cell_type": "code",
   "execution_count": null,
   "metadata": {
    "colab": {
     "base_uri": "https://localhost:8080/",
     "height": 478
    },
    "id": "6oydVw1xu5HZ",
    "outputId": "b66c19c5-6d6a-4e6d-c234-8cf549e8501d"
   },
   "outputs": [],
   "source": [
    "#Concatenate the DataFrame with itself using Modin\n",
    "%time md.concat([m_df, m_df], axis=0)"
   ]
  },
  {
   "cell_type": "markdown",
   "metadata": {
    "id": "ktbKmh_Kvy1o"
   },
   "source": [
    "##applymap() method"
   ]
  },
  {
   "cell_type": "code",
   "execution_count": null,
   "metadata": {
    "colab": {
     "base_uri": "https://localhost:8080/",
     "height": 522
    },
    "id": "AupRGUSjHLWX",
    "outputId": "a2122b0b-93f3-4af5-a9b4-623c40fd0678"
   },
   "outputs": [],
   "source": [
    "#Element-wise multiplication of each element by 2 using Pandas\n",
    "%time p_df.applymap(lambda i:i*2)"
   ]
  },
  {
   "cell_type": "code",
   "execution_count": null,
   "metadata": {
    "colab": {
     "base_uri": "https://localhost:8080/",
     "height": 496
    },
    "id": "1yLHpj5pr9BD",
    "outputId": "ded435da-3eb5-4312-f927-b1f42d8daeb0"
   },
   "outputs": [],
   "source": [
    "#Element-wise multiplication of each element by 2 using Pandas\n",
    "%time m_df.applymap(lambda i:i*2)"
   ]
  }
 ],
 "metadata": {
  "accelerator": "GPU",
  "colab": {
   "collapsed_sections": [],
   "name": "Modin_Vs_Pandas.ipynb",
   "provenance": []
  },
  "kernelspec": {
   "display_name": "Python 3",
   "language": "python",
   "name": "python3"
  },
  "language_info": {
   "codemirror_mode": {
    "name": "ipython",
    "version": 3
   },
   "file_extension": ".py",
   "mimetype": "text/x-python",
   "name": "python",
   "nbconvert_exporter": "python",
   "pygments_lexer": "ipython3",
   "version": "3.7.13"
  }
 },
 "nbformat": 4,
 "nbformat_minor": 4
}
