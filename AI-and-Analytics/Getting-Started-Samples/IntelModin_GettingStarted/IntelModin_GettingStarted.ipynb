{
 "cells": [
  {
   "cell_type": "code",
   "execution_count": null,
   "metadata": {},
   "outputs": [],
   "source": [
    "# =============================================================\n",
    "# Copyright © 2020 Intel Corporation\n",
    "# \n",
    "# SPDX-License-Identifier: MIT\n",
    "# ============================================================="
   ]
  },
  {
   "cell_type": "markdown",
   "metadata": {},
   "source": [
    "# Modin Getting Started Example for Distributed Pandas"
   ]
  },
  {
   "cell_type": "markdown",
   "metadata": {},
   "source": [
    "## Importing and Organizing Data"
   ]
  },
  {
   "cell_type": "markdown",
   "metadata": {},
   "source": [
    "In this example we will be generating a **synthetic dataset** and **demonstrating stock Pandas operations running with Modin**.\n",
    "\n",
    "Let's start by **importing** all the necessary packages and modules"
   ]
  },
  {
   "cell_type": "code",
   "execution_count": null,
   "metadata": {},
   "outputs": [],
   "source": [
    "import numpy as np\n",
    "import matplotlib.pyplot as plt\n",
    "import time"
   ]
  },
  {
   "cell_type": "code",
   "execution_count": null,
   "metadata": {},
   "outputs": [],
   "source": [
    "# ****** Do not change the code in this cell! It verifies that the notebook is being run correctly! ******\n",
    "\n",
    "def verify_and_print_times(pandas_time, modin_time):\n",
    "    if modin_time < pandas_time:\n",
    "        print(f\"Modin was {pandas_time / modin_time:.2f}X faster than stock pandas!\")\n",
    "        return\n",
    "    print(\n",
    "        f\"Oops, stock pandas appears to be {modin_time / pandas_time:.2f}X faster than Modin in this case. \"\n",
    "        \"This is unlikely but could happen sometimes on certain machines/environments/datasets. \"\n",
    "        \"One of the most probable reasons is the excessive amount of partitions being assigned to a single worker. \"\n",
    "        \"You may visit Modin's optimization guide in order to learn more about such cases and how to fix them: \"\n",
    "        \"\\nhttps://modin.readthedocs.io/en/latest/usage_guide/optimization_notes/index.html\\n\\n\"\n",
    "        \"But first, verify that you're using the latest Modin version, also, try to use different executions, \"\n",
    "        \"for basic usage we recommend non-experimental 'PandasOnRay'.\\n\"\n",
    "        \"Current configuration is:\"\n",
    "    )\n",
    "    try:\n",
    "        from modin.utils import get_current_execution\n",
    "\n",
    "        execution = get_current_execution()\n",
    "    except ImportError:\n",
    "        # for modin version < 0.12.0\n",
    "        try:\n",
    "            from modin.utils import get_current_backend\n",
    "\n",
    "            execution = get_current_backend()\n",
    "        except ImportError:\n",
    "            # for modin versions < 0.8.1\n",
    "            execution = (\n",
    "                \"Can't deduce the current execution, your Modin version is too old!\"\n",
    "            )\n",
    "    print(f\"\\tExecution: {execution}\")\n",
    "    try:\n",
    "        import modin.config as cfg\n",
    "\n",
    "        print(\n",
    "            f\"\\tIs experimental: {cfg.IsExperimental.get()}\\n\"\n",
    "            f\"\\tNumber of CPUs to utilize by Modin (check that Modin uses all CPUs on your machine): {cfg.CpuCount.get()}\\n\"\n",
    "            f\"\\tIs in debug mode (debug mode may perform slower): {cfg.IsDebug.get()}\"\n",
    "        )\n",
    "    except (ImportError, AttributeError):\n",
    "        # for modin versions < 0.8.2\n",
    "        print(\"\\tCan't deduce Modin configuration, your Modin version is too old!\")\n",
    "    import modin\n",
    "\n",
    "    print(f\"\\tModin version: {modin.__version__}\")"
   ]
  },
  {
   "cell_type": "markdown",
   "metadata": {},
   "source": [
    "## How to Use Modin"
   ]
  },
  {
   "cell_type": "markdown",
   "metadata": {},
   "source": [
    "We will also be importing **stock Pandas as pandas** and **Modin as pd to show differentiation**. You can see importing Modin is simple and **does not require any additional steps.**"
   ]
  },
  {
   "cell_type": "code",
   "execution_count": null,
   "metadata": {},
   "outputs": [],
   "source": [
    "import pandas"
   ]
  },
  {
   "cell_type": "markdown",
   "metadata": {},
   "source": [
    "**Note: Uncomment below cell if you run on Intel oneAPI DevCloud**"
   ]
  },
  {
   "cell_type": "code",
   "execution_count": null,
   "metadata": {},
   "outputs": [],
   "source": [
    "# import ray\n",
    "# ray.shutdown()\n",
    "# ray.init(_memory=16000 * 1024 * 1024, object_store_memory=500 * 1024 * 1024,_driver_object_store_memory=500 * 1024 * 1024)"
   ]
  },
  {
   "cell_type": "code",
   "execution_count": null,
   "metadata": {},
   "outputs": [],
   "source": [
    "import modin.pandas as pd"
   ]
  },
  {
   "cell_type": "markdown",
   "metadata": {},
   "source": [
    "We will now **generate a synthetic dataset** using NumPy to use with Modin and save it to a CSV."
   ]
  },
  {
   "cell_type": "code",
   "execution_count": null,
   "metadata": {},
   "outputs": [],
   "source": [
    "array=np.random.randint(low=100,high=10000,size=(2**18,2**8))\n",
    "#array\n",
    "np.savetxt(\"foo.csv\", array, delimiter=\",\") #how to generate array"
   ]
  },
  {
   "cell_type": "markdown",
   "metadata": {},
   "source": [
    "Now we will convert the ndarray into a Pandas dataframe and display the first five rows.\n",
    "For **stock pandas, the dataframe is being stored as `pandas_df`** and for **Modin, the same dataframe is being stored as `modin_df`**.\n",
    "Let's try running the following cell with Pandas first."
   ]
  },
  {
   "cell_type": "code",
   "execution_count": null,
   "metadata": {},
   "outputs": [],
   "source": [
    "%%time\n",
    "pandas_df = pandas.read_csv(\"foo.csv\", names=[\"col{}\".format(i) for i in range(256)])\n",
    "pandas_df.head()"
   ]
  },
  {
   "cell_type": "markdown",
   "metadata": {},
   "source": [
    "Now let's run the same code, but use **Modin instead of stock Pandas.**\n",
    "\n",
    "**Note the speedup!**"
   ]
  },
  {
   "cell_type": "code",
   "execution_count": null,
   "metadata": {},
   "outputs": [],
   "source": [
    "%%time\n",
    "modin_df=pd.read_csv(\"foo.csv\", names=[\"col{}\".format(i) for i in range(256)])\n",
    "modin_df.head()"
   ]
  },
  {
   "cell_type": "markdown",
   "metadata": {},
   "source": [
    "Let's now **visualize** this speedup from Modin with a plot!"
   ]
  },
  {
   "cell_type": "code",
   "execution_count": null,
   "metadata": {},
   "outputs": [],
   "source": [
    "def plotter(outputdict):\n",
    "    fig = plt.figure(figsize = (10, 5)) \n",
    "    plt.bar(outputdict.keys(),outputdict.values(),color='blue',width=0.4)\n",
    "    plt.xlabel(\"Python Package\")\n",
    "    plt.ylabel(\"Runtime(seconds)\")\n",
    "    plt.show()"
   ]
  },
  {
   "cell_type": "code",
   "execution_count": null,
   "metadata": {
    "scrolled": true
   },
   "outputs": [],
   "source": [
    "t0 = time.time()\n",
    "pandas_df = pandas.read_csv(\"foo.csv\", names=[\"col{}\".format(i) for i in range(256)])\n",
    "pandas_time = time.time()- t0\n",
    "\n",
    "t1 = time.time()\n",
    "modin_df = pd.read_csv(\"foo.csv\", names=[\"col{}\".format(i) for i in range(256)])\n",
    "modin_time = time.time() - t1\n",
    "\n",
    "print(\"Pandas Time(seconds):\",pandas_time,\"\\nModin Time(seconds):\",modin_time)\n",
    "verify_and_print_times(pandas_time, modin_time)\n",
    "outputDict={\"Pandas\":pandas_time,\"Modin\":modin_time}\n",
    "plotter(outputDict)"
   ]
  },
  {
   "cell_type": "markdown",
   "metadata": {},
   "source": [
    "## Other DataFrame Function Performance Example\n",
    "We will now show the speedup in performance from Modin compared to stock Pandas with a few common functions.\n",
    "\n",
    "Like before, **`pandas_df` is for  stock Pandas**, **`modin_df` is for Modin**."
   ]
  },
  {
   "cell_type": "markdown",
   "metadata": {},
   "source": [
    "### `df.mean()`"
   ]
  },
  {
   "cell_type": "code",
   "execution_count": null,
   "metadata": {},
   "outputs": [],
   "source": [
    "# Mean\n",
    "t2 = time.time()\n",
    "pandas_df.mean(axis=0)\n",
    "pandas_time=time.time()- t2\n",
    "print(\" stock Pandas wall time for completion in seconds:\",pandas_time)"
   ]
  },
  {
   "cell_type": "code",
   "execution_count": null,
   "metadata": {
    "scrolled": true
   },
   "outputs": [],
   "source": [
    "# Mean\n",
    "t3 = time.time()\n",
    "modin_df.mean(axis=0)\n",
    "modin_time=time.time()- t3\n",
    "print(\"Modin wall time for completion in seconds:\",modin_time)"
   ]
  },
  {
   "cell_type": "code",
   "execution_count": null,
   "metadata": {
    "scrolled": true
   },
   "outputs": [],
   "source": [
    "verify_and_print_times(pandas_time, modin_time)"
   ]
  },
  {
   "cell_type": "markdown",
   "metadata": {},
   "source": [
    "### `df.applymap`"
   ]
  },
  {
   "cell_type": "code",
   "execution_count": null,
   "metadata": {
    "scrolled": true
   },
   "outputs": [],
   "source": [
    "# Long apply function\n",
    "t6 = time.time()\n",
    "print(pandas_df.applymap(lambda x: x + 1))\n",
    "pandas_time = time.time() - t6\n",
    "print(\" stock Pandas wall time for completion in seconds:\",pandas_time)"
   ]
  },
  {
   "cell_type": "code",
   "execution_count": null,
   "metadata": {
    "scrolled": true
   },
   "outputs": [],
   "source": [
    "# Long apply function\n",
    "t7 = time.time()\n",
    "print(modin_df.applymap(lambda x: x + 1))\n",
    "modin_time = time.time() - t7\n",
    "print(\"Modin wall time for completion in seconds:\",modin_time)"
   ]
  },
  {
   "cell_type": "code",
   "execution_count": null,
   "metadata": {
    "scrolled": true
   },
   "outputs": [],
   "source": [
    "verify_and_print_times(pandas_time, modin_time)"
   ]
  },
  {
   "cell_type": "markdown",
   "metadata": {},
   "source": [
    "### `pd.concat([df, df])`"
   ]
  },
  {
   "cell_type": "code",
   "execution_count": null,
   "metadata": {},
   "outputs": [],
   "source": [
    "# Concat\n",
    "t8 = time.time()\n",
    "print(pandas.concat([pandas_df, pandas_df], axis=0))\n",
    "pandas_time = time.time() - t8\n",
    "print(\"stock Pandas wall time for completion in seconds:\",pandas_time)"
   ]
  },
  {
   "cell_type": "code",
   "execution_count": null,
   "metadata": {},
   "outputs": [],
   "source": [
    "# Concat\n",
    "t9 = time.time()\n",
    "print(pd.concat([modin_df, modin_df], axis=0))\n",
    "modin_time = time.time() - t9\n",
    "print(\"Modin wall time for completion in seconds:\",modin_time)"
   ]
  },
  {
   "cell_type": "code",
   "execution_count": null,
   "metadata": {},
   "outputs": [],
   "source": [
    "verify_and_print_times(pandas_time, modin_time)"
   ]
  },
  {
   "cell_type": "markdown",
   "metadata": {},
   "source": [
    "## Modin Coverage Examples \n",
    "The Modin package supports a large variety of Pandas functions.\n",
    "Here are some examples:"
   ]
  },
  {
   "cell_type": "markdown",
   "metadata": {},
   "source": [
    "### Count"
   ]
  },
  {
   "cell_type": "code",
   "execution_count": null,
   "metadata": {},
   "outputs": [],
   "source": [
    "modin_df.count()"
   ]
  },
  {
   "cell_type": "markdown",
   "metadata": {},
   "source": [
    "### Filter"
   ]
  },
  {
   "cell_type": "code",
   "execution_count": null,
   "metadata": {},
   "outputs": [],
   "source": [
    "modin_df.filter(regex='0$', axis=1)"
   ]
  },
  {
   "cell_type": "markdown",
   "metadata": {},
   "source": [
    "### iloc"
   ]
  },
  {
   "cell_type": "code",
   "execution_count": null,
   "metadata": {},
   "outputs": [],
   "source": [
    "modin_df.iloc[0]\n",
    "modin_df.iloc[-1]\n",
    "modin_df.iloc[:,0]\n",
    "modin_df.iloc[:,-1]"
   ]
  },
  {
   "cell_type": "markdown",
   "metadata": {},
   "source": [
    "## Series"
   ]
  },
  {
   "cell_type": "code",
   "execution_count": null,
   "metadata": {},
   "outputs": [],
   "source": [
    "s = pd.Series(np.random.randn(5), index=['a', 'b', 'c', 'd', 'e'])"
   ]
  },
  {
   "cell_type": "markdown",
   "metadata": {},
   "source": [
    "### DataFrame to NumPy Array"
   ]
  },
  {
   "cell_type": "code",
   "execution_count": null,
   "metadata": {},
   "outputs": [],
   "source": [
    "modin_df.to_numpy()"
   ]
  },
  {
   "cell_type": "markdown",
   "metadata": {},
   "source": [
    "### Series to NumPy Array"
   ]
  },
  {
   "cell_type": "code",
   "execution_count": null,
   "metadata": {},
   "outputs": [],
   "source": [
    "ser = pd.Series(pd.date_range('2000', periods=2, tz=\"CET\"))\n",
    "ser.to_numpy(dtype=object)\n",
    "ser.to_numpy(dtype=\"datetime64[ns]\")"
   ]
  },
  {
   "cell_type": "markdown",
   "metadata": {},
   "source": [
    "### Set Options"
   ]
  },
  {
   "cell_type": "code",
   "execution_count": null,
   "metadata": {},
   "outputs": [],
   "source": [
    "pd.set_option('compute.use_bottleneck', False)\n",
    "pd.set_option('compute.use_numexpr', False)"
   ]
  },
  {
   "cell_type": "markdown",
   "metadata": {},
   "source": [
    "### Unique Function for Series"
   ]
  },
  {
   "cell_type": "code",
   "execution_count": null,
   "metadata": {},
   "outputs": [],
   "source": [
    "pd.unique(pd.Series([2, 1, 3, 3]))"
   ]
  },
  {
   "cell_type": "code",
   "execution_count": null,
   "metadata": {},
   "outputs": [],
   "source": [
    "print(\"[CODE_SAMPLE_COMPLETED_SUCCESFULLY]\")"
   ]
  }
 ],
 "metadata": {
  "kernelspec": {
   "display_name": "Python 3",
   "language": "python",
   "name": "python3"
  },
  "language_info": {
   "codemirror_mode": {
    "name": "ipython",
    "version": 3
   },
   "file_extension": ".py",
   "mimetype": "text/x-python",
   "name": "python",
   "nbconvert_exporter": "python",
   "pygments_lexer": "ipython3",
   "version": "3.7.9"
  }
 },
 "nbformat": 4,
 "nbformat_minor": 4
}
