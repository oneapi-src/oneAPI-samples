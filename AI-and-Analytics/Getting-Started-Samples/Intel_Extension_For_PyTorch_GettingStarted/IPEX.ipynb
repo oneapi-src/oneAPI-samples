{
 "cells": [
  {
   "cell_type": "code",
   "execution_count": 1,
   "metadata": {},
   "outputs": [],
   "source": [
    "import torch\n",
    "import torch.nn as nn\n",
    "from torch.utils.data import Dataset, DataLoader\n",
    "import intel_extension_for_pytorch as ipex\n",
    "import time\n",
    "import matplotlib.pyplot as plt\n",
    "\n",
    "\n",
    "BS_TRAIN = 1\n",
    "BS_TEST  = 1\n",
    "EPOCHNUM = 2\n"
   ]
  },
  {
   "cell_type": "code",
   "execution_count": 2,
   "metadata": {},
   "outputs": [],
   "source": [
    "class TestDataset(Dataset):\n",
    "    def __init__(self, train = True):\n",
    "        super(TestDataset, self).__init__()\n",
    "        self.train = train\n",
    "\n",
    "    def __getitem__(self, index):\n",
    "        if self.train:\n",
    "            return torch.rand(3, 112, 112), torch.rand(6, 110, 110)\n",
    "        else:\n",
    "            return torch.rand(3, 112, 112)\n",
    "\n",
    "    def __len__(self):\n",
    "        if self.train:\n",
    "            return 100\n",
    "        else:\n",
    "            return 20"
   ]
  },
  {
   "cell_type": "code",
   "execution_count": 3,
   "metadata": {},
   "outputs": [],
   "source": [
    "class TestModel(nn.Module):\n",
    "    def __init__(self):\n",
    "        super(TestModel, self).__init__()\n",
    "        self.conv = nn.Conv2d(3, 6, 3)\n",
    "        self.norm = nn.BatchNorm2d(6)\n",
    "        self.relu = nn.ReLU()\n",
    "\n",
    "    def forward(self, x):\n",
    "        x = self.conv(x)\n",
    "        x = self.norm(x)\n",
    "        x = self.relu(x)\n",
    "        return x"
   ]
  },
  {
   "cell_type": "code",
   "execution_count": 4,
   "metadata": {},
   "outputs": [],
   "source": [
    "def train_test(ipex_enable):\n",
    "    '''\n",
    "    The following 3 components are required to perform training.\n",
    "    1. model: Instantiate model class\n",
    "    2. optim: Optimization function for update topology parameters during training\n",
    "    3. crite: Criterion function to minimize loss\n",
    "    '''\n",
    "    model = TestModel()\n",
    "    model = model.to(memory_format=torch.channels_last)\n",
    "    optim = torch.optim.SGD(model.parameters(), lr=0.01)\n",
    "    crite = nn.MSELoss(reduction='sum')\n",
    "\n",
    "    '''\n",
    "    1. Instantiate the Dataset class defined before\n",
    "    2. Use torch.utils.data.DataLoader to load data from the Dataset instance\n",
    "    '''\n",
    "    train_data  = TestDataset()\n",
    "    trainLoader = DataLoader(train_data, batch_size=BS_TRAIN)\n",
    "    test_data   = TestDataset(train=False)\n",
    "    testLoader  = DataLoader(test_data, batch_size=BS_TEST)\n",
    "\n",
    "    '''\n",
    "    Apply Intel Extension for PyTorch optimization against the model object and optimizer object.\n",
    "    '''\n",
    "    if(ipex_enable):\n",
    "        model, optim = ipex.optimize(model, optimizer=optim)\n",
    "\n",
    "    '''\n",
    "    Perform training and inference\n",
    "    Use model.train() to set the model into train mode. Use model.eval() to set the model into inference mode.\n",
    "    Use for loop with enumerate(instance of DataLoader) to go through the whole dataset for training/inference.\n",
    "    '''\n",
    "\n",
    "    train_time_list = []\n",
    "    test_time_list = []\n",
    "\n",
    "    for i in range(0, EPOCHNUM - 1):\n",
    "        '''\n",
    "        Iterate dataset for training to train the model\n",
    "        '''\n",
    "\n",
    "        model.train()\n",
    "\n",
    "        for batch_index, (data, y_ans) in enumerate(trainLoader):\n",
    "            data = data.to(memory_format=torch.channels_last)\n",
    "            optim.zero_grad()\n",
    "            t1 = time.time()\n",
    "            y = model(data)\n",
    "            train_time = time.time() - t1\n",
    "            loss = crite(y, y_ans)\n",
    "            loss.backward()\n",
    "            optim.step()\n",
    "            train_time_list.append(train_time)\n",
    "\n",
    "    \n",
    "        '''\n",
    "        Iterate dataset for validation to evaluate the model\n",
    "        '''\n",
    "        model.eval()\n",
    "\n",
    "\n",
    "        for batch_index, data in enumerate(testLoader):\n",
    "            data = data.to(memory_format=torch.channels_last)\n",
    "            t2 = time.time()\n",
    "            y = model(data)\n",
    "            test_time = time.time() - t2\n",
    "            test_time_list.append(test_time)\n",
    "\n",
    "    \n",
    "    return sum(train_time_list) / len(train_time_list), sum(test_time_list) / len(test_time_list)"
   ]
  },
  {
   "cell_type": "code",
   "execution_count": 5,
   "metadata": {},
   "outputs": [
    {
     "data": {
      "image/png": "[encoded data removed]",
      "text/plain": [
       "<Figure size 640x480 with 1 Axes>"
      ]
     },
     "metadata": {},
     "output_type": "display_data"
    },
    {
     "name": "stdout",
     "output_type": "stream",
     "text": [
      "Performance Speedup Testing:  1.2710553653187642\n",
      "[CODE_SAMPLE_COMPLETED_SUCCESFULLY]\n"
     ]
    }
   ],
   "source": [
    "#warm up\n",
    "ipex_on = False\n",
    "for i in range(10):\n",
    "    time_train, time_test = train_test(ipex_on)\n",
    "\n",
    "#with stock PyTorch\n",
    "ipex_on = False\n",
    "time_train, time_test = train_test(ipex_on)\n",
    "\n",
    "#with IPEX\n",
    "ipex_on = True\n",
    "time_train_ipex, time_test_ipex = train_test(ipex_on)\n",
    "\n",
    "left = [1,2]\n",
    "# pred_times = [time_train, time_train_ipex]\n",
    "# tick_label = ['IPEX OFF TRAIN', 'IPEX ON TRAIN']\n",
    "# plt.bar(left, pred_times, tick_label = tick_label, width = 0.5, color = ['blue', 'red'])\n",
    "# plt.xlabel('Training Method'); plt.ylabel('time,s'); plt.title('IPEX Training Time,s')\n",
    "# plt.show()\n",
    "\n",
    "# print(\"Performance Speedup Training: \",(time_train)/(time_train_ipex))\n",
    "# plt.clf()\n",
    "\n",
    "pred_times = [time_test, time_test_ipex]\n",
    "tick_label = ['IPEX OFF TEST', 'IPEX ON TEST']\n",
    "plt.bar(left, pred_times, tick_label = tick_label, width = 0.5, color = ['blue', 'red'])\n",
    "plt.xlabel('Test Method'); plt.ylabel('time,s'); plt.title('IPEX Testing Time,s')\n",
    "plt.show()\n",
    "\n",
    "print(\"Performance Speedup Testing: \",(time_test)/(time_test_ipex))\n",
    "\n",
    "print('[CODE_SAMPLE_COMPLETED_SUCCESFULLY]')"
   ]
  }
 ],
 "metadata": {
  "kernelspec": {
   "display_name": "aikit_pytorch",
   "language": "python",
   "name": "aikit_pytorch"
  },
  "language_info": {
   "codemirror_mode": {
    "name": "ipython",
    "version": 3
   },
   "file_extension": ".py",
   "mimetype": "text/x-python",
   "name": "python",
   "nbconvert_exporter": "python",
   "pygments_lexer": "ipython3",
   "version": "3.9.10"
  },
  "vscode": {
   "interpreter": {
    "hash": "da948e467b8bfad9908d2a63ef01170be4f8c8691ec39fcb6f530e5f694402fc"
   }
  }
 },
 "nbformat": 4,
 "nbformat_minor": 2
}
