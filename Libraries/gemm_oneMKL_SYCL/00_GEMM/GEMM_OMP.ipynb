{
 "cells": [
  {
   "cell_type": "markdown",
   "metadata": {},
   "source": [
    "# GEMM (Using OpenMP Offload)"
   ]
  },
  {
   "cell_type": "markdown",
   "metadata": {},
   "source": [
    "The following example shows a simple matrix multiplication program using __OpenMP Offload__. Follow along with the instructions of the lab to build and run the program. The lab requires a mixture of observing key components, and making simple modifications."
   ]
  },
  {
   "cell_type": "code",
   "execution_count": null,
   "metadata": {},
   "outputs": [],
   "source": [
    "%%writefile lab/omp_gemm.cpp\n",
    "//==============================================================\n",
    "// Copyright © 2020 Intel Corporation\n",
    "//\n",
    "// SPDX-License-Identifier: MIT\n",
    "// =============================================================\n",
    "#include <stdio.h>\n",
    "#include \"mkl.h\"              //# main mkl header\n",
    "#include \"mkl_omp_offload.h\"  //# mkl OMP Offload interface\n",
    "\n",
    "int dnum = 0;\n",
    "\n",
    "int main() {\n",
    "\n",
    "    //# dimensions\n",
    "    MKL_INT m = 3, n = 3, k = 3;\n",
    "    //# leading dimensions\n",
    "    MKL_INT ldA = k, ldB = n, ldC = n;\n",
    "    //# scalar multipliers\n",
    "    double alpha = 1.0;\n",
    "    double beta = 1.0;\n",
    "    //# matrix data\n",
    "    double *A = (double *)malloc(m * k * sizeof(double));\n",
    "    double *B = (double *)malloc(k * n * sizeof(double));\n",
    "    double *C = (double *)malloc(m * n * sizeof(double));\n",
    "\n",
    "    //# define matrix A as the 3x3 matrix\n",
    "    //# {{ 1, 2, 3}, {4, 5, 6}, {7, 8, 9}}\n",
    "    for (int i = 0; i < m; i++) {\n",
    "        for (int j = 0; j < k; j++) {\n",
    "            A[i*m+j] = (double)(i*m+j) + 1.0;\n",
    "        }\n",
    "    }\n",
    "\n",
    "    //# define matrix B as the identity matrix\n",
    "    for (int i = 0; i < k; i++) {\n",
    "        for (int j = 0; j < n; j++) {\n",
    "            if (i == j) B[i*k+j] = 1.0;\n",
    "            else B[i*k+j] = 0.0;\n",
    "        }\n",
    "    }\n",
    "\n",
    "    //# initialize C as a 0 matrix\n",
    "    for (int i = 0; i < m; i++) {\n",
    "        for (int j = 0; j < n; j++) {\n",
    "            C[i*m+j] = 0.0;\n",
    "        }\n",
    "    }\n",
    "\n",
    "    MKL_INT sizeA = m*k;\n",
    "    MKL_INT sizeB = k*n;\n",
    "    MKL_INT sizeC = m*n;\n",
    "    \n",
    "    //# Below are the two compiler directives necessary to offload the GEMM operation\n",
    "    //# we are using 'dgemm' to specify we are using double-precision values\n",
    "    \n",
    "    //# The outer directive maps input data (matrices A & B) 'to' the device.\n",
    "    //# It also maps output data (matrix C) 'from' the device so that the results of the operation are returned.\n",
    "    //# Finally, this directive specifies device number 0, which should interact with an available GPU.\n",
    "    \n",
    "    //# The inner directive dispatches the correct version of the contained operation, again specifying the device number.\n",
    "    //# This directive also uses the 'use_devce_ptr' statement to specify the data we are working with (in this case, arrays A, B, & C).\n",
    "    \n",
    "    //# Uncomment the two 'pragma' lines below. (Do not remove the '#' character)\n",
    "    \n",
    "    //#pragma omp target data map(to:A[0:sizeA],B[0:sizeB]) map(from:C[0:sizeC]) device(dnum)\n",
    "    {\n",
    "        //#pragma omp target variant dispatch device(dnum) use_device_ptr(A, B, C)\n",
    "        {\n",
    "            dgemm(\"N\", \"N\", &m, &n, &k, &alpha, A, &ldA, B, &ldB, &beta, C, &ldC);\n",
    "        }\n",
    "    }\n",
    "\n",
    "    int status = 0;\n",
    "\n",
    "    //# verify C matrix\n",
    "    printf(\"\\n\");\n",
    "    printf(\"C = \\n\");\n",
    "    for (int i = 0; i < m; i++) {\n",
    "        for (int j = 0; j < n; j++) {\n",
    "            if (A[i*m+j] != C[i*m+j]) status = 1;\n",
    "            printf(\"%0.0f \", C[i*m+j]);\n",
    "        }\n",
    "        printf(\"\\n\");\n",
    "    }\n",
    "    printf(\"\\n\");\n",
    "\n",
    "    //# free matrix data\n",
    "    free(A);\n",
    "    free(B);\n",
    "    free(C);\n",
    "\n",
    "    status == 0 ? printf(\"Verified: A = C\\n\") : printf(\"Failed: A != C\\n\");\n",
    "\n",
    "    return status;\n",
    "}"
   ]
  },
  {
   "cell_type": "markdown",
   "metadata": {},
   "source": [
    "### Build and Run\n",
    "Select the cell below and click Run ▶ to compile and execute the code above:"
   ]
  },
  {
   "cell_type": "code",
   "execution_count": null,
   "metadata": {},
   "outputs": [],
   "source": [
    "! chmod 755 q; chmod 755 run_gemm_omp.sh;if [ -x \"$(command -v qsub)\" ]; then ./q run_gemm_omp.sh; else ./run_gemm_omp.sh; fi"
   ]
  },
  {
   "cell_type": "markdown",
   "metadata": {},
   "source": [
    "The build instructions for this sample can be found in the ```run_gemm_omp.sh``` script. Consider using the [Link Line Advisor](https://software.intel.com/content/www/us/en/develop/articles/intel-mkl-link-line-advisor.html) to help you create compile and link lines for your oneMKL projects.\n",
    "\n",
    "To validate your runs of OpenMP, consider setting the following environment variables\n",
    "* ```LIBOMPTARGET_PROFILE=T``` - Enables OpenMP profiling, also prints the chosen device\n",
    "* ```LIBOMPTARGET_DEBUG=1``` - Forces OpenMP to dump debug info\n",
    "* ```LIBOMPTARGET_PLUGIN=OpenCL``` - Target OpenCL backend instead of Level0"
   ]
  },
  {
   "cell_type": "markdown",
   "metadata": {},
   "source": [
    "<html><body><span style=\"color:green\"><h1>Survey</h1></span></body></html>\n",
    "\n",
    "[We would appreciate any feedback you’d care to give, so that we can improve the overall training quality and experience. Thanks! ](https://intel.az1.qualtrics.com/jfe/form/SV_55Ollfy7wQ1kuNL)"
   ]
  },
  {
   "cell_type": "markdown",
   "metadata": {},
   "source": [
    "<html><body><span style=\"color:Red\"><h1>Reset Notebook</h1></span></body></html>\n",
    "\n",
    "##### Should you be experiencing any issues with your notebook or just want to start fresh run the below cell."
   ]
  },
  {
   "cell_type": "code",
   "execution_count": null,
   "metadata": {
    "jupyter": {
     "source_hidden": true
    }
   },
   "outputs": [],
   "source": [
    "from IPython.display import display, Markdown, clear_output\n",
    "import ipywidgets as widgets\n",
    "button = widgets.Button(\n",
    "    description='Reset Notebook',\n",
    "    disabled=False,\n",
    "    button_style='', # 'success', 'info', 'warning', 'danger' or ''\n",
    "    tooltip='This will update this notebook, overwriting any changes.',\n",
    "    icon='check' # (FontAwesome names without the `fa-` prefix)\n",
    ")\n",
    "out = widgets.Output()\n",
    "def on_button_clicked(_):\n",
    "      # \"linking function with output\"\n",
    "      with out:\n",
    "          # what happens when we press the button\n",
    "          clear_output()\n",
    "          !rsync -a --size-only /data/oneapi_workshop/Intel_oneAPI_MKL_Training/00_GEMM/ ~/Intel_oneAPI_MKL_Training/00_GEMM/\n",
    "          print('Notebook reset -- now click reload on browser.')\n",
    "# linking button and function together using a button's method\n",
    "button.on_click(on_button_clicked)\n",
    "# displaying button and its output together\n",
    "widgets.VBox([button,out])"
   ]
  }
 ],
 "metadata": {
  "kernelspec": {
   "display_name": "Python 3.7 (Intel® oneAPI)",
   "language": "python",
   "name": "c009-intel_distribution_of_python_3_oneapi-beta05-python"
  },
  "language_info": {
   "codemirror_mode": {
    "name": "ipython",
    "version": 3
   },
   "file_extension": ".py",
   "mimetype": "text/x-python",
   "name": "python",
   "nbconvert_exporter": "python",
   "pygments_lexer": "ipython3",
   "version": "3.7.9"
  }
 },
 "nbformat": 4,
 "nbformat_minor": 4
}
