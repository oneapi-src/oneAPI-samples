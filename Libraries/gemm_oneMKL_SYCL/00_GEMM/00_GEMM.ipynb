{
 "cells": [
  {
   "cell_type": "markdown",
   "metadata": {},
   "source": [
    "# Matrix Multiplication (GEMM)\n",
    "### [DPC++ (Buffers)](./01_GEMM_DPCPP_Buffers.ipynb)\n",
    "### [DPC++ (Unified Shared Memory)](./02_GEMM_DPCPP_USM.ipynb)\n",
    "### [OpenMP Offload](./GEMM_OMP.ipynb)"
   ]
  }
 ],
 "metadata": {
  "kernelspec": {
   "display_name": "Python 3 (Intel® oneAPI 2023.0)",
   "language": "python",
   "name": "c009-intel_distribution_of_python_3_oneapi-beta05-python"
  },
  "language_info": {
   "codemirror_mode": {
    "name": "ipython",
    "version": 3
   },
   "file_extension": ".py",
   "mimetype": "text/x-python",
   "name": "python",
   "nbconvert_exporter": "python",
   "pygments_lexer": "ipython3",
   "version": "3.9.15"
  }
 },
 "nbformat": 4,
 "nbformat_minor": 4
}
