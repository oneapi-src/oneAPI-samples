{
 "cells": [
  {
   "cell_type": "markdown",
   "metadata": {},
   "source": [
    "# GEMM (Using DPC++ Unified Shared Memory)"
   ]
  },
  {
   "cell_type": "markdown",
   "metadata": {},
   "source": [
    "The following example shows a simple matrix multiplication program using __DPC++__ with the __unified shared memory__ style of memory management. Follow along with the instructions of the lab to build and run the program. The lab requires a mixture of observing key components, and making simple modifications."
   ]
  },
  {
   "cell_type": "code",
   "execution_count": 1,
   "metadata": {},
   "outputs": [
    {
     "name": "stdout",
     "output_type": "stream",
     "text": [
      "Overwriting lab/dpcpp_gemm_usm.cpp\n"
     ]
    }
   ],
   "source": [
    "%%writefile lab/dpcpp_gemm_usm.cpp\n",
    "//==============================================================\n",
    "// Copyright © 2020 Intel Corporation\n",
    "//\n",
    "// SPDX-License-Identifier: MIT\n",
    "// =============================================================\n",
    "#include <iostream>\n",
    "#include <vector>\n",
    "#include <CL/sycl.hpp>          //# sycl namespace\n",
    "#include \"oneapi/mkl/blas.hpp\"  //# oneMKL DPC++ interface for BLAS functions\n",
    "\n",
    "//# The following project performs matrix multiplication using oneMKL / DPC++ with Unified Shared Memory (USM)\n",
    "//# We will execute the simple operation A * B = C\n",
    "//# The matrix B is set equal to the identity matrix such that A * B = A * I\n",
    "//# After performing the computation, we will verify A * I = C -> A = C\n",
    "\n",
    "using namespace sycl;\n",
    "namespace mkl = oneapi::mkl;  //# shorten mkl namespace\n",
    "\n",
    "int main() {\n",
    "\n",
    "    //# dimensions\n",
    "    int m = 3, n = 3, k = 3;\n",
    "    //# leading dimensions\n",
    "    int ldA = 3, ldB = 3, ldC = 3;\n",
    "    //# scalar multipliers\n",
    "    double alpha = 1.0, beta = 1.0;\n",
    "    //# transpose status of matrices\n",
    "    mkl::transpose transA = mkl::transpose::nontrans;\n",
    "    mkl::transpose transB = mkl::transpose::nontrans;\n",
    "\n",
    "    //### Step 1 - Observe the definition of an asynchronous exception handler.\n",
    "    //# This function object will later be supplied to the queue.\n",
    "    //# It is designed to handle errors thrown while device code executes.\n",
    "    auto async_handler = [](sycl::exception_list exceptions) {\n",
    "        for (std::exception_ptr const &e : exceptions) {\n",
    "            try {\n",
    "                std::rethrow_exception(e);\n",
    "            }\n",
    "            catch (sycl::exception const &e) {\n",
    "                std::cout << \"Caught asynchronous SYCL exception: \" << e.what() << std::endl;\n",
    "            }\n",
    "        }\n",
    "    };\n",
    "\n",
    "    //### Step 2 - Create a device object.\n",
    "    //# Device selectors are used to specify the type of a device.\n",
    "    //# Uncomment _one_ of the following three lines to select a device.\n",
    "    // sycl::device device = sycl::device(sycl::default_selector());  //# default_selector returns a device based on a performance heuristic\n",
    "    // sycl::device device = sycl::device(sycl::cpu_selector());      //# cpu_selector returns a cpu device\n",
    "    // sycl::device device = sycl::device(sycl::gpu_selector());      //# gpu_selector returns a gpu device\n",
    "    std::cout << \"Device: \" << device.get_info<sycl::info::device::name>() << \"\\n\";\n",
    "\n",
    "    //### Step 3 - Create a queue object.\n",
    "    //# A queue accepts a single device, and optionally, an exception handler.\n",
    "    //# Uncomment the following line to initialize a queue with our device and handler.\n",
    "    // sycl::queue queue(device, async_handler);\n",
    "\n",
    "    //### Step 4 - Create a sycl event and allocate USM\n",
    "    //# The later execution of the gemm operation is tied to this event\n",
    "    //# The gemm operation will also make use of a vector of sycl events we can call 'gemm_dependencies'\n",
    "    sycl::event gemm_done;\n",
    "    std::vector<sycl::event> gemm_dependencies;\n",
    "    //# Here, we allocate USM pointers for each matrix, using the special 'malloc_shared' function\n",
    "    //# Make sure to template the function with the correct precision, and pass in our queue to the function call\n",
    "    double *A_usm = sycl::malloc_shared<double>(m * k, queue);\n",
    "    double *B_usm = sycl::malloc_shared<double>(k * n, queue);\n",
    "    double *C_usm = sycl::malloc_shared<double>(m * n, queue);\n",
    "\n",
    "    //# define matrix A as the 3x3 matrix\n",
    "    //# {{ 1, 2, 3}, {4, 5, 6}, {7, 8, 9}}\n",
    "    for (int i = 0; i < m; i++) {\n",
    "        for (int j = 0; j < k; j++) {\n",
    "            A_usm[i*m+j] = (double)(i*m+j) + 1.0;\n",
    "        }\n",
    "    }\n",
    "    \n",
    "    //# define matrix B as the identity matrix\n",
    "    for (int i = 0; i < k; i++) {\n",
    "        for (int j = 0; j < n; j++) {\n",
    "            if (i == j) B_usm[i*k+j] = 1.0;\n",
    "            else B_usm[i*k+j] = 0.0;\n",
    "        }\n",
    "    }\n",
    "    \n",
    "    //# initialize C as a 0 matrix\n",
    "    for (int i = 0; i < m; i++) {\n",
    "        for (int j = 0; j < n; j++) {\n",
    "            C_usm[i*m+j] = 0.0;\n",
    "        }\n",
    "    }\n",
    "\n",
    "    //### Step 5 - Execute gemm operation.\n",
    "    //# Here, we fill in the familiar parameters for the gemm operation.\n",
    "    //# However, we must also pass in the queue as the first parameter.\n",
    "    //# We must also pass in our list of dependencies as the final parameter.\n",
    "    //# We are also passing in our USM pointers as opposed to a buffer or raw data pointer.\n",
    "    gemm_done = mkl::blas::gemm(queue, transA, transB, m, n, k, alpha, A_usm, ldA, B_usm, ldB, beta, C_usm, ldC, gemm_dependencies);\n",
    "\n",
    "    //# We must now wait for the given event to finish before accessing any data involved in the operation\n",
    "    //# Otherwise, we may access data before the operation has completed, or before it has been returned to the host\n",
    "    gemm_done.wait();\n",
    "\n",
    "    int status = 0;\n",
    "\n",
    "    //# verify C matrix using USM data\n",
    "    std::cout << \"\\n\";\n",
    "    std::cout << \"C = \\n\";\n",
    "    for (int i = 0; i < m; ++i) {\n",
    "        for (int j = 0; j < n; ++j) {\n",
    "            if (A_usm[i*m+j] != C_usm[i*m+j]) status = 1;\n",
    "            std::cout << C_usm[i*m+j] << \" \";\n",
    "        }\n",
    "        std::cout << \"\\n\";\n",
    "    }\n",
    "    std::cout << \"\\n\";\n",
    "\n",
    "    //# free usm pointers\n",
    "    sycl::free(A_usm, queue);\n",
    "    sycl::free(B_usm, queue);\n",
    "    sycl::free(C_usm, queue);\n",
    "\n",
    "    status == 0 ? std::cout << \"Verified: A = C\\n\" : std::cout << \"Failed: A != C\\n\";\n",
    "    return status;\n",
    "}"
   ]
  },
  {
   "cell_type": "markdown",
   "metadata": {},
   "source": [
    "### Build and Run\n",
    "Select the cell below and click Run ▶ to compile and execute the code above:"
   ]
  },
  {
   "cell_type": "code",
   "execution_count": null,
   "metadata": {},
   "outputs": [],
   "source": [
    "! chmod 755 q; chmod 755 run_gemm_usm.sh;if [ -x \"$(command -v qsub)\" ]; then ./q run_gemm_usm.sh; else ./run_gemm_usm.sh; fi"
   ]
  },
  {
   "cell_type": "markdown",
   "metadata": {},
   "source": [
    "The build instructions for this sample can be found in the ```run_gemm_usm.sh``` script. Consider using the [Link Line Advisor](https://software.intel.com/content/www/us/en/develop/articles/intel-mkl-link-line-advisor.html) to help you create compile and link lines for your oneMKL projects."
   ]
  },
  {
   "cell_type": "markdown",
   "metadata": {},
   "source": [
    "<html><body><span style=\"color:green\"><h1>Survey</h1></span></body></html>\n",
    "\n",
    "[We would appreciate any feedback you’d care to give, so that we can improve the overall training quality and experience. Thanks! ](https://intel.az1.qualtrics.com/jfe/form/SV_3JyBEAtwk5YIg85)"
   ]
  },
  {
   "cell_type": "markdown",
   "metadata": {},
   "source": [
    "<html><body><span style=\"color:Red\"><h1>Reset Notebook</h1></span></body></html>\n",
    "\n",
    "##### Should you be experiencing any issues with your notebook or just want to start fresh run the below cell."
   ]
  },
  {
   "cell_type": "code",
   "execution_count": null,
   "metadata": {
    "jupyter": {
     "source_hidden": true
    }
   },
   "outputs": [],
   "source": [
    "from IPython.display import display, Markdown, clear_output\n",
    "import ipywidgets as widgets\n",
    "button = widgets.Button(\n",
    "    description='Reset Notebook',\n",
    "    disabled=False,\n",
    "    button_style='', # 'success', 'info', 'warning', 'danger' or ''\n",
    "    tooltip='This will update this notebook, overwriting any changes.',\n",
    "    icon='check' # (FontAwesome names without the `fa-` prefix)\n",
    ")\n",
    "out = widgets.Output()\n",
    "def on_button_clicked(_):\n",
    "      # \"linking function with output\"\n",
    "      with out:\n",
    "          # what happens when we press the button\n",
    "          clear_output()\n",
    "          !rsync -a --size-only /data/oneapi_workshop/Intel_oneAPI_MKL_Training/00_GEMM/ ~/Intel_oneAPI_MKL_Training/00_GEMM/\n",
    "          print('Notebook reset -- now click reload on browser.')\n",
    "# linking button and function together using a button's method\n",
    "button.on_click(on_button_clicked)\n",
    "# displaying button and its output together\n",
    "widgets.VBox([button,out])"
   ]
  }
 ],
 "metadata": {
  "kernelspec": {
   "display_name": "Python 3 (Intel® oneAPI 2023.0)",
   "language": "python",
   "name": "c009-intel_distribution_of_python_3_oneapi-beta05-python"
  },
  "language_info": {
   "codemirror_mode": {
    "name": "ipython",
    "version": 3
   },
   "file_extension": ".py",
   "mimetype": "text/x-python",
   "name": "python",
   "nbconvert_exporter": "python",
   "pygments_lexer": "ipython3",
   "version": "3.9.15"
  }
 },
 "nbformat": 4,
 "nbformat_minor": 4
}
