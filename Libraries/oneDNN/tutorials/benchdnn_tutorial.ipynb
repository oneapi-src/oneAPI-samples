{
 "cells": [
  {
   "cell_type": "markdown",
   "metadata": {
    "tags": []
   },
   "source": [
    "# Profile Intel® oneAPI Deep Neural Network Library (oneDNN) Samples by using Verobse Mode and BenchDnn\n",
    "\n",
    "## Learning Objectives\n",
    "In this module the developer will:\n",
    "* Learn how to run performance benchmarks for oneDNN primitives using benchDNN\n",
    "* Learn how to use breakdown Verbose logs to profile oneDNN performance using verbose_converter \n",
    "\n",
    "Benchdnn is a tool provided by oneDNN to test both functionality and performance of oneDNN primitives. Using this tool devlopers can validate and recreate performance results for all supported oneDNN primitives.\n",
    " "
   ]
  },
  {
   "cell_type": "markdown",
   "metadata": {},
   "source": [
    "## Prerequisites\n",
    "***\n",
    "### Prepare the build/run environment"
   ]
  },
  {
   "cell_type": "code",
   "execution_count": 1,
   "metadata": {},
   "outputs": [
    {
     "data": {
      "application/javascript": [
       "IPython.notebook.set_autosave_interval(0)"
      ]
     },
     "metadata": {},
     "output_type": "display_data"
    },
    {
     "name": "stdout",
     "output_type": "stream",
     "text": [
      "Autosave disabled\n"
     ]
    }
   ],
   "source": [
    "# ignore all warning messages\n",
    "import warnings\n",
    "warnings.filterwarnings('ignore')\n",
    "%autosave 0"
   ]
  },
  {
   "cell_type": "code",
   "execution_count": 2,
   "metadata": {},
   "outputs": [
    {
     "name": "stdout",
     "output_type": "stream",
     "text": [
      "env: ONEAPI_INSTALL=/opt/intel/oneapi\n"
     ]
    }
   ],
   "source": [
    "# default path: /opt/intel/oneapi\n",
    "%env ONEAPI_INSTALL=/opt/intel/oneapi"
   ]
  },
  {
   "cell_type": "code",
   "execution_count": 3,
   "metadata": {},
   "outputs": [
    {
     "name": "stdout",
     "output_type": "stream",
     "text": [
      "Error! wrong oneAPI installation path\n"
     ]
    }
   ],
   "source": [
    "import os\n",
    "if os.path.isdir(os.environ['ONEAPI_INSTALL']) == False:\n",
    "    print(\"Error! wrong oneAPI installation path\")\n",
    "else:\n",
    "    print(\"Success! found oneAPI installation\")"
   ]
  },
  {
   "cell_type": "markdown",
   "metadata": {},
   "source": [
    "#### Script - build.sh\n",
    "The script **build.sh** encapsulates the compiler command and flags that will generate our benchDNN executable."
   ]
  },
  {
   "cell_type": "code",
   "execution_count": 4,
   "metadata": {},
   "outputs": [
    {
     "name": "stdout",
     "output_type": "stream",
     "text": [
      "Writing build.sh\n"
     ]
    }
   ],
   "source": [
    "%%writefile build.sh\n",
    "#!/bin/bash\n",
    "source $ONEAPI_INSTALL/setvars.sh --force> /dev/null 2>&1\n",
    "cd oneDNN\n",
    "mkdir build\n",
    "cd build\n",
    "\n",
    "cmake .. \n",
    "make benchdnn"
   ]
  },
  {
   "cell_type": "markdown",
   "metadata": {},
   "source": [
    "#### Submitting **build.sh**  to the job queue\n",
    "Now we can submit the **build.sh** to the job queue.\n",
    "\n",
    "##### NOTE - it is possible to execute any of the build and run commands in local environments.\n",
    "To enable users to run their scripts both on the DevCloud or in local environments, this and subsequent training checks for the existence of the job submission command **qsub**.  If the check fails it is assumed that build/run will be local."
   ]
  },
  {
   "cell_type": "code",
   "execution_count": null,
   "metadata": {},
   "outputs": [
    {
     "name": "stdout",
     "output_type": "stream",
     "text": [
      "submit build.sh to icx node\n",
      "Submitting job:\n",
      "2015305.v-qsvr-1.aidevcloud\n",
      "Job ID                    Name             User            Time Use S Queue\n",
      "------------------------- ---------------- --------------- -------- - -----\n",
      "2015163.v-qsvr-1           ...ub-singleuser u165614         00:03:19 R jupyterhub     \n",
      "2015305.v-qsvr-1           build.sh         u165614                0 Q batch          \n",
      "Waiting for Output......................"
     ]
    }
   ],
   "source": [
    "!chmod 755 q;chmod 755 build.sh;if [ -x \"$(command -v qsub)\" ]; then ./q build.sh; else ./build.sh; fi"
   ]
  },
  {
   "cell_type": "markdown",
   "metadata": {},
   "source": [
    "## Running a benchDNN performance test\n",
    "\n",
    "In benchdnn, execution iterates over all states when a problem description is parsed through as an argument. This means that options that are specified after descriptor won't be applied for the previous descriptor, only for the next one if/when met. \n",
    "\n",
    "``` sh\n",
    "    ./benchdnn --DRIVER [COMMON-OPTIONS] [DRIVER-OPTIONS] PROBLEM-DESCRIPTION\n",
    "```\n",
    "\n",
    "Benchdnn supports command line options; either common or driver-specific together with default option values form a set of states. "
   ]
  },
  {
   "cell_type": "markdown",
   "metadata": {},
   "source": [
    "#### COMMON-OPTIONS\n",
    "- Benchdnn offers a list of common options available to all drivers, users can refer to [`COMMON-OPTIONS`](https://github.com/oneapi-src/oneDNN/blob/master/tests/benchdnn/doc/knobs_common.md) for details on options supported across all the different drivers."
   ]
  },
  {
   "cell_type": "markdown",
   "metadata": {},
   "source": [
    "#### DRIVER-OPTIONS\n",
    "Unlike common options, driver options are specific to each driver.\n",
    "\n",
    "For our testing purposes, we will focus on the convolution driver. Here is an example of some of the driver options specific for (de)convolution:\n",
    "\n",
    " - `--dir={FWD_B [default], FWD_D, FWD_I, BWD_D, BWD_W, BWD_WB}` -- Specify propagation kind.\n",
    "\n",
    " - `--cfg={f32 [default], ...}` -- Specify data type.\n",
    " \n",
    " - `--stag={any [default], ...}` -- Specify physical source memory layout.\n",
    "\n",
    " - `--wtag={any [default], ...}` -- Specify physical weight memory layout.\n",
    "\n",
    " - `--dtag={any [default], ...}` -- Specify physical destination memory layout.\n",
    "\n",
    " - `--alg={DIRECT [default], WINO, AUTO}` -- Specify convolution algorithm.\n",
    "\n",
    " - `--attr-post-ops=STRING` -- Specify post operation primitive attribute. \n",
    " "
   ]
  },
  {
   "cell_type": "markdown",
   "metadata": {
    "tags": []
   },
   "source": [
    "#### PROBLEM-DESCRIPTION\n",
    "In this section, users will learn how to run a convolution benchdnn test with a specific problem description. Benchdnn supports two notions of a problem description: \n",
    "- Problem descriptors, \n",
    "- Dimensions (integer numbers) separated by x delimiter.\n",
    "\n",
    "**The following table describes common problem descriptor entry names across different drivers:**\n",
    "\n",
    "\n",
    "| Entry      | Description|\n",
    "| :---       | :---\n",
    "| g          | Groups (for grouped (de-)convolutions).|\n",
    "| mb         | Minibatch (number of images processed at once).|\n",
    "| ic, oc     | Input and output channels (aka feature maps).|\n",
    "| id, ih, iw | Input depth, height and width.|\n",
    "| od, oh, ow | Output depth, height and width.|\n",
    "| kd, kh, kw | Kernel (filter, weights) depth, height and width.|\n",
    "| sd, sh, sw | Stride over depth, height and width.|\n",
    "| dd, dh, dw | Dilation by depth, height and width.|\n",
    "| pd, ph, pw | Front, top and left padding.|\n",
    "| n          | Descriptor name.|\n",
    "| _          | Underscore. Optional delimiter between entries for readability.|\n",
    "\n",
    "In our case for convolution the canonical form is:\n",
    "```\n",
    "    gXmbX_icXidXihXiwX_ocXodXohXowX_kdXkhXkwX_sdXshXswX_pdXphXpwX_ddXdhXdwX_nS\n",
    "```\n",
    "\n"
   ]
  },
  {
   "cell_type": "markdown",
   "metadata": {},
   "source": [
    "#### Script - run.sh\n",
    "The script **run.sh** encapsulates the program for submission to the job queue for execution.\n",
    "\n",
    "In this exercise, we use the problem descriptor to test for alexnet convolution - `g1mb256_ic3ih227iw227_oc96oh55ow55_kh11kw11_sh4sw4_ph0pw0_n\"alexnet:conv1\"`\n",
    "\n",
    "Users can modify the paramaters and knobs below to expirement with the output."
   ]
  },
  {
   "cell_type": "code",
   "execution_count": 4,
   "metadata": {},
   "outputs": [
    {
     "name": "stdout",
     "output_type": "stream",
     "text": [
      "Overwriting run.sh\n"
     ]
    }
   ],
   "source": [
    "%%writefile run.sh\n",
    "#!/bin/bash\n",
    "echo \"########## Executing the run ##########\"\n",
    "export BENCHDNN_ROOT=oneDNN/build/tests/benchdnn\n",
    "export PROBLEM=g1mb256ic3ih227iw227oc96oh55ow55kh11kw11sh4sw4ph0pw0n\"alexnet:conv1\"\n",
    "\n",
    "./$BENCHDNN_ROOT/benchdnn --conv --mode=p --dir=FWD_D --alg=direct $PROBLEM &> alexnet_log.log 2>&1\n",
    "cat alexnet_log.log\n",
    "\n",
    "echo \"########## Done with the run ##########\""
   ]
  },
  {
   "cell_type": "code",
   "execution_count": 5,
   "metadata": {},
   "outputs": [
    {
     "name": "stdout",
     "output_type": "stream",
     "text": [
      "submit run.sh to icx node\n",
      "Submitting job:\n",
      "2042519.v-qsvr-1.aidevcloud\n",
      "Job ID                    Name             User            Time Use S Queue\n",
      "------------------------- ---------------- --------------- -------- - -----\n",
      "2042492.v-qsvr-1           ...ub-singleuser u165614         00:00:15 R jupyterhub     \n",
      "2042519.v-qsvr-1           run.sh           u165614                0 Q batch          \n",
      "Waiting for Output.........\n",
      "########################################################################\n",
      "#      Date:           Tue 15 Nov 2022 01:16:05 PM PST\n",
      "#    Job ID:           2042519.v-qsvr-1.aidevcloud\n",
      "#      User:           u165614\n",
      "# Resources:           neednodes=1:icx:ppn=2,nodes=1:icx:ppn=2,walltime=06:00:00\n",
      "########################################################################\n",
      "\n",
      "########## Executing the run\n",
      "Output template: perf,%engine%,%impl%,%name%,%prb%,%Gops%,%-time%,%-Gflops%,%0time%,%0Gflops%\n",
      "perf,cpu,jit:avx512_core,alexnet:conv1,--conv --mode=P --dir=FWD_D g1mb256ic3ih227oc96oh55kh11sh4ph0nalexnet:conv1,53.9726,10.2881,5246.12,10.7632,5014.54\n",
      "tests:1 passed:1 skipped:0 mistrusted:0 unimplemented:0 invalid_arguments:0 failed:0 listed:0\n",
      "total perf: min(ms):10.2881 avg(ms):10.7632\n",
      "########## Done with the run\n",
      "\n",
      "########################################################################\n",
      "# End of output for job 2042519.v-qsvr-1.aidevcloud\n",
      "# Date: Tue 15 Nov 2022 01:16:11 PM PST\n",
      "########################################################################\n",
      "\n"
     ]
    }
   ],
   "source": [
    "!chmod 755 q;chmod 755 run.sh;if [ -x \"$(command -v qsub)\" ]; then ./q run.sh; else ./run.sh; fi"
   ]
  },
  {
   "cell_type": "markdown",
   "metadata": {},
   "source": [
    "  \n",
    "## Running a benchDNN test with Verbose\n",
    "\n",
    "***\n",
    "In this section, we enable verbose mode on the built sample from the previous section, and users can see different results from CPU and GPU.  \n",
    "Refer to the [link](https://oneapi-src.github.io/oneDNN/dev_guide_verbose.html) for detailed verbose mode information"
   ]
  },
  {
   "cell_type": "markdown",
   "metadata": {},
   "source": [
    "When the feature is enabled at build-time, you can use the DNNL_VERBOSE environment variable to turn verbose mode on and control the level of verbosity.\n",
    "\n",
    "|Environment variable|Value|Description|\n",
    "|:-----|:----|:-----|\n",
    "|DNNL_VERBOSE| 0 |no verbose output (default)|\n",
    "||1|primitive information at execution|\n",
    "||2|primitive information at creation and execution|  \n",
    "\n",
    "\n",
    "Users could also enable DNNL_VERBOSE with timestamps by DNNL_VERBOSE_TIMESTAMP environment variable.  \n",
    "\n",
    "|Environment variable|Value|Description|\n",
    "|:-----|:----|:-----|\n",
    "|DNNL_VERBOSE_TIMESTAMP| 0 |display timestamps disabled (default)|\n",
    "||1| display timestamps enabled|\n"
   ]
  },
  {
   "cell_type": "markdown",
   "metadata": {},
   "source": [
    "#### Script - run_blocked_v.sh\n",
    "The script **run_blocked_v.sh** encapsulates the program for submission to the job queue for execution.\n",
    "\n",
    "In this particular script, we will run the same benchdnn script as before with two changes, firstly we will be running with DNNL_VERBOSE enabled which will help us later understand the program execution in more detail. The second change is we will be forcing blocked format (nChw16c) in the weight layers of the convolution using the driver option `--wtag = aBx16b`"
   ]
  },
  {
   "cell_type": "code",
   "execution_count": 8,
   "metadata": {},
   "outputs": [
    {
     "name": "stdout",
     "output_type": "stream",
     "text": [
      "Overwriting run_v.sh\n"
     ]
    }
   ],
   "source": [
    "%%writefile run_blocked_v.sh\n",
    "#!/bin/bash\n",
    "echo \"########## Executing the run ##########\"\n",
    "export ONEDNN_VERBOSE=1\n",
    "export BENCHDNN_ROOT=oneDNN/build/tests/benchdnn\n",
    "export PROBLEM=g1mb256ic3ih227iw227oc96oh55ow55kh11kw11sh4sw4ph0pw0n\"alexnet:conv1\"\n",
    "\n",
    "./$BENCHDNN_ROOT/benchdnn --conv --mode=p --dir=FWD_D --wtag=aBx16b --alg=direct $PROBLEM &> alexnet_blocked_log.log 2>&1\n",
    "\n",
    "echo \"########## Done with the run ##########\""
   ]
  },
  {
   "cell_type": "markdown",
   "metadata": {},
   "source": [
    "#### Script - run_plain_v.sh\n",
    "The script **run_plain_v.sh** encapsulates the program for submission to the job queue for execution.\n",
    "\n",
    "In this new script, we will keep everything the same as before and change the weight memory format to plain (nhwc). `--wtag = abx`"
   ]
  },
  {
   "cell_type": "code",
   "execution_count": 60,
   "metadata": {},
   "outputs": [
    {
     "name": "stdout",
     "output_type": "stream",
     "text": [
      "Overwriting run_plain_v.sh\n"
     ]
    }
   ],
   "source": [
    "%%writefile run_plain_v.sh\n",
    "#!/bin/bash\n",
    "echo \"########## Executing the run ##########\"\n",
    "export ONEDNN_VERBOSE=1\n",
    "export BENCHDNN_ROOT=oneDNN/build/tests/benchdnn\n",
    "export PROBLEM=g1mb256ic3ih227iw227oc96oh55ow55kh11kw11sh4sw4ph0pw0n\"alexnet:conv1\"\n",
    "\n",
    "./$BENCHDNN_ROOT/benchdnn --conv --mode=p --dir=FWD_D --wtag=abx --alg=direct $PROBLEM &> alexnet_plain_log.log 2>&1\n",
    "\n",
    "echo \"########## Done with the run ##########\""
   ]
  },
  {
   "cell_type": "code",
   "execution_count": 61,
   "metadata": {},
   "outputs": [
    {
     "name": "stdout",
     "output_type": "stream",
     "text": [
      "submit run_plain_v.sh to icx node\n",
      "Submitting job:\n",
      "2064010.v-qsvr-1.aidevcloud\n",
      "Job ID                    Name             User            Time Use S Queue\n",
      "------------------------- ---------------- --------------- -------- - -----\n",
      "2063736.v-qsvr-1           ...ub-singleuser u165614         00:00:56 R jupyterhub     \n",
      "2064006.v-qsvr-1           run_blocked_v.sh u165614                0 Q batch          \n",
      "2064010.v-qsvr-1           run_plain_v.sh   u165614                0 Q batch          \n",
      "Waiting for Output..........\n",
      "########################################################################\n",
      "#      Date:           Tue 29 Nov 2022 09:28:14 PM PST\n",
      "#    Job ID:           2064010.v-qsvr-1.aidevcloud\n",
      "#      User:           u165614\n",
      "# Resources:           cput=35:00:00,neednodes=1:icx:ppn=2,nodes=1:icx:ppn=2,walltime=06:00:00\n",
      "########################################################################\n",
      "\n",
      "########## Executing the run ##########\n",
      "########## Done with the run ##########\n",
      "\n",
      "########################################################################\n",
      "# End of output for job 2064010.v-qsvr-1.aidevcloud\n",
      "# Date: Tue 29 Nov 2022 09:28:21 PM PST\n",
      "########################################################################\n",
      "\n"
     ]
    }
   ],
   "source": [
    "! chmod 755 run_plain_v.sh;if [ -x \"$(command -v qsub)\" ]; then ./q run_plain_v.sh; else ./run_plain_v.sh; fi"
   ]
  },
  {
   "cell_type": "markdown",
   "metadata": {},
   "source": [
    "#### Submitting  **run_v.sh** to the job queue\n",
    "Now we can submit the **run_v.sh** to the job queue."
   ]
  },
  {
   "cell_type": "code",
   "execution_count": 49,
   "metadata": {},
   "outputs": [
    {
     "name": "stdout",
     "output_type": "stream",
     "text": [
      "submit run_blocked_v.sh to icx node\n",
      "Submitting job:\n",
      "2064008.v-qsvr-1.aidevcloud\n",
      "Job ID                    Name             User            Time Use S Queue\n",
      "------------------------- ---------------- --------------- -------- - -----\n",
      "2063736.v-qsvr-1           ...ub-singleuser u165614         00:00:52 R jupyterhub     \n",
      "2064006.v-qsvr-1           run_blocked_v.sh u165614                0 R batch          \n",
      "2064008.v-qsvr-1           run_blocked_v.sh u165614                0 Q batch          \n",
      "Waiting for Output......\n",
      "########################################################################\n",
      "#      Date:           Tue 29 Nov 2022 09:23:46 PM PST\n",
      "#    Job ID:           2064008.v-qsvr-1.aidevcloud\n",
      "#      User:           u165614\n",
      "# Resources:           cput=35:00:00,neednodes=1:icx:ppn=2,nodes=1:icx:ppn=2,walltime=06:00:00\n",
      "########################################################################\n",
      "\n",
      "########## Executing the run ##########\n",
      "########## Done with the run ##########\n",
      "\n",
      "########################################################################\n",
      "# End of output for job 2064008.v-qsvr-1.aidevcloud\n",
      "# Date: Tue 29 Nov 2022 09:23:49 PM PST\n",
      "########################################################################\n",
      "\n"
     ]
    }
   ],
   "source": [
    "! chmod 755 run_blocked_v.sh;if [ -x \"$(command -v qsub)\" ]; then ./q run_blocked_v.sh; else ./run_blocked_v.sh; fi"
   ]
  },
  {
   "cell_type": "markdown",
   "metadata": {},
   "source": [
    "## Analyze Verbose Logs\n",
    "***\n"
   ]
  },
  {
   "cell_type": "markdown",
   "metadata": {},
   "source": [
    "### Step 1: List out all oneDNN verbose logs\n"
   ]
  },
  {
   "cell_type": "code",
   "execution_count": 4,
   "metadata": {},
   "outputs": [
    {
     "name": "stdout",
     "output_type": "stream",
     "text": [
      " 0 : alexnet_blocked_log.log \n",
      " 1 : alexnet_log.log \n",
      " 2 : alexnet_log_v.log \n",
      " 3 : alexnet_log_v2.log \n",
      " 4 : alexnet_plain_log.log \n",
      " 5 : test_log.log \n",
      " 6 : unet_log.log \n",
      " 7 : unet_log_verbose.log \n"
     ]
    }
   ],
   "source": [
    "import os\n",
    "filenames= os.listdir (\".\") \n",
    "result = []\n",
    "keyword = \".log\"\n",
    "for filename in filenames: \n",
    "    if filename.find(keyword) != -1:\n",
    "        result.append(filename)\n",
    "result.sort()\n",
    "\n",
    "index =0 \n",
    "for folder in result:\n",
    "    print(\" %d : %s \" %(index, folder))\n",
    "    index+=1"
   ]
  },
  {
   "cell_type": "markdown",
   "metadata": {},
   "source": [
    "### Step 2:  Parse verbose log and get the data back\n",
    "\n",
    "Users can pick a verbose log to analyze from step 1 and modify the index below."
   ]
  },
  {
   "cell_type": "code",
   "execution_count": 5,
   "metadata": {},
   "outputs": [],
   "source": [
    "FdIndex=0"
   ]
  },
  {
   "cell_type": "markdown",
   "metadata": {},
   "source": [
    "#### Verbose log converter"
   ]
  },
  {
   "cell_type": "code",
   "execution_count": 6,
   "metadata": {},
   "outputs": [
    {
     "name": "stdout",
     "output_type": "stream",
     "text": [
      "(0, {'all': 'prim_kind,ncalls,time(ms),overall%,agg_ncalls(avg),agg_time(ms),agg_overall%\\nconvolution,283,3019.48,99.39,283.00,3019.48,99.39\\nreorder,2,18.67,0.61,142.50,3038.16,100.00'})\n"
     ]
    }
   ],
   "source": [
    "import sys\n",
    "sys.path.insert(1, './oneDNN/scripts/verbose_converter/')\n",
    "import verbose_converter\n",
    "\n",
    "logfile = result[FdIndex]\n",
    "cur_log = open(logfile, \"r\")\n",
    "output = verbose_converter.convert(0, 'oneDNN', cur_log, 'generate',\n",
    "         'breakdown', 1, agg_keys=['prim_kind'])\n",
    "print(output)\n"
   ]
  },
  {
   "cell_type": "markdown",
   "metadata": {},
   "source": [
    "The output of the verbose_converter from last step is not fully parsed and hard to read. The helper function below *cleanup* will further parse the output from our breakdown."
   ]
  },
  {
   "cell_type": "code",
   "execution_count": 7,
   "metadata": {},
   "outputs": [],
   "source": [
    "def cleanup(breakdown):\n",
    "    temp = ' '.join([str(elem) for i,elem in enumerate(breakdown)])\n",
    "    parsed_breakdown = temp.split(\"'\")[3]\n",
    "    return parsed_breakdown.split(\"\\\\n\")"
   ]
  },
  {
   "cell_type": "code",
   "execution_count": 8,
   "metadata": {},
   "outputs": [
    {
     "name": "stdout",
     "output_type": "stream",
     "text": [
      "prim_kind,ncalls,time(ms),overall%,agg_ncalls(avg),agg_time(ms),agg_overall%\n",
      "convolution,283,3019.48,99.39,283.00,3019.48,99.39\n",
      "reorder,2,18.67,0.61,142.50,3038.16,100.00\n"
     ]
    }
   ],
   "source": [
    "log_breakdown = cleanup(output)\n",
    "for row in log_breakdown:\n",
    "    print(row)"
   ]
  },
  {
   "cell_type": "markdown",
   "metadata": {},
   "source": [
    ">Note: Users could also use the verbose converter via the command line "
   ]
  },
  {
   "cell_type": "markdown",
   "metadata": {},
   "source": [
    "### Step 3:  Visualize the verbose breakdown"
   ]
  },
  {
   "cell_type": "markdown",
   "metadata": {},
   "source": [
    "Using the verbose log breakdown we got from previous steps, users can visualize the data to get a better understanding of the execution stack.\n",
    "Users can run the script below to generate a pie chart of the different primitive execution times using pandas."
   ]
  },
  {
   "cell_type": "code",
   "execution_count": 9,
   "metadata": {},
   "outputs": [],
   "source": [
    "# Import required packages\n",
    "import pandas as pd\n",
    "import numpy as np"
   ]
  },
  {
   "cell_type": "code",
   "execution_count": 10,
   "metadata": {},
   "outputs": [
    {
     "data": {
      "image/png": "[encoded data removed]",
      "text/plain": [
       "<Figure size 600x600 with 1 Axes>"
      ]
     },
     "metadata": {},
     "output_type": "display_data"
    }
   ],
   "source": [
    "prim_time = []\n",
    "prim_kinds = []\n",
    "prim_ncalls = []\n",
    "\n",
    "# Extract number of calls, exec time and kind from breakdown\n",
    "if len(log_breakdown) > 1:\n",
    "    for i in range(1, len(log_breakdown)):\n",
    "        temp = log_breakdown[i].split(',')\n",
    "        prim_time.append(float(temp[2]))\n",
    "        prim_ncalls.append(float(temp[1]))\n",
    "        prim_kinds.append(temp[0])\n",
    "\n",
    "# Create the pandas object with parsed data\n",
    "pd_breakdown = pd.Series(prim_time, prim_kinds, name=\"primitive breakdown\")\n",
    "\n",
    "# Display the pie chart\n",
    "pd_breakdown.plot.pie(\n",
    "    autopct=\"%.2f\",\n",
    "    fontsize=14,\n",
    "    figsize=(6, 6),\n",
    ");"
   ]
  },
  {
   "cell_type": "markdown",
   "metadata": {},
   "source": [
    "Users can also output a simplified table of the different oneDNN primtives used sing the same data for our previous script."
   ]
  },
  {
   "cell_type": "code",
   "execution_count": 11,
   "metadata": {},
   "outputs": [
    {
     "name": "stdout",
     "output_type": "stream",
     "text": [
      "             time(ms)  ncalls\n",
      "convolution   3019.48   18.67\n",
      "reorder        283.00    2.00\n"
     ]
    }
   ],
   "source": [
    "table = [prim_time, prim_ncalls]\n",
    "pd_table = pd.DataFrame(table, columns = ['time(ms)', 'ncalls'], index=prim_kinds)\n",
    "print(pd_table)"
   ]
  },
  {
   "cell_type": "markdown",
   "metadata": {},
   "source": [
    "### Step 4 [Optional]:  Compare another log\n",
    "\n",
    "Repeat steps 2-3 with a different log and compare the results. \n",
    "Users are encouraged to experiement with different benchDNN problem arguments."
   ]
  },
  {
   "cell_type": "markdown",
   "metadata": {},
   "source": [
    "***\n",
    "# Summary\n",
    "In this lab the developer learned the following:\n",
    "* How to run performance benchmarks for oneDNN primitives using benchDNN\n",
    "* How to use breakdown Verbose logs to profile oneDNN performance using verbose_converter \n"
   ]
  }
 ],
 "metadata": {
  "kernelspec": {
   "display_name": "Python 3 (ipykernel)",
   "language": "python",
   "name": "python3"
  },
  "language_info": {
   "codemirror_mode": {
    "name": "ipython",
    "version": 3
   },
   "file_extension": ".py",
   "mimetype": "text/x-python",
   "name": "python",
   "nbconvert_exporter": "python",
   "pygments_lexer": "ipython3",
   "version": "3.9.12"
  },
  "nbTranslate": {
   "displayLangs": [
    "*"
   ],
   "hotkey": "alt-t",
   "langInMainMenu": true,
   "sourceLang": "en",
   "targetLang": "fr",
   "useGoogleTranslate": true
  },
  "toc": {
   "base_numbering": 1,
   "nav_menu": {},
   "number_sections": true,
   "sideBar": true,
   "skip_h1_title": false,
   "title_cell": "Table of Contents",
   "title_sidebar": "Contents",
   "toc_cell": false,
   "toc_position": {
    "height": "525.6px",
    "left": "28px",
    "top": "137.8px",
    "width": "301.109px"
   },
   "toc_section_display": true,
   "toc_window_display": true
  }
 },
 "nbformat": 4,
 "nbformat_minor": 4
}
