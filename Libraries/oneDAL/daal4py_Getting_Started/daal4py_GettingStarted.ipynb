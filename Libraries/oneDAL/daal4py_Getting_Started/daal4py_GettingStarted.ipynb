{
 "cells": [
  {
   "cell_type": "code",
   "execution_count": 1,
   "metadata": {},
   "outputs": [],
   "source": [
    "# =============================================================\n",
    "# Copyright © 2020 Intel Corporation\n",
    "# \n",
    "# SPDX-License-Identifier: MIT\n",
    "# ============================================================="
   ]
  },
  {
   "cell_type": "markdown",
   "metadata": {},
   "source": [
    "# IntelPython Getting Started Example for Shared Memory Systems"
   ]
  },
  {
   "cell_type": "markdown",
   "metadata": {},
   "source": [
    "## Importing and Organizing Data"
   ]
  },
  {
   "cell_type": "markdown",
   "metadata": {},
   "source": [
    "In this example we will be predicting **prices of houses in Boston** based on the features of each house.\n",
    "\n",
    "Let's start by **importing** all necessary data and packages."
   ]
  },
  {
   "cell_type": "code",
   "execution_count": 2,
   "metadata": {},
   "outputs": [],
   "source": [
    "##### Linear regression example for shared memory systems #####\n",
    "import daal4py as d4p\n",
    "from sklearn.datasets import load_boston\n",
    "from sklearn.model_selection import train_test_split\n",
    "import pandas as pd\n",
    "import numpy as np\n",
    "import pickle"
   ]
  },
  {
   "cell_type": "markdown",
   "metadata": {},
   "source": [
    "Now let's **load** in the dataset and **organize** it as necessary to work with our model."
   ]
  },
  {
   "cell_type": "code",
   "execution_count": 3,
   "metadata": {},
   "outputs": [],
   "source": [
    "# loading in the data\n",
    "data = load_boston()\n",
    "\n",
    "# organizing variables used in the model for prediction\n",
    "X = data.data # house characteristics\n",
    "y = data.target[np.newaxis].T # house price\n",
    "\n",
    "# splitting the data for training and testing, with a 25% test dataset size\n",
    "X_train, X_test, y_train, y_test = train_test_split(X, y, test_size = 0.25, random_state =1693)"
   ]
  },
  {
   "cell_type": "markdown",
   "metadata": {},
   "source": [
    "## Training and Saving the Model"
   ]
  },
  {
   "cell_type": "markdown",
   "metadata": {},
   "source": [
    "Let's **train our model** and look at the model's features!"
   ]
  },
  {
   "cell_type": "code",
   "execution_count": 4,
   "metadata": {},
   "outputs": [],
   "source": [
    "# training the model for prediction\n",
    "train_result = d4p.linear_regression_training().compute(X_train, y_train)"
   ]
  },
  {
   "cell_type": "markdown",
   "metadata": {},
   "source": [
    "To **get training model information** and **save it to a file**:"
   ]
  },
  {
   "cell_type": "code",
   "execution_count": 5,
   "metadata": {},
   "outputs": [
    {
     "name": "stdout",
     "output_type": "stream",
     "text": [
      "Here's our model:\n",
      "\n",
      "\n",
      " NumberOfBetas: 14\n",
      "\n",
      "NumberOfResponses: 1\n",
      "\n",
      "InterceptFlag: False\n",
      "\n",
      "Beta: array(\n",
      "  [[ 0.00000000e+00 -1.05416344e-01  5.25259886e-02  4.26844883e-03\n",
      "     2.76607367e+00 -2.82517989e+00  5.49968304e+00  3.48833264e-03\n",
      "    -8.73247684e-01  1.74005447e-01 -8.38917510e-03 -3.28044397e-01\n",
      "     1.58423529e-02 -4.57542900e-01]],\n",
      "  dtype=float64, shape=(1, 14))\n",
      "\n",
      "NumberOfFeatures: 13 \n",
      "\n"
     ]
    }
   ],
   "source": [
    "# retrieving and printing training model\n",
    "model = train_result.model\n",
    "print(\"Here's our model:\\n\\n\\n\", model , \"\\n\")\n",
    "\n",
    "model_filename = './models/linear_regression_batch.sav'\n",
    "\n",
    "# saving model to a file\n",
    "pickle.dump(model, open(model_filename, \"wb\"))"
   ]
  },
  {
   "cell_type": "markdown",
   "metadata": {},
   "source": [
    "Now let's **load up the model** and look at one of the model's features."
   ]
  },
  {
   "cell_type": "code",
   "execution_count": 6,
   "metadata": {},
   "outputs": [
    {
     "name": "stdout",
     "output_type": "stream",
     "text": [
      "Here is one of our loaded model's features: \n",
      "\n",
      " [[ 0.00000000e+00 -1.05416344e-01  5.25259886e-02  4.26844883e-03\n",
      "   2.76607367e+00 -2.82517989e+00  5.49968304e+00  3.48833264e-03\n",
      "  -8.73247684e-01  1.74005447e-01 -8.38917510e-03 -3.28044397e-01\n",
      "   1.58423529e-02 -4.57542900e-01]]\n"
     ]
    }
   ],
   "source": [
    "# loading the training model from a file\n",
    "loaded_model = pickle.load(open(model_filename, \"rb\"))\n",
    "print(\"Here is one of our loaded model's features: \\n\\n\", loaded_model.Beta)"
   ]
  },
  {
   "cell_type": "markdown",
   "metadata": {},
   "source": [
    "## Making a Prediction and Saving the Results"
   ]
  },
  {
   "cell_type": "markdown",
   "metadata": {},
   "source": [
    "Time to **make a prediction!**"
   ]
  },
  {
   "cell_type": "code",
   "execution_count": 7,
   "metadata": {},
   "outputs": [],
   "source": [
    "# now predicting the target feature(s) using the trained model\n",
    "y_pred = d4p.linear_regression_prediction().compute(X_test, loaded_model).prediction "
   ]
  },
  {
   "cell_type": "markdown",
   "metadata": {},
   "source": [
    "Now let's **export the results to a CSV file**."
   ]
  },
  {
   "cell_type": "code",
   "execution_count": 8,
   "metadata": {},
   "outputs": [
    {
     "name": "stdout",
     "output_type": "stream",
     "text": [
      "[CODE_SAMPLE_COMPLETED_SUCCESFULLY]\n"
     ]
    }
   ],
   "source": [
    "np.savetxt(\"./results/linear_regression_batch_results.csv\", y_pred, delimiter =  \",\")\n",
    "print(\"[CODE_SAMPLE_COMPLETED_SUCCESFULLY]\")"
   ]
  }
 ],
 "metadata": {
  "kernelspec": {
   "display_name": "Python 3",
   "language": "python",
   "name": "python3"
  },
  "language_info": {
   "codemirror_mode": {
    "name": "ipython",
    "version": 3
   },
   "file_extension": ".py",
   "mimetype": "text/x-python",
   "name": "python",
   "nbconvert_exporter": "python",
   "pygments_lexer": "ipython3",
   "version": "3.7.6"
  }
 },
 "nbformat": 4,
 "nbformat_minor": 2
}
