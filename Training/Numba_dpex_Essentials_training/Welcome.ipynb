{
 "cells": [
  {
   "cell_type": "markdown",
   "metadata": {},
   "source": [
    "# Data Parallel Python (DPPY) Essentials Modules"
   ]
  },
  {
   "cell_type": "markdown",
   "metadata": {},
   "source": [
    "The concepts build on top of each other introducing and reinforcing the concepts of Data Parallel essentials for Python (dpex)\n",
    "\n",
    "## Module 0 - [Introduction to Jupyter Notebook (Optional) ](00_DPPY_Prerequisites/Setup_Instructions_Numba.ipynb)\n",
    "`Optional` This module explains how to use Jupyter Notebook which is used in all of the modules to edit and run coding excecises, this can be skipped if you are already familiar with using Jupyter Notebooks.\n",
    "\n",
    "## Module 1 - [Introduction to dpex ](01_dpex_Intro/dpex_Intro.ipynb)\n",
    "These initial hands-on exercises introduce you to concepts of Data Parallel Python. In addition, it familiarizes you how to execute on multiple devices using Data Parallel essentials for Python (dpex), utilize Numba and Numba-dpex to write paralle code on GPU and utitlize dpex features to synchronize data from device to host\n",
    "\n",
    "## Module 2 - [Introduction to dpCtl](02_dpctl_Intro/dpex_dpCtl.ipynb)\n",
    "These hands-on exercises present how to use Data parallel Control (dpCtl) to manage different devices, usage of the classes and the functions of dpCtl, how to use dpCtl Memory Python API to manage USM memory  and usage of dpCtl for Memory Management in dpex\n",
    "\n",
    "## Module 3 - [dpex Pairwise Distance Algorithm](03_dpex_Pairwise_Distance/dpex_Pairwise_Distance.ipynb)\n",
    "These hands-on exercises show how to build a Numba implementation of Pairwise distance algorithm targeting CPU and GPU using Numba Jit approach, Kernel approach and build using Numpy approach\n",
    "\n",
    "## Module 4 - [dpex Black Scholes Algorithm](04_dpex_Black_Sholes/dpex_Black_Sholes.ipynb)\n",
    "These hands-on exercises show how to build a Numba implementation of Black scholes algorithm targeting CPU and GPU using Numba Jit approach, Kernel approach and build using Numpy approach\n",
    "\n",
    "## Module 5 - [dpex Kmeans](05_dpex_Kmeans/dpex_Kmeans.ipynb)\n",
    "These hands-on exercises show how to build a Numba implementation of Kmeans algorithm targeting CPU and GPU using Numba Jit approach, Kernel approach and build using Numpy approach\n",
    "\n",
    "## Module 6 - [dpex gpairs](06_dpex_GPAIRS/dpex_Gpairs.ipynb)\n",
    "These hands-on exercises show how to build a Numba implementation of gpairs algorithm targeting CPU and GPU using Numba Jit approach, Kernel approach and build using Numpy approach\n",
    "\n",
    "## Module 7 - [dpex KNN](07_dpex_KNN/dpex_KNN.ipynb)\n",
    "These hands-on exercises show how to build a Numba implementation of KNN algorithm targeting CPU and GPU using Numba Jit approach, Kernel approach and build using Numpy approach\n",
    "\n",
    "## Module 8 - [dpex reductions](08_dpex_reductions/dpex_reductions.ipynb)\n",
    "These hands-on exercises show how to write reduction operations on a GPU using Global memory, Local memory and Atomics approach"
   ]
  }
 ],
 "metadata": {
  "kernelspec": {
   "display_name": "Python 3 (Intel® oneAPI 2023.0)",
   "language": "python",
   "name": "c009-intel_distribution_of_python_3_oneapi-beta05-python"
  },
  "language_info": {
   "codemirror_mode": {
    "name": "ipython",
    "version": 3
   },
   "file_extension": ".py",
   "mimetype": "text/x-python",
   "name": "python",
   "nbconvert_exporter": "python",
   "pygments_lexer": "ipython3",
   "version": "3.9.15"
  },
  "toc": {
   "base_numbering": 1,
   "nav_menu": {},
   "number_sections": true,
   "sideBar": true,
   "skip_h1_title": false,
   "title_cell": "Table of Contents",
   "title_sidebar": "Contents",
   "toc_cell": false,
   "toc_position": {
    "height": "calc(100% - 180px)",
    "left": "10px",
    "top": "150px",
    "width": "384.391px"
   },
   "toc_section_display": true,
   "toc_window_display": true
  },
  "widgets": {
   "application/vnd.jupyter.widget-state+json": {
    "state": {},
    "version_major": 2,
    "version_minor": 0
   }
  }
 },
 "nbformat": 4,
 "nbformat_minor": 4
}
