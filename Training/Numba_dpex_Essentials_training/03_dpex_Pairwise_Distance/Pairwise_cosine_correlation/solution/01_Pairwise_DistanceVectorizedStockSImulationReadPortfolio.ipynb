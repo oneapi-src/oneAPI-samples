{
 "cells": [
  {
   "cell_type": "markdown",
   "id": "d63cc5f8-8166-48c3-9456-86f6d8fc988f",
   "metadata": {},
   "source": [
    "# Module 02_01: Pairwise Distance using Intel Extensions for Scikit-learn*\n",
    "\n",
    "![Assets/PairwiseStocks.jpg](Assets/PairwiseStocks.jpg)\n",
    "\n",
    "## Learning Objectives:\n",
    "\n",
    "- Describe and apply the correct surgical patching method to patch pairwise_distance\n",
    "-  recall that \"the **'euclidean'** metric is not optimized by **Intel Extensions for Scikit learn**, but the metrics \"**'cosine'** and **'correlation'**  are\n",
    "- Describe the application of pairwise_distance to the problem of finding all time series  charts  similar to a chosen pattern\n",
    "\n",
    "**References:**\n",
    "for Background on Geometric Brownian Motion more generally see:\n",
    "\n",
    "P. Glasserman, Monte Carlo methods in financial engineering. Vol. 53 (2013), Springer Science & Business Media.\n",
    "\n",
    "\n",
    "## Background:\n",
    "\n",
    "Geometrics Brownian Motion using arrays's of precomputed random numbers is used to synthesize a portfolio of 500 stocks which are saved in data/portfolio.npy. We created minute data for one years worth of trades. The data are random but partialy correlated with randomly generated eigenvectors to simulate stock behavoir.  \n",
    "\n",
    "The goal for the exercise is to find one of several interesting trading patterns and plot the stocks that best match that pattern using **pairwise_distance** powered by oneAPI.\n",
    "\n",
    "## Exercise:\n",
    "\n",
    "- Patch the pairwise_distance cells either individually or by region (first cell in notebook)\n"
   ]
  },
  {
   "cell_type": "code",
   "execution_count": null,
   "id": "f78ac205-bdbf-4edd-b2ad-a88eabb4e38f",
   "metadata": {},
   "outputs": [],
   "source": [
    "## Read the precomputed, synthesized stock portfolio of 500 stocks (minute trades for a year)\n",
    "import numpy as np\n",
    "with open('../data/portfolio500.npy', 'rb') as f:\n",
    "    P = np.load(f)"
   ]
  },
  {
   "cell_type": "markdown",
   "id": "d5b37ed3-d5fc-4ee2-98b3-73ff2ecc8f42",
   "metadata": {},
   "source": [
    "## Plot the whole portfolio at once to get a feel for the spreadof the data"
   ]
  },
  {
   "cell_type": "code",
   "execution_count": null,
   "id": "80b522f7-93ab-44b2-86e7-43efaf45dee5",
   "metadata": {},
   "outputs": [],
   "source": [
    "%matplotlib inline\n",
    "import matplotlib.pyplot as plt\n",
    "\n",
    "plt.figure(figsize = (16,8))\n",
    "plt.title('Multidimensional Correlated GBM', fontsize = 18)\n",
    "plt.xlabel('Time', fontsize = 18)\n",
    "\n",
    "plt.plot(P)\n",
    "plt.grid()\n",
    "plt.show()"
   ]
  },
  {
   "cell_type": "markdown",
   "id": "4192ea35-8aa8-4949-9281-d1e0a4f28f70",
   "metadata": {},
   "source": [
    "## Plot just a handful to see if they look \"stock like\""
   ]
  },
  {
   "cell_type": "code",
   "execution_count": null,
   "id": "9dd4f451-6799-4eed-b6a9-d51f7b6e0ded",
   "metadata": {},
   "outputs": [],
   "source": [
    "plt.figure(figsize = (16,8))\n",
    "plt.title('Multidimensional Correlated GBM', fontsize = 18)\n",
    "plt.xlabel('Time', fontsize = 18)\n",
    "\n",
    "plt.plot(P[:,:4])\n",
    "plt.grid()"
   ]
  },
  {
   "cell_type": "markdown",
   "id": "03cf069c-4ae5-4a8c-9749-fd60f3054545",
   "metadata": {},
   "source": [
    "# Retreive previous compelling stock shapes\n",
    "\n",
    "Retrieve shapes found during a previous run. These compelling shapes are ones that reflect a decline in the overall price over time (and if we use -1 times this shape plus adjusting a differenr offset for plotting purposes, we get an overall rise in price over time). Other intersting shapes are cyclical over various time periods within the year.\n",
    "\n",
    "Now search for these shape patterns in the 500 generated stocks, to find similarly shaped times series"
   ]
  },
  {
   "cell_type": "code",
   "execution_count": null,
   "id": "820164a7-f9b7-4c4a-ac66-074797255503",
   "metadata": {},
   "outputs": [],
   "source": [
    "import numpy as np\n",
    "import time\n",
    "seed = 2022\n",
    "with open('../data/shapes{}.npy'.format(seed), 'rb') as f:\n",
    "    shapes = np.load(f)\n",
    "for i in range(3):\n",
    "    plt.plot(shapes.T[i])"
   ]
  },
  {
   "cell_type": "code",
   "execution_count": null,
   "id": "4560005b-1d86-40f8-b581-caaa7cdea859",
   "metadata": {},
   "outputs": [],
   "source": [
    "shapes.shape, P.shape"
   ]
  },
  {
   "cell_type": "markdown",
   "id": "915cc816-f50b-4a47-8e53-a447311cc950",
   "metadata": {},
   "source": [
    "# Use Pairwise Distance find similar shaped stocks\n",
    "\n",
    "Read shapes2022.pny (or shapesxxxx.pny)\n",
    "\n",
    "This file contains 10 interesting shapes from a previous run\n",
    "\n",
    "Find the four closest matching simulated stocks to the one of several interesting shapes\n",
    "\n",
    "## Apply a surgical patch below\n",
    "\n",
    "Use surgical patch where you specify the pairwise_distance function explicitly\n"
   ]
  },
  {
   "cell_type": "code",
   "execution_count": null,
   "id": "9098d29b-d4a3-4de9-a42a-9cf015dce6f8",
   "metadata": {},
   "outputs": [],
   "source": [
    "shapes[:,0].reshape(-1,1).T.shape, P.T.shape"
   ]
  },
  {
   "cell_type": "code",
   "execution_count": null,
   "id": "5fd9e54e-4a28-48b2-9fde-009ffae7fd22",
   "metadata": {},
   "outputs": [],
   "source": [
    "%%time\n",
    "# dominant trend - find top 3 stocks which follow the red rend\n",
    "\n",
    "findN = 4\n",
    "\n",
    "#########################################################################\n",
    "from sklearnex import patch_sklearn, unpatch_sklearn\n",
    "patch_sklearn('distances')\n",
    "#########################################################################\n",
    "\n",
    "\n",
    "from sklearn.metrics.pairwise import pairwise_distances\n",
    "\n",
    "# for stocks, I am treating the time as the components of the vector\n",
    "# so I transpose the X & Y so that time[s] are the columns\n",
    "sim = pairwise_distances(P.T, Y=shapes[:,0].reshape(-1,1).T, metric='cosine') \n",
    "#sim = pairwise_distances(P.T, Y=shapes[:,1].reshape(-1,1).T, metric=\"correlation\")\n",
    "# use np.argpartition to find the 4 closest similar to sorting the array and choosing the first 4 or last 4\n",
    "idxs = np.argpartition(sim.flatten(), findN)[findN:]\n",
    "\n",
    "plt.figure(figsize = (16,8))\n",
    "plt.title('Pairwise Distance cosine Similar Time Series similar to downward red shape', fontsize = 18)\n",
    "plt.xlabel('Time', fontsize = 18)\n",
    "\n",
    "colors = ['lime','g','r','violet']\n",
    "for i in range(len(colors)):\n",
    "    plt.plot(P[:,idxs[i]], c=colors[i])\n",
    "plt.plot(120*shapes[:,0] + 450, c = 'b')\n"
   ]
  },
  {
   "cell_type": "code",
   "execution_count": null,
   "id": "21be5590-286d-4988-b08b-68855baa712a",
   "metadata": {},
   "outputs": [],
   "source": [
    "# inverse dominant trend - find top 3 stocks - trending down which follow the red trend\n",
    "# Experimenting with using Correlation instead of cosine - Cosine mathces much better\n",
    "sim = pairwise_distances(P.T, Y=shapes[:,1].reshape(-1,1).T, metric='correlation') \n",
    "idxs = np.argpartition(sim.flatten(), findN)[findN:]\n",
    "\n",
    "plt.figure(figsize = (16,8))\n",
    "plt.title('Pairwise Distance Similar Time Series cyclical', fontsize = 18)\n",
    "plt.xlabel('Time', fontsize = 18)\n",
    "\n",
    "colors = ['lime','g','b','violet']\n",
    "for i in range(len(colors)):\n",
    "    plt.plot(P[:,idxs[i]], c=colors[i])\n",
    "plt.plot(120*shapes[:,1] + 700, c = 'orange')"
   ]
  },
  {
   "cell_type": "markdown",
   "id": "d0d51e0d-3e2a-4c55-91ea-58111254c588",
   "metadata": {
    "tags": []
   },
   "source": [
    "# Notices & Disclaimers \n",
    "\n",
    "Intel technologies may require enabled hardware, software or service activation.\n",
    "No product or component can be absolutely secure.\n",
    "\n",
    "Your costs and results may vary.\n",
    "\n",
    "© Intel Corporation. Intel, the Intel logo, and other Intel marks are trademarks of Intel Corporation or its subsidiaries. \n",
    "*Other names and brands may be claimed as the property of others."
   ]
  },
  {
   "cell_type": "code",
   "execution_count": null,
   "id": "7443a348-94e2-4dbb-9c4d-c798ad0fe15f",
   "metadata": {},
   "outputs": [],
   "source": [
    "## Read the precomputed, synthesized stock portfolio of 500 stocks (minute trades for a year)\n",
    "# import numpy as np\n",
    "# with open('data/portfolio500.npy', 'rb') as f:\n",
    "#      P = np.load(f)\n",
    "# P[::5,:].shape  \n",
    "\n",
    "# from numpy import save\n",
    "# P = P[::5,:]\n",
    "# save('data/portfolio500.npy', P)\n",
    "# save('data/shapes2022.npy', shapes)"
   ]
  },
  {
   "cell_type": "code",
   "execution_count": null,
   "id": "10b054ad-30e4-429f-8d8b-b894b545c2fb",
   "metadata": {},
   "outputs": [],
   "source": []
  },
  {
   "cell_type": "code",
   "execution_count": null,
   "id": "6d983e3b-b137-4906-9f0f-f9f9bc94060e",
   "metadata": {},
   "outputs": [],
   "source": []
  },
  {
   "cell_type": "code",
   "execution_count": null,
   "id": "c7d2659b-e954-4748-aaff-5a4015a76c95",
   "metadata": {},
   "outputs": [],
   "source": []
  }
 ],
 "metadata": {
  "kernelspec": {
   "display_name": "Python 3.7 (Intel® oneAPI)",
   "language": "python",
   "name": "c009-intel_distribution_of_python_3_oneapi-beta05-python"
  },
  "language_info": {
   "codemirror_mode": {
    "name": "ipython",
    "version": 3
   },
   "file_extension": ".py",
   "mimetype": "text/x-python",
   "name": "python",
   "nbconvert_exporter": "python",
   "pygments_lexer": "ipython3",
   "version": "3.9.7"
  },
  "nbTranslate": {
   "displayLangs": [
    "*"
   ],
   "hotkey": "alt-t",
   "langInMainMenu": true,
   "sourceLang": "en",
   "targetLang": "fr",
   "useGoogleTranslate": true
  },
  "toc": {
   "base_numbering": 1,
   "nav_menu": {},
   "number_sections": true,
   "sideBar": true,
   "skip_h1_title": false,
   "title_cell": "Table of Contents",
   "title_sidebar": "Contents",
   "toc_cell": false,
   "toc_position": {},
   "toc_section_display": true,
   "toc_window_display": false
  }
 },
 "nbformat": 4,
 "nbformat_minor": 5
}
