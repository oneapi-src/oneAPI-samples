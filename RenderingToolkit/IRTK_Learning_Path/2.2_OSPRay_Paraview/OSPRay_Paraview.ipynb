{
 "cells": [
  {
   "cell_type": "markdown",
   "metadata": {},
   "source": [
    "# Intel&reg; OSPRay - Adoption by ParaView\n"
   ]
  },
  {
   "cell_type": "markdown",
   "metadata": {},
   "source": [
    "## Module Overview\n",
    "This module provides an overview of integrating Intel® OSPRay into ParaView. It covers OSPRay's purpose, features, and its use in various visualization projects. A step-by-step guide is provided for using OSPRay in ParaView, emphasizing its high-performance rendering capabilities and suitability for scientific visualization tasks.\n",
    "\n",
    "## Learning Objectives\n",
    "\n",
    "* Show some of the rendering applications that use Intel® OSPRay.\n",
    "* Learn how to render an imported geometry using Intel® OSPRay with ParaView.\n"
   ]
  },
  {
   "cell_type": "markdown",
   "metadata": {},
   "source": [
    "***\n",
    "### 1. Intel&reg; OSPRay overview\n",
    "\n",
    "Intel OSPRay is an open source ray tracing engine for high-performance, high-fidelity visualization on Intel Architecture CPUs.  OSPRay is part of the Intel oneAPI Rendering Toolkit and is released under the permissive Apache 2.0 license.\n",
    "\n",
    "<!-- The purpose of OSPRay is to provide an open, powerful, and easy-to-use rendering library that allows one to easily build applications that use ray tracing rendering for interactive applications, including both surface-based and volume-based visualizations. OSPRay is completely CPU-based, and runs on anything from laptops, to workstations, to compute nodes in HPC systems. -->\n",
    "\n",
    "The purpose of OSPRay is to provide an easy-to-use rendering library that allows to easily build applications that use ray tracing rendering for interactive applications, including both surface-based and volume-based visualizations.\n",
    "\n",
    "<!-- OSPRay internally builds on top of Intel Embree and Intel ISPC (Implicit SPMD Program Compiler), and fully exploits modern instruction sets like Intel SSE4, AVX, AVX2, AVX-512 and NEON to achieve high rendering performance, thus a CPU with support for at least SSE4.1 is required to run OSPRay on x86_64 architectures. -->\n"
   ]
  },
  {
   "cell_type": "markdown",
   "metadata": {},
   "source": [
    "***\n",
    "### 2. Intel&reg; OSPRay features:\n",
    "\n",
    "* **It is a library, not a visualization tool**. OSPRay is a _library_ that many different visualization tools can leverage.\n",
    "\n",
    "* **A rendering solution for visualization tools**. Visualization tools often rely on middleware libraries (such as VTK). OSPRay does not replace such middleware, and focuses exclusively on the rendering component. This way OSPRay gives additional choices for rendering.\n",
    "\n",
    "* **Focused on visualization rendering**. OSPRay emphasizes the rendering features needed for production and scientific visualization.\n",
    "\n",
    "* **Focused on HPC visualization rendering**. We explicitly focus on problems that remain challenging for visualization applications, such as large data, volume rendering and advanced shading. In particular, we effectively perform rendering using HPC resources. OSPRay with GPU support is already released!"
   ]
  },
  {
   "cell_type": "markdown",
   "metadata": {},
   "source": [
    "***\n",
    "### 3. Some of the projects that use Intel&reg; OSPRay are:\n",
    "\n",
    "* **VTK, ParaView and VisIt**. VTK and ParaView 5.x+ have direct integrations for OSPRay rendering, as has VisIt 3.x+. Code and documentation are available on Kitware’s instance of [GitLab](https://gitlab.kitware.com/paraview/paraview). Furthermore, interested users can also access [Kitware’s tutorial on using OSPRay](https://www.paraview.org/Wiki/Intel_HPC_Dev_Con_ParaView_and_OSPRay_Tutorial). For information on using the path tracer inside ParaView, see [this Kitware blog post.](https://www.kitware.com//virtual-tour-and-high-quality-visualization-with-paraview-5-6-ospray/)\n",
    "\n",
    "* **HdOSPRay**. HdOSPRay is a rendering plugin for the Hydra rendering layer in USD. For more information see the project’s [page on GitHub](https://github.com/ospray/hdospray).\n",
    "\n",
    "* **OSPRay Studio**. [OSPRay Studio](https://github.com/ospray/ospray_studio) is the OSPRay team’s lightweight visualization application used to showcase the latest features of OSPRay. A module in this hands-on lab is dedicated to this tool.\n",
    "\n",
    "* **“osprey” Rhino Viewport Plugin for Rhino3D**. [Osprey](https://github.com/darbyjohnston/Osprey) is a rendering plugin written by Darby Johnston for Rhino3D that greatly accelerates rendering over the built-in renderer.\n",
    "<!-- * **Focused on performance**. Though we do not have to achieve game-like frame rates, our implementation makes efficient use of threading, vectorization, and, if desired, node-parallelism; and leverages the most efficient ray tracing technologies available. -->\n",
    "\n",
    "* **BLOSPRAY for Blender**. [BLOSPRAY](https://github.com/surf-visualization/blospray) is a rendering plugin for Blender that uses OSPRay for fast previews and final path traced rendering.\n",
    "\n",
    "* **Tapestry**. Tapestry is a microservice for delivering scientific visualization on the cloud. With OSPRay, Tapestry can provide interactive visualization of large datasets accessible to many users throughout the web ecosystem. See the [demo page](https://seelabutk.github.io/tapestry/) and the project’s [page on GitHub](https://github.com/seelabutk/tapestry) for more information.\n",
    "\n",
    "* **Megamol**. Megamol is a molecular dynamics framework. With OSPRay, it can render billions of particles interactively.\n",
    "\n",
    "* **VESTEC**. VESTEC – Visual Exploration and Sampling Toolkit for Extreme Computing – is an European funded project that builds a flexible toolchain to combine multiple data sources, efficiently extract essential features, enable flexible scheduling and interactive supercomputing, and realize 3D visualization environments (partly using OSPRay) for interactive explorations by stakeholders and decision makers."
   ]
  },
  {
   "cell_type": "markdown",
   "metadata": {},
   "source": [
    "***\n",
    "### 4. Process for exploring Intel&reg; OSPRay working with ParaView\n",
    "Intel OSPRay has been implemented in ParaView for rendering needs. The steps to see this applications are the following:\n",
    "\n",
    "\n",
    "* 1) **Install ParaView:** Access the [ParaView website](https://www.paraview.org/) and download the free installation package. Proceed with the installation procedure.\n",
    "\n",
    "\n",
    "* 2) **Download case to render:** Copy and download the fran_cut.vtk file located here in the Big_Data folder: \"../link_to_IRTK_BD/OSPRay_BD/assets_OSPRay_4/assets/fran_cut.vtk\".  This one and additional examples can be downloaded from the [Kitware downloads website](https://vtk.org/vtk-textbook-examples-and-data).\n",
    "\n",
    "\n",
    "* 3) **Open ParaView:** Once installed open ParaView from the Windows search pannel by typing ParaView.\n",
    "\n",
    "\n",
    "* 4) **Render the downloaded vtk case:**\n",
    "\n",
    "    * Access File->Open the fran_cut.vtk file located in your local working directory where you downloaded the file.\n",
    "    * Click the \"Apply\" button. You should be able to see a face geometry.\n",
    "    * Move the cursor on the face with the mouse left button pressed to change the perspective.\n",
    "    * In the properties pannel find the **Ray Traced Rendering** sectiona and activate the \"Enable Ray Tracing\" option.\n",
    "    * Activate the \"Shadows\" as well and see the effect.\n",
    "    * In the \"Back End\" option, change between \"OSPRay raycaster\" and \"OSPRay pathtracer\" to observe the differences.\n",
    "    * The color of the geometry can be selected in the **Coloring** section by pressing the \"Edit\" button and choosing the desired color.\n"
   ]
  },
  {
   "cell_type": "markdown",
   "metadata": {},
   "source": [
    "<img src=\"../link_to_IRTK_BD/OSPRay_BD/assets_OSPRay_4/figures/Capture01.png\" style=\"width:50%\"></img>"
   ]
  },
  {
   "cell_type": "markdown",
   "metadata": {},
   "source": [
    "***\n",
    "## Summary\n",
    "\n",
    "In this module you learned:\n",
    "\n",
    "- The purpose and features of Intel® OSPRay.\n",
    "- Various projects incorporating Intel® OSPRay for visualization tasks.\n",
    "- Practical integration and utilization of OSPRay within ParaView.\n",
    "- Enhanced understanding of OSPRay's high-performance rendering capabilities and its role in scientific visualization.\n",
    "\n",
    "\n",
    "## Resources\n",
    "* OSPRay in ParaView: https://www.kitware.com/the-material-editor-in-paraview/\n",
    "* Intel&reg; OSPRay API manual: https://www.ospray.org/documentation.html\n",
    "* M. Pharr and G. Humphreys. Physically Based Rendering: From Theory to Implementation. Morgan Kaufman, 3rd edition, 2016.\n",
    "* P. Shirley. Ray Tracing in One Weekend Series. Editors: Steve Hollasch, Trevor David Black. Version/Edition: v3.2.0. Date: 2020-07-18. URL (series): https://raytracing.github.io/\n",
    "* I. Wald et al., \"OSPRay - A CPU Ray Tracing Framework for Scientific Visualization,\" in IEEE Transactions on Visualization and Computer Graphics, vol. 23, no. 1, pp. 931-940, Jan. 2017, doi: 10.1109/TVCG.2016.2599041.\n",
    "\n"
   ]
  },
  {
   "cell_type": "markdown",
   "metadata": {},
   "source": [
    "***"
   ]
  }
 ],
 "metadata": {
  "kernelspec": {
   "display_name": "Python 3 (ipykernel)",
   "language": "python",
   "name": "python3"
  },
  "language_info": {
   "codemirror_mode": {
    "name": "ipython",
    "version": 3
   },
   "file_extension": ".py",
   "mimetype": "text/x-python",
   "name": "python",
   "nbconvert_exporter": "python",
   "pygments_lexer": "ipython3",
   "version": "3.11.5"
  }
 },
 "nbformat": 4,
 "nbformat_minor": 4
}
