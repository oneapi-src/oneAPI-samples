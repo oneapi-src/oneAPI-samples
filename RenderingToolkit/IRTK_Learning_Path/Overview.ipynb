{
 "cells": [
  {
   "cell_type": "markdown",
   "metadata": {
    "jp-MarkdownHeadingCollapsed": true
   },
   "source": [
    "# Intel® Rendering Toolkit Interactive Learning Path\n",
    "Thank you for selecting this learning path for the [Intel® Rendering Toolkit](https://www.intel.com/content/www/us/en/developer/tools/oneapi/rendering-toolkit.html) (Render Kit). This learning path introduces you to the overviews of the oneAPI initiative, the Render Kit, and it's components:\n",
    "\n",
    "* [Intel® OSPRay](https://www.ospray.org/)\n",
    "* [Intel® Embree](https://www.embree.org/)\n",
    "* [Intel® Open Volume Kernel Library (Intel® Open VKL)](https://www.openvkl.org/)\n",
    "* [Intel® Open Image Denoise](https://www.openimagedenoise.org/)\n",
    "\n",
    "### What Does this Learning Path Teach?\n",
    "After you complete the modules, you will be able to:\n",
    "* Create high-fidelity photorealistic images using the Intel OSPRay renderer.\n",
    "* Use the Embree API to execute ray-surface intersection tests required for performant ray-tracing applications.\n",
    "* Use the Open VKL API to execute ray-volumetric hit queries required for performant rendering of volumetric objects.\n",
    "* Use Intel Open Image Denoise to reducing the amount of necessary samples per pixel in ray tracing-based rendering applications by  filtering out noise inherent to stochastic ray tracing methods.\n",
    "* How to target CPU and GPU devices with all four Render Kit libraries.\n",
    "\n",
    "Each module in this Learning Path teaches specific aspects of Render Kit."
   ]
  },
  {
   "cell_type": "markdown",
   "metadata": {
    "jp-MarkdownHeadingCollapsed": true,
    "tags": []
   },
   "source": [
    "***\n",
    "# Overview\n",
    "\n",
    "## Module 0) [Introduction to the Jupyter* notebooks computation environment](0_Introduction_to_Jupyter/Introduction_to_Jupyter.ipynb)\n",
    "An introduction to the Jupyter notebooks computation environment where coding, compilation, and running of the programs will take place. This module explains how to use Jupyter Notebook which is used in all of the modules to edit and run coding excecises, this can be skipped if you are already familiar with using Jupyter Notebooks.\n",
    "\n",
    "## Module 1) [Introduction to oneAPI Programming Model and Intel® Rendering Toolkit](1_RenderKit_Intro/RenderKit_Intro.ipynb)\n",
    "Learn about oneAPI initiative for heterogeneous computing and how the Intel® Rendering Toolkit components fit into the paradigm.\n"
   ]
  },
  {
   "cell_type": "markdown",
   "metadata": {},
   "source": [
    "***\n",
    "# Intel® OSPRAY\n",
    "## Module 2.1.a) [How to target CPU and GPU with OSPRay](2.1_OSPRay_Intro_CPU_GPU/OSPRay_tutorial_CPU_GPU.ipynb)\n",
    "An introduction to OSPRay, a high-performance ray-tracing renderer for scientific visualization and high-fidelity photorealistic rendering.\n",
    "\n",
    "## Module 2.1.b) [How to implement OIDN in OSPRay](2.1_OSPRay_Intro_CPU_GPU/OSPRay_tutorial_denoise.ipynb)\n",
    "An introduction to OSPRay, a high-performance ray-tracing renderer for scientific visualization and high-fidelity photorealistic rendering.\n",
    "\n",
    "<!-- ## Under construction:\n",
    "Module 2: [ospExamples - An Example of Intel® OSPRay Techniques and Procedural Scenes](OSPRay_2_ospExamples/OSPRay_2_ospExamples.ipynb)\n",
    "A compendium of basic OSPRay API techniques -->\n",
    "\n",
    "<!-- ## Under construction:\n",
    "## Module 3: [Intel&reg; OSPRay Asset Loading - Loading an OBJ/MTL File](OSPRay_3_asset_load/OSPRay_3_asset_load.ipynb)\n",
    "A minimal OBJ file loader to import complex models for OSPRay to render. -->\n",
    "\n",
    "## Module 2.2) [OSPRay implemented in Paraview](2.2_OSPRay_Paraview/OSPRay_Paraview.ipynb)\n",
    "This module shows an example of OSPRay added to Paraview (a powerful scientific visualization software developed by Kitware) for its rendering purposes."
   ]
  },
  {
   "cell_type": "markdown",
   "metadata": {},
   "source": [
    "***\n",
    "# Intel® Embree\n",
    "\n",
    "## Module 3.1.a) [How to target CPU with Embree](3.1_Embree_Intro_CPU_GPU/Embree_minimal_CPU.ipynb)\n",
    "The module is designed to get new users started with Embree. It demonstrates how to initialize a device and scene, and how to intersect rays with the scene and how to target the CPU.\n",
    "\n",
    "## Module 3.1.b) [How to target GPU with Embree](3.1_Embree_Intro_CPU_GPU/Embree_minimal_GPU.ipynb)\n",
    "The same as the module 3.1.a) but targeting the GPU device insted of the CPU.\n",
    "\n",
    "## Module 3.2) [How to implement shadow checking with Embree](3.2_Embree_Shadow/Embree_minimal_shadow.ipynb)\n",
    "It demonstrates how to use an intersection test to propogate a new shadow ray and how to test the result of an occlusion test to a point in the scene."
   ]
  },
  {
   "cell_type": "markdown",
   "metadata": {},
   "source": [
    "***\n",
    "# Intel® Open Volume Kernel Library\n",
    "\n",
    "## Module 4.1.a) [How to target CPU with wih Open VKL](4.1_OpenVKL_Intro_CPU_GPU/OpenVKL_minimal_CPU.ipynb)\n",
    "This module shows how to initialize Open VKL, create volumes and samplers, define volume type, raycast volume, and more all targeting the CPU.\n",
    "\n",
    "## Module 4.1.b) [How to target GPU with wih Open VKL](4.1_OpenVKL_Intro_CPU_GPU/OpenVKL_minimal_GPU.ipynb)\n",
    "The same as the module 4.1.a) but targeting the GPU device insted of the CPU.\n",
    "\n",
    "## Module 4.2) [Volumes and sampling in Open VKL](4.2_OpenVKL_Tutorial/OpenVKL_tutorial.ipynb)\n",
    "This module focuses on the significance of the three API modes - scalar, vector, and stream - in accessing data."
   ]
  },
  {
   "cell_type": "markdown",
   "metadata": {},
   "source": [
    "***\n",
    "\n",
    "# Intel® Open Image Denoise\n",
    "## Module 5) [How to target CPU and GPU with OIDN](5_OIDN_Intro_CPU_GPU/OIDN_Intro_CPU_GPU.ipynb)\n",
    "Code walkthrough of the Intel Open Image Denoise library and procedure to target CPU and GPU devices."
   ]
  },
  {
   "cell_type": "markdown",
   "metadata": {},
   "source": [
    "***\n",
    "\n",
    "# Intel® OSPRay Studio\n",
    "\n",
    "## Module 6) [Intel® OSPRay Studio overview and walkthrough](6_OSPRay_Studio/OSPRay_Studio.ipynb)\n",
    "In this module we will learn how to start and use OSPRay Studio to perform interactive rendering by modifying rendering parameter without any programming involved."
   ]
  },
  {
   "cell_type": "markdown",
   "metadata": {},
   "source": [
    "***\n",
    "## References\n",
    "* [OSPRay API documentation](https://www.ospray.org/)\n",
    "* [Embree API documentation](https://www.embree.org/)\n",
    "* [OpenVKL API documentation](https://www.openvkl.org/)\n",
    "* [OpenVDB API documentation](https://www.openvdb.org/)\n",
    "* [Open Image Denoise documentation](https://www.openimagedenoise.org/)\n",
    "* [OSPRay Studio documentation](https://www.ospray.org/ospray_studio/)"
   ]
  }
 ],
 "metadata": {
  "kernelspec": {
   "display_name": "Python 3 (ipykernel)",
   "language": "python",
   "name": "python3"
  },
  "language_info": {
   "codemirror_mode": {
    "name": "ipython",
    "version": 3
   },
   "file_extension": ".py",
   "mimetype": "text/x-python",
   "name": "python",
   "nbconvert_exporter": "python",
   "pygments_lexer": "ipython3",
   "version": "3.11.5"
  },
  "widgets": {
   "application/vnd.jupyter.widget-state+json": {
    "state": {},
    "version_major": 2,
    "version_minor": 0
   }
  }
 },
 "nbformat": 4,
 "nbformat_minor": 4
}
