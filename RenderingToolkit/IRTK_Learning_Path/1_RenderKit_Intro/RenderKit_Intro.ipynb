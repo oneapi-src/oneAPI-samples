{
 "cells": [
  {
   "cell_type": "markdown",
   "metadata": {},
   "source": [
    "# Introduction to oneAPI Programming Model and Intel® Rendering Toolkit"
   ]
  },
  {
   "cell_type": "markdown",
   "metadata": {},
   "source": [
    "## Sections\n",
    "- [Learning Objectives](#learning-objectives)\n",
    "- [oneAPI Programming Model Overview](#oneAPI-Programming-Model-Overview)\n",
    "- [oneAPI and Render Kit Distribution](#oneAPI-and-Render-Kit-Distribution)\n",
    "- [Programming Challenges for Multiple architectures](#Programming-Challenges-for-Multiple-architectures)\n",
    "- [Introducing the Intel&reg; Rendering Toolkit (Render Kit)](#introducing-the-intel®-rendering-toolkit-render-kit)\n",
    "- [Features](#Features)\n",
    "- [Components of the Render Kit](#Components-of-the-Render-Kit)\n",
    "- [Summary](#Summary)\n",
    "- [Resources](#Resources)"
   ]
  },
  {
   "cell_type": "markdown",
   "metadata": {},
   "source": [
    "## Learning Objectives\n",
    "\n",
    "* Summarize how the oneAPI programming model solves the challenges of programming in a heterogeneous computing world.\n",
    "* Summarize how the Intel® Rendering Toolkit enables imagery in medical research, geophysical exploration, motion pictures, product design, and cosmology that can be quickly rendered into rich, realistic visuals."
   ]
  },
  {
   "cell_type": "markdown",
   "metadata": {},
   "source": [
    "***\n",
    "## oneAPI Programming Model Overview\n",
    "The __oneAPI__ programming model provides a comprehensive and unified portfolio of developer tools that can\n",
    "be used across hardware targets, including a range of performance libraries spanning several workload\n",
    "domains. The libraries include functions custom-coded for each target architecture so the same\n",
    "function call delivers optimized performance across supported architectures.\n",
    "\n"
   ]
  },
  {
   "cell_type": "markdown",
   "metadata": {},
   "source": [
    "***\n",
    "## oneAPI and Render Kit Distribution\n",
    "Intel&reg; oneAPI toolkits are available via multiple distribution channels:\n",
    "* Local product installation: install the oneAPI toolkits from the __Intel® Developer Zone__.\n",
    "* Install from containers or repositories: install the oneAPI toolkits from one of several supported\n",
    "containers or repositories.\n",
    "* Pre-installed in the [__Intel® Developer Cloud__](https://console.cloud.intel.com/): a free training environment for access to the latest Intel® SVMS hardware and select oneAPI toolkits.\n",
    "\n",
    "Render Kit repository links:\n",
    "* [GitHub to Intel® OSPRay](https://github.com/ospray/ospray)\n",
    "* [GitHub to Intel® Embree](https://github.com/embree/embree)\n",
    "* [GitHub to Intel® OpenVKL](https://github.com/openvkl/openvkl)\n",
    "* [GitHub to Intel® Open Image Denoise](https://github.com/OpenImageDenoise/oidn)"
   ]
  },
  {
   "cell_type": "markdown",
   "metadata": {},
   "source": [
    "***\n",
    "## Programming Challenges for Multiple architectures\n",
    "Currently in the data-centric space, there is growth in specialized workloads. Each kind of data-centric hardware typically needs to be programmed using different languages and libraries. As there is no common programming language or APIs, this requires maintaining separate code bases. You have to learn a whole set of different tools as there is inconsistent tool support across platforms. Developing software for each hardware platform requires a separate investment, with little ability to reuse that work to target a different architecture. You will also have to consider the requirement of the diverse set of data-centric hardware.\n",
    "\n",
    "<img src=\"assets/oneapi1.png\">"
   ]
  },
  {
   "cell_type": "markdown",
   "metadata": {},
   "source": [
    "***\n",
    "## Introducing the Intel® Rendering Toolkit (Render Kit)\n",
    "The [Intel® Rendering Toolkit](https://www.intel.com/content/www/us/en/developer/tools/oneapi/rendering-toolkit.html) (Render Kit) is a powerful set of open source rendering, ray tracing, denoising, and path guiding libraries for AI synthetic data generation, digital twins, high-fidelity and high-performance visualization, and immersive content creation. Achieve optimized rendering performance with these libraries and Intel **CPU** and **GPU** hardware, comprising a scalable solutions stack.\n",
    "\n",
    "\n",
    "The libraries and advanced components of the Render Kit are industry-trusted building blocks, which are integrated into many third-party professional content creation tools and applications for broader ecosystem use. Applications leveraging these building blocks include, but are not limited to, V-Ray* and Corona* Renderer (Chaos Group*), ParaView* (Kitware*), Cinema4D* (Maxon), AutoCAD*, 3DSMax*, Revit* (Autodesk*) DreamWorks* Moonray* Renderer, Framestore Freak* Renderer, and EA* Frostbite* Game Engine.\n",
    "\n",
    "<img src=\"assets/intel-renderkit.png\" style=\"width:50%;height:50%\">"
   ]
  },
  {
   "cell_type": "markdown",
   "metadata": {},
   "source": [
    "***\n",
    "\n",
    "## Features\n",
    "Render Kit includes software visualization tools that take advantage of Intel®-optimized software, general purpose Intel® processors, and Xe Architecture GPU devices to deliver high-fidelity, high-performance, and efficient visual applications with tools that provide:\n",
    "\n",
    "- Efficient deployment across parallel processing architectures and platforms including Intel GPUs\n",
    "- Access to all system memory space for even the largest datasets on CPUs\n",
    "- Improved visual fidelity via ray tracing with global illumination\n",
    "- Cost-efficient, interactive performance for any data size\n",
    "- High-performance, deep learning-based denoising\n",
    "- These award-winning tools are integrated into many professional content creation tools, including V-Ray* and Corona* Renderer (Chaos Group*), ParaView* (Kitware*), Cinema 4D* (Maxon), AutoCAD*, 3ds Max*, Revit* (Autodesk*), and MoonRay* renderer (DreamWorks*).\n",
    "\n",
    "**Intel Rendering Toolkit components now support Intel® Arc™, Intel® Flex, and Intel® MAX® GPUs while maintaining Gold support for CPU platforms, giving users the flexibility to scale across architectures.**\n",
    "\n",
    "- See the article [Achieve Real-Time Rendering on Intel GPUs](https://www.intel.com/content/www/us/en/developer/articles/technical/real-time-rendering-faster-speedup-on-intel-gpus.html)\n"
   ]
  },
  {
   "cell_type": "markdown",
   "metadata": {},
   "source": [
    "***\n",
    "\n",
    "## Components of the Render Kit\n",
    "The Render Kit is comprised of the following major components, each designed and built to optimize performance and throughput on the Intel XPUs and deliver the best visual experience.\n",
    "\n",
    "<div style=\"display:flex\">\n",
    "    <div style=\"width:15%;vertical-align:middle;text-align:center;padding:10px;margin-top:auto;margin-bottom:auto;font-weight:bold\">Intel® Embree</div>\n",
    "    <img style=\"margin:auto;padding:10px\" src=\"assets/screen-sdv-embree-16x9.jpg.rendition.intel.web.320.180.jpg\"/>\n",
    "    <div style=\"width:60%;vertical-align:middle;text-align:left;margin-top:auto;margin-bottom:auto\">Improve the performance of photo-realistic rendering applications with this library of ray tracing kernels. The kernels are optimized for the latest Intel® processors with support for Intel® Streaming SIMD Extensions [4.2] through to the latest Intel® Advanced Vector Extensions 512.</div>   \n",
    "</div>\n",
    "<div style=\"display:flex\">\n",
    "    <div style=\"width:15%;vertical-align:middle;text-align:center;padding:10px;margin-top:auto;margin-bottom:auto;font-weight:bold\">Intel® OSPRay</div>\n",
    "    <img style=\"margin:auto;padding:10px\" src=\"assets/screen-sdv-ospray-16x9.jpg.rendition.intel.web.320.180.jpg\">\n",
    "    <div style=\"width:60%;vertical-align:middle;text-align:left;padding:10px;margin-top:auto;margin-bottom:auto\">Use this ray tracing API and engine to rapidly develop interactive, high-fidelity, visualization applications.</div>\n",
    "</div>\n",
    "<div style=\"display:flex\">\n",
    "    <div style=\"width:15%;vertical-align:middle;text-align:center;padding:10px;margin-top:auto;margin-bottom:auto;font-weight:bold\">Intel® OpenVKL</div>\n",
    "    <img style=\"margin:auto;padding:10px\" src=\"assets/screen-open-volume-kernel-library-16x9.jpg.rendition.intel.web.320.180.jpg\"/>\n",
    "    <div style=\"width:60%;vertical-align:middle;text-align:left;margin-top:auto;margin-bottom:auto\">Enable rendering and simulation processing of 3D spatial data with low-level volumetric data-processing algorithms.</div>   \n",
    "</div>\n",
    "<div style=\"display:flex\">\n",
    "    <div style=\"width:15%;vertical-align:middle;text-align:center;padding:10px;margin-top:auto;margin-bottom:auto;font-weight:bold\">Intel® Open Image Denoise</div>\n",
    "    <img style=\"margin:auto;padding:10px\" src=\"assets/screen-sdv-moana-island-16x9.jpg.rendition.intel.web.320.180.jpg\">\n",
    "    <div style=\"width:60%;vertical-align:middle;text-align:left;padding:10px;margin-top:auto;margin-bottom:auto\">Improve image quality with machine learning algorithms that selectively filter visual noise. This independent component can be used for noise reduction on 3D rendered images, with or without Intel Embree.</div>\n",
    "</div>\n"
   ]
  },
  {
   "cell_type": "markdown",
   "metadata": {},
   "source": [
    "***\n",
    "## Summary\n",
    "\n",
    "In this module you learned:\n",
    "* How oneAPI solves the challenges of programming in a heterogeneous world\n",
    "* How the Render Kit is a solution to visualization in a heterogenous environment"
   ]
  },
  {
   "cell_type": "markdown",
   "metadata": {},
   "source": [
    "***\n",
    "## Resources\n",
    "\n",
    "#### Intel&reg; oneAPI Toolkit documentation\n",
    "* [Intel® oneAPI main page](https://software.intel.com/oneapi \"oneAPI main page\")\n",
    "\n",
    "#### Intel&reg; Rendering Toolkit documentation\n",
    "* [Render Kit main page](https://software.intel.com/content/www/us/en/develop/tools/oneapi/rendering-toolkit.html)\n",
    "* [Intel OSPRay main page](https://www.ospray.org/)\n",
    "* [Intel Embree main page](https://www.embree.org/)\n",
    "* [Intel OpenVKL main page](https://www.openvkl.org/)\n",
    "* [Intel Open Image Denoise main page](https://www.openimagedenoise.org/)\n",
    "\n",
    "#### Access links to Intel&reg; Developer Cloud (IDC) and Intel&reg; DevCloud\n",
    "* [Intel® Developer Cloud](https://console.cloud.intel.com/): With access to the latest CPU and GPU support.\n",
    "* [Intel® DevCloud](https://devcloud.intel.com/oneapi/): With CPU support.\n"
   ]
  },
  {
   "cell_type": "markdown",
   "metadata": {},
   "source": [
    "***"
   ]
  }
 ],
 "metadata": {
  "kernelspec": {
   "display_name": "Python 3 (ipykernel)",
   "language": "python",
   "name": "python3"
  },
  "language_info": {
   "codemirror_mode": {
    "name": "ipython",
    "version": 3
   },
   "file_extension": ".py",
   "mimetype": "text/x-python",
   "name": "python",
   "nbconvert_exporter": "python",
   "pygments_lexer": "ipython3",
   "version": "3.11.5"
  }
 },
 "nbformat": 4,
 "nbformat_minor": 4
}
