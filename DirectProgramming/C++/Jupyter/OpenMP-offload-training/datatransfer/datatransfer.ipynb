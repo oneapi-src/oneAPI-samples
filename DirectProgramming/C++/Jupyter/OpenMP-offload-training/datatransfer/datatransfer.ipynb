{
 "cells": [
  {
   "cell_type": "markdown",
   "metadata": {},
   "source": [
    "# Managing Device Data (C/C++)"
   ]
  },
  {
   "cell_type": "markdown",
   "metadata": {},
   "source": [
    "#### Sections\n",
    "- [Learning Objectives](#Learning-Objectives)\n",
    "- [Data Offload](#Data-Offload)\n",
    "- [Map Clause](#Map-Clause)\n",
    "- _Code:_ [Lab Exercise: Map Clause](#Lab-Exercise:-Map-Clause)\n",
    "- [Dynamically Allocated Data and Length Specification](#Dynamically-Allocated-Data-and-Length-Specification)\n",
    "- [Target Data Region](#Target-Data-Region)\n",
    "- _Code:_ [Lab Exercise: Target Data Region](#Lab-Exercise:-Target-Data-Region)\n",
    "- [Mapping Global Variables to Device](#Mapping-Global-Variables-to-Device)"
   ]
  },
  {
   "cell_type": "markdown",
   "metadata": {},
   "source": [
    "## Learning Objectives\n",
    "* Use OpenMP* constructs to effectively manage data transfers to and from the device \n",
    "* Be able to create a device data environment and map data to the device data environment\n",
    "* Map global variables to OpenMP devices\n",
    "\n",
    "### Prerequisites\n",
    "Basic understanding of OpenMP constructs are assumed for this module. You also should have already went through the  [Introduction to OpenMP Offload module](../intro/intro.ipynb) where the basics of using the Jupyter notebooks with the Intel® devcloud and an introduction to the OpenMP `target` constructs were discussed."
   ]
  },
  {
   "cell_type": "markdown",
   "metadata": {},
   "source": [
    "***\n",
    "## Data Offload\n",
    "The host and devices have separate memory spaces, so when parts of the code are offloaded, data needs to be mapped to the target device in order to be accessed inside the target region.\n",
    "\n",
    "By default, variables accessed inside the target region are treated as follows:\n",
    "\n",
    "|Type | Behavior |\n",
    "|:----:|:----|\n",
    "|Scalars | Treated as `firstprivate` |\n",
    "|Static arrays | Copied to the device on entry and from the device to the host on exit |\n",
    "|Dynamic arrays | Same as above, length must be specified |\n",
    "\n",
    "In the following example, the compiler will identify all variables that are used in the target region (a, x, and y), and data will be transferred to the device based on the above rules.\n",
    "\n",
    "```c\n",
    "void saxpy() {\n",
    "    float a, x[ARRAY_SIZE], y[ARRAY_SIZE];\n",
    "    #pragma omp target\n",
    "    // On entry of target region, a, x, and y copied from host to the device\n",
    "    for (int i=0; i< ARRAY_SIZE; i++) {\n",
    "        y[i] = a * x[i] + y[i];\n",
    "    }\n",
    "    // Upon exit of the target region, both x and y are copied back to the host, \n",
    "    // even though x was not changed.\n",
    "}\n",
    "```"
   ]
  },
  {
   "cell_type": "markdown",
   "metadata": {},
   "source": [
    "## Map Clause\n",
    "\n",
    "To eliminate unnecessary data copies, use the `map` clause of the `target` directive to manually map variables to the device data environment.\n",
    "```c\n",
    "#pragma omp target map (map-type: list)\n",
    "```\n",
    "Available *map-type*s are\n",
    "* `alloc`: Allocate storage for variable on target device, values not copied\n",
    "* `to`: Allocate storage on target device and assign value **from original host variable to device** on target region entry\n",
    "* `from`: Allocate storage on target device and assign value **from device to original host variable** on target region exit\n",
    "* `tofrom`: default, both `to` and `from`\n",
    "\n",
    "<img src=\"Assets/mapclause.jpg\">"
   ]
  },
  {
   "cell_type": "markdown",
   "metadata": {},
   "source": [
    "## Lab Exercise: Map Clause\n",
    "\n",
    "In this exercise you will add a map clause to the saxpy ($y=a*x+y$) operation. The primary source file, main.cpp, is written for you. It includes saxpy_func.cpp that you will complete and write out to file in this Jupyter notebook. If you would like to see the contents of main.cpp, execute the following cell.\n"
   ]
  },
  {
   "cell_type": "code",
   "execution_count": null,
   "metadata": {},
   "outputs": [],
   "source": [
    "#Optional, see the contents of main.cpp\n",
    "%pycat main.cpp"
   ]
  },
  {
   "cell_type": "markdown",
   "metadata": {},
   "source": [
    "In the cell below, add the map clause that would map the x array to the target so that it won't be unnecessarily copied back. Also, add the clause `map(from:is_cpu)` so we'll know whether the code was executed on the GPU."
   ]
  },
  {
   "cell_type": "code",
   "execution_count": null,
   "metadata": {},
   "outputs": [],
   "source": [
    "%%writefile lab/saxpy_func.cpp\n",
    "// Add the target pragma with the map clauses here\n",
    "\n",
    "{\n",
    "  is_cpu = omp_is_initial_device();\n",
    "  for (i = 0; i < ARRAY_SIZE; i++) {\n",
    "    y[i] = a * x[i] + y[i];\n",
    "  }\n",
    "}"
   ]
  },
  {
   "cell_type": "markdown",
   "metadata": {},
   "source": [
    "### Compile the Code\n",
    "Next, compile the code using *compile_c.sh*. If you would like to see the contents of compile_c.sh execute the following cell."
   ]
  },
  {
   "cell_type": "code",
   "execution_count": null,
   "metadata": {},
   "outputs": [],
   "source": [
    "# Optional: Run this cell to see the contents of compile_c.sh\n",
    "%pycat compile_c.sh"
   ]
  },
  {
   "cell_type": "markdown",
   "metadata": {},
   "source": [
    "Execute the following cell to perform the compilation"
   ]
  },
  {
   "cell_type": "code",
   "execution_count": null,
   "metadata": {},
   "outputs": [],
   "source": [
    "!chmod 755 compile_c.sh; ./compile_c.sh;"
   ]
  },
  {
   "cell_type": "markdown",
   "metadata": {},
   "source": [
    "### Execute the code\n",
    "Next, run the code using the script *run.sh*."
   ]
  },
  {
   "cell_type": "code",
   "execution_count": null,
   "metadata": {},
   "outputs": [],
   "source": [
    "# Optional: Run this cell to see the contents of run.sh\n",
    "%pycat run.sh"
   ]
  },
  {
   "cell_type": "markdown",
   "metadata": {},
   "source": [
    "Execute the following cell to execute main.cpp. Look for the PASSED! message.\n",
    "\n",
    "_If the Jupyter cells are not responsive or if they error out when you compile the samples, please restart the Kernel and compile the samples again_"
   ]
  },
  {
   "cell_type": "code",
   "execution_count": null,
   "metadata": {},
   "outputs": [],
   "source": [
    "! chmod 755 q; chmod 755 run.sh;if [ -x \"$(command -v qsub)\" ]; then ./q run.sh; else ./run.sh; fi"
   ]
  },
  {
   "cell_type": "markdown",
   "metadata": {},
   "source": [
    "Execute the following cell to see the solution."
   ]
  },
  {
   "cell_type": "code",
   "execution_count": null,
   "metadata": {},
   "outputs": [],
   "source": [
    "%pycat saxpy_func_solution.cpp"
   ]
  },
  {
   "cell_type": "markdown",
   "metadata": {},
   "source": [
    "## Dynamically Allocated Data and Length Specification\n",
    "\n",
    "For dynamically allocated arrays, when using the `target map` construct, the number of elements to be mapped must be explicitly specified. Partial arrays maybe specified.\n",
    "```c\n",
    "#pragma omp target map(to:array[start:length])\n",
    "```\n",
    "In the previous example, x and y are static arrays, so length specification is optional. If you wish you may go back to the previous example and specify the size of the array to map. Alternatively, you may run the following cell to see the solution."
   ]
  },
  {
   "cell_type": "code",
   "execution_count": null,
   "metadata": {},
   "outputs": [],
   "source": [
    "%pycat saxpy_func_solution_length.cpp"
   ]
  },
  {
   "cell_type": "markdown",
   "metadata": {},
   "source": [
    "***\n",
    "## Target Data Region\n",
    "When there are more than one target regions, it's often useful to create a larger target **data** region that encompasses all of the target regions to minimize data copy across target regions. There are two ways to create a target data region, using `target data` or using `target enter data` and `target exit data`.\n",
    "### Target Data\n",
    "The `target data` construct creates a scoped data environment and maps data to and from the device. When using this construct, the `alloc`, `to`, `from`, and `tofrom` map-types are available. \n",
    "\n",
    "Note: `Target Data` does not create a target region that offloads execution. `target` constructs inside the data environment is needed to accomplishes that.\n",
    "```c\n",
    "#pragma omp target data map(tofrom: x)\n",
    "// Device data environment created, x stays on the device through out the two target regions\n",
    "{\n",
    "    #pragma omp target(to: y)\n",
    "    {\n",
    "        // First target region\n",
    "    }\n",
    "    host_update(y); // y must be mapped at each target region because it's being updated by the host\n",
    "    #pragma omp target(to: y)\n",
    "    {\n",
    "        // Second target region\n",
    "    }\n",
    "}\n",
    "```\n",
    "### Target Enter/Exit Data and Update\n",
    "`target enter/exit data` constructs can be used to explicitly mark the beginning and ending of the target data environment.\n",
    "\n",
    "When using the `target enter data` construct, only the map-types of `alloc` and `to` are available. When using the `target exit data` construct, the `from`, `release`, and `delete` map-types are available. \n",
    "\n",
    "The `target update` construct is used to issue data transfers to or from the existing data device environment.\n",
    "\n",
    "Note: `target enter/exit/update data` constructs are not scoped and does not offload execution of code. `target` constructs are needed between enter and exit of data environment to accomplish that.\n",
    "\n",
    "Example:\n",
    "```c\n",
    "#pragma omp target enter data map(to:y) map(alloc: x)\n",
    "#pragma omp target\n",
    "{ //First target region, device operations on x and y\n",
    "}\n",
    "\n",
    "#pragma omp target update from (y)\n",
    "host_update(y);\n",
    "#pragma omp target update to (y)\n",
    "\n",
    "#pragma omp target\n",
    "{ //2nd target region, device operations on x and y\n",
    "}\n",
    "#pragma omp target exit data map(from:x)\n",
    "```"
   ]
  },
  {
   "cell_type": "markdown",
   "metadata": {},
   "source": [
    "## Lab Exercise: Target Data Region\n",
    "In this exercise, we have two target regions. x and y are static arrays of size ARRAY_SIZE, and they are used in the target regions. In addition, the value of y is updated by the host between the regions. For this program, *main_data_region.cpp* contains main and includes *target_data_region.cpp*, which is the file you will override.\n",
    "\n",
    "Create a target data environment that encompasses both target regions, ensure `x` stays on the device across the region and make sure `y` is updated to the device after the host `init2` call. Test your code, and ensure the PASSED message is displayed.\n",
    "\n",
    "There are two ways to solve this problem. You may choose to use either `target data` or `target enter/update/exit data`. Solution is provided for both."
   ]
  },
  {
   "cell_type": "code",
   "execution_count": null,
   "metadata": {},
   "outputs": [],
   "source": [
    "#Examine main_data_region.cpp if you wish.\n",
    "%pycat main_data_region.cpp"
   ]
  },
  {
   "cell_type": "code",
   "execution_count": null,
   "metadata": {},
   "outputs": [],
   "source": [
    "%%writefile lab/target_data_region.cpp\n",
    "\n",
    "\n",
    "#pragma omp target\n",
    "  {\n",
    "    for (int i = 0; i < ARRAY_SIZE; i++) x[i] += y[i];\n",
    "  }\n",
    "\n",
    "  init2(y, ARRAY_SIZE);\n",
    "\n",
    "#pragma omp target\n",
    "  {\n",
    "    for (int i = 0; i < ARRAY_SIZE; i++) x[i] += y[i];\n",
    "  }\n"
   ]
  },
  {
   "cell_type": "markdown",
   "metadata": {},
   "source": [
    "### Compile the Code"
   ]
  },
  {
   "cell_type": "code",
   "execution_count": null,
   "metadata": {},
   "outputs": [],
   "source": [
    "# Optional: Examine the compile script if you choose\n",
    "%pycat compile_data_c.sh"
   ]
  },
  {
   "cell_type": "code",
   "execution_count": null,
   "metadata": {},
   "outputs": [],
   "source": [
    "#Execute this cell to compile the program, ensure your porgram compiles correctly\n",
    "! chmod 755 compile_data_c.sh; ./compile_data_c.sh;"
   ]
  },
  {
   "cell_type": "markdown",
   "metadata": {},
   "source": [
    "### Execute the Code"
   ]
  },
  {
   "cell_type": "code",
   "execution_count": null,
   "metadata": {},
   "outputs": [],
   "source": [
    "# Optional: Examine the run script if you choose\n",
    "%pycat run_data.sh"
   ]
  },
  {
   "cell_type": "code",
   "execution_count": null,
   "metadata": {},
   "outputs": [],
   "source": [
    "#Execute the program, if you see the \"FAILED\" message, go back and debug your code\n",
    "! chmod 755 q; chmod 755 run_data.sh;if [ -x \"$(command -v qsub)\" ]; then ./q run_data.sh; else ./run_data.sh; fi"
   ]
  },
  {
   "cell_type": "markdown",
   "metadata": {},
   "source": [
    "_If the Jupyter cells are not responsive or if they error out when you compile the samples, please restart the Kernel and compile the samples again_"
   ]
  },
  {
   "cell_type": "code",
   "execution_count": null,
   "metadata": {},
   "outputs": [],
   "source": [
    "#Examine both solutions\n",
    "%pycat target_data_region_solution.cpp"
   ]
  },
  {
   "cell_type": "markdown",
   "metadata": {},
   "source": [
    "## Mapping Global Variables to Device\n",
    "With OpenMP, you also have the option to map a variable to the device for the duration of the program. Use the `declare target` directive to specify that variables and functions are mapped to a device. Here's an example.\n",
    "```c\n",
    "#pragma omp declare target\n",
    "int a[N]\n",
    "#pragma omp end declare target\n",
    "\n",
    "...\n",
    "    \n",
    "//Host Code\n",
    "init(a);\n",
    "\n",
    "#pragma omp target\n",
    "for (int i=0; i<N; i++) {\n",
    "    result[i]=process(a[i]);\n",
    "}\n",
    "```"
   ]
  },
  {
   "cell_type": "markdown",
   "metadata": {},
   "source": [
    "# Summary\n",
    "In this module, you have learned the following:\n",
    "* How OpenMP handles data transfers to the device by default\n",
    "* Explicitly specify data mapping in the `#pragma omp target` construct with the map clause\n",
    "* Declare target data region with `target data` and `target enter/exit data` constructs\n",
    "* Explicitly issue data transfers using the `target update` directive\n",
    "* Map global variables to the target device\n",
    "\n",
    "***\n",
    "\n",
    "@Intel Corporation | [\\*Trademark](https://www.intel.com/content/www/us/en/legal/trademarks.html)"
   ]
  }
 ],
 "metadata": {
  "kernelspec": {
   "display_name": "Python 3.7 (Intel® oneAPI)",
   "language": "python",
   "name": "c009-intel_distribution_of_python_3_oneapi-beta05-python"
  },
  "language_info": {
   "codemirror_mode": {
    "name": "ipython",
    "version": 3
   },
   "file_extension": ".py",
   "mimetype": "text/x-python",
   "name": "python",
   "nbconvert_exporter": "python",
   "pygments_lexer": "ipython3",
   "version": "3.7.7"
  }
 },
 "nbformat": 4,
 "nbformat_minor": 4
}
