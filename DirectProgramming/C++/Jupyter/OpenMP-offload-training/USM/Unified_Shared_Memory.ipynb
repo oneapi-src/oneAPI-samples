{
 "cells": [
  {
   "cell_type": "markdown",
   "metadata": {},
   "source": [
    "# Unified Shared Memory (USM) (C/C++)"
   ]
  },
  {
   "cell_type": "markdown",
   "metadata": {
    "jp-MarkdownHeadingCollapsed": true,
    "tags": []
   },
   "source": [
    "#### Sections\n",
    "- [Learning Objectives](#Learning-Objectives)\n",
    "- [What is Unified Shared Memory](#What-is-Unified-Shared-Memory?)\n",
    "- [Allocating Unified Shared Memory](#Allocating-Unified-Shared-Memory)\n",
    "- _Code:_ [Lab Exercise: Shared Memory Allocation ](#Lab-Exercise:-Shared-Memory-Allocation)\n",
    "- _Code:_ [Explicit USM](#USM-Explicit-Data-Movement)"
   ]
  },
  {
   "cell_type": "markdown",
   "metadata": {},
   "source": [
    "## Learning Objectives\n",
    "* Use the Unified Shared Memory feature to simplify OpenMP* Offload programming\n",
    "* Understand implicit and explicit way of moving memory using USM\n",
    "\n",
    "### Prerequisites\n",
    "Basic understanding of OpenMP constructs are assumed for this module. You also should have already went through the  [Introduction to OpenMP Offload module](../intro/intro.ipynb) and [Managing Device Data module](../datatransfer/datatransfer.ipynb), where the basics of using the Jupyter notebooks with the Intel® DevCloud and an introduction to the OpenMP `target` and `map` constructs were discussed."
   ]
  },
  {
   "cell_type": "markdown",
   "metadata": {
    "tags": []
   },
   "source": [
    "## What is Unified Shared Memory?\n",
    "\n",
    "Unified Shared Memory (USM) is a tool for data management currently supported by the Intel&reg; oneAPI DPC++/C++ Compiler. USM is a\n",
    "__pointer-based approach__ that should be familiar to C and C++ programmers who use malloc\n",
    "or new to allocate data. USM __simplifies development__ for the programmer when __porting existing\n",
    "C/C++ code__ to support OpenMP Offload.\n",
    "\n",
    "### Developer View of USM\n",
    "\n",
    "The picture below shows __developer view of memory__ without USM and with USM. \n",
    "\n",
    "With USM, the developer can reference that same memory object in host and device code.  \n",
    "\n",
    "![Developer View of USM](Assets/usm_dev_view.png)\n",
    "\n",
    "***\n",
    "## Allocating Unified Shared Memory\n",
    "In the previous modules, we used the `map` clause with the `target`, `target data`, and `target enter/exit data` pragmas which enabled the mapping of memory between host and device data environments. However, we can also use OpenMP USM routines to simplify the management of host and device memories.\n",
    "\n",
    "### Types of USM\n",
    "\n",
    "USM provides different types of memory to allow both explicit and implicit models for managing memory.\n",
    "\n",
    "Device memory can be allocated for explicit user control of data movement. Host and shared memory are provided to allow implicit accesses from the accelerator device.\n",
    "\n",
    "The following table illustrates the properties of the different USM memories and how they can be allocated.\n",
    "\n",
    "|Type | Location | Accessible From |  Allocation Routine |\n",
    "|:----:|:----:|:----:|:----|\n",
    "|Host | Host | Host or Device | omp_target_alloc_host(size,device_num) |\n",
    "|Device |Device | Device | omp_target_alloc_device(size,device_num) |\n",
    "|Shared | Host or Device | Host or Device | omp_target_alloc_shared(size,device_num) |\n",
    "\n",
    "Memories allocated using the above functions can be freed using the `omp_target_free(pointer, device_num)` call."
   ]
  },
  {
   "cell_type": "markdown",
   "metadata": {},
   "source": [
    "## Lab Exercise: Shared Memory Allocation \n",
    "\n",
    "In this exercise, you will use the shared allocation routine to highlight the usage of Unified Shared Memory. Shared memory is accessible from both the host and device. Its location is managed by the runtime and can reside on the host and/or the device.\n",
    "\n",
    "The primary source file, main.cpp, is written for you. \n",
    "It includes alloc_func.cpp that you will write out. If you would like to see the contents of main.cpp, execute the following cell.\n"
   ]
  },
  {
   "cell_type": "code",
   "execution_count": null,
   "metadata": {},
   "outputs": [],
   "source": [
    "#See the contents of main.cpp\n",
    "%pycat main.cpp"
   ]
  },
  {
   "cell_type": "markdown",
   "metadata": {},
   "source": [
    "In the cell below, the shared allocation routine is used to allocate shared memory for the array of floats `x` and `y`. It uses `deviceId` as the device_number and `ARRAY_SIZE * sizeof(float)` as the size of the array in bytes.\n",
    "\n",
    "Execute the cell below write the allocation code to file."
   ]
  },
  {
   "cell_type": "code",
   "execution_count": null,
   "metadata": {},
   "outputs": [],
   "source": [
    "%%writefile lab/alloc_func.cpp\n",
    "//Allocate Shared Memory \n",
    "float *x =\n",
    "    (float *)omp_target_alloc_shared(ARRAY_SIZE * sizeof(float), deviceId);\n",
    "float *y =\n",
    "    (float *)omp_target_alloc_shared(ARRAY_SIZE * sizeof(float), deviceId);"
   ]
  },
  {
   "cell_type": "markdown",
   "metadata": {},
   "source": [
    "### Compile the Code\n",
    "Next, compile the code using *compile_c.sh*. If you would like to see the contents of compile_c.sh execute the following cell."
   ]
  },
  {
   "cell_type": "code",
   "execution_count": null,
   "metadata": {},
   "outputs": [],
   "source": [
    "# Optional: Run this cell to see the contents of compile_c.sh\n",
    "%pycat compile_c.sh"
   ]
  },
  {
   "cell_type": "markdown",
   "metadata": {},
   "source": [
    "Execute the following cell to perform the compilation"
   ]
  },
  {
   "cell_type": "code",
   "execution_count": null,
   "metadata": {},
   "outputs": [],
   "source": [
    "!chmod 755 compile_c.sh; ./compile_c.sh;"
   ]
  },
  {
   "cell_type": "markdown",
   "metadata": {},
   "source": [
    "### Execute the code\n",
    "Next, run the code using the script *run.sh*."
   ]
  },
  {
   "cell_type": "code",
   "execution_count": null,
   "metadata": {},
   "outputs": [],
   "source": [
    "# Optional: Run this cell to see the contents of run.sh\n",
    "%pycat run.sh"
   ]
  },
  {
   "cell_type": "markdown",
   "metadata": {},
   "source": [
    "Execute the following cell to execute the compiled program. Look for the passed message.\n",
    "\n",
    "_If the Jupyter cells are not responsive or if they error out when you compile the samples, please restart the Kernel and compile the samples again_"
   ]
  },
  {
   "cell_type": "code",
   "execution_count": null,
   "metadata": {},
   "outputs": [],
   "source": [
    "! chmod 755 q; chmod 755 run.sh;if [ -x \"$(command -v qsub)\" ]; then ./q run.sh; else ./run.sh; fi"
   ]
  },
  {
   "cell_type": "markdown",
   "metadata": {},
   "source": [
    "### USM Explicit Data Movement\n",
    "The code below shows an implementation of USM using <code>omp_target_alloc_device</code>, in which data movement between host and device must be explicitly managed by developers using <code>omp_target_memcpy</code>. This gives developers to have more control may result in performance improvement.\n",
    "\n",
    "The code below demonstrates USM Explicit Data Movement: Inspect code, there are no modifications necessary:\n",
    "\n",
    "1. Inspect the code cell below and run ▶ the cell to save the code to file.\n",
    "\n",
    "2. Next run ▶ the cell in the __Build and Run__ section below the code to compile and execute the code."
   ]
  },
  {
   "cell_type": "code",
   "execution_count": null,
   "metadata": {},
   "outputs": [],
   "source": [
    "%%writefile lab/usm_explicit.cpp\n",
    "//==============================================================\n",
    "// Copyright © 2020 Intel Corporation\n",
    "//\n",
    "// SPDX-License-Identifier: MIT\n",
    "// =============================================================\n",
    "\n",
    "#include <omp.h>\n",
    "#include <stdio.h>\n",
    "\n",
    "#pragma omp requires unified_shared_memory\n",
    "\n",
    "constexpr int ARRAY_SIZE = 256;\n",
    "\n",
    "void init1(float *x, int N) {\n",
    "  for (int i = 0; i < N; i++) x[i] = 1.0;\n",
    "}\n",
    "void init2(float *x, int N) {\n",
    "  for (int i = 0; i < N; i++) x[i] = 2.0;\n",
    "}\n",
    "int main() {\n",
    "  int deviceId = (omp_get_num_devices() > 0) ? omp_get_default_device()\n",
    "                                             : omp_get_initial_device();\n",
    "\n",
    "  // Allocate memory on host\n",
    "  float *x = (float *)malloc(ARRAY_SIZE * sizeof(float));\n",
    "  float *y = (float *)malloc(ARRAY_SIZE * sizeof(float));\n",
    "\n",
    "  double tb, te;\n",
    "  int correct_count = 0;\n",
    "\n",
    "  init1(x, ARRAY_SIZE);\n",
    "  init1(y, ARRAY_SIZE);\n",
    "\n",
    "  printf(\"Number of OpenMP Devices: %d\\n\", omp_get_num_devices());\n",
    "\n",
    "  tb = omp_get_wtime();\n",
    "\n",
    "  // Allocate memory on device\n",
    "  float *x_dev =\n",
    "      (float *)omp_target_alloc_device(ARRAY_SIZE * sizeof(float), deviceId);\n",
    "  float *y_dev =\n",
    "      (float *)omp_target_alloc_device(ARRAY_SIZE * sizeof(float), deviceId);\n",
    "\n",
    "  // Explicit data movement from Host to device\n",
    "  int error = omp_target_memcpy(x_dev, x, ARRAY_SIZE * sizeof(float), 0, 0,\n",
    "                                deviceId, 0);\n",
    "  error = omp_target_memcpy(y_dev, y, ARRAY_SIZE * sizeof(float), 0, 0,\n",
    "                            deviceId, 0);\n",
    "\n",
    "#pragma omp target\n",
    "  {\n",
    "    for (int i = 0; i < ARRAY_SIZE; i++) x_dev[i] += y_dev[i];\n",
    "  }\n",
    "\n",
    "  // Explicit Data Movement from Device to Host\n",
    "  error = omp_target_memcpy(x, x_dev, ARRAY_SIZE * sizeof(float), 0, 0, 0,\n",
    "                            deviceId);\n",
    "  error = omp_target_memcpy(y, y_dev, ARRAY_SIZE * sizeof(float), 0, 0, 0,\n",
    "                            deviceId);\n",
    "\n",
    "  init2(y, ARRAY_SIZE);\n",
    "\n",
    "  // Explicit data movement from Host to device\n",
    "  error = omp_target_memcpy(x_dev, x, ARRAY_SIZE * sizeof(float), 0, 0,\n",
    "                            deviceId, 0);\n",
    "  error = omp_target_memcpy(y_dev, y, ARRAY_SIZE * sizeof(float), 0, 0,\n",
    "                            deviceId, 0);\n",
    "\n",
    "#pragma omp target\n",
    "  {\n",
    "    for (int i = 0; i < ARRAY_SIZE; i++) x_dev[i] += y_dev[i];\n",
    "  }\n",
    "  // Explicit Data Movement from Device to Host\n",
    "  error = omp_target_memcpy(x, x_dev, ARRAY_SIZE * sizeof(float), 0, 0, 0,\n",
    "                            deviceId);\n",
    "  error = omp_target_memcpy(y, y_dev, ARRAY_SIZE * sizeof(float), 0, 0, 0,\n",
    "                            deviceId);\n",
    "\n",
    "  te = omp_get_wtime();\n",
    "\n",
    "  printf(\"Time of kernel: %lf seconds\\n\", te - tb);\n",
    "\n",
    "  for (int i = 0; i < ARRAY_SIZE; i++)\n",
    "    if (x[i] == 4.0) correct_count++;\n",
    "\n",
    "  printf(\"Test: %s\\n\", (correct_count == ARRAY_SIZE) ? \"PASSED!\" : \"Failed\");\n",
    "\n",
    "  omp_target_free(x_dev, deviceId);\n",
    "  omp_target_free(y_dev, deviceId);\n",
    "  free(x);\n",
    "  free(y);\n",
    "\n",
    "  return EXIT_SUCCESS;\n",
    "}"
   ]
  },
  {
   "cell_type": "markdown",
   "metadata": {},
   "source": [
    "#### Build and Run\n",
    "Select the cell below and click run ▶ to compile and execute the code:"
   ]
  },
  {
   "cell_type": "code",
   "execution_count": null,
   "metadata": {},
   "outputs": [],
   "source": [
    "! chmod 755 q; chmod 755 run_usm_explicit.sh; if [ -x \"$(command -v qsub)\" ]; then ./q run_usm_explicit.sh; else ./run_usm_explicit.sh; fi"
   ]
  },
  {
   "cell_type": "markdown",
   "metadata": {},
   "source": [
    "_If the Jupyter cells are not responsive, or if they error out when you compile the code samples, please restart the Jupyter Kernel: \n",
    "\"Kernel->Restart Kernel and Clear All Outputs\" and compile the code samples again_."
   ]
  },
  {
   "cell_type": "markdown",
   "metadata": {},
   "source": [
    "# Summary\n",
    "USM makes it easy to use OpenMP Offload. USM allows a simple implicit data movement approach to get functional quickly. USM also provides controlled data movement with explicit approach."
   ]
  },
  {
   "cell_type": "markdown",
   "metadata": {},
   "source": [
    "<html><body><span style=\"color:Red\"><h1>Reset Notebook</h1></span></body></html>\n",
    "\n",
    "##### Should you be experiencing any issues with your notebook or just want to start fresh run the below cell."
   ]
  },
  {
   "cell_type": "code",
   "execution_count": null,
   "metadata": {
    "jupyter": {
     "source_hidden": true
    },
    "tags": []
   },
   "outputs": [],
   "source": [
    "from IPython.display import display, Markdown, clear_output\n",
    "import ipywidgets as widgets\n",
    "button = widgets.Button(\n",
    "    description='Reset Notebook',\n",
    "    disabled=False,\n",
    "    button_style='', # 'success', 'info', 'warning', 'danger' or ''\n",
    "    tooltip='This will update this notebook, overwriting any changes.',\n",
    "    icon='check' # (FontAwesome names without the `fa-` prefix)\n",
    ")\n",
    "out = widgets.Output()\n",
    "def on_button_clicked(_):\n",
    "      # \"linking function with output\"\n",
    "      with out:\n",
    "          # what happens when we press the button\n",
    "          clear_output()\n",
    "          !rsync -a --size-only /data/oneapi_workshop/OpenMP_Offload/datatransfer/ ~/OpenMP_Offload/datatransfer\n",
    "          print('Notebook reset -- now click reload on browser.')\n",
    "# linking button and function together using a button's method\n",
    "button.on_click(on_button_clicked)\n",
    "# displaying button and its output together\n",
    "widgets.VBox([button,out])"
   ]
  },
  {
   "cell_type": "markdown",
   "metadata": {
    "tags": []
   },
   "source": [
    "***\n",
    "\n",
    "@Intel Corporation | [\\*Trademark](https://www.intel.com/content/www/us/en/legal/trademarks.html)"
   ]
  }
 ],
 "metadata": {
  "kernelspec": {
   "display_name": "Python 3.7 (Intel® oneAPI)",
   "language": "python",
   "name": "c009-intel_distribution_of_python_3_oneapi-beta05-python"
  },
  "language_info": {
   "codemirror_mode": {
    "name": "ipython",
    "version": 3
   },
   "file_extension": ".py",
   "mimetype": "text/x-python",
   "name": "python",
   "nbconvert_exporter": "python",
   "pygments_lexer": "ipython3",
   "version": "3.9.7"
  }
 },
 "nbformat": 4,
 "nbformat_minor": 4
}
