{
 "cells": [
  {
   "cell_type": "markdown",
   "metadata": {},
   "source": [
    "# Welcome to oneAPI OpenMP* Offload Modules\n",
    "\n",
    "***\n",
    "# Developer Training Modules\n",
    "\n",
    "## Module 1 - Introduction to OpenMP Offload\n",
    "### [C/C++](intro/intro.ipynb)\n",
    "The Bootstrapping hands-on exercise introduces the developers to OpenMP offload and getting \"feet wet\" with the tools.  Further, it familiarizes developers with the use of Jupyter notebooks as a front-end for all training exercises.  This workshop is enabled for training on the DevCloud and includes material from [Using Intel® DevCloud with oneAPI Products](https://software.intel.com/en-us/articles/using-intel-devcloud-with-oneapi-products \"Using DPC++ on the DevCloud\") on how to submit batch jobs.\n",
    "\n",
    "## Module 2 - Managing Data Transfers\n",
    "### [C/C++](datatransfer/datatransfer.ipynb)\n",
    "In this hands-on lab the developer will use various OpenMP directives to minimize data transfers between the CPU  host and the GPU target device.\n",
    "\n",
    "## Module 3- Utilizing GPU Parallelism\n",
    "### [C/C++](parallelism/parallelism.ipynb)\n",
    "In this lab we will attempt to use various OpenMP constructs to maximize parallelism and performance when offloading to GPUs. \n",
    "\n",
    "***\n",
    "\n",
    "@Intel Corporation | [\\*Trademark](https://www.intel.com/content/www/us/en/legal/trademarks.html)"
   ]
  }
 ],
 "metadata": {
  "kernelspec": {
   "display_name": "Python 3.7 (Intel® oneAPI)",
   "language": "python",
   "name": "c009-intel_distribution_of_python_3_oneapi-beta05-python"
  },
  "language_info": {
   "codemirror_mode": {
    "name": "ipython",
    "version": 3
   },
   "file_extension": ".py",
   "mimetype": "text/x-python",
   "name": "python",
   "nbconvert_exporter": "python",
   "pygments_lexer": "ipython3",
   "version": "3.7.7"
  }
 },
 "nbformat": 4,
 "nbformat_minor": 4
}
