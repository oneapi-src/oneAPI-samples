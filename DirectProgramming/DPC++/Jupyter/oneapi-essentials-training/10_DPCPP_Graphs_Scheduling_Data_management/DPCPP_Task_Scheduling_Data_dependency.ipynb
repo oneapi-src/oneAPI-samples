{
 "cells": [
  {
   "cell_type": "markdown",
   "metadata": {},
   "source": [
    "# SYCL Task Scheduling and Data Dependences"
   ]
  },
  {
   "cell_type": "markdown",
   "metadata": {},
   "source": [
    "##### Sections\n",
    "- [Buffers and Accessors](#Buffers-and-Accessors)\n",
    "- [Memory Management](#Memory-Management) \n",
    "- [Explicit Data Movement](#Explicit-Data-Movement)\n",
    "- [Implicit data movement](#Implicit-data-movement) \n",
    "- [What is USM?](#What-is-Unified-Shared-Memory?)\n",
    "- [Types of USM](#Types-of-USM)\n",
    "    - _Code:_ [USM Explicit data Movement](#USM-Explicit-data-Movement)\n",
    "    - _Code:_ [USM Implicit data Movement](#USM-Implicit-data-Movement)\n",
    "- [Accessors](#Accessors)\n",
    "    - [Access modes](#Access-modes)    \n",
    "    - [Graph Scheduling](#Execution-Graph-Scheduling)\n",
    "        - _Code:_ [RAW - Read after Write](#RAW-Read-after-Write)\n",
    "        - _Code:_ [WAR WAW- Write after Read and Write after Write](#WAR-WAW-Write-after-Read-and-Write-after-Write)\n",
    "    - _Code:_ [Implicit dependency with Accessors](#Implicit-dependency-with-Accessors) \n",
    "- [Graphs and Dependencies](#Graphs-and-Dependencies)\n",
    "- [Graphs in SYCL](#Graphs-in-SYCL)\n",
    "- [Dependency in Graphs](#Dependency-in-Linear-dependency-chain-graphs-and-y-pattern-Graphs)\n",
    "- [In-Order Queues](#In-Order-Queues)\n",
    "    - _Code:_ [Linear dependence chain using in-order queues](#Linear-dependence-chain-using-in-order-queues)\n",
    "    - _Code:_ [Y Pattern using in-order queues](#Y-Pattern-using-in-order-queues)\n",
    "- [Event-based dependencies](#Event-based-dependencies) \n",
    "    - _Code:_ [Linear dependence chain using events](#Linear-dependence-chain-using-events)\n",
    "    - _Code:_ [Y Pattern using events](#Y-Pattern-using-events)\n",
    "- _Code:_ [Linear dependence chain using Buffers and Accessors](#Linear-dependence-chain-using-Buffers-and-Accessors)\n",
    "- _Code:_ [Y Pattern using Buffers and Accessors](#Y-Pattern-using-Buffers-and-Accessors)\n",
    "- _Lab Exercise:_ [Task Scheduling Data Dependency](#Lab-Exercise:-Task-Scheduling-Data-Dependency)\n"
   ]
  },
  {
   "cell_type": "markdown",
   "metadata": {},
   "source": [
    "## Learning Objectives\n",
    "* Utilize USM and Buffers and Accessors to apply Memory management and take control over data movement   implicitly and explicitly\n",
    "* Utilize different types of data dependences that are important for ensuring execution of graph scheduling\n",
    "* Select the correct modes of dependences in Graphs scheduling."
   ]
  },
  {
   "cell_type": "markdown",
   "metadata": {},
   "source": [
    "## Buffers and Accessors\n",
    "__Buffers__ are high level abstraction for data and these are accessible either on the host machine or on the devices. Buffers encapsulate data in a SYCL application across both devices and host. __Accessors__ is the mechanism to access buffer data. Buffers are 1-, 2- or 3-dimensional data."
   ]
  },
  {
   "cell_type": "markdown",
   "metadata": {},
   "source": [
    "## Memory Management\n",
    "Managing multiple memories can be accomplished, broadly, in two ways: \n",
    "* Explicitly by the programmer\n",
    "* Implicitly by the runtime.\n",
    "\n",
    "Each method has its advantages and drawbacks, and programmers may choose one or the other depending on circumstances or personal preference.\n",
    "\n"
   ]
  },
  {
   "cell_type": "markdown",
   "metadata": {},
   "source": [
    "### Explicit Data Movement\n",
    "In a SYCL program one option for managing multiple memories is for the programmer to explicitly copy data between host and the device and once the computation is done it needs to be copied back to the host from the device. This can be done explicitly by the programmer. \n",
    "\n",
    "Also, once we offload computation to a device by submitting tasks to a queue and the kernel computes new results,\n",
    "the data needs to be copied back to the host program. One of the main advantages of explicit transfer is that the programmer has full control over when data is transferred between the device and the host and back to host from the device,  and this is important and can be essential to obtaining the best performance on some hardware.\n",
    " \n",
    "The disadvantage of explicit data movement is that transferring explicitly by the programmer can be tedious process and error prone. Transferring incorrect data or transferring the data back to host at incorrect time can lead to incorrect results. \n",
    "\n",
    "Getting all of the data movement correct up front can be a time-consuming task.\n",
    "\n",
    "### Implicit data movement\n",
    "The alternative to explicit data movement is implicit data movement. This is controlled by the runtime or driver and here the runtime is responsible for ensuring that data is transferred to the appropriate memory before it is used. \n",
    "\n",
    "The advantage of implicit data movement is that it requires less effort on the programmer’s\tpart and  all the heavy lifting is done by the runtime. This also reduces the opportunity to introduce errors into the program since the runtime will automatically identify both when data transfers must be performed and how much data must be transferred.\n",
    "\n",
    "The drawback of implicit data movement is that the programmer has less or no control over the behavior of the runtime’s implicit mechanisms. The runtime will provide functional correctness but may not move data in an optimal fashion that could have a negative impact on program performance.\n",
    "\n",
    "### Selecting the right strategy: explicit or implicit\n",
    "A programmer might choose to begin using implicit data movement to simplify porting an application to a new device. As we \n",
    "begin tuning the application for performance, we might start replacing implicit data movement with explicit in performance-critical parts of the code.\n"
   ]
  },
  {
   "cell_type": "markdown",
   "metadata": {},
   "source": [
    "## What is Unified Shared Memory?"
   ]
  },
  {
   "cell_type": "markdown",
   "metadata": {},
   "source": [
    "Unified Shared Memory (USM) is a __pointer-based approach__ that should be familiar to C and C++ programmers who use malloc\n",
    "or new to allocate data. USM __simplifies development__ for the programmer when __porting existing\n",
    "C/C++ code__ to SYCL."
   ]
  },
  {
   "cell_type": "markdown",
   "metadata": {},
   "source": [
    "### USM Explicit data Movement\n",
    "\n",
    "The SYCL code below shows an implementation of USM using <code>malloc_device</code>, in which data movement between host and device should be done explicitly by developer using <code>memcpy</code>. This allows developers to have more __controlled movement of data__ between host and device.\n",
    "\n",
    "The SYCL code below demonstrates USM Explicit Data Movement: Inspect code, there are no modifications necessary:\n",
    "\n",
    "1. Inspect the code cell below and click run ▶ to save the code to file.\n",
    "2. Next run ▶ the cell in the __Build and Run__ section below the code to compile and execute the code."
   ]
  },
  {
   "cell_type": "code",
   "execution_count": null,
   "metadata": {},
   "outputs": [],
   "source": [
    "%%writefile lab/USM_explicit.cpp\n",
    "//==============================================================\n",
    "// Copyright © Intel Corporation\n",
    "//\n",
    "// SPDX-License-Identifier: MIT\n",
    "//==============================================================\n",
    "\n",
    "#include <CL/sycl.hpp>\n",
    "#include<array>\n",
    "using namespace sycl;\n",
    "constexpr int N = 42;\n",
    "\n",
    "int main() {\n",
    "  queue Q;\n",
    "\n",
    "  std::array<int,N> host_array;\n",
    "  int *device_array = malloc_device<int>(N, Q);\n",
    "\n",
    "  for (int i = 0; i < N; i++)\n",
    "    host_array[i] = N;\n",
    "\n",
    "  // Submit the queue\n",
    "  Q.submit([&](handler &h) {\n",
    "      // copy hostArray to deviceArray\n",
    "      h.memcpy(device_array, &host_array[0], N * sizeof(int));\n",
    "    });\n",
    "  Q.wait();\n",
    "\n",
    "  Q.submit([&](handler &h) {\n",
    "      h.parallel_for(N, [=](id<1> i) { device_array[i]++; });\n",
    "    });\n",
    "  Q.wait();\n",
    "\n",
    "  Q.submit([&](handler &h) {\n",
    "      // copy deviceArray back to hostArray\n",
    "      h.memcpy(&host_array[0], device_array, N * sizeof(int));\n",
    "    });\n",
    "  Q.wait();\n",
    "\n",
    "  free(device_array, Q);\n",
    "  return 0;\n",
    "}"
   ]
  },
  {
   "cell_type": "markdown",
   "metadata": {},
   "source": [
    "#### Build and Run\n",
    "Select the cell below and click run ▶ to compile and execute the code:"
   ]
  },
  {
   "cell_type": "code",
   "execution_count": null,
   "metadata": {},
   "outputs": [],
   "source": [
    "! chmod 755 q; chmod 755 run_usm_explicit.sh; if [ -x \"$(command -v qsub)\" ]; then ./q run_usm_explicit.sh; else ./run_usm_explicit.sh; fi"
   ]
  },
  {
   "cell_type": "markdown",
   "metadata": {},
   "source": [
    "### USM Implicit data Movement\n",
    "\n",
    "The SYCL code below shows an implementation of USM using <code>malloc_shared</code>, in which data movement happens implicitly between host and device. Useful to __get functional quickly with minimum amount of code__ and developers will not having worry about moving memory between host and device."
   ]
  },
  {
   "cell_type": "code",
   "execution_count": null,
   "metadata": {},
   "outputs": [],
   "source": [
    "%%writefile lab/USM_implicit.cpp\n",
    "//==============================================================\n",
    "// Copyright © Intel Corporation\n",
    "//\n",
    "// SPDX-License-Identifier: MIT\n",
    "//==============================================================\n",    
    "//\n",
    "#include <CL/sycl.hpp>\n",
    "using namespace sycl;\n",
    "constexpr int N = 42;\n",
    "\n",
    "int main() {\n",
    "  queue Q;\n",
    "  int *host_array = malloc_host<int>(N, Q);\n",
    "  int *shared_array = malloc_shared<int>(N, Q);\n",
    "\n",
    "  for (int i = 0; i < N; i++) {\n",
    "    // Initialize hostArray on host\n",
    "    host_array[i] = i;\n",
    "  }\n",
    "\n",
    "  // Submit the queue\n",
    "  Q.submit([&](handler &h) {\n",
    "      h.parallel_for(N, [=](id<1> i) {\n",
    "          // access sharedArray and hostArray on device\n",
    "          shared_array[i] = host_array[i] + 1;\n",
    "        });\n",
    "    });\n",
    "  Q.wait();\n",
    "\n",
    "  for (int i = 0; i < N; i++) {\n",
    "    // access sharedArray on host\n",
    "    host_array[i] = shared_array[i];\n",
    "  }\n",
    "\n",
    "  free(shared_array, Q);\n",
    "  free(host_array, Q);\n",
    "  return 0;\n",
    "}\n"
   ]
  },
  {
   "cell_type": "markdown",
   "metadata": {},
   "source": [
    "#### Build and Run\n",
    "Select the cell below and click run ▶ to compile and execute the code:"
   ]
  },
  {
   "cell_type": "code",
   "execution_count": null,
   "metadata": {},
   "outputs": [],
   "source": [
    "! chmod 755 q; chmod 755 run_usm_implicit.sh; if [ -x \"$(command -v qsub)\" ]; then ./q run_usm_implicit.sh; else ./run_usm_implicit.sh; fi"
   ]
  },
  {
   "cell_type": "markdown",
   "metadata": {},
   "source": [
    "# Accessors"
   ]
  },
  {
   "cell_type": "markdown",
   "metadata": {},
   "source": [
    "Data represented by a buffer cannot be directly accessed through the buffer object. Instead, we must create accessor objects that allow us to safely access a buffer’s data. Accessors inform the runtime where and how we want to access data, allowing the runtime to ensure that the right data is in the right place at the right time and the kernels don't run until the data is available.\n",
    "\n",
    "### Access modes\n",
    "\n",
    "When creating an accessor, we must inform the runtime how we are going to use it by\tspecifying an access mode as described in the below table.\n",
    "Access modes are how the runtime is able to perform implicit data movement.\n",
    "When the accessor is created with __access::mode::read_write__ we intend to both read and write to the buffer through the accessor. \n",
    "\n",
    "`read_only` tells the runtime that the data needs to be available on the device before this kernel can begin executing. Similarly, __`access::mode::write`__ lets the runtime know that we will modify the contents of a buffer and may need to copy the results back after computation has ended.\n",
    "\n",
    "The runtime uses accessors to order the use of data, but it can also use this data to optimize scheduling of kernels and data movement.\n",
    "\n",
    "| Access Mode | Description |\n",
    "|:---|:---|\n",
    "| __read__ | Read only Access|\n",
    "| __write__ | Write-only access. Previous contents not discarded |\n",
    "| __read_write__ | Read and Write access |\n",
    "| __atomic__ |Read and write atomic access |\n",
    "\n",
    "\n"
   ]
  },
  {
   "cell_type": "markdown",
   "metadata": {},
   "source": [
    "###  Execution Graph Scheduling\n",
    "Execution  graphs are the mechanism that we use to achieve proper sequencing of kernels, and data movement in an application. Dependences between kernels are fundamentally based on what data a kernel accesses. A kernel needs to be certain that it reads the correct data before it can compute its output.\n",
    "\n",
    "There are three types of data dependences that are important for ensuring correct execution. \n",
    "\n",
    "* Read-after-Write (RAW) : Occurs when one task needs to read data produced by a different task. This type of dependence describes the flow of data between two kernels.\n",
    "* Write-after-Read (WAR) : The second type of dependence happens when one task needs to update data after another task has read it.\n",
    "* Write-after-Write (WAW) : The final type of data dependence occurs when two tasks try to write the same data."
   ]
  },
  {
   "cell_type": "markdown",
   "metadata": {},
   "source": [
    "#### RAW-Read after Write\n",
    "The SYCL code below demonstrates creating accessors: Inspect code, there are no modifications necessary:\n",
    "\n",
    "1. Inspect the code cell below and click run ▶ to save the code to file\n",
    "2. Next run ▶ the cell in the __Build and Run__ section below the code to compile and execute the code."
   ]
  },
  {
   "cell_type": "code",
   "execution_count": null,
   "metadata": {},
   "outputs": [],
   "source": [
    "%%writefile lab/accessors_RAW.cpp\n",
    "//==============================================================\n",
    "// Copyright © Intel Corporation\n",
    "//\n",
    "// SPDX-License-Identifier: MIT\n",
    "// =============================================================\n",
    "\n",
    "\n",
    "#include <CL/sycl.hpp>\n",
    "#include <array>\n",
    "using namespace sycl;\n",
    "constexpr int N = 42;\n",
    "\n",
    "int main() {\n",
    "  std::array<int,N> a, b, c;\n",
    "  for (int i = 0; i < N; i++) {\n",
    "    a[i] = b[i] = c[i] = 0;\n",
    "  }\n",
    "\n",
    "  queue Q;\n",
    "\n",
    "  //Create Buffers\n",
    "  buffer A{a};\n",
    "  buffer B{b};\n",
    "  buffer C{c};\n",
    "\n",
    "  Q.submit([&](handler &h) {\n",
    "      accessor accA(A, h, read_only);\n",
    "      accessor accB(B, h, write_only);\n",
    "      h.parallel_for( // computeB\n",
    "        N,\n",
    "        [=](id<1> i) { accB[i] = accA[i] + 1; });\n",
    "    });\n",
    "\n",
    "  Q.submit([&](handler &h) {\n",
    "      accessor accA(A, h, read_only);\n",
    "      h.parallel_for( // readA\n",
    "        N,\n",
    "        [=](id<1> i) {\n",
    "          // Useful only as an example\n",
    "          int data = accA[i];\n",
    "        });\n",
    "    });\n",
    "\n",
    "  Q.submit([&](handler &h) {\n",
    "      // RAW of buffer B\n",
    "      accessor accB(B, h, read_only);\n",
    "      accessor accC(C, h, write_only);\n",
    "      h.parallel_for( // computeC\n",
    "        N,\n",
    "        [=](id<1> i) { accC[i] = accB[i] + 2; });\n",
    "    });\n",
    "\n",
    "  // read C on host\n",
    "  host_accessor host_accC(C, read_only);\n",
    "  for (int i = 0; i < N; i++) {\n",
    "    std::cout << host_accC[i] << \" \";\n",
    "  }\n",
    "  std::cout << \"\\n\";\n",
    "  return 0;\n",
    "}"
   ]
  },
  {
   "cell_type": "markdown",
   "metadata": {},
   "source": [
    "### Build and Run\n",
    "Select the cell below and click run ▶ to compile and execute the code:"
   ]
  },
  {
   "cell_type": "code",
   "execution_count": null,
   "metadata": {},
   "outputs": [],
   "source": [
    "! chmod 755 q; chmod 755 run_accessor_RAW.sh;if [ -x \"$(command -v qsub)\" ]; then ./q run_accessor_RAW.sh; else ./run_accessor_RAW.sh; fi"
   ]
  },
  {
   "cell_type": "markdown",
   "metadata": {},
   "source": [
    "#### WAR WAW-Write after Read and Write after Write\n",
    "\n",
    "WAR happens when one task needs to update data after another task has read it and WAW occurs when two tasks try to write the same data.\n",
    "\n",
    "The SYCL code below demonstrates creating accessors: Inspect code, there are no modifications necessary:\n",
    "1. Inspect the code cell below and click run ▶ to save the code to file\n",
    "2. Next run ▶ the cell in the __Build and Run__ section below the code to compile and execute the code."
   ]
  },
  {
   "cell_type": "code",
   "execution_count": null,
   "metadata": {},
   "outputs": [],
   "source": [
    "%%writefile lab/accessors_WAR_WAW.cpp\n",
    "//==============================================================\n",
    "// Copyright © Intel Corporation\n",
    "//\n",
    "// SPDX-License-Identifier: MIT\n",
    "// =============================================================\n",
    "\n",
    "#include <CL/sycl.hpp>\n",
    "#include <array>\n",
    "using namespace sycl;\n",
    "constexpr int N = 42;\n",
    "\n",
    "int main() {\n",
    "  std::array<int,N> a, b;\n",
    "  for (int i = 0; i < N; i++) {\n",
    "    a[i] = b[i] = 0;\n",
    "  }\n",
    "\n",
    "  queue Q;\n",
    "  buffer A{a};\n",
    "  buffer B{b};\n",
    "\n",
    "  Q.submit([&](handler &h) {\n",
    "      accessor accA(A, h, read_only);\n",
    "      accessor accB(B, h, write_only);\n",
    "      h.parallel_for( // computeB\n",
    "          N, [=](id<1> i) {\n",
    "          accB[i] = accA[i] + 1;\n",
    "          });\n",
    "      });\n",
    "\n",
    "  Q.submit([&](handler &h) {\n",
    "      // WAR of buffer A\n",
    "      accessor accA(A, h, write_only);\n",
    "      h.parallel_for( // rewriteA\n",
    "          N, [=](id<1> i) {\n",
    "          accA[i] = 21 + 21;\n",
    "          });\n",
    "      });\n",
    "\n",
    "  Q.submit([&](handler &h) {\n",
    "      // WAW of buffer B\n",
    "      accessor accB(B, h, write_only);\n",
    "      h.parallel_for( // rewriteB\n",
    "          N, [=](id<1> i) {\n",
    "          accB[i] = 30 + 12;\n",
    "          });\n",
    "      });\n",
    "\n",
    "  host_accessor host_accA(A, read_only);\n",
    "  host_accessor host_accB(B, read_only);\n",
    "  for (int i = 0; i < N; i++) {\n",
    "    std::cout << host_accA[i] << \" \" << host_accB[i] << \" \";\n",
    "  }\n",
    "  std::cout << \"\\n\";\n",
    "  return 0;\n",
    "}"
   ]
  },
  {
   "cell_type": "markdown",
   "metadata": {},
   "source": [
    "### Build and Run\n",
    "Select the cell below and click run ▶ to compile and execute the code:"
   ]
  },
  {
   "cell_type": "code",
   "execution_count": null,
   "metadata": {},
   "outputs": [],
   "source": [
    "! chmod 755 q; chmod 755 run_accessor_WAW.sh;if [ -x \"$(command -v qsub)\" ]; then ./q run_accessor_WAW.sh; else ./run_accessor_WAW.sh; fi"
   ]
  },
  {
   "cell_type": "markdown",
   "metadata": {},
   "source": [
    "## Graphs and Dependencies\n",
    "\n",
    "We discussed data management and ordering the uses of data and the abstraction behind graphs in SYCL: dependences. \n",
    "Dependences between kernels are fundamentally based on what data a kernel accesses. A kernel needs to be certain that it reads the correct data before it can compute its output. \n",
    "\n",
    "We described the three types of data dependences that are important for ensuring correct execution. The first, Read-after-Write (RAW), occurs when one task needs to read data produced by a different task. This type of dependence describes the flow of data between two kernels. The second type of dependence happens when one task needs to update data after another task has read it. We call that type of dependence a Write-afterRead (WAR) dependence. The final type of data dependence occurs when two tasks try to write the same data. This is known as a Write-after-Write (WAW) dependence.\n",
    "\n",
    "Data dependences are the building blocks we will use to build graphs. This set of dependences is all we need to express both simple linear chains of kernels and large, complex graphs with hundreds of kernels with elaborate dependences. No matter which types of graph a computation needs, SYCL graphs ensure that a program will execute correctly based on the expressed dependences. However, it is up to the programmer to make sure that a graph correctly expresses all the dependences in a program."
   ]
  },
  {
   "cell_type": "markdown",
   "metadata": {},
   "source": [
    "## Graphs in SYCL\n",
    "\n",
    "A command group can contain three different things: an action, its dependences, and miscellaneous host code. Of these three things, the one that is always required is the action since without it, the command group really doesn’t do anything. Most command groups will also express dependences, but there are cases where they may not.\n",
    "\n",
    "Command groups are typically expressed as a C++ lambda expression passed to the submit method. Command groups can also be expressed through shortcut methods on queue objects that take a kernel and set of event-based dependences.\n",
    "\n",
    "There are two types of actions that may be performed by a command group: kernels and explicit memory operations. Kernels\n",
    "are defined through calls to a parallel_for or single_task method and express computations that we want to perform on our devices. Operations for explicit data movement are the second type of action. Examples from USM include memcpy, memset, and fill operations. Examples from buffers include copy, fill, and update_host.\n",
    "\n"
   ]
  },
  {
   "cell_type": "markdown",
   "metadata": {},
   "source": [
    "## Dependency in Linear dependency chain graphs and y pattern Graphs\n",
    "\n",
    "The two patterns that are explained below are linear dependence chains where one task executes after another and a “Y” pattern where two independent tasks must execute before successive tasks. \n",
    "\n",
    "In a  __linear dependence__ chain the first node represents the initialization of data, while the second node presents the\n",
    "reduction operation that will accumulate the data into a single result.\n",
    "\n",
    "   ![Linear Dependence](Assets/graphs_linear.png)\n",
    "\n",
    "In a __“Y” pattern__ we independently initialize two different pieces of data. After the data is initialized, an addition kernel\n",
    "will sum the two vectors together. Finally, the last node in the graph accumulates the result into a single value.\n",
    "\n",
    "   ![Y Pattern](Assets/graphs_y.png)\n",
    "\n",
    "In the below examples for each pattern we will see three different implementations.\n",
    "* In-order queues. \n",
    "* Event-based dependences. \n",
    "* Using buffers and accessors to express data dependences between command groups."
   ]
  },
  {
   "cell_type": "markdown",
   "metadata": {},
   "source": [
    "### In-Order Queues\n",
    "The other main component of a command group is the set of dependences that must be satisfied before the action defined by the group can execute. SYCL allows these dependences to be specified in several ways. If a program uses in-order SYCL queues, the in-order semantics of the queue specify implicit dependences between successively enqueued command groups. One task cannot execute until the previously submitted task has completed."
   ]
  },
  {
   "cell_type": "markdown",
   "metadata": {},
   "source": [
    "### Linear dependence chain using in-order queues\n",
    "\n",
    "In the below example the inorder queues already guarantee a sequential order of execution between command groups. The first kernel we submit initializes the elements of an array to 1. The next kernel then takes those elements and sums them together into the first element. \n",
    "Since our queue is in order, we do not need to do anything else to express that the second kernel should not execute\n",
    "until the first kernel has completed. Finally, we wait for the queue to finish executing all its tasks, and we check that we obtained the expected result."
   ]
  },
  {
   "cell_type": "markdown",
   "metadata": {},
   "source": [
    "The SYCL code below demonstrates creating Linear dependence In-Order Queues: Inspect code, there are no modifications necessary:\n",
    "1. Inspect the code cell below and click run ▶ to save the code to file\n",
    "2. Next run ▶ the cell in the __Build and Run__ section below the code to compile and execute the code."
   ]
  },
  {
   "cell_type": "code",
   "execution_count": null,
   "metadata": {},
   "outputs": [],
   "source": [
    "%%writefile lab/Linear_inorder_queues.cpp\n",
    "//==============================================================\n",
    "// Copyright © Intel Corporation\n",
    "//\n",
    "// SPDX-License-Identifier: MIT\n",
    "// =============================================================\n",
    "\n",
    "#include <CL/sycl.hpp>\n",
    "using namespace sycl;\n",
    "constexpr int N = 42;\n",
    "\n",
    "int main() {\n",
    "  queue Q{property::queue::in_order()};\n",
    "\n",
    "  int *data = malloc_shared<int>(N, Q);\n",
    "\n",
    "  Q.parallel_for(N, [=](id<1> i) { data[i] = 1; });\n",
    "\n",
    "  Q.single_task([=]() {\n",
    "      for (int i = 1; i < N; i++)\n",
    "        data[0] += data[i];\n",
    "    });\n",
    "  Q.wait();\n",
    "\n",
    "  assert(data[0] == N);\n",
    "  return 0;\n",
    "}"
   ]
  },
  {
   "cell_type": "markdown",
   "metadata": {},
   "source": [
    "### Build and Run\n",
    "Select the cell below and click run ▶ to compile and execute the code:"
   ]
  },
  {
   "cell_type": "code",
   "execution_count": null,
   "metadata": {},
   "outputs": [],
   "source": [
    "! chmod 755 q; chmod 755 run_linear_inorder.sh;if [ -x \"$(command -v qsub)\" ]; then ./q run_linear_inorder.sh; else ./run_linear_inorder.sh; fi"
   ]
  },
  {
   "cell_type": "markdown",
   "metadata": {},
   "source": [
    "### Y Pattern using in-order queues\n",
    "\n",
    "In the below example we can see a “Y” pattern using in-order queues. In this example, we declare two arrays, data1 and data2. We then define two kernels that will each initialize one of the arrays. These kernels do not depend on each other, but because the queue is in order, the kernels must execute one after the other. \n",
    "\n",
    "Note that you can swap the order of these two kernels in this example. After the second kernel has executed, the third kernel adds the elements of the second array to those of the first array. The final kernel sums up the elements of the first array\n",
    "to compute the same result we did in our examples for linear dependence chains. \n",
    "\n",
    "This summation kernel depends on the previous kernel, but this linear chain is also captured by the in-order queue. Finally, we wait for all kernels to complete and validate that we successfully computed the final result."
   ]
  },
  {
   "cell_type": "markdown",
   "metadata": {},
   "source": [
    "The SYCL code below demonstrates creating Linear dependence In-Order Queues: Inspect code, there are no modifications necessary:\n",
    "1. Inspect the code cell below and click run ▶ to save the code to file\n",
    "2. Next run ▶ the cell in the __Build and Run__ section below the code to compile and execute the code."
   ]
  },
  {
   "cell_type": "code",
   "execution_count": null,
   "metadata": {},
   "outputs": [],
   "source": [
    "%%writefile lab/y_pattern_inorder_queues.cpp\n",
    "//==============================================================\n",
    "// Copyright © Intel Corporation\n",
    "//\n",
    "// SPDX-License-Identifier: MIT\n",
    "// =============================================================\n",
    "\n",
    "#include <CL/sycl.hpp>\n",
    "using namespace sycl;\n",
    "constexpr int N = 42;\n",
    "\n",
    "int main() {\n",
    "  queue Q{property::queue::in_order()};\n",
    " \n",
    "  int *data1 = malloc_shared<int>(N, Q);\n",
    "  int *data2 = malloc_shared<int>(N, Q);\n",
    "\n",
    "  Q.parallel_for(N, [=](id<1> i) { data1[i] = 1; });\n",
    "\n",
    "  Q.parallel_for(N, [=](id<1> i) { data2[i] = 2; });\n",
    "\n",
    "  Q.parallel_for(N, [=](id<1> i) { data1[i] += data2[i]; });\n",
    "\n",
    "  Q.single_task([=]() {\n",
    "      for (int i = 1; i < N; i++)\n",
    "        data1[0] += data1[i];\n",
    "\n",
    "      data1[0] /= 3;\n",
    "    });\n",
    "  Q.wait();\n",
    "\n",
    "  assert(data1[0] == N);\n",
    "  return 0;\n",
    "}"
   ]
  },
  {
   "cell_type": "markdown",
   "metadata": {},
   "source": [
    "### Build and Run\n",
    "Select the cell below and click run ▶ to compile and execute the code:"
   ]
  },
  {
   "cell_type": "code",
   "execution_count": null,
   "metadata": {},
   "outputs": [],
   "source": [
    "! chmod 755 q; chmod 755 run_y_inorder.sh;if [ -x \"$(command -v qsub)\" ]; then ./q run_y_inorder.sh; else ./run_y_inorder.sh; fi"
   ]
  },
  {
   "cell_type": "markdown",
   "metadata": {},
   "source": [
    "## Event-based dependencies\n",
    "\n",
    "Event-based dependences are another way to specify what must be complete before a command group may execute. These event-based\n",
    "dependences may be specified in two ways. The first way is used when a command group is specified as a lambda passed to a queue’s submit method. In this case, the programmer invokes the depends_on method of the command group handler object, passing either an event or vector of events as parameter. \n",
    "\n",
    "The other way is used when a command group is created from the shortcut methods defined on the queue object. When the\n",
    "programmer directly invokes parallel_for or single_task on a queue, an event or vector of events may be passed as an extra parameter."
   ]
  },
  {
   "cell_type": "markdown",
   "metadata": {},
   "source": [
    "### Linear dependence chain using events\n",
    "In the below example we can see usage of  an out-of-order queue and event-based dependences. Here, we capture the event returned by the first call to parallel_for. The second kernel is then able to specify a dependence on that event and the kernel execution it represents by passing it as a parameter to depends_on."
   ]
  },
  {
   "cell_type": "markdown",
   "metadata": {},
   "source": [
    "\n",
    "The SYCL code below demonstrates creating In-Order Queues: Inspect code, there are no modifications necessary:\n",
    "\n",
    "1. Inspect the code cell below and click run ▶ to save the code to file\n",
    "2. Next run ▶ the cell in the __Build and Run__ section below the code to compile and execute the code."
   ]
  },
  {
   "cell_type": "code",
   "execution_count": null,
   "metadata": {},
   "outputs": [],
   "source": [
    "%%writefile lab/linear_event_graphs.cpp\n",
    "//==============================================================\n",
    "// Copyright © Intel Corporation\n",
    "//\n",
    "// SPDX-License-Identifier: MIT\n",
    "// =============================================================\n",
    "\n",
    "#include <CL/sycl.hpp>\n",
    "using namespace sycl;\n",
    "constexpr int N = 42;\n",
    "\n",
    "int main() {\n",
    "  queue Q;\n",
    "\n",
    "  int *data = malloc_shared<int>(N, Q);\n",
    "\n",
    "  auto e = Q.parallel_for(N, [=](id<1> i) { data[i] = 1; });\n",
    "\n",
    "  Q.submit([&](handler &h) {\n",
    "      h.depends_on(e);\n",
    "      h.single_task([=]() {\n",
    "          for (int i = 1; i < N; i++)\n",
    "            data[0] += data[i];\n",
    "        });\n",
    "    });\n",
    "  Q.wait();\n",
    "\n",
    "  assert(data[0] == N);\n",
    "  return 0;\n",
    "}"
   ]
  },
  {
   "cell_type": "markdown",
   "metadata": {},
   "source": [
    "### Build and Run\n",
    "Select the cell below and click run ▶ to compile and execute the code:"
   ]
  },
  {
   "cell_type": "code",
   "execution_count": null,
   "metadata": {},
   "outputs": [],
   "source": [
    "! chmod 755 q; chmod 755 run_linear_events.sh;if [ -x \"$(command -v qsub)\" ]; then ./q run_linear_events.sh; else ./run_linear_events.sh; fi"
   ]
  },
  {
   "cell_type": "markdown",
   "metadata": {},
   "source": [
    "### Y Pattern using events\n",
    "\n",
    "Below is a  “Y” pattern example with out-of-order queues instead of in-order queues. Since the dependences are no longer implicit\n",
    "due to the order of the queue, we must explicitly specify the dependences between command groups using events. \n",
    "\n",
    "We define two independent kernels that have no initial dependences. We represent these kernels by two events, e1 and e2. When we define our third kernel, we must specify that it depends on the first two kernels. We do this by saying that it depends on events e1 and e2 to complete before it may execute. \n",
    "\n",
    "However, in this example, we use a shortcut form to specify these dependences instead of the handler’s depends_on method. Here, we\n",
    "pass the events as an extra parameter to parallel_for. Since we want to\n",
    "pass multiple events at once, we use the form that accepts a std::vector of events, as modern C++ simplifies this by automatically\n",
    "converting the expression {e1, e2} into the appropriate vector.\n"
   ]
  },
  {
   "cell_type": "markdown",
   "metadata": {},
   "source": [
    "The SYCL code below demonstrates creating dependence for Out-of-Order Queues: Inspect code, there are no modifications necessary:\n",
    "1. Inspect the code cell below and click run ▶ to save the code to file\n",
    "2. Next run ▶ the cell in the __Build and Run__ section below the code to compile and execute the code."
   ]
  },
  {
   "cell_type": "code",
   "execution_count": null,
   "metadata": {},
   "outputs": [],
   "source": [
    "%%writefile lab/y_pattern_events.cpp\n",
    "//==============================================================\n",
    "// Copyright © Intel Corporation\n",
    "//\n",
    "// SPDX-License-Identifier: MIT\n",
    "// =============================================================\n",
    "\n",
    "#include <CL/sycl.hpp>\n",
    "using namespace sycl;\n",
    "constexpr int N = 42;\n",
    "\n",
    "int main() {\n",
    "  queue Q;\n",
    " \n",
    "  int *data1 = malloc_shared<int>(N, Q);\n",
    "  int *data2 = malloc_shared<int>(N, Q);\n",
    "\n",
    "  auto e1 = Q.parallel_for(N, [=](id<1> i) { data1[i] = 1; });\n",
    "\n",
    "  auto e2 = Q.parallel_for(N, [=](id<1> i) { data2[i] = 2; });\n",
    "\n",
    "  auto e3 = Q.parallel_for(range{N}, {e1, e2},\n",
    "                           [=](id<1> i) { data1[i] += data2[i]; });\n",
    "\n",
    "  Q.single_task(e3, [=]() {\n",
    "      for (int i = 1; i < N; i++)\n",
    "        data1[0] += data1[i];\n",
    "\n",
    "      data1[0] /= 3;\n",
    "    });\n",
    "  Q.wait();\n",
    "\n",
    "  assert(data1[0] == N);\n",
    "  return 0;\n",
    "}"
   ]
  },
  {
   "cell_type": "markdown",
   "metadata": {},
   "source": [
    "### Build and Run\n",
    "Select the cell below and click run ▶ to compile and execute the code:"
   ]
  },
  {
   "cell_type": "code",
   "execution_count": null,
   "metadata": {},
   "outputs": [],
   "source": [
    "! chmod 755 q; chmod 755 run_y_events.sh;if [ -x \"$(command -v qsub)\" ]; then ./q run_y_events.sh; else ./run_y_events.sh; fi"
   ]
  },
  {
   "cell_type": "markdown",
   "metadata": {},
   "source": [
    "### Linear dependence chain using Buffers and Accessors\n",
    "In the below example we show how to write linear dependence chain using buffers and accessors instead of USM pointers. Here we use an outof-order queue but use data dependences specified through accessors instead of event-based dependences to order the execution of the command groups.\n",
    "\n",
    "The second kernel reads the data produced by the first kernel, and the runtime can see this because we declare accessors based\n",
    "on the same underlying buffer object. Unlike the previous examples, we do not wait for the queue to finish executing all its tasks. Instead, we declare a host accessor that defines a data dependence between the output of the second kernel and our assertion that we computed the correct answer on the host."
   ]
  },
  {
   "cell_type": "markdown",
   "metadata": {},
   "source": [
    "The SYCL code below demonstrates creating Linear Dependence chain using Buffers and Accessors: Inspect code, there are no modifications necessary:\n",
    "1. Inspect the code cell below and click run ▶ to save the code to file\n",
    "2. Next run ▶ the cell in the __Build and Run__ section below the code to compile and execute the code."
   ]
  },
  {
   "cell_type": "code",
   "execution_count": null,
   "metadata": {},
   "outputs": [],
   "source": [
    "%%writefile lab/linear_buffers_graphs.cpp\n",
    "//==============================================================\n",
    "// Copyright © Intel Corporation\n",
    "//\n",
    "// SPDX-License-Identifier: MIT\n",
    "// =============================================================\n",
    "\n",
    "#include <CL/sycl.hpp>\n",
    "using namespace sycl;\n",
    "constexpr int N = 42;\n",
    "\n",
    "int main() {\n",
    "  queue Q;\n",
    "\n",
    "  buffer<int> data{range{N}};\n",
    "\n",
    "  Q.submit([&](handler &h) {\n",
    "      accessor a{data, h};\n",
    "      h.parallel_for(N, [=](id<1> i) { a[i] = 1; });\n",
    "    });\n",
    "\n",
    "  Q.submit([&](handler &h) {\n",
    "      accessor a{data, h};\n",
    "      h.single_task([=]() {\n",
    "          for (int i = 1; i < N; i++)\n",
    "            a[0] += a[i];\n",
    "        });\n",
    "    });\n",
    "\n",
    "  host_accessor h_a{data};\n",
    "  assert(h_a[0] == N);\n",
    "  return 0;\n",
    "}"
   ]
  },
  {
   "cell_type": "markdown",
   "metadata": {},
   "source": [
    "### Build and Run\n",
    "Select the cell below and click run ▶ to compile and execute the code:"
   ]
  },
  {
   "cell_type": "code",
   "execution_count": null,
   "metadata": {},
   "outputs": [],
   "source": [
    "! chmod 755 q; chmod 755 run_linear_buffer.sh;if [ -x \"$(command -v qsub)\" ]; then ./q run_linear_buffer.sh; else ./run_linear_buffer.sh; fi"
   ]
  },
  {
   "cell_type": "markdown",
   "metadata": {},
   "source": [
    "### Y Pattern using Buffers and Accessors\n",
    "\n",
    "Below is a  “Y” pattern example with buffers and Accessors. We replace USM pointers and events with buffers and accessors. This example represents the two arrays data1 and data2 as buffer objects. Our kernels no longer use the shortcut methods for defining kernels since we must associate accessors with a command group handler. \n",
    "\n",
    "The third kernel must capture the dependence on the first two kernels. Here this is accomplished by declaring accessors for our buffers. Since we have previously declared accessors for these buffers, the runtime is able to properly order the execution of these kernels. \n",
    "\n",
    "As we saw in our buffer and accessor example for linear dependence chains, our final kernel orders itself by updating the values produced in the third kernel. We retrieve the final value of our computation by declaring a host accessor that will wait for the final kernel to finish executing before moving the data back to the host where we can read it and assert we computed the correct result.\n",
    "\n"
   ]
  },
  {
   "cell_type": "markdown",
   "metadata": {},
   "source": [
    "The SYCL code below demonstrates creating dependence for Out-of-Order Queues: Inspect code, there are no modifications necessary:\n",
    "1. Inspect the code cell below and click run ▶ to save the code to file\n",
    "2. Next run ▶ the cell in the __Build and Run__ section below the code to compile and execute the code."
   ]
  },
  {
   "cell_type": "code",
   "execution_count": null,
   "metadata": {},
   "outputs": [],
   "source": [
    "%%writefile lab/y_pattern_buffers.cpp\n",
    "//==============================================================\n",
    "// Copyright © Intel Corporation\n",
    "//\n",
    "// SPDX-License-Identifier: MIT\n",
    "// =============================================================\n",
    "\n",
    "#include <CL/sycl.hpp>\n",
    "using namespace sycl;\n",
    "constexpr int N = 42;\n",
    "\n",
    "int main() {\n",
    "  queue Q;\n",
    " \n",
    "  buffer<int> data1{range{N}};\n",
    "  buffer<int> data2{range{N}};\n",
    "\n",
    "  Q.submit([&](handler &h) {\n",
    "      accessor a{data1, h};\n",
    "      h.parallel_for(N, [=](id<1> i) { a[i] = 1; });\n",
    "    });\n",
    "\n",
    "  Q.submit([&](handler &h) {\n",
    "      accessor b{data2, h};\n",
    "      h.parallel_for(N, [=](id<1> i) { b[i] = 2; });\n",
    "    });\n",
    "\n",
    "  Q.submit([&](handler &h) {\n",
    "      accessor a{data1, h};\n",
    "      accessor b{data2, h, read_only};\n",
    "      h.parallel_for(N, [=](id<1> i) { a[i] += b[i]; });\n",
    "    });\n",
    "\n",
    "  Q.submit([&](handler &h) {\n",
    "      accessor a{data1, h};\n",
    "      h.single_task([=]() {\n",
    "          for (int i = 1; i < N; i++)\n",
    "            a[0] += a[i];\n",
    "\n",
    "          a[0] /= 3;\n",
    "        });\n",
    "    });\n",
    "\n",
    "  host_accessor h_a{data1};\n",
    "  assert(h_a[0] == N);\n",
    "  return 0;\n",
    "}"
   ]
  },
  {
   "cell_type": "markdown",
   "metadata": {},
   "source": [
    "### Build and Run\n",
    "Select the cell below and click run ▶ to compile and execute the code:"
   ]
  },
  {
   "cell_type": "code",
   "execution_count": null,
   "metadata": {
    "tags": []
   },
   "outputs": [],
   "source": [
    "! chmod 755 q; chmod 755 run_y_buffer.sh;if [ -x \"$(command -v qsub)\" ]; then ./q run_y_buffer.sh; else ./run_y_buffer.sh; fi"
   ]
  },
  {
   "cell_type": "markdown",
   "metadata": {
    "tags": []
   },
   "source": [
    "## Lab Exercise: Task Scheduling Data Dependency"
   ]
  },
  {
   "cell_type": "markdown",
   "metadata": {},
   "source": [
    "Complete the coding exercise below using SYCL Buffer and Accessor Dependency concepts:\n",
    "- The code has three vectors `data1`, `data2` and `data3` initialized on host\n",
    "- Create sycl buffers for `data1`, `data2` and `data3`\n",
    "- Write kernel to update `data1` by adding `data1` + `data3` value.\n",
    "- Write kernel to update `data2` by multiplying by 2.\n",
    "- Write kernel to update `data3` = `data1` + `data2` + `data3`\n",
    "- Set the accessor properties to `read_only` or `write_only` or default(`read_write`), so the task dependencies are setup correctly\n",
    "- Copy `data3` back to host and verify result = 8\n",
    "\n",
    "1. Edit the code cell below by following the steps and then click run ▶ to save the code to a file.\n",
    "2. Next run ▶ the cell in the __Build and Run__ section below the code to compile and execute the code."
   ]
  },
  {
   "cell_type": "code",
   "execution_count": null,
   "metadata": {
    "tags": []
   },
   "outputs": [],
   "source": [
    "%%writefile lab/task_scheduling.cpp\n",
    "//==============================================================\n",
    "// Copyright © Intel Corporation\n",
    "//\n",
    "// SPDX-License-Identifier: MIT\n",
    "// =============================================================\n",
    "\n",
    "#include <CL/sycl.hpp>\n",
    "using namespace sycl;\n",
    "constexpr int N = 256;\n",
    "\n",
    "int main() {\n",
    "  queue q;\n",
    " \n",
    "  //# 3 vectors initialized to values\n",
    "  std::vector<int> data1(N, 1);\n",
    "  std::vector<int> data2(N, 2);\n",
    "  std::vector<int> data3(N, 3);\n",
    " \n",
    "  //# STEP 1 : Create buffers for data1, data2 and data3\n",
    "\n",
    "  //# YOUR CODE GOES HERE\n",
    "\n",
    "\n",
    "\n",
    "\n",
    "\n",
    "  //# STEP 2 : Create a kernel to update data1 += data3, set accessor permissions\n",
    "\n",
    "  //# YOUR CODE GOES HERE\n",
    "\n",
    "\n",
    "\n",
    "\n",
    "\n",
    "  //# STEP 3 : Create a kernel to update data2 *= 2, set accessor permissions\n",
    "\n",
    "  //# YOUR CODE GOES HERE\n",
    "\n",
    "\n",
    "\n",
    "\n",
    "\n",
    "  //# STEP 4 : Create a kernel to update data3 = data1 + data2, set accessor permissions\n",
    "\n",
    "  //# YOUR CODE GOES HERE\n",
    "\n",
    "\n",
    "\n",
    "\n",
    "\n",
    "  //# STEP 5 : Create a host accessor to copy back data3\n",
    "\n",
    "  //# YOUR CODE GOES HERE\n",
    "\n",
    "\n",
    "\n",
    "\n",
    "  std::cout << \"Output = \" << data3[0] << \"\\n\";\n",
    "  return 0;\n",
    "}"
   ]
  },
  {
   "cell_type": "markdown",
   "metadata": {},
   "source": [
    "#### Build and Run\n",
    "Select the cell below and click run ▶ to compile and execute the code:"
   ]
  },
  {
   "cell_type": "code",
   "execution_count": null,
   "metadata": {},
   "outputs": [],
   "source": [
    "! chmod 755 run_task_scheduling.sh; if [ -x \"$(command -v qsub)\" ]; then ./q run_task_scheduling.sh; else ./run_task_scheduling.sh; fi"
   ]
  },
  {
   "cell_type": "markdown",
   "metadata": {},
   "source": [
    "\n",
    "# Summary\n",
    "In this module you learned:\n",
    "* How to utilize USM and Buffers and Accessors to apply Memory management and take control over data movement  implicitly and explicitly\n",
    "* How to utilize different types of data dependences that are important for ensuring execution of graph scheduling\n",
    "* Select the correct modes of dependences in Graphs scheduling.\n"
   ]
  }
 ],
 "metadata": {
  "kernelspec": {
   "display_name": "Python 3.7 (Intel® oneAPI)",
   "language": "python",
   "name": "c009-intel_distribution_of_python_3_oneapi-beta05-python"
  },
  "language_info": {
   "codemirror_mode": {
    "name": "ipython",
    "version": 3
   },
   "file_extension": ".py",
   "mimetype": "text/x-python",
   "name": "python",
   "nbconvert_exporter": "python",
   "pygments_lexer": "ipython3",
   "version": "3.9.7"
  },
  "toc": {
   "base_numbering": 1,
   "nav_menu": {},
   "number_sections": true,
   "sideBar": true,
   "skip_h1_title": false,
   "title_cell": "Table of Contents",
   "title_sidebar": "Contents",
   "toc_cell": false,
   "toc_position": {
    "height": "525.6px",
    "left": "28px",
    "top": "137.8px",
    "width": "301.09px"
   },
   "toc_section_display": true,
   "toc_window_display": true
  },
  "widgets": {
   "application/vnd.jupyter.widget-state+json": {
    "state": {},
    "version_major": 2,
    "version_minor": 0
   }
  }
 },
 "nbformat": 4,
 "nbformat_minor": 4
}
