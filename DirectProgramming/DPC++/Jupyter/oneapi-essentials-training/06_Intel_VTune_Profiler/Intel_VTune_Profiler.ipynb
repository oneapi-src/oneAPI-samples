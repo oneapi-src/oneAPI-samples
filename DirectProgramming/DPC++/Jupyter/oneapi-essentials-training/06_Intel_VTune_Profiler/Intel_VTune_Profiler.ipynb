{
 "cells": [
  {
   "cell_type": "markdown",
   "metadata": {},
   "source": [
    "# VTune™ Profiling on Intel® DevCloud"
   ]
  },
  {
   "cell_type": "markdown",
   "metadata": {},
   "source": [
    "##### Sections\n",
    "- [What is VTune™ Profiler?](#What-is-VTune™-Profiler?)\n",
    "- [VTune™ Command-line Options](#VTune™-Command-line-Options)\n",
    "- _Lab Exercise:_ [VTune™ gpu_hotspots profiling with iso3dfd sample](#Lab-Exercise:-VTune™-Profiling)"
   ]
  },
  {
   "cell_type": "markdown",
   "metadata": {},
   "source": [
    "## Learning Objectives"
   ]
  },
  {
   "cell_type": "markdown",
   "metadata": {},
   "source": [
    "- Profile a DPC++ application using the VTune™ profiling tool on Intel® DevCloud\n",
    "- Understand the basics of VTune™ command line options for collecting data and generating reports"
   ]
  },
  {
   "cell_type": "markdown",
   "metadata": {},
   "source": [
    "## What is VTune™ Profiler?"
   ]
  },
  {
   "cell_type": "markdown",
   "metadata": {},
   "source": [
    "VTune™ allows DPC++ Profiling capabilities so you can tune for CPU, GPU, and FPGA.\n",
    "\n",
    "![VTune UI](vtuneui.png)\n",
    "\n",
    "__Analyze Data Parallell C++__ :\n",
    "See the lines of DPC++ that consume the most time\n",
    "\n",
    "__Tune for CPU, GPU & FPGA__ :\n",
    "Optimize for any supported hardware accelerator\n",
    "\n",
    "__Optimize Offload__ :\n",
    "Tune OpenMP offload performance\n",
    "\n",
    "__Wide Range of Performance Profiles__ :\n",
    "CPU, GPU, FPGA, threading, memory, cache, storage…\n",
    "\n",
    "__Most Popular Languages__ :\n",
    "DPC++, C, C++, Fortran*, Python*, Go*, Java*, or a mix\n"
   ]
  },
  {
   "cell_type": "markdown",
   "metadata": {},
   "source": [
    "## VTune™ Command-line Options"
   ]
  },
  {
   "cell_type": "markdown",
   "metadata": {},
   "source": [
    "### Run and collect VTune™ data\n",
    "```vtune -collect gpu_hotspots -result-dir vtune_data a.out```\n",
    "\n",
    "Various types of profiling data can be collected like `hotspots`, `memory-consumption`, `memory-access`, `threading`…\n",
    "\n",
    "Use the command line help to find out more:\n",
    "\n",
    "```vtune --help -collect```\n",
    "\n",
    "### Generate html report for collected VTune™ data:\n",
    "```vtune -report summary -result-dir vtune_data -format html -report-output $(pwd)/summary.html```\n",
    "\n",
    "Various types of report can be generated like `summary`, `top-down`, `callstacks`…\n",
    "\n",
    "Use the command line help to find out more:\n",
    "\n",
    "```vtune --help -report```\n"
   ]
  },
  {
   "cell_type": "markdown",
   "metadata": {},
   "source": [
    "## When to use VTune™ Command line"
   ]
  },
  {
   "cell_type": "markdown",
   "metadata": {},
   "source": [
    "VTune™ Command-line is useful when on __Intel® DevCloud__ or you only have __SSH__ access to development system.\n",
    "\n",
    "However, it is recommended to install the __full VTune™ version__ on a local system and use the __UI rich experience__ of VTune Profiling Tool.\n",
    "\n",
    "![VTune UI](vtuneui.png)\n"
   ]
  },
  {
   "cell_type": "markdown",
   "metadata": {},
   "source": [
    "## Lab Exercise: VTune™ Profiling\n",
    "- Build, run, collect VTune™ data and display VTune summary when running on gpu and cpu."
   ]
  },
  {
   "cell_type": "markdown",
   "metadata": {},
   "source": [
    "### Test Application: DPC++ implementation of iso3dfd"
   ]
  },
  {
   "cell_type": "markdown",
   "metadata": {},
   "source": [
    "DPC++ implementation of iso3dfd will be used to collect VTune™ data and analyze the generated result. Below are source code to iso3dfd application:\n",
    "- [iso3dfd.cpp](src/iso3dfd.cpp)\n",
    "- [iso3dfd_kernels.cpp](src/iso3dfd_kernels.cpp)\n"
   ]
  },
  {
   "cell_type": "markdown",
   "metadata": {},
   "source": [
    "### Build and Run"
   ]
  },
  {
   "cell_type": "code",
   "execution_count": null,
   "metadata": {},
   "outputs": [],
   "source": [
    "%%writefile run_iso3dfd.sh\n",
    "#!/bin/bash\n",
    "source /opt/intel/inteloneapi/setvars.sh > /dev/null 2>&1\n",
    "\n",
    "dpcpp src/iso3dfd.cpp src/utils.cpp src/iso3dfd_kernels.cpp -o iso3dfd\n",
    "\n",
    "./iso3dfd 256 256 256 8 8 8 20 sycl gpu\n",
    "\n",
    "\n"
   ]
  },
  {
   "cell_type": "markdown",
   "metadata": {},
   "source": [
    "**STEP 1:** Build and Run the iso3dfd app by running ▶ the command below:"
   ]
  },
  {
   "cell_type": "code",
   "execution_count": null,
   "metadata": {},
   "outputs": [],
   "source": [
    "! chmod 755 q; chmod 755 run_iso3dfd.sh; if [ -x \"$(command -v qsub)\" ]; then ./q run_iso3dfd.sh; else ./run_iso3dfd.sh; fi"
   ]
  },
  {
   "cell_type": "markdown",
   "metadata": {},
   "source": [
    "_If the Jupyter cells are not responsive or if they error out when you compile the code samples, please restart the Jupyter Kernel: \n",
    "\"Kernel->Restart Kernel and Clear All Outputs\" and compile the code samples again_."
   ]
  },
  {
   "cell_type": "markdown",
   "metadata": {},
   "source": [
    "## Analyze performance with VTune™"
   ]
  },
  {
   "cell_type": "markdown",
   "metadata": {},
   "source": [
    "Use VTune™ command line to analyze performace on GPU vs CPU and display the summary"
   ]
  },
  {
   "cell_type": "markdown",
   "metadata": {},
   "source": [
    "### VTune™ Command Line for collecting and reporting"
   ]
  },
  {
   "cell_type": "code",
   "execution_count": null,
   "metadata": {},
   "outputs": [],
   "source": [
    "%%writefile vtune_collect.sh\n",
    "#!/bin/bash\n",
    "source /opt/intel/inteloneapi/setvars.sh\n",
    "/bin/echo \"##\" $(whoami) is compiling DPCPP_Essentials Module6 -- Intel Vtune profiler - 1 of 1 Vtune_Profiler\n",
    "#vtune\n",
    "#type=hotspots\n",
    "#type=memory-consumption\n",
    "#type=uarch-exploration\n",
    "#type=memory-access\n",
    "#type=threading\n",
    "#type=hpc-performance\n",
    "#type=system-overview\n",
    "#type=graphics-rendering\n",
    "#type=io\n",
    "#type=fpga-interaction\n",
    "#type=gpu-offload\n",
    "type=gpu-hotspots\n",
    "#type=throttling\n",
    "#type=platform-profiler\n",
    "#type=cpugpu-concurrency\n",
    "#type=tsx-exploration\n",
    "#type=tsx-hotspots\n",
    "#type=sgx-hotspots\n",
    "\n",
    "rm -r vtune_data\n",
    "\n",
    "echo \"Vtune Collect $type\"\n",
    "vtune -collect $type -result-dir vtune_data $(pwd)/iso3dfd 256 256 256 8 8 8 20 sycl gpu\n",
    "\n",
    "echo \"Vtune Summary Report\"\n",
    "vtune -report summary -result-dir vtune_data -format html -report-output $(pwd)/summary.html\n",
    "\n"
   ]
  },
  {
   "cell_type": "markdown",
   "metadata": {},
   "source": [
    "### Run VTune™ to Collect Hotspots and Generate Report"
   ]
  },
  {
   "cell_type": "markdown",
   "metadata": {},
   "source": [
    "**STEP 2:** Collect VTune™ data and generate report by running ▶ the command below:"
   ]
  },
  {
   "cell_type": "code",
   "execution_count": null,
   "metadata": {},
   "outputs": [],
   "source": [
    "! chmod 755 vtune_collect.sh; if [ -x \"$(command -v qsub)\" ]; then ./q vtune_collect.sh; else ./vtune_collect.sh; fi"
   ]
  },
  {
   "cell_type": "markdown",
   "metadata": {},
   "source": [
    "_If the Jupyter cells are not responsive or if they error out when you compile the code samples, please restart the Jupyter Kernel: \n",
    "\"Kernel->Restart Kernel and Clear All Outputs\" and compile the code samples again_."
   ]
  },
  {
   "cell_type": "markdown",
   "metadata": {},
   "source": [
    "## Display VTune™ Summary"
   ]
  },
  {
   "cell_type": "markdown",
   "metadata": {},
   "source": [
    "Display VTune™ summary report generated in html format"
   ]
  },
  {
   "cell_type": "markdown",
   "metadata": {},
   "source": [
    "### Display VTune™ Report for GPU"
   ]
  },
  {
   "cell_type": "markdown",
   "metadata": {},
   "source": [
    "**STEP 3:** Display VTune™ summary report by running ▶ the command below "
   ]
  },
  {
   "cell_type": "code",
   "execution_count": null,
   "metadata": {},
   "outputs": [],
   "source": [
    "from IPython.display import IFrame\n",
    "IFrame(src='summary.html', width=960, height=600)"
   ]
  },
  {
   "cell_type": "markdown",
   "metadata": {},
   "source": [
    "## Summary"
   ]
  },
  {
   "cell_type": "markdown",
   "metadata": {},
   "source": [
    "VTune™ command line is useful for quick analysis of DPC++ application to get performance metric and tune applications."
   ]
  },
  {
   "cell_type": "markdown",
   "metadata": {},
   "source": [
    "<html><body><span style=\"color:green\"><h1>Survey</h1></span></body></html>\n",
    "\n",
    "[We would appreciate any feedback you’d care to give, so that we can improve the overall training quality and experience. Thanks! ](https://intel.az1.qualtrics.com/jfe/form/SV_5jyMumvDk1YKDeR)"
   ]
  }
 ],
 "metadata": {
  "kernelspec": {
   "display_name": "Python 3.7 (Intel® oneAPI)",
   "language": "python",
   "name": "c009-intel_distribution_of_python_3_oneapi-beta05-python"
  },
  "language_info": {
   "codemirror_mode": {
    "name": "ipython",
    "version": 3
   },
   "file_extension": ".py",
   "mimetype": "text/x-python",
   "name": "python",
   "nbconvert_exporter": "python",
   "pygments_lexer": "ipython3",
   "version": "3.7.7"
  },
  "toc": {
   "base_numbering": 1,
   "nav_menu": {},
   "number_sections": true,
   "sideBar": true,
   "skip_h1_title": false,
   "title_cell": "Table of Contents",
   "title_sidebar": "Contents",
   "toc_cell": false,
   "toc_position": {
    "height": "calc(100% - 180px)",
    "left": "10px",
    "top": "150px",
    "width": "310.667px"
   },
   "toc_section_display": true,
   "toc_window_display": true
  }
 },
 "nbformat": 4,
 "nbformat_minor": 4
}
