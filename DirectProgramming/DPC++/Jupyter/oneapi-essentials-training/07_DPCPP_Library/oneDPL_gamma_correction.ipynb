{
 "cells": [
  {
   "cell_type": "markdown",
   "metadata": {},
   "source": [
    "# oneDPL- Gamma Correction example\n",
    "\n",
    "\n",
    "\n"
   ]
  },
  {
   "cell_type": "markdown",
   "metadata": {},
   "source": [
    "#### Sections\n",
    "- [Gamma Correction](#Gamma-Correction)\n",
    "- [Why use buffer iterators?](#Why-use-buffer-iterators?)\n",
    "- _Lab Exercise:_ [Gamma Correction](#Lab-Exercise:-Gamma-Correction)\n",
    "- [Image outputs](#Image-outputs)"
   ]
  },
  {
   "cell_type": "markdown",
   "metadata": {},
   "source": [
    "## Learning Objectives\n",
    "\n",
    "* Build a sample __DPC++ application__ to perform Image processing (gamma correction) using oneDPL."
   ]
  },
  {
   "cell_type": "markdown",
   "metadata": {},
   "source": [
    "## Gamma Correction\n",
    "\n",
    "Gamma correction is an image processing algorithm where we enhance the image brightness and contrast levels to have a better view of the image.\n",
    "\n",
    "Below example creates a bitmap image, and applies the gamma to the image using the DPC++ library offloading to a device. Once we run the program we can view the original image and the gamma corrected image in the corresponding cells below  \n",
    "\n",
    "In the below program we write a data parallel algorithm using the DPC++ library to leverage the computational power in __heterogenous computers__. The DPC++ platform model includes a host computer and a device. The host offloads computation to the device, which could be a __GPU, FPGA, or a multi-core CPU__.\n",
    "\n",
    " We create a buffer, being responsible for moving data around and counting dependencies. DPC++ Library provides `oneapi::dpl::begin()` and `oneapi::dpl::end()` interfaces for getting buffer iterators and we implemented as below.\n",
    " \n",
    " \n",
    " \n",
    "### Why use buffer iterators?\n",
    "\n",
    "Using buffer iterators will ensure that memory is not copied back and forth in between each algorithm execution on device. The code example below shows how the same example above is implemented using buffer iterators which make sure the memory stays on device until the buffer is destructed.\n",
    " \n",
    "Pass the policy object to the `std::for_each` Parallel STL algorithm, which is defined in the oneapi::dpl::execution namespace  and pass the __'begin'__ and __'end'__  buffer iterators as the second and third arguments. \n",
    "\n",
    "The `oneapi::dpl::execution::dpcpp_default` object is a predefined object of the device_policy class, created with a default kernel name and a default queue. Use it to create customized policy objects, or to pass directly when invoking an algorithm.\n",
    "The Parallel STL API handles the data transfer and compute.\n",
    "\n",
    "### Lab Exercise: Gamma Correction\n",
    "* In this example the student will learn how to use oneDPL library to perform the gamma correction.\n",
    "* Follow the __Steps 1 to 3__ in the below code to create a SYCL buffer, create buffer iterators, and then call the std::for each function with DPC++ support. \n",
    "\n",
    "1. Select the code cell below, __follow the STEPS 1 to 3__ in the code comments, click run ▶ to save the code to file.\n",
    "2. Next run ▶ the cell in the __Build and Run__ section below the code to compile and execute the code."
   ]
  },
  {
   "cell_type": "code",
   "execution_count": 1,
   "metadata": {},
   "outputs": [
    {
     "name": "stdout",
     "output_type": "stream",
     "text": [
      "Overwriting gamma-correction/src/main.cpp\n"
     ]
    }
   ],
   "source": [
    "%%writefile gamma-correction/src/main.cpp\n",
    "//==============================================================\n",
    "// Copyright © 2019 Intel Corporation\n",
    "//\n",
    "// SPDX-License-Identifier: MIT\n",
    "// =============================================================\n",
    "\n",
    "#include <oneapi/dpl/algorithm>\n",
    "#include <oneapi/dpl/execution>\n",
    "#include <oneapi/dpl/iterator>\n",
    "#include <iomanip>\n",
    "#include <iostream>\n",
    "#include <CL/sycl.hpp>\n",
    "\n",
    "#include \"utils.hpp\"\n",
    "\n",
    "using namespace sycl;\n",
    "using namespace std;\n",
    "\n",
    "int main() {\n",
    "  // Image size is width x height\n",
    "  int width = 1440;\n",
    "  int height = 960;\n",
    "\n",
    "  Img<ImgFormat::BMP> image{width, height};\n",
    "  ImgFractal fractal{width, height};\n",
    "\n",
    "  // Lambda to process image with gamma = 2\n",
    "  auto gamma_f = [](ImgPixel &pixel) {\n",
    "    auto v = (0.3f * pixel.r + 0.59f * pixel.g + 0.11f * pixel.b) / 255.0f;\n",
    "\n",
    "    auto gamma_pixel = static_cast<uint8_t>(255 * v * v);\n",
    "    if (gamma_pixel > 255) gamma_pixel = 255;\n",
    "    pixel.set(gamma_pixel, gamma_pixel, gamma_pixel, gamma_pixel);\n",
    "  };\n",
    "\n",
    "  // fill image with created fractal\n",
    "  int index = 0;\n",
    "  image.fill([&index, width, &fractal](ImgPixel &pixel) {\n",
    "    int x = index % width;\n",
    "    int y = index / width;\n",
    "\n",
    "    auto fractal_pixel = fractal(x, y);\n",
    "    if (fractal_pixel < 0) fractal_pixel = 0;\n",
    "    if (fractal_pixel > 255) fractal_pixel = 255;\n",
    "    pixel.set(fractal_pixel, fractal_pixel, fractal_pixel, fractal_pixel);\n",
    "\n",
    "    ++index;\n",
    "  });\n",
    "\n",
    "  string original_image = \"fractal_original.png\";\n",
    "  string processed_image = \"fractal_gamma.png\";\n",
    "  Img<ImgFormat::BMP> image2 = image;\n",
    "  image.write(original_image);\n",
    "\n",
    "  // call standard serial function for correctness check\n",
    "  image.fill(gamma_f);\n",
    "\n",
    "  // use default policy for algorithms execution\n",
    "  auto policy = oneapi::dpl::execution::dpcpp_default;\n",
    "  // We need to have the scope to have data in image2 after buffer's destruction\n",
    "  {\n",
    "    // ****Step 1: Uncomment the below line to create a buffer, being responsible for moving data around and counting dependencies    \n",
    "    //buffer<ImgPixel> b(image2.data(), image2.width() * image2.height());\n",
    "\n",
    "    // create iterator to pass buffer to the algorithm\n",
    "    // **********Step 2: Uncomment the below lines to create buffer iterators. These are passed to the algorithm\n",
    "    //auto b_begin = oneapi::dpl::begin(b);\n",
    "    //auto b_end = oneapi::dpl::end(b);\n",
    "\n",
    "    //*****Step 3: Uncomment the below line to call std::for_each with DPC++ support    \n",
    "    //std::for_each(policy, b_begin, b_end, gamma_f);\n",
    "  }\n",
    "\n",
    "  image2.write(processed_image);\n",
    "  // check correctness\n",
    "  if (check(image.begin(), image.end(), image2.begin())) {\n",
    "    cout << \"success\\n\";\n",
    "  } else {\n",
    "    cout << \"fail\\n\";\n",
    "    return 1;\n",
    "  }\n",
    "  cout << \"Run on \"\n",
    "       << policy.queue().get_device().template get_info<info::device::name>()\n",
    "       << \"\\n\";\n",
    "  cout << \"Original image is in \" << original_image << \"\\n\";\n",
    "  cout << \"Image after applying gamma correction on the device is in \"\n",
    "       << processed_image << \"\\n\";\n",
    "\n",
    "  return 0;\n",
    "}"
   ]
  },
  {
   "cell_type": "markdown",
   "metadata": {},
   "source": [
    "#### Build and Run\n",
    "Select the cell below and click run ▶ to compile and execute the code:"
   ]
  },
  {
   "cell_type": "code",
   "execution_count": null,
   "metadata": {},
   "outputs": [],
   "source": [
    "! chmod 755 q; chmod 755 run_gamma_correction.sh; if [ -x \"$(command -v qsub)\" ]; then ./q run_gamma_correction.sh; else ./run_gamma_correction.sh; fi"
   ]
  },
  {
   "cell_type": "markdown",
   "metadata": {},
   "source": [
    "_If the Jupyter cells are not responsive or if they error out when you compile the code samples, please restart the Jupyter Kernel: \n",
    "\"Kernel->Restart Kernel and Clear All Outputs\" and compile the code samples again_"
   ]
  },
  {
   "cell_type": "markdown",
   "metadata": {},
   "source": [
    "### Image outputs\n",
    "once you run the program sucessfuly it creates gamma corrected image and the original image. You can see the difference by running the two cells below and visually compare it.  "
   ]
  },
  {
   "cell_type": "markdown",
   "metadata": {},
   "source": [
    "##### View the gamma corrected Image\n",
    "Select the cell below and click run ▶ to view the generated image using gamma correction:"
   ]
  },
  {
   "cell_type": "code",
   "execution_count": null,
   "metadata": {},
   "outputs": [],
   "source": [
    "from IPython.display import display, Image\n",
    "display(Image(filename='gamma-correction/build/src/fractal_gamma.png'))"
   ]
  },
  {
   "cell_type": "markdown",
   "metadata": {},
   "source": [
    "##### View the original Image\n",
    "Select the cell below and click run ▶ to view the generated image using gamma correction:"
   ]
  },
  {
   "cell_type": "code",
   "execution_count": null,
   "metadata": {},
   "outputs": [],
   "source": [
    "from IPython.display import display, Image\n",
    "display(Image(filename='gamma-correction/build/src/fractal_original.png'))"
   ]
  },
  {
   "cell_type": "markdown",
   "metadata": {},
   "source": [
    "# Summary\n",
    "In this module you will have learned how to apply gamma correction to Images using Data Parallel C++ Library"
   ]
  },
  {
   "cell_type": "markdown",
   "metadata": {},
   "source": [
    "<html><body><span style=\"color:Red\"><h1>Reset Notebook</h1></span></body></html>\n",
    "\n",
    "##### Should you be experiencing any issues with your notebook or just want to start fresh run the below cell.\n",
    "\n"
   ]
  },
  {
   "cell_type": "code",
   "execution_count": null,
   "metadata": {
    "jupyter": {
     "source_hidden": true
    }
   },
   "outputs": [],
   "source": [
    "from IPython.display import display, Markdown, clear_output\n",
    "import ipywidgets as widgets\n",
    "button = widgets.Button(\n",
    "    description='Reset Notebook',\n",
    "    disabled=False,\n",
    "    button_style='', # 'success', 'info', 'warning', 'danger' or ''\n",
    "    tooltip='This will update this notebook, overwriting any changes.',\n",
    "    icon='check' # (FontAwesome names without the `fa-` prefix)\n",
    ")\n",
    "out = widgets.Output()\n",
    "def on_button_clicked(_):\n",
    "      # \"linking function with output\"\n",
    "      with out:\n",
    "          # what happens when we press the button\n",
    "          clear_output()\n",
    "          !rsync -a --size-only /data/oneapi_workshop/oneAPI_Essentials/07_DPCPP_Library/ ~/oneAPI_Essentials/07_DPCPP_Library\n",
    "          print('Notebook reset -- now click reload on browser.')\n",
    "# linking button and function together using a button's method\n",
    "button.on_click(on_button_clicked)\n",
    "# displaying button and its output together\n",
    "widgets.VBox([button,out])"
   ]
  }
 ],
 "metadata": {
  "kernelspec": {
   "display_name": "Python 3.7 (Intel® oneAPI)",
   "language": "python",
   "name": "c009-intel_distribution_of_python_3_oneapi-beta05-python"
  },
  "language_info": {
   "codemirror_mode": {
    "name": "ipython",
    "version": 3
   },
   "file_extension": ".py",
   "mimetype": "text/x-python",
   "name": "python",
   "nbconvert_exporter": "python",
   "pygments_lexer": "ipython3",
   "version": "3.7.7"
  },
  "toc": {
   "base_numbering": 1,
   "nav_menu": {},
   "number_sections": true,
   "sideBar": true,
   "skip_h1_title": false,
   "title_cell": "Table of Contents",
   "title_sidebar": "Contents",
   "toc_cell": false,
   "toc_position": {
    "height": "525.6px",
    "left": "28px",
    "top": "137.8px",
    "width": "301.109px"
   },
   "toc_section_display": true,
   "toc_window_display": true
  },
  "widgets": {
   "application/vnd.jupyter.widget-state+json": {
    "state": {},
    "version_major": 2,
    "version_minor": 0
   }
  }
 },
 "nbformat": 4,
 "nbformat_minor": 4
}
