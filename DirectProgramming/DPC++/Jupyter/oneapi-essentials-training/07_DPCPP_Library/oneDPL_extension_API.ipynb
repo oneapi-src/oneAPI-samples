{
 "cells": [
  {
   "cell_type": "markdown",
   "metadata": {},
   "source": [
    "# oneDPL - Extension APIs"
   ]
  },
  {
   "cell_type": "markdown",
   "metadata": {},
   "source": [
    "## Learning Objectives\n",
    "\n",
    "* Explain oneDPL Extension API Algorithms with examples\n",
    "* Explain oneDPL Extension API Iterators with examples\n",
    "* Explain oneDPL Extension API Utility classes with examples\n",
    "\n",
    "\n",
    "oneDPL consists of an additional set of library classes and functions called the __Extension API__. The Extension API currently includes six algorithms and three functional utility classes and three Iterators.\n",
    "\n",
    "In this notebook we introduce you to the above __Extension APIs__ and how we can use these in DPC++ program to perform some of the parallel STL operations in heterogenous environments."
   ]
  },
  {
   "cell_type": "markdown",
   "metadata": {},
   "source": [
    "## List of oneDPL Extension APIs\n",
    "\n",
    "| Type | function call | Description |\n",
    "|:---|:---|:---|\n",
    "| Algorithm | [__reduce_by_segment__](#reduce_by_segment) | Performs partial reductions on a sequence's values and keys |\n",
    "| Algorithm | [__inclusive_scan_by_segment__](#inclusive_scan_by_segment)  | Performs partial prefix scans on a sequence's values |\n",
    "| Algorithm | [__exclusive_scan_by_segment__](#exclusive_scan_by_segment) | Performs partial prefix scans on a sequence's values. sets the first element to the initial value provided |\n",
    "| Algorithm | [__binary_search__](#Binary-Search) | Performs a binary search of the input sequence for each of the values in the search sequence provided |\n",
    "| Algorithm | [__upper_bound__](#upper_bound) | Performs a binary search of the input sequence for each of the values in the search sequence provided to identify the highest index in the input sequence |\n",
    "| Algorithm | [__lower_bound__](#lower_bound) | Performs a binary search of the input sequence for each of the values in the search sequence provided to identify the lowest index in the input sequence |\n",
    "| Iterators | [__Zip Iterators__](#Zip-Iterators) | Used for iterating over several containers simultaneously in STL algorithms  |\n",
    "| Iterators |  [__Counting Iterators__](#Counting-Iterators) | Iterator for STL algorithms that changes the counter according to arithmetic operations of the iterator type |\n",
    "| Iterators | [__Transform Iterators__](#Transform-Iterators) | Iterator that applies a transformation to a sequence |\n",
    "| Iterators |  [__discard Iterators__](#discard_iterator) | Random access iterator-like type that provides write-only dereference operations that discard values passed |\n",
    "| Iterators | [__Permutation Iterators__](#permutation_iterator) | An iterator whose dereferenced value set is defined by the source iterator provided|\n",
    "| Utility Classes | [__identity__](#Functional-Utility-classes) | A C++11 implementation of the C++20 std::identity function object type |\n",
    "| Utility Classes | [__minimum__](#Minimum) | A function object type where the operator() applies std::less to its arguments, |\n",
    "| Utility Classes | [__maximum__](#Maximum) | A function object type where the operator() applies std::greater to its arguments |\n",
    "\n",
    "\n",
    "\n",
    "- _Code:_ [zip iterators and stable sort example](#zip-iterators-and-stable-sort-example)\n"
   ]
  },
  {
   "cell_type": "markdown",
   "metadata": {},
   "source": [
    "## oneDPL Extension API Algorithms\n",
    "Below section talks about the list of the six Extension API algorithms"
   ]
  },
  {
   "cell_type": "markdown",
   "metadata": {},
   "source": [
    "### reduce_by_segment\n",
    "The reduce_by_segment algorithm performs partial reductions on a sequence's values and keys. Each reduction is computed with a given reduction operation for a contiguous subsequence of values, which are determined by keys being equal according to a predicate. A return value is a pair of iterators holding the end of the output sequences for keys and values.\n",
    "\n",
    "For correct computation, the reduction operation should be associative. If no operation is specified, the default operation for the reduction is std::plus, and the default predicate is std::equal_to. The algorithm requires that the type of the elements used for values be default constructible.\n",
    "\n",
    "__Example__:\n",
    "\n",
    "keys   [0,0,0,1,1,1]\n",
    "\n",
    "values [1,2,3,4,5,6]\n",
    "\n",
    "output_keys   [0,1]\n",
    "\n",
    "output_values [1+2+3=6,4+5+6=15]"
   ]
  },
  {
   "cell_type": "markdown",
   "metadata": {},
   "source": [
    "The code below shows the usage of reduce_by_segment. Inspect code, there are no modifications necessary. \n",
    "1. Inspect the code cell below and click run ▶ to save the code to file\n",
    "2. Next run ▶ the cell in the __Build and Run__ section below the code to compile and execute the code."
   ]
  },
  {
   "cell_type": "code",
   "execution_count": null,
   "metadata": {},
   "outputs": [],
   "source": [
    "%%writefile lab/reduce_segment.cpp\n",
    "\n",
    "//==============================================================\n",
    "// Copyright © 2020 Intel Corporation\n",
    "//\n",
    "// SPDX-License-Identifier: MIT\n",
    "// =============================================================\n",
    "\n",
    "#include <oneapi/dpl/algorithm>\n",
    "#include <oneapi/dpl/execution>\n",
    "#include <oneapi/dpl/iterator>\n",
    "\n",
    "#include <CL/sycl.hpp>\n",
    "\n",
    "using namespace sycl;\n",
    "using namespace oneapi::dpl::execution;\n",
    "\n",
    "int main() {\n",
    "        \n",
    "    const int num_elements = 6;    \n",
    "    auto R = range(num_elements);    \n",
    "    \n",
    "    //Create queue with default selector  \n",
    "    queue q;\n",
    "    std::cout << \"Device : \" << q.get_device().get_info<info::device::name>() << std::endl;\n",
    "\n",
    "    //Initialize the input vector for Keys\n",
    "    std::vector<int> input_keys{ 0,0,0,1,1,1 };\n",
    "    //Initialize the input vector for Values\n",
    "    std::vector<int> input_values{ 1,2,3,4,5,6 };\n",
    "    //Output vectors where we get the results back\n",
    "    std::vector<int> output_keys(num_elements, 0);\n",
    "    std::vector<int> output_values(num_elements, 0);    \n",
    "    \n",
    "    //Create buffers for the above vectors    \n",
    "    buffer buf_in(input_keys);\n",
    "    buffer buf_seq(input_values);    \n",
    "    buffer buf_out_keys(output_keys.data(),R);\n",
    "    buffer buf_out_vals(output_values.data(),R);\n",
    "\n",
    "\n",
    "    // create buffer iterators\n",
    "    auto keys_begin = oneapi::dpl::begin(buf_in);\n",
    "    auto keys_end = oneapi::dpl::end(buf_in);\n",
    "    auto vals_begin = oneapi::dpl::begin(buf_seq);\n",
    "    auto result_key_begin = oneapi::dpl::begin(buf_out_keys);\n",
    "    auto result_vals_begin = oneapi::dpl::begin(buf_out_vals);\n",
    "\n",
    "    // use policy for algorithms execution\n",
    "    auto policy = make_device_policy(q);\n",
    "    //auto pair_iters = make_pair <std::vector::iterator, std::vector::iterator>\n",
    "\n",
    "    //Calling the dpstd reduce by search algorithm. We pass in the policy, the buffer iterators for the input vectors and the output. \n",
    "    // Default comparator is the operator < used here.\n",
    "    // dpstd::reduce_by_segment returns a pair of iterators to the result_key_begin and result_vals_begin respectively\n",
    "    int count_keys,count_vals = 0;    \n",
    "    \n",
    "    auto pair_iters = oneapi::dpl::reduce_by_segment(make_device_policy(q), keys_begin, keys_end, vals_begin, result_key_begin, result_vals_begin);\n",
    "    auto iter_keys = std::get<0>(pair_iters);    \n",
    "    // get the count of the items in the result_keys using std::distance\n",
    "    count_keys = std::distance(result_key_begin,iter_keys);    \n",
    "    //get the second iterator\n",
    "    auto iter_vals = std::get<1>(pair_iters);    \n",
    "    count_vals = std::distance(result_vals_begin,iter_vals);    \n",
    "\n",
    "    // 3.Checking results by creating the host accessors    \n",
    "    host_accessor result_keys(buf_out_keys,read_only);\n",
    "    host_accessor result_vals(buf_out_vals,read_only); \n",
    "    \n",
    "\n",
    "    std::cout<< \"Keys = [ \";    \n",
    "    std::copy(input_keys.begin(),input_keys.end(),std::ostream_iterator<int>(std::cout,\" \"));\n",
    "    std::cout <<\"]\"<< \"\\n\";\n",
    "\n",
    "    std::cout<< \"Values = [ \";     \n",
    "    std::copy(input_values.begin(),input_values.end(),std::ostream_iterator<int>(std::cout,\" \"));\n",
    "    std::cout <<\"]\"<< \"\\n\";\n",
    "\n",
    "    std::cout<< \"Output Keys = [ \";    \n",
    "    std::copy(output_keys.begin(),output_keys.begin() + count_keys,std::ostream_iterator<int>(std::cout,\" \"));\n",
    "    std::cout <<\"]\"<< \"\\n\";\n",
    "    \n",
    "    std::cout<< \"Output Values = [ \";    \n",
    "    std::copy(output_values.begin(),output_values.begin() + count_vals,std::ostream_iterator<int>(std::cout,\" \"));\n",
    "    std::cout <<\"]\"<< \"\\n\";\n",
    "\n",
    "    return 0;\n",
    "}\n"
   ]
  },
  {
   "cell_type": "markdown",
   "metadata": {},
   "source": [
    "#### Build and Run\n",
    "Select the cell below and click run ▶ to compile and execute the code above:"
   ]
  },
  {
   "cell_type": "code",
   "execution_count": null,
   "metadata": {},
   "outputs": [],
   "source": [
    "! chmod 755 q; chmod 755 run_reduce_segment.sh;if [ -x \"$(command -v qsub)\" ]; then ./q run_reduce_segment.sh; else ./run_reduce_segment.sh; fi"
   ]
  },
  {
   "cell_type": "markdown",
   "metadata": {},
   "source": [
    "### inclusive_scan_by_segment\n",
    "The inclusive_scan_by_segment algorithm performs partial prefix scans on a sequence's values. Each scan applies to a contiguous subsequence of values, which are determined by the keys associated with the values being equal. The return value is an iterator targeting the end of the result sequence.\n",
    "\n",
    "For correct computation, the prefix scan operation should be associative. If no operation is specified, the default operation is std::plus, and the default predicate is std::equal_to. The algorithm requires that the type of the elements used for values be default constructible.\n",
    "\n",
    "__Example__:\n",
    "\n",
    "keys   [0,0,0,1,1,1]\n",
    "\n",
    "values [1,2,3,4,5,6]\n",
    "\n",
    "result [1,1+2=3,1+2+3=6,4,4+5=9,4+5+6=15]"
   ]
  },
  {
   "cell_type": "markdown",
   "metadata": {},
   "source": [
    "The code below shows the usage of inclusive_scan_by_segment. Inspect code, there are no modifications necessary. \n",
    "1. Inspect the code cell below and click run ▶ to save the code to file\n",
    "2. Next run ▶ the cell in the __Build and Run__ section below the code to compile and execute the code."
   ]
  },
  {
   "cell_type": "code",
   "execution_count": null,
   "metadata": {},
   "outputs": [],
   "source": [
    "%%writefile lab/inclusive_scan.cpp\n",
    "//==============================================================\n",
    "// Copyright © 2020 Intel Corporation\n",
    "//\n",
    "// SPDX-License-Identifier: MIT\n",
    "// =============================================================\n",
    "\n",
    "#include <oneapi/dpl/algorithm>\n",
    "#include <oneapi/dpl/execution>\n",
    "#include <oneapi/dpl/iterator>\n",
    "#include <iostream>\n",
    "#include <CL/sycl.hpp>\n",
    "\n",
    "using namespace sycl;\n",
    "using namespace oneapi::dpl::execution;\n",
    "\n",
    "int main() {\n",
    "    const int num_elements = 6;    \n",
    "    auto R = range(num_elements);\n",
    "\n",
    "    //Initialize the input vector for Keys\n",
    "    std::vector<int> input_keys{ 0,0,0,1,1,1 };\n",
    "    //Initialize the input vector for Values\n",
    "    std::vector<int> input_values{ 1,2,3,4,5,6 };\n",
    "    //Output vectors where we get the results back\n",
    "    std::vector<int> output_values(num_elements, 0);\n",
    "\n",
    "    //Create buffers for the above vectors   \n",
    "    \n",
    "    buffer buf_in(input_keys);\n",
    "    buffer buf_seq(input_values);    \n",
    "    buffer buf_out(output_values);\n",
    "\n",
    "    // create buffer iterators\n",
    "    auto keys_begin = oneapi::dpl::begin(buf_in);\n",
    "    auto keys_end = oneapi::dpl::end(buf_in);\n",
    "    auto vals_begin = oneapi::dpl::begin(buf_seq);\n",
    "    auto result_begin = oneapi::dpl::begin(buf_out);\n",
    "\n",
    "    // use policy for algorithms execution\n",
    "    auto policy = make_device_policy(queue(default_selector{}));\n",
    "    std::cout << \"Run on \" << policy.queue().get_device().get_info<info::device::name>() << \"\\n\";\n",
    "\n",
    "    auto iter_res = oneapi::dpl::inclusive_scan_by_segment(policy, keys_begin, keys_end, vals_begin, result_begin);\n",
    "    auto count_res = std::distance(result_begin,iter_res);\n",
    "\n",
    "    // 3.Checking results    \n",
    "    host_accessor result_vals(buf_out,read_only);\n",
    "        \n",
    "    std::cout<< \"Keys = [ \";    \n",
    "    std::copy(input_keys.begin(),input_keys.end(),std::ostream_iterator<int>(std::cout,\" \"));\n",
    "    std::cout <<\"]\"<< \"\\n\";\n",
    "\n",
    "    std::cout<< \"Values = [ \";     \n",
    "    std::copy(input_values.begin(),input_values.end(),std::ostream_iterator<int>(std::cout,\" \"));\n",
    "    std::cout <<\"]\"<< \"\\n\";\n",
    "\n",
    "    std::cout<< \"Output Values = [ \";    \n",
    "    std::copy(output_values.begin(),output_values.begin() + count_res,std::ostream_iterator<int>(std::cout,\" \"));\n",
    "    std::cout <<\"]\"<< \"\\n\";\n",
    "\n",
    "    return 0;\n",
    "}\n"
   ]
  },
  {
   "cell_type": "markdown",
   "metadata": {},
   "source": [
    "#### Build and Run\n",
    "Select the cell below and click run ▶ to compile and execute the code above:"
   ]
  },
  {
   "cell_type": "code",
   "execution_count": null,
   "metadata": {},
   "outputs": [],
   "source": [
    "! chmod 755 q; chmod 755 run_in_scan.sh;if [ -x \"$(command -v qsub)\" ]; then ./q run_in_scan.sh; else ./run_in_scan.sh; fi"
   ]
  },
  {
   "cell_type": "markdown",
   "metadata": {},
   "source": [
    "### exclusive_scan_by_segment\n",
    "The exclusive_scan_by_segment algorithm performs partial prefix scans on a sequence's values. Each scan applies to a contiguous subsequence of values that are determined by the keys associated with the values being equal, and sets the first element to the initial value provided. The return value is an iterator targeting the end of the result sequence.\n",
    "\n",
    "For correct computation, the prefix scan operation should be associative. If no operation is specified, the default operation is std::plus, and the default predicate is std::equal_to.\n",
    "\n",
    "__Example__:\n",
    "\n",
    "keys:   [0,0,0,1,1,1]\n",
    "\n",
    "values: [1,2,3,4,5,6]\n",
    "\n",
    "initial value: [0]\n",
    "\n",
    "result: [0,0+1=1,0+1+2=3,0,0+4=4,0+4+5=9]"
   ]
  },
  {
   "cell_type": "markdown",
   "metadata": {},
   "source": [
    "The code below shows the usage of exclusive_scan_by_segment. Inspect code, there are no modifications necessary. \n",
    "1. Inspect the code cell below and click run ▶ to save the code to file\n",
    "2. Next run ▶ the cell in the __Build and Run__ section below the code to compile and execute the code."
   ]
  },
  {
   "cell_type": "code",
   "execution_count": null,
   "metadata": {},
   "outputs": [],
   "source": [
    "%%writefile lab/exclusive_scan.cpp\n",
    "//==============================================================\n",
    "// Copyright © 2020 Intel Corporation\n",
    "//\n",
    "// SPDX-License-Identifier: MIT\n",
    "// =============================================================\n",
    "\n",
    "#include <oneapi/dpl/algorithm>\n",
    "#include <oneapi/dpl/execution>\n",
    "#include <oneapi/dpl/iterator>\n",
    "#include <iostream>\n",
    "#include <CL/sycl.hpp>\n",
    "\n",
    "using namespace sycl;\n",
    "using namespace oneapi::dpl::execution;\n",
    "\n",
    "\n",
    "\n",
    "int main() {\n",
    "    using T = int;\n",
    "    const int num_elements = 6;    \n",
    "    auto R = range(num_elements);     \n",
    "\n",
    "    //Initialize the input vector for Keys\n",
    "    std::vector<int> input_keys{ 0,0,0,1,1,1 };\n",
    "    //Initialize the input vector for Values\n",
    "    std::vector<int> input_values{ 1,2,3,4,5,6 };\n",
    "    //Output vectors where we get the results back\n",
    "    std::vector<int> output_values(num_elements, 0);\n",
    "\n",
    "    //Create buffers for the above vectors    \n",
    "    \n",
    "    buffer buf_in(input_keys);\n",
    "    buffer buf_seq(input_values);\n",
    "    //buffer buf_out(output_values);\n",
    "    buffer buf_out(output_values);\n",
    "\n",
    "    // create buffer iterators\n",
    "    auto keys_begin = oneapi::dpl::begin(buf_in);\n",
    "    auto keys_end = oneapi::dpl::end(buf_in);\n",
    "    auto vals_begin = oneapi::dpl::begin(buf_seq);\n",
    "    auto result_begin = oneapi::dpl::begin(buf_out);\n",
    "\n",
    "    // use policy for algorithms execution\n",
    "    auto policy = make_device_policy(queue(default_selector{}));\n",
    "    std::cout << \"Run on \" << policy.queue().get_device().get_info<info::device::name>() << \"\\n\";\n",
    "\n",
    "    auto iter_res = oneapi::dpl::exclusive_scan_by_segment(policy, keys_begin, keys_end, vals_begin, result_begin,T(0));\n",
    "    auto count_res = std::distance(result_begin,iter_res);    \n",
    "\n",
    "    // 3.Checking results    \n",
    "    host_accessor result_vals(buf_out,read_only);\n",
    "\n",
    "    std::cout<< \"Keys = [ \";    \n",
    "    std::copy(input_keys.begin(),input_keys.end(),std::ostream_iterator<int>(std::cout,\" \"));\n",
    "    std::cout <<\"]\"<< \"\\n\";\n",
    "\n",
    "    std::cout<< \"Values = [ \";     \n",
    "    std::copy(input_values.begin(),input_values.end(),std::ostream_iterator<int>(std::cout,\" \"));\n",
    "    std::cout <<\"]\"<< \"\\n\";\n",
    "\n",
    "    std::cout<< \"Output Values = [ \";    \n",
    "    std::copy(output_values.begin(),output_values.begin() + count_res,std::ostream_iterator<int>(std::cout,\" \"));\n",
    "    std::cout <<\"]\"<< \"\\n\";\n",
    "\n",
    "    return 0;\n",
    "}\n"
   ]
  },
  {
   "cell_type": "markdown",
   "metadata": {},
   "source": [
    "#### Build and Run\n",
    "Select the cell below and click run ▶ to compile and execute the code above:"
   ]
  },
  {
   "cell_type": "code",
   "execution_count": null,
   "metadata": {},
   "outputs": [],
   "source": [
    "! chmod 755 q; chmod 755 run_ex_scan.sh;if [ -x \"$(command -v qsub)\" ]; then ./q run_ex_scan.sh; else ./run_ex_scan.sh; fi"
   ]
  },
  {
   "cell_type": "markdown",
   "metadata": {},
   "source": [
    "### Binary Search\n",
    "\n",
    "The __binary_search__ algorithm performs a binary search of the input sequence for each of the values in the search sequence provided. The result of a search for the i-th element of the search sequence, a boolean value indicating whether the search value was found in the input sequence, is assigned to the ith element of the result sequence.\n",
    "\n",
    "The algorithm returns an iterator that points to one past the last element of the result sequence that was assigned a result. The algorithm assumes the input sequence has been sorted by the comparator provided. If no comparator is provided then a function object that uses operator< to compare the elements will be used.\n",
    "\n",
    "__Example__:\n",
    "\n",
    "input sequence: [0, 2, 2, 2, 3, 3, 3, 3, 6, 6]\n",
    "\n",
    "search sequence: [0, 2, 4, 7, 6]\n",
    "\n",
    "result sequence: [true, true, false, false, true]\n"
   ]
  },
  {
   "cell_type": "markdown",
   "metadata": {},
   "source": [
    "The code below shows the usage of Binary search. Inspect code, there are no modifications necessary. \n",
    "1. Inspect the code cell below and click run ▶ to save the code to file\n",
    "2. Next run ▶ the cell in the __Build and Run__ section below the code to compile and execute the code."
   ]
  },
  {
   "cell_type": "code",
   "execution_count": null,
   "metadata": {},
   "outputs": [],
   "source": [
    "%%writefile lab/binary_search.cpp\n",
    "//==============================================================\n",
    "// Copyright © 2020 Intel Corporation\n",
    "//\n",
    "// SPDX-License-Identifier: MIT\n",
    "// =============================================================\n",
    "\n",
    "#include <oneapi/dpl/algorithm>\n",
    "#include <oneapi/dpl/execution>\n",
    "#include <oneapi/dpl/iterator>\n",
    "#include <iostream>\n",
    "#include <CL/sycl.hpp>\n",
    "\n",
    "using namespace sycl;\n",
    "using namespace oneapi::dpl::execution;\n",
    "\n",
    "int main() {\n",
    "    //const int n = 10;\n",
    "    //const int k = 5;\n",
    "\n",
    "    const int num_elements = 5;    \n",
    "    auto R = range(num_elements);    \n",
    "    \n",
    "    //Create queue with default selector  \n",
    "    queue q;\n",
    "    std::cout << \"Device : \" << q.get_device().get_info<info::device::name>() << std::endl;\n",
    "\n",
    "    //Initialize the input vector for search\n",
    "    std::vector<int> input_seq{0, 2, 2, 2, 3, 3, 3, 3, 6, 6};\n",
    "    //Initialize the input vector for search pattern\n",
    "    std::vector<int> input_pattern{0, 2, 4, 7, 6};\n",
    "    //Output vector where we get the results back\n",
    "    std::vector<int> output_values(num_elements,0); \n",
    " \n",
    "  \n",
    "    //Create buffers for the above vectors    \n",
    "\n",
    "    buffer buf_in(input_seq);\n",
    "    buffer buf_seq(input_pattern);    \n",
    "    buffer buf_out(output_values);\n",
    "\n",
    "    // create buffer iterators\n",
    "    auto keys_begin = oneapi::dpl::begin(buf_in);\n",
    "    auto keys_end = oneapi::dpl::end(buf_in);\n",
    "    auto vals_begin = oneapi::dpl::begin(buf_seq);\n",
    "    auto vals_end = oneapi::dpl::end(buf_seq);\n",
    "    auto result_begin = oneapi::dpl::begin(buf_out);\n",
    "\n",
    "    // use policy for algorithms execution\n",
    "    auto policy = make_device_policy(q);  \n",
    "\n",
    "    //function object to be passed to sort function  \n",
    "\n",
    "    //Calling the dpstd binary search algorithm. We pass in the policy, the buffer iterators for the input vectors and the output. \n",
    "    // Default comparator is the operator < used here. \n",
    "    const auto i =  oneapi::dpl::binary_search(policy,keys_begin,keys_end,vals_begin,vals_end,result_begin);\n",
    "   \n",
    "\n",
    "    // 3.Checking results by creating the host accessors  \n",
    "    host_accessor result_vals(buf_out,read_only);  \n",
    "\n",
    "    std::cout<< \"Input sequence = [\";    \n",
    "    std::copy(input_seq.begin(),input_seq.end(),std::ostream_iterator<int>(std::cout,\" \"));\n",
    "    std::cout <<\"]\"<< \"\\n\";\n",
    "\n",
    "    std::cout<< \"Search sequence = [\";     \n",
    "    std::copy(input_pattern.begin(),input_pattern.end(),std::ostream_iterator<int>(std::cout,\" \"));\n",
    "    std::cout <<\"]\"<< \"\\n\";\n",
    "\n",
    "    std::cout<< \"Search results = [\";    \n",
    "    std::copy(output_values.begin(),output_values.end(),std::ostream_iterator<bool>(std::cout,\" \"));\n",
    "    std::cout <<\"]\"<< \"\\n\";  \n",
    "  \n",
    "  return 0;\n",
    "}"
   ]
  },
  {
   "cell_type": "markdown",
   "metadata": {},
   "source": [
    "#### Build and Run\n",
    "Select the cell below and click run ▶ to compile and execute the code above:"
   ]
  },
  {
   "cell_type": "code",
   "execution_count": null,
   "metadata": {},
   "outputs": [],
   "source": [
    "! chmod 755 q; chmod 755 run_binary_search.sh;if [ -x \"$(command -v qsub)\" ]; then ./q run_binary_search.sh; else ./run_binary_search.sh; fi"
   ]
  },
  {
   "cell_type": "markdown",
   "metadata": {},
   "source": [
    "### lower_bound\n",
    "\n",
    "The lower_bound algorithm performs a binary search of the input sequence for each of the values in the search sequence provided to identify the lowest index in the input sequence where the search value could be inserted without violating the ordering provided by the comparator used to sort the input sequence. \n",
    "\n",
    "The result of a search for the i-th element of the search sequence, the ﬁrst index in the input sequence where the search value could be inserted without violating the ordering of the input sequence, is assigned to the i-th element of the result sequence. The algorithm returns an iterator that points to one past the last element of the result sequence that was assigned a result. If no comparator is provided then a function object that uses operator< to compare the elements will be used.\n",
    "\n",
    "__Example__:\n",
    "\n",
    "input sequence: [0, 2, 2, 2, 3, 3, 3, 3, 6, 6] \n",
    "\n",
    "search sequence: [0, 2, 4, 7, 6] \n",
    "\n",
    "result sequence: [0, 1, 8, 10, 8]"
   ]
  },
  {
   "cell_type": "markdown",
   "metadata": {},
   "source": [
    "The code below shows the usage of lower bound. Inspect code, there are no modifications necessary. \n",
    "1. Inspect the code cell below and click run ▶ to save the code to file\n",
    "2. Next run ▶ the cell in the __Build and Run__ section below the code to compile and execute the code."
   ]
  },
  {
   "cell_type": "code",
   "execution_count": null,
   "metadata": {},
   "outputs": [],
   "source": [
    "%%writefile lab/lower_bound.cpp\n",
    "//==============================================================\n",
    "// Copyright © 2020 Intel Corporation\n",
    "//\n",
    "// SPDX-License-Identifier: MIT\n",
    "// =============================================================\n",
    "\n",
    "#include <oneapi/dpl/algorithm>\n",
    "#include <oneapi/dpl/execution>\n",
    "#include <oneapi/dpl/iterator>\n",
    "#include <iostream>\n",
    "#include <CL/sycl.hpp>\n",
    "\n",
    "using namespace sycl;\n",
    "using namespace oneapi::dpl::execution;\n",
    "\n",
    "int main() {\n",
    "  \n",
    "    const int num_elements = 5;\n",
    "    auto R = range(num_elements); \n",
    "\n",
    "    //Create queue with default selector  \n",
    "    queue q;\n",
    "    std::cout << \"Device : \" << q.get_device().get_info<info::device::name>() << std::endl;\n",
    "\n",
    "    //Initialize the input vector for search\n",
    "    std::vector<int> input_seq{0, 2, 2, 2, 3, 3, 3, 3, 6, 6};\n",
    "    //Initialize the input vector for search pattern\n",
    "    std::vector<int> input_pattern{0, 2, 4, 7, 6};\n",
    "    //Output vector where we get the results back\n",
    "    std::vector<int> out_values(num_elements,0);    \n",
    " \n",
    "      \n",
    "    buffer buf_in(input_seq);\n",
    "    buffer buf_seq(input_pattern);    \n",
    "    buffer buf_out(out_values);\n",
    "\n",
    "    // create buffer iterators\n",
    "    auto keys_begin = oneapi::dpl::begin(buf_in);\n",
    "    auto keys_end = oneapi::dpl::end(buf_in);\n",
    "    auto vals_begin = oneapi::dpl::begin(buf_seq);\n",
    "    auto vals_end = oneapi::dpl::end(buf_seq);\n",
    "    auto result_begin = oneapi::dpl::begin(buf_out);\n",
    "\n",
    "    // use policy for algorithms execution\n",
    "    auto policy = make_device_policy(q);  \n",
    "\n",
    "    //Calling the dpstd upper_bound algorithm. We pass in the policy, the buffer iterators for the input vectors and the output. \n",
    "    // Default comparator is the operator < used here.\n",
    "    \n",
    "    oneapi::dpl::lower_bound(policy,keys_begin,keys_end,vals_begin,vals_end,result_begin);   \n",
    "\n",
    "    // 3.Checking results by creating the host accessors  \n",
    "    host_accessor result_vals(buf_out,read_only);\n",
    "    \n",
    "    std::cout<< \"Input Sequence = [ \";    \n",
    "    std::copy(input_seq.begin(),input_seq.end(),std::ostream_iterator<int>(std::cout,\" \"));\n",
    "    std::cout <<\"]\"<< \"\\n\";\n",
    "\n",
    "    std::cout<< \"Search Sequence = [ \";     \n",
    "    std::copy(input_pattern.begin(),input_pattern.end(),std::ostream_iterator<int>(std::cout,\" \"));\n",
    "    std::cout <<\"]\"<< \"\\n\";\n",
    "\n",
    "    std::cout<< \"Search Results = [ \";    \n",
    "    std::copy(out_values.begin(),out_values.end(),std::ostream_iterator<int>(std::cout,\" \"));\n",
    "    std::cout <<\"]\"<< \"\\n\";\n",
    "\n",
    "    return 0;\n",
    "}"
   ]
  },
  {
   "cell_type": "markdown",
   "metadata": {},
   "source": [
    "#### Build and Run\n",
    "Select the cell below and click run ▶ to compile and execute the code above:"
   ]
  },
  {
   "cell_type": "code",
   "execution_count": null,
   "metadata": {},
   "outputs": [],
   "source": [
    "! chmod 755 q; chmod 755 run_lower_bound.sh;if [ -x \"$(command -v qsub)\" ]; then ./q run_lower_bound.sh; else ./run_lower_bound.sh; fi"
   ]
  },
  {
   "cell_type": "markdown",
   "metadata": {},
   "source": [
    "### upper_bound\n",
    "The upper_bound algorithm performs a binary search of the input sequence for each of the values in the search sequence provided to identify the highest index in the input sequence where the search value could be inserted without violating the ordering provided by the comparator used to sort the input sequence. \n",
    "\n",
    "The result of a search for the i-th element of the search sequence, the last index in the input sequence where the search value could be inserted without violating the ordering of the input sequence, is assigned to the i-th element of the result sequence. The algorithm returns an iterator that points to one past the last element of the result sequence that was assigned a result. If no comparator is provided then a function object that uses operator< to compare the elements will be used.\n",
    "\n",
    "__Example__:\n",
    "\n",
    "input sequence: [0, 2, 2, 2, 3, 3, 3, 3, 6, 6] \n",
    "\n",
    "search sequence: [0, 2, 4, 7, 6] \n",
    "\n",
    "result sequence: [1, 4, 8, 10, 10]"
   ]
  },
  {
   "cell_type": "markdown",
   "metadata": {},
   "source": [
    "The code below shows the usage of upper bound. Inspect code, there are no modifications necessary. \n",
    "1. Inspect the code cell below and click run ▶ to save the code to file\n",
    "2. Next run ▶ the cell in the __Build and Run__ section below the code to compile and execute the code."
   ]
  },
  {
   "cell_type": "code",
   "execution_count": null,
   "metadata": {},
   "outputs": [],
   "source": [
    "%%writefile lab/upper_bound.cpp\n",
    "//==============================================================\n",
    "// Copyright © 2020 Intel Corporation\n",
    "//\n",
    "// SPDX-License-Identifier: MIT\n",
    "// =============================================================\n",
    "\n",
    "\n",
    "#include <oneapi/dpl/algorithm>\n",
    "#include <oneapi/dpl/execution>\n",
    "#include <oneapi/dpl/iterator>\n",
    "#include <iostream>\n",
    "#include <CL/sycl.hpp>\n",
    "\n",
    "using namespace sycl;\n",
    "using namespace oneapi::dpl::execution;\n",
    "\n",
    "\n",
    "int main() {\n",
    "  \n",
    "    const int num_elements = 5;\n",
    "    auto R = range(num_elements); \n",
    "\n",
    "    //Create queue with default selector  \n",
    "    queue q;\n",
    "    std::cout << \"Device : \" << q.get_device().get_info<info::device::name>() << std::endl;\n",
    "\n",
    "    //Initialize the input vector for search\n",
    "    std::vector<int> input_seq{0, 2, 2, 2, 3, 3, 3, 3, 6, 6};\n",
    "    //Initialize the input vector for search pattern\n",
    "    std::vector<int> input_pattern{0, 2, 4, 7, 6};\n",
    "    //Output vector where we get the results back\n",
    "    std::vector<int> out_values(num_elements,0);    \n",
    " \n",
    "      \n",
    "    buffer buf_in(input_seq);\n",
    "    buffer buf_seq(input_pattern);    \n",
    "    buffer buf_out(out_values);\n",
    "\n",
    "    // create buffer iterators\n",
    "    auto keys_begin = oneapi::dpl::begin(buf_in);\n",
    "    auto keys_end = oneapi::dpl::end(buf_in);\n",
    "    auto vals_begin = oneapi::dpl::begin(buf_seq);\n",
    "    auto vals_end = oneapi::dpl::end(buf_seq);\n",
    "    auto result_begin = oneapi::dpl::begin(buf_out);\n",
    "\n",
    "    // use policy for algorithms execution\n",
    "    auto policy = make_device_policy(q);  \n",
    "\n",
    "    //Calling the dpstd upper_bound algorithm. We pass in the policy, the buffer iterators for the input vectors and the output. \n",
    "    // Default comparator is the operator < used here.\n",
    "    \n",
    "    oneapi::dpl::upper_bound(make_device_policy(q),keys_begin,keys_end,vals_begin,vals_end,result_begin);    \n",
    "\n",
    "    // 3.Checking results by creating the host accessors  \n",
    "    host_accessor result_vals(buf_out,read_only);\n",
    "\n",
    "    std::cout<< \"Input Sequence = [ \";    \n",
    "    std::copy(input_seq.begin(),input_seq.end(),std::ostream_iterator<int>(std::cout,\" \"));\n",
    "    std::cout <<\"]\"<< \"\\n\";\n",
    "\n",
    "    std::cout<< \"Search Sequence = [ \";     \n",
    "    std::copy(input_pattern.begin(),input_pattern.end(),std::ostream_iterator<int>(std::cout,\" \"));\n",
    "    std::cout <<\"]\"<< \"\\n\";\n",
    "\n",
    "    std::cout<< \"Search Results = [ \";    \n",
    "    std::copy(out_values.begin(),out_values.end(),std::ostream_iterator<int>(std::cout,\" \"));\n",
    "    std::cout <<\"]\"<< \"\\n\";\n",
    "\n",
    "    return 0;\n",
    "}\n"
   ]
  },
  {
   "cell_type": "markdown",
   "metadata": {},
   "source": [
    "#### Build and Run\n",
    "Select the cell below and click run ▶ to compile and execute the code above:"
   ]
  },
  {
   "cell_type": "code",
   "execution_count": null,
   "metadata": {},
   "outputs": [],
   "source": [
    "! chmod 755 q; chmod 755 run_upper_bound.sh;if [ -x \"$(command -v qsub)\" ]; then ./q run_upper_bound.sh; else ./run_upper_bound.sh; fi"
   ]
  },
  {
   "cell_type": "markdown",
   "metadata": {},
   "source": [
    "## oneDPL Custom Iterators\n",
    "\n",
    "The definitions of the iterators provided in the Extension API are available through the `oneapi/dpl/iterator` header. All iterators are implemented in the oneapi::dpl namespace.\n",
    "* __Zip Iterators__: zip_iterator is an iterator used for iterating over several containers simultaneously in STL algorithms\n",
    "* __Counting Iterators__: counting_iterator is a iterator for STL algorithms that changes the counter according to arithmetic operations of the iterator type\n",
    "* __Transform Iterators__: Iterator that applies a given function to an element of a sequence, and returns the result of the function."
   ]
  },
  {
   "cell_type": "markdown",
   "metadata": {},
   "source": [
    "### Zip Iterators\n",
    "\n",
    "#### What are Zip Iterators\n",
    "Zip iterators are part of the DPC++ library extensions API. zip_iterator is an iterator used for iterating over several containers simultaneously in STL algorithms.\n",
    "\n",
    "#### Why use Zip Iterators\n",
    "STL algorithms has limitation on the number of data sources it can operate on. This limitation comes the number of iterators we can provide as argument to a STL algorithm. Zip iterators enables relax this limitation.\n",
    " we can create zip_iterator by calling the `oneapi::dpl::make_zip_iterator` function and the object is created based upon the types of parameters we pass to the function.\n",
    "\n",
    "Include the header `#include <oneapi/dpl/iterator>` to use zip Iterators.\n",
    "\n"
   ]
  },
  {
   "cell_type": "markdown",
   "metadata": {},
   "source": [
    "The code below shows the usage of Zip Iterators. Inspect code, there are no modifications necessary. \n",
    "1. Inspect the code cell below and click run ▶ to save the code to file\n",
    "2. Next run ▶ the cell in the __Build and Run__ section below the code to compile and execute the code."
   ]
  },
  {
   "cell_type": "code",
   "execution_count": null,
   "metadata": {},
   "outputs": [],
   "source": [
    "%%writefile lab/zip_iterator.cpp\n",
    "//==============================================================\n",
    "// Copyright © 2020 Intel Corporation\n",
    "//\n",
    "// SPDX-License-Identifier: MIT\n",
    "// =============================================================\n",
    "#include <oneapi/dpl/algorithm>\n",
    "#include <oneapi/dpl/execution>\n",
    "#include <oneapi/dpl/iterator>\n",
    "\n",
    "using namespace sycl;\n",
    "using namespace oneapi::dpl::execution;\n",
    "\n",
    "int main() {\n",
    "    queue q;\n",
    "    std::cout << \"Device : \" << q.get_device().get_info<info::device::name>() << std::endl;\n",
    "    constexpr int num_elements = 16;\n",
    "    std::vector<int> input_v1(num_elements, 2), input_v2(num_elements, 5), input_v3(num_elements, 0);\n",
    "    //Zip Iterator zips up the iterators of individual containers of interest.\n",
    "    auto start = oneapi::dpl::make_zip_iterator(input_v1.begin(), input_v2.begin(), input_v3.begin());\n",
    "    auto end = oneapi::dpl::make_zip_iterator(input_v1.end(), input_v2.end(), input_v3.end());\n",
    "    //create device policy\n",
    "    auto exec_policy = make_device_policy(q);\n",
    "    std::for_each(exec_policy, start, end, [](auto t) {\n",
    "        //The zip iterator is used for expressing bounds in PSTL algorithms.\n",
    "        using std::get;\n",
    "        get<2>(t) = get<1>(t) * get<0>(t);\n",
    "        });\n",
    "    for (auto it = input_v3.begin(); it < input_v3.end(); it++)\n",
    "    std::cout << (*it) <<\" \";\n",
    "    std::cout << \"\\n\";\n",
    "    return 0;\n",
    "}"
   ]
  },
  {
   "cell_type": "markdown",
   "metadata": {},
   "source": [
    "### Build and Run\n",
    "Select the cell below and click run ▶ to compile and execute the code above:"
   ]
  },
  {
   "cell_type": "code",
   "execution_count": null,
   "metadata": {},
   "outputs": [],
   "source": [
    "! chmod 755 q; chmod 755 run_zip_iterator.sh;if [ -x \"$(command -v qsub)\" ]; then ./q run_zip_iterator.sh; else ./run_zip_iterator.sh; fi"
   ]
  },
  {
   "cell_type": "markdown",
   "metadata": {},
   "source": [
    "### Counting Iterators\n",
    "\n",
    "#### What are Counting Iterators\n",
    "__Counting Iterator__ is a iterator for STL algorithms that changes the counter according to arithmetic operations of the iterator type. \n",
    "\n",
    "#### Why use Counting Iterators\n",
    "We use the iterator to get an index of a container element to make some calculations. The counter changes according to arithmetics of the random access iterator type. \n",
    "we can create counting iterator by calling the `oneapi::dpl::counting_iterator` function and the object is created based upon the types of parameters we pass to the function.\n",
    "\n",
    "Include the header `#include <oneapi/dpl/iterator` to use counting Iterators. \n"
   ]
  },
  {
   "cell_type": "markdown",
   "metadata": {},
   "source": [
    "The code below shows the usage of counting Iterators. Inspect code, there are no modifications necessary. \n",
    "1. Inspect the code cell below and click run ▶ to save the code to file\n",
    "2. Next run ▶ the cell in the __Build and Run__ section below the code to compile and execute the code."
   ]
  },
  {
   "cell_type": "code",
   "execution_count": null,
   "metadata": {},
   "outputs": [],
   "source": [
    "%%writefile lab/counting_iterator.cpp\n",
    "//==============================================================\n",
    "// Copyright © 2020 Intel Corporation\n",
    "//\n",
    "// SPDX-License-Identifier: MIT\n",
    "// =============================================================\n",
    "#include <oneapi/dpl/algorithm>\n",
    "#include <oneapi/dpl/execution>\n",
    "#include <oneapi/dpl/iterator>\n",
    "\n",
    "using namespace sycl;\n",
    "using namespace oneapi::dpl::execution;\n",
    "int main() {\n",
    "    \n",
    "    oneapi::dpl::counting_iterator<int> count_a(0);\n",
    "    oneapi::dpl::counting_iterator<int> count_b = count_a + 100;\n",
    "    int init = count_a[0]; // OK: init == 0\n",
    "    //*count_b = 7; // ERROR: counting_iterator doesn't provide write operations\n",
    "    auto sum = std::reduce(dpl::execution::dpcpp_default,\n",
    "     count_a, count_b, init); // sum is (0 + 0 + 1 + ... + 99) = 4950\n",
    "    std::cout << \"The Sum is: \" <<sum<<\"\\n\";\n",
    "    \n",
    "    return 0;\n",
    "}"
   ]
  },
  {
   "cell_type": "markdown",
   "metadata": {},
   "source": [
    "#### Build and Run\n",
    "Select the cell below and click run ▶ to compile and execute the code above:"
   ]
  },
  {
   "cell_type": "code",
   "execution_count": null,
   "metadata": {},
   "outputs": [],
   "source": [
    "! chmod 755 q; chmod 755 run_counting_iterator.sh;if [ -x \"$(command -v qsub)\" ]; then ./q run_counting_iterator.sh; else ./run_counting_iterator.sh; fi"
   ]
  },
  {
   "cell_type": "markdown",
   "metadata": {},
   "source": [
    "### Transform Iterators\n",
    "\n",
    "#### What are Transform Iterators\n",
    "Transform Iterator applies a given function to an element of a sequence, and returns the result of the function.\n",
    "\n",
    "#### Why use Transform Iterators\n",
    "A transform_iterator is a random-access iterator that applies a transformation to a sequence. The transformation, a given function, is applied upon dereferencing of the iterator itself to the dereferenced value of an underlying iterator. Expressing a pattern this way can be efficient since the transformed sequence can be consumed for example by an algorithm without storing temporary values in memory. \n",
    "\n",
    "Function `dpl::make_transform_iterator` returns a transform_iterator object with underlying iterator and custom functor set.\n",
    "\n",
    "Include the header `#include <oneapi/dpl/iterator` to use Transform Iterators."
   ]
  },
  {
   "cell_type": "markdown",
   "metadata": {},
   "source": [
    "The code below shows the usage of Transform Iterators. Inspect code, there are no modifications necessary. \n",
    "1. Inspect the code cell below and click run ▶ to save the code to file\n",
    "2. Next run ▶ the cell in the __Build and Run__ section below the code to compile and execute the code."
   ]
  },
  {
   "cell_type": "code",
   "execution_count": null,
   "metadata": {},
   "outputs": [],
   "source": [
    "%%writefile lab/transform_iterator.cpp\n",
    "//==============================================================\n",
    "// Copyright © 2020 Intel Corporation\n",
    "//\n",
    "// SPDX-License-Identifier: MIT\n",
    "// =============================================================\n",
    "#include <oneapi/dpl/algorithm>\n",
    "#include <oneapi/dpl/execution>\n",
    "#include <oneapi/dpl/iterator>\n",
    "\n",
    "using namespace sycl;\n",
    "using namespace oneapi::dpl::execution;\n",
    "        \n",
    "int main() {\n",
    "    \n",
    "    dpl::counting_iterator<int> first(0);\n",
    "    dpl::counting_iterator<int> last(100);\n",
    "    auto func = [](const auto &x){ return x * 2; };\n",
    "    auto transform_first = dpl::make_transform_iterator(first, func);\n",
    "    auto transform_last = transform_first + (last - first);\n",
    "    auto sum = std::reduce(dpl::execution::dpcpp_default,\n",
    "         transform_first, transform_last); // sum is (0 + -1 + ... + -9) = -45   \n",
    "    std::cout <<\"Reduce output using Transform Iterator: \"<<sum << \"\\n\";\n",
    "    return 0;\n",
    "}"
   ]
  },
  {
   "cell_type": "markdown",
   "metadata": {},
   "source": [
    "#### Build and Run\n",
    "Select the cell below and click run ▶ to compile and execute the code above:"
   ]
  },
  {
   "cell_type": "code",
   "execution_count": null,
   "metadata": {},
   "outputs": [],
   "source": [
    "! chmod 755 q; chmod 755 run_transform_iterator.sh;if [ -x \"$(command -v qsub)\" ]; then ./q run_transform_iterator.sh; else ./run_counting_iterator.sh; fi"
   ]
  },
  {
   "cell_type": "markdown",
   "metadata": {},
   "source": [
    "### discard_iterator\n",
    "\n",
    "#### What are Discard Iterators\n",
    "The discard_iterator is a random access iterator-like type that provides write-only dereference operations that discard values passed.\n",
    "\n",
    "#### Why use Discard Iterators\n",
    "The iterator is useful in the implementation of stencil algorithms, where the stencil is not part of the desired output. An example of this would be a copy_if algorithm that receives an input iterator range and a stencil iterator range, then copies the elements of the input whose corresponding stencil value is 1. You must use the discard_iterator to avoid declaring a temporary allocation to store a copy of the stencil."
   ]
  },
  {
   "cell_type": "markdown",
   "metadata": {},
   "source": [
    "The code below shows the usage of Transform Iterators. Inspect code, there are no modifications necessary. \n",
    "1. Inspect the code cell below and click run ▶ to save the code to file\n",
    "2. Next run ▶ the cell in the __Build and Run__ section below the code to compile and execute the code."
   ]
  },
  {
   "cell_type": "markdown",
   "metadata": {},
   "source": [
    "#### Build and Run\n",
    "Select the cell below and click run ▶ to compile and execute the code above:"
   ]
  },
  {
   "cell_type": "code",
   "execution_count": null,
   "metadata": {},
   "outputs": [],
   "source": [
    "%%writefile lab/discard_iterator.cpp\n",
    "//==============================================================\n",
    "// Copyright © 2020 Intel Corporation\n",
    "//\n",
    "// SPDX-License-Identifier: MIT\n",
    "// =============================================================\n",
    "\n",
    "\n",
    "#include <oneapi/dpl/algorithm>\n",
    "#include <oneapi/dpl/execution>\n",
    "#include <oneapi/dpl/iterator>\n",
    "#include <iostream>\n",
    "\n",
    "#include <tuple>\n",
    "#include <CL/sycl.hpp>\n",
    "\n",
    "using namespace sycl;\n",
    "using namespace oneapi::dpl::execution;\n",
    "using std::get;\n",
    "\n",
    "\n",
    "int main() {\n",
    "\n",
    "    const int num_elements = 10;\n",
    "\n",
    "    //Initialize the input vector for search\n",
    "    std::vector<int> input_seq{2, 4, 12, 24, 34, 48, 143, 63, 76, 69};\n",
    "    //Initialize the stencil values\n",
    "    std::vector<int> input_pattern{1, 2, 4, 1, 6, 1, 2, 1, 7, 1};\n",
    "    //Output vector where we get the results back\n",
    "    std::vector<int> out_values(num_elements,0);\n",
    "\n",
    "\n",
    "    buffer buf_in(input_seq);\n",
    "    buffer buf_seq(input_pattern);\n",
    "    buffer buf_out(out_values);\n",
    "\n",
    "    // create buffer iterators\n",
    "    auto keys_begin = oneapi::dpl::begin(buf_in);\n",
    "    auto keys_end = oneapi::dpl::end(buf_in);\n",
    "    auto vals_begin = oneapi::dpl::begin(buf_seq);\n",
    "    auto vals_end = oneapi::dpl::end(buf_seq);\n",
    "    auto result_begin = oneapi::dpl::begin(buf_out);\n",
    "\n",
    "    // use policy for algorithms execution\n",
    "    auto policy = oneapi::dpl::execution::dpcpp_default;\n",
    "\n",
    "    auto zipped_first = oneapi::dpl::make_zip_iterator(keys_begin, vals_begin);\n",
    "\n",
    "    auto iter_res = std::copy_if(dpl::execution::dpcpp_default,zipped_first, zipped_first + num_elements,\n",
    "                 dpl::make_zip_iterator(result_begin, dpl::discard_iterator()),\n",
    "                 [](auto t){return get<1>(t) == 1;});    \n",
    "    \n",
    "\n",
    "    // 3.Checking results by creating the host accessors  \n",
    "    host_accessor result_vals(buf_out,read_only);\n",
    "\n",
    "    std::cout<< \"Input Sequence = [ \";    \n",
    "    std::copy(input_seq.begin(),input_seq.end(),std::ostream_iterator<int>(std::cout,\" \"));\n",
    "    std::cout <<\"]\"<< \"\\n\";\n",
    "\n",
    "    std::cout<< \"Sequence to search = [ \";     \n",
    "    std::copy(input_pattern.begin(),input_pattern.end(),std::ostream_iterator<int>(std::cout,\" \"));\n",
    "    std::cout <<\"]\"<< \"\\n\";\n",
    "\n",
    "    std::cout<< \"Results with stencil value of 1 = [ \";    \n",
    "    std::copy(out_values.begin(),out_values.end(),std::ostream_iterator<int>(std::cout,\" \"));\n",
    "    std::cout <<\"]\"<< \"\\n\";\n",
    "\n",
    "    return 0;\n",
    "}\n"
   ]
  },
  {
   "cell_type": "code",
   "execution_count": null,
   "metadata": {},
   "outputs": [],
   "source": [
    "! chmod 755 q; chmod 755 run_discard_iterator.sh;if [ -x \"$(command -v qsub)\" ]; then ./q run_discard_iterator.sh; else ./run_discard_iterator.sh; fi"
   ]
  },
  {
   "cell_type": "markdown",
   "metadata": {},
   "source": [
    "### permutation_iterator\n",
    "\n",
    "#### What are permutation Iterators\n",
    "The permutation_iterator is an iterator whose dereferenced value set is defined by the source iterator provided. Its iteration order over the dereferenced value set is defined by either another iterator, or a functor whose index operator defines the mapping from the permutation_iterator index to the index of the source iterator\n",
    "\n",
    "#### Why use permutation Iterators\n",
    "permutation_iterator is useful in implementing applications where noncontiguous elements of data, represented by an iterator, need to be processed by an algorithm as though they were contiguous. An example is copying every other element to an output iterator.\n",
    "The make_permutation_iterator is provided to simplify the construction of iterator instances. The function receives the source iterator and the iterator, or function object, representing the index map."
   ]
  },
  {
   "cell_type": "markdown",
   "metadata": {},
   "source": [
    "The code below shows the usage of Transform Iterators. Inspect code, there are no modifications necessary. \n",
    "1. Inspect the code cell below and click run ▶ to save the code to file\n",
    "2. Next run ▶ the cell in the __Build and Run__ section below the code to compile and execute the code."
   ]
  },
  {
   "cell_type": "code",
   "execution_count": null,
   "metadata": {},
   "outputs": [],
   "source": [
    "%%writefile lab/permutation_iterator.cpp\n",
    "//==============================================================\n",
    "// Copyright © 2020 Intel Corporation\n",
    "//\n",
    "// SPDX-License-Identifier: MIT\n",
    "// =============================================================\n",
    "#include <oneapi/dpl/execution>\n",
    "#include <oneapi/dpl/algorithm>\n",
    "#include <oneapi/dpl/iterator>\n",
    "\n",
    "using namespace sycl;\n",
    "using namespace std;\n",
    "\n",
    "struct multiply_index_by_two {\n",
    "    template <typename Index>\n",
    "    Index operator[](const Index& i) const\n",
    "    {\n",
    "        return i * 2;\n",
    "    }\n",
    "};\n",
    "\n",
    "int main() {\n",
    "    //queue q;\n",
    "    const int num_elelemts = 100;\n",
    "    std::vector<float> result(num_elelemts, 0);\n",
    "    oneapi::dpl::counting_iterator<int> first(0);\n",
    "    oneapi::dpl::counting_iterator<int> last(20);\n",
    "\n",
    "    // first and last are iterators that define a contiguous range of input elements\n",
    "    // compute the number of elements in the range between the first and last that are accessed\n",
    "    // by the permutation iterator\n",
    "    size_t num_elements = std::distance(first, last) / 2 + std::distance(first, last) % 2;\n",
    "    using namespace oneapi;\n",
    "    auto permutation_first = oneapi::dpl::make_permutation_iterator(first, multiply_index_by_two());\n",
    "    auto permutation_last = permutation_first + num_elements;\n",
    "    auto it = ::std::copy(oneapi::dpl::execution::dpcpp_default, permutation_first, permutation_last, result.begin());\n",
    "    auto count = ::std::distance(result.begin(),it);\n",
    "    \n",
    "    for(int i = 0; i < count; i++) ::std::cout << result[i] << \" \";\n",
    "    \n",
    "   // for (auto it = result.begin(); it < result.end(); it++)     \n",
    "    //   ::std::cout << (*it) <<\" \"; \n",
    "        \n",
    "    return 0;\n",
    "}"
   ]
  },
  {
   "cell_type": "markdown",
   "metadata": {},
   "source": [
    "#### Build and Run\n",
    "Select the cell below and click run ▶ to compile and execute the code above:"
   ]
  },
  {
   "cell_type": "code",
   "execution_count": null,
   "metadata": {},
   "outputs": [],
   "source": [
    "! chmod 755 q; chmod 755 run_permutation_iterator.sh;if [ -x \"$(command -v qsub)\" ]; then ./q run_permutation_iterator.sh; else ./permutation_iterator.sh; fi"
   ]
  },
  {
   "cell_type": "markdown",
   "metadata": {},
   "source": [
    "### Range-Based API\n",
    "\n",
    "C++20 introduces the Ranges library. The С++20 standard splits ranges into two categories: factories and adaptors. A range factory does not have underlying data. An element is generated on success by an index, or by dereferencing an iterator. A range adaptor, from a oneDPL perspective, is an utility that transforms base range, or another adapted range into a view with custom behavior. \n",
    "\n",
    "oneDPL supports an iota_view range factory. A sycl::buffer wrapped with all_view can be used as the range. oneDPl considers the supported factories and all_view as base ranges. The range adaptors may be combined into a pipeline with a base range at the beginning.\n",
    "\n",
    "The code below shows the usage of Ranges. Inspect code, there are no modifications necessary. \n",
    "1. Inspect the code cell below and click run ▶ to save the code to file\n",
    "2. Next run ▶ the cell in the __Build and Run__ section below the code to compile and execute the code."
   ]
  },
  {
   "cell_type": "code",
   "execution_count": null,
   "metadata": {},
   "outputs": [],
   "source": [
    "%%writefile lab/ranges.cpp\n",
    "//==============================================================\n",
    "// Copyright © 2020 Intel Corporation\n",
    "//\n",
    "// SPDX-License-Identifier: MIT\n",
    "// =============================================================\n",
    "\n",
    "#include<oneapi/dpl/execution>\n",
    "#include<oneapi/dpl/algorithm>\n",
    "#include<oneapi/dpl/ranges>\n",
    "#include<iostream>\n",
    "#include<vector>\n",
    "#include<CL/sycl.hpp>\n",
    "\n",
    "using namespace sycl;\n",
    "using namespace oneapi::dpl::experimental::ranges;\n",
    "\n",
    "int main()\n",
    "{\n",
    "    std::vector<int> v(20);\n",
    "\n",
    "    {\n",
    "        buffer A(v);\n",
    "        auto view = iota_view(0, 20);\n",
    "        auto rev_view = views::reverse(view);\n",
    "        auto range_res = all_view<int, cl::sycl::access::mode::write>(A);\n",
    "\n",
    "        copy(oneapi::dpl::execution::dpcpp_default, rev_view, range_res);\n",
    "    }\n",
    "\n",
    "    for (auto x : v)\n",
    "        std::cout << x << \" \";\n",
    "    std::cout << std::endl;\n",
    "    return 0;\n",
    "}"
   ]
  },
  {
   "cell_type": "markdown",
   "metadata": {},
   "source": [
    "#### Build and Run\n",
    "Select the cell below and click run ▶ to compile and execute the code above:"
   ]
  },
  {
   "cell_type": "code",
   "execution_count": null,
   "metadata": {},
   "outputs": [],
   "source": [
    "! chmod 755 q; chmod 755 run_ranges.sh;if [ -x \"$(command -v qsub)\" ]; then ./q run_ranges.sh ; else ./run_ranges.sh; fi"
   ]
  },
  {
   "cell_type": "markdown",
   "metadata": {},
   "source": [
    "## Functional Utility classes\n",
    "identity: A C++11 implementation of the C++20 std::identity function object type, where the operator() returns the argument unchanged.\n",
    "\n",
    "minimum: A function object type where the operator() applies std::less to its arguments, and then returns the lesser argument unchanged.\n",
    "\n",
    "maximum: A function object type where the operator() applies std::greater to its arguments, and then returns the greater argument unchanged."
   ]
  },
  {
   "cell_type": "markdown",
   "metadata": {},
   "source": [
    "### Minimum\n",
    "* minimum: A function object type where the operator() applies std::less to its arguments, and then returns the lesser argument unchanged.\n",
    "\n",
    "Below code uses the dpstd::minimum when performing the std::exclusive_scan function."
   ]
  },
  {
   "cell_type": "markdown",
   "metadata": {},
   "source": [
    "The code below shows the usage of __Minimum__ utility class. Inspect code, there are no modifications necessary. \n",
    "1. Inspect the code cell below and click run ▶ to save the code to file\n",
    "2. Next run ▶ the cell in the __Build and Run__ section below the code to compile and execute the code."
   ]
  },
  {
   "cell_type": "code",
   "execution_count": null,
   "metadata": {},
   "outputs": [],
   "source": [
    "%%writefile lab/minimum_function.cpp\n",
    "//==============================================================\n",
    "// Copyright © 2020 Intel Corporation\n",
    "//\n",
    "// SPDX-License-Identifier: MIT\n",
    "// =============================================================\n",
    "#include <oneapi/dpl/algorithm>\n",
    "#include <oneapi/dpl/execution>\n",
    "#include <oneapi/dpl/iterator>\n",
    "\n",
    "using namespace sycl;\n",
    "using namespace oneapi::dpl::execution;\n",
    "        \n",
    "int main() {\n",
    "    \n",
    "    queue q;\n",
    "    constexpr int N = 8;\n",
    "    //Input vector\n",
    "    std::vector<int> v{3,-1,-4,1,-5,-9,2,6};\n",
    "    //create a separate scope for buffer destruction\n",
    "    std::vector<int>result(N);\n",
    "    {\n",
    "        buffer buf(v);\n",
    "        buffer buf_res(result);\n",
    "\n",
    "        //dpstd buffer iterators for both the input and the result vectors\n",
    "        auto start_v = oneapi::dpl::begin(buf);\n",
    "        auto end_v = oneapi::dpl::end(buf);\n",
    "        auto start_res = oneapi::dpl::begin(buf_res);\n",
    "        auto end_res = oneapi::dpl::end(buf_res);\n",
    "        \n",
    "        //use std::fill to initialize the result vector\n",
    "        std::fill(oneapi::dpl::execution::dpcpp_default,start_res, end_res, 0);  \n",
    "        //usage of dpl::minimum<> function call within the std::exclusive_scan function\n",
    "        std::exclusive_scan(oneapi::dpl::execution::dpcpp_default, start_v, end_v, start_res, int(0), oneapi::dpl::minimum<int>() );        \n",
    "    }    \n",
    "    \n",
    "    for(int i = 0; i < result.size(); i++) std::cout << result[i] << std::endl;\n",
    "    return 0;\n",
    "}"
   ]
  },
  {
   "cell_type": "markdown",
   "metadata": {},
   "source": [
    "#### Build and Run\n",
    "Select the cell below and click run ▶ to compile and execute the code above:"
   ]
  },
  {
   "cell_type": "code",
   "execution_count": null,
   "metadata": {},
   "outputs": [],
   "source": [
    "! chmod 755 q; chmod 755 run_min.sh;if [ -x \"$(command -v qsub)\" ]; then ./q run_min.sh; else ./run_min.sh; fi"
   ]
  },
  {
   "cell_type": "markdown",
   "metadata": {},
   "source": [
    "### Maximum\n",
    "* maximum: A function object type where the operator() applies std::greater to its arguments, and then returns the greater argument unchanged.\n",
    "Below code uses the dpstd::maximum when performing the std::exclusive_scan function."
   ]
  },
  {
   "cell_type": "markdown",
   "metadata": {},
   "source": [
    "The code below shows the usage of __Maximum__ utility class. Inspect code, there are no modifications necessary. \n",
    "1. Inspect the code cell below and click run ▶ to save the code to file\n",
    "2. Next run ▶ the cell in the __Build and Run__ section below the code to compile and execute the code."
   ]
  },
  {
   "cell_type": "code",
   "execution_count": null,
   "metadata": {},
   "outputs": [],
   "source": [
    "%%writefile lab/maximum_function.cpp\n",
    "//==============================================================\n",
    "// Copyright © 2020 Intel Corporation\n",
    "//\n",
    "// SPDX-License-Identifier: MIT\n",
    "// =============================================================\n",
    "#include <oneapi/dpl/algorithm>\n",
    "#include <oneapi/dpl/execution>\n",
    "#include <oneapi/dpl/iterator>\n",
    "\n",
    "using namespace sycl;\n",
    "using namespace oneapi::dpl::execution;\n",
    "        \n",
    "int main() {\n",
    "    \n",
    "    queue q;\n",
    "    constexpr int N = 8;\n",
    "    \n",
    "    std::vector<int> v{-3,1,4,-1,5,9,-2,6}; \n",
    "    //create a separate scope for buffer destruction\n",
    "    std::vector<int>result(N);\n",
    "    {\n",
    "        buffer<int,1> buf(v.data(), range<1>(N));\n",
    "        buffer<int,1> buf_res(result.data(), range<1>(N));\n",
    "        \n",
    "        //dpstd buffer iterators for both the input and the result vectors\n",
    "        auto start_v = oneapi::dpl::begin(buf);\n",
    "        auto end_v = oneapi::dpl::end(buf);\n",
    "        auto start_res = oneapi::dpl::begin(buf_res);\n",
    "        auto end_res = oneapi::dpl::end(buf_res);\n",
    "        \n",
    "        //use std::fill to initialize the result vector\n",
    "        std::fill(oneapi::dpl::execution::dpcpp_default,start_res, end_res, 0);  \n",
    "        //usage of dpstd::maximum<> function call within the std::exclusive_scan function\n",
    "        std::exclusive_scan(oneapi::dpl::execution::dpcpp_default, start_v, end_v, start_res, int(0), oneapi::dpl::maximum<int>() );        \n",
    "    }\n",
    "    \n",
    "    \n",
    "    for(int i = 0; i < result.size(); i++) std::cout << result[i] << std::endl;\n",
    "    return 0;\n",
    "}"
   ]
  },
  {
   "cell_type": "markdown",
   "metadata": {},
   "source": [
    "#### Build and Run\n",
    "Select the cell below and click run ▶ to compile and execute the code above:"
   ]
  },
  {
   "cell_type": "code",
   "execution_count": null,
   "metadata": {},
   "outputs": [],
   "source": [
    "! chmod 755 q; chmod 755 run_max.sh;if [ -x \"$(command -v qsub)\" ]; then ./q run_max.sh; else ./run_max.sh; fi"
   ]
  },
  {
   "cell_type": "markdown",
   "metadata": {},
   "source": [
    "## zip iterators and stable sort example\n",
    "\n",
    "The below example walks us through performing a `std::stablesort` using the zip iterators and counting iterator.\n",
    "\n",
    "counting_iterator is a iterator for STL algorithms that changes the counter according to arithmetic operations of the iterator type. We use the iterator to get an index of a container element to make some calculation.\n",
    "\n",
    "We create two SYCL buffers for holding __keys__ and __values__. We create the iterators using the `oneapi::dpl::begin` for these buffers. We create the `counting_iterator` to actually iterate through the buffer to get the index space for each element. We initialize the buffer holding the keys value using std::tranform function. Note the execution policy object we as passing as parameter to the `std::transform` function. Then we fill vals_buf with the analogous of std::iota using counting_iterator where we are assigning successive values in that range.\n",
    "\n",
    "The second part is the sorting. We are creating the zip iteartor using the `make_zip_iterator()` function where we are passing the buffers for the keys and values. Finally we call the `std::stable_sort()` passing the policy object and the zip iterator object as parameter to sort by keys. Run the program and observe the output.\n",
    "\n"
   ]
  },
  {
   "cell_type": "markdown",
   "metadata": {},
   "source": [
    "The code below shows the stable sort algorithm using Zip Iterators. Inspect code, there are no modifications necessary. \n",
    "1. Inspect the code cell below and click run ▶ to save the code to file\n",
    "2. Next run ▶ the cell in the __Build and Run__ section below the code to compile and execute the code."
   ]
  },
  {
   "cell_type": "code",
   "execution_count": null,
   "metadata": {},
   "outputs": [],
   "source": [
    "%%writefile stable_sort_by_key/src/main.cpp\n",
    "//==============================================================\n",
    "// Copyright © 2020 Intel Corporation\n",
    "//\n",
    "// SPDX-License-Identifier: MIT\n",
    "// =============================================================\n",
    "\n",
    "#include <oneapi/dpl/algorithm>\n",
    "#include <oneapi/dpl/execution>\n",
    "#include <oneapi/dpl/iterator>\n",
    "#include <iostream>\n",
    "#include <CL/sycl.hpp>\n",
    "\n",
    "\n",
    "using namespace sycl;\n",
    "using namespace oneapi::dpl::execution;\n",
    "\n",
    "\n",
    "using namespace std;\n",
    "\n",
    "int main() {\n",
    "  const int n = 1000000;\n",
    "  buffer<int> keys_buf{n};  // buffer with keys\n",
    "  buffer<int> vals_buf{n};  // buffer with values\n",
    "\n",
    "  // create objects to iterate over buffers\n",
    "  auto keys_begin = oneapi::dpl::begin(keys_buf);\n",
    "  auto vals_begin = oneapi::dpl::begin(vals_buf);\n",
    "\n",
    "  auto counting_begin = oneapi::dpl::counting_iterator<int>{0};\n",
    "  // use default policy for algorithms execution\n",
    "  auto policy = oneapi::dpl::execution::dpcpp_default;\n",
    "\n",
    "  // 1. Initialization of buffers\n",
    "  // let keys_buf contain {n, n, n-2, n-2, ..., 4, 4, 2, 2}\n",
    "  transform(policy, counting_begin, counting_begin + n, keys_begin,\n",
    "            [n](int i) { return n - (i / 2) * 2; });\n",
    "  // fill vals_buf with the analogue of std::iota using counting_iterator\n",
    "  copy(policy, counting_begin, counting_begin + n, vals_begin);\n",
    "\n",
    "  // 2. Sorting\n",
    "  auto zipped_begin = oneapi::dpl::make_zip_iterator(keys_begin, vals_begin);\n",
    "  // stable sort by keys\n",
    "  stable_sort(\n",
    "      policy, zipped_begin, zipped_begin + n,\n",
    "      // Generic lambda is needed because type of lhs and rhs is unspecified.\n",
    "      [](auto lhs, auto rhs) { return get<0>(lhs) < get<0>(rhs); });\n",
    "\n",
    "  // 3.Checking results\n",
    "  //host_accessor host_keys(keys_buf,read_only);\n",
    "  //host_accessor host_vals(vals_buf,read_only);\n",
    "  auto host_keys = keys_buf.get_access<access::mode::read>();\n",
    "  auto host_vals = vals_buf.get_access<access::mode::read>();\n",
    "\n",
    "  // expected output:\n",
    "  // keys: {2, 2, 4, 4, ..., n - 2, n - 2, n, n}\n",
    "  // vals: {n - 2, n - 1, n - 4, n - 3, ..., 2, 3, 0, 1}\n",
    "  for (int i = 0; i < n; ++i) {\n",
    "    if (host_keys[i] != (i / 2) * 2 &&\n",
    "        host_vals[i] != n - (i / 2) * 2 - (i % 2 == 0 ? 2 : 1)) {\n",
    "      cout << \"fail: i = \" << i << \", host_keys[i] = \" << host_keys[i]\n",
    "           << \", host_vals[i] = \" << host_vals[i] << \"\\n\";\n",
    "      return 1;\n",
    "    }\n",
    "  }\n",
    "\n",
    "  cout << \"success\\nRun on \"\n",
    "       << policy.queue().get_device().template get_info<info::device::name>()\n",
    "       << \"\\n\";\n",
    "  return 0;\n",
    "}\n",
    "\n"
   ]
  },
  {
   "cell_type": "markdown",
   "metadata": {},
   "source": [
    "#### Build and Run\n",
    "Select the cell below and click run ▶ to compile and execute the code above:"
   ]
  },
  {
   "cell_type": "code",
   "execution_count": null,
   "metadata": {},
   "outputs": [],
   "source": [
    "! chmod 755 q; chmod 755 run_stable_sort.sh;if [ -x \"$(command -v qsub)\" ]; then ./q run_stable_sort.sh; else ./run_stable_sort.sh; fi"
   ]
  },
  {
   "cell_type": "markdown",
   "metadata": {},
   "source": [
    "# Summary\n",
    "In this module you will have learned the following:\n",
    "* The oneDPL extension API algorithms, iterators and the utility classes \n",
    "\n",
    "\n"
   ]
  },
  {
   "cell_type": "markdown",
   "metadata": {},
   "source": [
    "<html><body><span style=\"color:Red\"><h1>Reset Notebook</h1></span></body></html>\n",
    "\n",
    "##### Should you be experiencing any issues with your notebook or just want to start fresh run the below cell.\n",
    "\n"
   ]
  },
  {
   "cell_type": "code",
   "execution_count": null,
   "metadata": {
    "jupyter": {
     "source_hidden": true
    }
   },
   "outputs": [],
   "source": [
    "from IPython.display import display, Markdown, clear_output\n",
    "import ipywidgets as widgets\n",
    "button = widgets.Button(\n",
    "    description='Reset Notebook',\n",
    "    disabled=False,\n",
    "    button_style='', # 'success', 'info', 'warning', 'danger' or ''\n",
    "    tooltip='This will update this notebook, overwriting any changes.',\n",
    "    icon='check' # (FontAwesome names without the `fa-` prefix)\n",
    ")\n",
    "out = widgets.Output()\n",
    "def on_button_clicked(_):\n",
    "      # \"linking function with output\"\n",
    "      with out:\n",
    "          # what happens when we press the button\n",
    "          clear_output()\n",
    "          !rsync -a --size-only /data/oneapi_workshop/oneAPI_Essentials/07_DPCPP_Library/ ~/oneAPI_Essentials/07_DPCPP_Library\n",
    "          print('Notebook reset -- now click reload on browser.')\n",
    "# linking button and function together using a button's method\n",
    "button.on_click(on_button_clicked)\n",
    "# displaying button and its output together\n",
    "widgets.VBox([button,out])"
   ]
  }
 ],
 "metadata": {
  "kernelspec": {
   "display_name": "Python 3.7 (Intel® oneAPI)",
   "language": "python",
   "name": "c009-intel_distribution_of_python_3_oneapi-beta05-python"
  },
  "language_info": {
   "codemirror_mode": {
    "name": "ipython",
    "version": 3
   },
   "file_extension": ".py",
   "mimetype": "text/x-python",
   "name": "python",
   "nbconvert_exporter": "python",
   "pygments_lexer": "ipython3",
   "version": "3.7.9"
  },
  "toc": {
   "base_numbering": 1,
   "nav_menu": {},
   "number_sections": true,
   "sideBar": true,
   "skip_h1_title": false,
   "title_cell": "Table of Contents",
   "title_sidebar": "Contents",
   "toc_cell": false,
   "toc_position": {
    "height": "525.6px",
    "left": "28px",
    "top": "137.8px",
    "width": "301.109px"
   },
   "toc_section_display": true,
   "toc_window_display": true
  },
  "widgets": {
   "application/vnd.jupyter.widget-state+json": {
    "state": {},
    "version_major": 2,
    "version_minor": 0
   }
  }
 },
 "nbformat": 4,
 "nbformat_minor": 4
}
