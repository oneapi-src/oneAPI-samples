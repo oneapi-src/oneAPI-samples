{
 "cells": [
  {
   "cell_type": "markdown",
   "metadata": {},
   "source": [
    "# Intel® oneAPI DPC++ Library"
   ]
  },
  {
   "cell_type": "markdown",
   "metadata": {},
   "source": [
    "#### Sections\n",
    "- [What is Intel® oneAPI DPC++ Library?](#What-is-Intel®-oneAPI-DPC++-Library?)\n",
    "- [Why use oneDPL for DPC++ Heterogeneous Computing?](#Why-use-oneDPL-for-DPC++-Heterogeneous-Computing?)\n",
    "- _Code:_ [Simple oneDPL example](#Simple-oneDPL-example)\n",
    "- [oneDPL Algorithms](#oneDPL-Algorithms)\n",
    "- [DPC++ Execution Policy Usage](#DPC++-Execution-Policy-Usage)\n",
    "- _Code:_ [oneDPL with Buffer Iterators](#oneDPL-with-Buffer-Iterators)\n",
    "- _Code:_ [oneDPL with USM Pointers](#oneDPL-with-USM-Pointers)\n",
    "- _Code:_ [oneDPL with USM Allocators](#oneDPL-with-USM-Allocators)"
   ]
  },
  {
   "cell_type": "markdown",
   "metadata": {},
   "source": [
    "## Learning Objectives\n",
    "\n",
    "- Simplify DPC++ programming by using Intel® oneAPI DPC++ Library (oneDPL)\n",
    "- Use DPC++ Library algorithms for Heterogeneous Computing\n",
    "- Implement oneDPL algorithms using Buffers and Unified Shared Memory"
   ]
  },
  {
   "cell_type": "markdown",
   "metadata": {},
   "source": [
    "## What is Intel® oneAPI DPC++ Library?\n",
    "\n",
    "The Intel® oneAPI DPC++ Library ___(oneDPL)___ is a companion to the Intel® oneAPI DPC++ Compiler and provides an alternative for C++ developers who create heterogeneous applications and solutions. Its APIs are based on familiar standards—C++ STL, Parallel STL (PSTL), and SYCL* — to maximize productivity and performance across CPUs, GPUs, and FPGAs.\n",
    "\n",
    "oneDPL consists of the following components:\n",
    "\n",
    "* __Standard C++ APIs__\n",
    "* __Parallel STL__ algorithms\n",
    "* __Extensions APIs__ - additional set of library classes and functions"
   ]
  },
  {
   "cell_type": "markdown",
   "metadata": {},
   "source": [
    "## Why use oneDPL for DPC++ Heterogeneous Computing?\n",
    "The Intel oneAPI DPC++ Library helps to __maximize productivity__ and __performance__ across CPUs, GPUs, and FPGAs.\n",
    "\n",
    "__Maximize performance__ by offloading computation to devices like GPU, for example the code snippet below shows how an existing functionality that executes on CPU can be offloaded to devices like GPU or FPGA using oneDPL.\n",
    "\n",
    "_Compute on CPU:_\n",
    "```cpp  \n",
    "  std::sort(v.begin(), v.end());  \n",
    "```\n",
    "\n",
    "_Compute on GPU with oneDPL:_\n",
    "```cpp\n",
    "  sycl::queue q(sycl::gpu_selector{});\n",
    "  std::sort(dpstd::execution::make_device_policy(q), v.begin(), v.end());\n",
    "                              ^                  ^  \n",
    "```\n",
    "\n",
    "__Maximize productivity__ by making use of oneDPL algorithms instead of writing DPC++ kernel code for the algorithms that already exist in oneDPL, for example the entire DPC++ kernel code in the below DPC++ example can be accomplished with one line of code when using DPC++ Library algorithm.\n",
    "\n",
    "```cpp\n",
    "#include<CL/sycl.hpp>\n",
    "using namespace sycl;\n",
    "constexpr int N = 4;\n",
    "\n",
    "int main() {\n",
    "  queue q;\n",
    "  std::vector<int> v(N);\n",
    "    \n",
    "//==================================================================↓\n",
    "  {\n",
    "    buffer<int> buf(v.data(),v.size());\n",
    "    q.submit([&](handler &h){\n",
    "       auto V = buf.get_access<access::mode::read_write>(h);\n",
    "       h.parallel_for(range<1>(N),[=] (id<1> i){ V[i] = 20; }); \n",
    "    });\n",
    "  }\n",
    "//==================================================================↑\n",
    "    \n",
    "  for(int i = 0; i < v.size(); i++) std::cout << v[i] << std::endl;\n",
    "  return 0;\n",
    "}\n",
    "```\n",
    "The above code block can be accomplished with one line of code using oneDPL:\n",
    "\n",
    "```cpp\n",
    "  std::fill(dpstd::execution::make_device_policy(q), v.begin(), v.end(), 20);\n",
    "```\n",
    "The above code will create a temporary SYCL buffer, computes the algorith on device and copies back the buffer."
   ]
  },
  {
   "cell_type": "markdown",
   "metadata": {},
   "source": [
    "### Simple oneDPL example"
   ]
  },
  {
   "cell_type": "markdown",
   "metadata": {},
   "source": [
    "The example below shows how a single line of code with Parallel STL alogorithm can replace the DPC++ kernel code to get same results as previous example\n",
    "1. Inspect the code cell below and click run ▶ to save the code to file\n",
    "2. Next run ▶ the cell in the __Build and Run__ section below the code to compile and execute the code."
   ]
  },
  {
   "cell_type": "code",
   "execution_count": null,
   "metadata": {},
   "outputs": [],
   "source": [
    "%%writefile lab/dpl_simple.cpp\n",
    "//==============================================================\n",
    "// Copyright © 2020 Intel Corporation\n",
    "//\n",
    "// SPDX-License-Identifier: MIT\n",
    "// =============================================================\n",
    "#include<CL/sycl.hpp>\n",
    "#include<dpstd/execution>\n",
    "#include<dpstd/algorithm>\n",
    "using namespace sycl;\n",
    "constexpr int N = 4;\n",
    "\n",
    "int main() {\n",
    "  queue q;\n",
    "  std::cout << \"Device : \" << q.get_device().get_info<info::device::name>() << std::endl;\n",
    "  std::vector<int> v(N);\n",
    "    \n",
    "  //# Parallel STL fill function with device policy\n",
    "  std::fill(dpstd::execution::make_device_policy(q), v.begin(), v.end(), 20);\n",
    "    \n",
    "  for(int i = 0; i < v.size(); i++) std::cout << v[i] << std::endl;\n",
    "  return 0;\n",
    "}"
   ]
  },
  {
   "cell_type": "markdown",
   "metadata": {},
   "source": [
    "#### Build and Run\n",
    "Select the cell below and click run ▶ to compile and execute the code above:"
   ]
  },
  {
   "cell_type": "code",
   "execution_count": null,
   "metadata": {},
   "outputs": [],
   "source": [
    "! chmod 755 q; chmod 755 run_dpl_simple.sh;if [ -x \"$(command -v qsub)\" ]; then ./q run_dpl_simple.sh; else ./run_dpl_simple.sh; fi"
   ]
  },
  {
   "cell_type": "markdown",
   "metadata": {},
   "source": [
    "_If the Jupyter cells are not responsive or if they error out when you compile the code samples, please restart the Jupyter Kernel: \n",
    "\"Kernel->Restart Kernel and Clear All Outputs\" and compile the code samples again_"
   ]
  },
  {
   "cell_type": "markdown",
   "metadata": {},
   "source": [
    "## oneDPL Algorithms\n",
    "1. __C++ standard APIs__ have been tested and function well within DPC++ kernels. To use them, include the corresponding C++ standard header files and use the std namespace. List of tested C++ standard APIs available for DPC++ can be found [here](https://software.intel.com/content/www/us/en/develop/documentation/oneapi-dpcpp-library-guide/top/tested-standard-c-apis.html) for reference.\n",
    "\n",
    "2. __Parallel STL__ which offers efficient support for both parallel and vectorized execution of algorithms for Intel® processors is extended with support for DPC++ compliant devices by introducing special DPC++ execution policies and functions. List of different Parallel STL algorithms available for DPC++ can be found [here](https://software.intel.com/content/www/us/en/develop/articles/get-started-with-parallel-stl.html) for reference.\n",
    "\n",
    "3. __Extension APIs__ are non-standard algorithms, utility classes and iterators. List of different extension APIs available for DPC++ can be found [here](https://software.intel.com/content/www/us/en/develop/documentation/oneapi-dpcpp-library-guide/top/extension-api.html) for reference.\n",
    "\n",
    "All oneDPL header files are in the dpstd directory. Depending on the algorithm you use, include appropriate header files:\n",
    "```cpp\n",
    "#include <dpstd/algorithm>\n",
    "#include <dpstd/numeric>\n",
    "#include <dpstd/memory>\n",
    "```\n",
    "oneDPL has its own namespace `dpstd` for all its extensions, including DPC++ execution policies, non-standard algorithms, special iterators, etc."
   ]
  },
  {
   "cell_type": "markdown",
   "metadata": {},
   "source": [
    "## DPC++ Execution Policy Usage\n",
    "\n",
    "The DPC++ execution policy specifies where and how a Parallel STL algorithm runs. It inherits a standard C++ execution policy, encapsulates a SYCL* device or queue, and enables you to set an optional kernel name. DPC++ execution policies can be used with all standard C++ algorithms that support execution policies according to the ISO/IEC 14882:2017 standard\n",
    "\n",
    "1. Add `#include <dpstd/execution>` to your code.\n",
    "2. Create a policy object by providing a standard policy type, a optional class type for a unique kernel name as a template argument and one of the following constructor arguments:\n",
    "  * A SYCL queue\n",
    "  * A SYCL device\n",
    "  * A SYCL device selector\n",
    "  * An existing policy object with a different kernel name\n",
    "3. Pass the created policy object to a Parallel STL algorithm.\n",
    "\n",
    "Below is example showing usage of execution policy to use with Parallel STL:\n",
    "```cpp\n",
    "queue q;\n",
    "auto policy = dpstd::execution::make_device_policy(q);\n",
    "std::fill(policy, v.begin(), v.end(), 20);\n",
    "```\n",
    "\n",
    "- Parallel STL algorithms can be called with ordinary iterators. \n",
    "- A temporary SYCL buffer is created and the data is copied to this buffer. \n",
    "- After processing of the temporary buffer on a device is complete, the data is copied back to the host. "
   ]
  },
  {
   "cell_type": "markdown",
   "metadata": {},
   "source": [
    "### Using multiple oneDPL algorithms\n",
    "\n",
    "The code example below uses two algorithms, the input vector is doubled using `std::for_each` algorithm and then it is sorted using `std::sort` algorithm. Execute the code below to find out if this is the right way or not?\n",
    "\n",
    "1. Inspect the code cell below and click run ▶ to save the code to file\n",
    "2. Next run ▶ the cell in the __Build and Run__ section below the code to compile and execute the code."
   ]
  },
  {
   "cell_type": "code",
   "execution_count": null,
   "metadata": {},
   "outputs": [],
   "source": [
    "%%writefile lab/dpl_sortdouble.cpp\n",
    "//==============================================================\n",
    "// Copyright © 2020 Intel Corporation\n",
    "//\n",
    "// SPDX-License-Identifier: MIT\n",
    "// =============================================================\n",
    "#include<CL/sycl.hpp>\n",
    "#include<dpstd/execution>\n",
    "#include<dpstd/algorithm>\n",
    "using namespace sycl;\n",
    "using namespace dpstd::execution;\n",
    "\n",
    "int main() {\n",
    "  queue q;\n",
    "  std::cout << \"Device : \" << q.get_device().get_info<info::device::name>() << std::endl;\n",
    "  std::vector<int> v{2,3,1,4};\n",
    "    \n",
    "  std::for_each(make_device_policy(q), v.begin(), v.end(), [](int &a){ a *= 2; });\n",
    "  std::sort(make_device_policy(q), v.begin(), v.end());\n",
    "    \n",
    "  for(int i = 0; i < v.size(); i++) std::cout << v[i] << std::endl;\n",
    "  return 0;\n",
    "}"
   ]
  },
  {
   "cell_type": "markdown",
   "metadata": {},
   "source": [
    "#### Build and Run\n",
    "Select the cell below and click run ▶ to compile and execute the code above:"
   ]
  },
  {
   "cell_type": "code",
   "execution_count": null,
   "metadata": {},
   "outputs": [],
   "source": [
    "! chmod 755 q; chmod 755 run_dpl_sortdouble.sh;if [ -x \"$(command -v qsub)\" ]; then ./q run_dpl_sortdouble.sh; else ./run_dpl_sortdouble.sh; fi"
   ]
  },
  {
   "cell_type": "markdown",
   "metadata": {},
   "source": [
    "_If the Jupyter cells are not responsive or if they error out when you compile the code samples, please restart the Jupyter Kernel: \n",
    "\"Kernel->Restart Kernel and Clear All Outputs\" and compile the code samples again_"
   ]
  },
  {
   "cell_type": "markdown",
   "metadata": {},
   "source": [
    "The above example works __but__ memory is copied to device and back twice when vectors are passed directly to the oneDPL algorithms:\n",
    "```cpp\n",
    "//# memory copied host -> device\n",
    "std::for_each(make_device_policy(q), v.begin(), v.end(), [](int &a){ a *= 2; });\n",
    "//# memory copied device -> host\n",
    "\n",
    "//# memory copied host -> device\n",
    "std::sort(make_device_policy(q), v.begin(), v.end());\n",
    "//# memory copied device -> host\n",
    "```\n",
    "\n",
    "To avoid memory being copied back and forth twice, we have to use create buffer and use __buffer iterators__ which is explained below "
   ]
  },
  {
   "cell_type": "markdown",
   "metadata": {},
   "source": [
    "## oneDPL with Buffer Iterators\n",
    "\n",
    "The `dpstd::begin` and `dpstd::end` are special helper functions that enable you to pass SYCL buffers to oneDPL algorithms. This will require the following header file:\n",
    "```cpp\n",
    "#include <dpstd/iterators.h>\n",
    "```\n",
    "Using buffer iterators will ensure that memory is not copied back and forth in between each algorithm execution on device. The code example below shows how the same example above is implemented using __buffer iterators__ which make sure the memory stays on device until the buffer is destructed."
   ]
  },
  {
   "cell_type": "markdown",
   "metadata": {},
   "source": [
    "The code below shows simple oneDPL code. Inspect code, there are no modifications necessary. \n",
    "1. Inspect the code cell below and click run ▶ to save the code to file\n",
    "2. Next run ▶ the cell in the __Build and Run__ section below the code to compile and execute the code."
   ]
  },
  {
   "cell_type": "code",
   "execution_count": null,
   "metadata": {},
   "outputs": [],
   "source": [
    "%%writefile lab/dpl_buffer.cpp\n",
    "//==============================================================\n",
    "// Copyright © 2020 Intel Corporation\n",
    "//\n",
    "// SPDX-License-Identifier: MIT\n",
    "// =============================================================\n",
    "#include <CL/sycl.hpp>\n",
    "#include <dpstd/execution>\n",
    "#include <dpstd/algorithm>\n",
    "#include <dpstd/iterators.h>\n",
    "using namespace sycl;\n",
    "using namespace dpstd::execution;\n",
    "\n",
    "int main(){\n",
    "  queue q;\n",
    "  std::cout << \"Device : \" << q.get_device().get_info<info::device::name>() << std::endl;\n",
    "  std::vector<int> v{2,3,1,4};\n",
    "    \n",
    "  //# Create a buffer and use buffer iterators in Parallel STL algorithms\n",
    "  {\n",
    "    buffer<int> buf{v.data(), v.size()};\n",
    "\n",
    "    std::for_each(make_device_policy(q), dpstd::begin(buf), dpstd::end(buf), [](int &a){ a *= 2; });\n",
    "    std::sort(make_device_policy(q), dpstd::begin(buf), dpstd::end(buf));\n",
    "  }\n",
    "    \n",
    "  for(int i = 0; i < v.size(); i++) std::cout << v[i] << std::endl;\n",
    "  return 0;\n",
    "}"
   ]
  },
  {
   "cell_type": "markdown",
   "metadata": {},
   "source": [
    "#### Build and Run\n",
    "Select the cell below and click run ▶ to compile and execute the code above:"
   ]
  },
  {
   "cell_type": "code",
   "execution_count": null,
   "metadata": {},
   "outputs": [],
   "source": [
    "! chmod 755 q; chmod 755 run_dpl_buffer.sh;if [ -x \"$(command -v qsub)\" ]; then ./q run_dpl_buffer.sh; else ./run_dpl_buffer.sh; fi"
   ]
  },
  {
   "cell_type": "markdown",
   "metadata": {},
   "source": [
    "_If the Jupyter cells are not responsive or if they error out when you compile the code samples, please restart the Jupyter Kernel: \n",
    "\"Kernel->Restart Kernel and Clear All Outputs\" and compile the code samples again_"
   ]
  },
  {
   "cell_type": "markdown",
   "metadata": {},
   "source": [
    "## oneDPL with Unified Shared Memory\n",
    "The following examples demonstrate two ways to use the oneDPL algorithms with Unified Shared Memory (USM), with either using pointers directly to iterate or use vectors to iterate:\n",
    "- USM pointers\n",
    "- USM allocators\n",
    "\n",
    "If the same buffer is processed by several algorithms, explicitly wait for completion of each algorithm before passing the buffer to the next one. Also wait for completion before accessing the data at the host."
   ]
  },
  {
   "cell_type": "markdown",
   "metadata": {},
   "source": [
    "### oneDPL with USM Pointers\n",
    "`malloc_shared` will allocate memory which can be accessed on both host and device, this USM pointer can be used to iterate when using oneDPL algorithm by passing pointer to the start and end of allocation.\n",
    "\n",
    "The code below shows how oneDPL can be used with __USM__ pointer. Inspect code, there are no modifications necessary. \n",
    "1. Inspect the code cell below and click run ▶ to save the code to file\n",
    "2. Next run ▶ the cell in the __Build and Run__ section below the code to compile and execute the code."
   ]
  },
  {
   "cell_type": "code",
   "execution_count": null,
   "metadata": {},
   "outputs": [],
   "source": [
    "%%writefile lab/dpl_usm_pointer.cpp\n",
    "//==============================================================\n",
    "// Copyright © 2020 Intel Corporation\n",
    "//\n",
    "// SPDX-License-Identifier: MIT\n",
    "// =============================================================\n",
    "#include<dpstd/execution>\n",
    "#include<dpstd/algorithm>\n",
    "using namespace sycl;\n",
    "using namespace dpstd::execution;\n",
    "const int N = 4;\n",
    "\n",
    "int main() {\n",
    "  queue q;\n",
    "  std::cout << \"Device : \" << q.get_device().get_info<info::device::name>() << std::endl;\n",
    "    \n",
    "  //# USM allocation on device\n",
    "  int* data = malloc_shared<int>(N, q);\n",
    "    \n",
    "  //# Parallel STL algorithm using USM pointer\n",
    "  std::fill(make_device_policy(q), data, data + N, 20);\n",
    "  q.wait();\n",
    "    \n",
    "  for (int i = 0; i < N; i++) std::cout << data[i] << std::endl;\n",
    "  free(data, q);\n",
    "  return 0;\n",
    "}"
   ]
  },
  {
   "cell_type": "markdown",
   "metadata": {},
   "source": [
    "#### Build and Run\n",
    "Select the cell below and click run ▶ to compile and execute the code above:"
   ]
  },
  {
   "cell_type": "code",
   "execution_count": null,
   "metadata": {},
   "outputs": [],
   "source": [
    "! chmod 755 q; chmod 755 run_dpl_usm_pointer.sh;if [ -x \"$(command -v qsub)\" ]; then ./q run_dpl_usm_pointer.sh; else ./run_dpl_usm_pointer.sh; fi"
   ]
  },
  {
   "cell_type": "markdown",
   "metadata": {},
   "source": [
    "_If the Jupyter cells are not responsive or if they error out when you compile the code samples, please restart the Jupyter Kernel: \n",
    "\"Kernel->Restart Kernel and Clear All Outputs\" and compile the code samples again_"
   ]
  },
  {
   "cell_type": "markdown",
   "metadata": {},
   "source": [
    "### oneDPL with USM Allocators\n",
    "`usm_allocator` is a C++ allocator class for USM, it takes the data type and kind of allocation as template parameter. This allocator is passed to `std::vector` constructor and the oneDPL algorithm can now use vector iterators.\n",
    "\n",
    "The code below shows oneDPL with __USM Allocators__ with vector declaration. Inspect code, there are no modifications necessary. \n",
    "1. Inspect the code cell below and click run ▶ to save the code to file\n",
    "2. Next run ▶ the cell in the __Build and Run__ section below the code to compile and execute the code."
   ]
  },
  {
   "cell_type": "code",
   "execution_count": null,
   "metadata": {},
   "outputs": [],
   "source": [
    "%%writefile lab/dpl_usm_alloc.cpp\n",
    "//==============================================================\n",
    "// Copyright © 2020 Intel Corporation\n",
    "//\n",
    "// SPDX-License-Identifier: MIT\n",
    "// =============================================================\n",
    "#include<dpstd/execution>\n",
    "#include<dpstd/algorithm>\n",
    "using namespace sycl;\n",
    "using namespace dpstd::execution;\n",
    "const int N = 4;\n",
    "\n",
    "int main() {\n",
    "  queue q;\n",
    "  std::cout << \"Device : \" << q.get_device().get_info<info::device::name>() << std::endl;\n",
    "    \n",
    "  //# USM allocator \n",
    "  usm_allocator<int, usm::alloc::shared> alloc(q);\n",
    "  std::vector<int, decltype(alloc)> v(N, alloc);\n",
    "    \n",
    "  //# Parallel STL algorithm with USM allocator\n",
    "  std::fill(make_device_policy(q), v.begin(), v.end(), 20);\n",
    "  q.wait();\n",
    "    \n",
    "  for (int i = 0; i < v.size(); i++) std::cout << v[i] << std::endl;\n",
    "  return 0;\n",
    "}"
   ]
  },
  {
   "cell_type": "markdown",
   "metadata": {},
   "source": [
    "#### Build and Run\n",
    "Select the cell below and click run ▶ to compile and execute the code above:"
   ]
  },
  {
   "cell_type": "code",
   "execution_count": null,
   "metadata": {},
   "outputs": [],
   "source": [
    "! chmod 755 q; chmod 755 run_dpl_usm_alloc.sh;if [ -x \"$(command -v qsub)\" ]; then ./q run_dpl_usm_alloc.sh; else ./run_dpl_usm_alloc.sh; fi"
   ]
  },
  {
   "cell_type": "markdown",
   "metadata": {},
   "source": [
    "_If the Jupyter cells are not responsive or if they error out when you compile the code samples, please restart the Jupyter Kernel: \n",
    "\"Kernel->Restart Kernel and Clear All Outputs\" and compile the code samples again_"
   ]
  },
  {
   "cell_type": "markdown",
   "metadata": {},
   "source": [
    "# Summary\n",
    "In this module you will have learned the following:\n",
    "- What is Intel® oneAPI DPC++ Library and Why use it?\n",
    "- Usage of oneDPL for Heterogeneous Computing\n",
    "- Using oneDPL algorithm with Buffers and Unified Shared Memory\n",
    "\n"
   ]
  }
 ],
 "metadata": {
  "kernelspec": {
   "display_name": "Python 3.7 (Intel® oneAPI)",
   "language": "python",
   "name": "c009-intel_distribution_of_python_3_oneapi-beta05-python"
  },
  "language_info": {
   "codemirror_mode": {
    "name": "ipython",
    "version": 3
   },
   "file_extension": ".py",
   "mimetype": "text/x-python",
   "name": "python",
   "nbconvert_exporter": "python",
   "pygments_lexer": "ipython3",
   "version": "3.7.7"
  },
  "toc": {
   "base_numbering": 1,
   "nav_menu": {},
   "number_sections": true,
   "sideBar": true,
   "skip_h1_title": false,
   "title_cell": "Table of Contents",
   "title_sidebar": "Contents",
   "toc_cell": false,
   "toc_position": {
    "height": "525.6px",
    "left": "28px",
    "top": "137.8px",
    "width": "301.109px"
   },
   "toc_section_display": true,
   "toc_window_display": true
  }
 },
 "nbformat": 4,
 "nbformat_minor": 4
}
