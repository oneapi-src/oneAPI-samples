{
 "cells": [
  {
   "cell_type": "markdown",
   "metadata": {},
   "source": [
    "# Introduction to JupyterLab and Notebooks"
   ]
  },
  {
   "cell_type": "markdown",
   "metadata": {},
   "source": [
    "If you are familiar with Jupyter skip below and head to the first exercise.\n",
    "\n",
    "<video controls src=\"src/Introduction_to_Jupyter.mp4\" width=\"720\"/>"
   ]
  },
  {
   "cell_type": "markdown",
   "metadata": {},
   "source": [
    "__JupyterLab__ is a sequence of boxes referred to as \"cells\". Each cell will contain text, like this one, or C++ or Python code that may be executed as part of this tutorial. As you proceed, please note the following:\n",
    " \n",
    "* The active cell is indicated by the blue bar on the left. Click on a cell to select it.\n",
    " \n",
    "* Use the __\"run\"__ ▶ button at the top or __Shift+Enter__ to execute a selected cell, starting with this one.\n",
    "  * Note: If you mistakenly press just Enter, you will enter the editing mode for the cell. To exit editing mode and continue, press Shift+Enter.\n",
    "\n",
    "\n",
    "* Unless stated otherwise, the cells containing code within this tutorial MUST be executed in sequence.\n",
    " \n",
    "* You may save the tutorial at any time, which will save the output, but not the state. Saved Jupyter Notebooks will save sequence numbers which may make a cell appear to have been executed when it has not been executed for the new session. Because state is not saved, re-opening or __restarting a Jupyter Notebook__ will required re-executing all the executable steps, starting in order from the beginning.\n",
    " \n",
    "* If for any reason you need to restart the tutorial from the beginning, you may reset the state of the Jupyter Notebook and clear all output. Use the menu at the top to select __Kernel -> \"Restart Kernel and Clear All Outputs\"__\n",
    " \n",
    "* Cells containing Markdown can be executed and will render. However, there is no indication of execution, and it is not necessary to explicitly execute Markdown cells.\n",
    " \n",
    "* Cells containing executable code will have \"a [ ]:\" to the left of the cell:\n",
    "  * __[ ]__ blank indicates that the cell has not yet been executed.\n",
    "  * __[\\*]__ indicates that the cell is currently executing.\n",
    "  * Once a cell is done executing, a number will appear in the small brackets with each cell execution to indicate where in the sequence the cell has been executed. Any output (e.g. print()'s) from the code will appear below the cell."
   ]
  },
  {
   "cell_type": "markdown",
   "metadata": {},
   "source": [
    "### Code editing, Compiling and Running in Jupyter Notebooks\n",
    "This code shows a simple C++ Hello world. Inspect code, there are no modifications necessary:\n",
    "1. Inspect the code cell below and click run ▶ to save the code to file\n",
    "2. Next run ▶ the cell in the __Build and Run__ section below the code to compile and execute the code.\n"
   ]
  },
  {
   "cell_type": "code",
   "execution_count": null,
   "metadata": {},
   "outputs": [],
   "source": [
    "%%writefile src/hello.cpp\n",
    "#include <iostream>\n",
    "#define RESET   \"\\033[0m\"\n",
    "#define RED     \"\\033[31m\"    /* Red */\n",
    "#define BLUE    \"\\033[34m\"    /* Blue */\n",
    "\n",
    "int main(){\n",
    "    std::cout << RED << \"Hello World\" << RESET << std::endl;\n",
    "}"
   ]
  },
  {
   "cell_type": "markdown",
   "metadata": {},
   "source": [
    "### Build and Run\n",
    "Select the cell below and click run ▶ to compile and execute the code above:"
   ]
  },
  {
   "cell_type": "code",
   "execution_count": null,
   "metadata": {},
   "outputs": [],
   "source": [
    "! chmod 755 q; chmod 755 run_hello.sh;if [ -x \"$(command -v qsub)\" ]; then ./q run_hello.sh; else run_hello.sh; fi"
   ]
  },
  {
   "cell_type": "markdown",
   "metadata": {},
   "source": [
    "<html><body><span style=\"color:green\"><h1>Get started on Module 1</h1></span></body></html>\n",
    "\n",
    "[Click Here](../01_oneAPI_Intro/oneAPI_Intro.ipynb)"
   ]
  },
  {
   "cell_type": "markdown",
   "metadata": {},
   "source": [
    "### Refresh Your Jupyter Notebooks\n",
    "If it's been awhile since you started exploring the notebooks, you will likely need to update them for compatibility with Intel&reg; DevCloud for oneAPI and the Intel&reg; oneAPI DPC++ Compiler to keep up with the latest updates.\n",
    "\n",
    "Run the cell below to get latest and replace with latest version of oneAPI Essentials Modules:"
   ]
  },
  {
   "cell_type": "code",
   "execution_count": null,
   "metadata": {},
   "outputs": [],
   "source": [
    "!/data/oneapi_workshop/get_jupyter_notebooks.sh"
   ]
  },
  {
   "cell_type": "code",
   "execution_count": null,
   "metadata": {},
   "outputs": [],
   "source": []
  }
 ],
 "metadata": {
  "kernelspec": {
   "display_name": "Python 3.7 (Intel® oneAPI)",
   "language": "python",
   "name": "c009-intel_distribution_of_python_3_oneapi-beta05-python"
  },
  "language_info": {
   "codemirror_mode": {
    "name": "ipython",
    "version": 3
   },
   "file_extension": ".py",
   "mimetype": "text/x-python",
   "name": "python",
   "nbconvert_exporter": "python",
   "pygments_lexer": "ipython3",
   "version": "3.7.7"
  },
  "toc": {
   "base_numbering": 1,
   "nav_menu": {},
   "number_sections": true,
   "sideBar": true,
   "skip_h1_title": false,
   "title_cell": "Table of Contents",
   "title_sidebar": "Contents",
   "toc_cell": false,
   "toc_position": {
    "height": "calc(100% - 180px)",
    "left": "10px",
    "top": "150px",
    "width": "384.391px"
   },
   "toc_section_display": true,
   "toc_window_display": true
  }
 },
 "nbformat": 4,
 "nbformat_minor": 4
}