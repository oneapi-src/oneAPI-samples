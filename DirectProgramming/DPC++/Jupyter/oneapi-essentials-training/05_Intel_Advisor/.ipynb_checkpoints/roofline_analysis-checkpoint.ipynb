{
 "cells": [
  {
   "cell_type": "markdown",
   "metadata": {},
   "source": [
    "# Intel® Advisor - Roofline Analysis"
   ]
  },
  {
   "cell_type": "markdown",
   "metadata": {},
   "source": [
    "This sections demonstrates how to collect and generate a roofline report using Intel Advisor.\n",
    "\n",
    "##### Sections\n",
    "- [What is the Roofline Model?](#What-is-the-Roofline-Model?)\n",
    "- _Analysis:_ [Roofline Analysis Report](#Roofline-Analysis-Report)\n",
    "- [Finding Effective Optimization Strategies](#Finding-Effective-Optimization-Strategies)\n",
    "- [Command Line Options for GPU Roofline Analysis](#Command-Line-Options-for-GPU-Roofline-Analysis)\n",
    "- [Using Roofline Analysis on Intel GPU](#Using-Roofline-Analysis-on-Intel-GPU)"
   ]
  },
  {
   "cell_type": "markdown",
   "metadata": {},
   "source": [
    "## Learning Objectives\n",
    "- Explain how Intel® Advisor performs GPU Roofline Analysis.\n",
    "- Run the GPU Roofline Analysis using command line syntax.\n",
    "- Use GPU Roofline Analysis to identify effective optimization strategies.\n"
   ]
  },
  {
   "cell_type": "markdown",
   "metadata": {},
   "source": [
    "## What is the Roofline Model?"
   ]
  },
  {
   "cell_type": "markdown",
   "metadata": {},
   "source": [
    "A Roofline chart is a visual representation of application performance in relation to hardware limitations, including memory bandwidth and computational peaks."
   ]
  },
  {
   "cell_type": "markdown",
   "metadata": {},
   "source": [
    "## Requirements for a Roofline Model on a GPU\n",
    "\n",
    "  * Application must be at least partially running on a GPU\n",
    "   * Gen9 or Gen11 integrated graphics (gen9 or gen11)\n",
    "   * Offload must be implemented with OpenMP, SYCL, DPC++, or OpenCL\n",
    "  * A recent version of Intel® Advisor (Beta 4)\n",
    "  * Generating a Roofline Model on GPU generates a multi-level roofline\n",
    "   * A single loop generates several dots\n",
    "   * Each dot can be compared to its own memory (GTI/L3/DRAM/SLM)\n"
   ]
  },
  {
   "cell_type": "markdown",
   "metadata": {},
   "source": [
    "## Gen9 Memory Hierarchy\n",
    "\n",
    "![image](assets/gen9.png)"
   ]
  },
  {
   "cell_type": "markdown",
   "metadata": {},
   "source": [
    "## Advisor Command-Line for Collecting and Reporting \"roofline\""
   ]
  },
  {
   "cell_type": "code",
   "execution_count": null,
   "metadata": {},
   "outputs": [],
   "source": [
    "%%writefile advisor_roofline.sh\n",
    "#!/bin/bash\n",
    "source /opt/intel/inteloneapi/setvars.sh > /dev/null 2>&1\n",
    "export ADVIXE_EXPERIMENTAL=gpu-profiling\n",
    "advixe-cl –collect=survey --enable-gpu-profiling --project-dir=./advisor_roofline --search-dir src:r=. -- ./rtm_stencil\n",
    "advixe-cl –collect=tripcounts --stacks --flop --enable-gpu-profiling --project-dir=./advisor_roofline --search-dir src:r=. -- ./rtm_stencil\n",
    "advixe-cl --report=roofline --gpu --project-dir=./advisor_roofline --report-output=./advisor_roofline/roofline.html\n"
   ]
  },
  {
   "cell_type": "markdown",
   "metadata": {},
   "source": [
    "## Display Advisor \"roofline\" Report\n",
    "\n",
    "  * GPU Roofline Performance Insights\n",
    "  * Highlights poor performing loops\n",
    "  * Shows performance ‘headroom’  for each loop\n",
    "    * Which can be improved\n",
    "    * Which are worth improving\n",
    "  * Shows likely causes of bottlenecks\n",
    "    * Memory bound vs. compute bound\n",
    "    * Suggests next optimization steps\n"
   ]
  },
  {
   "cell_type": "markdown",
   "metadata": {},
   "source": [
    "## Roofline Analysis Report"
   ]
  },
  {
   "cell_type": "markdown",
   "metadata": {},
   "source": [
    "Let's run a roofline report -- this is another <b>live</b> report that is interactive."
   ]
  },
  {
   "cell_type": "markdown",
   "metadata": {},
   "source": [
    "[Intel Advisor Roofline report](assets/roofline.html)"
   ]
  },
  {
   "cell_type": "code",
   "execution_count": 1,
   "metadata": {},
   "outputs": [
    {
     "data": {
      "text/html": [
       "\n",
       "        <iframe\n",
       "            width=\"1024\"\n",
       "            height=\"769\"\n",
       "            src=\"assets/roofline.html\"\n",
       "            frameborder=\"0\"\n",
       "            allowfullscreen\n",
       "        ></iframe>\n",
       "        "
      ],
      "text/plain": [
       "<IPython.lib.display.IFrame at 0x7f9d122518d0>"
      ]
     },
     "execution_count": 1,
     "metadata": {},
     "output_type": "execute_result"
    }
   ],
   "source": [
    "import os\n",
    "os.system('/bin/echo $(whoami) is running DPCPP_Essentials Module5 -- Roofline_Analysis - 2 of 2 roofline.html')\n",
    "from IPython.display import IFrame\n",
    "IFrame(src='assets/roofline.html', width=1024, height=769)"
   ]
  },
  {
   "cell_type": "markdown",
   "metadata": {},
   "source": [
    "# Finding Effective Optimization Strategies\n",
    "\n",
    "GPU Roofline Performance Insights\n",
    "\n",
    "  * Highlights poor performing loops\n",
    "  * Shows performance ‘headroom’  for each loop\n",
    "   * Which can be improved\n",
    "   * Which are worth improving\n",
    "  * Shows likely causes of bottlenecks\n",
    "   * Memory bound vs. compute bound\n",
    "  * Suggests next optimization steps\n",
    "  \n",
    "  ![alt text](assets/roofline1.png \"Optimization Strategies.\")\n"
   ]
  },
  {
   "cell_type": "markdown",
   "metadata": {},
   "source": [
    "## Command Line Options for GPU Roofline Analysis\n",
    "\n",
    "The Roofline model on GPU is a technical preview feature and is not available by default. To enable it: \n",
    "```bash\n",
    "export ADVIXE_EXPERIMENTAL=gpu-profiling\n",
    "```\n",
    "\n",
    "To run the GPU Roofline analysis in the Intel® Advisor CLI:\n",
    "Run the Survey analysis with the <span style=\"color:blue\">--enable-gpu-profiling</span> option:\n",
    "```bash advixe-cl –collect=survey --enable-gpu-profiling --project-dir=<my_project_directory> --search-dir src:r=<my_source_directory> -- ./myapp [app_parameters]\n",
    "```\n",
    "Run the Trip Counts and FLOP analysis with <span style=\"color:blue\">--enable-gpu-profiling</span> option:\n",
    "```bash \n",
    "advixe-cl –collect=tripcounts --stacks --flop --enable-gpu-profiling --project-dir=<my_project_directory> --search-dir src:r=<my_source_directory> -- ./myapp [app_parameters]\n",
    "```\n",
    "\n",
    "Generate a GPU Roofline report:\n",
    "```bash \n",
    "advixe-cl --report=roofline --gpu --project-dir=<my_project_directory> --report-output=roofline.html\n",
    "```\n",
    "Open the generated <span style=\"color:blue\">roofline.html</span> in a web browser to visualize GPU performance.\n",
    "\n",
    "\n"
   ]
  },
  {
   "cell_type": "markdown",
   "metadata": {},
   "source": [
    "## Using Roofline Analysis on Intel GPU\n",
    "\n",
    "![alt text](assets/roofline2.png \"Roofline Analysis on Intel GPU.\")\n"
   ]
  },
  {
   "cell_type": "markdown",
   "metadata": {},
   "source": [
    "## Showing Dots for all Memory Sub-systems\n",
    "\n",
    "![alt text](assets/roofline3.png \"More info.\")"
   ]
  },
  {
   "cell_type": "markdown",
   "metadata": {},
   "source": [
    "## Add Labels\n",
    "\n",
    "![alt text](assets/roofline4.png \"Labeling.\")"
   ]
  },
  {
   "cell_type": "markdown",
   "metadata": {},
   "source": [
    "## Clean the View\n",
    "\n",
    "![alt text](assets/roofline5.png \"Clean View.\")"
   ]
  },
  {
   "cell_type": "markdown",
   "metadata": {},
   "source": [
    "## Show the Guidance\n",
    "\n",
    "![alt text](assets/roofline6.png \"Guidance.\")"
   ]
  },
  {
   "cell_type": "markdown",
   "metadata": {},
   "source": [
    "## Short Case Study\n",
    "\n",
    "First Analysis on Finite Difference Kernel\n",
    "\n",
    "  * An initial analysis shows that we are not maximizing the performance on any roofline.\n",
    "  * The code uses workgroups of 1x1x1 which prevents vectorization.\n",
    "  * An idea would be to manually control the work sent to the compute units in a way that we define the workgroups by ourselves and provide sizes that would at least match vectorization better.\n",
    "\n",
    "\n",
    "![alt text](assets/roofline7.png \"Analysis.\") \n",
    "    \n"
   ]
  },
  {
   "cell_type": "markdown",
   "metadata": {},
   "source": [
    "## Second Analysis on Finite Difference Kernel\n",
    "\n",
    "  * By using 4*8*8, the performance increases and we are now maximizing the throughput on L3.\n",
    "  * To optimize further, we need to find a way to modify arithmetic intensity of the L3 dot. \n",
    "  * Other analysis involves checking L3 cache misses and Vtune might also help to get a better performance.\n",
    "\n",
    " ![alt text](assets/roofline8.png \"Analysis.\") "
   ]
  },
  {
   "cell_type": "markdown",
   "metadata": {},
   "source": [
    "## Summary\n",
    "\n",
    "  * We ran a roofline report.\n",
    "  * Explored the features of the roofline report and learned how to interpret the report.\n",
    "  * Examined the information to determine where speedup opportunites exist."
   ]
  }
 ],
 "metadata": {
  "kernelspec": {
   "display_name": "Python 3.7 (Intel® oneAPI)",
   "language": "python",
   "name": "c009-intel_distribution_of_python_3_oneapi-beta05-python"
  },
  "language_info": {
   "codemirror_mode": {
    "name": "ipython",
    "version": 3
   },
   "file_extension": ".py",
   "mimetype": "text/x-python",
   "name": "python",
   "nbconvert_exporter": "python",
   "pygments_lexer": "ipython3",
   "version": "3.7.7"
  }
 },
 "nbformat": 4,
 "nbformat_minor": 4
}
