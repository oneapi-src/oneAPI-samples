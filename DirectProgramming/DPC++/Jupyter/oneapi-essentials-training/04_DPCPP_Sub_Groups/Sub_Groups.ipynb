{
 "cells": [
  {
   "cell_type": "markdown",
   "metadata": {
    "tags": []
   },
   "source": [
    "# Subgroups"
   ]
  },
  {
   "cell_type": "markdown",
   "metadata": {},
   "source": [
    "##### Sections\n",
    "- [What are Subgroups?](#What-are-Subgroups?)\n",
    "- [How a Subgroup Maps to Graphics Hardware](#How-a-Subgroup-Maps-to-Graphics-Hardware)\n",
    "- _Code:_ [Subgroup info](#Subgroup-info)\n",
    "- _Code:_ [Subgroup Size](#Subgroup-Size)\n",
    "- [Subgroup Functions and Algorithms](#Subgroup-Functions-and-Algorithms)\n",
    "- _Code:_ [Subgroup Shuffle](#Subgroup-Shuffle)\n",
    "- _Code:_ [Subgroup - Reduce](#Lab-Exercise:-Subgroup---Reduce)\n",
    "- _Code:_ [Subgroup - Broadcast](#Lab-Exercise:-Subgroup---Broadcast)\n",
    "- _Code:_ [Subgroup - Votes](#Lab-Exercise:-Subgroup---Votes)\n"
   ]
  },
  {
   "cell_type": "markdown",
   "metadata": {},
   "source": [
    "## Learning Objectives"
   ]
  },
  {
   "cell_type": "markdown",
   "metadata": {},
   "source": [
    "- Understand advantages of using Subgroups in Data Parallel C++ (DPC++)\n",
    "- Take advantage of Subgroup collectives in ND-Range kernel implementation\n",
    "- Use Subgroup Shuffle operations to avoid explicit memory operations"
   ]
  },
  {
   "cell_type": "markdown",
   "metadata": {},
   "source": [
    "## What are Subgroups?"
   ]
  },
  {
   "cell_type": "markdown",
   "metadata": {},
   "source": [
    "On many modern hardware platforms, __a subset of the work-items in a work-group__ are executed simultaneously or with additional scheduling guarantees. These subset of work-items are called subgroups. Leveraging subgroups will help to __map execution to low-level hardware__ and may help in achieving higher performance."
   ]
  },
  {
   "cell_type": "markdown",
   "metadata": {},
   "source": [
    "## Subgroups in ND-Range Kernel Execution"
   ]
  },
  {
   "cell_type": "markdown",
   "metadata": {},
   "source": [
    "Parallel execution with the ND_RANGE Kernel helps to group work items that map to hardware resources. This helps to __tune applications for performance__.\n",
    "\n",
    "The execution range of an ND-range kernel is divided into __work-groups__, __subgroups__ and __work-items__ as shown in picture below."
   ]
  },
  {
   "cell_type": "markdown",
   "metadata": {},
   "source": [
    "![ND-range kernel execution](assets/ndrange.png)"
   ]
  },
  {
   "cell_type": "markdown",
   "metadata": {},
   "source": [
    "## How a Subgroup Maps to Graphics Hardware"
   ]
  },
  {
   "cell_type": "markdown",
   "metadata": {},
   "source": [
    "| | |\n",
    "|:---:|:---|\n",
    "| __Work-item__ | Represents the individual instances of a kernel function. | \n",
    "| __Work-group__ | The entire iteration space is divided into smaller groups called work-groups, work-items within a work-group are scheduled on a single compute unit on hardware. | \n",
    "| __Subgroup__ | A subset of work-items within a work-group that are executed simultaneously, may be mapped to vector hardware. (DPC++) | \n"
   ]
  },
  {
   "cell_type": "markdown",
   "metadata": {},
   "source": [
    "The picture below shows how work-groups and subgroups map to __Intel® Gen11 Graphics Hardware__."
   ]
  },
  {
   "cell_type": "markdown",
   "metadata": {},
   "source": [
    "![ND-Range Hardware Mapping](assets/hwmapping.png)"
   ]
  },
  {
   "cell_type": "markdown",
   "metadata": {},
   "source": [
    "## Why use Subgroups?"
   ]
  },
  {
   "cell_type": "markdown",
   "metadata": {},
   "source": [
    "- Work-items in a sub-group can __communicate directly using shuffle operations__, without explicit memory operations.\n",
    "- Work-items in a sub-group can synchronize using sub-group barriers and __guarantee memory consistency__ using sub-group memory fences.\n",
    "- Work-items in a sub-group have access to __sub-group functions and algorithms__, providing fast implementations of common parallel patterns."
   ]
  },
  {
   "cell_type": "markdown",
   "metadata": {},
   "source": [
    "## sub_group class"
   ]
  },
  {
   "cell_type": "markdown",
   "metadata": {},
   "source": [
    "The subgroup handle can be obtained from the nd_item using the __get_sub_group()__"
   ]
  },
  {
   "cell_type": "markdown",
   "metadata": {},
   "source": [
    "```cpp\n",
    "        sycl::sub_group sg = nd_item.get_sub_group();\n",
    "\n",
    "                 OR\n",
    "\n",
    "        auto sg = nd_item.get_sub_group();\n",
    "```"
   ]
  },
  {
   "cell_type": "markdown",
   "metadata": {},
   "source": [
    "Once you have the subgroup handle, you can query for more information about the subgroup, do shuffle operations or use collective functions."
   ]
  },
  {
   "cell_type": "markdown",
   "metadata": {},
   "source": [
    "## Subgroup info"
   ]
  },
  {
   "cell_type": "markdown",
   "metadata": {},
   "source": [
    "The subgroup handle can be queried to get other information like number of work-items in subgroup, or number of subgroups in a work-group which will be needed for developers to implement kernel code using subgroups:\n",
    "- __get_local_id()__ returns the index of the work-item within its subgroup\n",
    "- __get_local_range()__ returns the size of sub_group \n",
    "- __get_group_id()__ returns the index of the subgroup\n",
    "- __get_group_range()__ returns the number of subgroups within the parent work-group\n",
    "\n",
    "\n",
    "```cpp\n",
    "    h.parallel_for(nd_range<1>(64,64), [=](nd_item<1> item){\n",
    "      /* get sub_group handle */\n",
    "      auto sg = item.get_sub_group();\n",
    "      /* query sub_group and print sub_group info once per sub_group */\n",
    "      if(sg.get_local_id()[0] == 0){\n",
    "        out << \"sub_group id: \" << sg.get_group_id()[0]\n",
    "            << \" of \" << sg.get_group_range()[0]\n",
    "            << \", size=\" << sg.get_local_range()[0] \n",
    "            << \"\\n\";\n",
    "      }\n",
    "    });\n",
    "```"
   ]
  },
  {
   "cell_type": "markdown",
   "metadata": {},
   "source": [
    "### Lab Exercise: Subgroup Info"
   ]
  },
  {
   "cell_type": "markdown",
   "metadata": {},
   "source": [
    "The DPC++ code below demonstrates subgroup query methods to print sub-group info: Inspect code, there are no modifications necessary:\n",
    "1. Inspect the code cell below and click run ▶ to save the code to file\n",
    "2. Next run ▶ the cell in the __Build and Run__ section below the code to compile and execute the code."
   ]
  },
  {
   "cell_type": "code",
   "execution_count": null,
   "metadata": {},
   "outputs": [],
   "source": [
    "%%writefile lab/sub_group_info.cpp\n",
    "//==============================================================\n",
    "// Copyright © 2020 Intel Corporation\n",
    "//\n",
    "// SPDX-License-Identifier: MIT\n",
    "// =============================================================\n",
    "#include <CL/sycl.hpp>\n",
    "using namespace sycl;\n",
    "\n",
    "static constexpr size_t N = 64; // global size\n",
    "static constexpr size_t B = 64; // work-group size\n",
    "\n",
    "int main() {\n",
    "  queue q;\n",
    "  std::cout << \"Device : \" << q.get_device().get_info<info::device::name>() << \"\\n\";\n",
    "\n",
    "  q.submit([&](handler &h) {\n",
    "    //# setup sycl stream class to print standard output from device code\n",
    "    auto out = stream(1024, 768, h);\n",
    "\n",
    "    //# nd-range kernel\n",
    "    h.parallel_for(nd_range<1>(N, B), [=](nd_item<1> item) {\n",
    "      //# get sub_group handle\n",
    "      auto sg = item.get_sub_group();\n",
    "\n",
    "      //# query sub_group and print sub_group info once per sub_group\n",
    "      if (sg.get_local_id()[0] == 0) {\n",
    "        out << \"sub_group id: \" << sg.get_group_id()[0] << \" of \"\n",
    "            << sg.get_group_range()[0] << \", size=\" << sg.get_local_range()[0]\n",
    "            << \"\\n\";\n",
    "      }\n",
    "    });\n",
    "  }).wait();\n",
    "}"
   ]
  },
  {
   "cell_type": "markdown",
   "metadata": {},
   "source": [
    "#### Build and Run\n",
    "Select the cell below and click run ▶ to compile and execute the code:"
   ]
  },
  {
   "cell_type": "code",
   "execution_count": null,
   "metadata": {},
   "outputs": [],
   "source": [
    "! chmod 755 q; chmod 755 run_sub_group_info.sh; if [ -x \"$(command -v qsub)\" ]; then ./q run_sub_group_info.sh; else ./run_sub_group_info.sh; fi"
   ]
  },
  {
   "cell_type": "markdown",
   "metadata": {},
   "source": [
    "_If the Jupyter cells are not responsive or if they error out when you compile the code samples, please restart the Jupyter Kernel: \n",
    "\"Kernel->Restart Kernel and Clear All Outputs\" and compile the code samples again_."
   ]
  },
  {
   "cell_type": "markdown",
   "metadata": {},
   "source": [
    "## Subgroup Size"
   ]
  },
  {
   "cell_type": "markdown",
   "metadata": {},
   "source": [
    "For tuning applications for performance, sub-group size may have to be set a specific value. For example Intel(R) GPU supports sub-groups sizes of 8, 16 and 32; by default the compiler implimentation will pick optimal sub-group size, but it can also be forced to use a specific value.\n",
    "\n",
    "The supported sub-group sizes for a GPU can be queried from device information as shown below:\n",
    "\n",
    "```cpp\n",
    "auto sg_sizes = q.get_device().get_info<info::device::sub_group_sizes>();\n",
    "                                                      ^\n",
    "```\n",
    "\n",
    "`reqd_sub_group_size(S)` allows setting a specific sub-group size to use for kernel execution, the specified value should be one of the supported sizes and must be a compile time constant value.\n",
    "\n",
    "```cpp\n",
    "    q.parallel_for(nd_range<1>(N, B), [=](nd_item<1> item)[[intel::reqd_sub_group_size(16)]] {\n",
    "                                                          ^\n",
    "        // Kernel Code\n",
    "        \n",
    "    }).wait();\n",
    "\n",
    "```"
   ]
  },
  {
   "cell_type": "markdown",
   "metadata": {},
   "source": [
    "### Lab Exercise: Subgroup Size"
   ]
  },
  {
   "cell_type": "markdown",
   "metadata": {},
   "source": [
    "The code below shows how to query for supported sub-group sizes, and also how to set kernel to use a specific supported sub-group size.\n",
    "\n",
    "The DPC++ code below demonstrates how to use reqd_sub_group_size() to let the kernel use a specified sub-group size, change the __`S = 32`__ to __16__ or __8__ to change sub_group sizes and check the output:\n",
    "\n",
    "1. Inspect the code cell below and click run ▶ to save the code to file.\n",
    "\n",
    "2. Next run ▶ the cell in the __Build and Run__ section below the code to compile and execute the code."
   ]
  },
  {
   "cell_type": "code",
   "execution_count": null,
   "metadata": {},
   "outputs": [],
   "source": [
    "%%writefile lab/sub_group_reqd_size.cpp\n",
    "//==============================================================\n",
    "// Copyright © 2020 Intel Corporation\n",
    "//\n",
    "// SPDX-License-Identifier: MIT\n",
    "// =============================================================\n",
    "#include <CL/sycl.hpp>\n",
    "using namespace sycl;\n",
    "\n",
    "static constexpr size_t N = 64; // global size\n",
    "static constexpr size_t B = 64; // work-group size\n",
    "\n",
    "int main() {\n",
    "  queue q;\n",
    "  std::cout << \"Device : \" << q.get_device().get_info<info::device::name>() << \"\\n\";\n",
    "\n",
    "  //# get all supported sub_group sizes and print\n",
    "  auto sg_sizes = q.get_device().get_info<info::device::sub_group_sizes>();\n",
    "  std::cout << \"Supported Sub-Group Sizes : \";\n",
    "  for (int i=0; i<sg_sizes.size(); i++) std::cout << sg_sizes[i] << \" \"; std::cout << \"\\n\";\n",
    "    \n",
    "  //# find out maximum supported sub_group size\n",
    "  auto max_sg_size = std::max_element(sg_sizes.begin(), sg_sizes.end());\n",
    "  std::cout << \"Max Sub-Group Size        : \" << max_sg_size[0] << \"\\n\";\n",
    "    \n",
    "  q.submit([&](handler &h) {\n",
    "    //# setup sycl stream class to print standard output from device code\n",
    "    auto out = stream(1024, 768, h);\n",
    "\n",
    "    //# nd-range kernel with user specified sub_group size\n",
    "    h.parallel_for(nd_range<1>(N, B), [=](nd_item<1> item)[[intel::reqd_sub_group_size(32)]] {\n",
    "      //# get sub_group handle\n",
    "      auto sg = item.get_sub_group();\n",
    "\n",
    "      //# query sub_group and print sub_group info once per sub_group\n",
    "      if (sg.get_local_id()[0] == 0) {\n",
    "        out << \"sub_group id: \" << sg.get_group_id()[0] << \" of \"\n",
    "            << sg.get_group_range()[0] << \", size=\" << sg.get_local_range()[0]\n",
    "            << \"\\n\";\n",
    "      }\n",
    "    });\n",
    "  }).wait();\n",
    "}"
   ]
  },
  {
   "cell_type": "markdown",
   "metadata": {},
   "source": [
    "#### Build and Run\n",
    "Select the cell below and click run ▶ to compile and execute the code:"
   ]
  },
  {
   "cell_type": "code",
   "execution_count": null,
   "metadata": {},
   "outputs": [],
   "source": [
    "! chmod 755 q; chmod 755 run_sub_group_reqd_size.sh; if [ -x \"$(command -v qsub)\" ]; then ./q run_sub_group_reqd_size.sh; else ./run_sub_group_reqd_size.sh; fi"
   ]
  },
  {
   "cell_type": "markdown",
   "metadata": {},
   "source": [
    "_If the Jupyter cells are not responsive or if they error out when you compile the code samples, please restart the Jupyter Kernel: \n",
    "\"Kernel->Restart Kernel and Clear All Outputs\" and compile the code samples again_."
   ]
  },
  {
   "cell_type": "markdown",
   "metadata": {},
   "source": [
    "## Subgroup Functions and Algorithms"
   ]
  },
  {
   "cell_type": "markdown",
   "metadata": {},
   "source": [
    "The sub-group functions and algorithms expose functionality tied to work-items within a sub-group.  \n",
    "\n",
    "Providing these implementations as library functions instead __increases developer productivity__ and gives implementations the ability to __generate highly optimized \n",
    "code__ for individual target devices.\n",
    "\n",
    "Below are some of the functions and algorithms available for sub-groups, they include useful fuctionalities to perform shuffles, reductions, scans and votes:\n",
    "\n",
    "- select_by_group\n",
    "- shift_group_left\n",
    "- shift_group_right\n",
    "- permute_group_by_xor\n",
    "- group_broadcast\n",
    "- reduce_over_group\n",
    "- exclusive_scan_over_group\n",
    "- inclusive_scan_over_group\n",
    "- any_of_group\n",
    "- all_of_group\n",
    "- none_of_group"
   ]
  },
  {
   "cell_type": "markdown",
   "metadata": {},
   "source": [
    "## Subgroup Shuffle"
   ]
  },
  {
   "cell_type": "markdown",
   "metadata": {},
   "source": [
    "One of the most useful features of subgroups is the ability to __communicate directly between individual work-items__ without explicit memory operations.\n",
    "\n",
    "Shuffle operations enable us to remove work-group local memory usage from our kernels and/or to __avoid unnecessary repeated accesses to global memory__.\n",
    "\n",
    "Below are the different types of shuffle operations available for sub-groups:\n",
    "- `select_by_group(sg, x, id)`\n",
    "- `shift_group_left(sg, x, delta)`\n",
    "- `shift_group_right(sg, x, delta)`\n",
    "- `permute_group_by_xor(sg, x, mask)`\n",
    "\n",
    "The code below uses `permute_group_by_xor` to swap the values of two work-items:\n",
    "\n",
    "```cpp\n",
    "    h.parallel_for(nd_range<1>(N,B), [=](nd_item<1> item){\n",
    "      auto sg = item.get_sub_group();\n",
    "      auto i = item.get_global_id(0);\n",
    "      /* Shuffles */\n",
    "      //data[i] = select_by_group(sg, data[i], 2);\n",
    "      //data[i] = shift_group_left(sg, data[i], 1);\n",
    "      //data[i] = shift_group_right(sg, data[i], 1);\n",
    "      data[i] = permute_group_by_xor(sg, data[i], 1);\n",
    "    });\n",
    "\n",
    "```\n",
    "\n",
    "<img src=\"assets/shuffle_xor.png\" alt=\"shuffle_xor\" width=\"300\"/>"
   ]
  },
  {
   "cell_type": "markdown",
   "metadata": {},
   "source": [
    "### Lab Exercise: Subgroup Shuffle"
   ]
  },
  {
   "cell_type": "markdown",
   "metadata": {},
   "source": [
    "The code below uses subgroup shuffle to swap items in a subgroup. You can try other shuffle operations or change the fixed constant in the shuffle function to express some common commuinication patterns using `permute_group_by_xor`.\n",
    "\n",
    "The DPC++ code below demonstrates sub-group shuffle operations, the code shows how `permute_group_by_xor` can be used to swap adjacent elements in sub-group, and also you can change the code to reverse the order of element in sub-group using a different mask.\n",
    "\n",
    "1. Inspect the code cell below and click run ▶ to save the code to file.\n",
    "\n",
    "2. Next run ▶ the cell in the __Build and Run__ section below the code to compile and execute the code."
   ]
  },
  {
   "cell_type": "code",
   "execution_count": null,
   "metadata": {},
   "outputs": [],
   "source": [
    "%%writefile lab/sub_group_shuffle.cpp\n",
    "//==============================================================\n",
    "// Copyright © 2020 Intel Corporation\n",
    "//\n",
    "// SPDX-License-Identifier: MIT\n",
    "// =============================================================\n",
    "#include <CL/sycl.hpp>\n",
    "using namespace sycl;\n",
    "\n",
    "static constexpr size_t N = 256; // global size\n",
    "static constexpr size_t B = 64;  // work-group size\n",
    "\n",
    "int main() {\n",
    "  queue q;\n",
    "  std::cout << \"Device : \" << q.get_device().get_info<info::device::name>() << \"\\n\";\n",
    "\n",
    "  //# initialize data array using usm\n",
    "  int *data = malloc_shared<int>(N, q);\n",
    "  for (int i = 0; i < N; i++) data[i] = i;\n",
    "  for (int i = 0; i < N; i++) std::cout << data[i] << \" \";\n",
    "  std::cout << \"\\n\\n\";\n",
    "\n",
    "  q.parallel_for(nd_range<1>(N, B), [=](nd_item<1> item) {\n",
    "    auto sg = item.get_sub_group();\n",
    "    auto i = item.get_global_id(0);\n",
    "\n",
    "    //# swap adjacent items in array using sub_group permute_group_by_xor\n",
    "    data[i] = permute_group_by_xor(sg, data[i], 1);\n",
    "      \n",
    "    //# reverse the order of items in sub_group using permute_group_by_xor\n",
    "    //data[i] = permute_group_by_xor(sg, data[i], sg.get_max_local_range()[0] - 1);\n",
    "      \n",
    "  }).wait();\n",
    "\n",
    "  for (int i = 0; i < N; i++) std::cout << data[i] << \" \";\n",
    "  std::cout << \"\\n\";\n",
    "\n",
    "  free(data, q);\n",
    "  return 0;\n",
    "}"
   ]
  },
  {
   "cell_type": "markdown",
   "metadata": {},
   "source": [
    "#### Build and Run\n",
    "Select the cell below and click run ▶ to compile and execute the code:"
   ]
  },
  {
   "cell_type": "code",
   "execution_count": null,
   "metadata": {},
   "outputs": [],
   "source": [
    "! chmod 755 q; chmod 755 run_sub_group_shuffle.sh; if [ -x \"$(command -v qsub)\" ]; then ./q run_sub_group_shuffle.sh; else ./run_sub_group_shuffle.sh; fi"
   ]
  },
  {
   "cell_type": "markdown",
   "metadata": {},
   "source": [
    "_If the Jupyter cells are not responsive or if they error out when you compile the code samples, please restart the Jupyter Kernel: \n",
    "\"Kernel->Restart Kernel and Clear All Outputs\" and compile the code samples again_."
   ]
  },
  {
   "cell_type": "markdown",
   "metadata": {},
   "source": [
    "### Lab Exercise: Subgroup - Reduce"
   ]
  },
  {
   "cell_type": "markdown",
   "metadata": {},
   "source": [
    "The code below uses subgroup `reduce_over_group` function to perform reduction for all items in a subgroup. \n",
    "\n",
    "```cpp\n",
    "    h.parallel_for(nd_range<1>(N,B), [=](nd_item<1> item){\n",
    "      auto sg = item.get_sub_group();\n",
    "      auto i = item.get_global_id(0);\n",
    "      /* Reduction Collective on Sub-group */\n",
    "      int result = reduce_over_group(sg, data[i], plus<>());\n",
    "      //int result = reduce_over_group(sg, data[i], maximum<>());\n",
    "      //int result = reduce_over_group(sg, data[i], minimum<>());\n",
    "    });\n",
    "\n",
    "```\n",
    "\n",
    "The DPC++ code below demonstrates sub-group collectives: Inspect code, you can change the operator \"_plus_\" to \"_maximum_\" or \"_minimum_\" and check output:\n",
    "\n",
    "1. Inspect the code cell below and click run ▶ to save the code to file.\n",
    "\n",
    "2. Next run ▶ the cell in the __Build and Run__ section below the code to compile and execute the code."
   ]
  },
  {
   "cell_type": "code",
   "execution_count": null,
   "metadata": {},
   "outputs": [],
   "source": [
    "%%writefile lab/sub_group_reduce.cpp\n",
    "//==============================================================\n",
    "// Copyright © 2020 Intel Corporation\n",
    "//\n",
    "// SPDX-License-Identifier: MIT\n",
    "// =============================================================\n",
    "#include <CL/sycl.hpp>\n",
    "using namespace sycl;\n",
    "\n",
    "static constexpr size_t N = 256; // global size\n",
    "static constexpr size_t B = 64;  // work-group size\n",
    "\n",
    "int main() {\n",
    "  queue q;\n",
    "  std::cout << \"Device : \" << q.get_device().get_info<info::device::name>() << \"\\n\";\n",
    "\n",
    "  //# initialize data array using usm\n",
    "  int *data = malloc_shared<int>(N, q);\n",
    "  for (int i = 0; i < N; i++) data[i] = i;\n",
    "  for (int i = 0; i < N; i++) std::cout << data[i] << \" \";\n",
    "  std::cout << \"\\n\\n\";\n",
    "\n",
    "  q.parallel_for(nd_range<1>(N, B), [=](nd_item<1> item) {\n",
    "    auto sg = item.get_sub_group();\n",
    "    auto i = item.get_global_id(0);\n",
    "\n",
    "    //# Add all elements in sub_group using sub_group collectives\n",
    "    int result = reduce_over_group(sg, data[i], plus<>());\n",
    "\n",
    "    //# write sub_group sum in first location for each sub_group\n",
    "    if (sg.get_local_id()[0] == 0) {\n",
    "      data[i] = result;\n",
    "    } else {\n",
    "      data[i] = 0;\n",
    "    }\n",
    "  }).wait();\n",
    "\n",
    "  for (int i = 0; i < N; i++) std::cout << data[i] << \" \";\n",
    "  std::cout << \"\\n\";\n",
    "\n",
    "  free(data, q);\n",
    "  return 0;\n",
    "}"
   ]
  },
  {
   "cell_type": "markdown",
   "metadata": {},
   "source": [
    "#### Build and Run\n",
    "Select the cell below and click run ▶ to compile and execute the code:"
   ]
  },
  {
   "cell_type": "code",
   "execution_count": null,
   "metadata": {},
   "outputs": [],
   "source": [
    "! chmod 755 q; chmod 755 run_sub_group_reduce.sh; if [ -x \"$(command -v qsub)\" ]; then ./q run_sub_group_reduce.sh; else ./run_sub_group_reduce.sh; fi"
   ]
  },
  {
   "cell_type": "markdown",
   "metadata": {},
   "source": [
    "_If the Jupyter cells are not responsive or if they error out when you compile the code samples, please restart the Jupyter Kernel: \n",
    "\"Kernel->Restart Kernel and Clear All Outputs\" and compile the code samples again_."
   ]
  },
  {
   "cell_type": "markdown",
   "metadata": {},
   "source": [
    "### Lab Exercise: Subgroup - Broadcast"
   ]
  },
  {
   "cell_type": "markdown",
   "metadata": {},
   "source": [
    "The code below uses subgroup collectives `group_broadcast` function, this enables one work-item in a group to share the value of a variable with all other work-items in the group.\n",
    "\n",
    "The DPC++ code below demonstrates sub-group broadcast function: Inspect code, there are no modifications necessary:\n",
    "\n",
    "1. Inspect the code cell below and click run ▶ to save the code to file.\n",
    "\n",
    "2. Next run ▶ the cell in the __Build and Run__ section below the code to compile and execute the code."
   ]
  },
  {
   "cell_type": "code",
   "execution_count": null,
   "metadata": {},
   "outputs": [],
   "source": [
    "%%writefile lab/sub_group_broadcast.cpp\n",
    "//==============================================================\n",
    "// Copyright © 2020 Intel Corporation\n",
    "//\n",
    "// SPDX-License-Identifier: MIT\n",
    "// =============================================================\n",
    "#include <CL/sycl.hpp>\n",
    "using namespace sycl;\n",
    "\n",
    "static constexpr size_t N = 256; // global size\n",
    "static constexpr size_t B = 64; // work-group size\n",
    "\n",
    "int main() {\n",
    "  queue q;\n",
    "  std::cout << \"Device : \" << q.get_device().get_info<info::device::name>() << \"\\n\";\n",
    "\n",
    "  //# initialize data array using usm\n",
    "  int *data = malloc_shared<int>(N, q);\n",
    "  for(int i=0; i<N; i++) data[i] = i;\n",
    "  for(int i=0; i<N; i++) std::cout << data[i] << \" \"; \n",
    "  std::cout << \"\\n\\n\";  \n",
    "\n",
    "  //# use parallel_for and sub_groups\n",
    "  q.parallel_for(nd_range<1>(N, B), [=](nd_item<1> item) {\n",
    "    auto sg = item.get_sub_group();\n",
    "    auto i = item.get_global_id(0);\n",
    "\n",
    "    //# write sub_group item values to broadcast value at index 3\n",
    "    data[i] = group_broadcast(sg, data[i], 3);\n",
    "\n",
    "  }).wait();\n",
    "\n",
    "  for(int i=0; i<N; i++) std::cout << data[i] << \" \"; \n",
    "  std::cout << \"\\n\";\n",
    "  \n",
    "  free(data, q);\n",
    "  return 0;\n",
    "}"
   ]
  },
  {
   "cell_type": "markdown",
   "metadata": {},
   "source": [
    "#### Build and Run\n",
    "Select the cell below and click run ▶ to compile and execute the code:"
   ]
  },
  {
   "cell_type": "code",
   "execution_count": null,
   "metadata": {},
   "outputs": [],
   "source": [
    "! chmod 755 q; chmod 755 run_sub_group_broadcast.sh; if [ -x \"$(command -v qsub)\" ]; then ./q run_sub_group_broadcast.sh; else ./run_sub_group_broadcast.sh; fi"
   ]
  },
  {
   "cell_type": "markdown",
   "metadata": {},
   "source": [
    "_If the Jupyter cells are not responsive or if they error out when you compile the code samples, please restart the Jupyter Kernel: \n",
    "\"Kernel->Restart Kernel and Clear All Outputs\" and compile the code samples again_."
   ]
  },
  {
   "cell_type": "markdown",
   "metadata": {},
   "source": [
    "### Lab Exercise: Subgroup - Votes"
   ]
  },
  {
   "cell_type": "markdown",
   "metadata": {},
   "source": [
    "The `any_of_group`, `all_of_group` and `none_of_group` functions (henceforth referred to collectively as\n",
    "“vote” functions) enable work-items to compare the result of a Boolean\n",
    "condition across their group.\n",
    "\n",
    "The DPC++ code below demonstrates sub-group collectives `any_of_group`, `all_of_group` and `none_of_group` functions: Inspect code, there are no modifications necessary:\n",
    "\n",
    "1. Inspect the code cell below and click run ▶ to save the code to file.\n",
    "\n",
    "2. Next run ▶ the cell in the __Build and Run__ section below the code to compile and execute the code."
   ]
  },
  {
   "cell_type": "code",
   "execution_count": null,
   "metadata": {},
   "outputs": [],
   "source": [
    "%%writefile lab/sub_group_votes.cpp\n",
    "//==============================================================\n",
    "// Copyright © 2020 Intel Corporation\n",
    "//\n",
    "// SPDX-License-Identifier: MIT\n",
    "// =============================================================\n",
    "#include <CL/sycl.hpp>\n",
    "using namespace sycl;\n",
    "\n",
    "static constexpr size_t N = 32; // global size\n",
    "static constexpr size_t B = 16; // work-group size\n",
    "\n",
    "int main() {\n",
    "  queue q;\n",
    "  std::cout << \"Device : \" << q.get_device().get_info<info::device::name>() << \"\\n\";\n",
    "\n",
    "  //# initialize input and output array using usm\n",
    "  auto input = malloc_shared<int>(N, q);\n",
    "  auto all = malloc_shared<int>(N, q);\n",
    "  auto any = malloc_shared<int>(N, q);\n",
    "  auto none = malloc_shared<int>(N, q);\n",
    "    \n",
    "  //# initialize values for input array  \n",
    "  for(int i=0; i<N; i++) { if (i< 10) input[i] = 0; else input[i] = i; }\n",
    "  std::cout << \"input:\\n\";\n",
    "  for(int i=0; i<N; i++) std::cout << input[i] << \" \"; std::cout << \"\\n\";  \n",
    "\n",
    "  //# use parallel_for and sub_groups\n",
    "  q.parallel_for(nd_range<1>(N, B), [=](nd_item<1> item)[[intel::reqd_sub_group_size(8)]] {\n",
    "    auto sg = item.get_sub_group();\n",
    "    auto i = item.get_global_id(0);\n",
    "\n",
    "    //# write items with vote functions\n",
    "    all[i] = all_of_group(sg, input[i]);\n",
    "    any[i] = any_of_group(sg, input[i]);\n",
    "    none[i] = none_of_group(sg, input[i]);\n",
    "\n",
    "  }).wait();\n",
    "\n",
    "  std::cout << \"all_of:\\n\";\n",
    "  for(int i=0; i<N; i++) std::cout << all[i] << \" \"; std::cout << \"\\n\";\n",
    "  std::cout << \"any_of:\\n\";\n",
    "  for(int i=0; i<N; i++) std::cout << any[i] << \" \"; std::cout << \"\\n\";\n",
    "  std::cout << \"none_of:\\n\";\n",
    "  for(int i=0; i<N; i++) std::cout << none[i] << \" \"; std::cout << \"\\n\";\n",
    "  \n",
    "  free(input, q);\n",
    "  free(all, q);\n",
    "  free(any, q);\n",
    "  free(none, q);\n",
    "  return 0;\n",
    "}"
   ]
  },
  {
   "cell_type": "markdown",
   "metadata": {},
   "source": [
    "#### Build and Run\n",
    "Select the cell below and click run ▶ to compile and execute the code:"
   ]
  },
  {
   "cell_type": "code",
   "execution_count": null,
   "metadata": {},
   "outputs": [],
   "source": [
    "! chmod 755 q; chmod 755 run_sub_group_votes.sh; if [ -x \"$(command -v qsub)\" ]; then ./q run_sub_group_votes.sh; else ./run_sub_group_votes.sh; fi"
   ]
  },
  {
   "cell_type": "markdown",
   "metadata": {},
   "source": [
    "_If the Jupyter cells are not responsive or if they error out when you compile the code samples, please restart the Jupyter Kernel: \n",
    "\"Kernel->Restart Kernel and Clear All Outputs\" and compile the code samples again_."
   ]
  },
  {
   "cell_type": "markdown",
   "metadata": {},
   "source": [
    "## Summary"
   ]
  },
  {
   "cell_type": "markdown",
   "metadata": {},
   "source": [
    "Subgroups allow kernel programming that maps executions at low-level hardware and may help in achieving higher levels of performance."
   ]
  },
  {
   "cell_type": "markdown",
   "metadata": {},
   "source": [
    "<html><body><span style=\"color:green\"><h1>Survey</h1></span></body></html>\n",
    "\n",
    "[We would appreciate any feedback you’d care to give, so that we can improve the overall training quality and experience. Thanks! ](https://intel.az1.qualtrics.com/jfe/form/SV_574qnSw6eggbn1z)"
   ]
  },
  {
   "cell_type": "markdown",
   "metadata": {},
   "source": [
    "<html><body><span style=\"color:Red\"><h1>Reset Notebook</h1></span></body></html>\n",
    "\n",
    "##### Should you be experiencing any issues with your notebook or just want to start fresh run the below cell.\n",
    "\n"
   ]
  },
  {
   "cell_type": "code",
   "execution_count": null,
   "metadata": {
    "jupyter": {
     "source_hidden": true
    }
   },
   "outputs": [],
   "source": [
    "from IPython.display import display, Markdown, clear_output\n",
    "import ipywidgets as widgets\n",
    "button = widgets.Button(\n",
    "    description='Reset Notebook',\n",
    "    disabled=False,\n",
    "    button_style='', # 'success', 'info', 'warning', 'danger' or ''\n",
    "    tooltip='This will update this notebook, overwriting any changes.',\n",
    "    icon='check' # (FontAwesome names without the `fa-` prefix)\n",
    ")\n",
    "out = widgets.Output()\n",
    "def on_button_clicked(_):\n",
    "      # \"linking function with output\"\n",
    "      with out:\n",
    "          # what happens when we press the button\n",
    "          clear_output()\n",
    "          !rsync -a --size-only /data/oneapi_workshop/oneAPI_Essentials/04_DPCPP_Sub_Groups/ ~/oneAPI_Essentials/04_DPCPP_Sub_Groups\n",
    "          print('Notebook reset -- now click reload on browser.')\n",
    "# linking button and function together using a button's method\n",
    "button.on_click(on_button_clicked)\n",
    "# displaying button and its output together\n",
    "widgets.VBox([button,out])"
   ]
  }
 ],
 "metadata": {
  "kernelspec": {
   "display_name": "Python 3.7 (Intel® oneAPI)",
   "language": "python",
   "name": "c009-intel_distribution_of_python_3_oneapi-beta05-python"
  },
  "language_info": {
   "codemirror_mode": {
    "name": "ipython",
    "version": 3
   },
   "file_extension": ".py",
   "mimetype": "text/x-python",
   "name": "python",
   "nbconvert_exporter": "python",
   "pygments_lexer": "ipython3",
   "version": "3.7.11"
  },
  "toc": {
   "base_numbering": 1,
   "nav_menu": {},
   "number_sections": true,
   "sideBar": true,
   "skip_h1_title": false,
   "title_cell": "Table of Contents",
   "title_sidebar": "Contents",
   "toc_cell": false,
   "toc_position": {
    "height": "calc(100% - 180px)",
    "left": "10px",
    "top": "150px",
    "width": "310.667px"
   },
   "toc_section_display": true,
   "toc_window_display": true
  }
 },
 "nbformat": 4,
 "nbformat_minor": 4
}

