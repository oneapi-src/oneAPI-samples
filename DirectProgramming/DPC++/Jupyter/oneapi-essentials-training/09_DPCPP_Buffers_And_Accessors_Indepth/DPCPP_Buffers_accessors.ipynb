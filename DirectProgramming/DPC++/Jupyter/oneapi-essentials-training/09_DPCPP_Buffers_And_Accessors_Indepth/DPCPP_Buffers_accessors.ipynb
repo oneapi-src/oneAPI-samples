{
 "cells": [
  {
   "cell_type": "markdown",
   "metadata": {},
   "source": [
    "# Explore Buffers and Accessors in depth"
   ]
  },
  {
   "cell_type": "markdown",
   "metadata": {},
   "source": [
    "##### Sections\n",
    "- [Buffers and Accessors](#Buffers-and-Accessors)\n",
    "- [Buffer creation](#Buffer-creation)\n",
    "    - _Code:_ [Buffer creation examples](#Buffer-creation-examples)\n",
    "- [Buffer Properties](#Buffer-Properties)\n",
    "    - _Code:_ [use_host_ptr](#use_host_ptr)\n",
    "    - _Code:_ [set_final_data](#set_final_data)\n",
    "    - _Code:_ [set_write_back](#set_write_back)\n",
    "- [Accessors](#Accessors)\n",
    "    - [Access modes](#Access-modes)    \n",
    "    - _Code:_ [noinit](#noinit)   \n",
    "    - _Code:_ [Host Accessors](#Host-Accessors)\n",
    "    - _Code:_ [Initialize buffer data using Host accessors](#Initialize-buffer-data-using-Host-accessors)    \n",
    "- [Additional topics on Buffers](#Additional-topics-on-Buffers)\n",
    "    - [Sub Buffers](#Sub-Buffers)\n",
    "    - [Uncommon ways to create Buffers](#Uncommon-ways-to-create-Buffers)\n",
    "    \n"
   ]
  },
  {
   "cell_type": "markdown",
   "metadata": {},
   "source": [
    "## Learning Objectives\n",
    "* Explain Buffers and Accessors in depth.\n",
    "* Understand the Sub buffers and how to create and use Sub buffers\n",
    "* Explain buffers properties and when to use_host_ptr, set_final_data and set_write_data \n",
    "* Explain Accessors and the modes of accessor creation\n",
    "* Explain host accessors and the different use cases of host accessors\n"
   ]
  },
  {
   "cell_type": "markdown",
   "metadata": {},
   "source": [
    "## Buffers and Accessors\n",
    "__Buffers__ are high level abstarction for data and these are accessbile either on the host machine or on the devices. Buffers encapsulate data in a SYCL application across both devices and host. __Accessors__ is the mechanism to access buffer data. Buffers are 1, 2 or 3 dimensional data.  \n",
    "\n",
    "One of the most important aspects of data parallel computations is how they access data to accelerate a computation.\n",
    "Accelerator devices often have their own attached memories that cannot be directly accessed from the host. Device and host can either share physical memory or have distinct memories. When the memories are distinct, offloading computation requires copying data between host and device. DPC++ does not require you to manage the data copies.\n",
    "\n",
    "By __creating Buffers and Accessors, DPC++ ensures that the data is available to host and device without any effort on your part__. DPC++ also allows you explicit control over data movement to achieve best peformance. Buffers are accessible on the host and may be accessible on multiple devices.\n",
    "\n",
    "USM forces programmers to think about where memory lives and what should be accessible where. The buffer abstraction is a higher-level model that hides this from the programmer. Buffers simply represent data, and it becomes the job of the runtime to \n",
    "manage how the data is stored and moved in memory.\n",
    "\n",
    "While buffers abstract how we represent and store data in a program,we do not directly access the data using the buffer. Instead, we use accessor objects that inform the runtime how we intend\tto use\n",
    "the data we are accessing.\n",
    "\n",
    "Buffers are accessible on the host and may be accessible on multiple devices.\n"
   ]
  },
  {
   "cell_type": "markdown",
   "metadata": {},
   "source": [
    "## Buffer creation\n",
    "\n",
    "The\tbuffer class is a template class with __three template arguments__. The first argument is the __type of the object__ that the buffer will contain. This type must be safe to copy byte by byte without using any special copy constructors.\n",
    "\n",
    "The second template argument is __an integer describing the dimensionality of the buffer__.\n",
    "\n",
    "The final template optional argument, is usually the __default value and this argument specifies a C++ style allocator class that is used to perform any memory allocations on the host__.\n",
    "\n",
    "__The choice of buffer creation depends on how the buffer needs to be used as well as programmer's coding preferences__. Below are some examples of most common wat how to create a buffer.\n",
    "\n",
    "* We can initialize __one-dimensional buffers using containers in two different ways__.\n",
    "\n",
    "* If the container object that provides the initial values for a buffer is also contiguous, then we can use an even simpler form to create the buffer. Buffer b1 creates a buffer from a __vector simply by passing the vector to the constructor__.\n",
    "\n",
    "The size of the buffer is the size of the container used to initialize it, and the type for the buffer data is the type of the container data.\n",
    "```\n",
    "  // Create a buffer of ints from an input iterator\n",
    "  std::vector<int> myVec;\n",
    "  buffer b1{myVec};\n",
    "```\n",
    "\n",
    "The below way uses __input iterators where we pass the beginning of the data and the other is the iterator to the end of the obejct__.  \n",
    "\n",
    "    \n",
    "* Buffer b2 is initailized using the start and end iterators as below. \n",
    "\n",
    "```\n",
    "  // Create a buffer of ints from an input iterator\n",
    "  std::vector<int> myVec;\n",
    "  buffer b2{myVec.begin(), myVec.end()};\n",
    "```\n",
    "\n",
    "* When creating the below  buffers, we let buffer allocate the memory it needs. We can also initialize the buffers with any values at the time of their creation instead of buffers allocating the memory. We can use buffers to effectively wrap existing C++ allocations by passing a source of initial values to the buffer constructor as below.\n",
    "\n",
    "    Buffer b3 creates a __one-dimensional buffer of 4 doubles__. We pass the host pointer to the C++ array myDoubles to the buffer constructor in addition to the range that specifies the size of the buffer. By passing a pointer to host memory we also need to make sure should not try to access the host memory during the lifetime of the buffer to avoid any data race conditions.\n",
    "\n",
    "```\n",
    "// Create a buffer of 4 doubles and initialize it from a host pointer\n",
    "  double myDoubles[4] = {1.1, 2.2, 3.3, 4.4};\n",
    "  buffer b3{myDoubles, range{4}};\n",
    "```"
   ]
  },
  {
   "cell_type": "markdown",
   "metadata": {},
   "source": [
    "### Buffer creation examples\n",
    "The DPC++ code below demonstrates different ways to create buffers: Inspect code, there are no modifications necessary:\n",
    "\n",
    "1. Inspect the code cell below and click run ▶ to save the code to file.\n",
    "\n",
    "2. Next run ▶ the cell in the __Build and Run__ section below the code to compile and execute the code."
   ]
  },
  {
   "cell_type": "code",
   "execution_count": null,
   "metadata": {},
   "outputs": [],
   "source": [
    "%%writefile lab/buffer_creation.cpp\n",
    "//==============================================================\n",
    "// Copyright © 2020 Intel Corporation\n",
    "//\n",
    "// SPDX-License-Identifier: MIT\n",
    "// =============================================================\n",
    "\n",
    "#include <CL/sycl.hpp>\n",
    "using namespace sycl;\n",
    "\n",
    "int main() {\n",
    "    \n",
    "   // Create a buffer of ints from an input iterator\n",
    "  std::vector<int> myVec;\n",
    "  buffer b1{myVec};\n",
    "  buffer b2{myVec.begin(), myVec.end()};\n",
    "  \n",
    "  // Create a buffer of ints from std::array\n",
    "  std::array<int,42> my_data;  \n",
    "  buffer b3{my_data};\n",
    "  \n",
    "  \n",
    "  // Create a buffer of 4 doubles and initialize it from a host pointer\n",
    "  double myDoubles[4] = {1.1, 2.2, 3.3, 4.4};\n",
    "  buffer b4{myDoubles, range{4}}; \n",
    "\n",
    "  return 0;\n",
    "}"
   ]
  },
  {
   "cell_type": "markdown",
   "metadata": {},
   "source": [
    "#### Build and Run\n",
    "Select the cell below and click run ▶ to compile and execute the code:"
   ]
  },
  {
   "cell_type": "code",
   "execution_count": null,
   "metadata": {},
   "outputs": [],
   "source": [
    "! chmod 755 q; chmod 755 run_buffer_creation.sh; if [ -x \"$(command -v qsub)\" ]; then ./q run_buffer_creation.sh; else ./run_buffer_creation.sh; fi"
   ]
  },
  {
   "cell_type": "markdown",
   "metadata": {},
   "source": [
    "## Buffer Properties\n",
    "Buffers simply represent data, and it becomes the job of the runtime to manage how the data is stored and moved in memory.\n",
    "\n",
    "While buffers abstract how we represent and store data in a program,we do not directly access the data using the buffer. Instead, we use accessor objects that inform the runtime how we intend\tto use the data we are accessing.\n",
    "\n",
    "Buffers are accessible on the host and may be accessible on multiple devices. Below are some of the properties of the buffer that the programmers can take advantage of"
   ]
  },
  {
   "cell_type": "markdown",
   "metadata": {},
   "source": [
    "### use_host_ptr\n",
    "The first property that may be optionally specified during buffer creation is use_host_ptr. __When present, this property requires the buffer to not allocate any memory on the host__, any allocator passed or specified is effectively ignored. Instead, the\n",
    "buffer should use the memory pointed to by a host pointer that is passed to the constructor.\n",
    "\n",
    "Also note that this property __may only be used when a host pointer is passed to the constructor__. \n",
    "\n",
    "This option can be useful when the program wants full control over all host memory allocations. \n",
    "```cpp\n",
    "int main() {\n",
    "queue q;\n",
    "int myInts[42];\n",
    "// create a buffer of 42 ints, initialize with a host pointer,\n",
    "// and add the use_host_pointer property\n",
    "buffer b1(myInts, range(42), property::use_host_ptr{});\n",
    "```"
   ]
  },
  {
   "cell_type": "markdown",
   "metadata": {},
   "source": [
    "The DPC++ code below demonstrates usage of use_host_ptr{} property: Inspect code, there are no modifications necessary:\n",
    "\n",
    "1. Inspect the code cell below and click run ▶ to save the code to file.\n",
    "\n",
    "2. Next run ▶ the cell in the __Build and Run__ section below the code to compile and execute the code."
   ]
  },
  {
   "cell_type": "code",
   "execution_count": null,
   "metadata": {},
   "outputs": [],
   "source": [
    "%%writefile lab/buffer_host_ptr.cpp\n",
    "//==============================================================\n",
    "// Copyright © 2020 Intel Corporation\n",
    "//\n",
    "// SPDX-License-Identifier: MIT\n",
    "// =============================================================\n",
    "#include <mutex>\n",
    "#include <CL/sycl.hpp>\n",
    "using namespace sycl;\n",
    "static const int N = 20;\n",
    "\n",
    "int main() {\n",
    "int myInts[N];\n",
    "queue q;\n",
    "//Initialize vector a,b and c\n",
    "std::vector<float> a(N, 10.0f);\n",
    "std::vector<float> b(N, 20.0f);\n",
    "\n",
    "auto R = range<1>(N);\n",
    "{\n",
    "    //Create host_ptr buffers for a and b\n",
    "    buffer buf_a(a,{property::buffer::use_host_ptr()});\n",
    "    buffer buf_b(b,{property::buffer::use_host_ptr()});    \n",
    "    \n",
    "    q.submit([&](handler& h) {\n",
    "        //create Accessors for a and b\n",
    "        accessor A(buf_a,h);\n",
    "        accessor B(buf_b,h,read_only);        \n",
    "        h.parallel_for(R, [=](auto i) { A[i] += B[1] ; });\n",
    "      });\n",
    "}\n",
    "    \n",
    "for (int i = 0; i < N; i++) std::cout << a[i] << \" \";\n",
    "return 0;\n",
    "}"
   ]
  },
  {
   "cell_type": "markdown",
   "metadata": {},
   "source": [
    "#### Build and Run\n",
    "Select the cell below and click run ▶ to compile and execute the code:"
   ]
  },
  {
   "cell_type": "code",
   "execution_count": null,
   "metadata": {},
   "outputs": [],
   "source": [
    "! chmod 755 q; chmod 755 run_hst_ptr.sh; if [ -x \"$(command -v qsub)\" ]; then ./q run_hst_ptr.sh; else ./run_hst_ptr.sh; fi"
   ]
  },
  {
   "cell_type": "markdown",
   "metadata": {},
   "source": [
    "_If the Jupyter cells are not responsive or if they error out when you compile the code samples, please restart the Jupyter Kernel: \n",
    "\"Kernel->Restart Kernel and Clear All Outputs\" and compile the code samples again_"
   ]
  },
  {
   "cell_type": "markdown",
   "metadata": {},
   "source": [
    "_If the Jupyter cells are not responsive or if they error out when you compile the code samples, please restart the Jupyter Kernel: \n",
    "\"Kernel->Restart Kernel and Clear All Outputs\" and compile the code samples again_"
   ]
  },
  {
   "cell_type": "markdown",
   "metadata": {},
   "source": [
    "### set_final_data\n",
    "\n",
    "Data in the buffer objects cannot be accessed directly and we must create accessors to access this data. We can query the buffer object to retrieve multiple characteristics of this object. We can query the range of a buffer, the total number of data elements it represents, query which allocator object is being used and whether the buffer is sub-buffer or not. \n",
    "\n",
    "Buffers can be initialized using a pointer to host memory and once the buffer is destructed the data is written back to the host memory. Updating the host memory is an important task when using the buffer. \n",
    "\n",
    "If a buffer is created and initialized from a host pointer to non-const data the same pointer is updated with the updated data when the buffer is destroyed. __The `set_final_data` method of a buffer is the way to update host memory however the buffer was created. When the buffer is destroyed, data will be written to the host using the supplied location.__\n",
    "\n",
    "The `set_final_data` method of a buffer is a template method that can accept either a raw pointer, a C++ OutputIterator, or a std::weak_ptr. \n",
    "\n",
    "Technically, a raw pointer is a\tspecial\tcase of\tan OutputIterator. If the parameter passed to set_final_data is\ta std::weak_ptr, the data is not written to the host if the pointer has\texpired, or already been deleted."
   ]
  },
  {
   "cell_type": "markdown",
   "metadata": {},
   "source": [
    "The DPC++ code below demonstrates usage of set_final_data() : Inspect code, there are no modifications necessary:\n",
    "\n",
    "1. Inspect the code cell below and click run ▶ to save the code to file.\n",
    "2. Next run ▶ the cell in the __Build and Run__ section below the code to compile and execute the code."
   ]
  },
  {
   "cell_type": "code",
   "execution_count": null,
   "metadata": {},
   "outputs": [],
   "source": [
    "%%writefile lab/buffer_set_final_data.cpp\n",
    "//==============================================================\n",
    "// Copyright © 2020 Intel Corporation\n",
    "//\n",
    "// SPDX-License-Identifier: MIT\n",
    "// =============================================================\n",
    "#include <CL/sycl.hpp>\n",
    "#include <array>\n",
    "using namespace sycl;\n",
    "constexpr int N = 42;\n",
    "\n",
    "int main() {\n",
    "  std::array<int,N> my_data;        \n",
    "  for (int i = 0; i < N; i++)\n",
    "        my_data[i] = i;     \n",
    " \n",
    "  auto buff = std::make_shared<std::array<int, N>>(); \n",
    "  \n",
    "  {\n",
    "    queue q;\n",
    "    buffer my_buffer(my_data);\n",
    "      \n",
    "    //Call the set_final_data to the created shared ptr where the values will be written back when the buffer gets destructed.\n",
    "    //my_buffer.set_final_data(nullptr);    \n",
    "    my_buffer.set_final_data(buff);   \n",
    "\n",
    "    q.submit([&](handler &h) {\n",
    "        // create an accessor to update\n",
    "        // the buffer on the device\n",
    "        accessor my_accessor(my_buffer, h);\n",
    "\n",
    "        h.parallel_for(N, [=](id<1> i) {\n",
    "            my_accessor[i]*=2;\n",
    "          });\n",
    "      });    \n",
    "  }\n",
    "\n",
    "  // myData is updated when myBuffer is\n",
    "  // destroyed upon exiting scope\n",
    " \n",
    "  for (int i = 0; i < N; i++) {\n",
    "    std::cout << my_data[i] << \" \";\n",
    "  }\n",
    "  std::cout << \"\\n\"; \n",
    "  for (int i = 0; i < N; i++) {\n",
    "    std::cout <<(*buff)[i] << \" \";\n",
    "  }\n",
    "  std::cout << \"\\n\"; \n",
    "  \n",
    "}"
   ]
  },
  {
   "cell_type": "markdown",
   "metadata": {},
   "source": [
    "#### Build and Run\n",
    "Select the cell below and click run ▶ to compile and execute the code:"
   ]
  },
  {
   "cell_type": "code",
   "execution_count": null,
   "metadata": {},
   "outputs": [],
   "source": [
    "! chmod 755 q; chmod 755 run_set_final_data.sh; if [ -x \"$(command -v qsub)\" ]; then ./q run_set_final_data.sh; else ./run_set_final_data.sh; fi"
   ]
  },
  {
   "cell_type": "markdown",
   "metadata": {},
   "source": [
    "### set_write_back\n",
    "\n",
    " __We can control whether or not writeback occurs from the device to the host by calling the set_write_back method__. This takes a boolen value and we can set it it to false if you do not want to have the results copied back to the host"
   ]
  },
  {
   "cell_type": "markdown",
   "metadata": {},
   "source": [
    "The DPC++ code below demonstrates usage of set_write_back() : Inspect code, there are no modifications necessary:\n",
    "\n",
    "1. Inspect the code cell below and click run ▶ to save the code to file.\n",
    "2. Next run ▶ the cell in the __Build and Run__ section below the code to compile and execute the code."
   ]
  },
  {
   "cell_type": "code",
   "execution_count": null,
   "metadata": {},
   "outputs": [],
   "source": [
    "%%writefile lab/buffer_set_write_back.cpp\n",
    "//==============================================================\n",
    "// Copyright © 2020 Intel Corporation\n",
    "//\n",
    "// SPDX-License-Identifier: MIT\n",
    "// =============================================================\n",
    "#include <CL/sycl.hpp>\n",
    "#include <array>\n",
    "using namespace sycl;\n",
    "constexpr int N = 42;\n",
    "\n",
    "int main() {\n",
    "  std::array<int,N> my_data;  \n",
    "        \n",
    "  for (int i = 0; i < N; i++)\n",
    "        my_data[i] = i;\n",
    "    \n",
    "  {\n",
    "    queue q(gpu_selector{});\n",
    "    buffer my_buffer(my_data);\n",
    "      \n",
    "    //Call the set_write_back method to control the data to be written back to the host from the device. e\n",
    "    //Setting it to false will not update the host with the updated values\n",
    "         \n",
    "    my_buffer.set_write_back(false);    \n",
    "\n",
    "    q.submit([&](handler &h) {\n",
    "        // create an accessor to update\n",
    "        // the buffer on the device\n",
    "        accessor my_accessor(my_buffer, h);\n",
    "\n",
    "        h.parallel_for(N, [=](id<1> i) {\n",
    "            my_accessor[i]*=2;\n",
    "          });\n",
    "      });    \n",
    "  }\n",
    "\n",
    "  // myData is updated when myBuffer is\n",
    "  // destroyed upon exiting scope\n",
    " \n",
    "  for (int i = 0; i < N; i++) {\n",
    "    std::cout << my_data[i] << \" \";\n",
    "  }\n",
    "  \n",
    "}"
   ]
  },
  {
   "cell_type": "markdown",
   "metadata": {},
   "source": [
    "#### Build and Run\n",
    "Select the cell below and click run ▶ to compile and execute the code:"
   ]
  },
  {
   "cell_type": "code",
   "execution_count": null,
   "metadata": {},
   "outputs": [],
   "source": [
    "! chmod 755 q; chmod 755 run_set_write_back.sh; if [ -x \"$(command -v qsub)\" ]; then ./q run_set_write_back.sh; else ./run_set_write_back.sh; fi"
   ]
  },
  {
   "cell_type": "markdown",
   "metadata": {},
   "source": [
    "# Accessors"
   ]
  },
  {
   "cell_type": "markdown",
   "metadata": {},
   "source": [
    "Data represented by a buffer cannot be directly accessed through the buffer object. Instead, we must create accessor objects that allow us to safely access a buffer’s data. Accessors inform the runtime where and how we want to access data, allowing the runtime to ensure that the right data is in the right place at the right time and the kernels dont run until the data is available.\n",
    "\n",
    "### Access modes\n",
    "\n",
    "When creating an accessor, we must inform the runtime how we are going to use it by\tspecifying an access mode as described in the below table.\n",
    "Access modes are how the runtime is able to perform implicit data movement.\n",
    "When the accessor is created with __access::mode::read_write__ we intend to both read and write to the buffer through the accessor. \n",
    "\n",
    "__read_only__ tells the runtime that the data needs to be available on the device before this kernel can begin executing. Similarly, __write_only__ lets the runtime know that we will modify the contents of a buffer and may need to copy the results back after computation has ended.\n",
    "\n",
    "The runtime uses accessors to order the use of data, but it can also use this data to optimize scheduling of kernels and data movement.\n",
    "\n",
    "| Access Mode | Description |\n",
    "|:---|:---|\n",
    "| __read_only__ | Read only Access|\n",
    "| __write_only__ | Write-only access. Previous contents not discarded |\n",
    "| __read_write__ | Read and Write access |\n"
   ]
  },
  {
   "cell_type": "markdown",
   "metadata": {},
   "source": [
    "### noinit \n",
    "\n",
    "The second new parameter that we pass to accessor is an optional accessor property. The property we pass,`noinit`,\n",
    "lets the runtime know that the previous contents of the buffer can be discarded. \n",
    "\n",
    "__The `noinit' property is useful because it can let the runtime eliminate unnecessary data movement__. In this example, since the first task is writing the initial values for our buffer, it’s unnecessary for the runtime to copy the uninitialized host memory to the device before the kernel executes.\n",
    "\n",
    "The `noinit` property is useful for this example, but it should not be used for read-modify-write cases or kernels where only some values in a buffer may be updated."
   ]
  },
  {
   "cell_type": "markdown",
   "metadata": {},
   "source": [
    "The DPC++ code below demonstrates creating accessors: Inspect code, there are no modifications necessary:\n",
    "\n",
    "1. Inspect the code cell below and click run ▶ to save the code to file\n",
    "2. Next run ▶ the cell in the __Build and Run__ section below the code to compile and execute the code."
   ]
  },
  {
   "cell_type": "code",
   "execution_count": null,
   "metadata": {},
   "outputs": [],
   "source": [
    "%%writefile lab/accessors_sample.cpp\n",
    "//==============================================================\n",
    "// Copyright © 2020 Intel Corporation\n",
    "//\n",
    "// SPDX-License-Identifier: MIT\n",
    "// =============================================================\n",
    "\n",
    "\n",
    "#include <CL/sycl.hpp>\n",
    "#include <cassert>\n",
    "using namespace sycl;\n",
    "constexpr int N = 42;\n",
    "\n",
    "int main() {\n",
    "  queue Q;\n",
    "\n",
    "  // Create 3 buffers of 42 ints\n",
    "  buffer<int> A{range{N}};\n",
    "  buffer<int> B{range{N}};\n",
    "  buffer<int> C{range{N}};  \n",
    "\n",
    "  Q.submit([&](handler &h) {\n",
    "      // create device accessors\n",
    "      accessor aA{A, h, write_only, noinit};\n",
    "      accessor aB{B, h, write_only, noinit};\n",
    "      accessor aC{C, h, write_only, noinit};\n",
    "      h.parallel_for(N, [=](id<1> i) {\n",
    "          aA[i] = 1;\n",
    "          aB[i] = 40;\n",
    "          aC[i] = 0;\n",
    "        });\n",
    "    });\n",
    "  Q.submit([&](handler &h) {\n",
    "      // create device accessors\n",
    "      accessor aA{A, h, read_only};\n",
    "      accessor aB{B, h, read_only};\n",
    "      accessor aC{C, h, read_write};\n",
    "      h.parallel_for(N, [=](id<1> i) { aC[i] += aA[i] + aB[i]; });\n",
    "    }); \n",
    "\n",
    "  host_accessor result{C, read_only};\n",
    "    \n",
    "  for (int i = 0; i < N; i++) std::cout << result[i] << \" \";  \n",
    "  \n",
    "  return 0;\n",
    "}"
   ]
  },
  {
   "cell_type": "markdown",
   "metadata": {},
   "source": [
    "### Build and Run\n",
    "Select the cell below and click run ▶ to compile and execute the code:"
   ]
  },
  {
   "cell_type": "code",
   "execution_count": null,
   "metadata": {},
   "outputs": [],
   "source": [
    "! chmod 755 q; chmod 755 run_accessor.sh;if [ -x \"$(command -v qsub)\" ]; then ./q run_accessor.sh; else ./run_accessor.sh; fi"
   ]
  },
  {
   "cell_type": "markdown",
   "metadata": {},
   "source": [
    "## Host Accessors\n",
    "\n",
    "The __Host Accessor__ is an accessor which uses host buffer access target. Host accessors perform two functions. First, they make __data available for access on the host__, as their name implies. Secondly, they __synchronize with the host__ by defining a new dependence between the currently accessing graph and the host. This ensures that the data that gets copied back to the host is the correct value of the computation the graph was performing. \n",
    "\n",
    "Buffer takes ownership of the data stored in vector. Creating host accessor is a __blocking call__ and execution on the host may not proceed past the creation of the host accessor until the data is available. Likewise, a buffer cannot be used on a device while a host accessor exists and keeps its data available, consider creating host accessors inside additional C++ scopes in order to free the data once the host accessor is no longer needed. This is an example of the next method for host synchronization.\n",
    "\n",
    "Certain objects in DPC++ have special behaviors when they are destroyed, and their destructors are invoked. We just learned how host accessors can tie up data on the host until they are destroyed. Buffers and images also have special behavior when they are\n",
    "destroyed or leave scope. \n",
    "\n",
    "When a buffer is destroyed, it waits for all command groups that use that buffer to finish execution. Once a buffer is no longer being used by any kernel or memory operation, the runtime may have to copy data back to the host. This copy occurs either if the buffer was initialized with a host pointer or if a host pointer was passed to the method set_final_data. The runtime will then copy back the data for that buffer and update the host pointer before the object is destroyed.\n",
    "\n",
    "\n",
    "\n",
    "The DPC++ code below demonstrates Synchronization with Host Accessor: Inspect code, there are no modifications necessary:\n",
    "\n",
    "\n",
    "1. Inspect the code cell below and click run ▶ to save the code to file\n",
    "\n",
    "2. Next run ▶ the cell in the __Build and Run__ section below the code to compile and execute the code.\n"
   ]
  },
  {
   "cell_type": "code",
   "execution_count": null,
   "metadata": {},
   "outputs": [],
   "source": [
    "%%writefile lab/host_accessor_sample.cpp\n",
    "//==============================================================\n",
    "// Copyright © 2020 Intel Corporation\n",
    "//\n",
    "// SPDX-License-Identifier: MIT\n",
    "// =============================================================\n",
    "\n",
    "#include <CL/sycl.hpp>\n",
    "#include <algorithm>\n",
    "#include <iostream>\n",
    "using namespace sycl;\n",
    "\n",
    "int main() {\n",
    "\n",
    "  static const int N = 1024;\n",
    "\n",
    "  // Set up queue on any available device\n",
    "  queue q;\n",
    "\n",
    "  // Create host containers to initialize on the host\n",
    "  std::vector<int> in_vec(N), out_vec(N);\n",
    "\n",
    "  // Initialize input and output vectors\n",
    "  for (int i=0; i < N; i++) in_vec[i] = i;\n",
    "  std::fill(out_vec.begin(), out_vec.end(), 0);\n",
    "\n",
    "  // Create buffers using host allocations (vector in this case)\n",
    "  buffer in_buf{in_vec}, out_buf{out_vec};\n",
    "\n",
    "  // Submit the kernel to the queue\n",
    "  q.submit([&](handler& h) {\n",
    "    accessor in{in_buf, h};\n",
    "    accessor out{out_buf, h};\n",
    "\n",
    "    h.parallel_for(range{N}, [=](id<1> idx) {\n",
    "      out[idx] = in[idx] * 2;\n",
    "    });\n",
    "  });\n",
    "\n",
    "  // Check that all outputs match expected value\n",
    "  // Use host accessor!  Buffer is still in scope / alive\n",
    "  host_accessor A{out_buf};\n",
    "\n",
    "  //for (int i=0; i<N; i++) std::cout << \"A[\" << i << \"]=\" << A[i] << \"\\n\";\n",
    "    \n",
    " int indices[]{0, 1, 2, 3, 4, (N - 1)};\n",
    " constexpr size_t indices_size = sizeof(indices) / sizeof(int); \n",
    "\n",
    "  for (int i = 0; i < indices_size; i++) {\n",
    "    int j = indices[i];\n",
    "    if (i == indices_size - 1) std::cout << \"...\\n\";\n",
    "    std::cout << \"A[\" << j << \"]=\" << A[j] << \"\\n\";\n",
    "  }\n",
    "\n",
    "  return 0;\n",
    "}\n"
   ]
  },
  {
   "cell_type": "markdown",
   "metadata": {},
   "source": [
    "### Build and Run\n",
    "Select the cell below and click run ▶ to compile and execute the code:"
   ]
  },
  {
   "cell_type": "code",
   "execution_count": null,
   "metadata": {},
   "outputs": [],
   "source": [
    "! chmod 755 q; chmod 755 run_host_accessor.sh;if [ -x \"$(command -v qsub)\" ]; then ./q run_host_accessor.sh; else ./run_host_accessor.sh; fi"
   ]
  },
  {
   "cell_type": "markdown",
   "metadata": {},
   "source": [
    "_If the Jupyter cells are not responsive or if they error out when you compile the code samples,please restart the Jupyter Kernel: \n",
    "\"Kernel->Restart Kernel and Clear All Outputs\" and compile the code samples again_"
   ]
  },
  {
   "cell_type": "markdown",
   "metadata": {},
   "source": [
    "### Initialize buffer data using Host accessors\n",
    "The below example shows how we can initialize the buffer data using host accessors. We created an input buffer (in_buf) and an output buffer (out_buf) and then created two separate host_accessors in_acc, out_acc. Please note that it is very important to create these host_accessors in a separate scope so that the buffer values are initialized properly. Once the host accessor scope ends we submit the job where we are assigning the values of the output buffer to the input buffer and the results are copied back to the host from the device using the other host accessor (A).\n",
    "\n",
    "\n",
    "The DPC++ code below demonstrates Synchronization with Host Accessor: Inspect code, there are no modifications necessary:\n",
    "\n",
    "\n",
    "1. Inspect the code cell below and click run ▶ to save the code to file\n",
    "\n",
    "2. Next run ▶ the cell in the __Build and Run__ section below the code to compile and execute the code.\n"
   ]
  },
  {
   "cell_type": "code",
   "execution_count": null,
   "metadata": {},
   "outputs": [],
   "source": [
    "%%writefile lab/host_accessor_init.cpp\n",
    "//==============================================================\n",
    "// Copyright © 2020 Intel Corporation\n",
    "//\n",
    "// SPDX-License-Identifier: MIT\n",
    "// =============================================================\n",
    "\n",
    "#include <CL/sycl.hpp>\n",
    "#include <algorithm>\n",
    "#include <iostream>\n",
    "using namespace sycl;\n",
    "\n",
    "int main() {\n",
    "\n",
    "\n",
    "  constexpr size_t N = 1024;\n",
    "\n",
    "  // Set up queue on any available device\n",
    "  queue q;\n",
    "\n",
    "  // Create buffers of size N\n",
    "  buffer<int> in_buf{N}, out_buf{N};\n",
    "\n",
    "  // Use host accessors to initialize the data\n",
    "  { // CRITICAL: Begin scope for host_accessor lifetime!\n",
    "    host_accessor in_acc{ in_buf }, out_acc{ out_buf };\n",
    "    for (int i=0; i < N; i++) {\n",
    "      in_acc[i] = i;\n",
    "      out_acc[i] = 0;\n",
    "    }\n",
    "  } //Close scope to make host accessors go out of scope!\n",
    "\n",
    "  // Submit the kernel to the queue\n",
    "  q.submit([&](handler& h) {\n",
    "    accessor in{in_buf, h};\n",
    "    accessor out{out_buf, h};\n",
    "\n",
    "    h.parallel_for(range{N}, [=](id<1> idx) {\n",
    "      out[idx] = in[idx];\n",
    "    });\n",
    "  });\n",
    "\n",
    "  // Check that all outputs match expected value\n",
    "  // Use host accessor!  Buffer is still in scope / alive\n",
    "  host_accessor A{out_buf};\n",
    "\n",
    "  //for (int i=0; i<N; i++) std::cout << \"A[\" << i << \"]=\" << A[i] << \"\\n\";\n",
    "  int indices[]{0, 1, 2, 3, 4, (N - 1)};\n",
    "  constexpr size_t indices_size = sizeof(indices) / sizeof(int); \n",
    "\n",
    "  for (int i = 0; i < indices_size; i++) {\n",
    "    int j = indices[i];\n",
    "    if (i == indices_size - 1) std::cout << \"...\\n\";\n",
    "    std::cout << \"A[\" << j << \"]=\" << A[j] << \"\\n\";\n",
    "  }\n",
    "\n",
    "  return 0;\n",
    "}\n"
   ]
  },
  {
   "cell_type": "markdown",
   "metadata": {},
   "source": [
    "### Build and Run\n",
    "Select the cell below and click run ▶ to compile and execute the code:"
   ]
  },
  {
   "cell_type": "code",
   "execution_count": null,
   "metadata": {},
   "outputs": [],
   "source": [
    "! chmod 755 q; chmod 755 run_host_accessor_init.sh;if [ -x \"$(command -v qsub)\" ]; then ./q run_host_accessor_init.sh; else ./run_host_accessor_init.sh.sh; fi"
   ]
  },
  {
   "cell_type": "markdown",
   "metadata": {},
   "source": [
    "_If the Jupyter cells are not responsive or if they error out when you compile the code samples,please restart the Jupyter Kernel: \n",
    "\"Kernel->Restart Kernel and Clear All Outputs\" and compile the code samples again_"
   ]
  },
  {
   "cell_type": "markdown",
   "metadata": {},
   "source": [
    "## Additional topics on Buffers"
   ]
  },
  {
   "cell_type": "markdown",
   "metadata": {},
   "source": [
    "### Sub Buffers\n",
    "\n",
    "Creating sub-buffers is another feature of the buffer class. It is possible to create a view of a buffer from another buffer, or a sub-buffer. A sub-buffer requires three things, a reference to a parent buffer, a base index, and the range of the sub-buffer. A sub-buffer cannot be created from a sub-buffer. Multiple sub-buffers can be created from the same buffer, and they are free to overlap. \n",
    "\n",
    "Buffer b10 is a two-dimensional buffer of integers with 5 integers per row. Next, we create two sub-buffers from buffer b10, sub-buffers b11 and b12. Buffer b11 starts at index (0,0) and contains every element in the first row. Similarly, buffer b12 starts at index (1,0) and contains every element in the second row, yielding two disjoint sub-buffers.\n",
    "\n",
    "__The main advantage of using the sub-buffers is since the sub-buffers do not overlap, different kernels can operate on different subbuffers concurrently.__\n",
    "\n",
    "```\n",
    "// Create a buffer of 2x5 ints and 2 non-overlapping sub-buffers of 5 ints.\n",
    "  buffer<int, 2> b10{range{2, 5}};\n",
    "  buffer b11{b10, id{0, 0}, range{1, 5}};\n",
    "  buffer b12{b10, id{1, 0}, range{1, 5}};\n",
    "```"
   ]
  },
  {
   "cell_type": "markdown",
   "metadata": {},
   "source": [
    "The DPC++ code below demonstrates Sub buffers: Inspect code, there are no modifications necessary:\n",
    "\n",
    "1. Inspect the code cell below and click run ▶ to save the code to file\n",
    "\n",
    "2. Next run ▶ the cell in the __Build and Run__ section below the code to compile and execute the code."
   ]
  },
  {
   "cell_type": "code",
   "execution_count": null,
   "metadata": {},
   "outputs": [],
   "source": [
    "%%writefile lab/sub_buffers.cpp\n",
    "//==============================================================\n",
    "// Copyright © 2020 Intel Corporation\n",
    "//\n",
    "// SPDX-License-Identifier: MIT\n",
    "// =============================================================\n",
    "\n",
    "#include <CL/sycl.hpp>\n",
    "\n",
    "using namespace sycl;\n",
    "\n",
    "int main() {\n",
    "    const int N = 64;\n",
    "    const int num1 = 2;\n",
    "    const int num2 = 3;\n",
    "    int data[N];\n",
    "    for (int i = 0; i < N; i++) data[i] = i;\n",
    "    \n",
    "    std::cout<<\"BUffer Values: \";    \n",
    "    for (int i = 0; i < N; i++) std::cout << data[i] << \" \"; \n",
    "    std::cout<<\"\\n\";\n",
    "    buffer B(data, range(N));\n",
    "\n",
    "    //Create sub buffers with offsets and half of the range. \n",
    "\n",
    "    buffer<int> B1(B, 0, range{ N / 2 });\n",
    "    buffer<int> B2(B, 32, range{ N / 2 });\n",
    "\n",
    "    //Multiply the  elemets in first sub buffer by 2 \n",
    "    queue q1;\n",
    "    q1.submit([&](handler& h) {\n",
    "        accessor a1(B1, h);\n",
    "        h.parallel_for(N/2, [=](auto i) { a1[i] *= num1; });\n",
    "    });\n",
    "\n",
    "    //Multiply the  elemets in second sub buffer by 3    \n",
    "    queue q2;\n",
    "    q2.submit([&](handler& h) {\n",
    "        accessor a2(B2, h);\n",
    "        h.parallel_for(N/2, [=](auto i) { a2[i] *= num2; });\n",
    "    });    \n",
    "    \n",
    "    //Host accessors to get the results back to the host from the device\n",
    "    host_accessor b1(B1, read_only);\n",
    "    host_accessor b2(B2, read_only);\n",
    "    \n",
    "    std::cout<<\"Sub Buffer1: \";\n",
    "    for (int i = 0; i < N/2; i++) std::cout<< b1[i] << \" \";\n",
    "    std::cout<<\"\\n\";\n",
    "    std::cout<<\"Sub Buffer2: \";\n",
    "    for (int i = 0; i < N/2; i++) std::cout << b2[i] << \" \";\n",
    "\n",
    "    return 0;\n",
    "}\n"
   ]
  },
  {
   "cell_type": "markdown",
   "metadata": {},
   "source": [
    "### Build and Run\n",
    "Select the cell below and click run ▶ to compile and execute the code:"
   ]
  },
  {
   "cell_type": "code",
   "execution_count": null,
   "metadata": {},
   "outputs": [],
   "source": [
    "! chmod 755 q; chmod 755 run_sub_buffer.sh;if [ -x \"$(command -v qsub)\" ]; then ./q run_sub_buffer.sh; else ./run_sub_buffer.sh; fi"
   ]
  },
  {
   "cell_type": "markdown",
   "metadata": {},
   "source": [
    "### Uncommon ways to create Buffers"
   ]
  },
  {
   "cell_type": "markdown",
   "metadata": {},
   "source": [
    "\n",
    "Below are the other additional ways to create a buffer and the below are __uncommon__. __The choice of buffer creation depends on how the buffer needs to be used as well as programmer's coding preferences__. Below are some examples of how to create a buffer.\n",
    "\n",
    "As discussed before , the buffer class is a template class with __three template arguments__. The first argument is the __type of the object__ that the buffer will contain, the second template argument is __an integer describing the dimensionality of the buffer__ and the final template optional argument, is usually the __default value__ and this argument specifies a C++ style allocator class that is used to perform any memory allocations on the host.\n",
    "\n",
    "\n",
    "* Buffer b1 is created based on modern C++ and is a __two-dimensional buffer of 10 integers that uses the default allocator__. Here we make use of C++17’s class template argument deduction (CTAD) to automatically infer some of the template arguments. \n",
    "    \n",
    "    In this case, we initialize buffer with a two-dimensional range to infer that it is a two-dimensional buffer. Please also note that the allocator template argument has a default value.\n",
    "    \n",
    "```\n",
    "  // Create a buffer of 2x5 ints using the default allocator and CTAD for range\n",
    "  buffer<int, 2> b1{range{2, 5}};\n",
    "```\n",
    "\n",
    "* Buffer b2 is similar to buffer b1 but here we use C++ CTAD to automatically infer that the buffer is one-dimensional.\n",
    "\n",
    "```\n",
    "  // Create a buffer of 20 floats of 1 dimension using a default-constructed std::allocator\n",
    "  buffer<float> b2{range{20}};\n",
    "```\n",
    "\n",
    "* If your application uses shared pointers, buffers can also be created using __C++ shared pointer objects__. This method of initialization will properly count the reference and ensure that the memory is not deallocated. Buffer b3 initializes a buffer from a single integer and initializes it using a shared pointer as below.\n",
    "\n",
    "```\n",
    "  // Create a buffer from a shared pointer to int\n",
    "  auto sharedPtr = std::make_shared<int>(42);\n",
    "  buffer b3{sharedPtr, range{1}};\n",
    "```\n",
    "\n",
    "\n",
    "* Buffer b4 is a two-dimensional buffer of integers with 5 integers per row. Next, we create two sub-buffers from buffer b4, sub-buffers b5 and b6. Buffer b5 starts at index (0,0) and contains every element in the first row. Similarly, buffer b6 starts at index (1,0) and contains every element in the second row, yielding two disjoint sub-buffers.\n",
    "\n",
    "```\n",
    "// Create a buffer of 2x5 ints and 2 non-overlapping sub-buffers of 5 ints.\n",
    "  buffer<int, 2> b4{range{2, 5}};\n",
    "  buffer b5{b4, id{0, 0}, range{1, 5}};\n",
    "  buffer b6{b4, id{1, 0}, range{1, 5}};\n",
    "```\n",
    "\n",
    "* In Buffer b7 we are initializing the buffer with a __pointer to const double__. In this case we can only read values through the host pointer, not write them. However, the type for our buffer while creation is still double, but not const double. This means that the buffer may be written to by a kernel, but we must use a different mechanism to update the host after the buffer gets destructed. \n",
    "\n",
    "```\n",
    "  // Create a buffer of 5 doubles and initialize it from a host pointer to\n",
    "  // const double\n",
    "  const double myConstDbls[5] = {1.0, 2.0, 3.0, 4.0, 5.0};\n",
    "  buffer b4{myConstDbls, range{5}};\n",
    "```\n",
    "\n",
    "\n"
   ]
  },
  {
   "cell_type": "markdown",
   "metadata": {},
   "source": [
    "### Buffer creation examples\n",
    "The DPC++ code below demonstrates different ways to create buffers: Inspect code, there are no modifications necessary:\n",
    "\n",
    "1. Inspect the code cell below and click run ▶ to save the code to file.\n",
    "\n",
    "2. Next run ▶ the cell in the __Build and Run__ section below the code to compile and execute the code."
   ]
  },
  {
   "cell_type": "code",
   "execution_count": null,
   "metadata": {},
   "outputs": [],
   "source": [
    "%%writefile lab/buffer_creation_uncommon.cpp\n",
    "//==============================================================\n",
    "// Copyright © 2020 Intel Corporation\n",
    "//\n",
    "// SPDX-License-Identifier: MIT\n",
    "// =============================================================\n",
    "\n",
    "#include <CL/sycl.hpp>\n",
    "using namespace sycl;\n",
    "\n",
    "int main() {\n",
    "  \n",
    "  // Create a buffer of 2x5 ints using the default allocator and CTAD for dimensions\n",
    "  buffer<int, 2> b1{range{2, 5}};\n",
    "    \n",
    "  //Dimensions defaults to 1\n",
    "\n",
    "  // Create a buffer of 20 floats using a default-constructed std::allocator\n",
    "  buffer<float> b2{range{20}};\n",
    "  \n",
    "  // Create a buffer from a shared pointer to int\n",
    "  auto sharedPtr = std::make_shared<int>(42);\n",
    "  buffer b3{sharedPtr, range{1}};\n",
    "  \n",
    "  // Create a buffer of 2x5 ints and 2 non-overlapping sub-buffers of 5 ints.\n",
    "  buffer<int, 2> b4{range{2, 5}};\n",
    "  buffer b5{b4, id{0, 0}, range{1, 5}};\n",
    "  buffer b6{b4, id{1, 0}, range{1, 5}};\n",
    "    \n",
    "  // Create a buffer of 5 doubles and initialize it from a host pointer to\n",
    "  // const double\n",
    "  const double myConstDbls[5] = {1.0, 2.0, 3.0, 4.0, 5.0};\n",
    "  buffer b7{myConstDbls, range{5}};   \n",
    "\n",
    "  return 0;\n",
    "}"
   ]
  },
  {
   "cell_type": "markdown",
   "metadata": {},
   "source": [
    "#### Build and Run\n",
    "Select the cell below and click run ▶ to compile and execute the code:"
   ]
  },
  {
   "cell_type": "code",
   "execution_count": null,
   "metadata": {},
   "outputs": [],
   "source": [
    "! chmod 755 q; chmod 755 run_buffer_creation_uncommon.sh; if [ -x \"$(command -v qsub)\" ]; then ./q run_buffer_creation_uncommon.sh; else ./run_buffer_creation_uncommon.sh; fi"
   ]
  },
  {
   "cell_type": "markdown",
   "metadata": {},
   "source": [
    "***\n",
    "# Summary\n",
    "\n",
    "In this module you learned:\n",
    "* Buffers and Accessors in Depth\n",
    "* Buffers properties and when to use_host_ptr, set_final_data and set_write_data\n",
    "* Sub buffers and how to create and use Sub buffers\n",
    "* How to create Accessors, host accessors and initialize buffer data using host accessors\n",
    "\n"
   ]
  }
 ],
 "metadata": {
  "kernelspec": {
   "display_name": "Python 3.7 (Intel® oneAPI)",
   "language": "python",
   "name": "c009-intel_distribution_of_python_3_oneapi-beta05-python"
  },
  "language_info": {
   "codemirror_mode": {
    "name": "ipython",
    "version": 3
   },
   "file_extension": ".py",
   "mimetype": "text/x-python",
   "name": "python",
   "nbconvert_exporter": "python",
   "pygments_lexer": "ipython3",
   "version": "3.7.10"
  },
  "toc": {
   "base_numbering": 1,
   "nav_menu": {},
   "number_sections": true,
   "sideBar": true,
   "skip_h1_title": false,
   "title_cell": "Table of Contents",
   "title_sidebar": "Contents",
   "toc_cell": false,
   "toc_position": {
    "height": "525.6px",
    "left": "28px",
    "top": "137.8px",
    "width": "301.09px"
   },
   "toc_section_display": true,
   "toc_window_display": true
  },
  "widgets": {
   "application/vnd.jupyter.widget-state+json": {
    "state": {},
    "version_major": 2,
    "version_minor": 0
   }
  }
 },
 "nbformat": 4,
 "nbformat_minor": 4
}
