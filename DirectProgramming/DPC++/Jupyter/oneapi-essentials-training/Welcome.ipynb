{
 "cells": [
  {
   "cell_type": "markdown",
   "metadata": {
    "tags": []
   },
   "source": [
    "# oneAPI C++ Essentials Modules"
   ]
  },
  {
   "cell_type": "markdown",
   "metadata": {
    "tags": []
   },
   "source": [
    "The concepts build on top of each other introducing and reinforcing the concepts of oneAPI and SYCL Programming.\n",
    "\n",
    "## Module 0 - [Introduction to Jupyter Notebook (Optional) ](00_Introduction_to_Jupyter/Introduction_to_Jupyter.ipynb)\n",
    "`Optional` This module explains how to use Jupyter Notebook which is used in all of the modules to edit and run coding excecises, this can be skipped if you are already familiar with using Jupyter Notebooks.\n",
    "\n",
    "## Module 1 - [Introduction to oneAPI and DPC++/SYCL ](01_oneAPI_Intro/oneAPI_Intro.ipynb)\n",
    "This module introduces you to oneAPI and oneAPI's implementation of SYCL (Data Parallel C++/DPC++). You will learn about basic SYCL hello world program and how to compile SYCL code for Intel hardware using Data Parallel C++ Compiler.\n",
    "\n",
    "## Module 2 - [SYCL Program Structure](02_DPCPP_Program_Structure/DPCPP_Program_Structure.ipynb)\n",
    "This module demonstrates basic __SYCL code anatomy__ and program structure. You will learn about important __SYCL classes__, different types of kernels. You will also learn about __Buffer Accessor memory model__ and synchronizations when using buffers.\n",
    "\n",
    "## Module 3 - [SYCL Unified Shared Memory](03_DPCPP_Unified_Shared_Memory/Unified_Shared_Memory.ipynb)\n",
    "This module demonstrates hows to implement different modes of __Unified Shared Memory (USM)__ in SYCL code, as well as demonstrate how to solve for data dependencies for in-order and out-of-order tasks.\n",
    "\n",
    "## Module 4 - [SYCL Subgroups](04_DPCPP_Sub_Groups/Sub_Groups.ipynb)\n",
    "This module demonstrates SYCL __Sub-groups__ and why they are important. The code samples demonstrate how to implement a query for sub-group info, sub-group shuffles and sub-group group alogorithms.\n",
    "\n",
    "## Module 5 - [Demonstration of Intel® Advisor](05_Intel_Advisor/offload_advisor.ipynb)\n",
    "This module demonstrates various aspects of __Intel® Advisor__. The first uses Intel® Advisor to show performance offload opportunities found in a sample application, and then additional command-line options for getting offload advisor results. \n",
    "The second, [roofline analysis](05_Intel_Advisor/roofline_analysis.ipynb), gives an example of __roofline analysis__ and command line options for getting advisor results.\n",
    "\n",
    "## Module 6 - [Intel® Vtune™ Profiler on DevCloud](06_Intel_VTune_Profiler/Intel_VTune_Profiler.ipynb)\n",
    "This module demonstrates using __Intel® Vtune™ Profiler on the command-line__ to collect and analyze gpu_hotspots. You will learn how to collect performance metrics and explore the results with the HTML output rendered inside of the notebook.  This module meant for exploration and familiarization, and does not require any code modification.\n",
    "\n",
    "## Module 7 - [Intel® oneAPI DPC++ Library](07_DPCPP_Library/oneDPL_Introduction.ipynb)\n",
    "This module demonstrates using __Intel® oneAPI DPC++ Library (oneDPL)__ for heterogeneous computing. You will learn how to use various Parallel STL algorithms for heterogeneous computing and also look at gamma-correction sample code that uses oneDPL.\n",
    "\n",
    "## Module 8 - [SYCL Kernel Reductions](08_DPCPP_Reduction/Reductions.ipynb)\n",
    "This module demonstrates how reductions can be parallelized. You will learn about __reduction group alogorithm__ and also __kernel reductions in SYCL___.\n",
    "\n",
    "## Module 9 - [SYCL Buffers and Accessors in depth](09_DPCPP_Buffers_And_Accessors_Indepth/DPCPP_Buffers_accessors.ipynb)\n",
    "This module demonstrates various ways to create __Buffers in SYCL__. You will learn how to use __sub-buffers__, buffer properties and when to use_host_ptr, set_final_data and set_write_data. You will also learn accessors, host_accessors and its usecases.\n",
    "\n",
    "## Module 10 - [SYCL Task Scheduling and Data Dependences](10_DPCPP_Graphs_Scheduling_Data_management/DPCPP_Task_Scheduling_Data_dependency.ipynb)\n",
    "This module demonstrates how to utilize USM and Buffers and accessors to apply Memory management and take control over __data movement implicitly and explicitly__, utilize different types of data dependences that are important for ensuring execution of graph scheduling. You will also learn to select the correct modes of __dependences in Graphs scheduling__.\n",
    "\n",
    "## Module 11 - [Intel® Distribution for GDB on DevCloud](11_Intel_Distribution_for_GDB/gdb_oneapi.ipynb)\n",
    "This module demonstrates how to use the Intel® Distribution for GDB to debug kernels running on GPUs."
   ]
  },
  {
   "cell_type": "code",
   "execution_count": null,
   "metadata": {},
   "outputs": [],
   "source": []
  }
 ],
 "metadata": {
  "kernelspec": {
   "display_name": "Python 3.8 (Intel® oneAPI)",
   "language": "python",
   "name": "c009-intel_distribution_of_python_3_oneapi-beta05-python"
  },
  "language_info": {
   "codemirror_mode": {
    "name": "ipython",
    "version": 3
   },
   "file_extension": ".py",
   "mimetype": "text/x-python",
   "name": "python",
   "nbconvert_exporter": "python",
   "pygments_lexer": "ipython3",
   "version": "3.9.10"
  },
  "toc": {
   "base_numbering": 1,
   "nav_menu": {},
   "number_sections": true,
   "sideBar": true,
   "skip_h1_title": false,
   "title_cell": "Table of Contents",
   "title_sidebar": "Contents",
   "toc_cell": false,
   "toc_position": {
    "height": "calc(100% - 180px)",
    "left": "10px",
    "top": "150px",
    "width": "384.391px"
   },
   "toc_section_display": true,
   "toc_window_display": true
  }
 },
 "nbformat": 4,
 "nbformat_minor": 4
}

