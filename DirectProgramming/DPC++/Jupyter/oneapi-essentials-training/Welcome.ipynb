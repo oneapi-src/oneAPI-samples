{
 "cells": [
  {
   "cell_type": "markdown",
   "metadata": {},
   "source": [
    "# oneAPI Essentials Modules"
   ]
  },
  {
   "cell_type": "markdown",
   "metadata": {},
   "source": [
    "The concepts build on top of each other introducing and reinforcing the concepts of Data Parallel C++.\n",
    "\n",
    "## Module 0 - [Introduction to Jupyter Notebook (Optional) ](00_Introduction_to_Jupyter/Introduction_to_Jupyter.ipynb)\n",
    "`Optional` This module explains how to use Jupyter Notebook which is used in all of the modules to edit and run coding excecises, this can be skipped if you are already familiar with using Jupyter Notebooks.\n",
    "\n",
    "## Module 1 - [Introduction to oneAPI and DPC++ ](01_oneAPI_Intro/oneAPI_Intro.ipynb)\n",
    "These initial hands-on exercises introduce you to DPC++ and the goal of oneAPI. In addition, it familiarizes you with the use of Jupyter notebooks as a front-end for all training exercises. This workshop is designed to be used on the DevCloud and includes details on how to submit batch jobs on DevCloud environment.\n",
    "\n",
    "## Module 2 - [DPC++ Program Structure](02_DPCPP_Program_Structure/DPCPP_Program_Structure.ipynb)\n",
    "These hands-on exercises present six basic DPC++ programs that illustrate the elements of a DPC++ application. You can modify the source code in some of the exercises to become more familiar with DPC++ programming concepts.\n",
    "\n",
    "## Module 3 - [DPC++ Unified Shared Memory](03_DPCPP_Unified_Shared_Memory/Unified_Shared_Memory.ipynb)\n",
    "These hands-on exercises show how to implement Unified Shared Memory (USM) in DPC++ code, as well as demonstrate how to solve for data dependencies for in-order and out-of-order queues.\n",
    "\n",
    "## Module 4 - [DPC++ Subgroups](04_DPCPP_Sub_Groups/Sub_Groups.ipynb)\n",
    "These hands-on exercises demonstrate the enhanced features that DPC++ brings to sub-groups. The code samples demonstrate how to implement a query for sub-group info, sub-group collectives, and sub-group shuffle operations.\n",
    "\n",
    "## Module 5 - [Demonstration of Intel® Advisor](05_Intel_Advisor/offload_advisor.ipynb)\n",
    "This set of hand-on exercises demonstrates various aspects of Intel® Advisor. The first uses Intel® Advisor to show performance offload opportunities found in a sample application, and then additional command-line options for getting offload advisor results. The second, [roofline analysis](05_Intel_Advisor/roofline_analysis.ipynb), gives an example of roofline analysis and command line options for getting advisor results. For both exercises, the results are rendered inside of the notebook. These notebooks are meant for exploration and familiarization, and do not require any cdoe modification.\n",
    "\n",
    "## Module 6 - [Intel® Vtune™ Profiler on DevCloud](06_Intel_VTune_Profiler/Intel_VTune_Profiler.ipynb)\n",
    "This hands-on exercise demonstrates using Intel® Vtune™ Profiler on the command-line to collect and analyze gpu_hotspots. You will learn how to collect performance metrics and explore the results with the HTML output rendered inside of the notebook.  This module meant for exploration and familiarization, and does not require any code modification.\n",
    "\n",
    "## Module 7 - [Intel® oneAPI DPC++ Library](07_DPCPP_Library/oneDPL_Introduction.ipynb)\n",
    "This hands-on exercise demonstrates using Intel® oneAPI DPC++ Library (oneDPL) for heterogeneous computing. You will learn how to use various Parallel STL algorithms for heterogeneous computing and also look at gamma-correction sample code that uses oneDPL."
   ]
  }
 ],
 "metadata": {
  "kernelspec": {
   "display_name": "Python 3.7 (Intel® oneAPI)",
   "language": "python",
   "name": "c009-intel_distribution_of_python_3_oneapi-beta05-python"
  },
  "language_info": {
   "codemirror_mode": {
    "name": "ipython",
    "version": 3
   },
   "file_extension": ".py",
   "mimetype": "text/x-python",
   "name": "python",
   "nbconvert_exporter": "python",
   "pygments_lexer": "ipython3",
   "version": "3.7.7"
  },
  "toc": {
   "base_numbering": 1,
   "nav_menu": {},
   "number_sections": true,
   "sideBar": true,
   "skip_h1_title": false,
   "title_cell": "Table of Contents",
   "title_sidebar": "Contents",
   "toc_cell": false,
   "toc_position": {
    "height": "calc(100% - 180px)",
    "left": "10px",
    "top": "150px",
    "width": "384.391px"
   },
   "toc_section_display": true,
   "toc_window_display": true
  }
 },
 "nbformat": 4,
 "nbformat_minor": 4
}
