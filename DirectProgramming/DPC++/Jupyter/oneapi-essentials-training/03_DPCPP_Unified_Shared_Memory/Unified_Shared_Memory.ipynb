{
 "cells": [
  {
   "cell_type": "markdown",
   "metadata": {},
   "source": [
    "# Unified Shared Memory (USM)"
   ]
  },
  {
   "cell_type": "markdown",
   "metadata": {},
   "source": [
    "##### Sections\n",
    "- [What is USM?](#What-is-Unified-Shared-Memory?)\n",
    "- [Types of USM](#Types-of-USM)\n",
    "- _Code:_ [Implicit USM](#USM-Implicit-Data-Movement)\n",
    "- _Code:_ [Explicit USM](#USM-Explicit-Data-Movement)\n",
    "- [Data Dependency in USM](#Data-dependency-in-USM)\n",
    "- _Code:_ [Data Dependency in-order queues](#Lab-Exercise:-USM-and-Data-dependency-1)\n",
    "- _Code:_ [Data Dependency out-of-order queues](#Lab-Exercise:-USM-and-Data-dependency-2)"
   ]
  },
  {
   "cell_type": "markdown",
   "metadata": {},
   "source": [
    "## Learning Objectives"
   ]
  },
  {
   "cell_type": "markdown",
   "metadata": {},
   "source": [
    "- Use new Data Parallel C++ (DPC++) features such as Unified Shared Memory to simplify programming.\n",
    "- Understand implicit and explicit way of moving memory using USM.\n",
    "- Solve data dependency between kernel tasks in optimal way."
   ]
  },
  {
   "cell_type": "markdown",
   "metadata": {},
   "source": [
    "## What is Unified Shared Memory?"
   ]
  },
  {
   "cell_type": "markdown",
   "metadata": {},
   "source": [
    "Unified Shared Memory (USM) is a DPC++ tool for data management. USM is a\n",
    "__pointer-based approach__ that should be familiar to C and C++ programmers who use malloc\n",
    "or new to allocate data. USM __simplifies development__ for the programmer when __porting existing\n",
    "C/C++ code__ to DPC++."
   ]
  },
  {
   "cell_type": "markdown",
   "metadata": {},
   "source": [
    "## Developer view of USM"
   ]
  },
  {
   "cell_type": "markdown",
   "metadata": {},
   "source": [
    "The picture below shows __developer view of memory__ without USM and with USM. \n",
    "\n",
    "With USM, the developer can reference that same memory object in host and device code.  "
   ]
  },
  {
   "cell_type": "markdown",
   "metadata": {},
   "source": [
    "![Developer View of USM](assets/usm_dev_view.png)"
   ]
  },
  {
   "cell_type": "markdown",
   "metadata": {},
   "source": [
    "## Types of USM"
   ]
  },
  {
   "cell_type": "markdown",
   "metadata": {},
   "source": [
    "Unified shared memory provides both __explicit__ and __implicit__ models for managing memory."
   ]
  },
  {
   "cell_type": "markdown",
   "metadata": {},
   "source": [
    "| Type | function call | Description | Accessible on Host | Accessible on Device |\n",
    "|:---|:---|:---|:---:|:---:|\n",
    "| Device | malloc_device | Allocation on device (explicit) | NO | YES |\n",
    "| Host | malloc_host |Allocation on host (implicit) | YES | YES |\n",
    "| Shared | malloc_shared | Allocation can migrate between host and device (implicit) | YES | YES |\n"
   ]
  },
  {
   "cell_type": "markdown",
   "metadata": {},
   "source": [
    "## USM Syntax"
   ]
  },
  {
   "cell_type": "markdown",
   "metadata": {},
   "source": [
    "__USM Initialization__:\n",
    "The initialization below shows example of shared allocation using `malloc_shared`, the \"q\" queue parameter provides information about the device that memory is accessable.\n",
    "```cpp\n",
    "int *data = malloc_shared<int>(N, q);\n",
    "                  ^               ^\n",
    "```\n",
    "\n",
    "OR you can use familiar C++/C style malloc:\n",
    "```cpp\n",
    "int *data = static_cast<int *>(malloc_shared(N * sizeof(int), q));\n",
    "                                     ^                        ^\n",
    "```\n",
    "\n",
    "__Freeing USM:__\n",
    "```cpp\n",
    "free(data, q);\n",
    "           ^\n",
    "```"
   ]
  },
  {
   "cell_type": "markdown",
   "metadata": {},
   "source": [
    "### USM Implicit Data Movement"
   ]
  },
  {
   "cell_type": "markdown",
   "metadata": {},
   "source": [
    "The DPC++ code below shows an implementation of USM using <code>malloc_shared</code>, in which data movement happens implicitly between host and device. Useful to __get functional quickly with minimum amount of code__ and developers will not having worry about moving memory between host and device.\n",
    "\n",
    "The DPC++ code below demonstrates USM Implicit Data Movement: Inspect code, there are no modifications necessary:\n",
    "\n",
    "1. Inspect the code cell below and click run ▶ to save the code to file.\n",
    "\n",
    "2. Next run ▶ the cell in the __Build and Run__ section below the code to compile and execute the code."
   ]
  },
  {
   "cell_type": "code",
   "execution_count": null,
   "metadata": {},
   "outputs": [],
   "source": [
    "%%writefile lab/usm.cpp\n",
    "//==============================================================\n",
    "// Copyright © 2020 Intel Corporation\n",
    "//\n",
    "// SPDX-License-Identifier: MIT\n",
    "// =============================================================\n",
    "#include <CL/sycl.hpp>\n",
    "using namespace sycl;\n",
    "\n",
    "static const int N = 16;\n",
    "\n",
    "int main() {\n",
    "  queue q;\n",
    "  std::cout << \"Device : \" << q.get_device().get_info<info::device::name>()\n",
    "            << std::endl;\n",
    "\n",
    "  //# USM allocation using malloc_shared\n",
    "  int *data = malloc_shared<int>(N, q);\n",
    "\n",
    "  //# Initialize data array\n",
    "  for (int i = 0; i < N; i++) data[i] = i;\n",
    "\n",
    "  //# Modify data array on device\n",
    "  q.parallel_for(range<1>(N), [=](id<1> i) { data[i] *= 2; }).wait();\n",
    "\n",
    "  //# print output\n",
    "  for (int i = 0; i < N; i++) std::cout << data[i] << std::endl;\n",
    "  free(data, q);\n",
    "  return 0;\n",
    "}"
   ]
  },
  {
   "cell_type": "markdown",
   "metadata": {},
   "source": [
    "#### Build and Run\n",
    "Select the cell below and click run ▶ to compile and execute the code:"
   ]
  },
  {
   "cell_type": "code",
   "execution_count": null,
   "metadata": {},
   "outputs": [],
   "source": [
    "! chmod 755 q; chmod 755 run_usm.sh; if [ -x \"$(command -v qsub)\" ]; then ./q run_usm.sh; else ./run_usm.sh; fi"
   ]
  },
  {
   "cell_type": "markdown",
   "metadata": {},
   "source": [
    "_If the Jupyter cells are not responsive, or if they error out when you compile the code samples, please restart the Jupyter Kernel: \n",
    "\"Kernel->Restart Kernel and Clear All Outputs\" and compile the code samples again_."
   ]
  },
  {
   "cell_type": "markdown",
   "metadata": {},
   "source": [
    "### USM Explicit Data Movement"
   ]
  },
  {
   "cell_type": "markdown",
   "metadata": {},
   "source": [
    "The DPC++ code below shows an implementation of USM using <code>malloc_device</code>, in which data movement between host and device should be done explicitly by developer using <code>memcpy</code>. This allows developers to have more __controlled movement of data__ between host and device.\n",
    "\n",
    "The DPC++ code below demonstrates USM Explicit Data Movement: Inspect code, there are no modifications necessary:\n",
    "\n",
    "1. Inspect the code cell below and click run ▶ to save the code to file.\n",
    "\n",
    "2. Next run ▶ the cell in the __Build and Run__ section below the code to compile and execute the code."
   ]
  },
  {
   "cell_type": "code",
   "execution_count": null,
   "metadata": {},
   "outputs": [],
   "source": [
    "%%writefile lab/usm_explicit.cpp\n",
    "//==============================================================\n",
    "// Copyright © 2020 Intel Corporation\n",
    "//\n",
    "// SPDX-License-Identifier: MIT\n",
    "// =============================================================\n",
    "#include <CL/sycl.hpp>\n",
    "using namespace sycl;\n",
    "\n",
    "static const int N = 16;\n",
    "\n",
    "int main() {\n",
    "  queue q;\n",
    "  int *data = static_cast<int *>(malloc(N * sizeof(int)));\n",
    "  for (int i = 0; i < N; i++) data[i] = i;\n",
    "\n",
    "  //# Explicit USM allocation using malloc_device\n",
    "  int *data_device = static_cast<int *>(malloc_device(N * sizeof(int), q));\n",
    "\n",
    "  //# copy mem from host to device\n",
    "  auto e1 = q.memcpy(data_device, data, sizeof(int) * N);\n",
    "\n",
    "  //# update device memory\n",
    "  auto e2 = q.submit([&](handler &h) {\n",
    "    h.depends_on(e1);\n",
    "    h.parallel_for(range<1>(N), [=](id<1> i) { data_device[i] *= 2; });\n",
    "  });\n",
    "\n",
    "  //# copy mem from device to host\n",
    "  q.submit([&](handler &h) {\n",
    "     h.depends_on(e2);\n",
    "     h.memcpy(data, data_device, sizeof(int) * N);\n",
    "  }).wait();\n",
    "\n",
    "  //# print output\n",
    "  for (int i = 0; i < N; i++) std::cout << data[i] << std::endl;\n",
    "  free(data_device, q);\n",
    "  free(data);\n",
    "  return 0;\n",
    "}"
   ]
  },
  {
   "cell_type": "markdown",
   "metadata": {},
   "source": [
    "#### Build and Run\n",
    "Select the cell below and click run ▶ to compile and execute the code:"
   ]
  },
  {
   "cell_type": "code",
   "execution_count": null,
   "metadata": {},
   "outputs": [],
   "source": [
    "! chmod 755 q; chmod 755 run_usm_explicit.sh; if [ -x \"$(command -v qsub)\" ]; then ./q run_usm_explicit.sh; else ./run_usm_explicit.sh; fi"
   ]
  },
  {
   "cell_type": "markdown",
   "metadata": {},
   "source": [
    "_If the Jupyter cells are not responsive, or if they error out when you compile the code samples, please restart the Jupyter Kernel: \n",
    "\"Kernel->Restart Kernel and Clear All Outputs\" and compile the code samples again_."
   ]
  },
  {
   "cell_type": "markdown",
   "metadata": {},
   "source": [
    "## When to use USM?"
   ]
  },
  {
   "cell_type": "markdown",
   "metadata": {},
   "source": [
    "__SYCL*__ Buffers are __powerful and elegant__. Use them  if the abstraction applies cleanly in your application, and/or if buffers aren’t disruptive to your development. However, replacing all pointers and arrays with buffers in a C++ program can be a burden to programmers so in this case consider using USM.\n",
    "\n",
    "__USM__ provides a familiar pointer-based C++ interface:\n",
    "* Useful when __porting C++ code__ to DPC++ by minimizing changes\n",
    "* Use shared allocations when porting code to __get functional quickly__. Note that shared allocation is not intended to provide peak performance out of box.\n",
    "* Use explicit USM allocations when __controlled data movement__ is needed."
   ]
  },
  {
   "cell_type": "markdown",
   "metadata": {},
   "source": [
    "## Data dependency in USM"
   ]
  },
  {
   "cell_type": "markdown",
   "metadata": {},
   "source": [
    "When using unified shared memory, dependences between tasks must be specified using events since tasks execute asynchronously and mulitple tasks can execute simultaneously. \n",
    "\n",
    "Programmers may either explicitly <code>wait</code> on event objects or use the <code>depends_on</code> method inside a command group to specify a list of events that must complete before a task may begin.\n",
    "\n",
    "In the example below, the two kernel tasks are updating the same `data` array, these two kernels can execute simultanously and may cause undesired result. The first task must be complete before the second can begin, the next section will show different ways the data dependency can be resolved.\n",
    "```cpp\n",
    "    q.parallel_for(range<1>(N), [=](id<1> i) { data[i] += 2; });\n",
    "\n",
    "    q.parallel_for(range<1>(N), [=](id<1> i) { data[i] += 3; });\n",
    "\n",
    "```\n",
    "\n",
    "### Different options to manage **data dependency** when using USM:\n",
    "- __wait()__ on kernel task\n",
    "- use __in_queue__ queue property\n",
    "- use __depends_on__ method\n",
    "\n",
    "#### wait()\n",
    "- Use __q.wait()__ on kernel task to wait before the next dependent task can begin, however it will block execution on host.\n",
    "\n",
    "```cpp\n",
    "    q.parallel_for(range<1>(N), [=](id<1> i) { data[i] += 2; });\n",
    "    q.wait();  // <--- wait() will make sure that task is complete before continuing\n",
    "\n",
    "    q.parallel_for(range<1>(N), [=](id<1> i) { data[i] += 3; });\n",
    "\n",
    "```\n",
    "\n",
    "#### in_order queue property\n",
    "- Use __in_queue__ queue property for the queue, this will serialize all the kerenel tasks. Note that execution will not overlap even if the queues have no data dependency.\n",
    "\n",
    "```cpp\n",
    "    queue q{property::queue::in_order()}; // <--- this will serialize all kernel tasks\n",
    "\n",
    "    q.parallel_for(range<1>(N), [=](id<1> i) { data[i] += 2; }); \n",
    "\n",
    "    q.parallel_for(range<1>(N), [=](id<1> i) { data[i] += 3; });\n",
    "```\n",
    "\n",
    "#### depends_on\n",
    "- Use __h.depends_on(e)__ method in command group to specify events that must complete before a task may begin.\n",
    "\n",
    "```cpp\n",
    "    auto e = q.submit([&](handler &h) {  // <--- e is event for kernel task\n",
    "      h.parallel_for(range<1>(N), [=](id<1> i) { data[i] += 2; });\n",
    "    });\n",
    "\n",
    "    q.submit([&](handler &h) {\n",
    "      h.depends_on(e);  // <--- waits until event e is complete\n",
    "      h.parallel_for(range<1>(N), [=](id<1> i) { data[i] += 3; });\n",
    "    });\n",
    "```\n",
    "- You can also use a simplified way of specifying dependencies by passing an extra parameter in `parallel_for`\n",
    "\n",
    "```cpp\n",
    "    auto e = q.parallel_for(range<1>(N), [=](id<1> i) { data[i] += 2; }); \n",
    "\n",
    "    q.parallel_for(range<1>(N), e, [=](id<1> i) { data[i] += 3; });\n",
    "                                ^\n",
    "```\n"
   ]
  },
  {
   "cell_type": "markdown",
   "metadata": {},
   "source": [
    "## Lab Exercise: USM and Data dependency 1"
   ]
  },
  {
   "cell_type": "markdown",
   "metadata": {},
   "source": [
    "The code below uses USM and has three kernels that are submitted to the device. Each kernel modifies the same data array. There is no data dependency between the three queue submissions, so the code can be fixed to get desired output of 20.\n",
    "\n",
    "There are three solutions, use **in_order** queue property or use **wait()** event or use **depends_on()** method.\n",
    "\n",
    "**HINT:**\n",
    "- Add **wait()** for each queue submit\n",
    "- Implement **depends_on()** method in second and third kernel task\n",
    "- Use **in_order** queue property instead of regular queue: `queue q{property::queue::in_order()};`\n",
    "\n",
    "\n",
    "1. Edit the code cell below and click run ▶ to save the code to a file.\n",
    "2. Next run ▶ the cell in the __Build and Run__ section below the code to compile and execute the code."
   ]
  },
  {
   "cell_type": "code",
   "execution_count": null,
   "metadata": {},
   "outputs": [],
   "source": [
    "%%writefile lab/usm_data.cpp\n",
    "//==============================================================\n",
    "// Copyright © 2020 Intel Corporation\n",
    "//\n",
    "// SPDX-License-Identifier: MIT\n",
    "// =============================================================\n",
    "#include <CL/sycl.hpp>\n",
    "using namespace sycl;\n",
    "\n",
    "static const int N = 256;\n",
    "\n",
    "int main() {\n",
    "  queue q;\n",
    "  std::cout << \"Device : \" << q.get_device().get_info<info::device::name>()\n",
    "            << std::endl;\n",
    "\n",
    "  //# USM allocation and initialization\n",
    "  int *data = malloc_shared<int>(N, q);\n",
    "  for (int i = 0; i < N; i++) data[i] = 10;\n",
    "\n",
    "  //# There are three kerenel tasks submitted without data dependency, analyze the code and fix data dependency\n",
    "\n",
    "  q.parallel_for(range<1>(N), [=](id<1> i) { data[i] += 2; });\n",
    "\n",
    "  q.parallel_for(range<1>(N), [=](id<1> i) { data[i] += 3; });\n",
    "\n",
    "  q.parallel_for(range<1>(N), [=](id<1> i) { data[i] += 5; }).wait();\n",
    "\n",
    "  for (int i = 0; i < N; i++) std::cout << data[i] << \" \";\n",
    "  std::cout << std::endl;\n",
    "  free(data, q);\n",
    "  return 0;\n",
    "}"
   ]
  },
  {
   "cell_type": "markdown",
   "metadata": {},
   "source": [
    "#### Build and Run\n",
    "Select the cell below and click run ▶ to compile and execute the code:"
   ]
  },
  {
   "cell_type": "code",
   "execution_count": null,
   "metadata": {},
   "outputs": [],
   "source": [
    "! chmod 755 run_usm_data.sh; if [ -x \"$(command -v qsub)\" ]; then ./q run_usm_data.sh; else ./run_usm_data.sh; fi"
   ]
  },
  {
   "cell_type": "markdown",
   "metadata": {},
   "source": [
    "_If the Jupyter cells are not responsive or if they error out when you compile the code samples, please restart the Jupyter Kernel: \n",
    "\"Kernel->Restart Kernel and Clear All Outputs\" and compile the code samples again_."
   ]
  },
  {
   "cell_type": "markdown",
   "metadata": {},
   "source": [
    "#### Solution\n",
    "- [usm_data.cpp](src/usm_data.cpp)"
   ]
  },
  {
   "cell_type": "markdown",
   "metadata": {},
   "source": [
    "## Lab Exercise: USM and Data dependency 2"
   ]
  },
  {
   "cell_type": "markdown",
   "metadata": {},
   "source": [
    "The code below uses USM and has three kernels that are submitted to device. The first two kernels modify two different memeory objects and the third one has a dependency on the first two. There is no data dependency between the three queue submissions, so the code can be fixed to get desired output of 25.\n",
    "\n",
    "- Implementing **depends_on()** method gets the best performance\n",
    "- Using **in_queue** queue property or **wait()** will get results but not the most efficient\n",
    "\n",
    "**HINT:**\n",
    "```cpp\n",
    "auto e1 = ... \n",
    "auto e2 = ...\n",
    "\n",
    "q.parallel_for(range<1>(N), {e1, e2}, [=](id<1> i) {\n",
    "```\n",
    "\n",
    "\n",
    "1. Edit the code cell below and click run ▶ to save the code to a file.\n",
    "2. Next run ▶ the cell in the __Build and Run__ section below the code to compile and execute the code."
   ]
  },
  {
   "cell_type": "code",
   "execution_count": null,
   "metadata": {},
   "outputs": [],
   "source": [
    "%%writefile lab/usm_data2.cpp\n",
    "//==============================================================\n",
    "// Copyright © 2020 Intel Corporation\n",
    "//\n",
    "// SPDX-License-Identifier: MIT\n",
    "// =============================================================\n",
    "#include <CL/sycl.hpp>\n",
    "using namespace sycl;\n",
    "\n",
    "static const int N = 1024;\n",
    "\n",
    "int main() {\n",
    "  queue q;\n",
    "  std::cout << \"Device : \" << q.get_device().get_info<info::device::name>()\n",
    "            << std::endl;\n",
    "\n",
    "  //# Two USM allocation and initialization\n",
    "  int *data1 = malloc_shared<int>(N, q);\n",
    "  int *data2 = malloc_shared<int>(N, q);\n",
    "  for (int i = 0; i < N; i++) { \n",
    "    data1[i] = 10; \n",
    "    data2[i] = 10; \n",
    "  }\n",
    "\n",
    "  //# There are 3 kerenel tasks submitted without data dependency, analyze the code and fix data dependency\n",
    "\n",
    "  q.parallel_for(range<1>(N), [=](id<1> i) { data1[i] += 2; });\n",
    "\n",
    "  q.parallel_for(range<1>(N), [=](id<1> i) { data2[i] += 3; });\n",
    "\n",
    "  q.parallel_for(range<1>(N), [=](id<1> i) { data1[i] += data2[i]; }).wait();\n",
    "\n",
    "  for (int i = 0; i < N; i++) std::cout << data1[i] << \" \";\n",
    "  std::cout << std::endl;\n",
    "  free(data1, q);\n",
    "  free(data2, q);\n",
    "  return 0;\n",
    "}"
   ]
  },
  {
   "cell_type": "markdown",
   "metadata": {},
   "source": [
    "#### Build and Run\n",
    "Select the cell below and click run ▶ to compile and execute the code:"
   ]
  },
  {
   "cell_type": "code",
   "execution_count": null,
   "metadata": {},
   "outputs": [],
   "source": [
    "! chmod 755 run_usm_data2.sh; if [ -x \"$(command -v qsub)\" ]; then ./q run_usm_data2.sh; else ./run_usm_data2.sh; fi"
   ]
  },
  {
   "cell_type": "markdown",
   "metadata": {},
   "source": [
    "_If the Jupyter cells are not responsive or if they error out when you compile the code samples, please restart the Jupyter Kernel: \n",
    "\"Kernel->Restart Kernel and Clear All Outputs\" and compile the code samples again_."
   ]
  },
  {
   "cell_type": "markdown",
   "metadata": {},
   "source": [
    "#### Solution\n",
    "- [usm_data2.cpp](src/usm_data2.cpp)"
   ]
  },
  {
   "cell_type": "markdown",
   "metadata": {},
   "source": [
    "## Summary"
   ]
  },
  {
   "cell_type": "markdown",
   "metadata": {},
   "source": [
    "USM makes it easy to port C/C++ code to DPC++. USM allows a simple implicit data movement approach to get functional quicky as well as allows controlled data movement with explicit approach."
   ]
  },
  {
   "cell_type": "markdown",
   "metadata": {},
   "source": [
    "<html><body><span style=\"color:green\"><h1>Survey</h1></span></body></html>\n",
    "\n",
    "[We would appreciate any feedback you’d care to give, so that we can improve the overall training quality and experience. Thanks! ](https://intel.az1.qualtrics.com/jfe/form/SV_71IHlodSGkLU5vv)"
   ]
  }
 ],
 "metadata": {
  "kernelspec": {
   "display_name": "Python 3.7 (Intel® oneAPI)",
   "language": "python",
   "name": "c009-intel_distribution_of_python_3_oneapi-beta05-python"
  },
  "language_info": {
   "codemirror_mode": {
    "name": "ipython",
    "version": 3
   },
   "file_extension": ".py",
   "mimetype": "text/x-python",
   "name": "python",
   "nbconvert_exporter": "python",
   "pygments_lexer": "ipython3",
   "version": "3.7.7"
  },
  "toc": {
   "base_numbering": 1,
   "nav_menu": {},
   "number_sections": true,
   "sideBar": true,
   "skip_h1_title": false,
   "title_cell": "Table of Contents",
   "title_sidebar": "Contents",
   "toc_cell": false,
   "toc_position": {
    "height": "calc(100% - 180px)",
    "left": "10px",
    "top": "150px",
    "width": "310.667px"
   },
   "toc_section_display": true,
   "toc_window_display": true
  }
 },
 "nbformat": 4,
 "nbformat_minor": 4
}
