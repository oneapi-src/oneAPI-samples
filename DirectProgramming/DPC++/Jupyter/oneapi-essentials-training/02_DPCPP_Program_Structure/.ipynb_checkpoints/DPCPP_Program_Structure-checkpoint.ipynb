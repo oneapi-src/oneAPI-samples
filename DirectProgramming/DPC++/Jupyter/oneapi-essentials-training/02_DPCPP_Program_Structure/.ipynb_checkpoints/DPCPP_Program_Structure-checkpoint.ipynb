{
 "cells": [
  {
   "cell_type": "markdown",
   "metadata": {},
   "source": [
    "# Overview of DPC++"
   ]
  },
  {
   "cell_type": "markdown",
   "metadata": {},
   "source": [
    "##### Sections\n",
    "- [What is Data Parallel C++?](#What-is-Data-Parallel-C++?)\n",
    "- _Code:_ [Device Selector](#Device-Selector)\n",
    "- [Data Parallel Kernels](#Parallel-Kernels)\n",
    "- [DPC++ Code Anatomy](#DPC++-Code-Anatomy)\n",
    "- _Code:_ [Implicit dependency with Accessors](#Implicit-dependency-with-Accessors)\n",
    "- _Code:_ [Synchronization: Host Accessor](#Synchronization:-Host-Accessor)\n",
    "- _Code:_ [Synchronization: Buffer Destruction](#Synchronization:-Buffer-Destruction)\n",
    "- _Code:_ [Custom Device Selector](#Custom-Device-Selector)\n",
    "- _Code:_ [Complex Number Multiplication](#Lab-Exercise:-Complex-Number-Multiplication)"
   ]
  },
  {
   "cell_type": "markdown",
   "metadata": {},
   "source": [
    "## Learning Objectives\n",
    "* Explain the __SYCL__ fundamental classes\n",
    "* Use __device selection__ to offload kernel workloads\n",
    "* Decide when to use __basic parallel kernels__ and __ND Range Kernels__\n",
    "* Create a __host Accessor__\n",
    "* Build a sample __DPC++ application__ through hands-on lab exercises"
   ]
  },
  {
   "cell_type": "markdown",
   "metadata": {},
   "source": [
    "## What is Data Parallel C++?\n",
    "__oneAPI__ programs are written in __Data Parallel C++ (DPC++)__. It is based on modern C++ productivity benefits and familiar constructs and incorporates the __SYCL__ standard for data parallelism and heterogeneous programming. DPC++ is a __single source__ where __host code__ and __heterogeneous accelerator kernels__ can be mixed in same source files. A DPC++ program is invoked on the host computer and offloads the computation to an accelerator. Programmers use familiar C++ and library constructs with added functionliaties like a __queue__ for work targeting, __buffer__ for data management, and __parallel_for__ for parallelism to direct which parts of the computation and data should be offloaded."
   ]
  },
  {
   "cell_type": "markdown",
   "metadata": {},
   "source": [
    "## Device\n",
    "The __device__ class represents the capabilities of the accelerators in a system utilizing Intel&reg; oneAPI Toolkits. The device class contains member functions for querying information about the device, which is useful for DPC++ programs where multiple devices are created.\n",
    "* The function __get_info__ gives information about the device:\n",
    " * Name, vendor, and version of the device\n",
    " * The local and global work item IDs\n",
    " * Width for built in types, clock frequency, cache width and sizes, online or offline\n",
    " \n",
    "```cpp\n",
    "queue q;\n",
    "device my_device = q.get_device();\n",
    "std::cout << \"Device: \" << my_device.get_info<info::device::name>() << std::endl;\n",
    "```\n"
   ]
  },
  {
   "cell_type": "markdown",
   "metadata": {},
   "source": [
    "## Device Selector\n",
    "The  __device_selector__ class enables the runtime selection of a particular device to execute kernels based upon user-provided heuristics. The following code sample shows use of the standard device selectors (__default_selector, cpu_selector, gpu_selector…__) and a derived device_selector\n",
    "\n",
    " \n",
    "```cpp\n",
    "default_selector selector;\n",
    "// host_selector selector;\n",
    "// cpu_selector selector;\n",
    "// gpu_selector selector;\n",
    "queue q(selector);\n",
    "std::cout << \"Device: \" << q.get_device().get_info<info::device::name>() << std::endl;\n",
    "```\n",
    "\n",
    "The DPC++ code below shows different device selectors: Inspect code, there are no modifications necessary:\n",
    "1. Inspect the code cell below and click run ▶ to save the code to file\n",
    "2. Next run ▶ the cell in the __Build and Run__ section below the code to compile and execute the code."
   ]
  },
  {
   "cell_type": "code",
   "execution_count": null,
   "metadata": {},
   "outputs": [],
   "source": [
    "%%writefile lab/gpu_sample.cpp\n",
    "//==============================================================\n",
    "// Copyright © 2020 Intel Corporation\n",
    "//\n",
    "// SPDX-License-Identifier: MIT\n",
    "// =============================================================\n",
    "#include <CL/sycl.hpp>\n",
    "\n",
    "using namespace cl::sycl;\n",
    "\n",
    "int main() {\n",
    "  //# Create a device queue with device selector\n",
    "  \n",
    "  gpu_selector selector;\n",
    "  //cpu_selector selector;\n",
    "  //default_selector selector;\n",
    "  //host_selector selector;\n",
    "  \n",
    "  queue q(selector);\n",
    "\n",
    "  //# Print the device name\n",
    "  std::cout << \"Device: \" << q.get_device().get_info<info::device::name>() << std::endl;\n",
    "\n",
    "  return 0;\n",
    "}"
   ]
  },
  {
   "cell_type": "markdown",
   "metadata": {},
   "source": [
    "### Build and Run\n",
    "Select the cell below and click run ▶ to compile and execute the code:"
   ]
  },
  {
   "cell_type": "code",
   "execution_count": null,
   "metadata": {},
   "outputs": [],
   "source": [
    "! chmod 755 q; chmod 755 run_gpu.sh;if [ -x \"$(command -v qsub)\" ]; then ./q run_gpu.sh; else ./run_gpu.sh; fi"
   ]
  },
  {
   "cell_type": "markdown",
   "metadata": {},
   "source": [
    "_If the Jupyter cells are not responsive or if they error out when you compile the code samples, please restart the Jupyter Kernel: \n",
    "\"Kernel->Restart Kernel and Clear All Outputs\" and compile the code samples again_"
   ]
  },
  {
   "cell_type": "markdown",
   "metadata": {},
   "source": [
    "## Queue\n",
    "__Queue__ submits command groups to be executed by the SYCL runtime. Queue is a mechanism where __work is submitted__ to a device.A queue map to one device and multiple queues can be mapped to the same device.\n",
    " \n",
    "```cpp\n",
    "q.submit([&](handler& h) {\n",
    "    //COMMAND GROUP CODE\n",
    "});\n",
    "```\n",
    "\n"
   ]
  },
  {
   "cell_type": "markdown",
   "metadata": {},
   "source": [
    "## Kernel\n",
    "The __kernel__ class encapsulates methods and data for executing code on the device when a command group is instantiated. Kernel object is not explicitly constructed by the user and is is constructed when a kernel dispatch function, such as __parallel_for__, is called \n",
    " ```cpp\n",
    " q.submit([&](handler& h) {\n",
    "  h.parallel_for(range<1>(N), [=](id<1> i) {\n",
    "    A[i] = B[i] + C[i]);\n",
    "  });\n",
    "});\n",
    "```\n"
   ]
  },
  {
   "cell_type": "markdown",
   "metadata": {},
   "source": [
    "## Choosing where device kernels run\n",
    "\n",
    "Work is submitted to queues and each queue is associated with exactly one device (e.g. a specific GPU or FPGA). You can decide which device a queue is associated with (if you want) and have as many queues as desired for dispatching work in heterogeneous systems.        \n",
    "\n",
    "|Target Device |Queue|\n",
    "|-----|-------|\n",
    "|Create queue targeting any device: | queue() |\n",
    "| Create queue targeting a pre-configured classes of devices: | queue(cpu_selector{}); queue(gpu_selector{});  queue(intel::fpga_selector{}); queue(accelerator_selector{}); queue(host_selector{});|\n",
    "|Create queue targeting specific device (custom criteria): |class custom_selector : public device_selector {int operator()(……  // Any logic you want!  … queue(custom_selector{}); |                    \n",
    "                                                          \n",
    "                                                               \n",
    "\n",
    "\n",
    "\n",
    "\n",
    "\n",
    "\n",
    "\n",
    "        \n",
    "<img src=\"Assets/queue.png\">"
   ]
  },
  {
   "cell_type": "markdown",
   "metadata": {},
   "source": [
    "## DPC++ Language and Runtime\n",
    "DPC++ language and runtime consists of a set of C++ classes, templates, and libraries.\n",
    "\n",
    " __Application scope__ and __command group scope__ :\n",
    " * Code that executes on the host\n",
    " * The full capabilities of C++ are available at application and command group scope \n",
    "\n",
    "__Kernel__ scope:\n",
    " * Code that executes on the device. \n",
    " * At __kernel__ scope there are __limitations__ in accepted C++\n"
   ]
  },
  {
   "cell_type": "markdown",
   "metadata": {},
   "source": [
    "## Parallel Kernels\n",
    "\n",
    "__Parallel Kernel__ allows multiple instances of an operation to execute in parallel. This is useful to __offload__ parallel execution of a basic __for-loop__ in which each iteration is completely independent and in any order. Parallel kernels are expressed using the __parallel_for__ function\n",
    "A simple 'for' loop in a C++ application is written as below\n",
    "\n",
    "```cpp\n",
    "for(int i=0; i < 1024; i++){\n",
    "    a[i] = b[i] + c[i];\n",
    "});\n",
    "```\n",
    "\n",
    "Below is how you can offload to accelerator\n",
    "\n",
    "```cpp\n",
    "h.parallel_for(range<1>(1024), [=](id<1> i){\n",
    "    A[i] =  B[i] + C[i];\n",
    "});\n",
    "```\n"
   ]
  },
  {
   "cell_type": "markdown",
   "metadata": {},
   "source": [
    "## Basic Parallel Kernels\n",
    "\n",
    "The functionality of basic parallel kernels is exposed via __range__, __id__, and __item__ classes. __Range__ class is used to describe the __iteration space__ of parallel execution and __id__ class is used to __index__ an individual instance of a kernel in a parallel execution\n",
    "\n",
    "\n",
    "```cpp\n",
    "h.parallel_for(range<1>(1024), [=](id<1> i){\n",
    "// CODE THAT RUNS ON DEVICE \n",
    "});\n",
    "\n",
    "```\n",
    "The above example is good if all you need is the __index (id)__, but if you need the __range__ value in your kernel code, then you can use __item__ class instead of __id__ class , which you can use to query for the __range__ as shown below.  __item__ class represents an __individual instance__ of a kernel function, exposes additional functions to query properties of the execution range\n",
    "\n",
    "\n",
    "```cpp\n",
    "h.parallel_for(range<1>(1024), [=](item<1> item){\n",
    "    auto i = item.get_id();\n",
    "    auto R = item.get_range();\n",
    "    // CODE THAT RUNS ON DEVICE\n",
    "    \n",
    "    \n",
    "});\n",
    "\n",
    "```"
   ]
  },
  {
   "cell_type": "markdown",
   "metadata": {},
   "source": [
    "## ND RANGE KERNELS\n",
    "Basic Parallel Kernels are easy way to parallelize a for-loop but does not allow performance optimization at hardware level. __ND-Range kernel__ is another way to expresses parallelism which enable low level performance tuning by providing access to __local memory and mapping executions__ to compute units on hardware. The entire iteration space is divided into smaller groups called __work-groups__, __work-items__ within a work-group are scheduled on a single compute unit on hardware.\n",
    "\n",
    "The grouping of kernel executions into work-groups  will allow control of resource usage and load balance work distribution.The functionality of nd_range kernels is exposed via __nd_range__ and __nd_item__ classes. __nd_range__ class represents a __grouped execution range__ using global execution range and the local execution range of each work-group. __nd_item__ class  represents an __individual instance__ of a kernel function and allows to query for work-group range and index.\n",
    "\n",
    "```cpp\n",
    "h.parallel_for(nd_range<1>(range<1>(1024),range<1>(64)), [=](nd_item<1> item){\n",
    "    auto idx = item.get_global_id();\n",
    "    auto local_id = item.get_local_id();\n",
    "    // CODE THAT RUNS ON DEVICE\n",
    "});\n",
    "```\n",
    "<img src=\"Assets/ndrange.png\">"
   ]
  },
  {
   "cell_type": "markdown",
   "metadata": {},
   "source": [
    "## Buffer Model\n",
    "__Buffers encapsulate__ data in a SYCL application across both devices and host. __Accessors__ is the mechanism to access buffer data."
   ]
  },
  {
   "cell_type": "markdown",
   "metadata": {},
   "source": [
    "### DPC++ Code Anatomy\n",
    "Programs which utilize oneAPI require the include of __cl/sycl.hpp__. It is recommended to employ the namespace statement to save typing repeated references into the cl::sycl namespace.\n",
    "\n",
    "```cpp\n",
    "#include <CL/sycl.hpp>\n",
    "using namespace cl::sycl;\n",
    "```\n",
    "\n",
    "__DPC++ programs__ are standard C++. The program is invoked on the __host__ computer, and offloads computation to the __accelerator__. A programmer uses DPC++’s __queue, buffer, device, and kernel abstractions__ to direct which parts of the computation and data should be offloaded.\n",
    "\n",
    "As a first step in a DPC++ program we create a __queue__. We offload computation to a __device__ by submitting tasks to a queue. The programmer can choose CPU, GPU, FPGA, and other devices through the __selector__. This program uses the default  q here, which means DPC++ runtime selects the most capable device available at runtime by using the default selector. We will talk about the devices, device selectors, and the concepts of buffers, accessors and kernels in the upcoming modules but below is a simple DPC++ program for you to get started with the above concepts.\n",
    "\n",
    "Device and host can either share physical __memory__ or have distinct memories. When the memories are distinct, offloading computation requires __copying data between host and device__. DPC++ does not require the programmer to manage the data copies. By creating __Buffers and Accessors__, DPC++ ensures that the data is available to host and device without any programmer effort. DPC++ also allows the programmer explicit control over data movement when it is necessary to achieve best peformance.\n",
    "\n",
    "In a DPC++ program, we define a __kernel__, which is applied to every point in an index space. For simple programs like this one, the index space maps directly to the elements of the array. The kernel is encapsulated in a __C++ lambda function__. The lambda function is passed a point in the index space as an array of coordinates. For this simple program, the index space coordinate is the same as the array index. The __parallel_for__ in the below program applies the lambda to the index space. The index space is defined in the first argument of the parallel_for as a 1 dimensional __range from 0 to N-1__.\n",
    "\n",
    "\n",
    "The code below shows Simple Vector addition using DPC++. Read through the comments addressed in step 1 through step 6.\n",
    "\n",
    "```cpp\n",
    "void dpcpp_code(int* a, int* b, int* c, int N) {\n",
    "  //Step 1: create a device queue\n",
    "  //(developer can specify a device type via device selector or use default selector)\n",
    "  auto R = range<1>(N);\n",
    "  queue q;\n",
    "  //Step 2: create buffers (represent both host and device memory)\n",
    "  buffer buf_a(a, R);\n",
    "  buffer buf_b(b, R);\n",
    "  buffer buf_c(c, R);\n",
    "  //Step 3: submit a command for (asynchronous) execution\n",
    "  q.submit([&](handler &h){\n",
    "  //Step 4: create buffer accessors to access buffer data on the device\n",
    "  accessor A(buf_a,h,read_only);\n",
    "  accessor B(buf_b,h,read_only);\n",
    "  accessor C(buf_c,h,write_only);\n",
    "  \n",
    "  //Step 5: send a kernel (lambda) for execution\n",
    "  h.parallel_for(range<1>(N), [=](auto i){\n",
    "    //Step 6: write a kernel\n",
    "    //Kernel invocations are executed in parallel\n",
    "    //Kernel is invoked for each element of the range\n",
    "    //Kernel invocation has access to the invocation id\n",
    "    C[i] = A[i] + B[i];\n",
    "    });\n",
    "  });\n",
    "}\n",
    "```"
   ]
  },
  {
   "cell_type": "markdown",
   "metadata": {},
   "source": [
    "\n",
    "## Implicit dependency with Accessors\n",
    "* Accessors create __data dependencies__ in the SYCL graph that order kernel executions\n",
    "* If two kernels use the same buffer, the second kernel needs to wait for the completion of the first kernel to avoid race conditions. \n",
    "\n",
    "\n",
    "<img src=\"Assets/buffer1.png\">\n",
    "\n",
    "\n",
    "The DPC++ code below demonstrates Implicit dependency with Accessors: Inspect code, there are no modifications necessary:\n",
    "\n",
    "1. Inspect the code cell below and click run ▶ to save the code to file\n",
    "\n",
    "2. Next run ▶ the cell in the __Build and Run__ section below the code to compile and execute the code."
   ]
  },
  {
   "cell_type": "code",
   "execution_count": null,
   "metadata": {},
   "outputs": [],
   "source": [
    "%%writefile lab/buffer_sample.cpp\n",
    "//==============================================================\n",
    "// Copyright © 2020 Intel Corporation\n",
    "//\n",
    "// SPDX-License-Identifier: MIT\n",
    "// =============================================================\n",
    "#include <CL/sycl.hpp>\n",
    "\n",
    "constexpr int num=16;\n",
    "using namespace sycl;\n",
    "\n",
    "  int main() {\n",
    "  auto R = range<1>{ num };\n",
    "  //Create Buffers A and B\n",
    "  buffer<int> A{ R }, B{ R };\n",
    "  //Create a device queue\n",
    "  queue Q;\n",
    "  //Submit Kernel 1\n",
    "  Q.submit([&](handler& h) {\n",
    "    //Accessor for buffer A\n",
    "    accessor out(A,h,write_only);\n",
    "    h.parallel_for(R, [=](auto idx) {\n",
    "      out[idx] = idx[0]; }); });\n",
    "  //Submit Kernel 2\n",
    "  Q.submit([&](handler& h) {\n",
    "    //This task will wait till the first queue is complete\n",
    "    accessor out(A,h,write_only);\n",
    "    h.parallel_for(R, [=](auto idx) {\n",
    "      out[idx] += idx[0]; }); });\n",
    "  //Submit Kernel 3\n",
    "  Q.submit([&](handler& h) { \n",
    "    //Accessor for Buffer B\n",
    "    accessor out(B,h,write_only);\n",
    "    h.parallel_for(R, [=](auto idx) {\n",
    "      out[idx] = idx[0]; }); });\n",
    "  //Submit task 4\n",
    "  Q.submit([&](handler& h) {\n",
    "   //This task will wait till kernel 2 and 3 are complete\n",
    "   accessor in (A,h,read_only);\n",
    "   accessor inout(B,h);\n",
    "  h.parallel_for(R, [=](auto idx) {\n",
    "    inout[idx] *= in[idx]; }); }); \n",
    "      \n",
    " // And the following is back to device code\n",
    " host_accessor result(B,read_only);\n",
    "  for (int i=0; i<num; ++i)\n",
    "    std::cout << result[i] << \"\\n\";      \n",
    "  return 0;\n",
    "}"
   ]
  },
  {
   "cell_type": "markdown",
   "metadata": {},
   "source": [
    "### Build and Run\n",
    "Select the cell below and click run ▶ to compile and execute the code:"
   ]
  },
  {
   "cell_type": "code",
   "execution_count": null,
   "metadata": {},
   "outputs": [],
   "source": [
    "! chmod 755 q; chmod 755 run_buffer.sh;if [ -x \"$(command -v qsub)\" ]; then ./q run_buffer.sh; else ./run_buffer.sh; fi"
   ]
  },
  {
   "cell_type": "markdown",
   "metadata": {},
   "source": [
    "_If the Jupyter cells are not responsive or if they error out when you compile the code samples, please restart the Jupyter Kernel: \n",
    "\"Kernel->Restart Kernel and Clear All Outputs\" and compile the code samples again_"
   ]
  },
  {
   "cell_type": "markdown",
   "metadata": {},
   "source": [
    "## Host Accessors\n",
    "The Host Accessor is an accessor which uses host buffer access target. It is created outside of the scope of the command group and the data that this gives access to will be available on the host. These are used to synchronize the data back to the host by constructing the host accessor objects. Buffer destruction is the other way to synchronize the data back to the host.\n"
   ]
  },
  {
   "cell_type": "markdown",
   "metadata": {},
   "source": [
    "## Synchronization: Host Accessor\n",
    "\n",
    "Buffer takes ownership of the data stored in vector. Creating host accessor is a __blocking call__ and will only return after all enqueued DPC++ kernels that modify the same buffer in any queue completes execution and the data is available to the host via this host accessor.\n",
    "\n",
    "The DPC++ code below demonstrates Synchronization with Host Accessor: Inspect code, there are no modifications necessary:\n",
    "\n",
    "\n",
    "1. Inspect the code cell below and click run ▶ to save the code to file\n",
    "\n",
    "2. Next run ▶ the cell in the __Build and Run__ section below the code to compile and execute the code.\n"
   ]
  },
  {
   "cell_type": "code",
   "execution_count": null,
   "metadata": {},
   "outputs": [],
   "source": [
    "%%writefile lab/host_accessor_sample.cpp\n",
    "//==============================================================\n",
    "// Copyright © 2020 Intel Corporation\n",
    "//\n",
    "// SPDX-License-Identifier: MIT\n",
    "// =============================================================\n",
    "\n",
    "#include <CL/sycl.hpp>\n",
    "using namespace sycl;\n",
    "\n",
    "int main() {\n",
    "  constexpr int N = 16;\n",
    "  auto R = range<1>(N);\n",
    "  std::vector<int> v(N, 10);\n",
    "  queue q;\n",
    "  // Buffer takes ownership of the data stored in vector.  \n",
    "  buffer buf(v);\n",
    "  q.submit([&](handler& h) {\n",
    "    accessor a(buf,h);\n",
    "    h.parallel_for(R, [=](auto i) { a[i] -= 2; });\n",
    "  });\n",
    "  // Creating host accessor is a blocking call and will only return after all\n",
    "  // enqueued DPC++ kernels that modify the same buffer in any queue completes\n",
    "  // execution and the data is available to the host via this host accessor.\n",
    "  auto b = buf.get_access<access::mode::read>();\n",
    "  for (int i = 0; i < N; i++) std::cout << v[i] << \"\\n\";\n",
    "  return 0;\n",
    "}"
   ]
  },
  {
   "cell_type": "markdown",
   "metadata": {},
   "source": [
    "### Build and Run\n",
    "Select the cell below and click run ▶ to compile and execute the code:"
   ]
  },
  {
   "cell_type": "code",
   "execution_count": null,
   "metadata": {},
   "outputs": [],
   "source": [
    "! chmod 755 q; chmod 755 run_host_accessor.sh;if [ -x \"$(command -v qsub)\" ]; then ./q run_host_accessor.sh; else ./run_host_accessor.sh; fi"
   ]
  },
  {
   "cell_type": "markdown",
   "metadata": {},
   "source": [
    "_If the Jupyter cells are not responsive or if they error out when you compile the code samples,please restart the Jupyter Kernel: \n",
    "\"Kernel->Restart Kernel and Clear All Outputs\" and compile the code samples again_"
   ]
  },
  {
   "cell_type": "markdown",
   "metadata": {},
   "source": [
    "## Synchronization: Buffer Destruction\n",
    "In the below example Buffer creation happens within a separate function scope. When execution advances beyond this __function scope__, buffer destructor is invoked which relinquishes the ownership of data and copies back the data to the host memory.\n",
    "\n",
    "The DPC++ code below demonstrates Synchronization with Buffer Destruction: Inspect code, there are no modifications necessary:\n",
    "\n",
    "1. Inspect the code cell below and click run ▶ to save the code to a file.\n",
    "\n",
    "2. Next run ▶ the cell in the __Build and Run__ section below the code to compile and execute the code."
   ]
  },
  {
   "cell_type": "code",
   "execution_count": null,
   "metadata": {},
   "outputs": [],
   "source": [
    "%%writefile lab/buffer_destruction2.cpp\n",
    "//==============================================================\n",
    "// Copyright © 2020 Intel Corporation\n",
    "//\n",
    "// SPDX-License-Identifier: MIT\n",
    "// =============================================================\n",
    "\n",
    "#include <CL/sycl.hpp>\n",
    "constexpr int N = 16;\n",
    "using namespace sycl;\n",
    "\n",
    "// Buffer creation happens within a separate function scope.\n",
    "void dpcpp_code(std::vector<int> &v, queue &q) {\n",
    "  auto R = range<1>(N);\n",
    "  buffer buf(v);\n",
    "  q.submit([&](handler &h) {\n",
    "    accessor a(buf,h);\n",
    "    h.parallel_for(R, [=](auto i) { a[i] -= 2; });\n",
    "  });\n",
    "}\n",
    "int main() {\n",
    "  std::vector<int> v(N, 10);\n",
    "  queue q;\n",
    "  dpcpp_code(v, q);\n",
    "  // When execution advances beyond this function scope, buffer destructor is\n",
    "  // invoked which relinquishes the ownership of data and copies back the data to\n",
    "  // the host memory.\n",
    "  for (int i = 0; i < N; i++) std::cout << v[i] << \"\\n\";\n",
    "  return 0;\n",
    "}"
   ]
  },
  {
   "cell_type": "markdown",
   "metadata": {},
   "source": [
    "### Build and Run\n",
    "Select the cell below and click run ▶ to compile and execute the code:"
   ]
  },
  {
   "cell_type": "code",
   "execution_count": null,
   "metadata": {},
   "outputs": [],
   "source": [
    "! chmod 755 q; chmod 755 run_buffer_destruction.sh;if [ -x \"$(command -v qsub)\" ]; then ./q run_buffer_destruction.sh; else ./run_buffer_destruction.sh; fi"
   ]
  },
  {
   "cell_type": "markdown",
   "metadata": {},
   "source": [
    "_If the Jupyter cells are not responsive or if they error out when you compile the code samples, please restart the Jupyter Kernel:\n",
    "\"Kernel->Restart Kernel and Clear All Outputs\" and compile the code samples again_"
   ]
  },
  {
   "cell_type": "markdown",
   "metadata": {},
   "source": [
    "## Custom Device Selector\n",
    "The following code shows derived device_selector that employs a device selector heuristic. The selected device prioritizes a GPU device because the integer rating returned is higher than for CPU or other accelerator. \n",
    "\n",
    "The DPC++ code below demonstrates Custom Device Selector: Inspect code, there are no modifications necessary:\n",
    "\n",
    "1. Inspect the code cell below and click run ▶ to save the code to a file.\n",
    "\n",
    "2. Next run ▶ the cell in the __Build and Run__ section below the code to compile and execute the code."
   ]
  },
  {
   "cell_type": "code",
   "execution_count": null,
   "metadata": {},
   "outputs": [],
   "source": [
    "%%writefile lab/custom_device_sample.cpp\n",
    "//==============================================================\n",
    "// Copyright © 2020 Intel Corporation\n",
    "//\n",
    "// SPDX-License-Identifier: MIT\n",
    "// =============================================================\n",
    "#include <CL/sycl.hpp>\n",
    "#include <iostream>\n",
    "using namespace sycl;\n",
    "class my_device_selector : public device_selector {\n",
    "public:\n",
    "    my_device_selector(std::string vendorName) : vendorName_(vendorName){};\n",
    "    int operator()(const device& dev) const override {\n",
    "    int rating = 0;\n",
    "    //We are querying for the custom device specific to a Vendor and if it is a GPU device we\n",
    "    //are giving the highest rating as 3 . The second preference is given to any GPU device and the third preference is given to\n",
    "    //CPU device.\n",
    "    if (dev.is_gpu() & (dev.get_info<info::device::name>().find(vendorName_) != std::string::npos))\n",
    "        rating = 3;\n",
    "    else if (dev.is_gpu()) rating = 2;\n",
    "    else if (dev.is_cpu()) rating = 1;\n",
    "    return rating;\n",
    "    };\n",
    "    \n",
    "private:\n",
    "    std::string vendorName_;\n",
    "};\n",
    "int main() {\n",
    "    //pass in the name of the vendor for which the device you want to query \n",
    "    std::string vendor_name = \"Intel\";\n",
    "    //std::string vendor_name = \"AMD\";\n",
    "    //std::string vendor_name = \"Nvidia\";\n",
    "    my_device_selector selector(vendor_name);\n",
    "    queue q(selector);\n",
    "    std::cout << \"Device: \"\n",
    "    << q.get_device().get_info<info::device::name>() << std::endl;\n",
    "    return 0;\n",
    "}\n"
   ]
  },
  {
   "cell_type": "markdown",
   "metadata": {},
   "source": [
    "### Build and Run\n",
    "Select the cell below and click run ▶ to compile and execute the code:"
   ]
  },
  {
   "cell_type": "code",
   "execution_count": null,
   "metadata": {},
   "outputs": [],
   "source": [
    "! chmod 755 q; chmod 755 run_custom_device.sh;if [ -x \"$(command -v qsub)\" ]; then ./q run_custom_device.sh; else ./run_custom_device.sh; fi"
   ]
  },
  {
   "cell_type": "markdown",
   "metadata": {},
   "source": [
    "_If the Jupyter cells are not responsive or if they error out when you compile the code samples, please restart the Jupyter Kernel: \n",
    "\"Kernel->Restart Kernel and Clear All Outputs\" and compile the code samples again__"
   ]
  },
  {
   "cell_type": "markdown",
   "metadata": {},
   "source": [
    "# Lab Exercise: Complex Number Multiplication\n",
    "The following is the definition of a custom class type that represents complex numbers.\n",
    "* The file [Complex.hpp](./src/Complex.hpp) defines the Complex2 class.\n",
    "* The Complex2 Class got two member variables \"real\" and \"imag\" of type int.\n",
    "* The Complex2 class got a member function for performing complex number multiplication. The function complex_mul returns the object of type Complex2 performing the multiplication of two complex numbers.\n",
    "* We are going to call complex_mul function from our DPC++ code."
   ]
  },
  {
   "cell_type": "markdown",
   "metadata": {},
   "source": [
    "## LAB EXERCISE\n",
    "* In this lab we provide with the source code that computes multiplication of two complex numbers where Complex class is the definition of a custom type that represents complex numbers.\n",
    "* In this example the student will learn how to use custom device selector to target GPU or CPU of a specific vendor and then pass in a vector of custom Complex class objects in parallel.The student needs to modify the source code to select Intel® GPU as the first choice and then, setup  a write accessor and call the Complex class member function as kernel to compute the multiplication.\n",
    "* Follow the __Step1 and Step 2 and Step 3 in the below code__.\n",
    "* The Complex class in the below example is to demonstarte the usage of a custom class and how a custom class can be passed in a DPC++ code, but not to show the functionality of the complex class in the std library. You can use the std::complex library as it is on its own in a DPC++ program\n",
    "\n",
    "1. Select the code cell below, __follow the STEPS 1 to 3__ in the code comments, click run ▶ to save the code to file.\n",
    "2. Next run ▶ the cell in the __Build and Run__ section below the code to compile and execute the code."
   ]
  },
  {
   "cell_type": "code",
   "execution_count": null,
   "metadata": {},
   "outputs": [],
   "source": [
    "%%writefile lab/complex_mult.cpp\n",
    "//==============================================================\n",
    "// Copyright © 2020 Intel Corporation\n",
    "//\n",
    "// SPDX-License-Identifier: MIT\n",
    "// =============================================================\n",
    "#include <CL/sycl.hpp>\n",
    "#include <iomanip>\n",
    "#include <vector>\n",
    "// dpc_common.hpp can be found in the dev-utilities include folder.\n",
    "// e.g., $ONEAPI_ROOT/dev-utilities/<version>/include/dpc_common.hpp\n",
    "#include \"dpc_common.hpp\"\n",
    "#include \"Complex.hpp\"\n",
    "\n",
    "using namespace sycl;\n",
    "using namespace std;\n",
    "\n",
    "// Number of complex numbers passing to the DPC++ code\n",
    "static const int num_elements = 10000;\n",
    "\n",
    "class CustomDeviceSelector : public device_selector {\n",
    " public:\n",
    "  CustomDeviceSelector(std::string vendorName) : vendorName_(vendorName){};\n",
    "  int operator()(const device &dev) const override {\n",
    "    int device_rating = 0;\n",
    "    //We are querying for the custom device specific to a Vendor and if it is a GPU device we\n",
    "    //are giving the highest rating as 3 . The second preference is given to any GPU device and the third preference is given to\n",
    "    //CPU device. \n",
    "    //**************Step1: Uncomment the following lines where you are setting the rating for the devices********\n",
    "    /*if (dev.is_gpu() & (dev.get_info<info::device::name>().find(vendorName_) !=\n",
    "                        std::string::npos))\n",
    "      device_rating = 3;\n",
    "    else if (dev.is_gpu())\n",
    "      device_rating = 2;\n",
    "    else if (dev.is_cpu())\n",
    "      device_rating = 1;*/\n",
    "    return device_rating;\n",
    "  };\n",
    "\n",
    " private:\n",
    "  std::string vendorName_;\n",
    "};\n",
    "\n",
    "// in_vect1 and in_vect2 are the vectors with num_elements complex nubers and\n",
    "// are inputs to the parallel function\n",
    "void DpcppParallel(queue &q, std::vector<Complex2> &in_vect1,\n",
    "                   std::vector<Complex2> &in_vect2,\n",
    "                   std::vector<Complex2> &out_vect) {\n",
    "  auto R = range(in_vect1.size());\n",
    "  if (in_vect2.size() != in_vect1.size() || out_vect.size() != in_vect1.size()){ \n",
    "    std::cout << \"ERROR: Vector sizes do not  match\"<< \"\\n\";\n",
    "    return;\n",
    "  }\n",
    "  // Setup input buffers\n",
    "  buffer bufin_vect1(in_vect1);\n",
    "  buffer bufin_vect2(in_vect2);\n",
    "\n",
    "  // Setup Output buffers \n",
    "  buffer bufout_vect(out_vect);\n",
    "\n",
    "  std::cout << \"Target Device: \"\n",
    "            << q.get_device().get_info<info::device::name>() << \"\\n\";\n",
    "  // Submit Command group function object to the queue\n",
    "  q.submit([&](auto &h) {\n",
    "    // Accessors set as read mode\n",
    "    accessor V1(bufin_vect1,h,read_only);\n",
    "    accessor V2(bufin_vect2,h,read_only);\n",
    "    // Accessor set to Write mode\n",
    "    //**************STEP 2: Uncomment the below line to set the Write Accessor******************** \n",
    "    //accessor V3 (bufout_vect,h,write_only);\n",
    "    h.parallel_for(R, [=](auto i) {\n",
    "      //**************STEP 3: Uncomment the below line to call the complex_mul function that computes the multiplication\n",
    "      //of the  complex numbers********************\n",
    "      //V3[i] = V1[i].complex_mul(V2[i]);\n",
    "    });\n",
    "  });\n",
    "  q.wait_and_throw();\n",
    "}\n",
    "void DpcppScalar(std::vector<Complex2> &in_vect1,\n",
    "                 std::vector<Complex2> &in_vect2,\n",
    "                 std::vector<Complex2> &out_vect) {\n",
    "  if ((in_vect2.size() != in_vect1.size()) || (out_vect.size() != in_vect1.size())){\n",
    "    std::cout<<\"ERROR: Vector sizes do not match\"<<\"\\n\";\n",
    "    return;\n",
    "    }\n",
    "  for (int i = 0; i < in_vect1.size(); i++) {\n",
    "    out_vect[i] = in_vect1[i].complex_mul(in_vect2[i]);\n",
    "  }\n",
    "}\n",
    "// Compare the results of the two output vectors from parallel and scalar. They\n",
    "// should be equal\n",
    "int Compare(std::vector<Complex2> &v1, std::vector<Complex2> &v2) {\n",
    "  int ret_code = 1;\n",
    "  if(v1.size() != v2.size()){\n",
    "    ret_code = -1;\n",
    "  }\n",
    "  for (int i = 0; i < v1.size(); i++) {\n",
    "    if (v1[i] != v2[i]) {\n",
    "      ret_code = -1;\n",
    "      break;\n",
    "    }\n",
    "  }\n",
    "  return ret_code;\n",
    "}\n",
    "int main() {\n",
    "  // Declare your Input and Output vectors of the Complex2 class\n",
    "  vector<Complex2> input_vect1;\n",
    "  vector<Complex2> input_vect2;\n",
    "  vector<Complex2> out_vect_parallel;\n",
    "  vector<Complex2> out_vect_scalar;\n",
    "\n",
    "  for (int i = 0; i < num_elements; i++) {\n",
    "    input_vect1.push_back(Complex2(i + 2, i + 4));\n",
    "    input_vect2.push_back(Complex2(i + 4, i + 6));\n",
    "    out_vect_parallel.push_back(Complex2(0, 0));\n",
    "    out_vect_scalar.push_back(Complex2(0, 0));\n",
    "  }\n",
    "\n",
    "  // Initialize your Input and Output Vectors. Inputs are initialized as below.\n",
    "  // Outputs are initialized with 0\n",
    "  try {\n",
    "    // Pass in the name of the vendor for which the device you want to query\n",
    "    std::string vendor_name = \"Intel\";\n",
    "    // std::string vendor_name = \"AMD\";\n",
    "    // std::string vendor_name = \"Nvidia\";\n",
    "    // queue constructor passed exception handler\n",
    "    CustomDeviceSelector selector(vendor_name);\n",
    "    queue q(selector, dpc_common::exception_handler);\n",
    "    // Call the DpcppParallel with the required inputs and outputs\n",
    "    DpcppParallel(q, input_vect1, input_vect2, out_vect_parallel);\n",
    "  } catch (...) {\n",
    "    // some other exception detected\n",
    "    std::cout << \"Failure\" << std::endl;\n",
    "    std::terminate();\n",
    "  }\n",
    "\n",
    "  std::cout\n",
    "      << \"****************************************Multiplying Complex numbers \"\n",
    "         \"in Parallel********************************************************\"\n",
    "      << std::endl;\n",
    "  // Print the outputs of the Parallel function\n",
    "  int indices[]{0, 1, 2, 3, 4, (num_elements - 1)};\n",
    "  constexpr size_t indices_size = sizeof(indices) / sizeof(int);\n",
    "\n",
    "  for (int i = 0; i < indices_size; i++) {\n",
    "    int j = indices[i];\n",
    "    if (i == indices_size - 1) std::cout << \"...\\n\";\n",
    "    std::cout << \"[\" << j << \"] \" << input_vect1[j] << \" * \" << input_vect2[j]\n",
    "              << \" = \" << out_vect_parallel[j] << \"\\n\";\n",
    "  }\n",
    "  // Call the DpcppScalar function with the required input and outputs\n",
    "  DpcppScalar(input_vect1, input_vect2, out_vect_scalar);\n",
    "\n",
    "  // Compare the outputs from the parallel and the scalar functions. They should\n",
    "  // be equal\n",
    "\n",
    "  int ret_code = Compare(out_vect_parallel, out_vect_scalar);\n",
    "  if (ret_code == 1) {\n",
    "    std::cout << \"Complex multiplication successfully run on the device\"\n",
    "              << \"\\n\";\n",
    "  } else\n",
    "    std::cout\n",
    "        << \"*********************************************Verification Failed. Results are \"\n",
    "           \"not matched**************************\"\n",
    "        << \"\\n\";\n",
    "\n",
    "  return 0;\n",
    "}\n"
   ]
  },
  {
   "cell_type": "markdown",
   "metadata": {},
   "source": [
    "### Build and Run\n",
    "Select the cell below and click run ▶ to compile and execute the code:"
   ]
  },
  {
   "cell_type": "code",
   "execution_count": null,
   "metadata": {},
   "outputs": [],
   "source": [
    "! chmod 755 q; chmod 755 run_complex_mult.sh; if [ -x \"$(command -v qsub)\" ]; then ./q run_complex_mult.sh; else ./run_complex_mult.sh; fi"
   ]
  },
  {
   "cell_type": "markdown",
   "metadata": {},
   "source": [
    "_If the Jupyter cells are not responsive or if they error out when you compile the code samples,please restart the Jupyter Kernel: \n",
    "\"Kernel->Restart Kernel and Clear All Outputs\" and compile the code samples again_"
   ]
  },
  {
   "cell_type": "markdown",
   "metadata": {},
   "source": [
    "#### Solution\n",
    "- [complex_mult_solution.cpp](src/complex_mult_solution.cpp)"
   ]
  },
  {
   "cell_type": "markdown",
   "metadata": {},
   "source": [
    "***\n",
    "# Summary\n",
    "\n",
    "In this module you learned:\n",
    "* The fundamental SYCL Classes\n",
    "* How to select the device to offload to kernel workloads\n",
    "* How to write a DPC++ program using Buffers, Accessors, Command Group handler, and kernel\n",
    "* How to use the Host accessors and Buffer destruction to do the synchronization\n"
   ]
  },
  {
   "cell_type": "markdown",
   "metadata": {},
   "source": [
    "<html><body><span style=\"color:green\"><h1>Survey</h1></span></body></html>\n",
    "\n",
    "[We would appreciate any feedback you’d care to give, so that we can improve the overall training quality and experience. Thanks! ](https://intel.az1.qualtrics.com/jfe/form/SV_6zljPDDUQ0RBRsx)"
   ]
  }
 ],
 "metadata": {
  "kernelspec": {
   "display_name": "Python 3.7 (Intel® oneAPI)",
   "language": "python",
   "name": "c009-intel_distribution_of_python_3_oneapi-beta05-python"
  },
  "language_info": {
   "codemirror_mode": {
    "name": "ipython",
    "version": 3
   },
   "file_extension": ".py",
   "mimetype": "text/x-python",
   "name": "python",
   "nbconvert_exporter": "python",
   "pygments_lexer": "ipython3",
   "version": "3.7.7"
  },
  "toc": {
   "base_numbering": 1,
   "nav_menu": {},
   "number_sections": true,
   "sideBar": true,
   "skip_h1_title": false,
   "title_cell": "Table of Contents",
   "title_sidebar": "Contents",
   "toc_cell": false,
   "toc_position": {
    "height": "525.6px",
    "left": "28px",
    "top": "137.8px",
    "width": "301.09px"
   },
   "toc_section_display": true,
   "toc_window_display": true
  },
  "widgets": {
   "application/vnd.jupyter.widget-state+json": {
    "state": {},
    "version_major": 2,
    "version_minor": 0
   }
  }
 },
 "nbformat": 4,
 "nbformat_minor": 4
}
