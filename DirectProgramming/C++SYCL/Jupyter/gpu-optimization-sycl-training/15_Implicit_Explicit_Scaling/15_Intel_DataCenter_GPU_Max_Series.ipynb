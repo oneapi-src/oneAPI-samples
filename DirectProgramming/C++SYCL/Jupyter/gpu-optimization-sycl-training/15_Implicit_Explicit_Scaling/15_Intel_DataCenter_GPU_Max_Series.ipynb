{
 "cells": [
  {
   "cell_type": "markdown",
   "id": "f6a65ac1-aaf8-4738-9af9-0b628d3795f6",
   "metadata": {},
   "source": [
    "# Intel Data Center GPU MAX Series\n",
    "\n",
    "This module gives an architectural overview of Intel Data Center GPU MAX Series (__Xe HPC Architecture__), showing the building blocks of the GPU from developer point of view.\n",
    "\n",
    "## Xe-HPC Architecture\n",
    "\n",
    "- The Compute building block of the Xe HPC-based GPU is the __Xe-Core__ consiting of 8 vector engines. \n",
    "  - _(Vector Engine formerly refered to as Execution-Units/EU, Xe-Core formerly refered to as Sub-Slice in Gen9/Gen11 Graphics HW)_\n",
    "- 16 Xe-Cores with a hardware context make up a __Xe-Slice__\n",
    "- Upto 4 Xe-Slice makes __Xe-Stack__ (with upto 64 Xe-Cores)\n",
    "- 1 or more Xe-Stacks can be present in GPU\n",
    "\n",
    "### Xe-Core \n",
    "##### Building block of GPU with 8 vector engines, 8 matrix engines, SLM/L1 Cache\n",
    "<img src=\"assets/xe_core.png\">\n",
    "\n",
    "### Xe-Slice \n",
    "##### upto 16 Xe-Core, 16 Ray Tracing Units, 1 hardware context\n",
    "<img src=\"assets/xe_slice.png\">\n",
    "\n",
    "### Xe-Stack\n",
    "##### upto 4 Xe-Slices, Media Engine, L2 Cache, Memory Controllers, Xe-Links \n",
    "<img src=\"assets/xe_stack.png\">\n",
    "\n",
    "### Two Xe-Stacks\n",
    "##### GPU with multiple Xe-Stack\n",
    "<img src=\"assets/xe_stack_2.png\">\n",
    "\n",
    "For example, the __Intel® Data Center GPU Max 1550__ has 2 Xe-Stacks, 4 Xe-Slice per Xe-Stack, 16 Xe-Cores per Xe-Slice, 8 Vector-Engines per Xe-Core:\n",
    "- 2 Xe-Stack\n",
    "- 8 Xe-Slice, 8 hardware contexts\n",
    "- 128 Xe-Cores\n",
    "- 1024 Vector Engines"
   ]
  },
  {
   "cell_type": "markdown",
   "id": "f32802c1-a633-4a64-9787-2ae42de253f7",
   "metadata": {},
   "source": [
    "## Xe-HPC Programming Modes\n",
    "\n",
    "The Developer can either view this two Xe-Stack GPU as a single GPU or can view it as 2 individual GPUs to program for it.\n",
    "\n",
    "To properly utilize GPU with multiple Xe-Stacks, we introduced two application programming modes:\n",
    "\n",
    "#### Implicit scaling mode\n",
    "Driver and language runtimes are responsible for work distribution and multi-stack memory placement. Application sees the GPU as one monolithic device and does not care about multi-stack architecture.\n",
    "\n",
    "#### Explicit scaling mode\n",
    "User is responsible for work distribution and mutli-stack memory placement. Driver and language runtimes provide tools that expose each stack as a separate subdevice that can be programmed independently of all the others.\n",
    "\n",
    "_Note that explicit scaling can produce better performance depending on the type of kernel workload_"
   ]
  },
  {
   "cell_type": "markdown",
   "id": "4b23f86a-0a02-4b13-80d3-22e91431dc9f",
   "metadata": {},
   "source": [
    "## Summary\n",
    "\n",
    "The Intel Data Center GPU Max Series can have 1 or 2 Xe-Stack, each Xe-Stack function as a complete GPU. In case of 2 Xe-Stack GPU, the developer has the option to view this GPU as a single GPU  (implicit scaling) or has the option to view it as 2 GPUs and program independently (explicit scaling)."
   ]
  },
  {
   "cell_type": "code",
   "execution_count": null,
   "id": "e071638c-5999-4bce-bb06-4f96f068f057",
   "metadata": {},
   "outputs": [],
   "source": []
  }
 ],
 "metadata": {
  "kernelspec": {
   "display_name": "Python 3 (Intel® oneAPI 2023.2)",
   "language": "python",
   "name": "c009-intel_distribution_of_python_3_oneapi-beta05-python"
  },
  "language_info": {
   "codemirror_mode": {
    "name": "ipython",
    "version": 3
   },
   "file_extension": ".py",
   "mimetype": "text/x-python",
   "name": "python",
   "nbconvert_exporter": "python",
   "pygments_lexer": "ipython3",
   "version": "3.9.16"
  }
 },
 "nbformat": 4,
 "nbformat_minor": 5
}
