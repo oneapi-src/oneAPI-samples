{
 "cells": [
  {
   "cell_type": "markdown",
   "id": "ba9cefef-65a0-4111-a84a-5bd59135fefe",
   "metadata": {},
   "source": [
    "# GPU Optimization with SYCL\n",
    "\n",
    "Below is list of topics in the __GPU Optimization using SYCL__ modules:\n",
    "- [__Introduction to GPU Optimization__](01_Introduction_to_GPU_Optimization/01_Introduction.ipynb)\n",
    "  - Phases in the Optimization Workflow\n",
    "  - Locality Matters\n",
    "  - Parallelization\n",
    "  - GPU Execution Model Overview\n",
    "- [__Thread Mapping and Occupancy__](02_Thread_Mapping_and_Occupancy/02_Thread_Mapping_and_Occupancy.ipynb)\n",
    "  - nd_range Kernel\n",
    "  - Thread Synchronization\n",
    "  - Mapping Work-groups to Xe-cores for Maximum Occupancy\n",
    "  - Intel® GPU Occupancy Calculator\n",
    "- [__Memory Optimizations__](03_Memory_Optimization/03_Memory_Optimization.ipynb)\n",
    "  - [Memory Optimization - Buffers](03_Memory_Optimization/031_Memory_Optimization_Buffers.ipynb)\n",
    "    - Buffer Accessor Modes\n",
    "    - Optimizing Memory Movement Between Host and Device\n",
    "    - Avoid Declaring Buffers in a Loop\n",
    "    - Avoid Moving Data Back and Forth Between Host and Device\n",
    "  - [Memory Optimization - USM](03_Memory_Optimization/032_Memory_Optimization_USM.ipynb)\n",
    "    - Overlapping Data Transfer from Host to Device\n",
    "    - Avoid Copying Unnecessary Block of Data\n",
    "    - Copying Memory from Host to USM Device Allocation\n",
    "- [__Kernel Submission__](04_Kernel_Submission/04_Kernel_Submission.ipynb)\n",
    "  - Kernel Launch\n",
    "  - Executing Multiple Kernels\n",
    "  - Submitting Kernels to Multiple Queues\n",
    "  - Avoid Redundant Queue Construction\n",
    "- [__Kernel Programming__](05_Kernel_Programming/05_Kernel_Programming.ipynb)\n",
    "  - Considerations for Selecting Work-group Size\n",
    "  - Removing Conditional Checks\n",
    "  - Avoiding Register Spills\n",
    "- [__Shared Local Memory__](06_Shared_Local_Memory/06_Shared_Local_Memory.ipynb)\n",
    "  - SLM Size and Work-group Size\n",
    "  - Bank Conflicts\n",
    "  - Using SLM as Cache\n",
    "  - Data Sharing and Work-group Barriers\n",
    "- [__Sub-Groups__](07_Sub_Groups/07_Sub_Groups.ipynb)\n",
    "  - Sub-group Sizes\n",
    "  - Sub-group Size vs. Maximum Sub-group Size\n",
    "  - Vectorization and Memory Access\n",
    "  - Data Sharing\n",
    "- [__Atomic Operations__](08_Atomic_Operations/08_Atomic_Operations.ipynb)\n",
    "  - Data Types for Atomic Operations\n",
    "  - Atomic Operations in Global vs Local Space\n",
    "- [__Kernel Reduction__](09_Kernel_Reduction/09_Kernel_Reduction.ipynb)\n",
    "  - Reduction Using Atomic Operation\n",
    "  - Reduction Using Shared Local Memory\n",
    "  - Reduction Using Sub-Groups\n",
    "  - Reduction Using SYCL Reduction Kernel\n",
    "\n",
    "# Reference\n",
    "Original Source: [oneAPI GPU Optimization Guide](https://www.intel.com/content/www/us/en/develop/documentation/oneapi-gpu-optimization-guide/top.html)\n"
   ]
  }
 ],
 "metadata": {
  "kernelspec": {
   "display_name": "Python 3.8 (Intel® oneAPI)",
   "language": "python",
   "name": "c009-intel_distribution_of_python_3_oneapi-beta05-python"
  },
  "language_info": {
   "codemirror_mode": {
    "name": "ipython",
    "version": 3
   },
   "file_extension": ".py",
   "mimetype": "text/x-python",
   "name": "python",
   "nbconvert_exporter": "python",
   "pygments_lexer": "ipython3",
   "version": "3.9.10"
  }
 },
 "nbformat": 4,
 "nbformat_minor": 5
}

