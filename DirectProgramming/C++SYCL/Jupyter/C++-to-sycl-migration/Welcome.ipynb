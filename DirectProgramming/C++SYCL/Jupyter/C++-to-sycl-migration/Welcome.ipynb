{
 "cells": [
  {
   "cell_type": "markdown",
   "metadata": {
    "tags": []
   },
   "source": [
    "# Guided ISO3DFD GPU Optimization Modules"
   ]
  },
  {
   "cell_type": "markdown",
   "metadata": {
    "tags": []
   },
   "source": [
    "The concepts build on top of each other introducing and reinforcing the concepts of ISO3DFD and optimizations using oneAPI and SYCL Programming.\n",
    "\n",
    "## Module 1 - [ISO3DFD and offload Advsior analysis running on CPU ](01_ISO3DFD_CPU/iso3dfd_Offload_Advisor_Analysis.ipynb)\n",
    "This module introduces you to ISO3DFD and usage Intel® Advisor analysis tool to provide performance analysis/projections of the application and run then offload modeling on the CPU version of the application to identify code regions that are good opportunities for GPU offload\n",
    "\n",
    "## Module 2 - [ISO3DFD and Implementation using SYCL and offloading to a GPU ](02_ISO3DFD_GPU_Basic/iso3dfd_gpu_basic.ipynb)\n",
    "This module implements the basic offload of the iso3dfd function to an available GPU on the system. We have to create queue  and change the iso3dfd function. Instead of iterating over all the cells in the memory, we will create buffers and accessors to move the data to the GPU  when needed and create a kernel which will do the calculations, each kernel will calculate one cell.\n",
    "\n",
    "\n",
    "## Module 3 - [ISO3DFD on a GPU and Index computations ](03_ISO3DFD_GPU_Linear/iso3dfd_gpu_linear.ipynb)\n",
    "In this notebook, we'll address the problem being compute bound in kernels by reducing index calculations by changing how we calculate indices. We can change the 3D indexing to 1D. we learn how flatten the buffers, change how we calculate location in the memory for each kernel, and change how we are accessing the neighbors\n",
    "\n",
    "## Module 4 - [ISO3DFD nd_range implementattion to a GPU ](04_ISO3DFD_GPU_Optimized/iso3dfd_gpu_optimized.ipynb)\n",
    "In this module we to change the kernel to nd_range; we learn to offload more work in each local work group, which optimizes loading neighboring stencil points from the fast L1 cache. This latest iteration includes new arguments for the nd_range size and kernel iterations, change back the kernel_range to 3d and introduce local_range for work group size, change parallel_for to use nd_range update how indices are calculated with introduction of dedicated cache reuse memory.\n",
    "\n"
   ]
  },
  {
   "cell_type": "code",
   "execution_count": null,
   "metadata": {},
   "outputs": [],
   "source": []
  }
 ],
 "metadata": {
  "kernelspec": {
   "display_name": "Python 3 (ipykernel)",
   "language": "python",
   "name": "python3"
  },
  "language_info": {
   "codemirror_mode": {
    "name": "ipython",
    "version": 3
   },
   "file_extension": ".py",
   "mimetype": "text/x-python",
   "name": "python",
   "nbconvert_exporter": "python",
   "pygments_lexer": "ipython3",
   "version": "3.11.5"
  },
  "toc": {
   "base_numbering": 1,
   "nav_menu": {},
   "number_sections": true,
   "sideBar": true,
   "skip_h1_title": false,
   "title_cell": "Table of Contents",
   "title_sidebar": "Contents",
   "toc_cell": false,
   "toc_position": {
    "height": "calc(100% - 180px)",
    "left": "10px",
    "top": "150px",
    "width": "384.391px"
   },
   "toc_section_display": true,
   "toc_window_display": true
  }
 },
 "nbformat": 4,
 "nbformat_minor": 4
}
