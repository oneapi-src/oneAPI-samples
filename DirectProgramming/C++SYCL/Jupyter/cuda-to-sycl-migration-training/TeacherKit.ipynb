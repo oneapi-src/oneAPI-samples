{
 "cells": [
  {
   "cell_type": "markdown",
   "id": "16c34bb8-6bc5-44fd-b023-af4e670f66a4",
   "metadata": {
    "tags": []
   },
   "source": [
    "# CUDA to SYCL Migration"
   ]
  },
  {
   "cell_type": "markdown",
   "id": "03a54bc8-725c-4c6f-beb8-4946337034b8",
   "metadata": {},
   "source": [
    "This course will cover how CUDA code can be migrated to SYCL code using SYCLomatic Tool, starting with Introduction to SYCL migration, SYCL migration process starting with the most basic CUDA example to more complex CUDA projects, migration of CUDA projects with different CUDA features and libraries.\n",
    "\n",
    "- Motivation\n",
    "- Learning Objectives\n",
    "- Target Audience\n",
    "- Prerequisites\n",
    "- Course Syllabus\n",
    "- Resources"
   ]
  },
  {
   "cell_type": "markdown",
   "id": "c75e3942-ab3c-4a78-9b55-ad0150da0adc",
   "metadata": {},
   "source": [
    "## Motivation\n",
    "\n",
    "- SYCL breaks the Chains of Proprietary Lock-in and gives freedom to make your best choice, choose the best accelerated technology the software doesn’t decide for you.\n",
    "- SYCL is open standard, cross-architecture and cross-vendor programming solution to High Performance Computing.\n",
    "- SYCL enables heterogenous computing and code reuse across architectures (CPUs, GPUs, FPGAs) and across vendors."
   ]
  },
  {
   "cell_type": "markdown",
   "id": "b1644f30-3574-4b80-b89f-22899186e2ec",
   "metadata": {},
   "source": [
    "## Learning Objectives\n",
    "\n",
    "At the end of this course you will be able to:\n",
    "\n",
    "- Understand the advantages of migrating to SYCL\n",
    "- Migrate a CUDA application to SYCL application and compile/run on different accelerators like CPU or GPU from different vendors."
   ]
  },
  {
   "cell_type": "markdown",
   "id": "51b34834-8bc7-4ea8-a328-2948f3d3dd76",
   "metadata": {},
   "source": [
    "## Target Audience\n",
    "\n",
    "- CUDA Developers\n"
   ]
  },
  {
   "cell_type": "markdown",
   "id": "a81d0b88-380f-4561-bac1-696c2d418de1",
   "metadata": {
    "jp-MarkdownHeadingCollapsed": true,
    "tags": []
   },
   "source": [
    "## Prerequisites\n",
    "- CUDA Programming\n",
    "- SYCL Programming Basics"
   ]
  },
  {
   "cell_type": "markdown",
   "id": "5b766aff-d5a4-4d1d-abef-b5660b6b5502",
   "metadata": {
    "jp-MarkdownHeadingCollapsed": true,
    "tags": []
   },
   "source": [
    "## Syllabus\n",
    "\n",
    "- 5 Modules (5 hours)\n",
    "- 4 Lab Exercises\n",
    "\n",
    "| Modules | Description | Duration |\n",
    "|---|---|---|\n",
    "|[SYCL Migration - Introduction](00_SYCL_Migration_Introduction/00_SYCL_Migration_Introduction.ipynb)| + CUDA to SYCL Migration Introduction<br>+ SYCLomatic Tool Introduction and Usage<br>+ Migration Workflow Overview | 1 hour\n",
    "|[SYCLMigration - Simple VectorAdd](01_SYCL_Migration_Simple_VectorAdd/01_SYCL_Migration_Simple_VectorAdd.ipynb)|+ Learn how to migrate a simple single source CUDA code to SYCL.| 1 hour\n",
    "|[SYCLMigration - Sorting Networks](02_SYCL_Migration_SortingNetworks/02_SYCL_Migration_SortingNetworks.ipynb)|+ Learn how to migrate a CUDA project with multiple sources files that uses Makefile for the project.| 1 hour\n",
    "|[SYCLMigration - Jacobi Iterative](03_SYCL_Migration_Jacobi_Iterative/03_SYCL_Migration_Jacobi_Iterative.ipynb)|+ Learn how to migrate a CUDA project that using CUDA features to access the GPU hardware like Shared Local Memory, warps and atomics in kernel code.| 1 hour\n",
    "|[SYCLMigration - Matrix Multiplication with CuBlas library](04_SYCL_Migration_MatrixMul_CuBlas/04_SYCL_Migration_MatrixMul_CuBlas.ipynb)|+ Learn how to migrate a CUDA project that uses CUDA library like cuBLAS.| 1 hour"
   ]
  },
  {
   "cell_type": "markdown",
   "id": "5e0872a2-80ba-49c5-bf7e-b03787b0740f",
   "metadata": {
    "tags": []
   },
   "source": [
    "# Resources\n",
    "\n",
    "- [SYCLomatic Tool Download](https://github.com/oneapi-src/SYCLomatic/releases)\n",
    "- [One Stop Portal for CUDA to SYCL Migration](https://www.intel.com/content/www/us/en/developer/tools/oneapi/training/migrate-from-cuda-to-cpp-with-sycl.html)\n",
    "- [SYCL2020 Spectifcation](https://registry.khronos.org/SYCL/specs/sycl-2020/pdf/sycl-2020.pdf)\n",
    "- [SYCL Code Samples](https://github.com/oneapi-src/oneAPI-samples/tree/master/DirectProgramming/C%2B%2BSYCL)\n",
    "- [Intel GPU Optimization Guide](https://www.intel.com/content/www/us/en/develop/documentation/oneapi-gpu-optimization-guide/top.html)"
   ]
  }
 ],
 "metadata": {
  "kernelspec": {
   "display_name": "Python 3 (Intel® oneAPI 2023.0)",
   "language": "python",
   "name": "c009-intel_distribution_of_python_3_oneapi-beta05-python"
  },
  "language_info": {
   "codemirror_mode": {
    "name": "ipython",
    "version": 3
   },
   "file_extension": ".py",
   "mimetype": "text/x-python",
   "name": "python",
   "nbconvert_exporter": "python",
   "pygments_lexer": "ipython3",
   "version": "3.9.15"
  }
 },
 "nbformat": 4,
 "nbformat_minor": 5
}
