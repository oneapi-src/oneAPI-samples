{
 "cells": [
  {
   "cell_type": "markdown",
   "id": "6f8f271f-d562-44f8-bf5f-96310bef377d",
   "metadata": {
    "tags": []
   },
   "source": [
    "# SYCL Migration - MonteCarloMultiGPU"
   ]
  },
  {
   "cell_type": "markdown",
   "id": "3ada1808-d73a-4d96-a1bf-9dccdab7747b",
   "metadata": {},
   "source": [
    "##### Sections\n",
    "- [Introduction](#Introduction)\n",
    "- [Analyze CUDA source](#Analyze-CUDA-source)\n",
    "- [Migrate CUDA source to SYCL source](#Migrate-CUDA-source-to-SYCL-source)\n",
    "- [Analyze, Compile and Run the migrated SYCL source](#Analyze,-Compile-and-Run-the-migrated-SYCL-source)\n",
    "- [Source Code](#Source-Code)"
   ]
  },
  {
   "cell_type": "markdown",
   "id": "757fbb8d-244b-4f90-9de9-3846df15afc1",
   "metadata": {},
   "source": [
    "## Learning Objectives\n",
    "* Use SYCLomatic Tool to migrate a simple single source CUDA application\n",
    "* Use various command line options of `SYCLomatic` for CUDA to SYCL migration\n",
    "* Compile and run migrated SYCL code on Intel CPUs and GPUs\n",
    "* Optimize the migrated SYCL code with manual coding"
   ]
  },
  {
   "cell_type": "markdown",
   "id": "ba7e6c1f-95ee-419d-8149-6a7789998ef0",
   "metadata": {},
   "source": [
    "## Introduction\n",
    "\n",
    "This module will walk you through migrating CUDA code to SYCL code using Intel SYCLomatic Tool\n",
    "\n",
    "#### Requirements\n",
    "1. NVidia CUDA development machine\n",
    "2. Development machine with Intel CPU/GPU or a Intel Developer Cloud account\n",
    "\n",
    "#### Migration Process\n",
    "We will do the following steps in this hands-on workshop:\n",
    "- Analyze CUDA source\n",
    "- Migrate CUDA source to SYCL source\n",
    "- Analyze, Compile and Run the migrated SYCL source"
   ]
  },
  {
   "cell_type": "markdown",
   "id": "db5aa043-0d1f-43df-9a9a-e38f13e4bc86",
   "metadata": {
    "tags": []
   },
   "source": [
    "## Analyze CUDA source\n",
    "\n",
    "The CUDA source for \"MonteCarloMultiGPU\" example is available on [Nvidia Github](https://github.com/NVIDIA/cuda-samples/tree/master/Samples/5_Domain_Specific/MonteCarloMultiGPU)\n",
    "\n",
    "Pull the entire repository on your CUDA Development machine.\n",
    "\n",
    "```\n",
    "git clone https://github.com/NVIDIA/cuda-samples.git\n",
    "\n",
    "cd cuda-samples/Samples/5_Domain_Specific/MonteCarloMultiGPU/\n",
    "```\n",
    "\n",
    "The CUDA source demonstrates how to calculate the pricing of European Options by applying the Black-Scholes formula and with MonteCarlo approach.\n",
    "\n",
    "[__MonteCarloMultiGPU.cpp MonteCarlo_kernel.cu MonteCarlo_gold.cpp__](https://github.com/NVIDIA/cuda-samples/tree/master/Samples/5_Domain_Specific/MonteCarloMultiGPU) — host code for:\n\n",
    "MonteCarlo Method first generates a random number based on a probability distribution. The random number then uses the additional inputs of volatility and time to expiration to generate a stock price. The generated stock price at the time of expiration is then used to calculate the value of the option. The model then calculates results over and over, each time using a different set of random values from the probability functions\n\n",

    "The first stage of the computation is the generation of a normally distributed N(0, 1)number sequence, which comes down to uniformly distributed sequence generation. Once we’ve generated the desired number of samples, we use them to compute an expected value and confidence width for the underlying option.\n\n",

    "The Black-Scholes model relies on fixed inputs (current stock price, strike price, time until expiration, volatility, risk free rates, and dividend yield). The model is based on geometric Browniani motion with constant drift and volatility. We can calculate the price of the European put and call options explicitly using the Black–Scholes formula.\n\n",

   "The price of a call option C in terms of the Black–Scholes parameters is\n\n",

   "C=N(d1)×S−N(d2)×PV(K)\n\n",

   "where:\n\n",

   "- d1=1σ√T[log(SK)+(r+σ22)T]\n\n",

   "- d2=d1−σ√T\n\n",

   "- PV(K)=Kexp(−rT)\n\n",

   "After repeatedly computing appropriate averages, the estimated price of options can be obtained, which is consistent with the analytical results from Black-Scholes model."
    
   ]
  },
  {
   "cell_type": "markdown",
   "id": "5495ba6e-e388-4270-87ee-72a669b1aef3",
   "metadata": {
    "tags": []
   },
   "source": [
    "## Migrate CUDA source to SYCL source\n",
    "\n",
    "<p style=\"background-color:#cdc\"> Note: A CUDA development machine is required to accomplish the task in this section </p>\n",
    "\n",
    "Now that we have analyzed the CUDA source, we will migrate the CUDA source into SYCL source using the __SYCLomatic Tool__.\n",
    "\n",
    "In this exercise, we will walk you through step-by-step to migrate the CUDA code.\n",
    "\n",
    "#### Requirements\n",
    "\n",
    "Make sure you have a __NVIDIA CUDA development machine__ that can __compile and run CUDA code__. The next step is to install the tools for migrating CUDA to SYCL:\n",
    "\n",
    "- Install SYCLomatic Tool on this machine\n",
    "  - go to https://github.com/oneapi-src/SYCLomatic/releases/\n",
    "  - copy link to latest `linux_release.tgz` from assets\n",
    "  - on the CUDA development machine: `mkdir syclomatic; cd syclomatic`\n",
    "  - `wget <link to linux_release.tgz>`\n",
    "  - `tar -xvf linux_release.tgz`\n",
    "  - `export PATH=\"/home/$USER/syclomatic/bin:$PATH\"`\n",
    "  - Verify installation: `c2s --version`\n",
    "- pull the CUDA samples repo to this machine\n",
    "  - `git clone https://github.com/NVIDIA/cuda-samples.git`\n",
    "- Compile and run the `MonteCarloMultiGPU` sample\n",
    "  - `cd cuda-samples/Samples/5_Domain_Specific/MonteCarloMultiGPU/`\n",
    "  - `make`\n",
    "\n",
    "\n",
    "### Migrate CUDA source to SYCL source using SYCLomatic\n",
    "\n",
    "On the NVIDIA CUDA Development machine, go to the CUDA source folder and generate a compilation database with the tool `intercept-build`. This creates a JSON file with all the compiler invocations, stores the names of the input files and the compiler options.\n",
    "\n",
    "```\n",
    "make clean\n",
    "intercept-build make\n",
    "```\n",
    "\n",
    "This will create a file named `compile_commands.json` in the sample folder.\n",
    "\n",
    "Next, use the SYCLomatic Tool (c2s) to migrate the code; it will store the result in the migration folder `dpct_output`:\n",
    "\n",
    "```\n",
    "c2s -p compile_commands.json --in-root ../../.. --gen-helper-function\n",
    "```\n",
    "\n",
    "The `--gen-helper-function` option will copy the SYCLomatic helper header files to output directory.\n",
    "\n",
    "The `--in-root` option will specify the path for all the common include files for the CUDA project.\n",
    "\n",
    "This command should migrate the CUDA source to the C++ SYCL source in a folder named `dpct_output` by default, and the folder will have the C++ SYCL source along with any dependencies from the `Common` folder,\n",
    "\n",
    "- `MonteCarloMultiGPU.cpp.dp.cpp`\n",
    "- `MonteCarlo_kernel.dp.cpp`\n",
    "- `MonteCarlo_gold.cpp.dp.cpp`\n",
    "- `multithreading.cpp`\n",
    "- `MonteCarlo_reduction.dp.hpp`\n",
    "- `MonteCarlo_common.h`\n",
    "- `realtype.h`\n",

    "\n",
    "This command may also throw a bunch of warnings about the migration process. The CUDA code that cannot be automatically migrated will have warning comments generated in the migrated source files, which have to be manually migrated.\n"
   ]
  },
  {
   "cell_type": "markdown",
   "id": "5122ddf2-6bcb-4ec7-8daf-18273d48d8a6",
   "metadata": {},
   "source": [
    "## Analyze, Compile and Run the migrated SYCL source\n",
    "\n",
    "<p style=\"background-color:#cdc\"> Note: The tasks in this section should be done on Intel DevCloud or on a system with oneAPI Base toolkit installed.</p>\n",
    "\n",
    "The migrated SYCL code are in the `Samples` folder under the `dpct_output` folder:\n",
    "- `MonteCarloMultiGPU.cpp.dp.cpp`\n",
    "- `MonteCarlo_kernel.dp.cpp`\n",
    "- `MonteCarlo_gold.cpp.dp.cpp`\n",
    "- `multithreading.cpp`\n",
    "- `MonteCarlo_reduction.dp.hpp`\n",
    "- `MonteCarlo_common.h`\n",
    "- `realtype.h`\n",
    "\n",
    "The `dpct_output` folder also has headers files needed for compiling the migrated SYCL code. The `Common` folder has header files with CUDA helper functions which are migrated to SYCL and the `include` folder has header files with SYCLomatic helper functions.\n",
    "\n",
    "#### Requirements\n",
    "\n",
    "Make sure you have one of the following:\n",
    "- __Development machine with Intel CPU/GPU__ with Intel oneAPI Base Toolkit installed\n",
    "- __Intel Developer Cloud__ account to access the Intel CPUs/GPUs on the cloud\n",
    "\n",
    "### Compiling migrated SYCL code\n",
    "\n",
    "Copy the files mentioned above in `dpct_output` folder on __Nvidia Development Machine__ to __Intel Developer Cloud__\n",
    "\n",
    "To compile the migrated SYCL code we can use the following command:\n",
    "```\n",
    "icpx -fsycl -fsycl-targets=intel_gpu_pvc -I ../../../Common -I ../../../include *.cpp\n",
    "```\n",
    "\n",
    "There may be compile errors based on whether all of the CUDA code was migrated to SYCL or not. The migrated code may also include comments with warning messages, which could help make it easier to fix the errors. These errors have to be manually fixed to get the code to compile.\n",
    "\n",
    "#### Build and Run\n",
    "Select the cell below and click run ▶ to compile and execute the code (expect to see errors):"
   ]
  },
  {
   "cell_type": "code",
   "execution_count": null,
   "id": "0928ee62-95f4-4cdc-85eb-7cc536af5c49",
   "metadata": {},
   "outputs": [],
   "source": [
    "! ./q.sh run_dpct_output.sh"
   ]
  },
  {
   "cell_type": "markdown",
   "id": "641af418-8989-4523-9e21-5bc62f3ac5f3",
   "metadata": {},
   "source": [
    "\n",
    "\n",
    "### Fixing functionally incorrect SYCL code\n",
    "\n",
    "##### 1. DPCT1032:19: A different random number generator is used. You may need to adjust the code.\n",
    "```\n",
    "dpct::rng::device::rng_generator<oneapi::mkl::rng::device::mcg59<1>> *rngStates;\n",
    "```\n",
    "SYCLomatic migrates CUDA RNG to mcg59 RNG which does not accomplish the functional correctness of the sample. Manually need to use philox4x32x10<1> RNG to achieve the functional correctness.\n",
    "```\n",
    "oneapi::mkl::rng::device::philox4x32x10<1> *rngStates;\n",
    "```\r\n",
    "\n",
    "##### 2. Creating the host RNG.\n",
    "```\n",
    " gen = dpct::rng::create_host_rng(dpct::rng::random_engine_type::mcg59, dpct::cpu_device().default_queue());\n",
    "```\n",
    "\n",
    "As mcg59 was used has to be changed to philox4x32x10<1> RNG to create the host.\n",
    "\n",
    "```\n",
    "gen = dpct::rng::create_host_rng(dpct::rng::random_engine_type::philox4x32x10);\n",
    "```\n",
    "\n",
    "##### 3. There are few place where mcg59 was used in code, need to replaced with philox4x32x10.\n",
    "```\n",
    "dpct::rng::device::rng_generator<oneapi::mkl::rng::device::mcg59<1>>  *__restrict rngStates,\n",
    "dpct::rng::device::rng_generator<oneapi::mkl::rng::device::mcg59<1>> localState = rngStates[tid]; \n",
    "```\n",
    "```\n",
    "oneapi::mkl::rng::device::philox4x32x10<1> *__restrict rngStates,\n",
    "oneapi::mkl::rng::device::philox4x32x10<1> localState = rngStates[tid];\n",
    "```\n",
    "\n",
    "##### 4. DPCT1105:34: The mcg59 random number generator is used. The subsequence argument `item_ct1.get_local_id(2)` is ignored.\n",
    "```\n",
    "rngState[tid] = dpct::rng::device::rng_generator<oneapi::mkl::rng::device::mcg59<1>>(item_ct1.get_group(2) + item_ct1.get_group_range(2) * device_id, 0);\r\n",
    "```\n",
    "\n",
    "MCG59 RNG doesn't support subsequence argument this was the main reason why mcg59 RNG can't be used to achieve the functional correctness.\n",
    "\n",
    "```\n",
    "rngState[tid] = oneapi::mkl::rng::device::philox4x32x10<1>(\r\n",
      "item_ct1.get_group(2) + item_ct1.get_group_range(2) * device_id,\r\n",
      "{0, static_cast<std::uint64_t>((item_ct1.get_local_id(2)) * 8)});\r\n",
    "```\n",
    "\n",
    "##### 5. Changing the functional call rng::device::gaussian() \n",
    "```\n",
    " real r = localState.generate<oneapi::mkl::rng::device::gaussian<float>, 1>();\n",
    "```\n",
    "Usage of RNG generate has been changed\n",
    "```\n",
    "oneapi::mkl::rng::device::gaussian<real> dist;\n\n",
    "auto r = oneapi::mkl::rng::device::generate(dist, localState);\n",
    "\n",
    "```\n",
    "\n",
    "\n",
    "### Compile and Run the migrated SYCL source\n",
    "\n",
    "Once you have successfully migrated the CUDA source to the SYCL source, verify that the migrated SYCL code is functioning correctly by compiling and running it on the Intel Developer Cloud, which has a variety of Intel CPUs and GPUs available for development.\n",
    "\n",
    "#### Build and Run sycl_migrated\n",
    "Select the cell below and click run ▶ to compile and execute the code:"
   ]
  },
  {
   "cell_type": "code",
   "execution_count": null,
   "id": "9e33bcac-783a-484b-a98a-dd0c405485d5",
   "metadata": {},
   "outputs": [],
   "source": [
    "! ./q.sh run_sycl_migrated.sh"
   ]
  },
  {
   "attachments": {},
   "cell_type": "markdown",
   "id": "657b9672-39ae-4193-8af9-103b58667db4",
   "metadata": {},
   "source": [
    "### SYCL Code Migration Analysis\n",
    "\n",
    "When comparing the CUDA code and migrated SYCL code, we can see that there are some 1:1 equivalent calls, which are listed below in the table:\n",
    "\n",
    "| Functionality|CUDA|SYCL\n",
    "|-|-|-\n",
    "| library header file|`#include <curand_kernel.h>`|`#include <dpct/rng_utils.hpp>`\n",
    "| header file|`#include <cuda_runtime.h>`|`#include <sycl/sycl.hpp>` <br> `#include <dpct/dpct.hpp>`\n",
    "| RNG States | `curandState *rngStates;`| `oneapi::mkl::rng::device::philox4x32x10<1> *rngStates;`\n",
    "| Create generator host | `curandGenerator_t gen;` <br> `curandCreateGeneratorHost(&gen, CURAND_RNG_PSEUDO_DEFAULT)`| `dpct::rng::create_host_rng(dpct::rng::random_engine_type::philox4x32x10);`\n",
    "| RNG init| `curand_init(blockIdx.x + gridDim.x * device_id, threadIdx.x, 0, &rngState[tid]);`| `rngState[tid] = oneapi::mkl::rng::device::philox4x32x10<1>(item_ct1.get_group(2) + item_ct1.get_group_range(2) * device_id,{0, static_cast<std::uint64_t>((item_ct1.get_local_id(2)) * 8)});`\n",
    "\n",
    "\n"
   ]
  },
  {
   "cell_type": "markdown",
   "id": "778a1da6-16a9-4cca-9e46-12ae431d04c4",
   "metadata": {},
   "source": [
    "## Source Code\n",
    "\n",
    "This section describes the location of the CUDA source and the contents of different SYCL source code directories in this project.\n",
    "\n",
    "| folder name | source code description\n",
    "| --- | ---\n",
    "| [CUDA github](https://github.com/NVIDIA/cuda-samples/tree/master/Samples/5_Domain_Specific/MonteCarloMultiGPU) | Original CUDA Source used for migration\n",
    "| dpct_output | Contains output of SYCLomatic Tool used to migrate SYCL-compliant code from CUDA code. This SYCL code has some unmigrated code that must be manually fixed to get full functionality. (The code does not functionally work as generated.)\n",
    "| sycl_migrated | Contains manually migrated SYCL code from CUDA code.\n",
    "\n"
   ]
  },
  {
   "cell_type": "markdown",
   "id": "45a5f463-190f-4ebd-9253-505afa1d5046",
   "metadata": {},
   "source": [
    "## Summary\n",
    "\n",
    "In this module we have learnt how to migrate simple CUDA source to SYCL source to get functionality using `SYCLomatic` and then analized/optimized the SYCL source by manually coding. "
   ]
  }
 ],
 "metadata": {
  "kernelspec": {
   "display_name": "Python 3 (ipykernel)",
   "language": "python",
   "name": "python3"
  },
  "language_info": {
   "codemirror_mode": {
    "name": "ipython",
    "version": 3
   },
   "file_extension": ".py",
   "mimetype": "text/x-python",
   "name": "python",
   "nbconvert_exporter": "python",
   "pygments_lexer": "ipython3",
   "version": "3.11.5"
  }
 },
 "nbformat": 4,
 "nbformat_minor": 5
}
