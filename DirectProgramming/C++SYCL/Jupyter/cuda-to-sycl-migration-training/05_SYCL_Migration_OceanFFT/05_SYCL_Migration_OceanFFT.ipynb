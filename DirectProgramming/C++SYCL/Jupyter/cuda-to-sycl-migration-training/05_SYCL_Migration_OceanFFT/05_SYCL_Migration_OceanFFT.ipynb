{
 "cells": [
  {
   "cell_type": "markdown",
   "id": "726797c2-06bd-4fbe-88b0-734adc409770",
   "metadata": {
    "tags": []
   },
   "source": [
    "# SYCL Migration - OceanFFT"
   ]
  },
  {
   "cell_type": "markdown",
   "id": "3ada1808-d73a-4d96-a1bf-9dccdab7747b",
   "metadata": {},
   "source": [
    "##### Sections\n",
    "- [Introduction](#Introduction)\n",
    "- [Analyze CUDA source](#Analyze-CUDA-source)\n",
    "- [Migrate CUDA source to SYCL source](#Migrate-CUDA-source-to-SYCL-source)\n",
    "- [Analyze, Compile and Run the migrated SYCL source](#Analyze,-Compile-and-Run-the-migrated-SYCL-source)\n",
    "- [Source Code](#Source-Code)"
   ]
  },
  {
   "cell_type": "markdown",
   "id": "757fbb8d-244b-4f90-9de9-3846df15afc1",
   "metadata": {},
   "source": [
    "## Learning Objectives\n",
    "* Use SYCLomatic Tool to migrate a simple single source CUDA application\n",
    "* Use various command line options of `SYCLomatic` for CUDA to SYCL migration\n",
    "* Compile and run migrated SYCL code on Intel CPUs and GPUs\n",
    "* Optimize the migrated SYCL code with manual coding"
   ]
  },
  {
   "cell_type": "markdown",
   "id": "ba7e6c1f-95ee-419d-8149-6a7789998ef0",
   "metadata": {},
   "source": [
    "## Introduction\n",
    "\n",
    "This module will walk you through migrating CUDA code to SYCL code using Intel SYCLomatic Tool\n",
    "\n",
    "#### Requirements\n",
    "1. NVidia CUDA development machine\n",
    "2. Development machine with Intel CPU/GPU OR a Intel Developer Cloud account\n",
    "\n",
    "#### Migration Process\n",
    "We will do the following steps in this hands-on workshop:\n",
    "- Analyze CUDA source\n",
    "- Migrate CUDA source to SYCL source\n",
    "- Analyze, Compile and Run the migrated SYCL source"
   ]
  },
  {
   "cell_type": "markdown",
   "id": "db5aa043-0d1f-43df-9a9a-e38f13e4bc86",
   "metadata": {
    "tags": []
   },
   "source": [
    "## Analyze CUDA source\n",
    "\n",
    "The CUDA source for \"OceanFFT\" example is available on [Nvidia Github](https://github.com/NVIDIA/cuda-samples/tree/master/Samples/4_CUDA_Libraries/oceanFFT/)\n",
    "\n",
    "Pull the entire repository on your CUDA Development machine.\n",
    "\n",
    "```\n",
    "git clone https://github.com/NVIDIA/cuda-samples.git\n",
    "\n",
    "cd cuda-samples/Samples/4_CUDA_Libraries/oceanFFT/\n",
    "```\n",
    "\n",
    "The CUDA source simulates an Ocean height field using CUFFT Library in the following files.\n",
    "\n",
    "[__oceanFFT_kernel.cu\n",
    "oceanFFT.cpp__](https://github.com/NVIDIA/cuda-samples/blob/master/Samples/4_CUDA_Libraries/oceanFFT) — host code for:\n",
    "- The OceanFFT sample demonstrates the FFT Computations through different processes one after the another\n",
    "-\tGenerate wave spectrum in frequency domain,\n",
    "-\tExecute inverse FFT to convert to spatial domain,\n",
    "-\tUpdate height map values based on output of FFT,\n",
    "-\tCalculate slope by partial differences in spatial domain,\n"
   ]
  },
  {
   "cell_type": "markdown",
   "id": "5495ba6e-e388-4270-87ee-72a669b1aef3",
   "metadata": {
    "tags": []
   },
   "source": [
    "## Migrate CUDA source to SYCL source\n",
    "\n",
    "<p style=\"background-color:#cdc\"> Note: A CUDA development machine is required to accomplish the task in this section </p>\n",
    "\n",
    "Now that we have analyzed the CUDA source, we will migrate the CUDA source into SYCL source using the __SYCLomatic Tool__.\n",
    "\n",
    "In this exercise, we will walk you through step-by-step to migrate the CUDA code.\n",
    "\n",
    "#### Requirements\n",
    "\n",
    "Make sure you have a __NVIDIA CUDA development machine__ that can __compile and run CUDA code__. The next step is to install the tools for migrating CUDA to SYCL:\n",
    "\n",
    "- Install SYCLomatic Tool on this machine\n",
    "  - go to https://github.com/oneapi-src/SYCLomatic/releases/\n",
    "  - copy link to latest `linux_release.tgz` from assets\n",
    "  - on the CUDA development machine: `mkdir syclomatic; cd syclomatic`\n",
    "  - `wget <link to linux_release.tgz>`\n",
    "  - `tar -xvf linux_release.tgz`\n",
    "  - `export PATH=\"/home/$USER/syclomatic/bin:$PATH\"`\n",
    "  - Verify installation: `c2s --version`\n",
    "- pull the CUDA samples repo to this machine\n",
    "  - `git clone https://github.com/NVIDIA/cuda-samples.git`\n",
    "- Compile and run the `oceanFFT` sample\n",
    "  - `cd cuda-samples/Samples/4_CUDA_Libraries/oceanFFT`\n",
    "  - `make`\n",
    "\n",
    "\n",
    "### Migrate CUDA source to SYCL source using SYCLomatic\n",
    "\n",
    "On the NVIDIA CUDA Development machine, go to the CUDA source folder and generate a compilation database with the tool `intercept-build`. This creates a JSON file with all the compiler invocations, stores the names of the input files and the compiler options.\n",
    "\n",
    "```\n",
    "make clean\n",
    "intercept-build make\n",
    "```\n",
    "\n",
    "This will create a file named `compile_commands.json` in the sample folder.\n",
    "\n",
    "Next, use the SYCLomatic Tool (c2s) to migrate the code; it will store the result in the migration folder `dpct_output`:\n",
    "\n",
    "```\n",
    "c2s -p compile_commands.json --in-root ../../.. --gen-helper-function\n",
    "```\n",
    "\n",
    "The `--gen-helper-function` option will copy the SYCLomatic helper header files to output directory.\n",
    "\n",
    "The `--in-root` option will specify the path for all the common include files for the CUDA project.\n",
    "\n",
    "This command should migrate the CUDA source to the C++ SYCL source in a folder named `dpct_output` by default, and the folder will have the C++ SYCL source along with any dependencies from the `Common` folder:\n",
    "\n",
    "- `oceanFFT.cpp.dp.cpp`\n",
    "- `oceanFFT_kernel.dp.cpp`\n",
    "\n",
    "This command may also throw a bunch of warnings about the migration process. The CUDA code that cannot be automatically migrated will have warning comments generated in the migrated source files, which have to be manually migrated.\n"
   ]
  },
  {
   "cell_type": "markdown",
   "id": "641af418-8989-4523-9e21-5bc62f3ac5f3",
   "metadata": {},
   "source": [
    "## Analyze, Compile and Run the migrated SYCL source\n",
    "\n",
    "<p style=\"background-color:#cdc\"> Note: The tasks in this section should be done on Intel DevCloud or on a system with oneAPI Base toolkit installed.</p>\n",
    "\n",
    "The migrated SYCL code are in the `Samples` folder under the `dpct_output` folder:\n",
    "- `oceanFFT.cpp.dp.cpp`\n",
    "- `oceanFFT_kernel.dp.cpp`\n",
    "\n",
    "The `dpct_output` folder also has headers files needed for compiling the migrated SYCL code. The `Common` folder has header files with CUDA helper functions which are migrated to SYCL and the `include` folder has header files with SYCLomatic helper functions.\n",
    "\n",
    "#### Requirements\n",
    "\n",
    "Make sure you have one of the following:\n",
    "- __Development machine with Intel CPU/GPU__ with Intel oneAPI Base Toolkit installed\n",
    "- __Intel Developer Cloud__ account to access the Intel CPUs/GPUs on the cloud\n",
    "\n",
    "### Compiling migrated SYCL code\n",
    "\n",
    "Copy the files mentioned above in `dpct_output` folder on __Nvidia Development Machine__ to __Intel Developer Cloud__\n",
    "\n",
    "To compile the migrated SYCL code we can use the following command:\n",
    "```\n",
    "icpx -fsycl -fsycl-targets=intel_gpu_pvc -I ../../../Common -I ../../../include *.cpp\n",
    "```\n",
    "\n",
    "There may be compile errors based on whether all of the CUDA code was migrated to SYCL or not. The migrated code may also include comments with warning messages, which could help make it easier to fix the errors. These errors have to be manually fixed to get the code to compile.\n",
    "\n",
    "#### Build and Run\n",
    "Select the cell below and click run ▶ to compile and execute the code (expect to see errors):"
   ]
  },
  {
   "cell_type": "code",
   "execution_count": null,
   "id": "0928ee62-95f4-4cdc-85eb-7cc536af5c49",
   "metadata": {},
   "outputs": [],
   "source": [
    "! ./q.sh run_dpct_output.sh"
   ]
  },
  {
   "cell_type": "markdown",
   "id": "641af418-8989-4523-9e21-5bc62f3ac5f3",
   "metadata": {},
   "source": [

    "\n",
    "\n",
    "### Compilation Error in migrated SYCL code\n",
    "\n",
    "```\n",
    "oceanFFT.cpp.dp.cpp:422:30: error: use of undeclared identifier 'CUDART_SQRT_HALF_F'\n",
    "422 |       float h0_re = Er * P * CUDART_SQRT_HALF_F;\n",
     "|\n",                              
    "oceanFFT.cpp.dp.cpp:423:30: error: use of undeclared identifier 'CUDART_SQRT_HALF_F'\n",
    "423 |       float h0_im = Ei * P * CUDART_SQRT_HALF_F;\n",
     "|\n",                              
     "2 errors generated.\n```",
     "\n",
    "Few CUDA headers are not migrated to SYCL which contain some macros which are used in code. It has been changed manually.\n",
    "\n",
    "CUDART_SQRT_HALF_F\n",
    "\n",
    "\n",
    "##### Manually defined as below\n",
    "\n",
    "\n",
    "#define SYCLRT_SQRT_HALF_F 0.707106781f\n",
    "\n",
    "\n",
    "<p style=\"background-color:#cdc\"> Note: OceanFFT CUDA sample includes OpenGL feature as well, Since SYCL does not support OpenGL we do not migrate OpenGL functions.</p>\n",
    "\n",
    "### Commented unmigrated CUDA code\n",
    "\n",
    "Before migration to SYCL had to comment out all openGL headers and functions from CUDA source code which are as below.\n\n",
    "```\n",
    "//#include <GLUT/glut.h>\n",
    "//#include <GL/freeglut.h>\n",
    "//#include <rendercheck_gl.h>\n```",
    "\n",
    "```\n",
    "/*void runGraphicsTest(int argc, char **argv) {\n",
    "// This is necessary in order to achieve optimal performance with OpenGL/CUDA\n",
    "// First initialize OpenGL context, so we can properly set the GL for CUDA.\n",
    "// interop.\n",
    "if (false == initGL(&argc, argv)) {\n",
    "\treturn;\n",
    "}\n",
    "// create vertex buffers and register with CUDA\n",
    "createVBO(&heightVertexBuffer, meshSize * meshSize * sizeof(float));\n",
    "checkCudaErrors(\n",
    "cudaGraphicsGLRegisterBuffer(&cuda_heightVB_resource, heightVertexBuffer,\n",
                                  "\t\t\t\t cudaGraphicsMapFlagsWriteDiscard));\n",

    "createVBO(&slopeVertexBuffer, outputSize);\n",
    "checkCudaErrors(\n",
    "cudaGraphicsGLRegisterBuffer(&cuda_slopeVB_resource, slopeVertexBuffer,\n",
                                  "\t\t\t\t cudaGraphicsMapFlagsWriteDiscard));\n",

    "// create vertex and index buffer for mesh\n",
    "createMeshPositionVBO(&posVertexBuffer, meshSize, meshSize);\n",
    "createMeshIndexBuffer(&indexBuffer, meshSize, meshSize);\n",
    "// register callbacks\n",
    "glutDisplayFunc(display);\n",
    "glutKeyboardFunc(keyboard);\n",
    "glutMouseFunc(mouse);\n",
    "glutMotionFunc(motion);\n",
    "glutReshapeFunc(reshape);\n",
    "gutTimerFunc(REFRESH_DELAY, timerEvent, 0);\n",

    "// start rendering mainloop\n",
    "glutMainLoop();\n",
    "}*/\n```",
    "\n",
    "\n",
    "### Compile and Run the migrated SYCL source\n",
    "\n",
    "Once you have successfully migrated the CUDA source to the SYCL source, verify that the migrated SYCL code is functioning correctly by compiling and running it on the Intel Developer Cloud, which has a variety of Intel CPUs and GPUs available for development.\n",
    "\n",
    "#### Build and Run\n",
    "Select the cell below and click run ▶ to compile and execute the code:"
   ]
  },
  {
   "cell_type": "code",
   "execution_count": 2,
   "id": "c13cee9e-52e2-43e0-9ac4-7748b27562e3",
   "metadata": {},
   "outputs": [
    {
     "name": "stdout",
     "output_type": "stream",
     "text": [
     ]
    }
   ],
   "source": [
    "! ./q.sh run_sycl_migrated.sh"
   ]
  },
  {
   "cell_type": "markdown",
   "id": "657b9672-39ae-4193-8af9-103b58667db4",
   "metadata": {},
   "source": [
    "### SYCL Code Migration Analysis\n",
    "\n",
    "When comparing the CUDA code and migrated SYCL code, we can see that there are some 1:1 equivalent calls, which are listed below in the table:\n",
    "\n",
    "| Functionality|CUDA|SYCL\n",
    "|-|-|-\n",
    "| library header file|`#include <cufft.h>`|`#include <dpct/fft_utils.hpp>`\n",
    "| header file|`#include <cuda_runtime.h>`|`#include <CL/sycl.hpp>` <br> `#include <dpct/dpct.hpp>`\n",
    "| Memory allocation on device| `cudaMalloc((void **)&d_h0, spectrumSize)`| `d_h0 = (sycl::float2 *)sycl::malloc_device(spectrumSize, dpct::get_default_queue()`\n",
    "| FFT Data | `cufftHandle fftPlan`| `dpct::fft::fft_engine_ptr fftPlan`\n",
    "| Copy memory between host and device| `cudaMemcpy(d_A, h_A, mem_size_A, cudaMemcpyHostToDevice)`| `dpct::get_default_queue().memcpy(d_A, h_A, mem_size_A).wait()`\n",
    "| Execute inverse FFT to convert to spatial domain | `cufftExecC2C(fftPlan, d_ht, d_ht, CUFFT_INVERSE)`| `fftPlan->compute<sycl::float2, sycl::float2>(d_ht, d_ht, dpct::fft::fft_direction::backward)`\n",
    "| Create FFT Plan| `cufftPlan2d(&fftPlan, meshSize, meshSize, CUFFT_C2C);`| ` dpct::fft::fft_engine::create(&dpct::get_default_queue(), meshSize, meshSize, dpct::fft::fft_type::complex_float_to_complex_float)`\n",
    "| Free device memory allocation| `cudaFree(d_h0)` | `sycl::free(d_h0, dpct::get_default_queue())`\n",
    "| Free FFT memory allocation| `cufftDestroy(fftPlan)` | `dpct::fft::fft_engine::destroy(fftPlan)`\n",
    "\n",
    "##### The main FFT operation is done using SYCL oneMKL FFT equivalent of CUFFT API's library function as shown below:\n",
    "##### FFT function to perform operation in CUDA code.\n",
    " ```// FFT data \n",
    "cufftHandle fftPlan;\n",
    "// create FFT plan\n",
    "checkCudaErrors(cufftPlan2d(&fftPlan, meshSize, meshSize, CUFFT_C2C));\n",
    "// execute inverse FFT to convert to spatial domain\n",
    "checkCudaErrors(cufftExecC2C(fftPlan, d_ht, d_ht, CUFFT_INVERSE));\n```",
    "\n",
    "##### oneMKL FFT function to perform operation in SYCL code:\n",
    "```// FFT data\n",
    "dpct::fft::fft_engine_ptr fftPlan;\n",
    "// create FFT plan \n",
    "DPCT_CHECK_ERROR(fftPlan = dpct::fft::fft_engine::create(&dpct::get_default_queue(), meshSize, meshSize,dpct::fft::fft_type::complex_float_to_complex_float));\n",
    "// execute inverse FFT to convert to spatial domain\n",
    "checkCudaErrors(cufftExecC2C(fftPlan, d_ht, d_ht, CUFFT_INVERSE));\n```",
    "\n"
   ]
  },
  {
   "cell_type": "markdown",
   "id": "778a1da6-16a9-4cca-9e46-12ae431d04c4",
   "metadata": {},
   "source": [
    "## Source Code\n",
    "\n",
    "This section describes the location of the CUDA source and the contents of different SYCL source code directories in this project.\n",
    "\n",
    "| folder name | source code description\n",
    "| --- | ---\n",
    "| [CUDA github](https://github.com/NVIDIA/cuda-samples/tree/master/Samples/4_CUDA_Libraries/oceanFFT) | Original CUDA Source used for migration\n",
    "| dpct_output | Contains output of SYCLomatic Tool used to migrate SYCL-compliant code from CUDA code. This SYCL code has some unmigrated code that must be manually fixed to get full functionality. (The code does not functionally work as generated.)\n",
    "| sycl_migrated | Contains manually migrated SYCL code from CUDA code.\n",
    "<p style=\"background-color:#cdc\"> Note: OceanFFT CUDA sample includes OpenGL feature as well, Since SYCL does not support OpenGL we do not migrate OpenGL functions.</p>\n"

   ]
  },
  {
   "cell_type": "markdown",
   "id": "45a5f463-190f-4ebd-9253-505afa1d5046",
   "metadata": {},
   "source": [
    "## Summary\n",
    "\n",
    "In this module we have learnt how to migrate simple CUDA source to SYCL source to get functionality using `SYCLomatic` and then analized/optimized the SYCL source by manually coding. "
   ]
  }
 ],
 "metadata": {
  "kernelspec": {
   "display_name": "Python 3 (ipykernel)",
   "language": "python",
   "name": "python3"
  },
  "language_info": {
   "codemirror_mode": {
    "name": "ipython",
    "version": 3
   },
   "file_extension": ".py",
   "mimetype": "text/x-python",
   "name": "python",
   "nbconvert_exporter": "python",
   "pygments_lexer": "ipython3",
   "version": "3.11.5"
  }
 },
 "nbformat": 4,
 "nbformat_minor": 5
}
