{
 "cells": [
  {
   "cell_type": "markdown",
   "id": "16c34bb8-6bc5-44fd-b023-af4e670f66a4",
   "metadata": {
    "tags": []
   },
   "source": [
    "# CUDA to SYCL Migration"
   ]
  },
  {
   "cell_type": "markdown",
   "id": "03a54bc8-725c-4c6f-beb8-4946337034b8",
   "metadata": {},
   "source": [
    "This course will cover how CUDA code can be migrated to SYCL code using SYCLomatic Tool, starting with Introduction to SYCL migration, SYCL migration process starting with the most basic CUDA example to more complex CUDA projects, migration of CUDA projects with different CUDA features and libraries.\n",
    "\n",
    "- Learning Objectives\n",
    "- Target Audience\n",
    "- Prerequisites\n",
    "- Modules\n",
    "- Resources"
   ]
  },
  {
   "cell_type": "markdown",
   "id": "c04f46e3-0d3c-4498-a4d7-a1ce788fd8d9",
   "metadata": {},
   "source": [
    "## Learning Objectives\n",
    "\n",
    "At the end of this course you will be able to:\n",
    "\n",
    "- Understand the advantages of migrating to SYCL\n",
    "- Migrate a CUDA application to SYCL application and compile/run on different accelerators like CPU or GPU from different vendors."
   ]
  },
  {
   "cell_type": "markdown",
   "id": "51b34834-8bc7-4ea8-a328-2948f3d3dd76",
   "metadata": {},
   "source": [
    "## Target Audience\n",
    "\n",
    "- CUDA Developers\n"
   ]
  },
  {
   "cell_type": "markdown",
   "id": "a81d0b88-380f-4561-bac1-696c2d418de1",
   "metadata": {
    "jp-MarkdownHeadingCollapsed": true,
    "tags": []
   },
   "source": [
    "## Prerequisites\n",
    "- CUDA Programming\n",
    "- SYCL Programming Basics"
   ]
  },
  {
   "cell_type": "markdown",
   "id": "5b766aff-d5a4-4d1d-abef-b5660b6b5502",
   "metadata": {
    "jp-MarkdownHeadingCollapsed": true,
    "tags": []
   },
   "source": [
    "## Modules\n",
    "\n",
    "| Modules | Description \n",
    "|---|---\n",
    "|[SYCL Migration - Introduction](00_SYCL_Migration_Introduction/00_SYCL_Migration_Introduction.ipynb)| + CUDA to SYCL Migration Introduction<br>+ SYCLomatic Tool Introduction and Usage<br>+ Migration Workflow Overview\n",
    "|[SYCLMigration - Simple VectorAdd](01_SYCL_Migration_Simple_VectorAdd/01_SYCL_Migration_Simple_VectorAdd.ipynb)|+ Learn how to migrate a simple single source CUDA code to SYCL.\n",
    "|[SYCLMigration - Sorting Networks](02_SYCL_Migration_SortingNetworks/02_SYCL_Migration_SortingNetworks.ipynb)|+ Learn how to migrate a CUDA project with multiple sources files that uses Makefile for the project.\n",
    "|[SYCLMigration - Jacobi Iterative](03_SYCL_Migration_Jacobi_Iterative/03_SYCL_Migration_Jacobi_Iterative.ipynb)|+ Learn how to migrate a CUDA project that using CUDA features to access the GPU hardware like Shared Local Memory, warps and atomics in kernel code.\n",
    "|[SYCLMigration - Matrix Multiplication with CuBlas library](04_SYCL_Migration_MatrixMul_CuBlas/04_SYCL_Migration_MatrixMul_CuBlas.ipynb)|+ Learn how to migrate a CUDA project that uses CUDA library like cuBLAS.\n",
    "|[SYCLMigration - OceanFFT](05_SYCL_Migration_OceanFFT/05_SYCL_Migration_OceanFFT.ipynb)|+ Learn how to migrate a CUDA project that uses FFT from oneMKL library.\n",
    "|[SYCLMigration - SimpleCUDAGraphs](06_SYCL_Migration_SimpleCUDAGraphs/06_SYCL_Migration_SimpleCUDAGraphs.ipynb)|+ Learn how to migrate a CUDA Graph feature project manually using SYCL Taskflow and SYCL Graphs.",
    "|[SYCLMigration - MonteCarloMultiGPU](07_SYCL_Migration_MonteCarloMultiGPU/07_SYCL_Migration_MonteCarloMultiGPU.ipynb)|+ Learn how to migrate a CUDA RNG feature project manually using SYCL."
   ]
  },
  {
   "cell_type": "markdown",
   "id": "5e0872a2-80ba-49c5-bf7e-b03787b0740f",
   "metadata": {
    "tags": []
   },
   "source": [
    "# Resources\n",
    "\n",
    "- [SYCLomatic Tool Download](https://github.com/oneapi-src/SYCLomatic/releases)\n",
    "- [One Stop Portal for CUDA to SYCL Migration](https://www.intel.com/content/www/us/en/developer/tools/oneapi/training/migrate-from-cuda-to-cpp-with-sycl.html)\n",
    "- [SYCL2020 Spectifcation](https://registry.khronos.org/SYCL/specs/sycl-2020/pdf/sycl-2020.pdf)\n",
    "- [SYCL Code Samples](https://github.com/oneapi-src/oneAPI-samples/tree/master/DirectProgramming/C%2B%2BSYCL)\n",
    "- [Intel GPU Optimization Guide](https://www.intel.com/content/www/us/en/develop/documentation/oneapi-gpu-optimization-guide/top.html)"
   ]
  }
 ],
 "metadata": {
  "kernelspec": {
   "display_name": "Python 3 (ipykernel)",
   "language": "python",
   "name": "python3"
  },
  "language_info": {
   "codemirror_mode": {
    "name": "ipython",
    "version": 3
   },
   "file_extension": ".py",
   "mimetype": "text/x-python",
   "name": "python",
   "nbconvert_exporter": "python",
   "pygments_lexer": "ipython3",
   "version": "3.11.5"
  }
 },
 "nbformat": 4,
 "nbformat_minor": 5
}
