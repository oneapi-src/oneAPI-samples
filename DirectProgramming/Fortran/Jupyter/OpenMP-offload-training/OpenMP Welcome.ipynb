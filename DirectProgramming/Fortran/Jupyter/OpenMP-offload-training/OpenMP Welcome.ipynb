{
 "cells": [
  {
   "cell_type": "markdown",
   "metadata": {},
   "source": [
    "# Welcome to oneAPI OpenMP* Offload Modules in Fortran\n",
    "\n",
    "***\n",
    "# Developer Training Modules\n",
    "\n",
    "## Module 0 - [Introduction to Jupyter Notebook (Optional) ](../oneAPI_Essentials/00_Introduction_to_Jupyter/Introduction_to_Jupyter.ipynb)\n",
    "`Optional` This module explains how to use Jupyter Notebook which is used in all of the modules to edit and run coding excecises, this can be skipped if you are already familiar with using Jupyter Notebooks.\n",
    "\n",
    "## Module 1 - [Introduction to OpenMP Offload](intro/intro_f.ipynb)\n",
    "The Bootstrapping hands-on exercise introduces the developers to OpenMP offload and getting \"feet wet\" with the tools.  Further, it familiarizes developers with the use of Jupyter notebooks as a front-end for all training exercises.  This workshop is enabled for training on the DevCloud and includes material from [Using Intel® DevCloud with oneAPI Products](https://software.intel.com/en-us/articles/using-intel-devcloud-with-oneapi-products \"Using DPC++ on the DevCloud\") on how to submit batch jobs.\n",
    "\n",
    "## Module 2 - [Managing Data Transfers](datatransfer/datatransfer_f.ipynb)\n",
    "In this hands-on lab the developer will use various OpenMP directives to minimize data transfers between the CPU  host and the GPU target device.\n",
    "\n",
    "## Module 3 - [Utilizing GPU Parallelism](parallelism/parallelism_f.ipynb)\n",
    "In this lab we will attempt to use various OpenMP constructs to maximize parallelism and performance when offloading to GPUs. \n",
    "\n",
    "## Module 4 - [Unified Shared Memory](USM/Unified_Shared_Memory.ipynb)\n",
    "In this module, we will discuss how to implement Unified Shared Memory with OpenMP offload.\n",
    "\n",
    "***\n",
    "\n",
    "# oneAPI Tool Modules\n",
    "\n",
    "## Module 1 - [Demonstration of Intel® Advisor](../oneAPI_Essentials/05_Intel_Advisor/offload_advisor.ipynb)\n",
    "This set of hand-on exercises demonstrates various aspects of Intel® Advisor. The first uses Intel® Advisor to show performance offload opportunities found in a sample application, and then additional command-line options for getting offload advisor results. The second, [roofline analysis](05_Intel_Advisor/roofline_analysis.ipynb), gives an example of roofline analysis and command line options for getting advisor results. For both exercises, the results are rendered inside of the notebook. These notebooks are meant for exploration and familiarization, and do not require any cdoe modification.\n",
    "\n",
    "## Module 2 - [Intel® Vtune™ Profiler on DevCloud](../oneAPI_Essentials/06_Intel_VTune_Profiler/Intel_VTune_Profiler.ipynb)\n",
    "This hands-on exercise demonstrates using Intel® Vtune™ Profiler on the command-line to collect and analyze gpu_hotspots. You will learn how to collect performance metrics and explore the results with the HTML output rendered inside of the notebook.  This module meant for exploration and familiarization, and does not require any code modification.\n",
    "\n",
    "***\n",
    "\n",
    "@Intel Corporation | [\\*Trademark](https://www.intel.com/content/www/us/en/legal/trademarks.html)"
   ]
  }
 ],
 "metadata": {
  "kernelspec": {
   "display_name": "Python 3.7 (Intel® oneAPI)",
   "language": "python",
   "name": "c009-intel_distribution_of_python_3_oneapi-beta05-python"
  },
  "language_info": {
   "codemirror_mode": {
    "name": "ipython",
    "version": 3
   },
   "file_extension": ".py",
   "mimetype": "text/x-python",
   "name": "python",
   "nbconvert_exporter": "python",
   "pygments_lexer": "ipython3",
   "version": "3.9.7"
  }
 },
 "nbformat": 4,
 "nbformat_minor": 4
}
