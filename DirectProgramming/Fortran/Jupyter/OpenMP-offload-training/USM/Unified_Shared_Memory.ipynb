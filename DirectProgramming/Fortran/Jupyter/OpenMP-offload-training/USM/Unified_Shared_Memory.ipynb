{
 "cells": [
  {
   "cell_type": "markdown",
   "metadata": {},
   "source": [
    "# Unified Shared Memory (USM) (Fortran)"
   ]
  },
  {
   "cell_type": "markdown",
   "metadata": {},
   "source": [
    "#### Sections\n",
    "- [Learning Objectives](#Learning-Objectives)\n",
    "- [Allocating Unified Shared Memory](#Allocating-Unified-Shared-Memory)\n",
    "- _Code:_ [Lab Exercise: Shared Memory Allocation ](#Lab-Exercise:-Shared-Memory-Allocation)"
   ]
  },
  {
   "cell_type": "markdown",
   "metadata": {},
   "source": [
    "## Learning Objectives\n",
    "* Use the Unified Shared Memory feature to simplify OpenMP* Offload programming\n",
    "* Understand implicit and explicit way of moving memory using USM\n",
    "\n",
    "### Prerequisites\n",
    "Basic understanding of OpenMP constructs are assumed for this module. You also should have already went through the  [Introduction to OpenMP Offload module](../intro/intro.ipynb) and [Managing Device Data module](../datatransfer/datatransfer.ipynb), where the basics of using the Jupyter notebooks with the Intel® DevCloud and an introduction to the OpenMP `target` and `map` constructs were discussed."
   ]
  },
  {
   "cell_type": "markdown",
   "metadata": {
    "tags": []
   },
   "source": [
    "## What is Unified Shared Memory?\n",
    "\n",
    "Unified Shared Memory (USM) is a tool for data management currently supported by the Intel&reg; Fortran Compiler. USM __simplifies development__ for the programmer when __porting existing code__ to support OpenMP Offload.\n",
    "\n",
    "### Developer View of USM\n",
    "\n",
    "The picture below shows __developer view of memory__ without USM and with USM. \n",
    "\n",
    "With USM, the developer can reference that same memory object in host and device code.  \n",
    "\n",
    "![Developer View of USM](Assets/usm_dev_view.png)\n",
    "\n",
    "***\n",
    "## Allocating Unified Shared Memory\n",
    "In the previous modules, we used the `map` clause with the `target`, `target data`, and `target enter/exit data` pragmas which enabled the mapping of memory between host and device data environments. However, we can also use OpenMP USM routines to simplify the management of host and device memories.\n",
    "\n",
    "### Types of USM\n",
    "\n",
    "USM provides different types of memory to allow both explicit and implicit models for managing memory.\n",
    "\n",
    "Device memory can be allocated for explicit user control of data movement. Host and shared memory are provided to allow implicit accesses from the accelerator device.\n",
    "\n",
    "The following table illustrates the properties of the different USM memories and how they can be allocated. The allocate directive needs to be used prior to the allocate command.\n",
    "\n",
    "|Type | Location | Accessible From |  allocate directive |\n",
    "|:----:|:----:|:----:|:----|\n",
    "|Host | Host | Host or Device | !\\$omp allocate allocator(omp_target_host_mem_alloc) |\n",
    "|Device |Device | Device | !\\$omp allocate allocator(omp_target_device_mem_alloc) |\n",
    "|Shared | Host or Device | Host or Device | !\\$omp allocate allocator(omp_target_shared_mem_alloc) |"
   ]
  },
  {
   "cell_type": "markdown",
   "metadata": {},
   "source": [
    "## Lab Exercise: Shared Memory Allocation \n",
    "\n",
    "In this exercise, you will use the shared allocation routine to highlight the usage of Unified Shared Memory. Shared memory is accessible from both the host and device. Its location is managed by the runtime and can reside on the host and/or the device.\n",
    "\n",
    "The primary source file, main.cpp, is written for you. \n",
    "It includes alloc_func.cpp that you will write out. If you would like to see the contents of main.cpp, execute the following cell.\n"
   ]
  },
  {
   "cell_type": "code",
   "execution_count": null,
   "metadata": {},
   "outputs": [],
   "source": [
    "%%writefile lab/main.f90\n",
    "!==============================================================\n",
    "! Copyright © 2020 Intel Corporation\n",
    "!\n",
    "! SPDX-License-Identifier: MIT\n",
    "! =============================================================\n",
    "program main\n",
    "    use omp_lib\n",
    "    integer, parameter :: N=16\n",
    "    integer :: i\n",
    "    integer, allocatable :: x(:)\n",
    "    logical :: is_cpu = .true.\n",
    "\n",
    "    !$omp allocate allocator(omp_target_shared_mem_alloc)\n",
    "    allocate(x(N)) \n",
    "    \n",
    "    do i=1,N\n",
    "        x(i) = i\n",
    "    end do  \n",
    "\n",
    "    !$omp target map(tofrom: is_cpu) has_device_addr(x)\n",
    "    !$omp teams distribute parallel do\n",
    "    do i=1,N\n",
    "        if ((i==1) .and. (.not.(omp_is_initial_device()))) is_cpu=.false.\n",
    "        x(i) = x(i) * 2\n",
    "    end do\n",
    "    !$omp end target\n",
    "        \n",
    "    if (is_cpu) then\n",
    "        print *, \"Running on CPU\"\n",
    "    else\n",
    "        print *, \"Running on GPU\"\n",
    "    end if\n",
    "        \n",
    "    do i=1,N\n",
    "        print *, x(i)\n",
    "    end do\n",
    "    \n",
    "    deallocate(x)\n",
    "end program main"
   ]
  },
  {
   "cell_type": "markdown",
   "metadata": {},
   "source": [
    "### Compile the Code\n",
    "Next, compile the code using *compile_f.sh*. If you would like to see the contents of compile_f.sh execute the following cell."
   ]
  },
  {
   "cell_type": "code",
   "execution_count": null,
   "metadata": {},
   "outputs": [],
   "source": [
    "# Optional: Run this cell to see the contents of compile_f.sh\n",
    "%pycat compile_f.sh"
   ]
  },
  {
   "cell_type": "markdown",
   "metadata": {},
   "source": [
    "Execute the following cell to perform the compilation"
   ]
  },
  {
   "cell_type": "code",
   "execution_count": null,
   "metadata": {},
   "outputs": [],
   "source": [
    "!chmod 755 compile_f.sh; ./compile_f.sh;"
   ]
  },
  {
   "cell_type": "markdown",
   "metadata": {},
   "source": [
    "### Execute the code\n",
    "Next, run the code using the script *run.sh*."
   ]
  },
  {
   "cell_type": "code",
   "execution_count": null,
   "metadata": {},
   "outputs": [],
   "source": [
    "# Optional: Run this cell to see the contents of run.sh\n",
    "%pycat run.sh"
   ]
  },
  {
   "cell_type": "markdown",
   "metadata": {},
   "source": [
    "Execute the following cell to execute main.cpp. Look for the passed message.\n",
    "\n",
    "_If the Jupyter cells are not responsive or if they error out when you compile the samples, please restart the Kernel and compile the samples again_"
   ]
  },
  {
   "cell_type": "code",
   "execution_count": null,
   "metadata": {},
   "outputs": [],
   "source": [
    "! chmod 755 q; chmod 755 run.sh;if [ -x \"$(command -v qsub)\" ]; then ./q run.sh; else ./run.sh; fi"
   ]
  },
  {
   "cell_type": "markdown",
   "metadata": {},
   "source": [
    "# Summary\n",
    "USM makes it easy to use OpenMP Offload. USM allows a simple implicit data movement approach to get functional quickly. USM also provides controlled data movement with explicit approach."
   ]
  },
  {
   "cell_type": "markdown",
   "metadata": {},
   "source": [
    "<html><body><span style=\"color:Red\"><h1>Reset Notebook</h1></span></body></html>\n",
    "\n",
    "##### Should you be experiencing any issues with your notebook or just want to start fresh run the below cell."
   ]
  },
  {
   "cell_type": "code",
   "execution_count": null,
   "metadata": {
    "jupyter": {
     "source_hidden": true
    },
    "tags": []
   },
   "outputs": [],
   "source": [
    "from IPython.display import display, Markdown, clear_output\n",
    "import ipywidgets as widgets\n",
    "button = widgets.Button(\n",
    "    description='Reset Notebook',\n",
    "    disabled=False,\n",
    "    button_style='', # 'success', 'info', 'warning', 'danger' or ''\n",
    "    tooltip='This will update this notebook, overwriting any changes.',\n",
    "    icon='check' # (FontAwesome names without the `fa-` prefix)\n",
    ")\n",
    "out = widgets.Output()\n",
    "def on_button_clicked(_):\n",
    "      # \"linking function with output\"\n",
    "      with out:\n",
    "          # what happens when we press the button\n",
    "          clear_output()\n",
    "          !rsync -a --size-only /data/oneapi_workshop/OpenMP_Offload/datatransfer/ ~/OpenMP_Offload/datatransfer\n",
    "          print('Notebook reset -- now click reload on browser.')\n",
    "# linking button and function together using a button's method\n",
    "button.on_click(on_button_clicked)\n",
    "# displaying button and its output together\n",
    "widgets.VBox([button,out])"
   ]
  },
  {
   "cell_type": "markdown",
   "metadata": {
    "tags": []
   },
   "source": [
    "***\n",
    "\n",
    "@Intel Corporation | [\\*Trademark](https://www.intel.com/content/www/us/en/legal/trademarks.html)"
   ]
  }
 ],
 "metadata": {
  "kernelspec": {
   "display_name": "Python 3.7 (Intel® oneAPI)",
   "language": "python",
   "name": "c009-intel_distribution_of_python_3_oneapi-beta05-python"
  },
  "language_info": {
   "codemirror_mode": {
    "name": "ipython",
    "version": 3
   },
   "file_extension": ".py",
   "mimetype": "text/x-python",
   "name": "python",
   "nbconvert_exporter": "python",
   "pygments_lexer": "ipython3",
   "version": "3.9.7"
  }
 },
 "nbformat": 4,
 "nbformat_minor": 4
}
